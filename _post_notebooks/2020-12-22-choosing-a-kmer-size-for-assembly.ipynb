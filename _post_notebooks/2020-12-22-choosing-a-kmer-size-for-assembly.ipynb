{
 "cells": [
  {
   "cell_type": "markdown",
   "metadata": {},
   "source": [
    "---\n",
    "layout: post  \n",
    "---"
   ]
  },
  {
   "cell_type": "markdown",
   "metadata": {},
   "source": [
    "When performing kmer-based analyses, the choice of k is a critical."
   ]
  },
  {
   "cell_type": "markdown",
   "metadata": {},
   "source": [
    "When setting the lower k-limit, the key parameter that I'm interested in is the error rate."
   ]
  },
  {
   "cell_type": "markdown",
   "metadata": {},
   "source": [
    "If the accuracy of a sequencer is 90%, then we expect to see an error for every 1 in 10 bases."
   ]
  },
  {
   "cell_type": "markdown",
   "metadata": {},
   "source": [
    "While the actual error process is a [Poisson distribution](https://en.wikipedia.org/wiki/Poisson_distribution), if we assume the simplest possible scenario that errors are evenly spaced and thus a 90% accuracy guarantees that an error occurs every 10th base, we would expect that every intervening 9 base-pairs would be correct."
   ]
  },
  {
   "cell_type": "markdown",
   "metadata": {},
   "source": [
    "We can use these accurate 9mers as our kmers."
   ]
  },
  {
   "cell_type": "markdown",
   "metadata": {},
   "source": [
    "If we sequence deeply enough to ensure that we have high redundancy of sample coverage, we can use the count information of the kmers to infer which kmers are likely to be correct[^1] and which are likely to erroneous[^2]\n",
    "\n",
    "[^1]: Those that appear most frequently\n",
    "[^2]: Those that appear least frequently, potentially only once"
   ]
  },
  {
   "cell_type": "markdown",
   "metadata": {},
   "source": [
    "If we know our sequencing platform is no better than random, and makes an error 50% of the time, then we would expect that every other, or every 2nd, observed base is a mistake."
   ]
  },
  {
   "cell_type": "markdown",
   "metadata": {},
   "source": [
    "Choosing a k-length of 1 would result in 50% of your data being reliable, whereas if we went with the next odd k-length of 3, it's possible that we wouldn't observe any instances of the true original sequence."
   ]
  },
  {
   "cell_type": "markdown",
   "metadata": {},
   "source": [
    "$$ \\text{lower_bound_k} = 1/\\text{error rate} - 1 $$\n",
    "\n",
    "$$ (\\text{lower_bound_k} + 1) * \\text{error rate} = 1 $$\n",
    "\n",
    "$$ \\text{error rate} = 1/(\\text{lower_bound_k} + 1) $$"
   ]
  },
  {
   "cell_type": "code",
   "execution_count": 32,
   "metadata": {},
   "outputs": [
    {
     "name": "stdout",
     "output_type": "stream",
     "text": [
      "   error_rate = 0.25\n",
      "lower_bound_k = 3\n",
      "\n",
      "\n",
      "   error_rate = 0.17\n",
      "lower_bound_k = 5\n",
      "\n",
      "\n",
      "   error_rate = 0.12\n",
      "lower_bound_k = 7\n",
      "\n",
      "\n",
      "   error_rate = 0.08\n",
      "lower_bound_k = 11\n",
      "\n",
      "\n",
      "   error_rate = 0.07\n",
      "lower_bound_k = 13\n",
      "\n",
      "\n",
      "   error_rate = 0.06\n",
      "lower_bound_k = 17\n",
      "\n",
      "\n",
      "   error_rate = 0.05\n",
      "lower_bound_k = 19\n",
      "\n",
      "\n",
      "   error_rate = 0.04\n",
      "lower_bound_k = 23\n",
      "\n",
      "\n",
      "   error_rate = 0.03\n",
      "lower_bound_k = 29\n",
      "\n",
      "\n",
      "   error_rate = 0.03\n",
      "lower_bound_k = 31\n",
      "\n",
      "\n",
      "   error_rate = 0.03\n",
      "lower_bound_k = 37\n",
      "\n",
      "\n",
      "   error_rate = 0.02\n",
      "lower_bound_k = 41\n",
      "\n",
      "\n",
      "   error_rate = 0.02\n",
      "lower_bound_k = 43\n",
      "\n",
      "\n",
      "   error_rate = 0.02\n",
      "lower_bound_k = 47\n",
      "\n",
      "\n",
      "   error_rate = 0.02\n",
      "lower_bound_k = 53\n",
      "\n",
      "\n",
      "   error_rate = 0.02\n",
      "lower_bound_k = 59\n",
      "\n",
      "\n",
      "   error_rate = 0.02\n",
      "lower_bound_k = 61\n",
      "\n",
      "\n",
      "   error_rate = 0.01\n",
      "lower_bound_k = 67\n",
      "\n",
      "\n",
      "   error_rate = 0.01\n",
      "lower_bound_k = 71\n",
      "\n",
      "\n",
      "   error_rate = 0.01\n",
      "lower_bound_k = 73\n",
      "\n",
      "\n",
      "   error_rate = 0.01\n",
      "lower_bound_k = 79\n",
      "\n",
      "\n",
      "   error_rate = 0.01\n",
      "lower_bound_k = 83\n",
      "\n",
      "\n",
      "   error_rate = 0.01\n",
      "lower_bound_k = 89\n",
      "\n",
      "\n",
      "   error_rate = 0.01\n",
      "lower_bound_k = 97\n",
      "\n",
      "\n",
      "   error_rate = 0.01\n",
      "lower_bound_k = 101\n",
      "\n",
      "\n"
     ]
    }
   ],
   "source": [
    "import Primes\n",
    "for lower_bound_k in Primes.primes(3, 101)\n",
    "    error_rate = round(1/(lower_bound_k + 1), digits=2)\n",
    "    println(lpad(\"error_rate = $(error_rate)\", 20))\n",
    "    @show lower_bound_k\n",
    "    println(\"\\n\")\n",
    "end"
   ]
  },
  {
   "cell_type": "markdown",
   "metadata": {},
   "source": [
    "In order to determine a suitable upper limit for k, let's work under these assumptions:\n",
    "1. Every species has a genome equal in size to the largest currently known genome\n",
    "    - 150-680 gigabases [^3]\n",
    "1. We accept that there are as many species as whatever the largest estimate in the literature exists\n",
    "    - 1 trillion species [^4]\n",
    "   \n",
    "    \n",
    "[^3]: https://blogs.biomedcentral.com/on-biology/2014/03/20/worlds-largest-sequenced-genome-unlocking-the-loblolly-pine/\n",
    "[^4]: https://www.pnas.org/content/113/21/5970"
   ]
  },
  {
   "cell_type": "code",
   "execution_count": 33,
   "metadata": {},
   "outputs": [
    {
     "data": {
      "text/plain": [
       "680000000000"
      ]
     },
     "execution_count": 33,
     "metadata": {},
     "output_type": "execute_result"
    }
   ],
   "source": [
    "largest_known_genome = 680_000_000_000"
   ]
  },
  {
   "cell_type": "code",
   "execution_count": 37,
   "metadata": {},
   "outputs": [
    {
     "data": {
      "text/plain": [
       "1000000000000"
      ]
     },
     "execution_count": 37,
     "metadata": {},
     "output_type": "execute_result"
    }
   ],
   "source": [
    "# round up to the next power\n",
    "largest_known_genome = nextpow(10, largest_known_genome)"
   ]
  },
  {
   "cell_type": "code",
   "execution_count": 38,
   "metadata": {},
   "outputs": [
    {
     "data": {
      "text/plain": [
       "1000000000000"
      ]
     },
     "execution_count": 38,
     "metadata": {},
     "output_type": "execute_result"
    }
   ],
   "source": [
    "highest_diversity_estimate = 1_000_000_000_000"
   ]
  },
  {
   "cell_type": "code",
   "execution_count": 39,
   "metadata": {},
   "outputs": [
    {
     "data": {
      "text/plain": [
       "1000000000000000000000000"
      ]
     },
     "execution_count": 39,
     "metadata": {},
     "output_type": "execute_result"
    }
   ],
   "source": [
    "unique_base_potential = BigInt(largest_known_genome) * BigInt(highest_diversity_estimate)"
   ]
  },
  {
   "cell_type": "markdown",
   "metadata": {},
   "source": [
    "If our sequences have 4 unique bases that can occur anywhere in the genome, we can take a logarithm to the 4th power to estimate what k-length we would need to never have a kmer repeat if the genome did not have repetitive elements."
   ]
  },
  {
   "cell_type": "code",
   "execution_count": 42,
   "metadata": {},
   "outputs": [
    {
     "data": {
      "text/plain": [
       "39.86313713864834817444383315387268211037797671629496734465707674979121731930363"
      ]
     },
     "execution_count": 42,
     "metadata": {},
     "output_type": "execute_result"
    }
   ],
   "source": [
    "log(4, unique_base_potential)"
   ]
  },
  {
   "cell_type": "markdown",
   "metadata": {},
   "source": [
    "If we assume that we won't be working in the worst-case scenario, we can utilize kmers of length 31 with a fair level of confidence that it will sufficiently disambiguate unique regions of the genome"
   ]
  },
  {
   "cell_type": "markdown",
   "metadata": {},
   "source": [
    "This coincides nicely with the fact that if we encode kmers as vectors of 2 bits, where the 2 bits can represent:\n",
    "- `00 => A`\n",
    "- `01 => C`\n",
    "- `10 => G`\n",
    "- `11 => T`\n",
    "\n",
    "and as such we can chain up to 32 set of 2 bits into an unsigned 64 bit integer. The 64 bit integer coincides nicely with the current 64bit CPU architecture that works with 64 bit integers as the native datatype"
   ]
  },
  {
   "cell_type": "markdown",
   "metadata": {},
   "source": [
    "If we take these two pieces together:\n",
    "1. the lower bound\n",
    "    - depends on accuracy of the sequencing instrument\n",
    "2. upper uniqueness bound\n",
    "    - depends on the total genetic diversity in our global pool of consideration\n",
    "    \n",
    "Then we arrive at a lower k-length baseline that we can use to begin iterative rounds of correction and k-extension until we reach k=31. After reaching k=31, it is likely that we can resolve the remaining structure of the graph by tracing long-read data through the graph."
   ]
  },
  {
   "cell_type": "markdown",
   "metadata": {},
   "source": [
    "I'll explain the read threading as a path disambiguation strategy in a future post"
   ]
  }
 ],
 "metadata": {
  "kernelspec": {
   "display_name": "Julia 1.5.3",
   "language": "julia",
   "name": "julia-1.5"
  },
  "language_info": {
   "file_extension": ".jl",
   "mimetype": "application/julia",
   "name": "julia",
   "version": "1.5.3"
  }
 },
 "nbformat": 4,
 "nbformat_minor": 4
}
