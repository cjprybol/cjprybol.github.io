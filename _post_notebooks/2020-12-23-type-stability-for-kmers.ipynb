{
 "cells": [
  {
   "cell_type": "markdown",
   "metadata": {},
   "source": [
    "---\n",
    "layout: post  \n",
    "---"
   ]
  },
  {
   "cell_type": "markdown",
   "metadata": {},
   "source": [
    "While working on [a previous post about kmer sizes, error rates, and coverage]({{ site.baseurl }}{% post_url 2020-12-19-observed-kmers-vs-error-rate %}), I found a type-stability issue in a function that I was writing."
   ]
  },
  {
   "cell_type": "markdown",
   "metadata": {},
   "source": [
    "The subject of the is described [here](https://docs.julialang.org/en/v1/manual/performance-tips/#man-performance-value-type) in the Julia language manual."
   ]
  },
  {
   "cell_type": "markdown",
   "metadata": {},
   "source": [
    "The core of the issue is that Julia's compilation is centered around the _types_ of the inputs, not their values"
   ]
  },
  {
   "cell_type": "markdown",
   "metadata": {},
   "source": [
    "Let's demonstrate this through a few examples"
   ]
  },
  {
   "cell_type": "code",
   "execution_count": 1,
   "metadata": {},
   "outputs": [
    {
     "name": "stderr",
     "output_type": "stream",
     "text": [
      "\u001b[32m\u001b[1m   Updating\u001b[22m\u001b[39m registry at `~/.julia/registries/General`\n"
     ]
    },
    {
     "name": "stdout",
     "output_type": "stream",
     "text": [
      "\u001b[?25l    "
     ]
    },
    {
     "name": "stderr",
     "output_type": "stream",
     "text": [
      "\u001b[32m\u001b[1m   Updating\u001b[22m\u001b[39m git-repo `https://github.com/JuliaRegistries/General.git`\n"
     ]
    },
    {
     "name": "stdout",
     "output_type": "stream",
     "text": [
      "\u001b[2K\u001b[?25h[1mFetching:\u001b[22m\u001b[39m [========================================>]  100.0 %"
     ]
    },
    {
     "name": "stderr",
     "output_type": "stream",
     "text": [
      "\u001b[32m\u001b[1m  Resolving\u001b[22m\u001b[39m package versions...\n",
      "\u001b[32m\u001b[1mNo Changes\u001b[22m\u001b[39m to `~/.julia/environments/v1.5/Project.toml`\n",
      "\u001b[32m\u001b[1mNo Changes\u001b[22m\u001b[39m to `~/.julia/environments/v1.5/Manifest.toml`\n"
     ]
    }
   ],
   "source": [
    "import Pkg\n",
    "pkgs = [\n",
    "    \"BioSequences\",\n",
    "    \"Random\",\n",
    "    \"BenchmarkTools\",\n",
    "    \"Primes\"\n",
    "]\n",
    "\n",
    "Pkg.add(pkgs)\n",
    "for pkg in pkgs\n",
    "    eval(Meta.parse(\"import $pkg\"))\n",
    "end"
   ]
  },
  {
   "cell_type": "markdown",
   "metadata": {},
   "source": [
    "Let's say we would like a kmer of length `3`"
   ]
  },
  {
   "cell_type": "code",
   "execution_count": 2,
   "metadata": {},
   "outputs": [
    {
     "data": {
      "text/plain": [
       "DNA 3-mer:\n",
       "ACG"
      ]
     },
     "execution_count": 2,
     "metadata": {},
     "output_type": "execute_result"
    }
   ],
   "source": [
    "kmer = BioSequences.DNAMer(\"ACG\")"
   ]
  },
  {
   "cell_type": "markdown",
   "metadata": {},
   "source": [
    "While this kmer has a length of `3`, the actual data type of the kmer is something entirely different"
   ]
  },
  {
   "cell_type": "code",
   "execution_count": 3,
   "metadata": {},
   "outputs": [
    {
     "data": {
      "text/plain": [
       "BioSequences.Mer{BioSequences.DNAAlphabet{2},3}"
      ]
     },
     "execution_count": 3,
     "metadata": {},
     "output_type": "execute_result"
    }
   ],
   "source": [
    "typeof(kmer)"
   ]
  },
  {
   "cell_type": "markdown",
   "metadata": {},
   "source": [
    "As shown above, the type of this length `3` kmer is a composite type consisting of the alphabet `BioSequences.DNAAlphabet{2}` and the length `3`"
   ]
  },
  {
   "cell_type": "markdown",
   "metadata": {},
   "source": [
    "If we want a function that will return every 3-mer in a sequence, passing an argument `kmer_size` of 3 is insufficient for the Julia language to unambiguously know the return type ahead of time, which would be `BioSequences.Mer{BioSequences.DNAAlphabet{2},3}`"
   ]
  },
  {
   "cell_type": "markdown",
   "metadata": {},
   "source": [
    "The reason for this is that if we pass a _value_ of `k=3`, the datatype of 3 is an integer"
   ]
  },
  {
   "cell_type": "code",
   "execution_count": 4,
   "metadata": {},
   "outputs": [
    {
     "data": {
      "text/plain": [
       "Int64"
      ]
     },
     "execution_count": 4,
     "metadata": {},
     "output_type": "execute_result"
    }
   ],
   "source": [
    "typeof(3)"
   ]
  },
  {
   "cell_type": "markdown",
   "metadata": {},
   "source": [
    "An integer can hold any value between the minimum and maximum values that can be stored the datatype"
   ]
  },
  {
   "cell_type": "code",
   "execution_count": 5,
   "metadata": {},
   "outputs": [
    {
     "data": {
      "text/plain": [
       "-9223372036854775808:9223372036854775807"
      ]
     },
     "execution_count": 5,
     "metadata": {},
     "output_type": "execute_result"
    }
   ],
   "source": [
    "typemin(Int):typemax(Int)"
   ]
  },
  {
   "cell_type": "markdown",
   "metadata": {},
   "source": [
    "While changing the value of an integer does not change the datatype, changing the value of k _DOES_ change the datatype of a kmer (as it is currently designed and implemented in the BioSequences codebase in Julia)"
   ]
  },
  {
   "cell_type": "code",
   "execution_count": 6,
   "metadata": {},
   "outputs": [
    {
     "name": "stdout",
     "output_type": "stream",
     "text": [
      "Integers:\n",
      "type_1 = typeof(3) = Int64\n",
      "type_2 = typeof(4) = Int64\n",
      "type_1 == type_2 = true\n",
      "\n",
      "Kmers:\n",
      "type_1 = typeof(BioSequences.DNAMer(\"ACG\")) = BioSequences.Mer{BioSequences.DNAAlphabet{2},3}\n",
      "type_2 = typeof(BioSequences.DNAMer(\"ACGT\")) = BioSequences.Mer{BioSequences.DNAAlphabet{2},4}\n",
      "type_1 != type_2 = true\n"
     ]
    }
   ],
   "source": [
    "println(\"Integers:\")\n",
    "@show type_1 = typeof(3);\n",
    "@show type_2 = typeof(4);\n",
    "@show type_1 == type_2;\n",
    "\n",
    "println(\"\")\n",
    "println(\"Kmers:\")\n",
    "@show type_1 = typeof(BioSequences.DNAMer(\"ACG\"));\n",
    "@show type_2 = typeof(BioSequences.DNAMer(\"ACGT\"));\n",
    "@show type_1 != type_2;"
   ]
  },
  {
   "cell_type": "markdown",
   "metadata": {},
   "source": [
    "Let's demonstrate how this plays out in terms of Julia type-inference and runtime"
   ]
  },
  {
   "cell_type": "markdown",
   "metadata": {},
   "source": [
    "First, we will set our k parameter and generate a random sequence"
   ]
  },
  {
   "cell_type": "code",
   "execution_count": 7,
   "metadata": {},
   "outputs": [
    {
     "data": {
      "text/plain": [
       "10nt DNA Sequence:\n",
       "TCGTCCCAGG"
      ]
     },
     "execution_count": 7,
     "metadata": {},
     "output_type": "execute_result"
    }
   ],
   "source": [
    "k = 3\n",
    "sequence = BioSequences.randdnaseq(Random.seed!(1), 10)"
   ]
  },
  {
   "cell_type": "markdown",
   "metadata": {},
   "source": [
    "Next we will define a function that takes the k-size and sequence as inputs, and returns the set of all kmers observed as the output"
   ]
  },
  {
   "cell_type": "code",
   "execution_count": 8,
   "metadata": {},
   "outputs": [
    {
     "data": {
      "text/plain": [
       "assess_kmers_1 (generic function with 1 method)"
      ]
     },
     "execution_count": 8,
     "metadata": {},
     "output_type": "execute_result"
    }
   ],
   "source": [
    "function assess_kmers_1(k, sequence)\n",
    "    KMER_TYPE = BioSequences.DNAMer{k}\n",
    "    kmers = Set{KMER_TYPE}()\n",
    "    for kmer_set in BioSequences.each(KMER_TYPE, sequence)\n",
    "        push!(kmers, BioSequences.canonical(kmer_set.fw))\n",
    "    end\n",
    "    return kmers\n",
    "end"
   ]
  },
  {
   "cell_type": "code",
   "execution_count": 9,
   "metadata": {},
   "outputs": [
    {
     "data": {
      "text/plain": [
       "Set{BioSequences.Mer{BioSequences.DNAAlphabet{2},3}} with 8 elements:\n",
       "  ACG\n",
       "  GAC\n",
       "  CCC\n",
       "  GGA\n",
       "  CGA\n",
       "  AGG\n",
       "  CAG\n",
       "  CCA"
      ]
     },
     "execution_count": 9,
     "metadata": {},
     "output_type": "execute_result"
    }
   ],
   "source": [
    "assess_kmers_1(k, sequence)"
   ]
  },
  {
   "cell_type": "markdown",
   "metadata": {},
   "source": [
    "We can see that the function executed without error and returned our desired result, so there is no issue with correctness of this function"
   ]
  },
  {
   "cell_type": "markdown",
   "metadata": {},
   "source": [
    "However, if we use Julia's built in `@code_warntype` to assess the type-inferring of the function, we can see the issue"
   ]
  },
  {
   "cell_type": "code",
   "execution_count": 10,
   "metadata": {},
   "outputs": [
    {
     "name": "stdout",
     "output_type": "stream",
     "text": [
      "Variables\n",
      "  #self#\u001b[36m::Core.Compiler.Const(assess_kmers_1, false)\u001b[39m\n",
      "  k\u001b[36m::Int64\u001b[39m\n",
      "  sequence\u001b[36m::BioSequences.LongSequence{BioSequences.DNAAlphabet{4}}\u001b[39m\n",
      "  KMER_TYPE\u001b[91m\u001b[1m::Type{BioSequences.Mer{BioSequences.DNAAlphabet{2},_A}} where _A\u001b[22m\u001b[39m\n",
      "  kmers\u001b[91m\u001b[1m::Set{_A} where _A\u001b[22m\u001b[39m\n",
      "  @_6\u001b[33m\u001b[1m::Union{Nothing, Tuple{BioSequences.MerIterResult,Tuple{Int64,Any,Any,Any}}}\u001b[22m\u001b[39m\n",
      "  kmer_set\u001b[91m\u001b[1m::BioSequences.MerIterResult\u001b[22m\u001b[39m\n",
      "\n",
      "Body\u001b[91m\u001b[1m::Set{_A} where _A\u001b[22m\u001b[39m\n",
      "\u001b[90m1 ─\u001b[39m %1  = BioSequences.DNAMer\u001b[36m::Core.Compiler.Const(BioSequences.Mer{BioSequences.DNAAlphabet{2},K} where K, false)\u001b[39m\n",
      "\u001b[90m│  \u001b[39m       (KMER_TYPE = Core.apply_type(%1, k))\n",
      "\u001b[90m│  \u001b[39m %3  = Core.apply_type(Main.Set, KMER_TYPE)\u001b[91m\u001b[1m::Type{Set{_A}} where _A\u001b[22m\u001b[39m\n",
      "\u001b[90m│  \u001b[39m       (kmers = (%3)())\n",
      "\u001b[90m│  \u001b[39m %5  = BioSequences.each\u001b[36m::Core.Compiler.Const(BioSequences.each, false)\u001b[39m\n",
      "\u001b[90m│  \u001b[39m %6  = KMER_TYPE\u001b[91m\u001b[1m::Type{BioSequences.Mer{BioSequences.DNAAlphabet{2},_A}} where _A\u001b[22m\u001b[39m\n",
      "\u001b[90m│  \u001b[39m %7  = (%5)(%6, sequence)\u001b[91m\u001b[1m::BioSequences.EveryMerIterator{_A,BioSequences.LongSequence{BioSequences.DNAAlphabet{4}}} where _A<:BioSequences.AbstractMer\u001b[22m\u001b[39m\n",
      "\u001b[90m│  \u001b[39m       (@_6 = Base.iterate(%7))\n",
      "\u001b[90m│  \u001b[39m %9  = (@_6 === nothing)\u001b[36m::Bool\u001b[39m\n",
      "\u001b[90m│  \u001b[39m %10 = Base.not_int(%9)\u001b[36m::Bool\u001b[39m\n",
      "\u001b[90m└──\u001b[39m       goto #4 if not %10\n",
      "\u001b[90m2 ┄\u001b[39m %12 = @_6::Tuple{BioSequences.MerIterResult,Tuple{Int64,Any,Any,Any}}\u001b[91m\u001b[1m::Tuple{BioSequences.MerIterResult,Tuple{Int64,Any,Any,Any}}\u001b[22m\u001b[39m\n",
      "\u001b[90m│  \u001b[39m       (kmer_set = Core.getfield(%12, 1))\n",
      "\u001b[90m│  \u001b[39m %14 = Core.getfield(%12, 2)\u001b[91m\u001b[1m::Tuple{Int64,Any,Any,Any}\u001b[22m\u001b[39m\n",
      "\u001b[90m│  \u001b[39m %15 = kmers\u001b[91m\u001b[1m::Set{_A} where _A\u001b[22m\u001b[39m\n",
      "\u001b[90m│  \u001b[39m %16 = BioSequences.canonical\u001b[36m::Core.Compiler.Const(BioSequences.canonical, false)\u001b[39m\n",
      "\u001b[90m│  \u001b[39m %17 = Base.getproperty(kmer_set, :fw)\u001b[91m\u001b[1m::BioSequences.AbstractMer\u001b[22m\u001b[39m\n",
      "\u001b[90m│  \u001b[39m %18 = (%16)(%17)\u001b[91m\u001b[1m::BioSequences.AbstractMer\u001b[22m\u001b[39m\n",
      "\u001b[90m│  \u001b[39m       Main.push!(%15, %18)\n",
      "\u001b[90m│  \u001b[39m       (@_6 = Base.iterate(%7, %14))\n",
      "\u001b[90m│  \u001b[39m %21 = (@_6 === nothing)\u001b[36m::Bool\u001b[39m\n",
      "\u001b[90m│  \u001b[39m %22 = Base.not_int(%21)\u001b[36m::Bool\u001b[39m\n",
      "\u001b[90m└──\u001b[39m       goto #4 if not %22\n",
      "\u001b[90m3 ─\u001b[39m       goto #2\n",
      "\u001b[90m4 ┄\u001b[39m       return kmers\n"
     ]
    }
   ],
   "source": [
    "@code_warntype assess_kmers_1(k, sequence)"
   ]
  },
  {
   "cell_type": "markdown",
   "metadata": {},
   "source": [
    "On some displays, you may see red text coloration to help distinguish the areas of concern"
   ]
  },
  {
   "cell_type": "markdown",
   "metadata": {},
   "source": [
    "We can see that the Body of the function has the return type `Body::Set{_A} where _A`"
   ]
  },
  {
   "cell_type": "markdown",
   "metadata": {},
   "source": [
    "The function knows it will return a Set, but it isn't sure what datatype(s) will be stored inside"
   ]
  },
  {
   "cell_type": "markdown",
   "metadata": {},
   "source": [
    "As a result, the function has given this unknown datatype a variable, `_A`"
   ]
  },
  {
   "cell_type": "markdown",
   "metadata": {},
   "source": [
    "Let's review the memory utilization and runtime of this function as a benchmark to see if we can improve upon it"
   ]
  },
  {
   "cell_type": "code",
   "execution_count": 11,
   "metadata": {},
   "outputs": [
    {
     "data": {
      "text/plain": [
       "BenchmarkTools.Trial: \n",
       "  memory estimate:  2.02 KiB\n",
       "  allocs estimate:  54\n",
       "  --------------\n",
       "  minimum time:     5.303 μs (0.00% GC)\n",
       "  median time:      5.698 μs (0.00% GC)\n",
       "  mean time:        6.163 μs (2.37% GC)\n",
       "  maximum time:     805.027 μs (98.12% GC)\n",
       "  --------------\n",
       "  samples:          10000\n",
       "  evals/sample:     6"
      ]
     },
     "execution_count": 11,
     "metadata": {},
     "output_type": "execute_result"
    }
   ],
   "source": [
    "BenchmarkTools.@benchmark assess_kmers_1(k, sequence)"
   ]
  },
  {
   "cell_type": "markdown",
   "metadata": {},
   "source": [
    "Here we can see that the function requires 54 individual allocations, requires 2 KiB of memory, and has a mean runtime of approximately 6 μs"
   ]
  },
  {
   "cell_type": "markdown",
   "metadata": {},
   "source": [
    "To circumvent this issue, Julia has a built-in `Val` type that can be used to wrap integers to provide type-stability in functions. Let's try using it and seeing what happens"
   ]
  },
  {
   "cell_type": "code",
   "execution_count": 12,
   "metadata": {},
   "outputs": [
    {
     "data": {
      "text/plain": [
       "assess_kmers_2 (generic function with 1 method)"
      ]
     },
     "execution_count": 12,
     "metadata": {},
     "output_type": "execute_result"
    }
   ],
   "source": [
    "function assess_kmers_2(K::Val{k}, sequence) where k\n",
    "    KMER_TYPE = BioSequences.DNAMer{k}\n",
    "    kmers = Set{KMER_TYPE}()\n",
    "    for kmer_set in BioSequences.each(KMER_TYPE, sequence)\n",
    "        push!(kmers, BioSequences.canonical(kmer_set.fw))\n",
    "    end\n",
    "    return kmers\n",
    "end"
   ]
  },
  {
   "cell_type": "code",
   "execution_count": 13,
   "metadata": {},
   "outputs": [
    {
     "name": "stdout",
     "output_type": "stream",
     "text": [
      "result_1 == result_2 = true\n"
     ]
    }
   ],
   "source": [
    "result_1 = assess_kmers_1(k, sequence)\n",
    "result_2 = assess_kmers_2(Val(k), sequence)\n",
    "@show result_1 == result_2;"
   ]
  },
  {
   "cell_type": "markdown",
   "metadata": {},
   "source": [
    "We can confirm that the functions both generate the same outputs."
   ]
  },
  {
   "cell_type": "markdown",
   "metadata": {},
   "source": [
    "Let's look at whether the type inference has improved"
   ]
  },
  {
   "cell_type": "code",
   "execution_count": 14,
   "metadata": {},
   "outputs": [
    {
     "name": "stdout",
     "output_type": "stream",
     "text": [
      "Variables\n",
      "  #self#\u001b[36m::Core.Compiler.Const(assess_kmers_2, false)\u001b[39m\n",
      "  K\u001b[36m::Core.Compiler.Const(Val{3}(), false)\u001b[39m\n",
      "  sequence\u001b[36m::BioSequences.LongSequence{BioSequences.DNAAlphabet{4}}\u001b[39m\n",
      "  KMER_TYPE\u001b[36m::Type{BioSequences.Mer{BioSequences.DNAAlphabet{2},3}}\u001b[39m\n",
      "  kmers\u001b[36m::Set{BioSequences.Mer{BioSequences.DNAAlphabet{2},3}}\u001b[39m\n",
      "  @_6\u001b[33m\u001b[1m::Union{Nothing, Tuple{BioSequences.MerIterResult{BioSequences.Mer{BioSequences.DNAAlphabet{2},3}},Tuple{Int64,Int64,UInt64,UInt64}}}\u001b[22m\u001b[39m\n",
      "  kmer_set\u001b[36m::BioSequences.MerIterResult{BioSequences.Mer{BioSequences.DNAAlphabet{2},3}}\u001b[39m\n",
      "\n",
      "Body\u001b[36m::Set{BioSequences.Mer{BioSequences.DNAAlphabet{2},3}}\u001b[39m\n",
      "\u001b[90m1 ─\u001b[39m %1  = BioSequences.DNAMer\u001b[36m::Core.Compiler.Const(BioSequences.Mer{BioSequences.DNAAlphabet{2},K} where K, false)\u001b[39m\n",
      "\u001b[90m│  \u001b[39m       (KMER_TYPE = Core.apply_type(%1, $(Expr(:static_parameter, 1))))\n",
      "\u001b[90m│  \u001b[39m %3  = Core.apply_type(Main.Set, KMER_TYPE::Core.Compiler.Const(BioSequences.Mer{BioSequences.DNAAlphabet{2},3}, false))\u001b[36m::Core.Compiler.Const(Set{BioSequences.Mer{BioSequences.DNAAlphabet{2},3}}, false)\u001b[39m\n",
      "\u001b[90m│  \u001b[39m       (kmers = (%3)())\n",
      "\u001b[90m│  \u001b[39m %5  = BioSequences.each\u001b[36m::Core.Compiler.Const(BioSequences.each, false)\u001b[39m\n",
      "\u001b[90m│  \u001b[39m %6  = KMER_TYPE::Core.Compiler.Const(BioSequences.Mer{BioSequences.DNAAlphabet{2},3}, false)\u001b[36m::Core.Compiler.Const(BioSequences.Mer{BioSequences.DNAAlphabet{2},3}, false)\u001b[39m\n",
      "\u001b[90m│  \u001b[39m %7  = (%5)(%6, sequence)\u001b[36m::BioSequences.EveryMerIterator{BioSequences.Mer{BioSequences.DNAAlphabet{2},3},BioSequences.LongSequence{BioSequences.DNAAlphabet{4}}}\u001b[39m\n",
      "\u001b[90m│  \u001b[39m       (@_6 = Base.iterate(%7))\n",
      "\u001b[90m│  \u001b[39m %9  = (@_6 === nothing)\u001b[36m::Bool\u001b[39m\n",
      "\u001b[90m│  \u001b[39m %10 = Base.not_int(%9)\u001b[36m::Bool\u001b[39m\n",
      "\u001b[90m└──\u001b[39m       goto #4 if not %10\n",
      "\u001b[90m2 ┄\u001b[39m %12 = @_6::Tuple{BioSequences.MerIterResult{BioSequences.Mer{BioSequences.DNAAlphabet{2},3}},Tuple{Int64,Int64,UInt64,UInt64}}\u001b[36m::Tuple{BioSequences.MerIterResult{BioSequences.Mer{BioSequences.DNAAlphabet{2},3}},Tuple{Int64,Int64,UInt64,UInt64}}\u001b[39m\n",
      "\u001b[90m│  \u001b[39m       (kmer_set = Core.getfield(%12, 1))\n",
      "\u001b[90m│  \u001b[39m %14 = Core.getfield(%12, 2)\u001b[36m::Tuple{Int64,Int64,UInt64,UInt64}\u001b[39m\n",
      "\u001b[90m│  \u001b[39m %15 = kmers\u001b[36m::Set{BioSequences.Mer{BioSequences.DNAAlphabet{2},3}}\u001b[39m\n",
      "\u001b[90m│  \u001b[39m %16 = BioSequences.canonical\u001b[36m::Core.Compiler.Const(BioSequences.canonical, false)\u001b[39m\n",
      "\u001b[90m│  \u001b[39m %17 = Base.getproperty(kmer_set, :fw)\u001b[36m::BioSequences.Mer{BioSequences.DNAAlphabet{2},3}\u001b[39m\n",
      "\u001b[90m│  \u001b[39m %18 = (%16)(%17)\u001b[36m::BioSequences.Mer{BioSequences.DNAAlphabet{2},3}\u001b[39m\n",
      "\u001b[90m│  \u001b[39m       Main.push!(%15, %18)\n",
      "\u001b[90m│  \u001b[39m       (@_6 = Base.iterate(%7, %14))\n",
      "\u001b[90m│  \u001b[39m %21 = (@_6 === nothing)\u001b[36m::Bool\u001b[39m\n",
      "\u001b[90m│  \u001b[39m %22 = Base.not_int(%21)\u001b[36m::Bool\u001b[39m\n",
      "\u001b[90m└──\u001b[39m       goto #4 if not %22\n",
      "\u001b[90m3 ─\u001b[39m       goto #2\n",
      "\u001b[90m4 ┄\u001b[39m       return kmers\n"
     ]
    }
   ],
   "source": [
    "@code_warntype assess_kmers_2(Val(k), sequence)"
   ]
  },
  {
   "cell_type": "markdown",
   "metadata": {},
   "source": [
    "Here we can see that the function body is able to properly infer the return type from the inputs, and knows that it will return a type `Set{BioSequences.Mer{BioSequences.DNAAlphabet{2},3}}` given the inputs"
   ]
  },
  {
   "cell_type": "code",
   "execution_count": 16,
   "metadata": {},
   "outputs": [
    {
     "data": {
      "text/plain": [
       "BenchmarkTools.Trial: \n",
       "  memory estimate:  496 bytes\n",
       "  allocs estimate:  5\n",
       "  --------------\n",
       "  minimum time:     2.523 μs (0.00% GC)\n",
       "  median time:      2.588 μs (0.00% GC)\n",
       "  mean time:        2.712 μs (1.30% GC)\n",
       "  maximum time:     359.264 μs (98.32% GC)\n",
       "  --------------\n",
       "  samples:          10000\n",
       "  evals/sample:     9"
      ]
     },
     "execution_count": 16,
     "metadata": {},
     "output_type": "execute_result"
    }
   ],
   "source": [
    "BenchmarkTools.@benchmark assess_kmers_2(Val(k), sequence)"
   ]
  },
  {
   "cell_type": "markdown",
   "metadata": {},
   "source": [
    "The benchmarking results have also improved. Memory allocation is ~4x less, the number of allocations is down by > 10x, and the mean runtime is down by > 2x"
   ]
  },
  {
   "cell_type": "markdown",
   "metadata": {},
   "source": [
    "While this improvement is nice, I'm not a particularly big fan of using the `Val` construct. It may not be very clear to someone unfamiliar with Julia why we are using it, and using k (the integer) in some places and K (the Val type) others could lead to confusion."
   ]
  },
  {
   "cell_type": "markdown",
   "metadata": {},
   "source": [
    "As an alternative, let's try creating a function that takes the desired kmer type directly"
   ]
  },
  {
   "cell_type": "code",
   "execution_count": 17,
   "metadata": {},
   "outputs": [
    {
     "data": {
      "text/plain": [
       "assess_kmers_3 (generic function with 1 method)"
      ]
     },
     "execution_count": 17,
     "metadata": {},
     "output_type": "execute_result"
    }
   ],
   "source": [
    "function assess_kmers_3(::Type{KMER_TYPE}, sequence) where KMER_TYPE\n",
    "    kmers = Set{KMER_TYPE}()\n",
    "    for kmer_set in BioSequences.each(KMER_TYPE, sequence)\n",
    "        push!(kmers, BioSequences.canonical(kmer_set.fw))\n",
    "    end\n",
    "    return kmers\n",
    "end"
   ]
  },
  {
   "cell_type": "code",
   "execution_count": 18,
   "metadata": {},
   "outputs": [
    {
     "name": "stdout",
     "output_type": "stream",
     "text": [
      "Variables\n",
      "  #self#\u001b[36m::Core.Compiler.Const(assess_kmers_3, false)\u001b[39m\n",
      "  #unused#\u001b[36m::Core.Compiler.Const(BioSequences.Mer{BioSequences.DNAAlphabet{2},3}, false)\u001b[39m\n",
      "  sequence\u001b[36m::BioSequences.LongSequence{BioSequences.DNAAlphabet{4}}\u001b[39m\n",
      "  kmers\u001b[36m::Set{BioSequences.Mer{BioSequences.DNAAlphabet{2},3}}\u001b[39m\n",
      "  @_5\u001b[33m\u001b[1m::Union{Nothing, Tuple{BioSequences.MerIterResult{BioSequences.Mer{BioSequences.DNAAlphabet{2},3}},Tuple{Int64,Int64,UInt64,UInt64}}}\u001b[22m\u001b[39m\n",
      "  kmer_set\u001b[36m::BioSequences.MerIterResult{BioSequences.Mer{BioSequences.DNAAlphabet{2},3}}\u001b[39m\n",
      "\n",
      "Body\u001b[36m::Set{BioSequences.Mer{BioSequences.DNAAlphabet{2},3}}\u001b[39m\n",
      "\u001b[90m1 ─\u001b[39m %1  = Core.apply_type(Main.Set, $(Expr(:static_parameter, 1)))\u001b[36m::Core.Compiler.Const(Set{BioSequences.Mer{BioSequences.DNAAlphabet{2},3}}, false)\u001b[39m\n",
      "\u001b[90m│  \u001b[39m       (kmers = (%1)())\n",
      "\u001b[90m│  \u001b[39m %3  = BioSequences.each\u001b[36m::Core.Compiler.Const(BioSequences.each, false)\u001b[39m\n",
      "\u001b[90m│  \u001b[39m %4  = $(Expr(:static_parameter, 1))\u001b[36m::Core.Compiler.Const(BioSequences.Mer{BioSequences.DNAAlphabet{2},3}, false)\u001b[39m\n",
      "\u001b[90m│  \u001b[39m %5  = (%3)(%4, sequence)\u001b[36m::BioSequences.EveryMerIterator{BioSequences.Mer{BioSequences.DNAAlphabet{2},3},BioSequences.LongSequence{BioSequences.DNAAlphabet{4}}}\u001b[39m\n",
      "\u001b[90m│  \u001b[39m       (@_5 = Base.iterate(%5))\n",
      "\u001b[90m│  \u001b[39m %7  = (@_5 === nothing)\u001b[36m::Bool\u001b[39m\n",
      "\u001b[90m│  \u001b[39m %8  = Base.not_int(%7)\u001b[36m::Bool\u001b[39m\n",
      "\u001b[90m└──\u001b[39m       goto #4 if not %8\n",
      "\u001b[90m2 ┄\u001b[39m %10 = @_5::Tuple{BioSequences.MerIterResult{BioSequences.Mer{BioSequences.DNAAlphabet{2},3}},Tuple{Int64,Int64,UInt64,UInt64}}\u001b[36m::Tuple{BioSequences.MerIterResult{BioSequences.Mer{BioSequences.DNAAlphabet{2},3}},Tuple{Int64,Int64,UInt64,UInt64}}\u001b[39m\n",
      "\u001b[90m│  \u001b[39m       (kmer_set = Core.getfield(%10, 1))\n",
      "\u001b[90m│  \u001b[39m %12 = Core.getfield(%10, 2)\u001b[36m::Tuple{Int64,Int64,UInt64,UInt64}\u001b[39m\n",
      "\u001b[90m│  \u001b[39m %13 = kmers\u001b[36m::Set{BioSequences.Mer{BioSequences.DNAAlphabet{2},3}}\u001b[39m\n",
      "\u001b[90m│  \u001b[39m %14 = BioSequences.canonical\u001b[36m::Core.Compiler.Const(BioSequences.canonical, false)\u001b[39m\n",
      "\u001b[90m│  \u001b[39m %15 = Base.getproperty(kmer_set, :fw)\u001b[36m::BioSequences.Mer{BioSequences.DNAAlphabet{2},3}\u001b[39m\n",
      "\u001b[90m│  \u001b[39m %16 = (%14)(%15)\u001b[36m::BioSequences.Mer{BioSequences.DNAAlphabet{2},3}\u001b[39m\n",
      "\u001b[90m│  \u001b[39m       Main.push!(%13, %16)\n",
      "\u001b[90m│  \u001b[39m       (@_5 = Base.iterate(%5, %12))\n",
      "\u001b[90m│  \u001b[39m %19 = (@_5 === nothing)\u001b[36m::Bool\u001b[39m\n",
      "\u001b[90m│  \u001b[39m %20 = Base.not_int(%19)\u001b[36m::Bool\u001b[39m\n",
      "\u001b[90m└──\u001b[39m       goto #4 if not %20\n",
      "\u001b[90m3 ─\u001b[39m       goto #2\n",
      "\u001b[90m4 ┄\u001b[39m       return kmers\n"
     ]
    }
   ],
   "source": [
    "@code_warntype assess_kmers_3(BioSequences.DNAMer{k}, sequence)"
   ]
  },
  {
   "cell_type": "markdown",
   "metadata": {},
   "source": [
    "This function is also able to correctly infer the output type, but (for reasons I don't fully understand) is able to make even greater improvements in runtime"
   ]
  },
  {
   "cell_type": "code",
   "execution_count": 19,
   "metadata": {},
   "outputs": [
    {
     "data": {
      "text/plain": [
       "BenchmarkTools.Trial: \n",
       "  memory estimate:  496 bytes\n",
       "  allocs estimate:  5\n",
       "  --------------\n",
       "  minimum time:     432.333 ns (0.00% GC)\n",
       "  median time:      444.437 ns (0.00% GC)\n",
       "  mean time:        500.236 ns (6.74% GC)\n",
       "  maximum time:     19.114 μs (97.21% GC)\n",
       "  --------------\n",
       "  samples:          10000\n",
       "  evals/sample:     198"
      ]
     },
     "execution_count": 19,
     "metadata": {},
     "output_type": "execute_result"
    }
   ],
   "source": [
    "BenchmarkTools.@benchmark assess_kmers_3(BioSequences.DNAMer{k}, sequence)"
   ]
  },
  {
   "cell_type": "markdown",
   "metadata": {},
   "source": [
    "Here we can see that the number of allocations has stayed the same as our previous method, but something about directly providing the desired return type has enabled us to further reduce our runtime by ~ 5x over the `assess_kmers_2` method, and by over 10x relative to our original `assess_kmers_1` method"
   ]
  }
 ],
 "metadata": {
  "kernelspec": {
   "display_name": "Julia 1.5.3",
   "language": "julia",
   "name": "julia-1.5"
  },
  "language_info": {
   "file_extension": ".jl",
   "mimetype": "application/julia",
   "name": "julia",
   "version": "1.5.3"
  }
 },
 "nbformat": 4,
 "nbformat_minor": 4
}
