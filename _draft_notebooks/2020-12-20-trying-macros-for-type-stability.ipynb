{
 "cells": [
  {
   "cell_type": "markdown",
   "metadata": {},
   "source": [
    "---\n",
    "layout: post  \n",
    "---"
   ]
  },
  {
   "cell_type": "markdown",
   "metadata": {},
   "source": [
    "In a previous post, I found a type-stability issue in a function that I was writing.\n",
    "The issue is described [here](https://docs.julialang.org/en/v1/manual/performance-tips/#man-performance-value-type) in the Julia language manual."
   ]
  },
  {
   "cell_type": "code",
   "execution_count": 1,
   "metadata": {},
   "outputs": [
    {
     "name": "stderr",
     "output_type": "stream",
     "text": [
      "\u001b[32m\u001b[1m   Updating\u001b[22m\u001b[39m registry at `~/.julia/registries/General`\n"
     ]
    },
    {
     "name": "stdout",
     "output_type": "stream",
     "text": [
      "\u001b[?25l    "
     ]
    },
    {
     "name": "stderr",
     "output_type": "stream",
     "text": [
      "\u001b[32m\u001b[1m   Updating\u001b[22m\u001b[39m git-repo `https://github.com/JuliaRegistries/General.git`\n"
     ]
    },
    {
     "name": "stdout",
     "output_type": "stream",
     "text": [
      "\u001b[2K\u001b[?25h[1mFetching:\u001b[22m\u001b[39m [========================================>]  100.0 %"
     ]
    },
    {
     "name": "stderr",
     "output_type": "stream",
     "text": [
      "\u001b[32m\u001b[1m  Resolving\u001b[22m\u001b[39m package versions...\n",
      "\u001b[32m\u001b[1mNo Changes\u001b[22m\u001b[39m to `~/.julia/environments/v1.5/Project.toml`\n",
      "\u001b[32m\u001b[1mNo Changes\u001b[22m\u001b[39m to `~/.julia/environments/v1.5/Manifest.toml`\n"
     ]
    }
   ],
   "source": [
    "import Pkg\n",
    "pkgs = [\n",
    "    \"BioSequences\",\n",
    "    \"Random\",\n",
    "    \"BenchmarkTools\",\n",
    "    \"Primes\"\n",
    "]\n",
    "\n",
    "Pkg.add(pkgs)\n",
    "for pkg in pkgs\n",
    "    eval(Meta.parse(\"import $pkg\"))\n",
    "end"
   ]
  },
  {
   "cell_type": "code",
   "execution_count": 2,
   "metadata": {},
   "outputs": [
    {
     "data": {
      "text/plain": [
       "10nt DNA Sequence:\n",
       "TCGTCCCAGG"
      ]
     },
     "execution_count": 2,
     "metadata": {},
     "output_type": "execute_result"
    }
   ],
   "source": [
    "k = 3\n",
    "sequence = BioSequences.randdnaseq(Random.seed!(1), 10)"
   ]
  },
  {
   "cell_type": "code",
   "execution_count": 3,
   "metadata": {},
   "outputs": [
    {
     "data": {
      "text/plain": [
       "assess_kmers_1 (generic function with 1 method)"
      ]
     },
     "execution_count": 3,
     "metadata": {},
     "output_type": "execute_result"
    }
   ],
   "source": [
    "function assess_kmers_1(k, sequence)\n",
    "    KMER_TYPE = BioSequences.DNAMer{k}\n",
    "    kmers = Set{KMER_TYPE}()\n",
    "    for kmer_set in BioSequences.each(KMER_TYPE, sequence)\n",
    "        push!(kmers, BioSequences.canonical(kmer_set.fw))\n",
    "    end\n",
    "    return kmers\n",
    "end"
   ]
  },
  {
   "cell_type": "code",
   "execution_count": 5,
   "metadata": {},
   "outputs": [
    {
     "data": {
      "text/plain": [
       "BenchmarkTools.Trial: \n",
       "  memory estimate:  2.02 KiB\n",
       "  allocs estimate:  54\n",
       "  --------------\n",
       "  minimum time:     5.360 μs (0.00% GC)\n",
       "  median time:      5.660 μs (0.00% GC)\n",
       "  mean time:        6.045 μs (2.48% GC)\n",
       "  maximum time:     805.995 μs (98.05% GC)\n",
       "  --------------\n",
       "  samples:          10000\n",
       "  evals/sample:     6"
      ]
     },
     "execution_count": 5,
     "metadata": {},
     "output_type": "execute_result"
    }
   ],
   "source": [
    "BenchmarkTools.@benchmark assess_kmers_1(k, sequence)"
   ]
  },
  {
   "cell_type": "code",
   "execution_count": 6,
   "metadata": {},
   "outputs": [
    {
     "name": "stdout",
     "output_type": "stream",
     "text": [
      "Variables\n",
      "  #self#\u001b[36m::Core.Compiler.Const(assess_kmers_1, false)\u001b[39m\n",
      "  k\u001b[36m::Int64\u001b[39m\n",
      "  sequence\u001b[36m::BioSequences.LongSequence{BioSequences.DNAAlphabet{4}}\u001b[39m\n",
      "  KMER_TYPE\u001b[91m\u001b[1m::Type{BioSequences.Mer{BioSequences.DNAAlphabet{2},_A}} where _A\u001b[22m\u001b[39m\n",
      "  kmers\u001b[91m\u001b[1m::Set{_A} where _A\u001b[22m\u001b[39m\n",
      "  @_6\u001b[33m\u001b[1m::Union{Nothing, Tuple{BioSequences.MerIterResult,Tuple{Int64,Any,Any,Any}}}\u001b[22m\u001b[39m\n",
      "  kmer_set\u001b[91m\u001b[1m::BioSequences.MerIterResult\u001b[22m\u001b[39m\n",
      "\n",
      "Body\u001b[91m\u001b[1m::Set{_A} where _A\u001b[22m\u001b[39m\n",
      "\u001b[90m1 ─\u001b[39m %1  = BioSequences.DNAMer\u001b[36m::Core.Compiler.Const(BioSequences.Mer{BioSequences.DNAAlphabet{2},K} where K, false)\u001b[39m\n",
      "\u001b[90m│  \u001b[39m       (KMER_TYPE = Core.apply_type(%1, k))\n",
      "\u001b[90m│  \u001b[39m %3  = Core.apply_type(Main.Set, KMER_TYPE)\u001b[91m\u001b[1m::Type{Set{_A}} where _A\u001b[22m\u001b[39m\n",
      "\u001b[90m│  \u001b[39m       (kmers = (%3)())\n",
      "\u001b[90m│  \u001b[39m %5  = BioSequences.each\u001b[36m::Core.Compiler.Const(BioSequences.each, false)\u001b[39m\n",
      "\u001b[90m│  \u001b[39m %6  = KMER_TYPE\u001b[91m\u001b[1m::Type{BioSequences.Mer{BioSequences.DNAAlphabet{2},_A}} where _A\u001b[22m\u001b[39m\n",
      "\u001b[90m│  \u001b[39m %7  = (%5)(%6, sequence)\u001b[91m\u001b[1m::BioSequences.EveryMerIterator{_A,BioSequences.LongSequence{BioSequences.DNAAlphabet{4}}} where _A<:BioSequences.AbstractMer\u001b[22m\u001b[39m\n",
      "\u001b[90m│  \u001b[39m       (@_6 = Base.iterate(%7))\n",
      "\u001b[90m│  \u001b[39m %9  = (@_6 === nothing)\u001b[36m::Bool\u001b[39m\n",
      "\u001b[90m│  \u001b[39m %10 = Base.not_int(%9)\u001b[36m::Bool\u001b[39m\n",
      "\u001b[90m└──\u001b[39m       goto #4 if not %10\n",
      "\u001b[90m2 ┄\u001b[39m %12 = @_6::Tuple{BioSequences.MerIterResult,Tuple{Int64,Any,Any,Any}}\u001b[91m\u001b[1m::Tuple{BioSequences.MerIterResult,Tuple{Int64,Any,Any,Any}}\u001b[22m\u001b[39m\n",
      "\u001b[90m│  \u001b[39m       (kmer_set = Core.getfield(%12, 1))\n",
      "\u001b[90m│  \u001b[39m %14 = Core.getfield(%12, 2)\u001b[91m\u001b[1m::Tuple{Int64,Any,Any,Any}\u001b[22m\u001b[39m\n",
      "\u001b[90m│  \u001b[39m %15 = kmers\u001b[91m\u001b[1m::Set{_A} where _A\u001b[22m\u001b[39m\n",
      "\u001b[90m│  \u001b[39m %16 = BioSequences.canonical\u001b[36m::Core.Compiler.Const(BioSequences.canonical, false)\u001b[39m\n",
      "\u001b[90m│  \u001b[39m %17 = Base.getproperty(kmer_set, :fw)\u001b[91m\u001b[1m::BioSequences.AbstractMer\u001b[22m\u001b[39m\n",
      "\u001b[90m│  \u001b[39m %18 = (%16)(%17)\u001b[91m\u001b[1m::BioSequences.AbstractMer\u001b[22m\u001b[39m\n",
      "\u001b[90m│  \u001b[39m       Main.push!(%15, %18)\n",
      "\u001b[90m│  \u001b[39m       (@_6 = Base.iterate(%7, %14))\n",
      "\u001b[90m│  \u001b[39m %21 = (@_6 === nothing)\u001b[36m::Bool\u001b[39m\n",
      "\u001b[90m│  \u001b[39m %22 = Base.not_int(%21)\u001b[36m::Bool\u001b[39m\n",
      "\u001b[90m└──\u001b[39m       goto #4 if not %22\n",
      "\u001b[90m3 ─\u001b[39m       goto #2\n",
      "\u001b[90m4 ┄\u001b[39m       return kmers\n"
     ]
    }
   ],
   "source": [
    "@code_warntype assess_kmers_1(k, sequence)"
   ]
  },
  {
   "cell_type": "code",
   "execution_count": 7,
   "metadata": {},
   "outputs": [
    {
     "data": {
      "text/plain": [
       "assess_kmers_2 (generic function with 1 method)"
      ]
     },
     "execution_count": 7,
     "metadata": {},
     "output_type": "execute_result"
    }
   ],
   "source": [
    "function assess_kmers_2(K::Val{k}, sequence) where k\n",
    "    KMER_TYPE = BioSequences.DNAMer{k}\n",
    "    kmers = Set{KMER_TYPE}()\n",
    "    for kmer_set in BioSequences.each(KMER_TYPE, sequence)\n",
    "        push!(kmers, BioSequences.canonical(kmer_set.fw))\n",
    "    end\n",
    "    return kmers\n",
    "end"
   ]
  },
  {
   "cell_type": "code",
   "execution_count": 8,
   "metadata": {},
   "outputs": [
    {
     "data": {
      "text/plain": [
       "BenchmarkTools.Trial: \n",
       "  memory estimate:  496 bytes\n",
       "  allocs estimate:  5\n",
       "  --------------\n",
       "  minimum time:     2.530 μs (0.00% GC)\n",
       "  median time:      2.624 μs (0.00% GC)\n",
       "  mean time:        2.678 μs (1.24% GC)\n",
       "  maximum time:     335.687 μs (98.61% GC)\n",
       "  --------------\n",
       "  samples:          10000\n",
       "  evals/sample:     9"
      ]
     },
     "execution_count": 8,
     "metadata": {},
     "output_type": "execute_result"
    }
   ],
   "source": [
    "BenchmarkTools.@benchmark assess_kmers_2(Val(k), sequence)"
   ]
  },
  {
   "cell_type": "code",
   "execution_count": 9,
   "metadata": {},
   "outputs": [
    {
     "name": "stdout",
     "output_type": "stream",
     "text": [
      "Variables\n",
      "  #self#\u001b[36m::Core.Compiler.Const(assess_kmers_2, false)\u001b[39m\n",
      "  K\u001b[36m::Core.Compiler.Const(Val{3}(), false)\u001b[39m\n",
      "  sequence\u001b[36m::BioSequences.LongSequence{BioSequences.DNAAlphabet{4}}\u001b[39m\n",
      "  KMER_TYPE\u001b[36m::Type{BioSequences.Mer{BioSequences.DNAAlphabet{2},3}}\u001b[39m\n",
      "  kmers\u001b[36m::Set{BioSequences.Mer{BioSequences.DNAAlphabet{2},3}}\u001b[39m\n",
      "  @_6\u001b[33m\u001b[1m::Union{Nothing, Tuple{BioSequences.MerIterResult{BioSequences.Mer{BioSequences.DNAAlphabet{2},3}},Tuple{Int64,Int64,UInt64,UInt64}}}\u001b[22m\u001b[39m\n",
      "  kmer_set\u001b[36m::BioSequences.MerIterResult{BioSequences.Mer{BioSequences.DNAAlphabet{2},3}}\u001b[39m\n",
      "\n",
      "Body\u001b[36m::Set{BioSequences.Mer{BioSequences.DNAAlphabet{2},3}}\u001b[39m\n",
      "\u001b[90m1 ─\u001b[39m %1  = BioSequences.DNAMer\u001b[36m::Core.Compiler.Const(BioSequences.Mer{BioSequences.DNAAlphabet{2},K} where K, false)\u001b[39m\n",
      "\u001b[90m│  \u001b[39m       (KMER_TYPE = Core.apply_type(%1, $(Expr(:static_parameter, 1))))\n",
      "\u001b[90m│  \u001b[39m %3  = Core.apply_type(Main.Set, KMER_TYPE::Core.Compiler.Const(BioSequences.Mer{BioSequences.DNAAlphabet{2},3}, false))\u001b[36m::Core.Compiler.Const(Set{BioSequences.Mer{BioSequences.DNAAlphabet{2},3}}, false)\u001b[39m\n",
      "\u001b[90m│  \u001b[39m       (kmers = (%3)())\n",
      "\u001b[90m│  \u001b[39m %5  = BioSequences.each\u001b[36m::Core.Compiler.Const(BioSequences.each, false)\u001b[39m\n",
      "\u001b[90m│  \u001b[39m %6  = KMER_TYPE::Core.Compiler.Const(BioSequences.Mer{BioSequences.DNAAlphabet{2},3}, false)\u001b[36m::Core.Compiler.Const(BioSequences.Mer{BioSequences.DNAAlphabet{2},3}, false)\u001b[39m\n",
      "\u001b[90m│  \u001b[39m %7  = (%5)(%6, sequence)\u001b[36m::BioSequences.EveryMerIterator{BioSequences.Mer{BioSequences.DNAAlphabet{2},3},BioSequences.LongSequence{BioSequences.DNAAlphabet{4}}}\u001b[39m\n",
      "\u001b[90m│  \u001b[39m       (@_6 = Base.iterate(%7))\n",
      "\u001b[90m│  \u001b[39m %9  = (@_6 === nothing)\u001b[36m::Bool\u001b[39m\n",
      "\u001b[90m│  \u001b[39m %10 = Base.not_int(%9)\u001b[36m::Bool\u001b[39m\n",
      "\u001b[90m└──\u001b[39m       goto #4 if not %10\n",
      "\u001b[90m2 ┄\u001b[39m %12 = @_6::Tuple{BioSequences.MerIterResult{BioSequences.Mer{BioSequences.DNAAlphabet{2},3}},Tuple{Int64,Int64,UInt64,UInt64}}\u001b[36m::Tuple{BioSequences.MerIterResult{BioSequences.Mer{BioSequences.DNAAlphabet{2},3}},Tuple{Int64,Int64,UInt64,UInt64}}\u001b[39m\n",
      "\u001b[90m│  \u001b[39m       (kmer_set = Core.getfield(%12, 1))\n",
      "\u001b[90m│  \u001b[39m %14 = Core.getfield(%12, 2)\u001b[36m::Tuple{Int64,Int64,UInt64,UInt64}\u001b[39m\n",
      "\u001b[90m│  \u001b[39m %15 = kmers\u001b[36m::Set{BioSequences.Mer{BioSequences.DNAAlphabet{2},3}}\u001b[39m\n",
      "\u001b[90m│  \u001b[39m %16 = BioSequences.canonical\u001b[36m::Core.Compiler.Const(BioSequences.canonical, false)\u001b[39m\n",
      "\u001b[90m│  \u001b[39m %17 = Base.getproperty(kmer_set, :fw)\u001b[36m::BioSequences.Mer{BioSequences.DNAAlphabet{2},3}\u001b[39m\n",
      "\u001b[90m│  \u001b[39m %18 = (%16)(%17)\u001b[36m::BioSequences.Mer{BioSequences.DNAAlphabet{2},3}\u001b[39m\n",
      "\u001b[90m│  \u001b[39m       Main.push!(%15, %18)\n",
      "\u001b[90m│  \u001b[39m       (@_6 = Base.iterate(%7, %14))\n",
      "\u001b[90m│  \u001b[39m %21 = (@_6 === nothing)\u001b[36m::Bool\u001b[39m\n",
      "\u001b[90m│  \u001b[39m %22 = Base.not_int(%21)\u001b[36m::Bool\u001b[39m\n",
      "\u001b[90m└──\u001b[39m       goto #4 if not %22\n",
      "\u001b[90m3 ─\u001b[39m       goto #2\n",
      "\u001b[90m4 ┄\u001b[39m       return kmers\n"
     ]
    }
   ],
   "source": [
    "@code_warntype assess_kmers_2(Val(k), sequence)"
   ]
  },
  {
   "cell_type": "code",
   "execution_count": 10,
   "metadata": {},
   "outputs": [
    {
     "data": {
      "text/plain": [
       "assess_kmers_3 (generic function with 1 method)"
      ]
     },
     "execution_count": 10,
     "metadata": {},
     "output_type": "execute_result"
    }
   ],
   "source": [
    "function assess_kmers_3(KMER_TYPE, sequence)\n",
    "    kmers = Set{KMER_TYPE}()\n",
    "    for kmer_set in BioSequences.each(KMER_TYPE, sequence)\n",
    "        push!(kmers, BioSequences.canonical(kmer_set.fw))\n",
    "    end\n",
    "    return kmers\n",
    "end"
   ]
  },
  {
   "cell_type": "code",
   "execution_count": 11,
   "metadata": {},
   "outputs": [
    {
     "data": {
      "text/plain": [
       "BenchmarkTools.Trial: \n",
       "  memory estimate:  2.02 KiB\n",
       "  allocs estimate:  54\n",
       "  --------------\n",
       "  minimum time:     5.450 μs (0.00% GC)\n",
       "  median time:      5.659 μs (0.00% GC)\n",
       "  mean time:        6.049 μs (2.35% GC)\n",
       "  maximum time:     784.787 μs (97.96% GC)\n",
       "  --------------\n",
       "  samples:          10000\n",
       "  evals/sample:     6"
      ]
     },
     "execution_count": 11,
     "metadata": {},
     "output_type": "execute_result"
    }
   ],
   "source": [
    "BenchmarkTools.@benchmark assess_kmers_3(BioSequences.DNAMer{k}, sequence)"
   ]
  },
  {
   "cell_type": "code",
   "execution_count": 12,
   "metadata": {},
   "outputs": [
    {
     "name": "stdout",
     "output_type": "stream",
     "text": [
      "Variables\n",
      "  #self#\u001b[36m::Core.Compiler.Const(assess_kmers_3, false)\u001b[39m\n",
      "  KMER_TYPE\u001b[36m::Core.Compiler.Const(BioSequences.Mer{BioSequences.DNAAlphabet{2},3}, false)\u001b[39m\n",
      "  sequence\u001b[36m::BioSequences.LongSequence{BioSequences.DNAAlphabet{4}}\u001b[39m\n",
      "  kmers\u001b[36m::Set{BioSequences.Mer{BioSequences.DNAAlphabet{2},3}}\u001b[39m\n",
      "  @_5\u001b[33m\u001b[1m::Union{Nothing, Tuple{BioSequences.MerIterResult{BioSequences.Mer{BioSequences.DNAAlphabet{2},3}},Tuple{Int64,Int64,UInt64,UInt64}}}\u001b[22m\u001b[39m\n",
      "  kmer_set\u001b[36m::BioSequences.MerIterResult{BioSequences.Mer{BioSequences.DNAAlphabet{2},3}}\u001b[39m\n",
      "\n",
      "Body\u001b[36m::Set{BioSequences.Mer{BioSequences.DNAAlphabet{2},3}}\u001b[39m\n",
      "\u001b[90m1 ─\u001b[39m %1  = Core.apply_type(Main.Set, KMER_TYPE)\u001b[36m::Core.Compiler.Const(Set{BioSequences.Mer{BioSequences.DNAAlphabet{2},3}}, false)\u001b[39m\n",
      "\u001b[90m│  \u001b[39m       (kmers = (%1)())\n",
      "\u001b[90m│  \u001b[39m %3  = BioSequences.each\u001b[36m::Core.Compiler.Const(BioSequences.each, false)\u001b[39m\n",
      "\u001b[90m│  \u001b[39m %4  = (%3)(KMER_TYPE, sequence)\u001b[36m::BioSequences.EveryMerIterator{BioSequences.Mer{BioSequences.DNAAlphabet{2},3},BioSequences.LongSequence{BioSequences.DNAAlphabet{4}}}\u001b[39m\n",
      "\u001b[90m│  \u001b[39m       (@_5 = Base.iterate(%4))\n",
      "\u001b[90m│  \u001b[39m %6  = (@_5 === nothing)\u001b[36m::Bool\u001b[39m\n",
      "\u001b[90m│  \u001b[39m %7  = Base.not_int(%6)\u001b[36m::Bool\u001b[39m\n",
      "\u001b[90m└──\u001b[39m       goto #4 if not %7\n",
      "\u001b[90m2 ┄\u001b[39m %9  = @_5::Tuple{BioSequences.MerIterResult{BioSequences.Mer{BioSequences.DNAAlphabet{2},3}},Tuple{Int64,Int64,UInt64,UInt64}}\u001b[36m::Tuple{BioSequences.MerIterResult{BioSequences.Mer{BioSequences.DNAAlphabet{2},3}},Tuple{Int64,Int64,UInt64,UInt64}}\u001b[39m\n",
      "\u001b[90m│  \u001b[39m       (kmer_set = Core.getfield(%9, 1))\n",
      "\u001b[90m│  \u001b[39m %11 = Core.getfield(%9, 2)\u001b[36m::Tuple{Int64,Int64,UInt64,UInt64}\u001b[39m\n",
      "\u001b[90m│  \u001b[39m %12 = kmers\u001b[36m::Set{BioSequences.Mer{BioSequences.DNAAlphabet{2},3}}\u001b[39m\n",
      "\u001b[90m│  \u001b[39m %13 = BioSequences.canonical\u001b[36m::Core.Compiler.Const(BioSequences.canonical, false)\u001b[39m\n",
      "\u001b[90m│  \u001b[39m %14 = Base.getproperty(kmer_set, :fw)\u001b[36m::BioSequences.Mer{BioSequences.DNAAlphabet{2},3}\u001b[39m\n",
      "\u001b[90m│  \u001b[39m %15 = (%13)(%14)\u001b[36m::BioSequences.Mer{BioSequences.DNAAlphabet{2},3}\u001b[39m\n",
      "\u001b[90m│  \u001b[39m       Main.push!(%12, %15)\n",
      "\u001b[90m│  \u001b[39m       (@_5 = Base.iterate(%4, %11))\n",
      "\u001b[90m│  \u001b[39m %18 = (@_5 === nothing)\u001b[36m::Bool\u001b[39m\n",
      "\u001b[90m│  \u001b[39m %19 = Base.not_int(%18)\u001b[36m::Bool\u001b[39m\n",
      "\u001b[90m└──\u001b[39m       goto #4 if not %19\n",
      "\u001b[90m3 ─\u001b[39m       goto #2\n",
      "\u001b[90m4 ┄\u001b[39m       return kmers\n"
     ]
    }
   ],
   "source": [
    "@code_warntype assess_kmers_3(BioSequences.DNAMer{k}, sequence)"
   ]
  },
  {
   "cell_type": "code",
   "execution_count": 13,
   "metadata": {},
   "outputs": [
    {
     "data": {
      "text/plain": [
       "assess_kmers_4 (generic function with 1 method)"
      ]
     },
     "execution_count": 13,
     "metadata": {},
     "output_type": "execute_result"
    }
   ],
   "source": [
    "function assess_kmers_4(KMER_TYPE::Type{BioSequences.Mer{A, K}}, sequence) where {A, K}\n",
    "    kmers = Set{BioSequences.Mer{A, K}}()\n",
    "    for kmer_set in BioSequences.each(BioSequences.Mer{A, K}, sequence)\n",
    "        push!(kmers, BioSequences.canonical(kmer_set.fw))\n",
    "    end\n",
    "    return kmers\n",
    "end"
   ]
  },
  {
   "cell_type": "code",
   "execution_count": 14,
   "metadata": {},
   "outputs": [
    {
     "data": {
      "text/plain": [
       "BenchmarkTools.Trial: \n",
       "  memory estimate:  496 bytes\n",
       "  allocs estimate:  5\n",
       "  --------------\n",
       "  minimum time:     430.965 ns (0.00% GC)\n",
       "  median time:      457.548 ns (0.00% GC)\n",
       "  mean time:        502.030 ns (6.47% GC)\n",
       "  maximum time:     20.523 μs (96.97% GC)\n",
       "  --------------\n",
       "  samples:          10000\n",
       "  evals/sample:     199"
      ]
     },
     "execution_count": 14,
     "metadata": {},
     "output_type": "execute_result"
    }
   ],
   "source": [
    "BenchmarkTools.@benchmark assess_kmers_4(BioSequences.DNAMer{k}, sequence)"
   ]
  },
  {
   "cell_type": "code",
   "execution_count": 15,
   "metadata": {},
   "outputs": [
    {
     "name": "stdout",
     "output_type": "stream",
     "text": [
      "Variables\n",
      "  #self#\u001b[36m::Core.Compiler.Const(assess_kmers_4, false)\u001b[39m\n",
      "  KMER_TYPE\u001b[36m::Core.Compiler.Const(BioSequences.Mer{BioSequences.DNAAlphabet{2},3}, false)\u001b[39m\n",
      "  sequence\u001b[36m::BioSequences.LongSequence{BioSequences.DNAAlphabet{4}}\u001b[39m\n",
      "  kmers\u001b[36m::Set{BioSequences.Mer{BioSequences.DNAAlphabet{2},3}}\u001b[39m\n",
      "  @_5\u001b[33m\u001b[1m::Union{Nothing, Tuple{BioSequences.MerIterResult{BioSequences.Mer{BioSequences.DNAAlphabet{2},3}},Tuple{Int64,Int64,UInt64,UInt64}}}\u001b[22m\u001b[39m\n",
      "  kmer_set\u001b[36m::BioSequences.MerIterResult{BioSequences.Mer{BioSequences.DNAAlphabet{2},3}}\u001b[39m\n",
      "\n",
      "Body\u001b[36m::Set{BioSequences.Mer{BioSequences.DNAAlphabet{2},3}}\u001b[39m\n",
      "\u001b[90m1 ─\u001b[39m %1  = BioSequences.Mer\u001b[36m::Core.Compiler.Const(BioSequences.Mer, false)\u001b[39m\n",
      "\u001b[90m│  \u001b[39m %2  = $(Expr(:static_parameter, 1))\u001b[36m::Core.Compiler.Const(BioSequences.DNAAlphabet{2}, false)\u001b[39m\n",
      "\u001b[90m│  \u001b[39m %3  = Core.apply_type(%1, %2, $(Expr(:static_parameter, 2)))\u001b[36m::Core.Compiler.Const(BioSequences.Mer{BioSequences.DNAAlphabet{2},3}, false)\u001b[39m\n",
      "\u001b[90m│  \u001b[39m %4  = Core.apply_type(Main.Set, %3)\u001b[36m::Core.Compiler.Const(Set{BioSequences.Mer{BioSequences.DNAAlphabet{2},3}}, false)\u001b[39m\n",
      "\u001b[90m│  \u001b[39m       (kmers = (%4)())\n",
      "\u001b[90m│  \u001b[39m %6  = BioSequences.each\u001b[36m::Core.Compiler.Const(BioSequences.each, false)\u001b[39m\n",
      "\u001b[90m│  \u001b[39m %7  = BioSequences.Mer\u001b[36m::Core.Compiler.Const(BioSequences.Mer, false)\u001b[39m\n",
      "\u001b[90m│  \u001b[39m %8  = $(Expr(:static_parameter, 1))\u001b[36m::Core.Compiler.Const(BioSequences.DNAAlphabet{2}, false)\u001b[39m\n",
      "\u001b[90m│  \u001b[39m %9  = Core.apply_type(%7, %8, $(Expr(:static_parameter, 2)))\u001b[36m::Core.Compiler.Const(BioSequences.Mer{BioSequences.DNAAlphabet{2},3}, false)\u001b[39m\n",
      "\u001b[90m│  \u001b[39m %10 = (%6)(%9, sequence)\u001b[36m::BioSequences.EveryMerIterator{BioSequences.Mer{BioSequences.DNAAlphabet{2},3},BioSequences.LongSequence{BioSequences.DNAAlphabet{4}}}\u001b[39m\n",
      "\u001b[90m│  \u001b[39m       (@_5 = Base.iterate(%10))\n",
      "\u001b[90m│  \u001b[39m %12 = (@_5 === nothing)\u001b[36m::Bool\u001b[39m\n",
      "\u001b[90m│  \u001b[39m %13 = Base.not_int(%12)\u001b[36m::Bool\u001b[39m\n",
      "\u001b[90m└──\u001b[39m       goto #4 if not %13\n",
      "\u001b[90m2 ┄\u001b[39m %15 = @_5::Tuple{BioSequences.MerIterResult{BioSequences.Mer{BioSequences.DNAAlphabet{2},3}},Tuple{Int64,Int64,UInt64,UInt64}}\u001b[36m::Tuple{BioSequences.MerIterResult{BioSequences.Mer{BioSequences.DNAAlphabet{2},3}},Tuple{Int64,Int64,UInt64,UInt64}}\u001b[39m\n",
      "\u001b[90m│  \u001b[39m       (kmer_set = Core.getfield(%15, 1))\n",
      "\u001b[90m│  \u001b[39m %17 = Core.getfield(%15, 2)\u001b[36m::Tuple{Int64,Int64,UInt64,UInt64}\u001b[39m\n",
      "\u001b[90m│  \u001b[39m %18 = kmers\u001b[36m::Set{BioSequences.Mer{BioSequences.DNAAlphabet{2},3}}\u001b[39m\n",
      "\u001b[90m│  \u001b[39m %19 = BioSequences.canonical\u001b[36m::Core.Compiler.Const(BioSequences.canonical, false)\u001b[39m\n",
      "\u001b[90m│  \u001b[39m %20 = Base.getproperty(kmer_set, :fw)\u001b[36m::BioSequences.Mer{BioSequences.DNAAlphabet{2},3}\u001b[39m\n",
      "\u001b[90m│  \u001b[39m %21 = (%19)(%20)\u001b[36m::BioSequences.Mer{BioSequences.DNAAlphabet{2},3}\u001b[39m\n",
      "\u001b[90m│  \u001b[39m       Main.push!(%18, %21)\n",
      "\u001b[90m│  \u001b[39m       (@_5 = Base.iterate(%10, %17))\n",
      "\u001b[90m│  \u001b[39m %24 = (@_5 === nothing)\u001b[36m::Bool\u001b[39m\n",
      "\u001b[90m│  \u001b[39m %25 = Base.not_int(%24)\u001b[36m::Bool\u001b[39m\n",
      "\u001b[90m└──\u001b[39m       goto #4 if not %25\n",
      "\u001b[90m3 ─\u001b[39m       goto #2\n",
      "\u001b[90m4 ┄\u001b[39m       return kmers\n"
     ]
    }
   ],
   "source": [
    "@code_warntype assess_kmers_4(BioSequences.DNAMer{k}, sequence)"
   ]
  },
  {
   "cell_type": "code",
   "execution_count": 16,
   "metadata": {},
   "outputs": [
    {
     "data": {
      "text/plain": [
       "assess_kmers_5 (generic function with 1 method)"
      ]
     },
     "execution_count": 16,
     "metadata": {},
     "output_type": "execute_result"
    }
   ],
   "source": [
    "function assess_kmers_5(KMER_TYPE::Type{BioSequences.Mer{A, K}}, sequence) where {A, K}\n",
    "    kmers = Set{KMER_TYPE}()\n",
    "    for kmer_set in BioSequences.each(KMER_TYPE, sequence)\n",
    "        push!(kmers, BioSequences.canonical(kmer_set.fw))\n",
    "    end\n",
    "    return kmers\n",
    "end"
   ]
  },
  {
   "cell_type": "code",
   "execution_count": 17,
   "metadata": {},
   "outputs": [
    {
     "data": {
      "text/plain": [
       "BenchmarkTools.Trial: \n",
       "  memory estimate:  496 bytes\n",
       "  allocs estimate:  5\n",
       "  --------------\n",
       "  minimum time:     441.758 ns (0.00% GC)\n",
       "  median time:      457.909 ns (0.00% GC)\n",
       "  mean time:        496.724 ns (6.78% GC)\n",
       "  maximum time:     21.624 μs (97.36% GC)\n",
       "  --------------\n",
       "  samples:          10000\n",
       "  evals/sample:     198"
      ]
     },
     "execution_count": 17,
     "metadata": {},
     "output_type": "execute_result"
    }
   ],
   "source": [
    "BenchmarkTools.@benchmark assess_kmers_5(BioSequences.DNAMer{k}, sequence)"
   ]
  },
  {
   "cell_type": "code",
   "execution_count": 18,
   "metadata": {},
   "outputs": [
    {
     "name": "stdout",
     "output_type": "stream",
     "text": [
      "Variables\n",
      "  #self#\u001b[36m::Core.Compiler.Const(assess_kmers_5, false)\u001b[39m\n",
      "  KMER_TYPE\u001b[36m::Core.Compiler.Const(BioSequences.Mer{BioSequences.DNAAlphabet{2},3}, false)\u001b[39m\n",
      "  sequence\u001b[36m::BioSequences.LongSequence{BioSequences.DNAAlphabet{4}}\u001b[39m\n",
      "  kmers\u001b[36m::Set{BioSequences.Mer{BioSequences.DNAAlphabet{2},3}}\u001b[39m\n",
      "  @_5\u001b[33m\u001b[1m::Union{Nothing, Tuple{BioSequences.MerIterResult{BioSequences.Mer{BioSequences.DNAAlphabet{2},3}},Tuple{Int64,Int64,UInt64,UInt64}}}\u001b[22m\u001b[39m\n",
      "  kmer_set\u001b[36m::BioSequences.MerIterResult{BioSequences.Mer{BioSequences.DNAAlphabet{2},3}}\u001b[39m\n",
      "\n",
      "Body\u001b[36m::Set{BioSequences.Mer{BioSequences.DNAAlphabet{2},3}}\u001b[39m\n",
      "\u001b[90m1 ─\u001b[39m %1  = Core.apply_type(Main.Set, KMER_TYPE)\u001b[36m::Core.Compiler.Const(Set{BioSequences.Mer{BioSequences.DNAAlphabet{2},3}}, false)\u001b[39m\n",
      "\u001b[90m│  \u001b[39m       (kmers = (%1)())\n",
      "\u001b[90m│  \u001b[39m %3  = BioSequences.each\u001b[36m::Core.Compiler.Const(BioSequences.each, false)\u001b[39m\n",
      "\u001b[90m│  \u001b[39m %4  = (%3)(KMER_TYPE, sequence)\u001b[36m::BioSequences.EveryMerIterator{BioSequences.Mer{BioSequences.DNAAlphabet{2},3},BioSequences.LongSequence{BioSequences.DNAAlphabet{4}}}\u001b[39m\n",
      "\u001b[90m│  \u001b[39m       (@_5 = Base.iterate(%4))\n",
      "\u001b[90m│  \u001b[39m %6  = (@_5 === nothing)\u001b[36m::Bool\u001b[39m\n",
      "\u001b[90m│  \u001b[39m %7  = Base.not_int(%6)\u001b[36m::Bool\u001b[39m\n",
      "\u001b[90m└──\u001b[39m       goto #4 if not %7\n",
      "\u001b[90m2 ┄\u001b[39m %9  = @_5::Tuple{BioSequences.MerIterResult{BioSequences.Mer{BioSequences.DNAAlphabet{2},3}},Tuple{Int64,Int64,UInt64,UInt64}}\u001b[36m::Tuple{BioSequences.MerIterResult{BioSequences.Mer{BioSequences.DNAAlphabet{2},3}},Tuple{Int64,Int64,UInt64,UInt64}}\u001b[39m\n",
      "\u001b[90m│  \u001b[39m       (kmer_set = Core.getfield(%9, 1))\n",
      "\u001b[90m│  \u001b[39m %11 = Core.getfield(%9, 2)\u001b[36m::Tuple{Int64,Int64,UInt64,UInt64}\u001b[39m\n",
      "\u001b[90m│  \u001b[39m %12 = kmers\u001b[36m::Set{BioSequences.Mer{BioSequences.DNAAlphabet{2},3}}\u001b[39m\n",
      "\u001b[90m│  \u001b[39m %13 = BioSequences.canonical\u001b[36m::Core.Compiler.Const(BioSequences.canonical, false)\u001b[39m\n",
      "\u001b[90m│  \u001b[39m %14 = Base.getproperty(kmer_set, :fw)\u001b[36m::BioSequences.Mer{BioSequences.DNAAlphabet{2},3}\u001b[39m\n",
      "\u001b[90m│  \u001b[39m %15 = (%13)(%14)\u001b[36m::BioSequences.Mer{BioSequences.DNAAlphabet{2},3}\u001b[39m\n",
      "\u001b[90m│  \u001b[39m       Main.push!(%12, %15)\n",
      "\u001b[90m│  \u001b[39m       (@_5 = Base.iterate(%4, %11))\n",
      "\u001b[90m│  \u001b[39m %18 = (@_5 === nothing)\u001b[36m::Bool\u001b[39m\n",
      "\u001b[90m│  \u001b[39m %19 = Base.not_int(%18)\u001b[36m::Bool\u001b[39m\n",
      "\u001b[90m└──\u001b[39m       goto #4 if not %19\n",
      "\u001b[90m3 ─\u001b[39m       goto #2\n",
      "\u001b[90m4 ┄\u001b[39m       return kmers\n"
     ]
    }
   ],
   "source": [
    "@code_warntype assess_kmers_5(BioSequences.DNAMer{k}, sequence)"
   ]
  },
  {
   "cell_type": "code",
   "execution_count": 19,
   "metadata": {},
   "outputs": [
    {
     "data": {
      "text/plain": [
       "assess_kmers_6 (generic function with 1 method)"
      ]
     },
     "execution_count": 19,
     "metadata": {},
     "output_type": "execute_result"
    }
   ],
   "source": [
    "function assess_kmers_6(::Type{KMER_TYPE}, sequence) where KMER_TYPE <: BioSequences.AbstractMer\n",
    "    kmers = Set{KMER_TYPE}()\n",
    "    for kmer_set in BioSequences.each(KMER_TYPE, sequence)\n",
    "        push!(kmers, BioSequences.canonical(kmer_set.fw))\n",
    "    end\n",
    "    return kmers\n",
    "end"
   ]
  },
  {
   "cell_type": "code",
   "execution_count": 20,
   "metadata": {},
   "outputs": [
    {
     "data": {
      "text/plain": [
       "BenchmarkTools.Trial: \n",
       "  memory estimate:  496 bytes\n",
       "  allocs estimate:  5\n",
       "  --------------\n",
       "  minimum time:     429.462 ns (0.00% GC)\n",
       "  median time:      455.327 ns (0.00% GC)\n",
       "  mean time:        496.297 ns (6.95% GC)\n",
       "  maximum time:     24.325 μs (97.93% GC)\n",
       "  --------------\n",
       "  samples:          10000\n",
       "  evals/sample:     199"
      ]
     },
     "execution_count": 20,
     "metadata": {},
     "output_type": "execute_result"
    }
   ],
   "source": [
    "BenchmarkTools.@benchmark assess_kmers_6(BioSequences.DNAMer{k}, sequence)"
   ]
  },
  {
   "cell_type": "code",
   "execution_count": 21,
   "metadata": {},
   "outputs": [
    {
     "name": "stdout",
     "output_type": "stream",
     "text": [
      "Variables\n",
      "  #self#\u001b[36m::Core.Compiler.Const(assess_kmers_6, false)\u001b[39m\n",
      "  #unused#\u001b[36m::Core.Compiler.Const(BioSequences.Mer{BioSequences.DNAAlphabet{2},3}, false)\u001b[39m\n",
      "  sequence\u001b[36m::BioSequences.LongSequence{BioSequences.DNAAlphabet{4}}\u001b[39m\n",
      "  kmers\u001b[36m::Set{BioSequences.Mer{BioSequences.DNAAlphabet{2},3}}\u001b[39m\n",
      "  @_5\u001b[33m\u001b[1m::Union{Nothing, Tuple{BioSequences.MerIterResult{BioSequences.Mer{BioSequences.DNAAlphabet{2},3}},Tuple{Int64,Int64,UInt64,UInt64}}}\u001b[22m\u001b[39m\n",
      "  kmer_set\u001b[36m::BioSequences.MerIterResult{BioSequences.Mer{BioSequences.DNAAlphabet{2},3}}\u001b[39m\n",
      "\n",
      "Body\u001b[36m::Set{BioSequences.Mer{BioSequences.DNAAlphabet{2},3}}\u001b[39m\n",
      "\u001b[90m1 ─\u001b[39m %1  = Core.apply_type(Main.Set, $(Expr(:static_parameter, 1)))\u001b[36m::Core.Compiler.Const(Set{BioSequences.Mer{BioSequences.DNAAlphabet{2},3}}, false)\u001b[39m\n",
      "\u001b[90m│  \u001b[39m       (kmers = (%1)())\n",
      "\u001b[90m│  \u001b[39m %3  = BioSequences.each\u001b[36m::Core.Compiler.Const(BioSequences.each, false)\u001b[39m\n",
      "\u001b[90m│  \u001b[39m %4  = $(Expr(:static_parameter, 1))\u001b[36m::Core.Compiler.Const(BioSequences.Mer{BioSequences.DNAAlphabet{2},3}, false)\u001b[39m\n",
      "\u001b[90m│  \u001b[39m %5  = (%3)(%4, sequence)\u001b[36m::BioSequences.EveryMerIterator{BioSequences.Mer{BioSequences.DNAAlphabet{2},3},BioSequences.LongSequence{BioSequences.DNAAlphabet{4}}}\u001b[39m\n",
      "\u001b[90m│  \u001b[39m       (@_5 = Base.iterate(%5))\n",
      "\u001b[90m│  \u001b[39m %7  = (@_5 === nothing)\u001b[36m::Bool\u001b[39m\n",
      "\u001b[90m│  \u001b[39m %8  = Base.not_int(%7)\u001b[36m::Bool\u001b[39m\n",
      "\u001b[90m└──\u001b[39m       goto #4 if not %8\n",
      "\u001b[90m2 ┄\u001b[39m %10 = @_5::Tuple{BioSequences.MerIterResult{BioSequences.Mer{BioSequences.DNAAlphabet{2},3}},Tuple{Int64,Int64,UInt64,UInt64}}\u001b[36m::Tuple{BioSequences.MerIterResult{BioSequences.Mer{BioSequences.DNAAlphabet{2},3}},Tuple{Int64,Int64,UInt64,UInt64}}\u001b[39m\n",
      "\u001b[90m│  \u001b[39m       (kmer_set = Core.getfield(%10, 1))\n",
      "\u001b[90m│  \u001b[39m %12 = Core.getfield(%10, 2)\u001b[36m::Tuple{Int64,Int64,UInt64,UInt64}\u001b[39m\n",
      "\u001b[90m│  \u001b[39m %13 = kmers\u001b[36m::Set{BioSequences.Mer{BioSequences.DNAAlphabet{2},3}}\u001b[39m\n",
      "\u001b[90m│  \u001b[39m %14 = BioSequences.canonical\u001b[36m::Core.Compiler.Const(BioSequences.canonical, false)\u001b[39m\n",
      "\u001b[90m│  \u001b[39m %15 = Base.getproperty(kmer_set, :fw)\u001b[36m::BioSequences.Mer{BioSequences.DNAAlphabet{2},3}\u001b[39m\n",
      "\u001b[90m│  \u001b[39m %16 = (%14)(%15)\u001b[36m::BioSequences.Mer{BioSequences.DNAAlphabet{2},3}\u001b[39m\n",
      "\u001b[90m│  \u001b[39m       Main.push!(%13, %16)\n",
      "\u001b[90m│  \u001b[39m       (@_5 = Base.iterate(%5, %12))\n",
      "\u001b[90m│  \u001b[39m %19 = (@_5 === nothing)\u001b[36m::Bool\u001b[39m\n",
      "\u001b[90m│  \u001b[39m %20 = Base.not_int(%19)\u001b[36m::Bool\u001b[39m\n",
      "\u001b[90m└──\u001b[39m       goto #4 if not %20\n",
      "\u001b[90m3 ─\u001b[39m       goto #2\n",
      "\u001b[90m4 ┄\u001b[39m       return kmers\n"
     ]
    }
   ],
   "source": [
    "@code_warntype assess_kmers_6(BioSequences.DNAMer{k}, sequence)"
   ]
  },
  {
   "cell_type": "code",
   "execution_count": 42,
   "metadata": {},
   "outputs": [
    {
     "data": {
      "text/plain": [
       "assess_kmers_7 (generic function with 1 method)"
      ]
     },
     "execution_count": 42,
     "metadata": {},
     "output_type": "execute_result"
    }
   ],
   "source": [
    "function assess_kmers_7(::Type{KMER_TYPE}, sequence) where KMER_TYPE <: BioSequences.AbstractMer\n",
    "    kmers = Set(BioSequences.canonical(kmer.fw) for kmer in BioSequences.each(KMER_TYPE, sequence))\n",
    "    return kmers\n",
    "end"
   ]
  },
  {
   "cell_type": "code",
   "execution_count": 43,
   "metadata": {},
   "outputs": [
    {
     "data": {
      "text/plain": [
       "BenchmarkTools.Trial: \n",
       "  memory estimate:  496 bytes\n",
       "  allocs estimate:  5\n",
       "  --------------\n",
       "  minimum time:     432.970 ns (0.00% GC)\n",
       "  median time:      458.080 ns (0.00% GC)\n",
       "  mean time:        504.432 ns (7.05% GC)\n",
       "  maximum time:     23.278 μs (97.69% GC)\n",
       "  --------------\n",
       "  samples:          10000\n",
       "  evals/sample:     199"
      ]
     },
     "execution_count": 43,
     "metadata": {},
     "output_type": "execute_result"
    }
   ],
   "source": [
    "BenchmarkTools.@benchmark assess_kmers_7(BioSequences.DNAMer{k}, sequence)"
   ]
  },
  {
   "cell_type": "code",
   "execution_count": 44,
   "metadata": {},
   "outputs": [
    {
     "name": "stdout",
     "output_type": "stream",
     "text": [
      "Variables\n",
      "  #self#\u001b[36m::Core.Compiler.Const(assess_kmers_7, false)\u001b[39m\n",
      "  #unused#\u001b[36m::Core.Compiler.Const(BioSequences.Mer{BioSequences.DNAAlphabet{2},3}, false)\u001b[39m\n",
      "  sequence\u001b[36m::BioSequences.LongSequence{BioSequences.DNAAlphabet{4}}\u001b[39m\n",
      "  #22\u001b[36m::var\"#22#23\"\u001b[39m\n",
      "  kmers\u001b[36m::Set{BioSequences.Mer{BioSequences.DNAAlphabet{2},3}}\u001b[39m\n",
      "\n",
      "Body\u001b[36m::Set{BioSequences.Mer{BioSequences.DNAAlphabet{2},3}}\u001b[39m\n",
      "\u001b[90m1 ─\u001b[39m      (#22 = %new(Main.:(var\"#22#23\")))\n",
      "\u001b[90m│  \u001b[39m %2 = #22\u001b[36m::Core.Compiler.Const(var\"#22#23\"(), false)\u001b[39m\n",
      "\u001b[90m│  \u001b[39m %3 = BioSequences.each\u001b[36m::Core.Compiler.Const(BioSequences.each, false)\u001b[39m\n",
      "\u001b[90m│  \u001b[39m %4 = $(Expr(:static_parameter, 1))\u001b[36m::Core.Compiler.Const(BioSequences.Mer{BioSequences.DNAAlphabet{2},3}, false)\u001b[39m\n",
      "\u001b[90m│  \u001b[39m %5 = (%3)(%4, sequence)\u001b[36m::BioSequences.EveryMerIterator{BioSequences.Mer{BioSequences.DNAAlphabet{2},3},BioSequences.LongSequence{BioSequences.DNAAlphabet{4}}}\u001b[39m\n",
      "\u001b[90m│  \u001b[39m %6 = Base.Generator(%2, %5)\u001b[36m::Base.Generator{BioSequences.EveryMerIterator{BioSequences.Mer{BioSequences.DNAAlphabet{2},3},BioSequences.LongSequence{BioSequences.DNAAlphabet{4}}},var\"#22#23\"}\u001b[39m\n",
      "\u001b[90m│  \u001b[39m      (kmers = Main.Set(%6))\n",
      "\u001b[90m└──\u001b[39m      return kmers\n"
     ]
    }
   ],
   "source": [
    "@code_warntype assess_kmers_7(BioSequences.DNAMer{k}, sequence)"
   ]
  }
 ],
 "metadata": {
  "kernelspec": {
   "display_name": "Julia 1.5.3",
   "language": "julia",
   "name": "julia-1.5"
  },
  "language_info": {
   "file_extension": ".jl",
   "mimetype": "application/julia",
   "name": "julia",
   "version": "1.5.3"
  }
 },
 "nbformat": 4,
 "nbformat_minor": 4
}
