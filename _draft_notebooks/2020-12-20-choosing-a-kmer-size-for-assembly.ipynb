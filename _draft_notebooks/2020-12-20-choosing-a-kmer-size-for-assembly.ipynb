{
 "cells": [
  {
   "cell_type": "markdown",
   "metadata": {},
   "source": [
    "---\n",
    "layout: post  \n",
    "---"
   ]
  },
  {
   "cell_type": "markdown",
   "metadata": {},
   "source": [
    "Here is some introductory text\n",
    "We can describe the goals/objectives of the post to let people know what they are in for"
   ]
  },
  {
   "cell_type": "code",
   "execution_count": 1,
   "metadata": {},
   "outputs": [
    {
     "data": {
      "text/plain": [
       "3"
      ]
     },
     "execution_count": 1,
     "metadata": {},
     "output_type": "execute_result"
    }
   ],
   "source": [
    "# here is some Julia code\n",
    "a = 1\n",
    "b = 2\n",
    "a + b"
   ]
  },
  {
   "cell_type": "code",
   "execution_count": null,
   "metadata": {},
   "outputs": [],
   "source": [
    "# ```jldoctest\n",
    "# using Primes\n",
    "# julia> for prime in primes(3, 101)\n",
    "#            println(\"$prime assumes accuracy of $(1-1/(prime + 1))\")\n",
    "#        end\n",
    "# 3 assumes accuracy of 0.6666666666666667\n",
    "# 5 assumes accuracy of 0.8\n",
    "# 7 assumes accuracy of 0.8571428571428572\n",
    "# 11 assumes accuracy of 0.9090909090909091\n",
    "# 13 assumes accuracy of 0.9230769230769231\n",
    "# 17 assumes accuracy of 0.9411764705882353\n",
    "# 19 assumes accuracy of 0.9473684210526316\n",
    "# 23 assumes accuracy of 0.9565217391304348\n",
    "# 29 assumes accuracy of 0.9655172413793104\n",
    "# 31 assumes accuracy of 0.967741935483871\n",
    "# 37 assumes accuracy of 0.972972972972973\n",
    "# 41 assumes accuracy of 0.975609756097561\n",
    "# 43 assumes accuracy of 0.9767441860465116\n",
    "# 47 assumes accuracy of 0.9787234042553191\n",
    "# 53 assumes accuracy of 0.9811320754716981\n",
    "# 59 assumes accuracy of 0.9830508474576272\n",
    "# 61 assumes accuracy of 0.9836065573770492\n",
    "# 67 assumes accuracy of 0.9850746268656716\n",
    "# 71 assumes accuracy of 0.9859154929577465\n",
    "# 73 assumes accuracy of 0.9863013698630136\n",
    "# 79 assumes accuracy of 0.9873417721518988\n",
    "# 83 assumes accuracy of 0.9879518072289156\n",
    "# 89 assumes accuracy of 0.9887640449438202\n",
    "# 97 assumes accuracy of 0.9896907216494846\n",
    "# 101 assumes accuracy of 0.9900990099009901\n",
    "# ```\n",
    "# \"\"\""
   ]
  }
 ],
 "metadata": {
  "kernelspec": {
   "display_name": "Julia 1.5.3",
   "language": "julia",
   "name": "julia-1.5"
  },
  "language_info": {
   "file_extension": ".jl",
   "mimetype": "application/julia",
   "name": "julia",
   "version": "1.5.3"
  }
 },
 "nbformat": 4,
 "nbformat_minor": 4
}
