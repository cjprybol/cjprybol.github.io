{
 "cells": [
  {
   "cell_type": "markdown",
   "metadata": {},
   "source": [
    "---\n",
    "layout: post  \n",
    "---"
   ]
  },
  {
   "cell_type": "markdown",
   "metadata": {},
   "source": [
    "Here is some introductory text\n",
    "We can describe the goals/objectives of the post to let people know what they are in for"
   ]
  },
  {
   "cell_type": "code",
   "execution_count": 1,
   "metadata": {},
   "outputs": [
    {
     "data": {
      "text/plain": [
       "3"
      ]
     },
     "execution_count": 1,
     "metadata": {},
     "output_type": "execute_result"
    }
   ],
   "source": [
    "# here is some Julia code\n",
    "a = 1\n",
    "b = 2\n",
    "a + b"
   ]
  },
  {
   "cell_type": "code",
   "execution_count": null,
   "metadata": {},
   "outputs": [],
   "source": [
    "# ```jldoctest\n",
    "# using Primes\n",
    "# julia> for prime in primes(3, 101)\n",
    "#            println(\"$prime assumes accuracy of $(1-1/(prime + 1))\")\n",
    "#        end\n",
    "# 3 assumes accuracy of 0.6666666666666667\n",
    "# 5 assumes accuracy of 0.8\n",
    "# 7 assumes accuracy of 0.8571428571428572\n",
    "# 11 assumes accuracy of 0.9090909090909091\n",
    "# 13 assumes accuracy of 0.9230769230769231\n",
    "# 17 assumes accuracy of 0.9411764705882353\n",
    "# 19 assumes accuracy of 0.9473684210526316\n",
    "# 23 assumes accuracy of 0.9565217391304348\n",
    "# 29 assumes accuracy of 0.9655172413793104\n",
    "# 31 assumes accuracy of 0.967741935483871\n",
    "# 37 assumes accuracy of 0.972972972972973\n",
    "# 41 assumes accuracy of 0.975609756097561\n",
    "# 43 assumes accuracy of 0.9767441860465116\n",
    "# 47 assumes accuracy of 0.9787234042553191\n",
    "# 53 assumes accuracy of 0.9811320754716981\n",
    "# 59 assumes accuracy of 0.9830508474576272\n",
    "# 61 assumes accuracy of 0.9836065573770492\n",
    "# 67 assumes accuracy of 0.9850746268656716\n",
    "# 71 assumes accuracy of 0.9859154929577465\n",
    "# 73 assumes accuracy of 0.9863013698630136\n",
    "# 79 assumes accuracy of 0.9873417721518988\n",
    "# 83 assumes accuracy of 0.9879518072289156\n",
    "# 89 assumes accuracy of 0.9887640449438202\n",
    "# 97 assumes accuracy of 0.9896907216494846\n",
    "# 101 assumes accuracy of 0.9900990099009901\n",
    "# ```\n",
    "# \"\"\""
   ]
  },
  {
   "cell_type": "code",
   "execution_count": null,
   "metadata": {},
   "outputs": [],
   "source": [
    "julia> log(4, 150_000_000_000)\n",
    "18.563085772241074\n",
    "\n",
    "julia> log(4, 1_000_000)\n",
    "9.965784284662087\n",
    "\n",
    "julia> log(4, 10_000_000)\n",
    "11.62674833210577\n",
    "\n",
    "julia> log(4, 100_000_000)\n",
    "13.28771237954945\n",
    "\n",
    "julia> log(4, 1_000_000_000)\n",
    "14.948676426993131\n",
    "\n",
    "julia> number_of_species = 8_700_000\n",
    "8700000\n",
    "\n",
    "julia> largest_genome = 150_000_000_000\n",
    "150000000000\n",
    "\n",
    "julia> worst_case_genomic_scenario = number_of_species * largest_genome\n",
    "1305000000000000000\n",
    "\n",
    "julia> log(4, worst_case_genomic_scenario)\n",
    "30.08937775738384\n",
    "\n",
    "julia> number_of_species = 1_000_000_000_000\n",
    "1000000000000\n",
    "\n",
    "julia> worst_case_genomic_scenario = number_of_species * largest_genome\n",
    "-8922807406073741312\n",
    "\n",
    "julia> BigInt(number_of_species) * BigInt(largest_genome)\n",
    "150000000000000000000000\n",
    "\n",
    "julia> log(4, ans)\n",
    "38.49465434156524509123554291110189527682546822362891756885757487915379904489648\n",
    "\n",
    "julia> BigInt(1_000_000_000_000)^2\n",
    "1000000000000000000000000\n",
    "\n",
    "julia> log(4, BigInt(1_000_000_000_000)^2)\n",
    "39.86313713864834817444383315387268211037797671629496734465707674979121731930363"
   ]
  }
 ],
 "metadata": {
  "kernelspec": {
   "display_name": "Julia 1.5.3",
   "language": "julia",
   "name": "julia-1.5"
  },
  "language_info": {
   "file_extension": ".jl",
   "mimetype": "application/julia",
   "name": "julia",
   "version": "1.5.3"
  }
 },
 "nbformat": 4,
 "nbformat_minor": 4
}
