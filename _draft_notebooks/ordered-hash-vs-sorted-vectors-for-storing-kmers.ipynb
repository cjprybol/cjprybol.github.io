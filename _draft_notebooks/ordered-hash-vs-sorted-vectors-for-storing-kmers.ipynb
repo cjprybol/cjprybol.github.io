{
 "cells": [
  {
   "cell_type": "markdown",
   "metadata": {},
   "source": [
    "---\n",
    "layout: post  \n",
    "---"
   ]
  },
  {
   "cell_type": "markdown",
   "metadata": {},
   "source": [
    "What are the memory/speed trade-offs of using an ordered dictionary to store kmers and their respective counts as opposed to using sorted vectors?"
   ]
  },
  {
   "cell_type": "markdown",
   "metadata": {},
   "source": [
    "Initially, I would expect that the ordered dictionary would have an additional memory overhead of storing the hash table (cost) in order to increase the rate of lookup (benefit)."
   ]
  },
  {
   "cell_type": "markdown",
   "metadata": {},
   "source": [
    "The flip side of this is that the sorted vector would have little to no memory overhead beyond the actual kmers themselves (benefit), but our best-case search time should be slower (cost) with an expected runtime proportional to $$log2(\\text{K}) \\text{ where K = # of kmers}$$"
   ]
  },
  {
   "cell_type": "markdown",
   "metadata": {},
   "source": [
    "Another potential benefit of using the sorted vectors is that they can be memory mapped onto disk, which would allow us to work with kmer datasets that are larger than the available RAM of the machine"
   ]
  },
  {
   "cell_type": "markdown",
   "metadata": {},
   "source": [
    "So.... let's benchmark them!"
   ]
  },
  {
   "cell_type": "code",
   "execution_count": 7,
   "metadata": {},
   "outputs": [
    {
     "name": "stderr",
     "output_type": "stream",
     "text": [
      "\u001b[32m\u001b[1m   Updating\u001b[22m\u001b[39m registry at `~/.julia/registries/General`\n"
     ]
    },
    {
     "name": "stdout",
     "output_type": "stream",
     "text": [
      "\u001b[?25l    "
     ]
    },
    {
     "name": "stderr",
     "output_type": "stream",
     "text": [
      "\u001b[32m\u001b[1m   Updating\u001b[22m\u001b[39m git-repo `https://github.com/JuliaRegistries/General.git`\n"
     ]
    },
    {
     "name": "stdout",
     "output_type": "stream",
     "text": [
      "\u001b[2K\u001b[?25h[1mFetching:\u001b[22m\u001b[39m [========================================>]  100.0 %"
     ]
    },
    {
     "name": "stderr",
     "output_type": "stream",
     "text": [
      "\u001b[32m\u001b[1m  Resolving\u001b[22m\u001b[39m package versions...\n",
      "\u001b[32m\u001b[1mNo Changes\u001b[22m\u001b[39m to `~/.julia/environments/v1.5/Project.toml`\n",
      "\u001b[32m\u001b[1mNo Changes\u001b[22m\u001b[39m to `~/.julia/environments/v1.5/Manifest.toml`\n"
     ]
    }
   ],
   "source": [
    "import Pkg\n",
    "pkgs = [\n",
    "    \"BenchmarkTools\",\n",
    "    \"DataStructures\",\n",
    "    \"Random\",\n",
    "    \"BioSequences\",\n",
    "    \"Primes\",\n",
    "    \"StatsBase\",\n",
    "    \"Statistics\"\n",
    "]\n",
    "Pkg.add(pkgs)\n",
    "for pkg in pkgs\n",
    "    eval(Meta.parse(\"import $pkg\"))\n",
    "end"
   ]
  },
  {
   "cell_type": "code",
   "execution_count": 8,
   "metadata": {},
   "outputs": [
    {
     "data": {
      "text/plain": [
       "3"
      ]
     },
     "execution_count": 8,
     "metadata": {},
     "output_type": "execute_result"
    }
   ],
   "source": [
    "k = 3"
   ]
  },
  {
   "cell_type": "code",
   "execution_count": 9,
   "metadata": {},
   "outputs": [
    {
     "data": {
      "text/plain": [
       "10nt DNA Sequence:\n",
       "TCGTCCCAGG"
      ]
     },
     "execution_count": 9,
     "metadata": {},
     "output_type": "execute_result"
    }
   ],
   "source": [
    "sequence = BioSequences.randdnaseq(Random.seed!(1), 10)"
   ]
  },
  {
   "cell_type": "code",
   "execution_count": 10,
   "metadata": {},
   "outputs": [
    {
     "data": {
      "text/plain": [
       "BioSequences.Mer{BioSequences.DNAAlphabet{2},3}"
      ]
     },
     "execution_count": 10,
     "metadata": {},
     "output_type": "execute_result"
    }
   ],
   "source": [
    "KMER_TYPE = BioSequences.DNAMer{3}"
   ]
  },
  {
   "cell_type": "code",
   "execution_count": 11,
   "metadata": {},
   "outputs": [
    {
     "data": {
      "text/plain": [
       "Dict{Any,Int64} with 8 entries:\n",
       "  ACG => 1\n",
       "  GAC => 1\n",
       "  CCC => 1\n",
       "  GGA => 1\n",
       "  CGA => 1\n",
       "  AGG => 1\n",
       "  CAG => 1\n",
       "  CCA => 1"
      ]
     },
     "execution_count": 11,
     "metadata": {},
     "output_type": "execute_result"
    }
   ],
   "source": [
    "kmer_counts = StatsBase.countmap(\n",
    "    BioSequences.canonical(kmer.fw)\n",
    "        for kmer in BioSequences.each(KMER_TYPE, sequence))"
   ]
  },
  {
   "cell_type": "code",
   "execution_count": 12,
   "metadata": {},
   "outputs": [
    {
     "data": {
      "text/plain": [
       "8-element Array{Pair{Any,Int64},1}:\n",
       " ACG => 1\n",
       " AGG => 1\n",
       " CAG => 1\n",
       " CCA => 1\n",
       " CCC => 1\n",
       " CGA => 1\n",
       " GAC => 1\n",
       " GGA => 1"
      ]
     },
     "execution_count": 12,
     "metadata": {},
     "output_type": "execute_result"
    }
   ],
   "source": [
    "sorted_kmer_counts = collect(sort(kmer_counts))"
   ]
  },
  {
   "cell_type": "code",
   "execution_count": 13,
   "metadata": {},
   "outputs": [
    {
     "data": {
      "text/plain": [
       "OrderedCollections.OrderedDict{BioSequences.Mer{BioSequences.DNAAlphabet{2},3},NamedTuple{(:index, :count),Tuple{Int64,Int64}}} with 8 entries:\n",
       "  ACG => (index = 1, count = 1)\n",
       "  AGG => (index = 2, count = 1)\n",
       "  CAG => (index = 3, count = 1)\n",
       "  CCA => (index = 4, count = 1)\n",
       "  CCC => (index = 5, count = 1)\n",
       "  CGA => (index = 6, count = 1)\n",
       "  GAC => (index = 7, count = 1)\n",
       "  GGA => (index = 8, count = 1)"
      ]
     },
     "execution_count": 13,
     "metadata": {},
     "output_type": "execute_result"
    }
   ],
   "source": [
    "kmer_counts_dict = \n",
    "    DataStructures.OrderedDict(\n",
    "        kmer => (index = i, count = c) for (i, (kmer, c)) in enumerate(sorted_kmer_counts)\n",
    ")"
   ]
  },
  {
   "cell_type": "code",
   "execution_count": 14,
   "metadata": {},
   "outputs": [
    {
     "data": {
      "text/plain": [
       "8-element Array{BioSequences.Mer{BioSequences.DNAAlphabet{2},3},1}:\n",
       " ACG\n",
       " AGG\n",
       " CAG\n",
       " CCA\n",
       " CCC\n",
       " CGA\n",
       " GAC\n",
       " GGA"
      ]
     },
     "execution_count": 14,
     "metadata": {},
     "output_type": "execute_result"
    }
   ],
   "source": [
    "kmers = first.(sorted_kmer_counts)"
   ]
  },
  {
   "cell_type": "code",
   "execution_count": 15,
   "metadata": {},
   "outputs": [
    {
     "data": {
      "text/plain": [
       "8-element Array{Int64,1}:\n",
       " 1\n",
       " 1\n",
       " 1\n",
       " 1\n",
       " 1\n",
       " 1\n",
       " 1\n",
       " 1"
      ]
     },
     "execution_count": 15,
     "metadata": {},
     "output_type": "execute_result"
    }
   ],
   "source": [
    "counts = last.(sorted_kmer_counts)"
   ]
  },
  {
   "cell_type": "code",
   "execution_count": 16,
   "metadata": {},
   "outputs": [
    {
     "data": {
      "text/plain": [
       "104"
      ]
     },
     "execution_count": 16,
     "metadata": {},
     "output_type": "execute_result"
    }
   ],
   "source": [
    "Base.summarysize(kmers)"
   ]
  },
  {
   "cell_type": "code",
   "execution_count": 17,
   "metadata": {},
   "outputs": [
    {
     "data": {
      "text/plain": [
       "104"
      ]
     },
     "execution_count": 17,
     "metadata": {},
     "output_type": "execute_result"
    }
   ],
   "source": [
    "Base.summarysize(counts)"
   ]
  },
  {
   "cell_type": "code",
   "execution_count": 18,
   "metadata": {},
   "outputs": [
    {
     "data": {
      "text/plain": [
       "416"
      ]
     },
     "execution_count": 18,
     "metadata": {},
     "output_type": "execute_result"
    }
   ],
   "source": [
    "Base.summarysize(kmer_counts_dict)"
   ]
  },
  {
   "cell_type": "code",
   "execution_count": 19,
   "metadata": {},
   "outputs": [
    {
     "data": {
      "text/plain": [
       "BenchmarkTools.Trial: \n",
       "  memory estimate:  48 bytes\n",
       "  allocs estimate:  2\n",
       "  --------------\n",
       "  minimum time:     38.151 ns (0.00% GC)\n",
       "  median time:      40.450 ns (0.00% GC)\n",
       "  mean time:        43.954 ns (7.19% GC)\n",
       "  maximum time:     4.177 μs (98.89% GC)\n",
       "  --------------\n",
       "  samples:          10000\n",
       "  evals/sample:     992"
      ]
     },
     "execution_count": 19,
     "metadata": {},
     "output_type": "execute_result"
    }
   ],
   "source": [
    "# time to see if something is in the list\n",
    "generate_kmer(k) = BioSequences.canonical(BioSequences.DNAMer(BioSequences.randdnaseq(k)))\n",
    "BenchmarkTools.@benchmark get(kmer_counts_dict, $(generate_kmer(k)), (index = 0, count = 0))"
   ]
  },
  {
   "cell_type": "code",
   "execution_count": 20,
   "metadata": {},
   "outputs": [
    {
     "data": {
      "text/plain": [
       "BenchmarkTools.Trial: \n",
       "  memory estimate:  48 bytes\n",
       "  allocs estimate:  2\n",
       "  --------------\n",
       "  minimum time:     33.992 ns (0.00% GC)\n",
       "  median time:      34.569 ns (0.00% GC)\n",
       "  mean time:        38.648 ns (8.02% GC)\n",
       "  maximum time:     3.569 μs (98.67% GC)\n",
       "  --------------\n",
       "  samples:          10000\n",
       "  evals/sample:     993"
      ]
     },
     "execution_count": 20,
     "metadata": {},
     "output_type": "execute_result"
    }
   ],
   "source": [
    "x = BenchmarkTools.@benchmark searchsorted(kmers, $(generate_kmer(k)))"
   ]
  },
  {
   "cell_type": "code",
   "execution_count": 26,
   "metadata": {},
   "outputs": [
    {
     "name": "stdout",
     "output_type": "stream",
     "text": [
      "sequence_length = 1000\n",
      "\tk = 3\n",
      "\t\ttotal kmers = 32\n",
      "\n",
      "\t\tDict size relative to vectors\t\t: 1.6\n",
      "\t\tDict performance relative to vectors\t: 1.2\n",
      "\t\tnormalized performance\t\t\t: 0.8\n",
      "\tk = 5\n",
      "\t\ttotal kmers = 430\n",
      "\n",
      "\t\tDict size relative to vectors\t\t: 1.6\n",
      "\t\tDict performance relative to vectors\t: 1.4\n",
      "\t\tnormalized performance\t\t\t: 0.9\n",
      "sequence_length = 10000\n",
      "\tk = 3\n",
      "\t\ttotal kmers = 32\n",
      "\n",
      "\t\tDict size relative to vectors\t\t: 1.6\n",
      "\t\tDict performance relative to vectors\t: 1.2\n",
      "\t\tnormalized performance\t\t\t: 0.7\n",
      "\tk = 5\n",
      "\t\ttotal kmers = 512\n",
      "\n",
      "\t\tDict size relative to vectors\t\t: 1.5\n",
      "\t\tDict performance relative to vectors\t: 1.3\n",
      "\t\tnormalized performance\t\t\t: 0.9\n",
      "\tk = 7\n",
      "\t\ttotal kmers = 5750\n",
      "\n",
      "\t\tDict size relative to vectors\t\t: 1.7\n",
      "\t\tDict performance relative to vectors\t: 1.5\n",
      "\t\tnormalized performance\t\t\t: 0.9\n",
      "sequence_length = 100000\n",
      "\tk = 3\n",
      "\t\ttotal kmers = 32\n",
      "\n",
      "\t\tDict size relative to vectors\t\t: 1.6\n",
      "\t\tDict performance relative to vectors\t: 1.1\n",
      "\t\tnormalized performance\t\t\t: 0.7\n",
      "\tk = 5\n",
      "\t\ttotal kmers = 512\n",
      "\n",
      "\t\tDict size relative to vectors\t\t: 1.5\n",
      "\t\tDict performance relative to vectors\t: 1.4\n",
      "\t\tnormalized performance\t\t\t: 0.9\n",
      "\tk = 7\n",
      "\t\ttotal kmers = 8192\n",
      "\n",
      "\t\tDict size relative to vectors\t\t: 1.5\n",
      "\t\tDict performance relative to vectors\t: 1.4\n",
      "\t\tnormalized performance\t\t\t: 0.9\n",
      "sequence_length = 1000000\n",
      "\tk = 3\n",
      "\t\ttotal kmers = 32\n",
      "\n",
      "\t\tDict size relative to vectors\t\t: 1.6\n",
      "\t\tDict performance relative to vectors\t: 1.0\n",
      "\t\tnormalized performance\t\t\t: 0.7\n",
      "\tk = 5\n",
      "\t\ttotal kmers = 512\n",
      "\n",
      "\t\tDict size relative to vectors\t\t: 1.5\n",
      "\t\tDict performance relative to vectors\t: 1.1\n",
      "\t\tnormalized performance\t\t\t: 0.8\n",
      "\tk = 7\n",
      "\t\ttotal kmers = 8192\n",
      "\n",
      "\t\tDict size relative to vectors\t\t: 1.5\n",
      "\t\tDict performance relative to vectors\t: 1.6\n",
      "\t\tnormalized performance\t\t\t: 1.0\n",
      "sequence_length = 10000000\n",
      "\tk = 3\n",
      "\t\ttotal kmers = 32\n",
      "\n",
      "\t\tDict size relative to vectors\t\t: 1.6\n",
      "\t\tDict performance relative to vectors\t: 1.1\n",
      "\t\tnormalized performance\t\t\t: 0.7\n",
      "\tk = 5\n",
      "\t\ttotal kmers = 512\n",
      "\n",
      "\t\tDict size relative to vectors\t\t: 1.5\n",
      "\t\tDict performance relative to vectors\t: 1.2\n",
      "\t\tnormalized performance\t\t\t: 0.8\n",
      "\tk = 7\n",
      "\t\ttotal kmers = 8192\n",
      "\n",
      "\t\tDict size relative to vectors\t\t: 1.5\n",
      "\t\tDict performance relative to vectors\t: 1.2\n",
      "\t\tnormalized performance\t\t\t: 0.8\n",
      "\tk = 11\n",
      "\t\ttotal kmers = 2079555\n",
      "\n",
      "\t\tDict size relative to vectors\t\t: 1.5\n",
      "\t\tDict performance relative to vectors\t: 1.7\n",
      "\t\tnormalized performance\t\t\t: 1.1\n",
      "sequence_length = 100000000\n",
      "\tk = 3\n",
      "\t\ttotal kmers = 32\n",
      "\n",
      "\t\tDict size relative to vectors\t\t: 1.6\n",
      "\t\tDict performance relative to vectors\t: 0.9\n",
      "\t\tnormalized performance\t\t\t: 0.6\n",
      "\tk = 5\n",
      "\t\ttotal kmers = 512\n",
      "\n",
      "\t\tDict size relative to vectors\t\t: 1.5\n",
      "\t\tDict performance relative to vectors\t: 1.2\n",
      "\t\tnormalized performance\t\t\t: 0.8\n",
      "\tk = 7\n",
      "\t\ttotal kmers = 8192\n",
      "\n",
      "\t\tDict size relative to vectors\t\t: 1.5\n",
      "\t\tDict performance relative to vectors\t: 1.3\n",
      "\t\tnormalized performance\t\t\t: 0.9\n",
      "\tk = 11\n",
      "\t\ttotal kmers = 2097152\n",
      "\n",
      "\t\tDict size relative to vectors\t\t: 1.5\n",
      "\t\tDict performance relative to vectors\t: 2.0\n",
      "\t\tnormalized performance\t\t\t: 1.3\n",
      "\tk = 13\n",
      "\t\ttotal kmers = 31849943\n",
      "\n",
      "\t\tDict size relative to vectors\t\t: 1.5\n",
      "\t\tDict performance relative to vectors\t: 1.7\n",
      "\t\tnormalized performance\t\t\t: 1.1\n",
      "sequence_length = 1000000000\n",
      "\tk = 3\n",
      "\t\ttotal kmers = 32\n",
      "\n",
      "\t\tDict size relative to vectors\t\t: 1.6\n",
      "\t\tDict performance relative to vectors\t: 1.1\n",
      "\t\tnormalized performance\t\t\t: 0.7\n",
      "\tk = 5\n",
      "\t\ttotal kmers = 512\n",
      "\n",
      "\t\tDict size relative to vectors\t\t: 1.5\n",
      "\t\tDict performance relative to vectors\t: 1.2\n",
      "\t\tnormalized performance\t\t\t: 0.8\n",
      "\tk = 7\n",
      "\t\ttotal kmers = 8192\n",
      "\n",
      "\t\tDict size relative to vectors\t\t: 1.5\n",
      "\t\tDict performance relative to vectors\t: 1.1\n",
      "\t\tnormalized performance\t\t\t: 0.7\n",
      "\tk = 11\n",
      "\t\ttotal kmers = 2097152\n",
      "\n",
      "\t\tDict size relative to vectors\t\t: 1.5\n",
      "\t\tDict performance relative to vectors\t: 1.9\n",
      "\t\tnormalized performance\t\t\t: 1.3\n",
      "\tk = 13\n",
      "\t\ttotal kmers = 33554432\n",
      "\n",
      "\t\tDict size relative to vectors\t\t: 1.5\n",
      "\t\tDict performance relative to vectors\t: 1.9\n",
      "\t\tnormalized performance\t\t\t: 1.3\n"
     ]
    }
   ],
   "source": [
    "R = 3:9\n",
    "\n",
    "for sequence_length in [10^i for i in R]\n",
    "    println(\"sequence_length = $sequence_length\")\n",
    "    sequence = BioSequences.randdnaseq(Random.seed!(sequence_length), sequence_length)\n",
    "    max_k = Int(ceil(log(4, sequence_length)))\n",
    "    for k in Primes.primes(3, max_k)\n",
    "        println(\"\\tk = $k\")\n",
    "        KMER_TYPE = BioSequences.DNAMer{k}\n",
    "        kmer_counts = StatsBase.countmap(\n",
    "            BioSequences.canonical(kmer.fw)\n",
    "                for kmer in BioSequences.each(KMER_TYPE, sequence))\n",
    "        sorted_kmer_counts = collect(sort(kmer_counts))\n",
    "        kmer_counts_dict = \n",
    "            DataStructures.OrderedDict(\n",
    "                kmer => count for (kmer, count) in sorted_kmer_counts\n",
    "            )\n",
    "        kmers = first.(sorted_kmer_counts)\n",
    "        counts = last.(sorted_kmer_counts)\n",
    "        \n",
    "        println(\"\\t\\ttotal kmers = $(length(kmers))\\n\")\n",
    "\n",
    "        vector_size = Base.summarysize(kmers) + Base.summarysize(counts)\n",
    "\n",
    "        dict_size = Base.summarysize(kmer_counts_dict)\n",
    "        \n",
    "        relative_size = dict_size / vector_size\n",
    "        println(\"\\t\\tDict size relative to vectors\\t\\t: \", round(dict_size / vector_size, digits=1))\n",
    "        \n",
    "        vector_results = BenchmarkTools.@benchmark searchsorted(kmers, $(generate_kmer(k)))\n",
    "        dict_results = BenchmarkTools.@benchmark get(kmer_counts_dict, $(generate_kmer(k)), 0)\n",
    "        \n",
    "        relative_performance = Statistics.median(vector_results).time / Statistics.median(dict_results).time\n",
    "        println(\"\\t\\tDict performance relative to vectors\\t: \", round(relative_performance, digits=1))\n",
    "        println(\"\\t\\tnormalized performance\\t\\t\\t: \", round(relative_performance / relative_size, digits=1))\n",
    "\n",
    "    end\n",
    "end"
   ]
  },
  {
   "cell_type": "markdown",
   "metadata": {},
   "source": [
    "Looks like dictionary has a 50% storage overhead above just using Vectors, which isn't bad, but not great either"
   ]
  },
  {
   "cell_type": "markdown",
   "metadata": {},
   "source": [
    "Let's see how much of a performance improvement we can get by continuing to increase, which appears to be where the hashing finally starts to pay off in terms of speed improvement"
   ]
  },
  {
   "cell_type": "code",
   "execution_count": 27,
   "metadata": {},
   "outputs": [
    {
     "data": {
      "text/plain": [
       "assess_dict_vs_vectors (generic function with 1 method)"
      ]
     },
     "execution_count": 27,
     "metadata": {},
     "output_type": "execute_result"
    }
   ],
   "source": [
    "function assess_dict_vs_vectors(sequence, k)\n",
    "    KMER_TYPE = BioSequences.DNAMer{k}\n",
    "    kmer_counts = StatsBase.countmap(BioSequences.canonical(kmer.fw) for kmer in BioSequences.each(KMER_TYPE, sequence))\n",
    "    sorted_kmer_counts = collect(sort(kmer_counts))\n",
    "    \n",
    "    kmer_counts_dict = DataStructures.OrderedDict(\n",
    "            kmer => count for (kmer, count) in sorted_kmer_counts\n",
    "        )\n",
    "    \n",
    "    kmers = first.(sorted_kmer_counts)\n",
    "    counts = last.(sorted_kmer_counts)\n",
    "\n",
    "    println(\"\\t\\ttotal kmers = $(length(kmers))\\n\")\n",
    "\n",
    "    vector_size = Base.summarysize(kmers) + Base.summarysize(counts)\n",
    "\n",
    "    dict_size = Base.summarysize(kmer_counts_dict)\n",
    "\n",
    "    relative_size = dict_size / vector_size\n",
    "    println(\"\\t\\tDict size relative to vectors\\t\\t: \", round(dict_size / vector_size, digits=1))\n",
    "\n",
    "    vector_results = BenchmarkTools.@benchmark searchsorted(kmers, $(generate_kmer(k)))\n",
    "    dict_results = BenchmarkTools.@benchmark get(kmer_counts_dict, $(generate_kmer(k)), 0)\n",
    "\n",
    "    relative_performance = Statistics.median(vector_results).time / Statistics.median(dict_results).time\n",
    "    println(\"\\t\\tDict performance relative to vectors\\t: \", round(relative_performance, digits=1))\n",
    "    println(\"\\t\\tnormalized performance\\t\\t\\t: \", round(relative_performance / relative_size, digits=1))\n",
    "end"
   ]
  },
  {
   "cell_type": "code",
   "execution_count": null,
   "metadata": {},
   "outputs": [
    {
     "name": "stdout",
     "output_type": "stream",
     "text": [
      "sequence_length = 1000000000\n"
     ]
    }
   ],
   "source": [
    "sequence_length = 10^9\n",
    "println(\"sequence_length = $sequence_length\")\n",
    "sequence = BioSequences.randdnaseq(Random.seed!(sequence_length), sequence_length)\n",
    "for k in Primes.primes(3, 31)\n",
    "    println(\"\\tk = $k\")\n",
    "    assess_dict_vs_vectors(sequence, k)\n",
    "end"
   ]
  }
 ],
 "metadata": {
  "kernelspec": {
   "display_name": "Julia 1.5.3",
   "language": "julia",
   "name": "julia-1.5"
  },
  "language_info": {
   "file_extension": ".jl",
   "mimetype": "application/julia",
   "name": "julia",
   "version": "1.5.3"
  }
 },
 "nbformat": 4,
 "nbformat_minor": 4
}
