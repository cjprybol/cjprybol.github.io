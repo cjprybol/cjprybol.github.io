{
 "cells": [
  {
   "cell_type": "markdown",
   "metadata": {},
   "source": [
    "---\n",
    "layout: post  \n",
    "---"
   ]
  },
  {
   "cell_type": "code",
   "execution_count": null,
   "metadata": {},
   "outputs": [],
   "source": [
    "function viterbi_maximum_likelihood_traversals(stranded_kmer_graph;\n",
    "                                               error_rate::Float64=1/(stranded_kmer_graph.gprops[:k] + 1),\n",
    "                                               verbosity::String=\"dataset\")\n",
    "    @assert verbosity in [\"debug\", \"reads\", \"dataset\"]\n",
    "    if error_rate >= .5\n",
    "        error(\"Error rate >= 50%. Did you enter the accuracy by mistake?\")\n",
    "    end\n",
    "\n",
    "    if verbosity in [\"debug\", \"reads\", \"dataset\"]\n",
    "        println(\"computing kmer counts...\")\n",
    "    end\n",
    "    stranded_kmer_counts = [length(stranded_kmer_graph.vprops[vertex][:coverage]) for vertex in vertices(stranded_kmer_graph)]\n",
    "    if verbosity in [\"debug\", \"reads\", \"dataset\"]\n",
    "        println(\"computing kmer state likelihoods...\")\n",
    "    end\n",
    "    stranded_kmer_likelihoods = stranded_kmer_counts ./ sum(stranded_kmer_counts)\n",
    "    accuracy = 1 - error_rate\n",
    "\n",
    "    if verbosity in [\"debug\"]\n",
    "        println(\"STATE LIKELIHOODS:\")\n",
    "        println(\"\\tkmer\\tcount\\tlikelihood\")\n",
    "        for vertex in vertices(stranded_kmer_graph)\n",
    "            kmer = stranded_kmer_graph.gprops[:stranded_kmers][vertex]\n",
    "            count = stranded_kmer_counts[vertex]\n",
    "            likelihood = stranded_kmer_likelihoods[vertex]\n",
    "            println(\"\\t$kmer\\t$count\\t$likelihood\")\n",
    "        end\n",
    "    end\n",
    "    if verbosity in [\"debug\", \"reads\", \"dataset\"]\n",
    "        println(\"finding shortest paths between kmers...\")\n",
    "    end\n",
    "    shortest_paths = enumerate_paths(floyd_warshall_shortest_paths(stranded_kmer_graph))\n",
    "    K = stranded_kmer_graph.gprops[:K]\n",
    "    for K1 in 1:K\n",
    "        for K2 in 1:K\n",
    "            if K1 != K2\n",
    "                shortest_path = shortest_paths[K1][K2]\n",
    "                path_likelihood = 1.0\n",
    "                for ui in 1:length(shortest_path)-1\n",
    "                    u = shortest_path[ui]\n",
    "                    v = shortest_path[ui + 1]\n",
    "                    # likelihood of the transition\n",
    "                    path_likelihood *= edge_probability(stranded_kmer_graph, Edge(u, v))\n",
    "                end\n",
    "                if path_likelihood == 0.0\n",
    "                    shortest_paths[K1][K2] = Vector{Int}()\n",
    "                end\n",
    "            elseif K1 == K2\n",
    "                # the shortest path from a kmer to itself is an insertion (no edge)\n",
    "                # so need to manually check for self loops\n",
    "                if has_edge(stranded_kmer_graph, Edge(K1, K2))\n",
    "                    if edge_probability(stranded_kmer_graph, Edge(K1, K2)) != 0.0\n",
    "                        shortest_paths[K1][K2] = [K1, K2]\n",
    "                    else\n",
    "                        shortest_paths[K1][K2] = Vector{Int}()\n",
    "                    end\n",
    "                # otherwise, check to see if any outneighbors connect back to the kmer\n",
    "                else\n",
    "                    connected_outneighbors = filter(outneighbor -> has_path(stranded_kmer_graph, outneighbor, K2), outneighbors(stranded_kmer_graph, K1))\n",
    "                    if !isempty(connected_outneighbors)\n",
    "                        outneighbor_cycles = [[K1, shortest_paths[outneighbor][K2]...] for outneighbor in connected_outneighbors]\n",
    "                        cycle_likelihoods = ones(length(outneighbor_cycles))\n",
    "                        for (i, cycle) in enumerate(outneighbor_cycles)\n",
    "                            for ui in 1:length(cycle)-1\n",
    "                                u = cycle[ui]\n",
    "                                v = cycle[ui + 1]\n",
    "                                # likelihood of the transition\n",
    "                                cycle_likelihoods[i] *= edge_probability(stranded_kmer_graph, Edge(u, v))\n",
    "                            end\n",
    "                            # include likelihoods of states\n",
    "                            for vertex in cycle[2:end-1]\n",
    "                                cycle_likelihoods[i] *= stranded_kmer_likelihoods[vertex]\n",
    "                            end\n",
    "                        end\n",
    "                        path_likelihood = maximum(cycle_likelihoods)\n",
    "                        max_likelihood_cycle_indices = findall(cycle_likelihoods .== path_likelihood)\n",
    "                        shortest_paths[K1][K2] = outneighbor_cycles[first(max_likelihood_cycle_indices)]\n",
    "                    else\n",
    "                        shortest_paths[K1][K2] = Vector{Int}()\n",
    "                    end\n",
    "                end\n",
    "            end\n",
    "            if length(shortest_paths[K1][K2]) == 1\n",
    "                shortest_paths[K1][K2] = Vector{Int}()\n",
    "            end\n",
    "        end\n",
    "    end\n",
    "\n",
    "    if verbosity in [\"debug\"]\n",
    "        for K1 in 1:K\n",
    "            for K2 in 1:K\n",
    "                println(\"\\t$K1\\t$K2\\t$(shortest_paths[K1][K2])\")\n",
    "            end\n",
    "        end\n",
    "    end\n",
    "\n",
    "    total_bases_observed = 0\n",
    "    total_edits_accepted = 0\n",
    "\n",
    "    corrected_observations = FASTA.Record[]\n",
    "    if verbosity in [\"debug\", \"reads\", \"dataset\"]\n",
    "        println(\"finding viterbi maximum likelihood paths for observed sequences...\")\n",
    "    end\n",
    "    # p = Progress(length(stranded_kmer_graph.gprops[:observed_paths]))\n",
    "    for (observation_index, observed_path) in enumerate(stranded_kmer_graph.gprops[:observed_paths])\n",
    "        if verbosity in [\"debug\", \"reads\"]\n",
    "            println(\"\\nevaluating sequence $observation_index of $(length(stranded_kmer_graph.gprops[:observed_paths]))\")\n",
    "        end\n",
    "        # consider switching to log transform\n",
    "        kmer_likelihoods = zeros(nv(stranded_kmer_graph), length(observed_path))\n",
    "        kmer_arrival_paths = Array{Vector{Int}}(undef, nv(stranded_kmer_graph), length(observed_path))\n",
    "        edit_distances = zeros(Int, nv(stranded_kmer_graph), length(observed_path))\n",
    "        observed_kmer_index = observed_path[1]\n",
    "        observed_kmer_sequence = stranded_kmer_graph.gprops[:stranded_kmers][observed_kmer_index]\n",
    "        for hidden_kmer_index in vertices(stranded_kmer_graph)\n",
    "            hidden_kmer_sequence = stranded_kmer_graph.gprops[:stranded_kmers][hidden_kmer_index]\n",
    "            alignment_result = pairalign(LevenshteinDistance(), observed_kmer_sequence, hidden_kmer_sequence)\n",
    "            number_of_matches = count_matches(alignment(alignment_result))\n",
    "            number_of_edits = stranded_kmer_graph.gprops[:k] - number_of_matches\n",
    "            kmer_likelihoods[hidden_kmer_index, 1] = stranded_kmer_likelihoods[hidden_kmer_index]\n",
    "            for match in 1:number_of_matches\n",
    "                kmer_likelihoods[hidden_kmer_index, 1] *= accuracy\n",
    "            end\n",
    "            for edit in 1:number_of_edits\n",
    "                kmer_likelihoods[hidden_kmer_index, 1] *= error_rate\n",
    "            end\n",
    "            kmer_arrival_paths[hidden_kmer_index, 1] = Vector{Int}()\n",
    "            edit_distances[hidden_kmer_index, 1] = number_of_edits\n",
    "        end\n",
    "        kmer_likelihoods[:, 1] ./= sum(kmer_likelihoods[:, 1])\n",
    "        # from here on, all probabilities are log transformed\n",
    "        kmer_likelihoods[:, 1] .= log.(kmer_likelihoods[:, 1])\n",
    "        if verbosity in [\"debug\"]\n",
    "            println(\"\\tconsidering path state 1\")\n",
    "            println(\"\\t\\tobserved kmer $observed_kmer_sequence\")\n",
    "            println(\"\\t\\tInitial state log likelihoods:\")\n",
    "            for line in split(repr(MIME(\"text/plain\"), kmer_likelihoods[:, 1]), '\\n')\n",
    "                println(\"\\t\\t\\t$line\")\n",
    "            end\n",
    "        end\n",
    "        for observed_path_index in 2:length(observed_path)\n",
    "            observed_kmer_index = observed_path[observed_path_index]\n",
    "            observed_base = stranded_kmer_graph.gprops[:stranded_kmers][observed_kmer_index][end]\n",
    "\n",
    "            if verbosity in [\"debug\"]\n",
    "                println(\"\\tconsidering path state $observed_path_index\")\n",
    "                println(\"\\t\\tobserved base $observed_base\")\n",
    "            end\n",
    "\n",
    "            MATCH = 1\n",
    "            MISMATCH = 2\n",
    "            DELETION = 3\n",
    "            INSERTION = 4\n",
    "            arrival_likelihoods = ones(K, 4)\n",
    "            arrival_paths = fill(Vector{Int}(), K, 4)\n",
    "\n",
    "            for K2 in 1:K\n",
    "                kmer_base = stranded_kmer_graph.gprops[:stranded_kmers][K2][end]\n",
    "                base_is_match = kmer_base == observed_base\n",
    "\n",
    "                maximum_likelihood = log(0.0)\n",
    "                maximum_likelihood_path = Vector{Int}()\n",
    "                maximum_likelihood_edit_distance = 0\n",
    "\n",
    "                for K1 in 1:K\n",
    "                    shortest_path = shortest_paths[K1][K2]\n",
    "                    if length(shortest_path) >= 2\n",
    "                        edit_distance = Int(!base_is_match) + length(shortest_path) - 2\n",
    "                        if edit_distance == 0\n",
    "                            p = kmer_likelihoods[K1, observed_path_index-1] +\n",
    "                                log(accuracy) + log(stranded_kmer_likelihoods[K2])\n",
    "                        else\n",
    "                            p = kmer_likelihoods[K1, observed_path_index-1] +\n",
    "                                log(error_rate^edit_distance) + log(stranded_kmer_likelihoods[K2])\n",
    "                        end\n",
    "                        edit_distance += edit_distances[K1, observed_path_index-1]\n",
    "                    else\n",
    "                        p = log(0.0)\n",
    "                    end\n",
    "                    if K1 == K2 # consider insertion\n",
    "                        # in theory, I don't think we should care if the base\n",
    "                        # matches or not because it's an inserted & erroneous\n",
    "                        # base, but in practice it's necessary to balance\n",
    "                        # insertion probabilities with deletion probabilities\n",
    "                        insertion_p = kmer_likelihoods[K1, observed_path_index-1] +\n",
    "                                      log(error_rate^(1 + Int(!base_is_match))) + log(stranded_kmer_likelihoods[K2])\n",
    "                        if insertion_p > p\n",
    "                            p = insertion_p\n",
    "                            edit_distance = edit_distances[K1, observed_path_index-1] + 1\n",
    "                            shortest_path = [K2]\n",
    "                        end\n",
    "                    end\n",
    "                    if p > maximum_likelihood\n",
    "                        maximum_likelihood = p\n",
    "                        maximum_likelihood_path = shortest_path\n",
    "                        maximum_likelihood_edit_distance = edit_distance\n",
    "                    end\n",
    "                end\n",
    "                kmer_likelihoods[K2, observed_path_index] = maximum_likelihood\n",
    "                kmer_arrival_paths[K2, observed_path_index] = maximum_likelihood_path\n",
    "                edit_distances[K2, observed_path_index] = maximum_likelihood_edit_distance\n",
    "            end\n",
    "\n",
    "            if verbosity in [\"debug\"]\n",
    "                println(\"\\t\\tkmer log likelihoods\")\n",
    "                for line in split(repr(MIME(\"text/plain\"), kmer_likelihoods), '\\n')\n",
    "                    println(\"\\t\\t\\t$line\")\n",
    "                end\n",
    "                println(\"\\t\\tarrival paths\")\n",
    "                for line in split(repr(MIME(\"text/plain\"), kmer_arrival_paths), '\\n')\n",
    "                    println(\"\\t\\t\\t$line\")\n",
    "                end\n",
    "            end\n",
    "        end\n",
    "\n",
    "        if verbosity in [\"debug\"]\n",
    "            println(\"\\n\\tInputs for viterbi maximum likelihood traversal evaluation:\")\n",
    "            println(\"\\t\\tkmer log likelihoods\")\n",
    "            for line in split(repr(MIME(\"text/plain\"), kmer_likelihoods), '\\n')\n",
    "                println(\"\\t\\t\\t$line\")\n",
    "            end\n",
    "            println(\"\\t\\tkmer arrival paths\")\n",
    "            for line in split(repr(MIME(\"text/plain\"), kmer_arrival_paths), '\\n')\n",
    "                println(\"\\t\\t\\t$line\")\n",
    "            end\n",
    "            println(\"\\t\\tedit distances\")\n",
    "            for line in split(repr(MIME(\"text/plain\"), edit_distances), '\\n')\n",
    "                println(\"\\t\\t\\t$line\")\n",
    "            end\n",
    "        end\n",
    "\n",
    "        ## backtrack\n",
    "        maximum_likelihood_path_value = maximum(kmer_likelihoods[:, end])\n",
    "        maximum_likelihood_path_indices = findall(kmer_likelihoods[:, end] .== maximum_likelihood_path_value)\n",
    "        # if multiple paths are tied, randomly choose one\n",
    "        maximum_likelihood_path_index = rand(maximum_likelihood_path_indices)\n",
    "        maximum_likelihood_edit_distance = edit_distances[maximum_likelihood_path_index, end]\n",
    "\n",
    "        if length(kmer_arrival_paths[maximum_likelihood_path_index, end]) > 0\n",
    "            maximum_likelihood_path = last(kmer_arrival_paths[maximum_likelihood_path_index, end])\n",
    "            for observed_path_index in length(observed_path):-1:1\n",
    "                maximum_likelihood_arrival_path = kmer_arrival_paths[maximum_likelihood_path_index, observed_path_index]\n",
    "                maximum_likelihood_path = vcat(maximum_likelihood_arrival_path[1:end-1], maximum_likelihood_path)\n",
    "                maximum_likelihood_path_index = first(maximum_likelihood_path)\n",
    "            end\n",
    "        else\n",
    "            maximum_likelihood_path = [maximum_likelihood_path_index]\n",
    "        end\n",
    "        observed_sequence = path_to_sequence(stranded_kmer_graph.gprops[:stranded_kmers], observed_path)\n",
    "        maximum_likelihood_sequence = path_to_sequence(stranded_kmer_graph.gprops[:stranded_kmers], maximum_likelihood_path)\n",
    "        if verbosity in [\"debug\", \"reads\"]\n",
    "            println(\"\\tobserved sequence                 $observed_sequence\")\n",
    "            println(\"\\tmaximum likelihood sequence       $maximum_likelihood_sequence\")\n",
    "            println(\"\\tmaximum likelihood edit distance  $maximum_likelihood_edit_distance\")\n",
    "        end\n",
    "        total_bases_observed += length(observed_sequence)\n",
    "        total_edits_accepted += maximum_likelihood_edit_distance\n",
    "        id = stranded_kmer_graph.gprops[:observation_ids][observation_index]\n",
    "        kmer_stamped_id = id * \"_\" * string(stranded_kmer_graph.gprops[:k])\n",
    "        push!(corrected_observations, FASTA.Record(kmer_stamped_id, maximum_likelihood_sequence))\n",
    "        # progress meter\n",
    "        # next!(p)\n",
    "    end\n",
    "    if verbosity in [\"debug\", \"reads\", \"dataset\"]\n",
    "        println(\"\\nDATASET STATISTICS:\")\n",
    "        println(\"\\tassumed error rate    $(error_rate * 100)%\")\n",
    "        println(\"\\ttotal bases observed  $total_bases_observed\")\n",
    "        println(\"\\ttotal edits accepted  $total_edits_accepted\")\n",
    "        println(\"\\tinferred error rate   $((total_edits_accepted/total_bases_observed) * 100)%\")\n",
    "    end\n",
    "    return corrected_observations\n",
    "end"
   ]
  },
  {
   "cell_type": "code",
   "execution_count": 204,
   "metadata": {},
   "outputs": [
    {
     "name": "stderr",
     "output_type": "stream",
     "text": [
      "\u001b[32m\u001b[1m  Resolving\u001b[22m\u001b[39m package versions...\n",
      "\u001b[32m\u001b[1mUpdating\u001b[22m\u001b[39m `~/.julia/environments/v1.5/Project.toml`\n",
      " \u001b[90m [2f01184e] \u001b[39m\u001b[92m+ SparseArrays\u001b[39m\n",
      "\u001b[32m\u001b[1mNo Changes\u001b[22m\u001b[39m to `~/.julia/environments/v1.5/Manifest.toml`\n"
     ]
    }
   ],
   "source": [
    "import Pkg\n",
    "pkgs = [\n",
    "    \"BioSequences\",\n",
    "    \"Random\",\n",
    "    \"BenchmarkTools\",\n",
    "    \"Primes\",\n",
    "    \"LightGraphs\",\n",
    "    \"StatsBase\",\n",
    "    \"DataStructures\",\n",
    "    \"GraphRecipes\",\n",
    "    \"Plots\",\n",
    "    \"BioSymbols\",\n",
    "    \"StatsPlots\",\n",
    "    \"BioAlignments\",\n",
    "    \"SparseArrays\"\n",
    "]\n",
    "\n",
    "Pkg.add(pkgs)\n",
    "for pkg in pkgs\n",
    "    eval(Meta.parse(\"import $pkg\"))\n",
    "end"
   ]
  },
  {
   "cell_type": "code",
   "execution_count": 6,
   "metadata": {},
   "outputs": [
    {
     "data": {
      "text/plain": [
       "3"
      ]
     },
     "execution_count": 6,
     "metadata": {},
     "output_type": "execute_result"
    }
   ],
   "source": [
    "K = 3"
   ]
  },
  {
   "cell_type": "code",
   "execution_count": 7,
   "metadata": {},
   "outputs": [
    {
     "data": {
      "text/plain": [
       "BioSequences.Mer{BioSequences.DNAAlphabet{2},3}"
      ]
     },
     "execution_count": 7,
     "metadata": {},
     "output_type": "execute_result"
    }
   ],
   "source": [
    "KMER_TYPE = BioSequences.DNAMer{K}"
   ]
  },
  {
   "cell_type": "code",
   "execution_count": 9,
   "metadata": {},
   "outputs": [
    {
     "data": {
      "text/plain": [
       "10nt DNA Sequence:\n",
       "TCGTCCCAGG"
      ]
     },
     "execution_count": 9,
     "metadata": {},
     "output_type": "execute_result"
    }
   ],
   "source": [
    "sequence = BioSequences.randdnaseq(Random.seed!(1), 10)"
   ]
  },
  {
   "cell_type": "code",
   "execution_count": 207,
   "metadata": {},
   "outputs": [
    {
     "data": {
      "text/plain": [
       "get_kmer_counts (generic function with 1 method)"
      ]
     },
     "execution_count": 207,
     "metadata": {},
     "output_type": "execute_result"
    }
   ],
   "source": [
    "function get_kmer_counts(::Type{KMER_TYPE}, sequence) where KMER_TYPE\n",
    "    raw_kmer_counts = StatsBase.countmap(BioSequences.canonical(kmer.fw) for kmer in BioSequences.each(KMER_TYPE, sequence))\n",
    "    kmer_counts = convert(Dict{KMER_TYPE, Int}, raw_kmer_counts)\n",
    "    return sort(kmer_counts)\n",
    "end"
   ]
  },
  {
   "cell_type": "code",
   "execution_count": 208,
   "metadata": {},
   "outputs": [
    {
     "data": {
      "text/plain": [
       "OrderedCollections.OrderedDict{BioSequences.Mer{BioSequences.DNAAlphabet{2},3},Int64} with 8 entries:\n",
       "  ACG => 1\n",
       "  AGG => 1\n",
       "  CAG => 1\n",
       "  CCA => 1\n",
       "  CCC => 1\n",
       "  CGA => 1\n",
       "  GAC => 1\n",
       "  GGA => 1"
      ]
     },
     "execution_count": 208,
     "metadata": {},
     "output_type": "execute_result"
    }
   ],
   "source": [
    "kmer_counts = get_kmer_counts(KMER_TYPE, sequence)"
   ]
  },
  {
   "cell_type": "code",
   "execution_count": 209,
   "metadata": {},
   "outputs": [
    {
     "data": {
      "text/plain": [
       "{8, 0} undirected simple Int64 graph"
      ]
     },
     "execution_count": 209,
     "metadata": {},
     "output_type": "execute_result"
    }
   ],
   "source": [
    "graph = LightGraphs.SimpleGraph(length(kmer_counts))"
   ]
  },
  {
   "cell_type": "code",
   "execution_count": 210,
   "metadata": {},
   "outputs": [
    {
     "data": {
      "text/plain": [
       "8-element Array{BioSequences.Mer{BioSequences.DNAAlphabet{2},3},1}:\n",
       " ACG\n",
       " AGG\n",
       " CAG\n",
       " CCA\n",
       " CCC\n",
       " CGA\n",
       " GAC\n",
       " GGA"
      ]
     },
     "execution_count": 210,
     "metadata": {},
     "output_type": "execute_result"
    }
   ],
   "source": [
    "kmers = collect(keys(kmer_counts))"
   ]
  },
  {
   "cell_type": "code",
   "execution_count": 211,
   "metadata": {},
   "outputs": [
    {
     "data": {
      "text/plain": [
       "get_kmer_index (generic function with 1 method)"
      ]
     },
     "execution_count": 211,
     "metadata": {},
     "output_type": "execute_result"
    }
   ],
   "source": [
    "function get_kmer_index(kmers, kmer)\n",
    "    index_range = searchsorted(kmers, kmer)\n",
    "    if !isempty(index_range)\n",
    "        return first(index_range)\n",
    "    else\n",
    "        return nothing\n",
    "    end\n",
    "end"
   ]
  },
  {
   "cell_type": "code",
   "execution_count": 212,
   "metadata": {},
   "outputs": [],
   "source": [
    "for i in 1:length(sequence)-K\n",
    "    a_to_b_connection = sequence[i:i+K]\n",
    "    a = BioSequences.canonical(BioSequences.DNAMer(a_to_b_connection[1:end-1]))\n",
    "    b = BioSequences.canonical(BioSequences.DNAMer(a_to_b_connection[2:end]))\n",
    "    a_index = get_kmer_index(kmers, a)\n",
    "    b_index = get_kmer_index(kmers, b)\n",
    "    edge = LightGraphs.Edge(a_index, b_index)\n",
    "    LightGraphs.add_edge!(graph, edge)\n",
    "end"
   ]
  },
  {
   "cell_type": "code",
   "execution_count": 213,
   "metadata": {},
   "outputs": [
    {
     "data": {
      "text/plain": [
       "{8, 7} undirected simple Int64 graph"
      ]
     },
     "execution_count": 213,
     "metadata": {},
     "output_type": "execute_result"
    }
   ],
   "source": [
    "graph"
   ]
  },
  {
   "cell_type": "code",
   "execution_count": 214,
   "metadata": {},
   "outputs": [
    {
     "data": {
      "image/svg+xml": [
       "<?xml version=\"1.0\" encoding=\"utf-8\"?>\n",
       "<svg xmlns=\"http://www.w3.org/2000/svg\" xmlns:xlink=\"http://www.w3.org/1999/xlink\" width=\"600\" height=\"400\" viewBox=\"0 0 2400 1600\">\n",
       "<defs>\n",
       "  <clipPath id=\"clip280\">\n",
       "    <rect x=\"0\" y=\"0\" width=\"2400\" height=\"1600\"/>\n",
       "  </clipPath>\n",
       "</defs>\n",
       "<path clip-path=\"url(#clip280)\" d=\"\n",
       "M0 1600 L2400 1600 L2400 0 L0 0  Z\n",
       "  \" fill=\"#ffffff\" fill-rule=\"evenodd\" fill-opacity=\"1\"/>\n",
       "<defs>\n",
       "  <clipPath id=\"clip281\">\n",
       "    <rect x=\"480\" y=\"0\" width=\"1681\" height=\"1600\"/>\n",
       "  </clipPath>\n",
       "</defs>\n",
       "<path clip-path=\"url(#clip280)\" d=\"\n",
       "M482.992 1521.01 L1956.76 1521.01 L1956.76 47.2441 L482.992 47.2441  Z\n",
       "  \" fill=\"#ffffff\" fill-rule=\"evenodd\" fill-opacity=\"1\"/>\n",
       "<defs>\n",
       "  <clipPath id=\"clip282\">\n",
       "    <rect x=\"482\" y=\"47\" width=\"1475\" height=\"1475\"/>\n",
       "  </clipPath>\n",
       "</defs>\n",
       "<polyline clip-path=\"url(#clip282)\" style=\"stroke:#000000; stroke-width:4; stroke-opacity:1; fill:none\" points=\"\n",
       "  1493.63,403.578 1500.39,403.392 1507.15,403.197 1513.9,402.983 1520.63,402.741 1527.34,402.462 1534.03,402.137 1540.68,401.755 1547.3,401.309 1553.87,400.788 \n",
       "  1560.39,400.184 1566.86,399.486 1573.27,398.686 1579.62,397.775 1585.89,396.743 1592.1,395.58 1598.22,394.278 1604.25,392.828 1610.19,391.219 1616.04,389.442 \n",
       "  1621.79,387.49 1627.42,385.351 1632.95,383.017 1638.36,380.478 1643.64,377.725 1648.8,374.75 1653.82,371.551 1658.72,368.139 1663.51,364.523 1668.18,360.711 \n",
       "  1672.75,356.713 1677.21,352.538 1681.58,348.196 1685.85,343.696 1690.04,339.047 1694.15,334.258 1698.18,329.34 1702.14,324.3 1706.04,319.149 1709.88,313.896 \n",
       "  1713.67,308.549 1717.41,303.119 1721.1,297.615 1724.76,292.045 1728.39,286.42 1731.98,280.748 1735.56,275.039 1739.12,269.302 1742.67,263.547 1746.22,257.782 \n",
       "  \n",
       "  \"/>\n",
       "<polyline clip-path=\"url(#clip282)\" style=\"stroke:#000000; stroke-width:4; stroke-opacity:1; fill:none\" points=\"\n",
       "  1493.63,403.578 1490.48,409.314 1487.32,415.04 1484.16,420.749 1480.97,426.43 1477.77,432.074 1474.53,437.673 1471.27,443.217 1467.96,448.697 1464.61,454.104 \n",
       "  1461.2,459.428 1457.74,464.662 1454.22,469.795 1450.63,474.818 1446.97,479.723 1443.23,484.5 1439.4,489.14 1435.48,493.634 1431.47,497.973 1427.35,502.147 \n",
       "  1423.13,506.148 1418.8,509.966 1414.34,513.592 1409.76,517.018 1405.06,520.233 1400.21,523.23 1395.23,526.008 1390.12,528.576 1384.89,530.943 1379.54,533.119 \n",
       "  1374.07,535.112 1368.5,536.931 1362.83,538.586 1357.06,540.085 1351.2,541.439 1345.25,542.656 1339.23,543.744 1333.13,544.715 1326.97,545.575 1320.74,546.335 \n",
       "  1314.45,547.004 1308.12,547.591 1301.74,548.104 1295.32,548.554 1288.87,548.949 1282.38,549.298 1275.88,549.611 1269.36,549.896 1262.83,550.163 1256.29,550.421 \n",
       "  \n",
       "  \"/>\n",
       "<polyline clip-path=\"url(#clip282)\" style=\"stroke:#000000; stroke-width:4; stroke-opacity:1; fill:none\" points=\"\n",
       "  693.53,1310.47 697.468,1308.15 701.396,1305.83 705.303,1303.5 709.178,1301.16 713.013,1298.81 716.795,1296.45 720.515,1294.08 724.162,1291.68 727.727,1289.26 \n",
       "  731.197,1286.82 734.564,1284.35 737.817,1281.85 740.945,1279.32 743.938,1276.75 746.785,1274.14 749.477,1271.49 752.003,1268.8 754.352,1266.07 756.514,1263.28 \n",
       "  758.479,1260.44 760.236,1257.55 761.775,1254.6 763.085,1251.59 764.157,1248.52 764.979,1245.38 765.553,1242.18 765.888,1238.92 765.995,1235.59 765.883,1232.21 \n",
       "  765.564,1228.77 765.047,1225.28 764.344,1221.75 763.464,1218.16 762.417,1214.53 761.215,1210.87 759.868,1207.16 758.385,1203.42 756.778,1199.64 755.057,1195.84 \n",
       "  753.231,1192.01 751.313,1188.15 749.311,1184.27 747.236,1180.38 745.1,1176.46 742.911,1172.54 740.68,1168.6 738.419,1164.65 736.137,1160.7 733.844,1156.75 \n",
       "  \n",
       "  \"/>\n",
       "<polyline clip-path=\"url(#clip282)\" style=\"stroke:#000000; stroke-width:4; stroke-opacity:1; fill:none\" points=\"\n",
       "  733.844,1156.75 738.144,1154.88 742.433,1153.01 746.703,1151.13 750.943,1149.24 755.144,1147.33 759.295,1145.4 763.387,1143.44 767.41,1141.46 771.354,1139.44 \n",
       "  775.21,1137.38 778.966,1135.29 782.614,1133.14 786.143,1130.94 789.544,1128.69 792.807,1126.38 795.921,1124.01 798.878,1121.57 801.666,1119.06 804.277,1116.47 \n",
       "  806.701,1113.8 808.927,1111.05 810.945,1108.21 812.747,1105.28 814.321,1102.25 815.658,1099.12 816.759,1095.88 817.633,1092.55 818.29,1089.13 818.739,1085.62 \n",
       "  818.991,1082.02 819.055,1078.35 818.942,1074.6 818.66,1070.77 818.221,1066.88 817.634,1062.93 816.908,1058.92 816.054,1054.85 815.081,1050.73 814,1046.56 \n",
       "  812.82,1042.36 811.551,1038.11 810.204,1033.83 808.787,1029.53 807.311,1025.19 805.785,1020.84 804.22,1016.47 802.625,1012.08 801.011,1007.69 799.387,1003.29 \n",
       "  \n",
       "  \"/>\n",
       "<polyline clip-path=\"url(#clip282)\" style=\"stroke:#000000; stroke-width:4; stroke-opacity:1; fill:none\" points=\"\n",
       "  799.387,1003.29 804.225,1002.05 809.054,1000.79 813.865,999.525 818.651,998.24 823.401,996.93 828.108,995.589 832.762,994.21 837.354,992.789 841.877,991.317 \n",
       "  846.321,989.789 850.678,988.199 854.938,986.541 859.093,984.808 863.134,982.995 867.053,981.094 870.841,979.1 874.488,977.006 877.987,974.807 881.328,972.495 \n",
       "  884.503,970.066 887.503,967.512 890.319,964.828 892.943,962.006 895.365,959.042 897.577,955.928 899.58,952.666 901.382,949.26 902.991,945.718 904.416,942.045 \n",
       "  905.666,938.248 906.75,934.332 907.676,930.305 908.454,926.172 909.091,921.939 909.597,917.613 909.981,913.2 910.251,908.706 910.416,904.138 910.484,899.501 \n",
       "  910.465,894.801 910.367,890.046 910.2,885.241 909.971,880.393 909.689,875.507 909.364,870.59 909.004,865.648 908.617,860.688 908.213,855.715 907.8,850.736 \n",
       "  \n",
       "  \"/>\n",
       "<polyline clip-path=\"url(#clip282)\" style=\"stroke:#000000; stroke-width:4; stroke-opacity:1; fill:none\" points=\"\n",
       "  907.8,850.736 913.188,849.945 918.568,849.147 923.934,848.334 929.276,847.497 934.589,846.63 939.863,845.725 945.093,844.774 950.27,843.769 955.386,842.703 \n",
       "  960.435,841.569 965.408,840.357 970.298,839.062 975.098,837.675 979.799,836.189 984.396,834.596 988.879,832.888 993.241,831.058 997.475,829.098 1001.57,827 \n",
       "  1005.53,824.757 1009.33,822.361 1012.98,819.804 1016.46,817.08 1019.77,814.179 1022.89,811.096 1025.84,807.829 1028.61,804.387 1031.22,800.776 1033.66,797.005 \n",
       "  1035.96,793.081 1038.11,789.011 1040.13,784.804 1042.02,780.467 1043.79,776.008 1045.45,771.434 1047,766.753 1048.45,761.973 1049.81,757.101 1051.09,752.145 \n",
       "  1052.3,747.112 1053.43,742.011 1054.51,736.849 1055.53,731.633 1056.51,726.371 1057.45,721.071 1058.36,715.74 1059.24,710.386 1060.12,705.018 1060.98,699.641 \n",
       "  \n",
       "  \"/>\n",
       "<polyline clip-path=\"url(#clip282)\" style=\"stroke:#000000; stroke-width:4; stroke-opacity:1; fill:none\" points=\"\n",
       "  1256.29,550.421 1254.26,556.025 1252.22,561.621 1250.17,567.2 1248.1,572.754 1246.01,578.273 1243.88,583.75 1241.71,589.175 1239.5,594.541 1237.23,599.838 \n",
       "  1234.91,605.059 1232.52,610.194 1230.06,615.235 1227.52,620.174 1224.89,625.003 1222.18,629.711 1219.37,634.292 1216.45,638.736 1213.42,643.035 1210.28,647.181 \n",
       "  1207.01,651.164 1203.61,654.977 1200.07,658.611 1196.39,662.057 1192.56,665.307 1188.58,668.352 1184.43,671.193 1180.14,673.837 1175.71,676.294 1171.13,678.572 \n",
       "  1166.43,680.679 1161.61,682.624 1156.66,684.416 1151.61,686.062 1146.45,687.572 1141.19,688.954 1135.84,690.217 1130.41,691.368 1124.9,692.417 1119.32,693.373 \n",
       "  1113.67,694.243 1107.96,695.036 1102.2,695.761 1096.4,696.426 1090.56,697.04 1084.68,697.611 1078.78,698.149 1072.86,698.66 1066.92,699.155 1060.98,699.641 \n",
       "  \n",
       "  \"/>\n",
       "<path clip-path=\"url(#clip282)\" d=\"\n",
       "M1544.79 403.578 L1519.21 359.272 L1468.05 359.272 L1442.47 403.578 L1468.05 447.885 L1519.21 447.885 L1544.79 403.578 L1544.79 403.578  Z\n",
       "  \" fill=\"#009af9\" fill-rule=\"evenodd\" fill-opacity=\"1\"/>\n",
       "<polyline clip-path=\"url(#clip282)\" style=\"stroke:#000000; stroke-width:4; stroke-opacity:1; fill:none\" points=\"\n",
       "  1544.79,403.578 1519.21,359.272 1468.05,359.272 1442.47,403.578 1468.05,447.885 1519.21,447.885 1544.79,403.578 \n",
       "  \"/>\n",
       "<path clip-path=\"url(#clip282)\" d=\"\n",
       "M744.69 1310.47 L719.11 1266.16 L667.949 1266.16 L642.369 1310.47 L667.949 1354.78 L719.11 1354.78 L744.69 1310.47 L744.69 1310.47  Z\n",
       "  \" fill=\"#009af9\" fill-rule=\"evenodd\" fill-opacity=\"1\"/>\n",
       "<polyline clip-path=\"url(#clip282)\" style=\"stroke:#000000; stroke-width:4; stroke-opacity:1; fill:none\" points=\"\n",
       "  744.69,1310.47 719.11,1266.16 667.949,1266.16 642.369,1310.47 667.949,1354.78 719.11,1354.78 744.69,1310.47 \n",
       "  \"/>\n",
       "<path clip-path=\"url(#clip282)\" d=\"\n",
       "M785.005 1156.75 L759.424 1112.44 L708.264 1112.44 L682.683 1156.75 L708.264 1201.05 L759.424 1201.05 L785.005 1156.75 L785.005 1156.75  Z\n",
       "  \" fill=\"#009af9\" fill-rule=\"evenodd\" fill-opacity=\"1\"/>\n",
       "<polyline clip-path=\"url(#clip282)\" style=\"stroke:#000000; stroke-width:4; stroke-opacity:1; fill:none\" points=\"\n",
       "  785.005,1156.75 759.424,1112.44 708.264,1112.44 682.683,1156.75 708.264,1201.05 759.424,1201.05 785.005,1156.75 \n",
       "  \"/>\n",
       "<path clip-path=\"url(#clip282)\" d=\"\n",
       "M850.547 1003.29 L824.967 958.987 L773.806 958.987 L748.226 1003.29 L773.806 1047.6 L824.967 1047.6 L850.547 1003.29 L850.547 1003.29  Z\n",
       "  \" fill=\"#009af9\" fill-rule=\"evenodd\" fill-opacity=\"1\"/>\n",
       "<polyline clip-path=\"url(#clip282)\" style=\"stroke:#000000; stroke-width:4; stroke-opacity:1; fill:none\" points=\"\n",
       "  850.547,1003.29 824.967,958.987 773.806,958.987 748.226,1003.29 773.806,1047.6 824.967,1047.6 850.547,1003.29 \n",
       "  \"/>\n",
       "<path clip-path=\"url(#clip282)\" d=\"\n",
       "M958.961 850.736 L933.38 806.43 L882.22 806.43 L856.639 850.736 L882.22 895.042 L933.38 895.042 L958.961 850.736 L958.961 850.736  Z\n",
       "  \" fill=\"#009af9\" fill-rule=\"evenodd\" fill-opacity=\"1\"/>\n",
       "<polyline clip-path=\"url(#clip282)\" style=\"stroke:#000000; stroke-width:4; stroke-opacity:1; fill:none\" points=\"\n",
       "  958.961,850.736 933.38,806.43 882.22,806.43 856.639,850.736 882.22,895.042 933.38,895.042 958.961,850.736 \n",
       "  \"/>\n",
       "<path clip-path=\"url(#clip282)\" d=\"\n",
       "M1797.38 257.782 L1771.8 213.475 L1720.64 213.475 L1695.06 257.782 L1720.64 302.088 L1771.8 302.088 L1797.38 257.782 L1797.38 257.782  Z\n",
       "  \" fill=\"#009af9\" fill-rule=\"evenodd\" fill-opacity=\"1\"/>\n",
       "<polyline clip-path=\"url(#clip282)\" style=\"stroke:#000000; stroke-width:4; stroke-opacity:1; fill:none\" points=\"\n",
       "  1797.38,257.782 1771.8,213.475 1720.64,213.475 1695.06,257.782 1720.64,302.088 1771.8,302.088 1797.38,257.782 \n",
       "  \"/>\n",
       "<path clip-path=\"url(#clip282)\" d=\"\n",
       "M1307.45 550.421 L1281.87 506.114 L1230.71 506.114 L1205.13 550.421 L1230.71 594.727 L1281.87 594.727 L1307.45 550.421 L1307.45 550.421  Z\n",
       "  \" fill=\"#009af9\" fill-rule=\"evenodd\" fill-opacity=\"1\"/>\n",
       "<polyline clip-path=\"url(#clip282)\" style=\"stroke:#000000; stroke-width:4; stroke-opacity:1; fill:none\" points=\"\n",
       "  1307.45,550.421 1281.87,506.114 1230.71,506.114 1205.13,550.421 1230.71,594.727 1281.87,594.727 1307.45,550.421 \n",
       "  \"/>\n",
       "<path clip-path=\"url(#clip282)\" d=\"\n",
       "M1112.14 699.641 L1086.56 655.335 L1035.4 655.335 L1009.82 699.641 L1035.4 743.947 L1086.56 743.947 L1112.14 699.641 L1112.14 699.641  Z\n",
       "  \" fill=\"#009af9\" fill-rule=\"evenodd\" fill-opacity=\"1\"/>\n",
       "<polyline clip-path=\"url(#clip282)\" style=\"stroke:#000000; stroke-width:4; stroke-opacity:1; fill:none\" points=\"\n",
       "  1112.14,699.641 1086.56,655.335 1035.4,655.335 1009.82,699.641 1035.4,743.947 1086.56,743.947 1112.14,699.641 \n",
       "  \"/>\n",
       "<circle clip-path=\"url(#clip282)\" style=\"fill:#009af9; stroke:none; fill-opacity:1\" cx=\"1493.63\" cy=\"403.578\" r=\"2\"/>\n",
       "<circle clip-path=\"url(#clip282)\" style=\"fill:#009af9; stroke:none; fill-opacity:1\" cx=\"693.53\" cy=\"1310.47\" r=\"2\"/>\n",
       "<circle clip-path=\"url(#clip282)\" style=\"fill:#009af9; stroke:none; fill-opacity:1\" cx=\"733.844\" cy=\"1156.75\" r=\"2\"/>\n",
       "<circle clip-path=\"url(#clip282)\" style=\"fill:#009af9; stroke:none; fill-opacity:1\" cx=\"799.387\" cy=\"1003.29\" r=\"2\"/>\n",
       "<circle clip-path=\"url(#clip282)\" style=\"fill:#009af9; stroke:none; fill-opacity:1\" cx=\"907.8\" cy=\"850.736\" r=\"2\"/>\n",
       "<circle clip-path=\"url(#clip282)\" style=\"fill:#009af9; stroke:none; fill-opacity:1\" cx=\"1746.22\" cy=\"257.782\" r=\"2\"/>\n",
       "<circle clip-path=\"url(#clip282)\" style=\"fill:#009af9; stroke:none; fill-opacity:1\" cx=\"1256.29\" cy=\"550.421\" r=\"2\"/>\n",
       "<circle clip-path=\"url(#clip282)\" style=\"fill:#009af9; stroke:none; fill-opacity:1\" cx=\"1060.98\" cy=\"699.641\" r=\"2\"/>\n",
       "<path clip-path=\"url(#clip280)\" d=\"M 0 0 M1479.2 423.595 L1490.66 423.595 L1490.66 384.047 L1478.19 386.547 L1478.19 380.158 L1490.59 377.658 L1497.6 377.658 L1497.6 423.595 L1509.06 423.595 L1509.06 429.498 L1479.2 429.498 L1479.2 423.595 Z\" fill=\"#000000\" fill-rule=\"evenodd\" fill-opacity=\"1\" /><path clip-path=\"url(#clip280)\" d=\"M 0 0 M685.509 1330.49 L709.988 1330.49 L709.988 1336.39 L677.072 1336.39 L677.072 1330.49 Q681.065 1326.36 687.94 1319.41 Q694.849 1312.43 696.62 1310.42 Q699.988 1306.63 701.308 1304.03 Q702.662 1301.39 702.662 1298.86 Q702.662 1294.72 699.745 1292.12 Q696.863 1289.52 692.21 1289.52 Q688.912 1289.52 685.231 1290.66 Q681.585 1291.81 677.419 1294.13 L677.419 1287.05 Q681.655 1285.35 685.335 1284.48 Q689.016 1283.61 692.071 1283.61 Q700.127 1283.61 704.919 1287.64 Q709.71 1291.67 709.71 1298.4 Q709.71 1301.6 708.495 1304.48 Q707.314 1307.33 704.155 1311.22 Q703.287 1312.22 698.634 1317.05 Q693.981 1321.84 685.509 1330.49 Z\" fill=\"#000000\" fill-rule=\"evenodd\" fill-opacity=\"1\" /><path clip-path=\"url(#clip280)\" d=\"M 0 0 M740.216 1154.71 Q745.25 1155.79 748.063 1159.19 Q750.91 1162.6 750.91 1167.6 Q750.91 1175.27 745.632 1179.47 Q740.354 1183.67 730.632 1183.67 Q727.368 1183.67 723.896 1183.01 Q720.459 1182.39 716.778 1181.1 L716.778 1174.33 Q719.695 1176.03 723.167 1176.9 Q726.639 1177.77 730.424 1177.77 Q737.021 1177.77 740.459 1175.17 Q743.931 1172.56 743.931 1167.6 Q743.931 1163.01 740.702 1160.44 Q737.507 1157.84 731.778 1157.84 L725.737 1157.84 L725.737 1152.08 L732.056 1152.08 Q737.23 1152.08 739.973 1150.03 Q742.716 1147.94 742.716 1144.06 Q742.716 1140.06 739.868 1137.94 Q737.056 1135.79 731.778 1135.79 Q728.896 1135.79 725.598 1136.42 Q722.299 1137.04 718.341 1138.36 L718.341 1132.11 Q722.334 1131 725.806 1130.44 Q729.313 1129.89 732.403 1129.89 Q740.389 1129.89 745.042 1133.53 Q749.695 1137.15 749.695 1143.33 Q749.695 1147.63 747.229 1150.62 Q744.764 1153.57 740.216 1154.71 Z\" fill=\"#000000\" fill-rule=\"evenodd\" fill-opacity=\"1\" /><path clip-path=\"url(#clip280)\" d=\"M 0 0 M784.96 1023.31 L796.418 1023.31 L796.418 983.762 L783.953 986.262 L783.953 979.873 L796.349 977.373 L803.362 977.373 L803.362 1023.31 L814.821 1023.31 L814.821 1029.21 L784.96 1029.21 L784.96 1023.31 Z\" fill=\"#000000\" fill-rule=\"evenodd\" fill-opacity=\"1\" /><path clip-path=\"url(#clip280)\" d=\"M 0 0 M899.779 870.753 L924.258 870.753 L924.258 876.656 L891.342 876.656 L891.342 870.753 Q895.335 866.621 902.21 859.677 Q909.12 852.698 910.89 850.684 Q914.258 846.899 915.578 844.295 Q916.932 841.656 916.932 839.121 Q916.932 834.99 914.015 832.385 Q911.133 829.781 906.481 829.781 Q903.182 829.781 899.502 830.927 Q895.856 832.073 891.689 834.399 L891.689 827.316 Q895.925 825.615 899.606 824.747 Q903.286 823.879 906.342 823.879 Q914.397 823.879 919.189 827.906 Q923.981 831.934 923.981 838.67 Q923.981 841.865 922.765 844.746 Q921.585 847.594 918.425 851.483 Q917.557 852.489 912.904 857.316 Q908.252 862.107 899.779 870.753 Z\" fill=\"#000000\" fill-rule=\"evenodd\" fill-opacity=\"1\" /><path clip-path=\"url(#clip280)\" d=\"M 0 0 M1752.59 255.751 Q1757.62 256.827 1760.44 260.23 Q1763.28 263.632 1763.28 268.632 Q1763.28 276.306 1758.01 280.507 Q1752.73 284.709 1743.01 284.709 Q1739.74 284.709 1736.27 284.049 Q1732.83 283.424 1729.15 282.139 L1729.15 275.368 Q1732.07 277.07 1735.54 277.938 Q1739.01 278.806 1742.8 278.806 Q1749.4 278.806 1752.83 276.202 Q1756.3 273.598 1756.3 268.632 Q1756.3 264.049 1753.08 261.48 Q1749.88 258.876 1744.15 258.876 L1738.11 258.876 L1738.11 253.112 L1744.43 253.112 Q1749.6 253.112 1752.35 251.063 Q1755.09 248.98 1755.09 245.091 Q1755.09 241.098 1752.24 238.98 Q1749.43 236.827 1744.15 236.827 Q1741.27 236.827 1737.97 237.452 Q1734.67 238.077 1730.71 239.396 L1730.71 233.146 Q1734.71 232.035 1738.18 231.48 Q1741.69 230.924 1744.78 230.924 Q1752.76 230.924 1757.42 234.57 Q1762.07 238.181 1762.07 244.362 Q1762.07 248.667 1759.6 251.653 Q1757.14 254.605 1752.59 255.751 Z\" fill=\"#000000\" fill-rule=\"evenodd\" fill-opacity=\"1\" /><path clip-path=\"url(#clip280)\" d=\"M 0 0 M1241.86 570.438 L1253.32 570.438 L1253.32 530.89 L1240.85 533.39 L1240.85 527.001 L1253.25 524.501 L1260.26 524.501 L1260.26 570.438 L1271.72 570.438 L1271.72 576.341 L1241.86 576.341 L1241.86 570.438 Z\" fill=\"#000000\" fill-rule=\"evenodd\" fill-opacity=\"1\" /><path clip-path=\"url(#clip280)\" d=\"M 0 0 M1052.96 719.658 L1077.44 719.658 L1077.44 725.561 L1044.52 725.561 L1044.52 719.658 Q1048.52 715.526 1055.39 708.582 Q1062.3 701.603 1064.07 699.589 Q1067.44 695.804 1068.76 693.2 Q1070.11 690.561 1070.11 688.027 Q1070.11 683.895 1067.2 681.29 Q1064.31 678.686 1059.66 678.686 Q1056.36 678.686 1052.68 679.832 Q1049.04 680.978 1044.87 683.304 L1044.87 676.221 Q1049.11 674.52 1052.79 673.652 Q1056.47 672.784 1059.52 672.784 Q1067.58 672.784 1072.37 676.811 Q1077.16 680.839 1077.16 687.575 Q1077.16 690.77 1075.95 693.651 Q1074.77 696.499 1071.61 700.388 Q1070.74 701.395 1066.08 706.221 Q1061.43 711.013 1052.96 719.658 Z\" fill=\"#000000\" fill-rule=\"evenodd\" fill-opacity=\"1\" /></svg>\n"
      ]
     },
     "metadata": {},
     "output_type": "display_data"
    },
    {
     "data": {
      "text/markdown": [
       "![](/assets/images/2826433329163121736.svg)"
      ]
     },
     "metadata": {},
     "output_type": "display_data"
    }
   ],
   "source": [
    "graph_hash = hash(sort(graph.fadjlist), hash(graph.ne))\n",
    "\n",
    "p = GraphRecipes.graphplot(\n",
    "    graph,\n",
    "    names = 1:K,\n",
    "    markersize = 0.15,\n",
    "    hover=false,\n",
    "    fontsize=12)\n",
    "\n",
    "filename = \"/assets/images/$(graph_hash).svg\"\n",
    "Plots.savefig(p, dirname(pwd()) * filename)\n",
    "display(p)\n",
    "display(\"text/markdown\", \"![]($filename)\")"
   ]
  },
  {
   "cell_type": "code",
   "execution_count": 215,
   "metadata": {},
   "outputs": [
    {
     "data": {
      "text/plain": [
       "observe (generic function with 1 method)"
      ]
     },
     "execution_count": 215,
     "metadata": {},
     "output_type": "execute_result"
    }
   ],
   "source": [
    "function observe(sequence; error_rate = error_rate, alphabet = BioSymbols.ACGT)\n",
    "    new_seq = Vector{eltype(sequence)}()\n",
    "    for character in sequence\n",
    "        if rand() > error_rate\n",
    "            # match\n",
    "            push!(new_seq, character)\n",
    "        else\n",
    "            error_type = rand(1:3)\n",
    "            if error_type == 1\n",
    "                # mismatch\n",
    "                push!(new_seq, rand(setdiff(alphabet, character)))\n",
    "            elseif error_type == 2\n",
    "                # insertion\n",
    "                push!(new_seq, rand(alphabet))\n",
    "                push!(new_seq, character)\n",
    "            else\n",
    "                # deletion\n",
    "                continue\n",
    "            end\n",
    "        end\n",
    "    end\n",
    "    return_seq = BioSequences.LongDNASeq(new_seq)\n",
    "    if rand(Bool)\n",
    "        return_seq = BioSequences.reverse_complement!(return_seq)\n",
    "    end\n",
    "    return return_seq\n",
    "end"
   ]
  },
  {
   "cell_type": "code",
   "execution_count": 350,
   "metadata": {},
   "outputs": [
    {
     "data": {
      "text/plain": [
       "0.05"
      ]
     },
     "execution_count": 350,
     "metadata": {},
     "output_type": "execute_result"
    }
   ],
   "source": [
    "error_rate = 0.05"
   ]
  },
  {
   "cell_type": "code",
   "execution_count": 351,
   "metadata": {},
   "outputs": [
    {
     "data": {
      "text/plain": [
       "10-element Array{BioSequences.LongSequence{BioSequences.DNAAlphabet{4}},1}:\n",
       " CCTGGGACGA\n",
       " TCGTCCCAGG\n",
       " CCTAGGGATCA\n",
       " TCGTCCCAGG\n",
       " CCTGGGACGA\n",
       " TCGTCCCAGG\n",
       " CCTTGGGACGA\n",
       " TCGTCTCAGG\n",
       " TCGTCCCAGG\n",
       " TCGTCCCAGG"
      ]
     },
     "execution_count": 351,
     "metadata": {},
     "output_type": "execute_result"
    }
   ],
   "source": [
    "observations = [observe(sequence, error_rate = error_rate) for i in 1:10]"
   ]
  },
  {
   "cell_type": "code",
   "execution_count": 352,
   "metadata": {},
   "outputs": [
    {
     "data": {
      "text/plain": [
       "OrderedCollections.OrderedDict{BioSequences.Mer{BioSequences.DNAAlphabet{2},3},Int64} with 15 entries:\n",
       "  AAG => 1\n",
       "  ACG => 9\n",
       "  AGA => 1\n",
       "  AGG => 11\n",
       "  ATC => 2\n",
       "  CAA => 1\n",
       "  CAG => 8\n",
       "  CCA => 8\n",
       "  CCC => 9\n",
       "  CGA => 9\n",
       "  CTA => 2\n",
       "  CTC => 1\n",
       "  GAC => 9\n",
       "  GGA => 9\n",
       "  TCA => 2"
      ]
     },
     "execution_count": 352,
     "metadata": {},
     "output_type": "execute_result"
    }
   ],
   "source": [
    "kmer_counts = sort!(merge!(+, collect(get_kmer_counts(KMER_TYPE, sequence) for sequence in observations)...))"
   ]
  },
  {
   "cell_type": "code",
   "execution_count": 353,
   "metadata": {},
   "outputs": [
    {
     "data": {
      "text/plain": [
       "Dict{Any,Int64} with 5 entries:\n",
       "  9  => 5\n",
       "  2  => 3\n",
       "  11 => 1\n",
       "  8  => 2\n",
       "  1  => 4"
      ]
     },
     "execution_count": 353,
     "metadata": {},
     "output_type": "execute_result"
    }
   ],
   "source": [
    "kmer_counts_hist = StatsBase.countmap(v for v in values(kmer_counts))"
   ]
  },
  {
   "cell_type": "code",
   "execution_count": 354,
   "metadata": {},
   "outputs": [
    {
     "data": {
      "image/svg+xml": [
       "<?xml version=\"1.0\" encoding=\"utf-8\"?>\n",
       "<svg xmlns=\"http://www.w3.org/2000/svg\" xmlns:xlink=\"http://www.w3.org/1999/xlink\" width=\"600\" height=\"400\" viewBox=\"0 0 2400 1600\">\n",
       "<defs>\n",
       "  <clipPath id=\"clip520\">\n",
       "    <rect x=\"0\" y=\"0\" width=\"2400\" height=\"1600\"/>\n",
       "  </clipPath>\n",
       "</defs>\n",
       "<path clip-path=\"url(#clip520)\" d=\"\n",
       "M0 1600 L2400 1600 L2400 0 L0 0  Z\n",
       "  \" fill=\"#ffffff\" fill-rule=\"evenodd\" fill-opacity=\"1\"/>\n",
       "<defs>\n",
       "  <clipPath id=\"clip521\">\n",
       "    <rect x=\"480\" y=\"0\" width=\"1681\" height=\"1600\"/>\n",
       "  </clipPath>\n",
       "</defs>\n",
       "<path clip-path=\"url(#clip520)\" d=\"\n",
       "M175.445 1423.18 L2352.76 1423.18 L2352.76 47.2441 L175.445 47.2441  Z\n",
       "  \" fill=\"#ffffff\" fill-rule=\"evenodd\" fill-opacity=\"1\"/>\n",
       "<defs>\n",
       "  <clipPath id=\"clip522\">\n",
       "    <rect x=\"175\" y=\"47\" width=\"2178\" height=\"1377\"/>\n",
       "  </clipPath>\n",
       "</defs>\n",
       "<polyline clip-path=\"url(#clip522)\" style=\"stroke:#000000; stroke-width:2; stroke-opacity:0.1; fill:none\" points=\"\n",
       "  588.124,1423.18 588.124,47.2441 \n",
       "  \"/>\n",
       "<polyline clip-path=\"url(#clip522)\" style=\"stroke:#000000; stroke-width:2; stroke-opacity:0.1; fill:none\" points=\"\n",
       "  1151.44,1423.18 1151.44,47.2441 \n",
       "  \"/>\n",
       "<polyline clip-path=\"url(#clip522)\" style=\"stroke:#000000; stroke-width:2; stroke-opacity:0.1; fill:none\" points=\"\n",
       "  1714.75,1423.18 1714.75,47.2441 \n",
       "  \"/>\n",
       "<polyline clip-path=\"url(#clip522)\" style=\"stroke:#000000; stroke-width:2; stroke-opacity:0.1; fill:none\" points=\"\n",
       "  2278.07,1423.18 2278.07,47.2441 \n",
       "  \"/>\n",
       "<polyline clip-path=\"url(#clip520)\" style=\"stroke:#000000; stroke-width:4; stroke-opacity:1; fill:none\" points=\"\n",
       "  175.445,1423.18 2352.76,1423.18 \n",
       "  \"/>\n",
       "<polyline clip-path=\"url(#clip520)\" style=\"stroke:#000000; stroke-width:4; stroke-opacity:1; fill:none\" points=\"\n",
       "  588.124,1423.18 588.124,1406.67 \n",
       "  \"/>\n",
       "<polyline clip-path=\"url(#clip520)\" style=\"stroke:#000000; stroke-width:4; stroke-opacity:1; fill:none\" points=\"\n",
       "  1151.44,1423.18 1151.44,1406.67 \n",
       "  \"/>\n",
       "<polyline clip-path=\"url(#clip520)\" style=\"stroke:#000000; stroke-width:4; stroke-opacity:1; fill:none\" points=\"\n",
       "  1714.75,1423.18 1714.75,1406.67 \n",
       "  \"/>\n",
       "<polyline clip-path=\"url(#clip520)\" style=\"stroke:#000000; stroke-width:4; stroke-opacity:1; fill:none\" points=\"\n",
       "  2278.07,1423.18 2278.07,1406.67 \n",
       "  \"/>\n",
       "<path clip-path=\"url(#clip520)\" d=\"M 0 0 M588.124 1452.37 Q584.513 1452.37 582.684 1455.94 Q580.879 1459.48 580.879 1466.61 Q580.879 1473.71 582.684 1477.28 Q584.513 1480.82 588.124 1480.82 Q591.758 1480.82 593.564 1477.28 Q595.393 1473.71 595.393 1466.61 Q595.393 1459.48 593.564 1455.94 Q591.758 1452.37 588.124 1452.37 M588.124 1448.67 Q593.934 1448.67 596.99 1453.27 Q600.069 1457.86 600.069 1466.61 Q600.069 1475.33 596.99 1479.94 Q593.934 1484.52 588.124 1484.52 Q582.314 1484.52 579.235 1479.94 Q576.18 1475.33 576.18 1466.61 Q576.18 1457.86 579.235 1453.27 Q582.314 1448.67 588.124 1448.67 Z\" fill=\"#000000\" fill-rule=\"evenodd\" fill-opacity=\"1\" /><path clip-path=\"url(#clip520)\" d=\"M 0 0 M1141.72 1449.29 L1160.07 1449.29 L1160.07 1453.23 L1146 1453.23 L1146 1461.7 Q1147.02 1461.35 1148.04 1461.19 Q1149.05 1461 1150.07 1461 Q1155.86 1461 1159.24 1464.18 Q1162.62 1467.35 1162.62 1472.76 Q1162.62 1478.34 1159.15 1481.44 Q1155.67 1484.52 1149.35 1484.52 Q1147.18 1484.52 1144.91 1484.15 Q1142.66 1483.78 1140.26 1483.04 L1140.26 1478.34 Q1142.34 1479.48 1144.56 1480.03 Q1146.79 1480.59 1149.26 1480.59 Q1153.27 1480.59 1155.6 1478.48 Q1157.94 1476.38 1157.94 1472.76 Q1157.94 1469.15 1155.6 1467.05 Q1153.27 1464.94 1149.26 1464.94 Q1147.39 1464.94 1145.51 1465.36 Q1143.66 1465.77 1141.72 1466.65 L1141.72 1449.29 Z\" fill=\"#000000\" fill-rule=\"evenodd\" fill-opacity=\"1\" /><path clip-path=\"url(#clip520)\" d=\"M 0 0 M1691.63 1479.92 L1699.27 1479.92 L1699.27 1453.55 L1690.96 1455.22 L1690.96 1450.96 L1699.22 1449.29 L1703.9 1449.29 L1703.9 1479.92 L1711.53 1479.92 L1711.53 1483.85 L1691.63 1483.85 L1691.63 1479.92 Z\" fill=\"#000000\" fill-rule=\"evenodd\" fill-opacity=\"1\" /><path clip-path=\"url(#clip520)\" d=\"M 0 0 M1726.6 1452.37 Q1722.99 1452.37 1721.16 1455.94 Q1719.36 1459.48 1719.36 1466.61 Q1719.36 1473.71 1721.16 1477.28 Q1722.99 1480.82 1726.6 1480.82 Q1730.24 1480.82 1732.04 1477.28 Q1733.87 1473.71 1733.87 1466.61 Q1733.87 1459.48 1732.04 1455.94 Q1730.24 1452.37 1726.6 1452.37 M1726.6 1448.67 Q1732.41 1448.67 1735.47 1453.27 Q1738.55 1457.86 1738.55 1466.61 Q1738.55 1475.33 1735.47 1479.94 Q1732.41 1484.52 1726.6 1484.52 Q1720.79 1484.52 1717.71 1479.94 Q1714.66 1475.33 1714.66 1466.61 Q1714.66 1457.86 1717.71 1453.27 Q1720.79 1448.67 1726.6 1448.67 Z\" fill=\"#000000\" fill-rule=\"evenodd\" fill-opacity=\"1\" /><path clip-path=\"url(#clip520)\" d=\"M 0 0 M2255.44 1479.92 L2263.08 1479.92 L2263.08 1453.55 L2254.77 1455.22 L2254.77 1450.96 L2263.03 1449.29 L2267.71 1449.29 L2267.71 1479.92 L2275.35 1479.92 L2275.35 1483.85 L2255.44 1483.85 L2255.44 1479.92 Z\" fill=\"#000000\" fill-rule=\"evenodd\" fill-opacity=\"1\" /><path clip-path=\"url(#clip520)\" d=\"M 0 0 M2280.46 1449.29 L2298.82 1449.29 L2298.82 1453.23 L2284.74 1453.23 L2284.74 1461.7 Q2285.76 1461.35 2286.78 1461.19 Q2287.8 1461 2288.82 1461 Q2294.6 1461 2297.98 1464.18 Q2301.36 1467.35 2301.36 1472.76 Q2301.36 1478.34 2297.89 1481.44 Q2294.42 1484.52 2288.1 1484.52 Q2285.92 1484.52 2283.66 1484.15 Q2281.41 1483.78 2279 1483.04 L2279 1478.34 Q2281.09 1479.48 2283.31 1480.03 Q2285.53 1480.59 2288.01 1480.59 Q2292.01 1480.59 2294.35 1478.48 Q2296.69 1476.38 2296.69 1472.76 Q2296.69 1469.15 2294.35 1467.05 Q2292.01 1464.94 2288.01 1464.94 Q2286.13 1464.94 2284.26 1465.36 Q2282.41 1465.77 2280.46 1466.65 L2280.46 1449.29 Z\" fill=\"#000000\" fill-rule=\"evenodd\" fill-opacity=\"1\" /><path clip-path=\"url(#clip520)\" d=\"M 0 0 M984.423 1524.5 Q979.713 1524.5 976.975 1528.19 Q974.238 1531.85 974.238 1538.25 Q974.238 1544.65 976.944 1548.34 Q979.681 1552 984.423 1552 Q989.102 1552 991.839 1548.31 Q994.577 1544.62 994.577 1538.25 Q994.577 1531.92 991.839 1528.23 Q989.102 1524.5 984.423 1524.5 M984.423 1519.54 Q992.062 1519.54 996.423 1524.5 Q1000.78 1529.47 1000.78 1538.25 Q1000.78 1547 996.423 1552 Q992.062 1556.97 984.423 1556.97 Q976.753 1556.97 972.392 1552 Q968.063 1547 968.063 1538.25 Q968.063 1529.47 972.392 1524.5 Q976.753 1519.54 984.423 1519.54 Z\" fill=\"#000000\" fill-rule=\"evenodd\" fill-opacity=\"1\" /><path clip-path=\"url(#clip520)\" d=\"M 0 0 M1032.52 1538.25 Q1032.52 1531.79 1029.84 1528.13 Q1027.2 1524.44 1022.55 1524.44 Q1017.91 1524.44 1015.23 1528.13 Q1012.59 1531.79 1012.59 1538.25 Q1012.59 1544.71 1015.23 1548.4 Q1017.91 1552.07 1022.55 1552.07 Q1027.2 1552.07 1029.84 1548.4 Q1032.52 1544.71 1032.52 1538.25 M1012.59 1525.81 Q1014.44 1522.62 1017.24 1521.1 Q1020.07 1519.54 1023.99 1519.54 Q1030.48 1519.54 1034.52 1524.69 Q1038.6 1529.85 1038.6 1538.25 Q1038.6 1546.65 1034.52 1551.81 Q1030.48 1556.97 1023.99 1556.97 Q1020.07 1556.97 1017.24 1555.44 Q1014.44 1553.88 1012.59 1550.7 L1012.59 1556.04 L1006.7 1556.04 L1006.7 1506.52 L1012.59 1506.52 L1012.59 1525.81 Z\" fill=\"#000000\" fill-rule=\"evenodd\" fill-opacity=\"1\" /><path clip-path=\"url(#clip520)\" d=\"M 0 0 M1067.46 1521.45 L1067.46 1526.98 Q1064.98 1525.71 1062.31 1525.07 Q1059.63 1524.44 1056.77 1524.44 Q1052.41 1524.44 1050.21 1525.77 Q1048.05 1527.11 1048.05 1529.79 Q1048.05 1531.82 1049.61 1533 Q1051.17 1534.15 1055.88 1535.2 L1057.88 1535.64 Q1064.12 1536.98 1066.73 1539.43 Q1069.37 1541.85 1069.37 1546.21 Q1069.37 1551.17 1065.43 1554.07 Q1061.51 1556.97 1054.64 1556.97 Q1051.77 1556.97 1048.65 1556.39 Q1045.57 1555.85 1042.13 1554.74 L1042.13 1548.69 Q1045.37 1550.38 1048.53 1551.24 Q1051.68 1552.07 1054.76 1552.07 Q1058.9 1552.07 1061.13 1550.66 Q1063.36 1549.23 1063.36 1546.65 Q1063.36 1544.27 1061.73 1542.99 Q1060.14 1541.72 1054.7 1540.54 L1052.66 1540.07 Q1047.22 1538.92 1044.8 1536.56 Q1042.38 1534.18 1042.38 1530.04 Q1042.38 1525.01 1045.95 1522.27 Q1049.51 1519.54 1056.07 1519.54 Q1059.32 1519.54 1062.18 1520.01 Q1065.04 1520.49 1067.46 1521.45 Z\" fill=\"#000000\" fill-rule=\"evenodd\" fill-opacity=\"1\" /><path clip-path=\"url(#clip520)\" d=\"M 0 0 M1106.01 1536.76 L1106.01 1539.62 L1079.08 1539.62 Q1079.46 1545.67 1082.71 1548.85 Q1085.99 1552 1091.81 1552 Q1095.19 1552 1098.34 1551.17 Q1101.52 1550.35 1104.64 1548.69 L1104.64 1554.23 Q1101.49 1555.57 1098.18 1556.27 Q1094.87 1556.97 1091.46 1556.97 Q1082.93 1556.97 1077.94 1552 Q1072.97 1547.04 1072.97 1538.57 Q1072.97 1529.82 1077.68 1524.69 Q1082.42 1519.54 1090.44 1519.54 Q1097.64 1519.54 1101.81 1524.18 Q1106.01 1528.8 1106.01 1536.76 M1100.15 1535.04 Q1100.09 1530.23 1097.45 1527.37 Q1094.84 1524.5 1090.51 1524.5 Q1085.61 1524.5 1082.65 1527.27 Q1079.72 1530.04 1079.27 1535.07 L1100.15 1535.04 Z\" fill=\"#000000\" fill-rule=\"evenodd\" fill-opacity=\"1\" /><path clip-path=\"url(#clip520)\" d=\"M 0 0 M1132.81 1525.87 Q1131.82 1525.3 1130.64 1525.04 Q1129.5 1524.76 1128.1 1524.76 Q1123.13 1524.76 1120.46 1528 Q1117.82 1531.22 1117.82 1537.27 L1117.82 1556.04 L1111.93 1556.04 L1111.93 1520.4 L1117.82 1520.4 L1117.82 1525.93 Q1119.66 1522.69 1122.62 1521.13 Q1125.58 1519.54 1129.82 1519.54 Q1130.42 1519.54 1131.15 1519.63 Q1131.88 1519.7 1132.78 1519.85 L1132.81 1525.87 Z\" fill=\"#000000\" fill-rule=\"evenodd\" fill-opacity=\"1\" /><path clip-path=\"url(#clip520)\" d=\"M 0 0 M1134.75 1520.4 L1140.96 1520.4 L1152.1 1550.31 L1163.24 1520.4 L1169.44 1520.4 L1156.07 1556.04 L1148.12 1556.04 L1134.75 1520.4 Z\" fill=\"#000000\" fill-rule=\"evenodd\" fill-opacity=\"1\" /><path clip-path=\"url(#clip520)\" d=\"M 0 0 M1206.08 1536.76 L1206.08 1539.62 L1179.15 1539.62 Q1179.53 1545.67 1182.78 1548.85 Q1186.06 1552 1191.88 1552 Q1195.26 1552 1198.41 1551.17 Q1201.59 1550.35 1204.71 1548.69 L1204.71 1554.23 Q1201.56 1555.57 1198.25 1556.27 Q1194.94 1556.97 1191.53 1556.97 Q1183 1556.97 1178 1552 Q1173.04 1547.04 1173.04 1538.57 Q1173.04 1529.82 1177.75 1524.69 Q1182.49 1519.54 1190.51 1519.54 Q1197.71 1519.54 1201.88 1524.18 Q1206.08 1528.8 1206.08 1536.76 M1200.22 1535.04 Q1200.16 1530.23 1197.52 1527.37 Q1194.91 1524.5 1190.58 1524.5 Q1185.68 1524.5 1182.71 1527.27 Q1179.79 1530.04 1179.34 1535.07 L1200.22 1535.04 Z\" fill=\"#000000\" fill-rule=\"evenodd\" fill-opacity=\"1\" /><path clip-path=\"url(#clip520)\" d=\"M 0 0 M1235.68 1525.81 L1235.68 1506.52 L1241.53 1506.52 L1241.53 1556.04 L1235.68 1556.04 L1235.68 1550.7 Q1233.83 1553.88 1231 1555.44 Q1228.2 1556.97 1224.25 1556.97 Q1217.79 1556.97 1213.72 1551.81 Q1209.67 1546.65 1209.67 1538.25 Q1209.67 1529.85 1213.72 1524.69 Q1217.79 1519.54 1224.25 1519.54 Q1228.2 1519.54 1231 1521.1 Q1233.83 1522.62 1235.68 1525.81 M1215.72 1538.25 Q1215.72 1544.71 1218.36 1548.4 Q1221.04 1552.07 1225.68 1552.07 Q1230.33 1552.07 1233 1548.4 Q1235.68 1544.71 1235.68 1538.25 Q1235.68 1531.79 1233 1528.13 Q1230.33 1524.44 1225.68 1524.44 Q1221.04 1524.44 1218.36 1528.13 Q1215.72 1531.79 1215.72 1538.25 Z\" fill=\"#000000\" fill-rule=\"evenodd\" fill-opacity=\"1\" /><path clip-path=\"url(#clip520)\" d=\"M 0 0 M1286.44 1506.52 L1286.44 1511.39 L1280.84 1511.39 Q1277.69 1511.39 1276.45 1512.66 Q1275.24 1513.93 1275.24 1517.24 L1275.24 1520.4 L1284.88 1520.4 L1284.88 1524.95 L1275.24 1524.95 L1275.24 1556.04 L1269.35 1556.04 L1269.35 1524.95 L1263.75 1524.95 L1263.75 1520.4 L1269.35 1520.4 L1269.35 1517.91 Q1269.35 1511.96 1272.12 1509.26 Q1274.89 1506.52 1280.91 1506.52 L1286.44 1506.52 Z\" fill=\"#000000\" fill-rule=\"evenodd\" fill-opacity=\"1\" /><path clip-path=\"url(#clip520)\" d=\"M 0 0 M1313.24 1525.87 Q1312.26 1525.3 1311.08 1525.04 Q1309.93 1524.76 1308.53 1524.76 Q1303.57 1524.76 1300.89 1528 Q1298.25 1531.22 1298.25 1537.27 L1298.25 1556.04 L1292.36 1556.04 L1292.36 1520.4 L1298.25 1520.4 L1298.25 1525.93 Q1300.1 1522.69 1303.06 1521.13 Q1306.02 1519.54 1310.25 1519.54 Q1310.86 1519.54 1311.59 1519.63 Q1312.32 1519.7 1313.21 1519.85 L1313.24 1525.87 Z\" fill=\"#000000\" fill-rule=\"evenodd\" fill-opacity=\"1\" /><path clip-path=\"url(#clip520)\" d=\"M 0 0 M1348.45 1536.76 L1348.45 1539.62 L1321.52 1539.62 Q1321.9 1545.67 1325.15 1548.85 Q1328.43 1552 1334.25 1552 Q1337.62 1552 1340.78 1551.17 Q1343.96 1550.35 1347.08 1548.69 L1347.08 1554.23 Q1343.93 1555.57 1340.62 1556.27 Q1337.31 1556.97 1333.9 1556.97 Q1325.37 1556.97 1320.37 1552 Q1315.41 1547.04 1315.41 1538.57 Q1315.41 1529.82 1320.12 1524.69 Q1324.86 1519.54 1332.88 1519.54 Q1340.08 1519.54 1344.24 1524.18 Q1348.45 1528.8 1348.45 1536.76 M1342.59 1535.04 Q1342.53 1530.23 1339.88 1527.37 Q1337.27 1524.5 1332.95 1524.5 Q1328.04 1524.5 1325.08 1527.27 Q1322.16 1530.04 1321.71 1535.07 L1342.59 1535.04 Z\" fill=\"#000000\" fill-rule=\"evenodd\" fill-opacity=\"1\" /><path clip-path=\"url(#clip520)\" d=\"M 0 0 M1358.09 1538.25 Q1358.09 1544.71 1360.73 1548.4 Q1363.41 1552.07 1368.05 1552.07 Q1372.7 1552.07 1375.37 1548.4 Q1378.05 1544.71 1378.05 1538.25 Q1378.05 1531.79 1375.37 1528.13 Q1372.7 1524.44 1368.05 1524.44 Q1363.41 1524.44 1360.73 1528.13 Q1358.09 1531.79 1358.09 1538.25 M1378.05 1550.7 Q1376.2 1553.88 1373.37 1555.44 Q1370.57 1556.97 1366.62 1556.97 Q1360.16 1556.97 1356.09 1551.81 Q1352.04 1546.65 1352.04 1538.25 Q1352.04 1529.85 1356.09 1524.69 Q1360.16 1519.54 1366.62 1519.54 Q1370.57 1519.54 1373.37 1521.1 Q1376.2 1522.62 1378.05 1525.81 L1378.05 1520.4 L1383.9 1520.4 L1383.9 1569.6 L1378.05 1569.6 L1378.05 1550.7 Z\" fill=\"#000000\" fill-rule=\"evenodd\" fill-opacity=\"1\" /><path clip-path=\"url(#clip520)\" d=\"M 0 0 M1389.44 1541.98 L1389.44 1520.4 L1395.3 1520.4 L1395.3 1541.75 Q1395.3 1546.81 1397.27 1549.36 Q1399.24 1551.87 1403.19 1551.87 Q1407.93 1551.87 1410.67 1548.85 Q1413.44 1545.83 1413.44 1540.61 L1413.44 1520.4 L1419.3 1520.4 L1419.3 1556.04 L1413.44 1556.04 L1413.44 1550.57 Q1411.31 1553.82 1408.47 1555.41 Q1405.67 1556.97 1401.95 1556.97 Q1395.81 1556.97 1392.62 1553.15 Q1389.44 1549.33 1389.44 1541.98 M1404.18 1519.54 L1404.18 1519.54 Z\" fill=\"#000000\" fill-rule=\"evenodd\" fill-opacity=\"1\" /><path clip-path=\"url(#clip520)\" d=\"M 0 0 M1455.93 1536.76 L1455.93 1539.62 L1429 1539.62 Q1429.39 1545.67 1432.63 1548.85 Q1435.91 1552 1441.74 1552 Q1445.11 1552 1448.26 1551.17 Q1451.44 1550.35 1454.56 1548.69 L1454.56 1554.23 Q1451.41 1555.57 1448.1 1556.27 Q1444.79 1556.97 1441.39 1556.97 Q1432.86 1556.97 1427.86 1552 Q1422.89 1547.04 1422.89 1538.57 Q1422.89 1529.82 1427.6 1524.69 Q1432.35 1519.54 1440.37 1519.54 Q1447.56 1519.54 1451.73 1524.18 Q1455.93 1528.8 1455.93 1536.76 M1450.07 1535.04 Q1450.01 1530.23 1447.37 1527.37 Q1444.76 1524.5 1440.43 1524.5 Q1435.53 1524.5 1432.57 1527.27 Q1429.64 1530.04 1429.2 1535.07 L1450.07 1535.04 Z\" fill=\"#000000\" fill-rule=\"evenodd\" fill-opacity=\"1\" /><path clip-path=\"url(#clip520)\" d=\"M 0 0 M1491.71 1534.53 L1491.71 1556.04 L1485.85 1556.04 L1485.85 1534.72 Q1485.85 1529.66 1483.88 1527.14 Q1481.9 1524.63 1477.96 1524.63 Q1473.21 1524.63 1470.48 1527.65 Q1467.74 1530.68 1467.74 1535.9 L1467.74 1556.04 L1461.85 1556.04 L1461.85 1520.4 L1467.74 1520.4 L1467.74 1525.93 Q1469.84 1522.72 1472.67 1521.13 Q1475.54 1519.54 1479.26 1519.54 Q1485.4 1519.54 1488.56 1523.36 Q1491.71 1527.14 1491.71 1534.53 Z\" fill=\"#000000\" fill-rule=\"evenodd\" fill-opacity=\"1\" /><path clip-path=\"url(#clip520)\" d=\"M 0 0 M1523.5 1521.76 L1523.5 1527.24 Q1521.02 1525.87 1518.51 1525.2 Q1516.02 1524.5 1513.48 1524.5 Q1507.78 1524.5 1504.63 1528.13 Q1501.48 1531.73 1501.48 1538.25 Q1501.48 1544.78 1504.63 1548.4 Q1507.78 1552 1513.48 1552 Q1516.02 1552 1518.51 1551.33 Q1521.02 1550.63 1523.5 1549.26 L1523.5 1554.68 Q1521.05 1555.82 1518.41 1556.39 Q1515.8 1556.97 1512.84 1556.97 Q1504.79 1556.97 1500.05 1551.91 Q1495.3 1546.85 1495.3 1538.25 Q1495.3 1529.53 1500.08 1524.53 Q1504.88 1519.54 1513.22 1519.54 Q1515.93 1519.54 1518.51 1520.11 Q1521.08 1520.65 1523.5 1521.76 Z\" fill=\"#000000\" fill-rule=\"evenodd\" fill-opacity=\"1\" /><path clip-path=\"url(#clip520)\" d=\"M 0 0 M1544.48 1559.35 Q1542 1565.72 1539.64 1567.66 Q1537.28 1569.6 1533.34 1569.6 L1528.66 1569.6 L1528.66 1564.7 L1532.1 1564.7 Q1534.52 1564.7 1535.85 1563.56 Q1537.19 1562.41 1538.81 1558.14 L1539.86 1555.47 L1525.44 1520.4 L1531.65 1520.4 L1542.79 1548.28 L1553.93 1520.4 L1560.14 1520.4 L1544.48 1559.35 Z\" fill=\"#000000\" fill-rule=\"evenodd\" fill-opacity=\"1\" /><polyline clip-path=\"url(#clip522)\" style=\"stroke:#000000; stroke-width:2; stroke-opacity:0.1; fill:none\" points=\"\n",
       "  175.445,1384.24 2352.76,1384.24 \n",
       "  \"/>\n",
       "<polyline clip-path=\"url(#clip522)\" style=\"stroke:#000000; stroke-width:2; stroke-opacity:0.1; fill:none\" points=\"\n",
       "  175.445,1124.63 2352.76,1124.63 \n",
       "  \"/>\n",
       "<polyline clip-path=\"url(#clip522)\" style=\"stroke:#000000; stroke-width:2; stroke-opacity:0.1; fill:none\" points=\"\n",
       "  175.445,865.017 2352.76,865.017 \n",
       "  \"/>\n",
       "<polyline clip-path=\"url(#clip522)\" style=\"stroke:#000000; stroke-width:2; stroke-opacity:0.1; fill:none\" points=\"\n",
       "  175.445,605.407 2352.76,605.407 \n",
       "  \"/>\n",
       "<polyline clip-path=\"url(#clip522)\" style=\"stroke:#000000; stroke-width:2; stroke-opacity:0.1; fill:none\" points=\"\n",
       "  175.445,345.796 2352.76,345.796 \n",
       "  \"/>\n",
       "<polyline clip-path=\"url(#clip522)\" style=\"stroke:#000000; stroke-width:2; stroke-opacity:0.1; fill:none\" points=\"\n",
       "  175.445,86.1857 2352.76,86.1857 \n",
       "  \"/>\n",
       "<polyline clip-path=\"url(#clip520)\" style=\"stroke:#000000; stroke-width:4; stroke-opacity:1; fill:none\" points=\"\n",
       "  175.445,1423.18 175.445,47.2441 \n",
       "  \"/>\n",
       "<polyline clip-path=\"url(#clip520)\" style=\"stroke:#000000; stroke-width:4; stroke-opacity:1; fill:none\" points=\"\n",
       "  175.445,1384.24 201.573,1384.24 \n",
       "  \"/>\n",
       "<polyline clip-path=\"url(#clip520)\" style=\"stroke:#000000; stroke-width:4; stroke-opacity:1; fill:none\" points=\"\n",
       "  175.445,1124.63 201.573,1124.63 \n",
       "  \"/>\n",
       "<polyline clip-path=\"url(#clip520)\" style=\"stroke:#000000; stroke-width:4; stroke-opacity:1; fill:none\" points=\"\n",
       "  175.445,865.017 201.573,865.017 \n",
       "  \"/>\n",
       "<polyline clip-path=\"url(#clip520)\" style=\"stroke:#000000; stroke-width:4; stroke-opacity:1; fill:none\" points=\"\n",
       "  175.445,605.407 201.573,605.407 \n",
       "  \"/>\n",
       "<polyline clip-path=\"url(#clip520)\" style=\"stroke:#000000; stroke-width:4; stroke-opacity:1; fill:none\" points=\"\n",
       "  175.445,345.796 201.573,345.796 \n",
       "  \"/>\n",
       "<polyline clip-path=\"url(#clip520)\" style=\"stroke:#000000; stroke-width:4; stroke-opacity:1; fill:none\" points=\"\n",
       "  175.445,86.1857 201.573,86.1857 \n",
       "  \"/>\n",
       "<path clip-path=\"url(#clip520)\" d=\"M 0 0 M127.501 1370.04 Q123.89 1370.04 122.061 1373.6 Q120.255 1377.14 120.255 1384.27 Q120.255 1391.38 122.061 1394.94 Q123.89 1398.49 127.501 1398.49 Q131.135 1398.49 132.941 1394.94 Q134.769 1391.38 134.769 1384.27 Q134.769 1377.14 132.941 1373.6 Q131.135 1370.04 127.501 1370.04 M127.501 1366.33 Q133.311 1366.33 136.367 1370.94 Q139.445 1375.52 139.445 1384.27 Q139.445 1393 136.367 1397.61 Q133.311 1402.19 127.501 1402.19 Q121.691 1402.19 118.612 1397.61 Q115.556 1393 115.556 1384.27 Q115.556 1375.52 118.612 1370.94 Q121.691 1366.33 127.501 1366.33 Z\" fill=\"#000000\" fill-rule=\"evenodd\" fill-opacity=\"1\" /><path clip-path=\"url(#clip520)\" d=\"M 0 0 M119.538 1137.97 L127.177 1137.97 L127.177 1111.61 L118.867 1113.27 L118.867 1109.01 L127.13 1107.35 L131.806 1107.35 L131.806 1137.97 L139.445 1137.97 L139.445 1141.91 L119.538 1141.91 L119.538 1137.97 Z\" fill=\"#000000\" fill-rule=\"evenodd\" fill-opacity=\"1\" /><path clip-path=\"url(#clip520)\" d=\"M 0 0 M123.126 878.362 L139.445 878.362 L139.445 882.297 L117.501 882.297 L117.501 878.362 Q120.163 875.607 124.746 870.978 Q129.353 866.325 130.533 864.983 Q132.779 862.459 133.658 860.723 Q134.561 858.964 134.561 857.274 Q134.561 854.52 132.617 852.783 Q130.695 851.047 127.593 851.047 Q125.394 851.047 122.941 851.811 Q120.51 852.575 117.732 854.126 L117.732 849.404 Q120.556 848.27 123.01 847.691 Q125.464 847.112 127.501 847.112 Q132.871 847.112 136.066 849.797 Q139.26 852.483 139.26 856.973 Q139.26 859.103 138.45 861.024 Q137.663 862.922 135.556 865.515 Q134.978 866.186 131.876 869.404 Q128.774 872.598 123.126 878.362 Z\" fill=\"#000000\" fill-rule=\"evenodd\" fill-opacity=\"1\" /><path clip-path=\"url(#clip520)\" d=\"M 0 0 M132.316 604.053 Q135.672 604.77 137.547 607.039 Q139.445 609.307 139.445 612.64 Q139.445 617.756 135.927 620.557 Q132.408 623.358 125.927 623.358 Q123.751 623.358 121.436 622.918 Q119.144 622.502 116.691 621.645 L116.691 617.131 Q118.635 618.265 120.95 618.844 Q123.265 619.423 125.788 619.423 Q130.186 619.423 132.478 617.687 Q134.792 615.951 134.792 612.64 Q134.792 609.585 132.64 607.872 Q130.51 606.136 126.691 606.136 L122.663 606.136 L122.663 602.293 L126.876 602.293 Q130.325 602.293 132.154 600.928 Q133.982 599.539 133.982 596.946 Q133.982 594.284 132.084 592.872 Q130.209 591.437 126.691 591.437 Q124.769 591.437 122.57 591.854 Q120.371 592.27 117.732 593.15 L117.732 588.983 Q120.394 588.242 122.709 587.872 Q125.047 587.502 127.107 587.502 Q132.431 587.502 135.533 589.932 Q138.635 592.34 138.635 596.46 Q138.635 599.33 136.992 601.321 Q135.348 603.289 132.316 604.053 Z\" fill=\"#000000\" fill-rule=\"evenodd\" fill-opacity=\"1\" /><path clip-path=\"url(#clip520)\" d=\"M 0 0 M129.862 332.59 L118.056 351.039 L129.862 351.039 L129.862 332.59 M128.635 328.516 L134.515 328.516 L134.515 351.039 L139.445 351.039 L139.445 354.928 L134.515 354.928 L134.515 363.076 L129.862 363.076 L129.862 354.928 L114.26 354.928 L114.26 350.414 L128.635 328.516 Z\" fill=\"#000000\" fill-rule=\"evenodd\" fill-opacity=\"1\" /><path clip-path=\"url(#clip520)\" d=\"M 0 0 M118.543 68.9057 L136.899 68.9057 L136.899 72.8408 L122.825 72.8408 L122.825 81.313 Q123.843 80.9658 124.862 80.8038 Q125.88 80.6186 126.899 80.6186 Q132.686 80.6186 136.066 83.7899 Q139.445 86.9611 139.445 92.3778 Q139.445 97.9564 135.973 101.058 Q132.501 104.137 126.181 104.137 Q124.005 104.137 121.737 103.767 Q119.492 103.396 117.084 102.655 L117.084 97.9564 Q119.168 99.0907 121.39 99.6462 Q123.612 100.202 126.089 100.202 Q130.093 100.202 132.431 98.0953 Q134.769 95.9889 134.769 92.3778 Q134.769 88.7667 132.431 86.6602 Q130.093 84.5537 126.089 84.5537 Q124.214 84.5537 122.339 84.9704 Q120.487 85.3871 118.543 86.2667 L118.543 68.9057 Z\" fill=\"#000000\" fill-rule=\"evenodd\" fill-opacity=\"1\" /><path clip-path=\"url(#clip520)\" d=\"M 0 0 M59.3266 875.051 L59.3266 884.313 L69.9574 886.986 L69.9574 877.661 L59.3266 875.051 M41.2162 879.825 L54.4251 883.135 L54.4251 873.841 L41.2162 870.499 L41.2162 865.407 L54.4251 868.685 L54.4251 858.754 L59.3266 858.754 L59.3266 869.926 L69.9574 872.536 L69.9574 862.415 L74.8271 862.415 L74.8271 873.777 L88.0042 877.088 L88.0042 882.18 L74.8271 878.902 L74.8271 888.228 L88.0042 891.506 L88.0042 896.63 L74.8271 893.32 L74.8271 903.346 L69.9574 903.346 L69.9574 892.143 L59.3266 889.469 L59.3266 899.718 L54.4251 899.718 L54.4251 888.228 L41.2162 884.981 L41.2162 879.825 Z\" fill=\"#000000\" fill-rule=\"evenodd\" fill-opacity=\"1\" /><path clip-path=\"url(#clip520)\" d=\"M 0 0 M56.4621 818.078 Q56.4621 822.788 60.1542 825.525 Q63.8145 828.263 70.212 828.263 Q76.6095 828.263 80.3017 825.557 Q83.9619 822.82 83.9619 818.078 Q83.9619 813.399 80.2698 810.662 Q76.5777 807.924 70.212 807.924 Q63.8781 807.924 60.186 810.662 Q56.4621 813.399 56.4621 818.078 M51.4968 818.078 Q51.4968 810.439 56.4621 806.078 Q61.4273 801.718 70.212 801.718 Q78.9649 801.718 83.9619 806.078 Q88.9272 810.439 88.9272 818.078 Q88.9272 825.748 83.9619 830.109 Q78.9649 834.437 70.212 834.437 Q61.4273 834.437 56.4621 830.109 Q51.4968 825.748 51.4968 818.078 Z\" fill=\"#000000\" fill-rule=\"evenodd\" fill-opacity=\"1\" /><path clip-path=\"url(#clip520)\" d=\"M 0 0 M38.479 777.528 L43.3487 777.528 L43.3487 783.13 Q43.3487 786.281 44.6219 787.522 Q45.895 788.732 49.2052 788.732 L52.3562 788.732 L52.3562 779.088 L56.9077 779.088 L56.9077 788.732 L88.0042 788.732 L88.0042 794.62 L56.9077 794.62 L56.9077 800.222 L52.3562 800.222 L52.3562 794.62 L49.8736 794.62 Q43.9216 794.62 41.2162 791.851 Q38.479 789.082 38.479 783.066 L38.479 777.528 Z\" fill=\"#000000\" fill-rule=\"evenodd\" fill-opacity=\"1\" /><path clip-path=\"url(#clip520)\" d=\"M 0 0 M38.479 750.888 L38.479 744.999 L67.7294 744.999 L52.3562 727.525 L52.3562 720.046 L69.0344 738.952 L88.0042 719.25 L88.0042 726.889 L70.5939 744.999 L88.0042 744.999 L88.0042 750.888 L38.479 750.888 Z\" fill=\"#000000\" fill-rule=\"evenodd\" fill-opacity=\"1\" /><path clip-path=\"url(#clip520)\" d=\"M 0 0 M59.1993 685.353 Q55.2526 683.156 53.3747 680.101 Q51.4968 677.045 51.4968 672.908 Q51.4968 667.338 55.4117 664.314 Q59.2948 661.29 66.4881 661.29 L88.0042 661.29 L88.0042 667.178 L66.679 667.178 Q61.5546 667.178 59.072 668.993 Q56.5894 670.807 56.5894 674.531 Q56.5894 679.082 59.6131 681.724 Q62.6368 684.366 67.8567 684.366 L88.0042 684.366 L88.0042 690.254 L66.679 690.254 Q61.5228 690.254 59.072 692.068 Q56.5894 693.883 56.5894 697.67 Q56.5894 702.158 59.6449 704.8 Q62.6686 707.442 67.8567 707.442 L88.0042 707.442 L88.0042 713.33 L52.3562 713.33 L52.3562 707.442 L57.8944 707.442 Q54.616 705.436 53.0564 702.635 Q51.4968 699.835 51.4968 695.983 Q51.4968 692.1 53.4702 689.395 Q55.4436 686.658 59.1993 685.353 Z\" fill=\"#000000\" fill-rule=\"evenodd\" fill-opacity=\"1\" /><path clip-path=\"url(#clip520)\" d=\"M 0 0 M68.7161 624.656 L71.5806 624.656 L71.5806 651.582 Q77.6281 651.201 80.8109 647.954 Q83.9619 644.676 83.9619 638.851 Q83.9619 635.477 83.1344 632.326 Q82.3069 629.143 80.6518 626.024 L86.1899 626.024 Q87.5267 629.175 88.227 632.485 Q88.9272 635.796 88.9272 639.201 Q88.9272 647.731 83.9619 652.728 Q78.9967 657.694 70.5303 657.694 Q61.7774 657.694 56.6531 652.983 Q51.4968 648.241 51.4968 640.22 Q51.4968 633.026 56.1438 628.857 Q60.7589 624.656 68.7161 624.656 M66.9973 630.512 Q62.1912 630.576 59.3266 633.217 Q56.4621 635.827 56.4621 640.156 Q56.4621 645.058 59.2312 648.018 Q62.0002 650.946 67.0292 651.392 L66.9973 630.512 Z\" fill=\"#000000\" fill-rule=\"evenodd\" fill-opacity=\"1\" /><path clip-path=\"url(#clip520)\" d=\"M 0 0 M57.8307 597.856 Q57.2578 598.843 57.0032 600.02 Q56.7167 601.166 56.7167 602.567 Q56.7167 607.532 59.9632 610.205 Q63.1779 612.847 69.2253 612.847 L88.0042 612.847 L88.0042 618.735 L52.3562 618.735 L52.3562 612.847 L57.8944 612.847 Q54.6479 611.001 53.0883 608.041 Q51.4968 605.081 51.4968 600.848 Q51.4968 600.243 51.5923 599.511 Q51.656 598.779 51.8151 597.888 L57.8307 597.856 Z\" fill=\"#000000\" fill-rule=\"evenodd\" fill-opacity=\"1\" /><path clip-path=\"url(#clip520)\" d=\"M 0 0 M53.4065 568.987 L58.9447 568.987 Q57.6716 571.47 57.035 574.144 Q56.3984 576.817 56.3984 579.682 Q56.3984 584.042 57.7352 586.239 Q59.072 588.403 61.7456 588.403 Q63.7826 588.403 64.9603 586.843 Q66.1061 585.284 67.1565 580.573 L67.6021 578.568 Q68.9389 572.329 71.3897 569.72 Q73.8086 567.078 78.1691 567.078 Q83.1344 567.078 86.0308 571.024 Q88.9272 574.939 88.9272 581.814 Q88.9272 584.679 88.3543 587.798 Q87.8132 590.885 86.6992 594.323 L80.6518 594.323 Q82.3387 591.076 83.198 587.925 Q84.0256 584.774 84.0256 581.687 Q84.0256 577.549 82.6251 575.321 Q81.1929 573.093 78.6147 573.093 Q76.2276 573.093 74.9545 574.717 Q73.6813 576.308 72.5037 581.751 L72.0262 583.788 Q70.8804 589.23 68.5251 591.649 Q66.138 594.068 62.0002 594.068 Q56.9713 594.068 54.2341 590.504 Q51.4968 586.939 51.4968 580.382 Q51.4968 577.136 51.9743 574.271 Q52.4517 571.406 53.4065 568.987 Z\" fill=\"#000000\" fill-rule=\"evenodd\" fill-opacity=\"1\" /><path clip-path=\"url(#clip522)\" d=\"\n",
       "M1196.5 86.1857 L1196.5 1384.24 L2007.67 1384.24 L2007.67 86.1857 L1196.5 86.1857 L1196.5 86.1857  Z\n",
       "  \" fill=\"#009af9\" fill-rule=\"evenodd\" fill-opacity=\"1\"/>\n",
       "<polyline clip-path=\"url(#clip522)\" style=\"stroke:#000000; stroke-width:4; stroke-opacity:1; fill:none\" points=\"\n",
       "  1196.5,86.1857 1196.5,1384.24 2007.67,1384.24 2007.67,86.1857 1196.5,86.1857 \n",
       "  \"/>\n",
       "<path clip-path=\"url(#clip522)\" d=\"\n",
       "M407.864 605.407 L407.864 1384.24 L1219.04 1384.24 L1219.04 605.407 L407.864 605.407 L407.864 605.407  Z\n",
       "  \" fill=\"#009af9\" fill-rule=\"evenodd\" fill-opacity=\"1\"/>\n",
       "<polyline clip-path=\"url(#clip522)\" style=\"stroke:#000000; stroke-width:4; stroke-opacity:1; fill:none\" points=\"\n",
       "  407.864,605.407 407.864,1384.24 1219.04,1384.24 1219.04,605.407 407.864,605.407 \n",
       "  \"/>\n",
       "<path clip-path=\"url(#clip522)\" d=\"\n",
       "M1421.83 1124.63 L1421.83 1384.24 L2233 1384.24 L2233 1124.63 L1421.83 1124.63 L1421.83 1124.63  Z\n",
       "  \" fill=\"#009af9\" fill-rule=\"evenodd\" fill-opacity=\"1\"/>\n",
       "<polyline clip-path=\"url(#clip522)\" style=\"stroke:#000000; stroke-width:4; stroke-opacity:1; fill:none\" points=\"\n",
       "  1421.83,1124.63 1421.83,1384.24 2233,1384.24 2233,1124.63 1421.83,1124.63 \n",
       "  \"/>\n",
       "<path clip-path=\"url(#clip522)\" d=\"\n",
       "M1083.84 865.017 L1083.84 1384.24 L1895.01 1384.24 L1895.01 865.017 L1083.84 865.017 L1083.84 865.017  Z\n",
       "  \" fill=\"#009af9\" fill-rule=\"evenodd\" fill-opacity=\"1\"/>\n",
       "<polyline clip-path=\"url(#clip522)\" style=\"stroke:#000000; stroke-width:4; stroke-opacity:1; fill:none\" points=\"\n",
       "  1083.84,865.017 1083.84,1384.24 1895.01,1384.24 1895.01,865.017 1083.84,865.017 \n",
       "  \"/>\n",
       "<path clip-path=\"url(#clip522)\" d=\"\n",
       "M295.201 345.796 L295.201 1384.24 L1106.37 1384.24 L1106.37 345.796 L295.201 345.796 L295.201 345.796  Z\n",
       "  \" fill=\"#009af9\" fill-rule=\"evenodd\" fill-opacity=\"1\"/>\n",
       "<polyline clip-path=\"url(#clip522)\" style=\"stroke:#000000; stroke-width:4; stroke-opacity:1; fill:none\" points=\"\n",
       "  295.201,345.796 295.201,1384.24 1106.37,1384.24 1106.37,345.796 295.201,345.796 \n",
       "  \"/>\n",
       "</svg>\n"
      ]
     },
     "execution_count": 354,
     "metadata": {},
     "output_type": "execute_result"
    }
   ],
   "source": [
    "StatsPlots.plot(\n",
    "    collect(keys(kmer_counts_hist)),\n",
    "    collect(values(kmer_counts_hist)),\n",
    "    seriestype = :bar,\n",
    "    legend = false,\n",
    "    xlabel = \"observed frequency\",\n",
    "    ylabel = \"# of kmers\"\n",
    ")"
   ]
  },
  {
   "cell_type": "code",
   "execution_count": 355,
   "metadata": {},
   "outputs": [
    {
     "data": {
      "text/plain": [
       "{15, 0} undirected simple Int64 graph"
      ]
     },
     "execution_count": 355,
     "metadata": {},
     "output_type": "execute_result"
    }
   ],
   "source": [
    "graph = LightGraphs.SimpleGraph(length(kmer_counts))"
   ]
  },
  {
   "cell_type": "code",
   "execution_count": 356,
   "metadata": {},
   "outputs": [
    {
     "data": {
      "text/plain": [
       "15-element Array{BioSequences.Mer{BioSequences.DNAAlphabet{2},3},1}:\n",
       " AAG\n",
       " ACG\n",
       " AGA\n",
       " AGG\n",
       " ATC\n",
       " CAA\n",
       " CAG\n",
       " CCA\n",
       " CCC\n",
       " CGA\n",
       " CTA\n",
       " CTC\n",
       " GAC\n",
       " GGA\n",
       " TCA"
      ]
     },
     "execution_count": 356,
     "metadata": {},
     "output_type": "execute_result"
    }
   ],
   "source": [
    "kmers = collect(keys(kmer_counts))"
   ]
  },
  {
   "cell_type": "code",
   "execution_count": 520,
   "metadata": {},
   "outputs": [
    {
     "data": {
      "text/plain": [
       "15-element Array{Int64,1}:\n",
       "  1\n",
       "  9\n",
       "  1\n",
       " 11\n",
       "  2\n",
       "  1\n",
       "  8\n",
       "  8\n",
       "  9\n",
       "  9\n",
       "  2\n",
       "  1\n",
       "  9\n",
       "  9\n",
       "  2"
      ]
     },
     "execution_count": 520,
     "metadata": {},
     "output_type": "execute_result"
    }
   ],
   "source": [
    "counts = collect(values(kmer_counts))"
   ]
  },
  {
   "cell_type": "code",
   "execution_count": 359,
   "metadata": {},
   "outputs": [
    {
     "data": {
      "text/plain": [
       "ordered_edge (generic function with 1 method)"
      ]
     },
     "execution_count": 359,
     "metadata": {},
     "output_type": "execute_result"
    }
   ],
   "source": [
    "function ordered_edge(a, b)\n",
    "    if a <= b\n",
    "        return LightGraphs.Edge(a, b)\n",
    "    else\n",
    "        return LightGraphs.Edge(b, a)\n",
    "    end\n",
    "end"
   ]
  },
  {
   "cell_type": "code",
   "execution_count": 363,
   "metadata": {},
   "outputs": [],
   "source": [
    "EDGE_TYPE = LightGraphs.SimpleGraphs.SimpleEdge{Int64}\n",
    "EVIDENCE_TYPE = NamedTuple{(:sequence_index, :edge_index),Tuple{Int64,Int64}}\n",
    "edge_evidence = Dict{EDGE_TYPE, Vector{EVIDENCE_TYPE}}()\n",
    "for (sequence_index, sequence) in enumerate(observations)\n",
    "    for edge_index in 1:length(sequence)-K\n",
    "        a_to_b_connection = sequence[edge_index:edge_index+K]\n",
    "        a = BioSequences.canonical(BioSequences.DNAMer(a_to_b_connection[1:end-1]))\n",
    "        b = BioSequences.canonical(BioSequences.DNAMer(a_to_b_connection[2:end]))\n",
    "        a_index = get_kmer_index(kmers, a)\n",
    "        b_index = get_kmer_index(kmers, b)\n",
    "        edge = ordered_edge(a_index, b_index)\n",
    "        LightGraphs.add_edge!(graph, edge)\n",
    "        evidence = (;sequence_index, edge_index)\n",
    "        edge_evidence[edge] = push!(get(edge_evidence, edge, EVIDENCE_TYPE[]), evidence)\n",
    "    end\n",
    "end"
   ]
  },
  {
   "cell_type": "code",
   "execution_count": 364,
   "metadata": {},
   "outputs": [
    {
     "data": {
      "image/svg+xml": [
       "<?xml version=\"1.0\" encoding=\"utf-8\"?>\n",
       "<svg xmlns=\"http://www.w3.org/2000/svg\" xmlns:xlink=\"http://www.w3.org/1999/xlink\" width=\"600\" height=\"400\" viewBox=\"0 0 2400 1600\">\n",
       "<defs>\n",
       "  <clipPath id=\"clip600\">\n",
       "    <rect x=\"0\" y=\"0\" width=\"2400\" height=\"1600\"/>\n",
       "  </clipPath>\n",
       "</defs>\n",
       "<path clip-path=\"url(#clip600)\" d=\"\n",
       "M0 1600 L2400 1600 L2400 0 L0 0  Z\n",
       "  \" fill=\"#ffffff\" fill-rule=\"evenodd\" fill-opacity=\"1\"/>\n",
       "<defs>\n",
       "  <clipPath id=\"clip601\">\n",
       "    <rect x=\"480\" y=\"0\" width=\"1681\" height=\"1600\"/>\n",
       "  </clipPath>\n",
       "</defs>\n",
       "<path clip-path=\"url(#clip600)\" d=\"\n",
       "M482.992 1521.01 L1956.76 1521.01 L1956.76 47.2441 L482.992 47.2441  Z\n",
       "  \" fill=\"#ffffff\" fill-rule=\"evenodd\" fill-opacity=\"1\"/>\n",
       "<defs>\n",
       "  <clipPath id=\"clip602\">\n",
       "    <rect x=\"482\" y=\"47\" width=\"1475\" height=\"1475\"/>\n",
       "  </clipPath>\n",
       "</defs>\n",
       "<polyline clip-path=\"url(#clip602)\" style=\"stroke:#000000; stroke-width:4; stroke-opacity:1; fill:none\" points=\"\n",
       "  1726.23,983.778 1722.18,986.887 1718.13,989.984 1714.08,993.061 1710.04,996.105 1705.99,999.106 1701.95,1002.05 1697.9,1004.94 1693.86,1007.74 1689.83,1010.47 \n",
       "  1685.79,1013.09 1681.76,1015.61 1677.73,1018.01 1673.7,1020.28 1669.68,1022.41 1665.67,1024.4 1661.65,1026.22 1657.65,1027.86 1653.64,1029.33 1649.65,1030.6 \n",
       "  1645.65,1031.67 1641.67,1032.53 1637.69,1033.16 1633.72,1033.55 1629.75,1033.7 1625.79,1033.59 1621.84,1033.22 1617.9,1032.6 1613.96,1031.75 1610.03,1030.68 \n",
       "  1606.1,1029.38 1602.18,1027.89 1598.27,1026.2 1594.36,1024.33 1590.46,1022.29 1586.56,1020.08 1582.66,1017.73 1578.77,1015.24 1574.88,1012.62 1571,1009.88 \n",
       "  1567.11,1007.03 1563.24,1004.08 1559.36,1001.05 1555.48,997.949 1551.61,994.78 1547.74,991.557 1543.87,988.291 1540,984.992 1536.13,981.673 1532.26,978.342 \n",
       "  \n",
       "  \"/>\n",
       "<polyline clip-path=\"url(#clip602)\" style=\"stroke:#000000; stroke-width:4; stroke-opacity:1; fill:none\" points=\"\n",
       "  1726.23,983.778 1729.85,978.24 1733.46,972.701 1737.05,967.16 1740.6,961.618 1744.12,956.072 1747.58,950.522 1750.97,944.968 1754.29,939.408 1757.53,933.843 \n",
       "  1760.67,928.271 1763.7,922.691 1766.61,917.102 1769.4,911.505 1772.04,905.898 1774.54,900.28 1776.88,894.651 1779.04,889.009 1781.02,883.355 1782.81,877.687 \n",
       "  1784.4,872.005 1785.77,866.308 1786.91,860.594 1787.83,854.864 1788.49,849.117 1788.9,843.351 1789.05,837.568 1788.95,831.767 1788.62,825.949 1788.07,820.115 \n",
       "  1787.3,814.266 1786.32,808.403 1785.16,802.526 1783.81,796.636 1782.29,790.734 1780.61,784.821 1778.78,778.897 1776.81,772.963 1774.71,767.02 1772.5,761.069 \n",
       "  1770.18,755.11 1767.76,749.144 1765.25,743.173 1762.67,737.196 1760.03,731.214 1757.33,725.229 1754.59,719.24 1751.82,713.25 1749.02,707.258 1746.22,701.265 \n",
       "  \n",
       "  \"/>\n",
       "<polyline clip-path=\"url(#clip602)\" style=\"stroke:#000000; stroke-width:4; stroke-opacity:1; fill:none\" points=\"\n",
       "  846.522,979.609 845.588,984.862 844.646,990.108 843.689,995.338 842.711,1000.54 841.703,1005.72 840.659,1010.85 839.571,1015.94 838.433,1020.97 837.235,1025.94 \n",
       "  835.973,1030.84 834.637,1035.66 833.221,1040.4 831.717,1045.04 830.119,1049.57 828.418,1054 826.609,1058.31 824.682,1062.49 822.632,1066.53 820.45,1070.44 \n",
       "  818.13,1074.2 815.663,1077.8 813.044,1081.23 810.264,1084.49 807.317,1087.57 804.194,1090.46 800.897,1093.16 797.432,1095.68 793.807,1098.02 790.029,1100.2 \n",
       "  786.105,1102.23 782.042,1104.1 777.848,1105.83 773.53,1107.43 769.095,1108.9 764.551,1110.26 759.904,1111.5 755.163,1112.64 750.335,1113.69 745.426,1114.64 \n",
       "  740.444,1115.53 735.397,1116.33 730.291,1117.08 725.134,1117.77 719.934,1118.42 714.697,1119.02 709.43,1119.59 704.142,1120.14 698.84,1120.68 693.53,1121.2 \n",
       "  \n",
       "  \"/>\n",
       "<polyline clip-path=\"url(#clip602)\" style=\"stroke:#000000; stroke-width:4; stroke-opacity:1; fill:none\" points=\"\n",
       "  846.522,979.609 852.057,978.134 857.584,976.652 863.094,975.156 868.581,973.639 874.034,972.094 879.447,970.514 884.812,968.892 890.119,967.22 895.362,965.492 \n",
       "  900.531,963.701 905.62,961.84 910.619,959.902 915.52,957.879 920.316,955.765 924.998,953.552 929.559,951.234 933.989,948.804 938.282,946.254 942.428,943.578 \n",
       "  946.42,940.768 950.25,937.818 953.909,934.721 957.39,931.468 960.684,928.055 963.783,924.472 966.688,920.722 969.405,916.81 971.945,912.743 974.314,908.529 \n",
       "  976.52,904.175 978.572,899.687 980.478,895.072 982.246,890.338 983.884,885.492 985.4,880.54 986.803,875.49 988.1,870.348 989.299,865.122 990.409,859.819 \n",
       "  991.438,854.446 992.394,849.01 993.285,843.517 994.119,837.975 994.905,832.391 995.649,826.772 996.362,821.124 997.05,815.456 997.721,809.774 998.385,804.084 \n",
       "  \n",
       "  \"/>\n",
       "<polyline clip-path=\"url(#clip602)\" style=\"stroke:#000000; stroke-width:4; stroke-opacity:1; fill:none\" points=\"\n",
       "  975.896,457.128 981.771,455.127 987.639,453.12 993.489,451.098 999.316,449.056 1005.11,446.986 1010.86,444.882 1016.56,442.736 1022.21,440.543 1027.79,438.294 \n",
       "  1033.29,435.983 1038.71,433.603 1044.05,431.147 1049.28,428.609 1054.41,425.981 1059.42,423.256 1064.31,420.428 1069.06,417.49 1073.68,414.435 1078.14,411.255 \n",
       "  1082.46,407.945 1086.6,404.496 1090.58,400.903 1094.37,397.159 1097.97,393.256 1101.38,389.187 1104.59,384.954 1107.61,380.562 1110.44,376.018 1113.11,371.33 \n",
       "  1115.61,366.504 1117.95,361.547 1120.15,356.465 1122.21,351.267 1124.13,345.958 1125.93,340.546 1127.62,335.038 1129.19,329.44 1130.67,323.759 1132.06,318.002 \n",
       "  1133.37,312.177 1134.6,306.289 1135.77,300.346 1136.88,294.355 1137.94,288.323 1138.96,282.256 1139.94,276.161 1140.91,270.046 1141.85,263.918 1142.79,257.782 \n",
       "  \n",
       "  \"/>\n",
       "<polyline clip-path=\"url(#clip602)\" style=\"stroke:#000000; stroke-width:4; stroke-opacity:1; fill:none\" points=\"\n",
       "  975.896,457.128 973.141,464.417 970.397,471.706 967.674,478.993 964.983,486.278 962.335,493.56 959.741,500.838 957.211,508.113 954.756,515.382 952.387,522.646 \n",
       "  950.114,529.904 947.948,537.155 945.9,544.398 943.981,551.633 942.201,558.859 940.571,566.075 939.102,573.281 937.804,580.476 936.688,587.658 935.765,594.829 \n",
       "  935.046,601.986 934.541,609.129 934.261,616.258 934.217,623.371 934.419,630.468 934.878,637.549 935.594,644.613 936.556,651.661 937.754,658.694 939.177,665.712 \n",
       "  940.814,672.717 942.655,679.708 944.688,686.687 946.904,693.653 949.291,700.609 951.839,707.554 954.537,714.49 957.374,721.417 960.34,728.335 963.423,735.245 \n",
       "  966.614,742.149 969.901,749.047 973.274,755.938 976.722,762.825 980.235,769.708 983.8,776.588 987.409,783.464 991.05,790.339 994.712,797.212 998.385,804.084 \n",
       "  \n",
       "  \"/>\n",
       "<polyline clip-path=\"url(#clip602)\" style=\"stroke:#000000; stroke-width:4; stroke-opacity:1; fill:none\" points=\"\n",
       "  1532.26,978.342 1528.12,970.447 1523.99,962.551 1519.89,954.652 1515.81,946.749 1511.77,938.842 1507.79,930.928 1503.88,923.007 1500.04,915.078 1496.28,907.139 \n",
       "  1492.62,899.189 1489.06,891.227 1485.63,883.252 1482.32,875.262 1479.15,867.256 1476.13,859.233 1473.27,851.192 1470.58,843.131 1468.07,835.05 1465.75,826.947 \n",
       "  1463.64,818.821 1461.74,810.671 1460.06,802.495 1458.62,794.292 1457.43,786.062 1456.49,777.802 1455.8,769.513 1455.36,761.197 1455.16,752.853 1455.18,744.484 \n",
       "  1455.41,736.091 1455.84,727.675 1456.47,719.236 1457.28,710.777 1458.26,702.299 1459.4,693.803 1460.69,685.289 1462.11,676.76 1463.67,668.216 1465.34,659.659 \n",
       "  1467.12,651.089 1469,642.509 1470.96,633.919 1472.99,625.32 1475.09,616.715 1477.25,608.103 1479.44,599.486 1481.67,590.865 1483.92,582.243 1486.18,573.619 \n",
       "  \n",
       "  \"/>\n",
       "<polyline clip-path=\"url(#clip602)\" style=\"stroke:#000000; stroke-width:4; stroke-opacity:1; fill:none\" points=\"\n",
       "  1532.26,978.342 1528.78,981.188 1525.29,984.022 1521.81,986.835 1518.33,989.616 1514.85,992.355 1511.39,995.04 1507.92,997.661 1504.47,1000.21 1501.03,1002.67 \n",
       "  1497.6,1005.03 1494.18,1007.29 1490.77,1009.43 1487.38,1011.45 1484,1013.32 1480.64,1015.05 1477.3,1016.61 1473.98,1018 1470.68,1019.22 1467.4,1020.24 \n",
       "  1464.14,1021.06 1460.91,1021.66 1457.7,1022.04 1454.52,1022.19 1451.37,1022.09 1448.24,1021.73 1445.15,1021.12 1442.08,1020.27 1439.04,1019.18 1436.03,1017.86 \n",
       "  1433.04,1016.33 1430.07,1014.6 1427.13,1012.68 1424.2,1010.58 1421.3,1008.3 1418.41,1005.87 1415.54,1003.28 1412.69,1000.56 1409.85,997.708 1407.02,994.739 \n",
       "  1404.21,991.664 1401.41,988.493 1398.61,985.237 1395.83,981.906 1393.05,978.511 1390.28,975.062 1387.51,971.571 1384.75,968.048 1381.99,964.504 1379.23,960.949 \n",
       "  \n",
       "  \"/>\n",
       "<polyline clip-path=\"url(#clip602)\" style=\"stroke:#000000; stroke-width:4; stroke-opacity:1; fill:none\" points=\"\n",
       "  1532.26,978.342 1529.6,985.378 1526.94,992.414 1524.31,999.447 1521.71,1006.48 1519.15,1013.51 1516.65,1020.53 1514.2,1027.55 1511.84,1034.56 1509.56,1041.56 \n",
       "  1507.37,1048.56 1505.3,1055.55 1503.34,1062.53 1501.51,1069.5 1499.82,1076.46 1498.27,1083.4 1496.89,1090.34 1495.68,1097.25 1494.65,1104.16 1493.82,1111.05 \n",
       "  1493.19,1117.92 1492.77,1124.78 1492.58,1131.61 1492.62,1138.43 1492.91,1145.23 1493.45,1152.01 1494.25,1158.77 1495.3,1165.5 1496.58,1172.22 1498.09,1178.92 \n",
       "  1499.81,1185.61 1501.74,1192.27 1503.85,1198.93 1506.15,1205.56 1508.62,1212.19 1511.26,1218.8 1514.04,1225.4 1516.96,1231.98 1520.01,1238.56 1523.17,1245.13 \n",
       "  1526.45,1251.69 1529.82,1258.24 1533.27,1264.78 1536.8,1271.32 1540.4,1277.85 1544.04,1284.38 1547.74,1290.91 1551.46,1297.43 1555.2,1303.95 1558.96,1310.47 \n",
       "  \n",
       "  \"/>\n",
       "<polyline clip-path=\"url(#clip602)\" style=\"stroke:#000000; stroke-width:4; stroke-opacity:1; fill:none\" points=\"\n",
       "  1246.09,590.884 1235.29,590.48 1224.56,590.093 1213.95,589.739 1203.53,589.435 1193.37,589.197 1183.53,589.042 1174.08,588.987 1165.08,589.047 1156.58,589.24 \n",
       "  1148.67,589.581 1141.4,590.089 1134.84,590.778 1129.03,591.664 1123.99,592.737 1119.67,593.977 1116.04,595.363 1113.06,596.875 1110.7,598.491 1108.92,600.193 \n",
       "  1107.68,601.958 1106.96,603.766 1106.7,605.597 1106.89,607.429 1107.48,609.244 1108.44,611.019 1109.73,612.733 1111.33,614.366 1113.21,615.894 1115.35,617.296 \n",
       "  1117.72,618.55 1120.29,619.635 1123.03,620.528 1125.92,621.208 1128.94,621.652 1132.05,621.839 1135.22,621.747 1138.44,621.354 1141.68,620.654 1144.94,619.669 \n",
       "  1148.22,618.425 1151.51,616.948 1154.81,615.263 1158.13,613.397 1161.46,611.376 1164.79,609.226 1168.14,606.971 1171.49,604.639 1174.84,602.256 1178.19,599.846 \n",
       "  \n",
       "  \"/>\n",
       "<polyline clip-path=\"url(#clip602)\" style=\"stroke:#000000; stroke-width:4; stroke-opacity:1; fill:none\" points=\"\n",
       "  1209.55,588.852 1212.35,595.307 1215.13,601.762 1217.89,608.215 1220.62,614.667 1223.31,621.115 1225.94,627.56 1228.51,634 1231.01,640.435 1233.41,646.865 \n",
       "  1235.73,653.288 1237.93,659.704 1240.02,666.112 1241.98,672.511 1243.8,678.901 1245.46,685.281 1246.97,691.65 1248.31,698.007 1249.46,704.353 1250.43,710.685 \n",
       "  1251.19,717.004 1251.73,723.308 1252.05,729.597 1252.13,735.87 1251.97,742.127 1251.55,748.366 1250.87,754.588 1249.95,760.794 1248.79,766.984 1247.41,773.158 \n",
       "  1245.81,779.319 1244.01,785.465 1242.02,791.599 1239.84,797.72 1237.49,803.83 1234.99,809.929 1232.33,816.018 1229.53,822.097 1226.6,828.168 1223.56,834.231 \n",
       "  1220.41,840.287 1217.16,846.336 1213.83,852.38 1210.42,858.418 1206.95,864.453 1203.42,870.483 1199.85,876.511 1196.25,882.536 1192.63,888.561 1189,894.584 \n",
       "  \n",
       "  \"/>\n",
       "<polyline clip-path=\"url(#clip602)\" style=\"stroke:#000000; stroke-width:4; stroke-opacity:1; fill:none\" points=\"\n",
       "  1209.55,588.852 1214.8,586.175 1220.05,583.494 1225.27,580.801 1230.46,578.093 1235.62,575.363 1240.73,572.607 1245.79,569.818 1250.77,566.992 1255.69,564.123 \n",
       "  1260.52,561.206 1265.26,558.236 1269.9,555.207 1274.42,552.113 1278.82,548.951 1283.09,545.713 1287.23,542.395 1291.21,538.992 1295.04,535.497 1298.7,531.907 \n",
       "  1302.18,528.215 1305.47,524.416 1308.57,520.504 1311.46,516.476 1314.15,512.324 1316.6,508.044 1318.84,503.636 1320.86,499.105 1322.67,494.456 1324.29,489.695 \n",
       "  1325.72,484.828 1326.98,479.858 1328.07,474.793 1329,469.636 1329.78,464.394 1330.42,459.072 1330.93,453.675 1331.32,448.208 1331.6,442.678 1331.78,437.088 \n",
       "  1331.86,431.445 1331.86,425.754 1331.79,420.02 1331.65,414.249 1331.45,408.446 1331.21,402.616 1330.93,396.764 1330.62,390.897 1330.29,385.019 1329.96,379.135 \n",
       "  \n",
       "  \"/>\n",
       "<polyline clip-path=\"url(#clip602)\" style=\"stroke:#000000; stroke-width:4; stroke-opacity:1; fill:none\" points=\"\n",
       "  1746.22,701.265 1742.93,705.139 1739.63,709.004 1736.33,712.847 1733.03,716.658 1729.72,720.427 1726.4,724.143 1723.06,727.796 1719.72,731.375 1716.36,734.869 \n",
       "  1712.98,738.269 1709.58,741.562 1706.16,744.74 1702.72,747.791 1699.25,750.704 1695.76,753.47 1692.23,756.077 1688.68,758.515 1685.09,760.773 1681.47,762.842 \n",
       "  1677.81,764.71 1674.11,766.366 1670.38,767.801 1666.6,769.003 1662.77,769.962 1658.9,770.669 1654.99,771.122 1651.02,771.332 1647.02,771.31 1642.98,771.066 \n",
       "  1638.9,770.611 1634.78,769.955 1630.62,769.109 1626.44,768.083 1622.22,766.889 1617.97,765.536 1613.7,764.035 1609.4,762.396 1605.08,760.631 1600.74,758.75 \n",
       "  1596.38,756.763 1592,754.682 1587.6,752.515 1583.19,750.275 1578.77,747.971 1574.35,745.615 1569.91,743.216 1565.47,740.785 1561.02,738.334 1556.57,735.872 \n",
       "  \n",
       "  \"/>\n",
       "<polyline clip-path=\"url(#clip602)\" style=\"stroke:#000000; stroke-width:4; stroke-opacity:1; fill:none\" points=\"\n",
       "  1486.18,573.619 1484.66,578.212 1483.15,582.801 1481.66,587.381 1480.2,591.948 1478.78,596.499 1477.41,601.028 1476.1,605.531 1474.86,610.005 1473.7,614.444 \n",
       "  1472.62,618.845 1471.65,623.203 1470.78,627.514 1470.03,631.774 1469.41,635.978 1468.92,640.123 1468.59,644.203 1468.41,648.215 1468.4,652.154 1468.56,656.017 \n",
       "  1468.92,659.798 1469.47,663.494 1470.23,667.1 1471.2,670.612 1472.4,674.025 1473.84,677.336 1475.51,680.545 1477.41,683.656 1479.52,686.673 1481.85,689.599 \n",
       "  1484.37,692.441 1487.07,695.201 1489.96,697.884 1493.01,700.495 1496.22,703.037 1499.58,705.515 1503.07,707.934 1506.69,710.296 1510.43,712.608 1514.28,714.872 \n",
       "  1518.23,717.094 1522.27,719.277 1526.38,721.426 1530.57,723.546 1534.81,725.639 1539.1,727.711 1543.44,729.766 1547.8,731.809 1552.18,733.842 1556.57,735.872 \n",
       "  \n",
       "  \"/>\n",
       "<polyline clip-path=\"url(#clip602)\" style=\"stroke:#000000; stroke-width:4; stroke-opacity:1; fill:none\" points=\"\n",
       "  1486.18,573.619 1480.48,571.666 1474.79,569.708 1469.11,567.735 1463.46,565.743 1457.85,563.724 1452.28,561.671 1446.75,559.577 1441.29,557.437 1435.89,555.243 \n",
       "  1430.57,552.988 1425.33,550.666 1420.18,548.27 1415.14,545.794 1410.2,543.23 1405.38,540.572 1400.68,537.813 1396.12,534.946 1391.7,531.965 1387.44,528.863 \n",
       "  1383.33,525.634 1379.39,522.27 1375.62,518.764 1372.04,515.111 1368.65,511.303 1365.46,507.334 1362.48,503.204 1359.68,498.919 1357.07,494.486 1354.63,489.912 \n",
       "  1352.37,485.204 1350.26,480.368 1348.3,475.41 1346.48,470.339 1344.8,465.16 1343.25,459.88 1341.81,454.506 1340.48,449.044 1339.25,443.502 1338.11,437.886 \n",
       "  1337.06,432.202 1336.08,426.458 1335.17,420.661 1334.31,414.816 1333.51,408.931 1332.75,403.012 1332.02,397.066 1331.32,391.1 1330.63,385.121 1329.96,379.135 \n",
       "  \n",
       "  \"/>\n",
       "<polyline clip-path=\"url(#clip602)\" style=\"stroke:#000000; stroke-width:4; stroke-opacity:1; fill:none\" points=\"\n",
       "  1556.57,735.872 1555.48,742.458 1554.38,749.038 1553.27,755.605 1552.13,762.152 1550.95,768.672 1549.74,775.159 1548.47,781.606 1547.15,788.007 1545.75,794.354 \n",
       "  1544.29,800.642 1542.73,806.863 1541.09,813.011 1539.34,819.08 1537.48,825.062 1535.51,830.951 1533.41,836.74 1531.17,842.423 1528.79,847.993 1526.26,853.443 \n",
       "  1523.57,858.767 1520.7,863.959 1517.67,869.01 1514.44,873.916 1511.03,878.668 1507.41,883.262 1503.59,887.696 1499.57,891.977 1495.37,896.112 1490.99,900.108 \n",
       "  1486.45,903.971 1481.74,907.707 1476.88,911.324 1471.88,914.828 1466.74,918.225 1461.48,921.523 1456.1,924.728 1450.61,927.847 1445.01,930.885 1439.33,933.851 \n",
       "  1433.56,936.75 1427.71,939.589 1421.8,942.376 1415.83,945.115 1409.81,947.815 1403.74,950.482 1397.64,953.122 1391.52,955.742 1385.38,958.349 1379.23,960.949 \n",
       "  \n",
       "  \"/>\n",
       "<polyline clip-path=\"url(#clip602)\" style=\"stroke:#000000; stroke-width:4; stroke-opacity:1; fill:none\" points=\"\n",
       "  1379.23,960.949 1374.29,962.635 1369.35,964.312 1364.41,965.968 1359.49,967.594 1354.58,969.179 1349.69,970.714 1344.83,972.187 1339.98,973.59 1335.17,974.912 \n",
       "  1330.38,976.142 1325.63,977.271 1320.92,978.288 1316.26,979.184 1311.63,979.948 1307.06,980.57 1302.54,981.04 1298.08,981.348 1293.68,981.484 1289.34,981.437 \n",
       "  1285.07,981.197 1280.87,980.755 1276.74,980.1 1272.7,979.221 1268.73,978.11 1264.85,976.755 1261.05,975.158 1257.33,973.328 1253.69,971.274 1250.13,969.008 \n",
       "  1246.64,966.539 1243.21,963.877 1239.85,961.033 1236.55,958.016 1233.3,954.837 1230.11,951.506 1226.96,948.033 1223.87,944.429 1220.81,940.703 1217.8,936.865 \n",
       "  1214.82,932.926 1211.87,928.895 1208.95,924.784 1206.05,920.601 1203.18,916.358 1200.32,912.064 1197.48,907.729 1194.65,903.365 1191.82,898.979 1189,894.584 \n",
       "  \n",
       "  \"/>\n",
       "<polyline clip-path=\"url(#clip602)\" style=\"stroke:#000000; stroke-width:4; stroke-opacity:1; fill:none\" points=\"\n",
       "  1544.75,1253.61 1548.71,1266.31 1552.65,1278.93 1556.57,1291.38 1560.45,1303.57 1564.28,1315.43 1568.05,1326.87 1571.74,1337.8 1575.35,1348.14 1578.86,1357.81 \n",
       "  1582.26,1366.72 1585.54,1374.78 1588.68,1381.92 1591.67,1388.05 1594.51,1393.19 1597.2,1397.41 1599.74,1400.75 1602.13,1403.27 1604.37,1405.04 1606.46,1406.11 \n",
       "  1608.4,1406.55 1610.18,1406.4 1611.82,1405.72 1613.31,1404.59 1614.64,1403.04 1615.82,1401.15 1616.86,1398.97 1617.73,1396.54 1618.45,1393.92 1619,1391.15 \n",
       "  1619.38,1388.29 1619.59,1385.39 1619.63,1382.5 1619.49,1379.66 1619.16,1376.93 1618.65,1374.36 1617.95,1372 1617.05,1369.89 1615.96,1368.07 1614.7,1366.52 \n",
       "  1613.27,1365.21 1611.7,1364.11 1610,1363.21 1608.19,1362.48 1606.28,1361.89 1604.29,1361.43 1602.24,1361.06 1600.14,1360.76 1598.01,1360.51 1595.86,1360.29 \n",
       "  \n",
       "  \"/>\n",
       "<polyline clip-path=\"url(#clip602)\" style=\"stroke:#000000; stroke-width:4; stroke-opacity:1; fill:none\" points=\"\n",
       "  1142.79,257.782 1144.85,262.961 1146.93,268.131 1149.01,273.283 1151.12,278.408 1153.24,283.497 1155.4,288.541 1157.59,293.53 1159.82,298.457 1162.1,303.312 \n",
       "  1164.43,308.085 1166.82,312.769 1169.27,317.353 1171.79,321.83 1174.39,326.189 1177.07,330.422 1179.84,334.52 1182.7,338.474 1185.66,342.274 1188.73,345.913 \n",
       "  1191.91,349.38 1195.2,352.667 1198.62,355.765 1202.17,358.664 1205.85,361.357 1209.66,363.833 1213.62,366.094 1217.72,368.148 1221.94,370.003 1226.29,371.669 \n",
       "  1230.75,373.155 1235.32,374.47 1240,375.623 1244.78,376.622 1249.65,377.477 1254.61,378.197 1259.65,378.791 1264.76,379.268 1269.95,379.637 1275.2,379.907 \n",
       "  1280.51,380.086 1285.87,380.185 1291.28,380.211 1296.73,380.175 1302.21,380.084 1307.73,379.948 1313.26,379.777 1318.82,379.578 1324.38,379.361 1329.96,379.135 \n",
       "  \n",
       "  \"/>\n",
       "<polyline clip-path=\"url(#clip602)\" style=\"stroke:#000000; stroke-width:4; stroke-opacity:1; fill:none\" points=\"\n",
       "  998.385,804.084 1000.89,808.841 1003.41,813.587 1005.93,818.315 1008.47,823.013 1011.02,827.672 1013.6,832.283 1016.2,836.836 1018.84,841.321 1021.52,845.728 \n",
       "  1024.23,850.048 1026.99,854.271 1029.81,858.387 1032.67,862.387 1035.6,866.26 1038.59,869.998 1041.66,873.591 1044.79,877.028 1048,880.3 1051.3,883.398 \n",
       "  1054.68,886.312 1058.16,889.031 1061.73,891.547 1065.41,893.849 1069.19,895.929 1073.08,897.776 1077.08,899.39 1081.18,900.782 1085.39,901.96 1089.7,902.934 \n",
       "  1094.09,903.714 1098.58,904.311 1103.14,904.732 1107.79,904.989 1112.51,905.09 1117.29,905.046 1122.15,904.866 1127.06,904.56 1132.03,904.138 1137.04,903.609 \n",
       "  1142.11,902.983 1147.21,902.269 1152.36,901.478 1157.53,900.62 1162.73,899.703 1167.96,898.737 1173.2,897.733 1178.46,896.699 1183.73,895.646 1189,894.584 \n",
       "  \n",
       "  \"/>\n",
       "<path clip-path=\"url(#clip602)\" d=\"\n",
       "M1760.24 983.778 L1743.24 954.321 L1709.22 954.321 L1692.21 983.778 L1709.22 1013.24 L1743.24 1013.24 L1760.24 983.778 L1760.24 983.778  Z\n",
       "  \" fill=\"#009af9\" fill-rule=\"evenodd\" fill-opacity=\"1\"/>\n",
       "<polyline clip-path=\"url(#clip602)\" style=\"stroke:#000000; stroke-width:4; stroke-opacity:1; fill:none\" points=\"\n",
       "  1760.24,983.778 1743.24,954.321 1709.22,954.321 1692.21,983.778 1709.22,1013.24 1743.24,1013.24 1760.24,983.778 \n",
       "  \"/>\n",
       "<path clip-path=\"url(#clip602)\" d=\"\n",
       "M910.115 979.609 L878.319 924.536 L814.726 924.536 L782.93 979.609 L814.726 1034.68 L878.319 1034.68 L910.115 979.609 L910.115 979.609  Z\n",
       "  \" fill=\"#009af9\" fill-rule=\"evenodd\" fill-opacity=\"1\"/>\n",
       "<polyline clip-path=\"url(#clip602)\" style=\"stroke:#000000; stroke-width:4; stroke-opacity:1; fill:none\" points=\"\n",
       "  910.115,979.609 878.319,924.536 814.726,924.536 782.93,979.609 814.726,1034.68 878.319,1034.68 910.115,979.609 \n",
       "  \"/>\n",
       "<path clip-path=\"url(#clip602)\" d=\"\n",
       "M1009.91 457.128 L992.903 427.671 L958.889 427.671 L941.881 457.128 L958.889 486.586 L992.903 486.586 L1009.91 457.128 L1009.91 457.128  Z\n",
       "  \" fill=\"#009af9\" fill-rule=\"evenodd\" fill-opacity=\"1\"/>\n",
       "<polyline clip-path=\"url(#clip602)\" style=\"stroke:#000000; stroke-width:4; stroke-opacity:1; fill:none\" points=\"\n",
       "  1009.91,457.128 992.903,427.671 958.889,427.671 941.881,457.128 958.889,486.586 992.903,486.586 1009.91,457.128 \n",
       "  \"/>\n",
       "<path clip-path=\"url(#clip602)\" d=\"\n",
       "M1603.25 978.342 L1567.76 916.866 L1496.77 916.866 L1461.28 978.342 L1496.77 1039.82 L1567.76 1039.82 L1603.25 978.342 L1603.25 978.342  Z\n",
       "  \" fill=\"#009af9\" fill-rule=\"evenodd\" fill-opacity=\"1\"/>\n",
       "<polyline clip-path=\"url(#clip602)\" style=\"stroke:#000000; stroke-width:4; stroke-opacity:1; fill:none\" points=\"\n",
       "  1603.25,978.342 1567.76,916.866 1496.77,916.866 1461.28,978.342 1496.77,1039.82 1567.76,1039.82 1603.25,978.342 \n",
       "  \"/>\n",
       "<path clip-path=\"url(#clip602)\" d=\"\n",
       "M1247.27 588.852 L1228.41 556.192 L1190.7 556.192 L1171.84 588.852 L1190.7 621.511 L1228.41 621.511 L1247.27 588.852 L1247.27 588.852  Z\n",
       "  \" fill=\"#009af9\" fill-rule=\"evenodd\" fill-opacity=\"1\"/>\n",
       "<polyline clip-path=\"url(#clip602)\" style=\"stroke:#000000; stroke-width:4; stroke-opacity:1; fill:none\" points=\"\n",
       "  1247.27,588.852 1228.41,556.192 1190.7,556.192 1171.84,588.852 1190.7,621.511 1228.41,621.511 1247.27,588.852 \n",
       "  \"/>\n",
       "<path clip-path=\"url(#clip602)\" d=\"\n",
       "M1780.23 701.265 L1763.23 671.807 L1729.21 671.807 L1712.2 701.265 L1729.21 730.722 L1763.23 730.722 L1780.23 701.265 L1780.23 701.265  Z\n",
       "  \" fill=\"#009af9\" fill-rule=\"evenodd\" fill-opacity=\"1\"/>\n",
       "<polyline clip-path=\"url(#clip602)\" style=\"stroke:#000000; stroke-width:4; stroke-opacity:1; fill:none\" points=\"\n",
       "  1780.23,701.265 1763.23,671.807 1729.21,671.807 1712.2,701.265 1729.21,730.722 1763.23,730.722 1780.23,701.265 \n",
       "  \"/>\n",
       "<path clip-path=\"url(#clip602)\" d=\"\n",
       "M1546.07 573.619 L1516.13 521.748 L1456.23 521.748 L1426.28 573.619 L1456.23 625.489 L1516.13 625.489 L1546.07 573.619 L1546.07 573.619  Z\n",
       "  \" fill=\"#009af9\" fill-rule=\"evenodd\" fill-opacity=\"1\"/>\n",
       "<polyline clip-path=\"url(#clip602)\" style=\"stroke:#000000; stroke-width:4; stroke-opacity:1; fill:none\" points=\"\n",
       "  1546.07,573.619 1516.13,521.748 1456.23,521.748 1426.28,573.619 1456.23,625.489 1516.13,625.489 1546.07,573.619 1546.07,573.619 \n",
       "  \"/>\n",
       "<path clip-path=\"url(#clip602)\" d=\"\n",
       "M1616.47 735.872 L1586.52 684.001 L1526.62 684.001 L1496.68 735.872 L1526.62 787.743 L1586.52 787.743 L1616.47 735.872 L1616.47 735.872  Z\n",
       "  \" fill=\"#009af9\" fill-rule=\"evenodd\" fill-opacity=\"1\"/>\n",
       "<polyline clip-path=\"url(#clip602)\" style=\"stroke:#000000; stroke-width:4; stroke-opacity:1; fill:none\" points=\"\n",
       "  1616.47,735.872 1586.52,684.001 1526.62,684.001 1496.68,735.872 1526.62,787.743 1586.52,787.743 1616.47,735.872 \n",
       "  \"/>\n",
       "<path clip-path=\"url(#clip602)\" d=\"\n",
       "M1442.82 960.949 L1411.03 905.876 L1347.43 905.876 L1315.64 960.949 L1347.43 1016.02 L1411.03 1016.02 L1442.82 960.949 L1442.82 960.949  Z\n",
       "  \" fill=\"#009af9\" fill-rule=\"evenodd\" fill-opacity=\"1\"/>\n",
       "<polyline clip-path=\"url(#clip602)\" style=\"stroke:#000000; stroke-width:4; stroke-opacity:1; fill:none\" points=\"\n",
       "  1442.82,960.949 1411.03,905.876 1347.43,905.876 1315.64,960.949 1347.43,1016.02 1411.03,1016.02 1442.82,960.949 1442.82,960.949 \n",
       "  \"/>\n",
       "<path clip-path=\"url(#clip602)\" d=\"\n",
       "M804.251 1121.2 L748.89 1025.32 L638.169 1025.32 L582.809 1121.2 L638.169 1217.09 L748.89 1217.09 L804.251 1121.2 L804.251 1121.2  Z\n",
       "  \" fill=\"#009af9\" fill-rule=\"evenodd\" fill-opacity=\"1\"/>\n",
       "<polyline clip-path=\"url(#clip602)\" style=\"stroke:#000000; stroke-width:4; stroke-opacity:1; fill:none\" points=\"\n",
       "  804.251,1121.2 748.89,1025.32 638.169,1025.32 582.809,1121.2 638.169,1217.09 748.89,1217.09 804.251,1121.2 \n",
       "  \"/>\n",
       "<path clip-path=\"url(#clip602)\" d=\"\n",
       "M1624.62 1310.47 L1591.79 1253.61 L1526.13 1253.61 L1493.3 1310.47 L1526.13 1367.33 L1591.79 1367.33 L1624.62 1310.47 L1624.62 1310.47  Z\n",
       "  \" fill=\"#009af9\" fill-rule=\"evenodd\" fill-opacity=\"1\"/>\n",
       "<polyline clip-path=\"url(#clip602)\" style=\"stroke:#000000; stroke-width:4; stroke-opacity:1; fill:none\" points=\"\n",
       "  1624.62,1310.47 1591.79,1253.61 1526.13,1253.61 1493.3,1310.47 1526.13,1367.33 1591.79,1367.33 1624.62,1310.47 \n",
       "  \"/>\n",
       "<path clip-path=\"url(#clip602)\" d=\"\n",
       "M1202.01 257.782 L1172.4 206.493 L1113.17 206.493 L1083.56 257.782 L1113.17 309.07 L1172.4 309.07 L1202.01 257.782 L1202.01 257.782  Z\n",
       "  \" fill=\"#009af9\" fill-rule=\"evenodd\" fill-opacity=\"1\"/>\n",
       "<polyline clip-path=\"url(#clip602)\" style=\"stroke:#000000; stroke-width:4; stroke-opacity:1; fill:none\" points=\"\n",
       "  1202.01,257.782 1172.4,206.493 1113.17,206.493 1083.56,257.782 1113.17,309.07 1172.4,309.07 1202.01,257.782 \n",
       "  \"/>\n",
       "<path clip-path=\"url(#clip602)\" d=\"\n",
       "M1109.11 804.084 L1053.75 708.197 L943.024 708.197 L887.664 804.084 L943.024 899.972 L1053.75 899.972 L1109.11 804.084 L1109.11 804.084  Z\n",
       "  \" fill=\"#009af9\" fill-rule=\"evenodd\" fill-opacity=\"1\"/>\n",
       "<polyline clip-path=\"url(#clip602)\" style=\"stroke:#000000; stroke-width:4; stroke-opacity:1; fill:none\" points=\"\n",
       "  1109.11,804.084 1053.75,708.197 943.024,708.197 887.664,804.084 943.024,899.972 1053.75,899.972 1109.11,804.084 1109.11,804.084 \n",
       "  \"/>\n",
       "<path clip-path=\"url(#clip602)\" d=\"\n",
       "M1299.72 894.584 L1244.36 798.697 L1133.64 798.697 L1078.28 894.584 L1133.64 990.471 L1244.36 990.471 L1299.72 894.584 L1299.72 894.584  Z\n",
       "  \" fill=\"#009af9\" fill-rule=\"evenodd\" fill-opacity=\"1\"/>\n",
       "<polyline clip-path=\"url(#clip602)\" style=\"stroke:#000000; stroke-width:4; stroke-opacity:1; fill:none\" points=\"\n",
       "  1299.72,894.584 1244.36,798.697 1133.64,798.697 1078.28,894.584 1133.64,990.471 1244.36,990.471 1299.72,894.584 \n",
       "  \"/>\n",
       "<path clip-path=\"url(#clip602)\" d=\"\n",
       "M1395.62 379.135 L1362.79 322.272 L1297.13 322.272 L1264.3 379.135 L1297.13 435.999 L1362.79 435.999 L1395.62 379.135 L1395.62 379.135  Z\n",
       "  \" fill=\"#009af9\" fill-rule=\"evenodd\" fill-opacity=\"1\"/>\n",
       "<polyline clip-path=\"url(#clip602)\" style=\"stroke:#000000; stroke-width:4; stroke-opacity:1; fill:none\" points=\"\n",
       "  1395.62,379.135 1362.79,322.272 1297.13,322.272 1264.3,379.135 1297.13,435.999 1362.79,435.999 1395.62,379.135 \n",
       "  \"/>\n",
       "<circle clip-path=\"url(#clip602)\" style=\"fill:#009af9; stroke:none; fill-opacity:1\" cx=\"1726.23\" cy=\"983.778\" r=\"2\"/>\n",
       "<circle clip-path=\"url(#clip602)\" style=\"fill:#009af9; stroke:none; fill-opacity:1\" cx=\"846.522\" cy=\"979.609\" r=\"2\"/>\n",
       "<circle clip-path=\"url(#clip602)\" style=\"fill:#009af9; stroke:none; fill-opacity:1\" cx=\"975.896\" cy=\"457.128\" r=\"2\"/>\n",
       "<circle clip-path=\"url(#clip602)\" style=\"fill:#009af9; stroke:none; fill-opacity:1\" cx=\"1532.26\" cy=\"978.342\" r=\"2\"/>\n",
       "<circle clip-path=\"url(#clip602)\" style=\"fill:#009af9; stroke:none; fill-opacity:1\" cx=\"1209.55\" cy=\"588.852\" r=\"2\"/>\n",
       "<circle clip-path=\"url(#clip602)\" style=\"fill:#009af9; stroke:none; fill-opacity:1\" cx=\"1746.22\" cy=\"701.265\" r=\"2\"/>\n",
       "<circle clip-path=\"url(#clip602)\" style=\"fill:#009af9; stroke:none; fill-opacity:1\" cx=\"1486.18\" cy=\"573.619\" r=\"2\"/>\n",
       "<circle clip-path=\"url(#clip602)\" style=\"fill:#009af9; stroke:none; fill-opacity:1\" cx=\"1556.57\" cy=\"735.872\" r=\"2\"/>\n",
       "<circle clip-path=\"url(#clip602)\" style=\"fill:#009af9; stroke:none; fill-opacity:1\" cx=\"1379.23\" cy=\"960.949\" r=\"2\"/>\n",
       "<circle clip-path=\"url(#clip602)\" style=\"fill:#009af9; stroke:none; fill-opacity:1\" cx=\"693.53\" cy=\"1121.2\" r=\"2\"/>\n",
       "<circle clip-path=\"url(#clip602)\" style=\"fill:#009af9; stroke:none; fill-opacity:1\" cx=\"1558.96\" cy=\"1310.47\" r=\"2\"/>\n",
       "<circle clip-path=\"url(#clip602)\" style=\"fill:#009af9; stroke:none; fill-opacity:1\" cx=\"1142.79\" cy=\"257.782\" r=\"2\"/>\n",
       "<circle clip-path=\"url(#clip602)\" style=\"fill:#009af9; stroke:none; fill-opacity:1\" cx=\"998.385\" cy=\"804.084\" r=\"2\"/>\n",
       "<circle clip-path=\"url(#clip602)\" style=\"fill:#009af9; stroke:none; fill-opacity:1\" cx=\"1189\" cy=\"894.584\" r=\"2\"/>\n",
       "<circle clip-path=\"url(#clip602)\" style=\"fill:#009af9; stroke:none; fill-opacity:1\" cx=\"1329.96\" cy=\"379.135\" r=\"2\"/>\n",
       "<path clip-path=\"url(#clip600)\" d=\"M 0 0 M1711.8 1003.8 L1723.26 1003.8 L1723.26 964.247 L1710.79 966.747 L1710.79 960.358 L1723.19 957.858 L1730.2 957.858 L1730.2 1003.8 L1741.66 1003.8 L1741.66 1009.7 L1711.8 1009.7 L1711.8 1003.8 Z\" fill=\"#000000\" fill-rule=\"evenodd\" fill-opacity=\"1\" /><path clip-path=\"url(#clip600)\" d=\"M 0 0 M838.502 999.626 L862.981 999.626 L862.981 1005.53 L830.064 1005.53 L830.064 999.626 Q834.057 995.494 840.932 988.55 Q847.842 981.571 849.613 979.557 Q852.981 975.772 854.3 973.168 Q855.654 970.529 855.654 967.994 Q855.654 963.862 852.738 961.258 Q849.856 958.654 845.203 958.654 Q841.904 958.654 838.224 959.8 Q834.578 960.946 830.411 963.272 L830.411 956.189 Q834.647 954.487 838.328 953.619 Q842.008 952.751 845.064 952.751 Q853.12 952.751 857.911 956.779 Q862.703 960.807 862.703 967.543 Q862.703 970.737 861.488 973.619 Q860.307 976.467 857.147 980.355 Q856.279 981.362 851.626 986.189 Q846.974 990.98 838.502 999.626 Z\" fill=\"#000000\" fill-rule=\"evenodd\" fill-opacity=\"1\" /><path clip-path=\"url(#clip600)\" d=\"M 0 0 M982.268 455.097 Q987.302 456.173 990.115 459.576 Q992.962 462.979 992.962 467.979 Q992.962 475.652 987.684 479.854 Q982.406 484.055 972.684 484.055 Q969.42 484.055 965.948 483.395 Q962.511 482.77 958.83 481.486 L958.83 474.715 Q961.747 476.416 965.219 477.284 Q968.691 478.152 972.476 478.152 Q979.073 478.152 982.511 475.548 Q985.983 472.944 985.983 467.979 Q985.983 463.396 982.754 460.826 Q979.559 458.222 973.83 458.222 L967.788 458.222 L967.788 452.458 L974.108 452.458 Q979.281 452.458 982.024 450.41 Q984.768 448.326 984.768 444.437 Q984.768 440.444 981.92 438.326 Q979.108 436.174 973.83 436.174 Q970.948 436.174 967.65 436.799 Q964.351 437.424 960.393 438.743 L960.393 432.493 Q964.386 431.382 967.858 430.826 Q971.365 430.271 974.455 430.271 Q982.441 430.271 987.094 433.917 Q991.747 437.528 991.747 443.708 Q991.747 448.014 989.281 451 Q986.816 453.951 982.268 455.097 Z\" fill=\"#000000\" fill-rule=\"evenodd\" fill-opacity=\"1\" /><path clip-path=\"url(#clip600)\" d=\"M 0 0 M1536.78 958.533 L1519.07 986.207 L1536.78 986.207 L1536.78 958.533 M1534.94 952.422 L1543.76 952.422 L1543.76 986.207 L1551.15 986.207 L1551.15 992.04 L1543.76 992.04 L1543.76 1004.26 L1536.78 1004.26 L1536.78 992.04 L1513.38 992.04 L1513.38 985.269 L1534.94 952.422 Z\" fill=\"#000000\" fill-rule=\"evenodd\" fill-opacity=\"1\" /><path clip-path=\"url(#clip600)\" d=\"M 0 0 M1194.97 562.932 L1222.51 562.932 L1222.51 568.835 L1201.39 568.835 L1201.39 581.543 Q1202.92 581.022 1204.45 580.779 Q1205.98 580.501 1207.51 580.501 Q1216.19 580.501 1221.26 585.258 Q1226.33 590.015 1226.33 598.14 Q1226.33 606.508 1221.12 611.161 Q1215.91 615.779 1206.43 615.779 Q1203.17 615.779 1199.76 615.223 Q1196.39 614.668 1192.78 613.557 L1192.78 606.508 Q1195.91 608.209 1199.24 609.043 Q1202.58 609.876 1206.29 609.876 Q1212.3 609.876 1215.8 606.716 Q1219.31 603.557 1219.31 598.14 Q1219.31 592.723 1215.8 589.564 Q1212.3 586.404 1206.29 586.404 Q1203.48 586.404 1200.67 587.029 Q1197.89 587.654 1194.97 588.973 L1194.97 562.932 Z\" fill=\"#000000\" fill-rule=\"evenodd\" fill-opacity=\"1\" /><path clip-path=\"url(#clip600)\" d=\"M 0 0 M1746.83 698.47 Q1742.1 698.47 1739.33 701.699 Q1736.58 704.928 1736.58 710.553 Q1736.58 716.143 1739.33 719.407 Q1742.1 722.636 1746.83 722.636 Q1751.55 722.636 1754.29 719.407 Q1757.07 716.143 1757.07 710.553 Q1757.07 704.928 1754.29 701.699 Q1751.55 698.47 1746.83 698.47 M1760.75 676.491 L1760.75 682.879 Q1758.11 681.629 1755.4 680.97 Q1752.73 680.31 1750.09 680.31 Q1743.15 680.31 1739.46 684.998 Q1735.82 689.685 1735.3 699.164 Q1737.35 696.143 1740.44 694.546 Q1743.53 692.914 1747.24 692.914 Q1755.05 692.914 1759.57 697.671 Q1764.12 702.393 1764.12 710.553 Q1764.12 718.539 1759.4 723.365 Q1754.67 728.192 1746.83 728.192 Q1737.83 728.192 1733.08 721.317 Q1728.32 714.407 1728.32 701.317 Q1728.32 689.025 1734.15 681.734 Q1739.99 674.407 1749.81 674.407 Q1752.45 674.407 1755.12 674.928 Q1757.83 675.449 1760.75 676.491 Z\" fill=\"#000000\" fill-rule=\"evenodd\" fill-opacity=\"1\" /><path clip-path=\"url(#clip600)\" d=\"M 0 0 M1469.51 547.699 L1502.84 547.699 L1502.84 550.685 L1484.02 599.539 L1476.7 599.539 L1494.41 553.601 L1469.51 553.601 L1469.51 547.699 Z\" fill=\"#000000\" fill-rule=\"evenodd\" fill-opacity=\"1\" /><path clip-path=\"url(#clip600)\" d=\"M 0 0 M1556.57 737.174 Q1551.57 737.174 1548.69 739.847 Q1545.84 742.521 1545.84 747.208 Q1545.84 751.896 1548.69 754.57 Q1551.57 757.243 1556.57 757.243 Q1561.57 757.243 1564.45 754.57 Q1567.33 751.861 1567.33 747.208 Q1567.33 742.521 1564.45 739.847 Q1561.61 737.174 1556.57 737.174 M1549.56 734.188 Q1545.04 733.077 1542.51 729.986 Q1540.01 726.896 1540.01 722.452 Q1540.01 716.236 1544.42 712.625 Q1548.86 709.014 1556.57 709.014 Q1564.31 709.014 1568.72 712.625 Q1573.13 716.236 1573.13 722.452 Q1573.13 726.896 1570.6 729.986 Q1568.1 733.077 1563.62 734.188 Q1568.69 735.368 1571.5 738.806 Q1574.35 742.243 1574.35 747.208 Q1574.35 754.743 1569.73 758.771 Q1565.15 762.799 1556.57 762.799 Q1547.99 762.799 1543.38 758.771 Q1538.79 754.743 1538.79 747.208 Q1538.79 742.243 1541.64 738.806 Q1544.49 735.368 1549.56 734.188 M1546.99 723.111 Q1546.99 727.139 1549.49 729.396 Q1552.02 731.653 1556.57 731.653 Q1561.08 731.653 1563.62 729.396 Q1566.19 727.139 1566.19 723.111 Q1566.19 719.084 1563.62 716.827 Q1561.08 714.57 1556.57 714.57 Q1552.02 714.57 1549.49 716.827 Q1546.99 719.084 1546.99 723.111 Z\" fill=\"#000000\" fill-rule=\"evenodd\" fill-opacity=\"1\" /><path clip-path=\"url(#clip600)\" d=\"M 0 0 M1364.68 985.792 L1364.68 979.404 Q1367.32 980.654 1370.03 981.313 Q1372.74 981.973 1375.34 981.973 Q1382.28 981.973 1385.93 977.32 Q1389.61 972.633 1390.13 963.119 Q1388.12 966.105 1385.03 967.702 Q1381.94 969.299 1378.19 969.299 Q1370.41 969.299 1365.86 964.612 Q1361.35 959.89 1361.35 951.73 Q1361.35 943.744 1366.07 938.918 Q1370.79 934.091 1378.64 934.091 Q1387.63 934.091 1392.35 941.001 Q1397.11 947.876 1397.11 961.001 Q1397.11 973.258 1391.28 980.584 Q1385.48 987.876 1375.65 987.876 Q1373.01 987.876 1370.31 987.355 Q1367.6 986.834 1364.68 985.792 M1378.64 963.813 Q1383.36 963.813 1386.1 960.584 Q1388.88 957.355 1388.88 951.73 Q1388.88 946.14 1386.1 942.911 Q1383.36 939.647 1378.64 939.647 Q1373.92 939.647 1371.14 942.911 Q1368.4 946.14 1368.4 951.73 Q1368.4 957.355 1371.14 960.584 Q1373.92 963.813 1378.64 963.813 Z\" fill=\"#000000\" fill-rule=\"evenodd\" fill-opacity=\"1\" /><path clip-path=\"url(#clip600)\" d=\"M 0 0 M658.842 1141.22 L670.301 1141.22 L670.301 1101.67 L657.836 1104.17 L657.836 1097.78 L670.231 1095.28 L677.245 1095.28 L677.245 1141.22 L688.703 1141.22 L688.703 1147.12 L658.842 1147.12 L658.842 1141.22 Z\" fill=\"#000000\" fill-rule=\"evenodd\" fill-opacity=\"1\" /><path clip-path=\"url(#clip600)\" d=\"M 0 0 M711.307 1099.9 Q705.891 1099.9 703.148 1105.25 Q700.439 1110.56 700.439 1121.26 Q700.439 1131.92 703.148 1137.26 Q705.891 1142.58 711.307 1142.58 Q716.759 1142.58 719.467 1137.26 Q722.21 1131.92 722.21 1121.26 Q722.21 1110.56 719.467 1105.25 Q716.759 1099.9 711.307 1099.9 M711.307 1094.35 Q720.023 1094.35 724.606 1101.26 Q729.224 1108.13 729.224 1121.26 Q729.224 1134.35 724.606 1141.26 Q720.023 1148.13 711.307 1148.13 Q702.592 1148.13 697.974 1141.26 Q693.391 1134.35 693.391 1121.26 Q693.391 1108.13 697.974 1101.26 Q702.592 1094.35 711.307 1094.35 Z\" fill=\"#000000\" fill-rule=\"evenodd\" fill-opacity=\"1\" /><path clip-path=\"url(#clip600)\" d=\"M 0 0 M1525.19 1330.49 L1536.65 1330.49 L1536.65 1290.94 L1524.18 1293.44 L1524.18 1287.05 L1536.58 1284.55 L1543.59 1284.55 L1543.59 1330.49 L1555.05 1330.49 L1555.05 1336.39 L1525.19 1336.39 L1525.19 1330.49 Z\" fill=\"#000000\" fill-rule=\"evenodd\" fill-opacity=\"1\" /><path clip-path=\"url(#clip600)\" d=\"M 0 0 M1563.87 1330.49 L1575.33 1330.49 L1575.33 1290.94 L1562.86 1293.44 L1562.86 1287.05 L1575.26 1284.55 L1582.27 1284.55 L1582.27 1330.49 L1593.73 1330.49 L1593.73 1336.39 L1563.87 1336.39 L1563.87 1330.49 Z\" fill=\"#000000\" fill-rule=\"evenodd\" fill-opacity=\"1\" /><path clip-path=\"url(#clip600)\" d=\"M 0 0 M1109.3 277.799 L1120.75 277.799 L1120.75 238.251 L1108.29 240.751 L1108.29 234.362 L1120.69 231.862 L1127.7 231.862 L1127.7 277.799 L1139.16 277.799 L1139.16 283.702 L1109.3 283.702 L1109.3 277.799 Z\" fill=\"#000000\" fill-rule=\"evenodd\" fill-opacity=\"1\" /><path clip-path=\"url(#clip600)\" d=\"M 0 0 M1152.8 277.799 L1177.28 277.799 L1177.28 283.702 L1144.37 283.702 L1144.37 277.799 Q1148.36 273.667 1155.23 266.723 Q1162.14 259.744 1163.91 257.73 Q1167.28 253.945 1168.6 251.341 Q1169.96 248.702 1169.96 246.167 Q1169.96 242.035 1167.04 239.431 Q1164.16 236.827 1159.5 236.827 Q1156.21 236.827 1152.53 237.973 Q1148.88 239.119 1144.71 241.445 L1144.71 234.362 Q1148.95 232.66 1152.63 231.792 Q1156.31 230.924 1159.37 230.924 Q1167.42 230.924 1172.21 234.952 Q1177 238.98 1177 245.716 Q1177 248.91 1175.79 251.792 Q1174.61 254.639 1171.45 258.528 Q1170.58 259.535 1165.93 264.362 Q1161.28 269.153 1152.8 277.799 Z\" fill=\"#000000\" fill-rule=\"evenodd\" fill-opacity=\"1\" /><path clip-path=\"url(#clip600)\" d=\"M 0 0 M964.184 824.101 L975.642 824.101 L975.642 784.553 L963.177 787.053 L963.177 780.664 L975.573 778.164 L982.586 778.164 L982.586 824.101 L994.045 824.101 L994.045 830.004 L964.184 830.004 L964.184 824.101 Z\" fill=\"#000000\" fill-rule=\"evenodd\" fill-opacity=\"1\" /><path clip-path=\"url(#clip600)\" d=\"M 0 0 M1022.9 802.053 Q1027.93 803.129 1030.75 806.532 Q1033.59 809.935 1033.59 814.935 Q1033.59 822.608 1028.32 826.81 Q1023.04 831.011 1013.32 831.011 Q1010.05 831.011 1006.58 830.351 Q1003.14 829.726 999.461 828.442 L999.461 821.671 Q1002.38 823.372 1005.85 824.24 Q1009.32 825.108 1013.11 825.108 Q1019.7 825.108 1023.14 822.504 Q1026.61 819.9 1026.61 814.935 Q1026.61 810.352 1023.38 807.782 Q1020.19 805.178 1014.46 805.178 L1008.42 805.178 L1008.42 799.414 L1014.74 799.414 Q1019.91 799.414 1022.66 797.365 Q1025.4 795.282 1025.4 791.393 Q1025.4 787.4 1022.55 785.282 Q1019.74 783.129 1014.46 783.129 Q1011.58 783.129 1008.28 783.754 Q1004.98 784.379 1001.02 785.699 L1001.02 779.449 Q1005.02 778.338 1008.49 777.782 Q1012 777.227 1015.09 777.227 Q1023.07 777.227 1027.73 780.873 Q1032.38 784.484 1032.38 790.664 Q1032.38 794.97 1029.91 797.956 Q1027.45 800.907 1022.9 802.053 Z\" fill=\"#000000\" fill-rule=\"evenodd\" fill-opacity=\"1\" /><path clip-path=\"url(#clip600)\" d=\"M 0 0 M1153.95 914.601 L1165.41 914.601 L1165.41 875.053 L1152.94 877.553 L1152.94 871.164 L1165.34 868.664 L1172.35 868.664 L1172.35 914.601 L1183.81 914.601 L1183.81 920.504 L1153.95 920.504 L1153.95 914.601 Z\" fill=\"#000000\" fill-rule=\"evenodd\" fill-opacity=\"1\" /><path clip-path=\"url(#clip600)\" d=\"M 0 0 M1210.68 874.775 L1192.97 902.448 L1210.68 902.448 L1210.68 874.775 M1208.84 868.664 L1217.66 868.664 L1217.66 902.448 L1225.06 902.448 L1225.06 908.282 L1217.66 908.282 L1217.66 920.504 L1210.68 920.504 L1210.68 908.282 L1187.28 908.282 L1187.28 901.511 L1208.84 868.664 Z\" fill=\"#000000\" fill-rule=\"evenodd\" fill-opacity=\"1\" /><path clip-path=\"url(#clip600)\" d=\"M 0 0 M1296.02 399.152 L1307.47 399.152 L1307.47 359.604 L1295.01 362.104 L1295.01 355.715 L1307.4 353.215 L1314.42 353.215 L1314.42 399.152 L1325.88 399.152 L1325.88 405.055 L1296.02 405.055 L1296.02 399.152 Z\" fill=\"#000000\" fill-rule=\"evenodd\" fill-opacity=\"1\" /><path clip-path=\"url(#clip600)\" d=\"M 0 0 M1333.55 353.215 L1361.08 353.215 L1361.08 359.118 L1339.97 359.118 L1339.97 371.826 Q1341.5 371.305 1343.03 371.062 Q1344.56 370.784 1346.08 370.784 Q1354.77 370.784 1359.83 375.541 Q1364.9 380.298 1364.9 388.423 Q1364.9 396.791 1359.7 401.444 Q1354.49 406.062 1345.01 406.062 Q1341.74 406.062 1338.34 405.507 Q1334.97 404.951 1331.36 403.84 L1331.36 396.791 Q1334.49 398.493 1337.82 399.326 Q1341.15 400.159 1344.87 400.159 Q1350.88 400.159 1354.38 397 Q1357.89 393.84 1357.89 388.423 Q1357.89 383.007 1354.38 379.847 Q1350.88 376.687 1344.87 376.687 Q1342.06 376.687 1339.24 377.312 Q1336.47 377.937 1333.55 379.257 L1333.55 353.215 Z\" fill=\"#000000\" fill-rule=\"evenodd\" fill-opacity=\"1\" /></svg>\n"
      ]
     },
     "metadata": {},
     "output_type": "display_data"
    },
    {
     "data": {
      "text/markdown": [
       "![](/assets/images/15129024089579920886.svg)"
      ]
     },
     "metadata": {},
     "output_type": "display_data"
    }
   ],
   "source": [
    "graph_hash = hash(sort(graph.fadjlist), hash(graph.ne))\n",
    "\n",
    "p = GraphRecipes.graphplot(\n",
    "    graph,\n",
    "    names = 1:length(kmers),\n",
    "    node_weights = collect(values(kmer_counts)),\n",
    "    markersize = 0.2,\n",
    "    hover=false,\n",
    "    fontsize=12)\n",
    "\n",
    "filename = \"/assets/images/$(graph_hash).svg\"\n",
    "Plots.savefig(p, dirname(pwd()) * filename)\n",
    "display(p)\n",
    "display(\"text/markdown\", \"![]($filename)\")"
   ]
  },
  {
   "cell_type": "code",
   "execution_count": 365,
   "metadata": {},
   "outputs": [
    {
     "data": {
      "text/plain": [
       "determine_edge_probabilities (generic function with 3 methods)"
      ]
     },
     "execution_count": 365,
     "metadata": {},
     "output_type": "execute_result"
    }
   ],
   "source": [
    "function determine_edge_probabilities(graph, kmers, edge_evidence)\n",
    "    outgoing_edge_probabilities = determine_edge_probabilities(graph, kmers, edge_evidence, true)\n",
    "    incoming_edge_probabilities = determine_edge_probabilities(graph, kmers, edge_evidence, false)\n",
    "    return outgoing_edge_probabilities, incoming_edge_probabilities\n",
    "end\n",
    "\n",
    "function determine_edge_probabilities(graph, kmers, edge_evidence, strand)\n",
    "    outgoing_edge_probabilities = SparseArrays.spzeros(length(kmers), length(kmers))\n",
    "    for (kmer_index, kmer) in enumerate(kmers)\n",
    "        if !strand\n",
    "            kmer = BioSequences.reverse_complement(kmer)\n",
    "        end\n",
    "        \n",
    "        downstream_neighbor_indices = Union{Nothing, Int}[\n",
    "            get_kmer_index(kmers, BioSequences.canonical(neighbor)) for neighbor in BioSequences.neighbors(kmer)\n",
    "        ]\n",
    "        filter!(neighbor_index -> neighbor_index != nothing, downstream_neighbor_indices)\n",
    "        sort!(downstream_neighbor_indices)\n",
    "        \n",
    "        downstream_edge_weights = Int[\n",
    "            length(get(edge_evidence, ordered_edge(kmer_index, neighbor_index), [])) for neighbor_index in downstream_neighbor_indices\n",
    "        ]\n",
    "        \n",
    "        non_zero_indices = downstream_edge_weights .> 0\n",
    "        downstream_neighbor_indices = downstream_neighbor_indices[non_zero_indices]\n",
    "        downstream_edge_weights = downstream_edge_weights[non_zero_indices]\n",
    "        \n",
    "        downstream_edge_likelihoods = downstream_edge_weights ./ sum(downstream_edge_weights)\n",
    "        for (neighbor_index, likelihood) in zip(downstream_neighbor_indices, downstream_edge_likelihoods)\n",
    "            outgoing_edge_probabilities[kmer_index, neighbor_index] = likelihood\n",
    "        end\n",
    "    end\n",
    "    return outgoing_edge_probabilities\n",
    "end"
   ]
  },
  {
   "cell_type": "code",
   "execution_count": 366,
   "metadata": {},
   "outputs": [
    {
     "data": {
      "text/plain": [
       "(\n",
       "  [6 ,  1]  =  1.0\n",
       "  [13,  2]  =  1.0\n",
       "  [12,  3]  =  0.5\n",
       "  [1 ,  4]  =  1.0\n",
       "  [7 ,  4]  =  1.0\n",
       "  [9 ,  4]  =  0.111111\n",
       "  [14,  5]  =  0.111111\n",
       "  [8 ,  6]  =  0.125\n",
       "  [8 ,  7]  =  0.875\n",
       "  [15,  7]  =  1.0\n",
       "  [9 ,  8]  =  0.888889\n",
       "  [4 ,  9]  =  1.0\n",
       "  [2 , 10]  =  1.0\n",
       "  [11, 11]  =  1.0\n",
       "  [3 , 12]  =  0.5\n",
       "  [3 , 13]  =  0.5\n",
       "  [14, 13]  =  0.888889\n",
       "  [5 , 14]  =  0.5\n",
       "  [5 , 15]  =  0.5\n",
       "  [12, 15]  =  0.5, \n",
       "  [4 ,  1]  =  0.0909091\n",
       "  [10,  2]  =  1.0\n",
       "  [12,  3]  =  1.0\n",
       "  [13,  3]  =  0.111111\n",
       "  [11,  4]  =  1.0\n",
       "  [5 ,  5]  =  1.0\n",
       "  [15,  5]  =  0.5\n",
       "  [1 ,  6]  =  1.0\n",
       "  [4 ,  7]  =  0.727273\n",
       "  [6 ,  8]  =  1.0\n",
       "  [7 ,  8]  =  0.875\n",
       "  [8 ,  9]  =  1.0\n",
       "  [14,  9]  =  1.0\n",
       "  [4 , 11]  =  0.181818\n",
       "  [3 , 12]  =  1.0\n",
       "  [15, 12]  =  0.5\n",
       "  [2 , 13]  =  1.0\n",
       "  [9 , 14]  =  1.0\n",
       "  [13, 14]  =  0.888889\n",
       "  [7 , 15]  =  0.125)"
      ]
     },
     "execution_count": 366,
     "metadata": {},
     "output_type": "execute_result"
    }
   ],
   "source": [
    "outgoing_edge_probabilities, incoming_edge_probabilities = determine_edge_probabilities(graph, kmers, edge_evidence)"
   ]
  },
  {
   "cell_type": "code",
   "execution_count": 367,
   "metadata": {},
   "outputs": [
    {
     "data": {
      "text/plain": [
       "15-element Array{Array{Array{Int64,1},1},1}:\n",
       " [[], [1, 4, 9, 14, 13, 2], [1, 4, 9, 14, 13, 3], [1, 4], [1, 4, 9, 14, 5], [1, 6], [1, 4, 7], [1, 6, 8], [1, 4, 9], [1, 4, 9, 14, 13, 2, 10], [1, 4, 11], [1, 4, 7, 15, 12], [1, 4, 9, 14, 13], [1, 4, 9, 14], [1, 4, 7, 15]]\n",
       " [[2, 13, 14, 9, 4, 1], [], [2, 13, 3], [2, 13, 14, 9, 4], [2, 13, 14, 5], [2, 13, 14, 9, 8, 6], [2, 13, 14, 9, 4, 7], [2, 13, 14, 9, 8], [2, 13, 14, 9], [2, 10], [2, 13, 14, 9, 4, 11], [2, 13, 3, 12], [2, 13], [2, 13, 14], [2, 13, 3, 12, 15]]\n",
       " [[3, 13, 14, 9, 4, 1], [3, 13, 2], [], [3, 13, 14, 9, 4], [3, 13, 14, 5], [3, 13, 14, 9, 8, 6], [3, 12, 15, 7], [3, 13, 14, 9, 8], [3, 13, 14, 9], [3, 13, 2, 10], [3, 13, 14, 9, 4, 11], [3, 12], [3, 13], [3, 13, 14], [3, 12, 15]]\n",
       " [[4, 1], [4, 9, 14, 13, 2], [4, 9, 14, 13, 3], [], [4, 9, 14, 5], [4, 1, 6], [4, 7], [4, 7, 8], [4, 9], [4, 9, 14, 13, 2, 10], [4, 11], [4, 7, 15, 12], [4, 9, 14, 13], [4, 9, 14], [4, 7, 15]]\n",
       " [[5, 14, 9, 4, 1], [5, 14, 13, 2], [5, 14, 13, 3], [5, 14, 9, 4], [], [5, 14, 9, 8, 6], [5, 15, 7], [5, 14, 9, 8], [5, 14, 9], [5, 14, 13, 2, 10], [5, 14, 9, 4, 11], [5, 15, 12], [5, 14, 13], [5, 14], [5, 15]]\n",
       " [[6, 1], [6, 8, 9, 14, 13, 2], [6, 8, 9, 14, 13, 3], [6, 1, 4], [6, 8, 9, 14, 5], [], [6, 8, 7], [6, 8], [6, 8, 9], [6, 8, 9, 14, 13, 2, 10], [6, 1, 4, 11], [6, 8, 7, 15, 12], [6, 8, 9, 14, 13], [6, 8, 9, 14], [6, 8, 7, 15]]\n",
       " [[7, 4, 1], [7, 4, 9, 14, 13, 2], [7, 15, 12, 3], [7, 4], [7, 15, 5], [7, 8, 6], [], [7, 8], [7, 4, 9], [7, 4, 9, 14, 13, 2, 10], [7, 4, 11], [7, 15, 12], [7, 4, 9, 14, 13], [7, 4, 9, 14], [7, 15]]\n",
       " [[8, 6, 1], [8, 9, 14, 13, 2], [8, 9, 14, 13, 3], [8, 7, 4], [8, 9, 14, 5], [8, 6], [8, 7], [], [8, 9], [8, 9, 14, 13, 2, 10], [8, 7, 4, 11], [8, 7, 15, 12], [8, 9, 14, 13], [8, 9, 14], [8, 7, 15]]\n",
       " [[9, 4, 1], [9, 14, 13, 2], [9, 14, 13, 3], [9, 4], [9, 14, 5], [9, 8, 6], [9, 4, 7], [9, 8], [], [9, 14, 13, 2, 10], [9, 4, 11], [9, 14, 13, 3, 12], [9, 14, 13], [9, 14], [9, 4, 7, 15]]\n",
       " [[10, 2, 13, 14, 9, 4, 1], [10, 2], [10, 2, 13, 3], [10, 2, 13, 14, 9, 4], [10, 2, 13, 14, 5], [10, 2, 13, 14, 9, 8, 6], [10, 2, 13, 14, 9, 4, 7], [10, 2, 13, 14, 9, 8], [10, 2, 13, 14, 9], [], [10, 2, 13, 14, 9, 4, 11], [10, 2, 13, 3, 12], [10, 2, 13], [10, 2, 13, 14], [10, 2, 13, 3, 12, 15]]\n",
       " [[11, 4, 1], [11, 4, 9, 14, 13, 2], [11, 4, 9, 14, 13, 3], [11, 4], [11, 4, 9, 14, 5], [11, 4, 1, 6], [11, 4, 7], [11, 4, 7, 8], [11, 4, 9], [11, 4, 9, 14, 13, 2, 10], [], [11, 4, 7, 15, 12], [11, 4, 9, 14, 13], [11, 4, 9, 14], [11, 4, 7, 15]]\n",
       " [[12, 15, 7, 4, 1], [12, 3, 13, 2], [12, 3], [12, 15, 7, 4], [12, 15, 5], [12, 15, 7, 8, 6], [12, 15, 7], [12, 15, 7, 8], [12, 3, 13, 14, 9], [12, 3, 13, 2, 10], [12, 15, 7, 4, 11], [], [12, 3, 13], [12, 3, 13, 14], [12, 15]]\n",
       " [[13, 14, 9, 4, 1], [13, 2], [13, 3], [13, 14, 9, 4], [13, 14, 5], [13, 14, 9, 8, 6], [13, 14, 9, 4, 7], [13, 14, 9, 8], [13, 14, 9], [13, 2, 10], [13, 14, 9, 4, 11], [13, 3, 12], [], [13, 14], [13, 3, 12, 15]]\n",
       " [[14, 9, 4, 1], [14, 13, 2], [14, 13, 3], [14, 9, 4], [14, 5], [14, 9, 8, 6], [14, 9, 4, 7], [14, 9, 8], [14, 9], [14, 13, 2, 10], [14, 9, 4, 11], [14, 13, 3, 12], [14, 13], [], [14, 5, 15]]\n",
       " [[15, 7, 4, 1], [15, 12, 3, 13, 2], [15, 12, 3], [15, 7, 4], [15, 5], [15, 7, 8, 6], [15, 7], [15, 7, 8], [15, 7, 4, 9], [15, 12, 3, 13, 2, 10], [15, 7, 4, 11], [15, 12], [15, 12, 3, 13], [15, 5, 14], []]"
      ]
     },
     "execution_count": 367,
     "metadata": {},
     "output_type": "execute_result"
    }
   ],
   "source": [
    "shortest_paths = LightGraphs.enumerate_paths(LightGraphs.floyd_warshall_shortest_paths(graph))"
   ]
  },
  {
   "cell_type": "code",
   "execution_count": 701,
   "metadata": {},
   "outputs": [
    {
     "data": {
      "text/plain": [
       "10nt DNA Sequence:\n",
       "CCTGGGACGA"
      ]
     },
     "execution_count": 701,
     "metadata": {},
     "output_type": "execute_result"
    }
   ],
   "source": [
    "observation = first(observations)"
   ]
  },
  {
   "cell_type": "code",
   "execution_count": 702,
   "metadata": {},
   "outputs": [
    {
     "data": {
      "text/plain": [
       "NamedTuple{(:index, :observed_canonically),Tuple{Int64,Bool}}"
      ]
     },
     "execution_count": 702,
     "metadata": {},
     "output_type": "execute_result"
    }
   ],
   "source": [
    "ORIENTED_KMER = NamedTuple{(:index, :observed_canonically),Tuple{Int64,Bool}}"
   ]
  },
  {
   "cell_type": "code",
   "execution_count": 703,
   "metadata": {},
   "outputs": [
    {
     "data": {
      "text/plain": [
       "8-element Array{NamedTuple{(:index, :observed_canonically),Tuple{Int64,Bool}},1}:\n",
       " (index = 4, observed_canonically = 0)\n",
       " (index = 7, observed_canonically = 0)\n",
       " (index = 8, observed_canonically = 0)\n",
       " (index = 9, observed_canonically = 0)\n",
       " (index = 14, observed_canonically = 1)\n",
       " (index = 13, observed_canonically = 1)\n",
       " (index = 2, observed_canonically = 1)\n",
       " (index = 10, observed_canonically = 1)"
      ]
     },
     "execution_count": 703,
     "metadata": {},
     "output_type": "execute_result"
    }
   ],
   "source": [
    "observed_path = [\n",
    "    (index = get_kmer_index(kmers, BioSequences.canonical(kmer.fw)),\n",
    "     observed_canonically = kmer.fw < kmer.bw) \n",
    "    for kmer in BioSequences.each(KMER_TYPE, observation)]"
   ]
  },
  {
   "cell_type": "code",
   "execution_count": 704,
   "metadata": {},
   "outputs": [
    {
     "data": {
      "text/plain": [
       "15×8 Array{Float64,2}:\n",
       " -Inf  -Inf  -Inf  -Inf  -Inf  -Inf  -Inf  -Inf\n",
       " -Inf  -Inf  -Inf  -Inf  -Inf  -Inf  -Inf  -Inf\n",
       " -Inf  -Inf  -Inf  -Inf  -Inf  -Inf  -Inf  -Inf\n",
       " -Inf  -Inf  -Inf  -Inf  -Inf  -Inf  -Inf  -Inf\n",
       " -Inf  -Inf  -Inf  -Inf  -Inf  -Inf  -Inf  -Inf\n",
       " -Inf  -Inf  -Inf  -Inf  -Inf  -Inf  -Inf  -Inf\n",
       " -Inf  -Inf  -Inf  -Inf  -Inf  -Inf  -Inf  -Inf\n",
       " -Inf  -Inf  -Inf  -Inf  -Inf  -Inf  -Inf  -Inf\n",
       " -Inf  -Inf  -Inf  -Inf  -Inf  -Inf  -Inf  -Inf\n",
       " -Inf  -Inf  -Inf  -Inf  -Inf  -Inf  -Inf  -Inf\n",
       " -Inf  -Inf  -Inf  -Inf  -Inf  -Inf  -Inf  -Inf\n",
       " -Inf  -Inf  -Inf  -Inf  -Inf  -Inf  -Inf  -Inf\n",
       " -Inf  -Inf  -Inf  -Inf  -Inf  -Inf  -Inf  -Inf\n",
       " -Inf  -Inf  -Inf  -Inf  -Inf  -Inf  -Inf  -Inf\n",
       " -Inf  -Inf  -Inf  -Inf  -Inf  -Inf  -Inf  -Inf"
      ]
     },
     "execution_count": 704,
     "metadata": {},
     "output_type": "execute_result"
    }
   ],
   "source": [
    "# kmer_likelihoods = zeros(LightGraphs.nv(graph), length(observed_path))\n",
    "kmer_likelihoods = Array{Float64}(undef, LightGraphs.nv(graph), length(observed_path)) .= -Inf"
   ]
  },
  {
   "cell_type": "code",
   "execution_count": 705,
   "metadata": {},
   "outputs": [
    {
     "data": {
      "text/plain": [
       "15×8 Array{Int64,2}:\n",
       " 0  0  0  0  0  0  0  0\n",
       " 0  0  0  0  0  0  0  0\n",
       " 0  0  0  0  0  0  0  0\n",
       " 0  0  0  0  0  0  0  0\n",
       " 0  0  0  0  0  0  0  0\n",
       " 0  0  0  0  0  0  0  0\n",
       " 0  0  0  0  0  0  0  0\n",
       " 0  0  0  0  0  0  0  0\n",
       " 0  0  0  0  0  0  0  0\n",
       " 0  0  0  0  0  0  0  0\n",
       " 0  0  0  0  0  0  0  0\n",
       " 0  0  0  0  0  0  0  0\n",
       " 0  0  0  0  0  0  0  0\n",
       " 0  0  0  0  0  0  0  0\n",
       " 0  0  0  0  0  0  0  0"
      ]
     },
     "execution_count": 705,
     "metadata": {},
     "output_type": "execute_result"
    }
   ],
   "source": [
    "edit_distances = zeros(Int, LightGraphs.nv(graph), length(observed_path))"
   ]
  },
  {
   "cell_type": "code",
   "execution_count": 706,
   "metadata": {},
   "outputs": [
    {
     "data": {
      "text/plain": [
       "15×8 Array{Array{NamedTuple{(:index, :observed_canonically),Tuple{Int64,Bool}},1},2}:\n",
       " #undef  #undef  #undef  #undef  #undef  #undef  #undef  #undef\n",
       " #undef  #undef  #undef  #undef  #undef  #undef  #undef  #undef\n",
       " #undef  #undef  #undef  #undef  #undef  #undef  #undef  #undef\n",
       " #undef  #undef  #undef  #undef  #undef  #undef  #undef  #undef\n",
       " #undef  #undef  #undef  #undef  #undef  #undef  #undef  #undef\n",
       " #undef  #undef  #undef  #undef  #undef  #undef  #undef  #undef\n",
       " #undef  #undef  #undef  #undef  #undef  #undef  #undef  #undef\n",
       " #undef  #undef  #undef  #undef  #undef  #undef  #undef  #undef\n",
       " #undef  #undef  #undef  #undef  #undef  #undef  #undef  #undef\n",
       " #undef  #undef  #undef  #undef  #undef  #undef  #undef  #undef\n",
       " #undef  #undef  #undef  #undef  #undef  #undef  #undef  #undef\n",
       " #undef  #undef  #undef  #undef  #undef  #undef  #undef  #undef\n",
       " #undef  #undef  #undef  #undef  #undef  #undef  #undef  #undef\n",
       " #undef  #undef  #undef  #undef  #undef  #undef  #undef  #undef\n",
       " #undef  #undef  #undef  #undef  #undef  #undef  #undef  #undef"
      ]
     },
     "execution_count": 706,
     "metadata": {},
     "output_type": "execute_result"
    }
   ],
   "source": [
    "arrival_paths = Array{Vector{ORIENTED_KMER}}(undef, LightGraphs.nv(graph), length(observed_path))"
   ]
  },
  {
   "cell_type": "code",
   "execution_count": 707,
   "metadata": {},
   "outputs": [
    {
     "data": {
      "text/plain": [
       "assess_alignment (generic function with 1 method)"
      ]
     },
     "execution_count": 707,
     "metadata": {},
     "output_type": "execute_result"
    }
   ],
   "source": [
    "function assess_alignment(a, b)\n",
    "    pairwise_alignment = BioAlignments.pairalign(BioAlignments.LevenshteinDistance(), a, b)\n",
    "    alignment_result = BioAlignments.alignment(pairwise_alignment)\n",
    "    total_aligned_bases = BioAlignments.count_aligned(alignment_result)\n",
    "    total_matches = BioAlignments.count_matches(alignment_result)\n",
    "    total_edits = total_aligned_bases - total_matches\n",
    "    return (;total_matches, total_edits)\n",
    "end"
   ]
  },
  {
   "cell_type": "markdown",
   "metadata": {},
   "source": [
    "# initialization"
   ]
  },
  {
   "cell_type": "code",
   "execution_count": 708,
   "metadata": {},
   "outputs": [
    {
     "data": {
      "text/plain": [
       "(index = 4, observed_canonically = false)"
      ]
     },
     "execution_count": 708,
     "metadata": {},
     "output_type": "execute_result"
    }
   ],
   "source": [
    "observed_kmer = observed_path[1]"
   ]
  },
  {
   "cell_type": "code",
   "execution_count": 709,
   "metadata": {},
   "outputs": [
    {
     "data": {
      "text/plain": [
       "15-element view(::Array{Float64,2}, :, 1) with eltype Float64:\n",
       " 0.012195121951219513\n",
       " 0.10975609756097561\n",
       " 0.012195121951219513\n",
       " 0.13414634146341464\n",
       " 0.024390243902439025\n",
       " 0.012195121951219513\n",
       " 0.0975609756097561\n",
       " 0.0975609756097561\n",
       " 0.10975609756097561\n",
       " 0.10975609756097561\n",
       " 0.024390243902439025\n",
       " 0.012195121951219513\n",
       " 0.10975609756097561\n",
       " 0.10975609756097561\n",
       " 0.024390243902439025"
      ]
     },
     "execution_count": 709,
     "metadata": {},
     "output_type": "execute_result"
    }
   ],
   "source": [
    "kmer_likelihoods[:, 1] .= counts ./ sum(counts)"
   ]
  },
  {
   "cell_type": "code",
   "execution_count": 710,
   "metadata": {},
   "outputs": [],
   "source": [
    "for (kmer_index, kmer) in enumerate(kmers)\n",
    "    alignment_result = assess_alignment(kmers[observed_kmer.index], kmer)\n",
    "    for match in 1:alignment_result.total_matches\n",
    "        kmer_likelihoods[kmer_index, 1] *= accuracy\n",
    "    end\n",
    "    for edit in 1:alignment_result.total_edits\n",
    "        kmer_likelihoods[kmer_index, 1] *= error_rate\n",
    "    end\n",
    "    arrival_paths[kmer_index, 1] = [observed_kmer]\n",
    "    edit_distances[kmer_index, 1] = alignment_result.total_edits\n",
    "end"
   ]
  },
  {
   "cell_type": "code",
   "execution_count": 711,
   "metadata": {},
   "outputs": [
    {
     "data": {
      "text/plain": [
       "15×8 Array{Float64,2}:\n",
       " 0.00474711   -Inf  -Inf  -Inf  -Inf  -Inf  -Inf  -Inf\n",
       " 0.042724     -Inf  -Inf  -Inf  -Inf  -Inf  -Inf  -Inf\n",
       " 0.00474711   -Inf  -Inf  -Inf  -Inf  -Inf  -Inf  -Inf\n",
       " 0.939929     -Inf  -Inf  -Inf  -Inf  -Inf  -Inf  -Inf\n",
       " 0.000527457  -Inf  -Inf  -Inf  -Inf  -Inf  -Inf  -Inf\n",
       " 1.46516e-5   -Inf  -Inf  -Inf  -Inf  -Inf  -Inf  -Inf\n",
       " 0.00210983   -Inf  -Inf  -Inf  -Inf  -Inf  -Inf  -Inf\n",
       " 0.000117213  -Inf  -Inf  -Inf  -Inf  -Inf  -Inf  -Inf\n",
       " 0.000131864  -Inf  -Inf  -Inf  -Inf  -Inf  -Inf  -Inf\n",
       " 0.00237356   -Inf  -Inf  -Inf  -Inf  -Inf  -Inf  -Inf\n",
       " 2.93032e-5   -Inf  -Inf  -Inf  -Inf  -Inf  -Inf  -Inf\n",
       " 1.46516e-5   -Inf  -Inf  -Inf  -Inf  -Inf  -Inf  -Inf\n",
       " 0.000131864  -Inf  -Inf  -Inf  -Inf  -Inf  -Inf  -Inf\n",
       " 0.00237356   -Inf  -Inf  -Inf  -Inf  -Inf  -Inf  -Inf\n",
       " 2.93032e-5   -Inf  -Inf  -Inf  -Inf  -Inf  -Inf  -Inf"
      ]
     },
     "execution_count": 711,
     "metadata": {},
     "output_type": "execute_result"
    }
   ],
   "source": [
    "kmer_likelihoods ./= sum(kmer_likelihoods[:, 1])"
   ]
  },
  {
   "cell_type": "code",
   "execution_count": 712,
   "metadata": {},
   "outputs": [
    {
     "data": {
      "text/plain": [
       "15-element view(::Array{Float64,2}, :, 1) with eltype Float64:\n",
       "  -5.350218500854826\n",
       "  -3.1529939235186064\n",
       "  -5.350218500854826\n",
       "  -0.06195147016029066\n",
       "  -7.547443078191045\n",
       " -11.130962016647155\n",
       "  -6.161148717071154\n",
       "  -9.051520474967319\n",
       "  -8.933737439310935\n",
       "  -6.043365681414771\n",
       " -10.43781483608721\n",
       " -11.130962016647155\n",
       "  -8.933737439310935\n",
       "  -6.043365681414771\n",
       " -10.43781483608721"
      ]
     },
     "execution_count": 712,
     "metadata": {},
     "output_type": "execute_result"
    }
   ],
   "source": [
    "kmer_likelihoods[:, 1] .= log.(kmer_likelihoods[:, 1])"
   ]
  },
  {
   "cell_type": "code",
   "execution_count": 713,
   "metadata": {},
   "outputs": [
    {
     "data": {
      "text/plain": [
       "15×8 Array{Float64,2}:\n",
       "  -5.35022    -Inf  -Inf  -Inf  -Inf  -Inf  -Inf  -Inf\n",
       "  -3.15299    -Inf  -Inf  -Inf  -Inf  -Inf  -Inf  -Inf\n",
       "  -5.35022    -Inf  -Inf  -Inf  -Inf  -Inf  -Inf  -Inf\n",
       "  -0.0619515  -Inf  -Inf  -Inf  -Inf  -Inf  -Inf  -Inf\n",
       "  -7.54744    -Inf  -Inf  -Inf  -Inf  -Inf  -Inf  -Inf\n",
       " -11.131      -Inf  -Inf  -Inf  -Inf  -Inf  -Inf  -Inf\n",
       "  -6.16115    -Inf  -Inf  -Inf  -Inf  -Inf  -Inf  -Inf\n",
       "  -9.05152    -Inf  -Inf  -Inf  -Inf  -Inf  -Inf  -Inf\n",
       "  -8.93374    -Inf  -Inf  -Inf  -Inf  -Inf  -Inf  -Inf\n",
       "  -6.04337    -Inf  -Inf  -Inf  -Inf  -Inf  -Inf  -Inf\n",
       " -10.4378     -Inf  -Inf  -Inf  -Inf  -Inf  -Inf  -Inf\n",
       " -11.131      -Inf  -Inf  -Inf  -Inf  -Inf  -Inf  -Inf\n",
       "  -8.93374    -Inf  -Inf  -Inf  -Inf  -Inf  -Inf  -Inf\n",
       "  -6.04337    -Inf  -Inf  -Inf  -Inf  -Inf  -Inf  -Inf\n",
       " -10.4378     -Inf  -Inf  -Inf  -Inf  -Inf  -Inf  -Inf"
      ]
     },
     "metadata": {},
     "output_type": "display_data"
    },
    {
     "data": {
      "text/plain": [
       "15×8 Array{Array{NamedTuple{(:index, :observed_canonically),Tuple{Int64,Bool}},1},2}:\n",
       " [(index = 4, observed_canonically = 0)]  …  #undef  #undef  #undef  #undef\n",
       " [(index = 4, observed_canonically = 0)]     #undef  #undef  #undef  #undef\n",
       " [(index = 4, observed_canonically = 0)]     #undef  #undef  #undef  #undef\n",
       " [(index = 4, observed_canonically = 0)]     #undef  #undef  #undef  #undef\n",
       " [(index = 4, observed_canonically = 0)]     #undef  #undef  #undef  #undef\n",
       " [(index = 4, observed_canonically = 0)]  …  #undef  #undef  #undef  #undef\n",
       " [(index = 4, observed_canonically = 0)]     #undef  #undef  #undef  #undef\n",
       " [(index = 4, observed_canonically = 0)]     #undef  #undef  #undef  #undef\n",
       " [(index = 4, observed_canonically = 0)]     #undef  #undef  #undef  #undef\n",
       " [(index = 4, observed_canonically = 0)]     #undef  #undef  #undef  #undef\n",
       " [(index = 4, observed_canonically = 0)]  …  #undef  #undef  #undef  #undef\n",
       " [(index = 4, observed_canonically = 0)]     #undef  #undef  #undef  #undef\n",
       " [(index = 4, observed_canonically = 0)]     #undef  #undef  #undef  #undef\n",
       " [(index = 4, observed_canonically = 0)]     #undef  #undef  #undef  #undef\n",
       " [(index = 4, observed_canonically = 0)]     #undef  #undef  #undef  #undef"
      ]
     },
     "metadata": {},
     "output_type": "display_data"
    },
    {
     "data": {
      "text/plain": [
       "15×8 Array{Int64,2}:\n",
       " 1  0  0  0  0  0  0  0\n",
       " 1  0  0  0  0  0  0  0\n",
       " 1  0  0  0  0  0  0  0\n",
       " 0  0  0  0  0  0  0  0\n",
       " 2  0  0  0  0  0  0  0\n",
       " 3  0  0  0  0  0  0  0\n",
       " 2  0  0  0  0  0  0  0\n",
       " 3  0  0  0  0  0  0  0\n",
       " 3  0  0  0  0  0  0  0\n",
       " 2  0  0  0  0  0  0  0\n",
       " 3  0  0  0  0  0  0  0\n",
       " 3  0  0  0  0  0  0  0\n",
       " 3  0  0  0  0  0  0  0\n",
       " 2  0  0  0  0  0  0  0\n",
       " 3  0  0  0  0  0  0  0"
      ]
     },
     "metadata": {},
     "output_type": "display_data"
    }
   ],
   "source": [
    "display(kmer_likelihoods)\n",
    "display(arrival_paths)\n",
    "display(edit_distances)"
   ]
  },
  {
   "cell_type": "code",
   "execution_count": 714,
   "metadata": {},
   "outputs": [
    {
     "data": {
      "text/plain": [
       "assess_path_orientations (generic function with 2 methods)"
      ]
     },
     "execution_count": 714,
     "metadata": {},
     "output_type": "execute_result"
    }
   ],
   "source": [
    "function assess_path_orientations(path, kmers, initial_orientation)\n",
    "    orientations = trues(length(path))\n",
    "    for (i, (a, b)) in enumerate(zip(path[1:end-1], path[2:end]))\n",
    "        kmer_a = kmers[a]\n",
    "        kmer_b = kmers[b]\n",
    "        this_orientation = true\n",
    "        for (a_index, b_index) in zip(2:length(kmer_a), 1:length(kmer_b)-1)\n",
    "            this_orientation &= kmer_a[a_index] == kmer_b[b_index]\n",
    "        end\n",
    "        orientations[i+1] = this_orientation\n",
    "    end\n",
    "    if !initial_orientation\n",
    "        orientations = .!orientations\n",
    "    end\n",
    "    return orientations\n",
    "end"
   ]
  },
  {
   "cell_type": "code",
   "execution_count": 715,
   "metadata": {},
   "outputs": [
    {
     "data": {
      "text/plain": [
       "assess_transition_likelihood (generic function with 2 methods)"
      ]
     },
     "execution_count": 715,
     "metadata": {},
     "output_type": "execute_result"
    }
   ],
   "source": [
    "function assess_transition_likelihood(oriented_path, kmers, counts, outgoing_edge_probabilities, incoming_edge_probabilities)\n",
    "    likelihood = 1.0\n",
    "    intermediate_nodes = oriented_path[2:end-1]\n",
    "    for node in intermediate_nodes\n",
    "        likelihood *= counts[node.index] / sum(counts)\n",
    "    end\n",
    "    for (a, b) in zip(path[1:end-1], path[2:end])\n",
    "        if a.observed_canonically\n",
    "            likelihood *= outgoing_edge_probabilities[a.index, b.index]\n",
    "        else\n",
    "            likelihood *= incoming_edge_probabilities[a.index, b.index]\n",
    "        end\n",
    "    end\n",
    "    return likelihood\n",
    "end"
   ]
  },
  {
   "cell_type": "code",
   "execution_count": 716,
   "metadata": {},
   "outputs": [
    {
     "data": {
      "text/plain": [
       "orient_path (generic function with 1 method)"
      ]
     },
     "execution_count": 716,
     "metadata": {},
     "output_type": "execute_result"
    }
   ],
   "source": [
    "function orient_path(path, orientations)\n",
    "    oriented_path = [(index = i, observed_canonically = o) for (i, o) in zip(path, orientations)] \n",
    "    return oriented_path\n",
    "end"
   ]
  },
  {
   "cell_type": "code",
   "execution_count": 717,
   "metadata": {},
   "outputs": [
    {
     "data": {
      "text/plain": [
       "find_optimal_path (generic function with 1 method)"
      ]
     },
     "execution_count": 717,
     "metadata": {},
     "output_type": "execute_result"
    }
   ],
   "source": [
    "function find_optimal_path(observed_kmer,\n",
    "    previous_kmer_index, \n",
    "    current_kmer_index, \n",
    "    graph, \n",
    "    shortest_paths, \n",
    "    kmers, \n",
    "    counts, \n",
    "    outgoing_edge_probabilities, \n",
    "    incoming_edge_probabilities)\n",
    "\n",
    "    # we've already paid the cost of all previous errors, so only evaluate new base\n",
    "    is_match = kmers[observed_kmer.index][end] == hidden_kmer[end]\n",
    "    if is_match\n",
    "        emission_likelihood = accuracy\n",
    "    else\n",
    "        emission_likelihood = error_rate\n",
    "    end\n",
    "\n",
    "    state_likelihood = counts[observed_kmer.index] / total_kmer_count\n",
    "\n",
    "    transition_likelihood = 0.0\n",
    "    oriented_path = Vector{ORIENTED_KMER}()\n",
    "\n",
    "    if current_kmer_index == previous_kmer_index\n",
    "        # default expectation is that it's a deletion\n",
    "        transition_likelihood = error_rate\n",
    "\n",
    "        # could be true connection, switch to this if it's more likely\n",
    "        if LightGraphs.has_edge(graph, LightGraphs.Edge(previous_kmer_index, current_kmer_index))\n",
    "            this_path = [previous_kmer_index, current_kmer_index]\n",
    "            this_oriented_path = orient_path(this_path, assess_path_orientations(this_path, kmers, observed_kmer.observed_canonically))            \n",
    "            this_likelihood = assess_transition_likelihood(this_oriented_path, kmers, counts, outgoing_edge_probabilities, incoming_edge_probabilities)\n",
    "            if this_likelihood > transition_likelihood\n",
    "                transition_likelihood = this_likelihood\n",
    "                oriented_path = this_oriented_path\n",
    "            end\n",
    "        end\n",
    "\n",
    "        # could also be an insertion\n",
    "        # see if this has any neighbors that circle back, and evaluate the likelihood for each\n",
    "        if observed_kmer.observed_canonically\n",
    "            outneighbors = first(SparseArrays.findnz(outgoing_edge_probabilities[current_kmer_index, :]))\n",
    "        else\n",
    "            outneighbors = first(SparseArrays.findnz(incoming_edge_probabilities[current_kmer_index, :]))\n",
    "        end\n",
    "#         @show outneighbors\n",
    "        for outneighbor in outneighbors\n",
    "            if LightGraphs.has_path(graph, outneighbor, current_kmer_index)\n",
    "                # manually build path\n",
    "                this_path = [previous_kmer_index, shortest_paths[previous_kmer_index][current_kmer_index]...]\n",
    "                this_oriented_path = orient_path(this_path, assess_path_orientations(this_path, kmers, observed_kmer.observed_canonically))            \n",
    "                this_likelihood = assess_transition_likelihood(this_oriented_path, kmers, counts, outgoing_edge_probabilities, incoming_edge_probabilities)\n",
    "                if this_likelihood > transition_likelihood\n",
    "                    transition_likelihood = this_likelihood\n",
    "                    oriented_path = this_oriented_path\n",
    "                end\n",
    "            end\n",
    "        end\n",
    "    elseif LightGraphs.has_path(graph, previous_kmer_index, current_kmer_index)\n",
    "        this_path = shortest_paths[previous_kmer_index][current_kmer_index]\n",
    "        this_oriented_path = orient_path(this_path, assess_path_orientations(this_path, kmers, observed_kmer.observed_canonically))            \n",
    "        this_likelihood = assess_transition_likelihood(this_oriented_path, kmers, counts, outgoing_edge_probabilities, incoming_edge_probabilities)\n",
    "        if this_likelihood > transition_likelihood\n",
    "            transition_likelihood = this_likelihood\n",
    "            oriented_path = this_oriented_path\n",
    "        end\n",
    "    end\n",
    "    \n",
    "    \n",
    "    path_likelihood = transition_likelihood * state_likelihood * emission_likelihood\n",
    "    edit_distance = Int(!is_match) + abs(length(oriented_path) - 2)\n",
    "    \n",
    "    return (oriented_path = oriented_path, path_likelihood = path_likelihood, edit_distance = edit_distance)\n",
    "end"
   ]
  },
  {
   "cell_type": "code",
   "execution_count": 718,
   "metadata": {},
   "outputs": [],
   "source": [
    "for current_observation_index in 2:length(observed_path)\n",
    "    observed_kmer = observed_path[current_observation_index]\n",
    "    for (current_kmer_index, current_kmer) in enumerate(kmers)\n",
    "        for (previous_kmer_index, previous_kmer) in enumerate(kmers)\n",
    "            optimal_path_result =\n",
    "                find_optimal_path(observed_kmer,\n",
    "                    previous_kmer_index, \n",
    "                    current_kmer_index, \n",
    "                    graph, \n",
    "                    shortest_paths, \n",
    "                    kmers, \n",
    "                    counts, \n",
    "                    outgoing_edge_probabilities, \n",
    "                    incoming_edge_probabilities)\n",
    "            final_likelihood = kmer_likelihoods[previous_kmer_index, current_observation_index - 1] + log(optimal_path_result.path_likelihood)\n",
    "            if final_likelihood > kmer_likelihoods[current_kmer_index, current_observation_index]\n",
    "                kmer_likelihoods[current_kmer_index, current_observation_index] = final_likelihood\n",
    "                arrival_paths[current_kmer_index, current_observation_index] = optimal_path_result.oriented_path\n",
    "                edit_distances[current_kmer_index, current_observation_index] = edit_distances[previous_kmer_index, current_observation_index - 1] + optimal_path_result.edit_distance \n",
    "            end\n",
    "        end\n",
    "    end\n",
    "end"
   ]
  },
  {
   "cell_type": "code",
   "execution_count": 719,
   "metadata": {},
   "outputs": [
    {
     "data": {
      "text/plain": [
       "15×8 Array{Float64,2}:\n",
       "  -5.35022    -2.49459   -7.8176  -13.0228  …  -23.4333  -25.7481  -30.9534\n",
       "  -3.15299    -5.58563  -10.9086  -15.2323     -23.4333  -25.7481  -30.9534\n",
       "  -5.35022    -7.78286  -10.9086  -15.2323     -23.4333  -25.7481  -30.9534\n",
       "  -0.0619515  -2.49459   -7.8176  -13.0228     -23.4333  -25.7481  -30.9534\n",
       "  -7.54744    -6.91358  -10.0271  -13.0228     -23.4333  -25.7481  -30.9534\n",
       " -11.131      -6.90131   -7.8176  -13.0228  …  -23.4333  -25.7481  -30.9534\n",
       "  -6.16115    -2.49459   -7.8176  -13.0228     -23.4333  -25.7481  -30.9534\n",
       "  -9.05152    -4.82187   -7.8176  -13.0228     -23.4333  -25.7481  -30.9534\n",
       "  -8.93374    -2.49459   -7.8176  -13.0228     -23.4333  -25.7481  -30.9534\n",
       "  -6.04337    -5.58563  -10.9086  -16.1139     -23.4333  -25.7481  -30.9534\n",
       " -10.4378     -2.49459   -7.8176  -13.0228  …  -23.4333  -25.7481  -30.9534\n",
       " -11.131      -7.78286  -10.1449  -13.0228     -23.4333  -25.7481  -30.9534\n",
       "  -8.93374    -5.58563  -10.0271  -13.0228     -23.4333  -25.7481  -30.9534\n",
       "  -6.04337    -4.70408   -7.8176  -13.0228     -23.4333  -25.7481  -30.9534\n",
       " -10.4378     -4.82187   -7.8176  -13.0228     -23.4333  -25.7481  -30.9534"
      ]
     },
     "metadata": {},
     "output_type": "display_data"
    },
    {
     "data": {
      "text/plain": [
       "15×8 Array{Array{NamedTuple{(:index, :observed_canonically),Tuple{Int64,Bool}},1},2}:\n",
       " [(index = 4, observed_canonically = 0)]  …  [(index = 1, observed_canonically = 1)]\n",
       " [(index = 4, observed_canonically = 0)]     [(index = 2, observed_canonically = 1)]\n",
       " [(index = 4, observed_canonically = 0)]     [(index = 3, observed_canonically = 1)]\n",
       " [(index = 4, observed_canonically = 0)]     [(index = 1, observed_canonically = 1), (index = 4, observed_canonically = 1)]\n",
       " [(index = 4, observed_canonically = 0)]     [(index = 5, observed_canonically = 1), (index = 5, observed_canonically = 0)]\n",
       " [(index = 4, observed_canonically = 0)]  …  [(index = 1, observed_canonically = 1), (index = 6, observed_canonically = 0)]\n",
       " [(index = 4, observed_canonically = 0)]     [(index = 4, observed_canonically = 1), (index = 7, observed_canonically = 0)]\n",
       " [(index = 4, observed_canonically = 0)]     [(index = 6, observed_canonically = 1), (index = 8, observed_canonically = 0)]\n",
       " [(index = 4, observed_canonically = 0)]     [(index = 4, observed_canonically = 1), (index = 9, observed_canonically = 0)]\n",
       " [(index = 4, observed_canonically = 0)]     [(index = 2, observed_canonically = 1), (index = 10, observed_canonically = 1)]\n",
       " [(index = 4, observed_canonically = 0)]  …  [(index = 4, observed_canonically = 1), (index = 11, observed_canonically = 0)]\n",
       " [(index = 4, observed_canonically = 0)]     [(index = 3, observed_canonically = 1), (index = 12, observed_canonically = 0)]\n",
       " [(index = 4, observed_canonically = 0)]     [(index = 2, observed_canonically = 1), (index = 13, observed_canonically = 0)]\n",
       " [(index = 4, observed_canonically = 0)]     [(index = 5, observed_canonically = 1), (index = 14, observed_canonically = 0)]\n",
       " [(index = 4, observed_canonically = 0)]     [(index = 5, observed_canonically = 1), (index = 15, observed_canonically = 1)]"
      ]
     },
     "metadata": {},
     "output_type": "display_data"
    },
    {
     "data": {
      "text/plain": [
       "15×8 Array{Int64,2}:\n",
       " 1  0  2  4  6  8  9  11\n",
       " 1  2  4  3  3  5  6   8\n",
       " 1  2  2  3  3  5  6   8\n",
       " 0  1  1  3  5  7  8  10\n",
       " 2  2  2  2  3  4  4   5\n",
       " 3  1  1  3  5  7  8  10\n",
       " 2  0  2  2  4  6  7   9\n",
       " 3  1  1  2  4  6  7   9\n",
       " 3  0  2  2  4  6  7   9\n",
       " 2  1  3  5  4  4  5   7\n",
       " 3  0  2  2  4  6  7   9\n",
       " 3  1  2  2  4  4  5   7\n",
       " 3  1  2  2  4  4  5   7\n",
       " 2  1  1  3  3  4  4   5\n",
       " 3  1  1  3  3  4  4   5"
      ]
     },
     "metadata": {},
     "output_type": "display_data"
    }
   ],
   "source": [
    "display(kmer_likelihoods)\n",
    "display(arrival_paths)\n",
    "display(edit_distances)"
   ]
  },
  {
   "cell_type": "code",
   "execution_count": null,
   "metadata": {},
   "outputs": [],
   "source": []
  },
  {
   "cell_type": "code",
   "execution_count": null,
   "metadata": {},
   "outputs": [],
   "source": []
  }
 ],
 "metadata": {
  "kernelspec": {
   "display_name": "Julia 1.5.3",
   "language": "julia",
   "name": "julia-1.5"
  },
  "language_info": {
   "file_extension": ".jl",
   "mimetype": "application/julia",
   "name": "julia",
   "version": "1.5.3"
  }
 },
 "nbformat": 4,
 "nbformat_minor": 4
}
