{
 "cells": [
  {
   "cell_type": "markdown",
   "metadata": {},
   "source": [
    "---\n",
    "layout: post  \n",
    "---"
   ]
  },
  {
   "cell_type": "code",
   "execution_count": null,
   "metadata": {},
   "outputs": [],
   "source": [
    "# TODO: test all of the code warntypes!!"
   ]
  },
  {
   "cell_type": "code",
   "execution_count": 1,
   "metadata": {},
   "outputs": [
    {
     "name": "stderr",
     "output_type": "stream",
     "text": [
      "\u001b[32m\u001b[1m   Updating\u001b[22m\u001b[39m registry at `~/.julia/registries/General`\n"
     ]
    },
    {
     "name": "stdout",
     "output_type": "stream",
     "text": [
      "\u001b[?25l    "
     ]
    },
    {
     "name": "stderr",
     "output_type": "stream",
     "text": [
      "\u001b[32m\u001b[1m   Updating\u001b[22m\u001b[39m git-repo `https://github.com/JuliaRegistries/General.git`\n"
     ]
    },
    {
     "name": "stdout",
     "output_type": "stream",
     "text": [
      "\u001b[2K\u001b[?25h[1mFetching:\u001b[22m\u001b[39m [========================================>]  100.0 %"
     ]
    },
    {
     "name": "stderr",
     "output_type": "stream",
     "text": [
      "\u001b[32m\u001b[1m  Resolving\u001b[22m\u001b[39m package versions...\n",
      "\u001b[32m\u001b[1mNo Changes\u001b[22m\u001b[39m to `~/.julia/environments/v1.5/Project.toml`\n",
      "\u001b[32m\u001b[1mNo Changes\u001b[22m\u001b[39m to `~/.julia/environments/v1.5/Manifest.toml`\n"
     ]
    }
   ],
   "source": [
    "import Pkg\n",
    "pkgs = [\n",
    "    \"BioSequences\",\n",
    "    \"Random\",\n",
    "    \"BenchmarkTools\",\n",
    "    \"Primes\",\n",
    "    \"LightGraphs\",\n",
    "    \"StatsBase\",\n",
    "    \"DataStructures\",\n",
    "    \"GraphRecipes\",\n",
    "    \"Plots\",\n",
    "    \"BioSymbols\",\n",
    "    \"StatsPlots\",\n",
    "    \"BioAlignments\",\n",
    "    \"SparseArrays\",\n",
    "    \"PrettyTables\"\n",
    "]\n",
    "\n",
    "Pkg.add(pkgs)\n",
    "for pkg in pkgs\n",
    "    eval(Meta.parse(\"import $pkg\"))\n",
    "end"
   ]
  },
  {
   "cell_type": "code",
   "execution_count": 2,
   "metadata": {},
   "outputs": [
    {
     "data": {
      "text/plain": [
       "NamedTuple{(:index, :orientation),Tuple{Int64,Union{Missing, Bool}}}"
      ]
     },
     "execution_count": 2,
     "metadata": {},
     "output_type": "execute_result"
    }
   ],
   "source": [
    "ORIENTED_KMER = NamedTuple{(:index, :orientation),Tuple{Int,Union{Bool, Missing}}}"
   ]
  },
  {
   "cell_type": "code",
   "execution_count": 3,
   "metadata": {},
   "outputs": [
    {
     "data": {
      "text/plain": [
       "get_kmer_index (generic function with 1 method)"
      ]
     },
     "execution_count": 3,
     "metadata": {},
     "output_type": "execute_result"
    }
   ],
   "source": [
    "function get_kmer_index(kmers, kmer)\n",
    "#     @code_warntype get_kmer_index(kmers, kmer)\n",
    "    index_range = searchsorted(kmers, kmer)\n",
    "    if !isempty(index_range)\n",
    "        return first(index_range)\n",
    "    else\n",
    "        return nothing\n",
    "    end\n",
    "end"
   ]
  },
  {
   "cell_type": "code",
   "execution_count": 4,
   "metadata": {},
   "outputs": [
    {
     "data": {
      "text/plain": [
       "observe (generic function with 1 method)"
      ]
     },
     "execution_count": 4,
     "metadata": {},
     "output_type": "execute_result"
    }
   ],
   "source": [
    "function observe(sequence; error_rate = 0.0, alphabet = BioSymbols.ACGT)\n",
    "#     @code_warntype observe(sequence)\n",
    "    new_seq = Vector{eltype(sequence)}()\n",
    "    for character in sequence\n",
    "        if rand() > error_rate\n",
    "            # match\n",
    "            push!(new_seq, character)\n",
    "        else\n",
    "            error_type = rand(1:3)\n",
    "            if error_type == 1\n",
    "                # mismatch\n",
    "                push!(new_seq, rand(setdiff(alphabet, character)))\n",
    "            elseif error_type == 2\n",
    "                # insertion\n",
    "                push!(new_seq, rand(alphabet))\n",
    "                push!(new_seq, character)\n",
    "            else\n",
    "                # deletion\n",
    "                continue\n",
    "            end\n",
    "        end\n",
    "    end\n",
    "    return_seq = BioSequences.LongDNASeq(new_seq)\n",
    "    if rand(Bool)\n",
    "        return_seq = BioSequences.reverse_complement!(return_seq)\n",
    "    end\n",
    "    return return_seq\n",
    "end"
   ]
  },
  {
   "cell_type": "code",
   "execution_count": 5,
   "metadata": {},
   "outputs": [
    {
     "data": {
      "text/plain": [
       "ordered_edge (generic function with 1 method)"
      ]
     },
     "execution_count": 5,
     "metadata": {},
     "output_type": "execute_result"
    }
   ],
   "source": [
    "function ordered_edge(a, b)\n",
    "#     @code_warntype ordered_edge(a, b)\n",
    "    if a <= b\n",
    "        return LightGraphs.Edge(a, b)\n",
    "    else\n",
    "        return LightGraphs.Edge(b, a)\n",
    "    end\n",
    "end"
   ]
  },
  {
   "cell_type": "code",
   "execution_count": 6,
   "metadata": {},
   "outputs": [
    {
     "data": {
      "text/plain": [
       "initialize_graph (generic function with 1 method)"
      ]
     },
     "execution_count": 6,
     "metadata": {},
     "output_type": "execute_result"
    }
   ],
   "source": [
    "function initialize_graph(observations, kmers::Vector{KMER_TYPE}, k) where KMER_TYPE\n",
    "#     @code_warntype initialize_graph(observations, kmers, k)\n",
    "    # initalize graph\n",
    "    graph = LightGraphs.SimpleGraph(length(kmers))\n",
    "    \n",
    "    EDGE_TYPE = LightGraphs.SimpleGraphs.SimpleEdge{Int}\n",
    "\n",
    "    # an individual piece of evidence takes the form of\n",
    "    # (observation_index = observation #, edge_index = edge # starting from beginning of the observation)\n",
    "\n",
    "    EVIDENCE_TYPE = NamedTuple{(:observation_index, :edge_index),Tuple{Int64,Int64}}\n",
    "    \n",
    "    # evidence takes the form of Edge => [(evidence_1), (evidence_2), ..., (evidence_N)]    \n",
    "    edge_evidence = Dict{EDGE_TYPE, Vector{EVIDENCE_TYPE}}()\n",
    "    for (observation_index, observation) in enumerate(observations)\n",
    "        for edge_index in 1:length(observation)-k\n",
    "            a_to_b_connection = observation[edge_index:edge_index+k]\n",
    "            a = BioSequences.canonical(KMER_TYPE(a_to_b_connection[1:end-1]))\n",
    "            b = BioSequences.canonical(KMER_TYPE(a_to_b_connection[2:end]))\n",
    "            a_index = get_kmer_index(kmers, a)\n",
    "            b_index = get_kmer_index(kmers, b)\n",
    "            edge = ordered_edge(a_index, b_index)\n",
    "            LightGraphs.add_edge!(graph, edge)\n",
    "            evidence = (;observation_index, edge_index)\n",
    "            edge_evidence[edge] = push!(get(edge_evidence, edge, EVIDENCE_TYPE[]), evidence)\n",
    "        end\n",
    "    end\n",
    "    return (graph = graph, edge_evidence = edge_evidence)\n",
    "end"
   ]
  },
  {
   "cell_type": "code",
   "execution_count": 58,
   "metadata": {},
   "outputs": [
    {
     "data": {
      "text/plain": [
       "determine_edge_probabilities (generic function with 2 methods)"
      ]
     },
     "execution_count": 58,
     "metadata": {},
     "output_type": "execute_result"
    }
   ],
   "source": [
    "function determine_edge_probabilities(graph, kmers, edge_evidence)\n",
    "#     @code_warntype determine_edge_probabilities(graph, kmers, edge_evidence)\n",
    "    outgoing_edge_probabilities = determine_edge_probabilities(graph, kmers, edge_evidence, true)\n",
    "    incoming_edge_probabilities = determine_edge_probabilities(graph, kmers, edge_evidence, false)\n",
    "    return outgoing_edge_probabilities, incoming_edge_probabilities\n",
    "end\n",
    "\n",
    "function determine_edge_probabilities(graph, kmers, edge_evidence, strand)\n",
    "#     @code_warntype determine_edge_probabilities(graph, kmers, edge_evidence, strand)\n",
    "    outgoing_edge_probabilities = SparseArrays.spzeros(length(kmers), length(kmers))\n",
    "    \n",
    "    for (kmer_index, kmer) in enumerate(kmers)\n",
    "        if !strand\n",
    "            kmer = BioSequences.reverse_complement(kmer)\n",
    "        end\n",
    "        \n",
    "        downstream_neighbor_indices = Int[]\n",
    "        for neighbor in BioSequences.neighbors(kmer)\n",
    "            index = get_kmer_index(kmers, BioSequences.canonical(neighbor))\n",
    "            if !isnothing(index)\n",
    "                push!(downstream_neighbor_indices, index)\n",
    "            end\n",
    "        end\n",
    "        \n",
    "        # kmer must be in our dataset\n",
    "        filter!(neighbor_index -> neighbor_index != nothing, downstream_neighbor_indices)\n",
    "        # must have edge between kmers\n",
    "        filter!(neighbor_index -> LightGraphs.has_edge(graph, ordered_edge(kmer_index, neighbor_index)), downstream_neighbor_indices)\n",
    "        sort!(downstream_neighbor_indices)\n",
    "        \n",
    "        EDGE_EVIDENCE_TYPE = eltype(values(edge_evidence))\n",
    "        \n",
    "        downstream_edge_weights = Int[\n",
    "            length(get(edge_evidence, ordered_edge(kmer_index, neighbor_index), EDGE_EVIDENCE_TYPE())) for neighbor_index in downstream_neighbor_indices\n",
    "        ]\n",
    "        \n",
    "        non_zero_indices = downstream_edge_weights .> 0\n",
    "        downstream_neighbor_indices = downstream_neighbor_indices[non_zero_indices]\n",
    "        downstream_edge_weights = downstream_edge_weights[non_zero_indices]\n",
    "        \n",
    "        downstream_edge_likelihoods = downstream_edge_weights ./ sum(downstream_edge_weights)\n",
    "        for (neighbor_index, likelihood) in zip(downstream_neighbor_indices, downstream_edge_likelihoods)\n",
    "            outgoing_edge_probabilities[kmer_index, neighbor_index] = likelihood\n",
    "        end\n",
    "    end\n",
    "    return outgoing_edge_probabilities\n",
    "end"
   ]
  },
  {
   "cell_type": "code",
   "execution_count": 8,
   "metadata": {},
   "outputs": [
    {
     "data": {
      "text/plain": [
       "assess_alignment (generic function with 1 method)"
      ]
     },
     "execution_count": 8,
     "metadata": {},
     "output_type": "execute_result"
    }
   ],
   "source": [
    "function assess_alignment(a, b)\n",
    "#     @code_warntype assess_alignment(a, b)\n",
    "    pairwise_alignment = BioAlignments.pairalign(BioAlignments.LevenshteinDistance(), a, b)\n",
    "    alignment_result = BioAlignments.alignment(pairwise_alignment)\n",
    "    total_aligned_bases = BioAlignments.count_aligned(alignment_result)\n",
    "    total_matches = BioAlignments.count_matches(alignment_result)\n",
    "    total_edits = total_aligned_bases - total_matches\n",
    "    return (;total_matches, total_edits)\n",
    "end"
   ]
  },
  {
   "cell_type": "code",
   "execution_count": 9,
   "metadata": {},
   "outputs": [
    {
     "data": {
      "text/plain": [
       "assess_path_orientations (generic function with 1 method)"
      ]
     },
     "execution_count": 9,
     "metadata": {},
     "output_type": "execute_result"
    }
   ],
   "source": [
    "function assess_path_orientations(path, kmers, initial_orientation)\n",
    "#     @code_warntype assess_path_orientations(path, kmers, initial_orientation)\n",
    "    \n",
    "    ORIENTATION_TYPE = Union{Bool, Missing}\n",
    "    \n",
    "    orientations = Vector{ORIENTATION_TYPE}(missing, length(path))\n",
    "    orientations[1] = true\n",
    "    \n",
    "    # I THINK THIS IS WRONG\n",
    "    # I THINK THIS ORIENTATION SHOULD BE DEPENDANT ON PREVIOUS ORIENTATION!!\n",
    "    \n",
    "    for (i, (a, b)) in enumerate(zip(path[1:end-1], path[2:end]))\n",
    "        kmer_a = kmers[a]\n",
    "        kmer_b = kmers[b]\n",
    "        forward_match = all(kmer_a[a_index] == kmer_b[b_index] for (a_index, b_index) in zip(2:length(kmer_a), 1:length(kmer_b)-1))\n",
    "        reverse_match = all(kmer_a[a_index] == BioSequences.reverse_complement(kmer_b)[b_index] for (a_index, b_index) in zip(2:length(kmer_a), 1:length(kmer_b)-1))\n",
    "        if forward_match && reverse_match\n",
    "            # ambiguous orientation\n",
    "            this_orientation = missing\n",
    "        elseif forward_match && !reverse_match\n",
    "            this_orientation = true\n",
    "        elseif !forward_match && reverse_match\n",
    "            this_orientation = false\n",
    "        else\n",
    "            error(\"neither orientation matches $kmer_a, $kmer_b\")\n",
    "        end\n",
    "        orientations[i+1] = this_orientation\n",
    "    end\n",
    "    if !ismissing(initial_orientation) && !initial_orientation\n",
    "        for i in eachindex(orientations)\n",
    "            orientations[i] = !orientations[i]\n",
    "        end\n",
    "    end\n",
    "    return orientations\n",
    "end"
   ]
  },
  {
   "cell_type": "code",
   "execution_count": 10,
   "metadata": {},
   "outputs": [
    {
     "data": {
      "text/plain": [
       "assess_path_likelihood (generic function with 1 method)"
      ]
     },
     "execution_count": 10,
     "metadata": {},
     "output_type": "execute_result"
    }
   ],
   "source": [
    "function assess_path_likelihood(oriented_path, kmers, counts, outgoing_edge_probabilities, incoming_edge_probabilities)\n",
    "#     @code_warntype assess_path_likelihood(oriented_path, kmers, counts, outgoing_edge_probabilities, incoming_edge_probabilities)\n",
    "    # we take it as a given that we are at the current node, so initialize with p=1 and then update with other node likelihoods\n",
    "    likelihood = 1.0\n",
    "    total_kmer_count = sum(counts)\n",
    "    for node in oriented_path[2:end]\n",
    "        likelihood *= counts[node.index] / total_kmer_count\n",
    "    end\n",
    "    for (a, b) in zip(oriented_path[1:end-1], oriented_path[2:end])\n",
    "        if ismissing(a.orientation)\n",
    "            # ambiguous orientation\n",
    "            likelihood *= max(incoming_edge_probabilities[a.index, b.index], incoming_edge_probabilities[a.index, b.index])\n",
    "        elseif a.orientation\n",
    "            likelihood *= outgoing_edge_probabilities[a.index, b.index]\n",
    "        elseif !a.orientation\n",
    "            likelihood *= incoming_edge_probabilities[a.index, b.index]\n",
    "        else\n",
    "            error(\"unreachable condition\")\n",
    "        end\n",
    "    end\n",
    "    return likelihood\n",
    "end"
   ]
  },
  {
   "cell_type": "code",
   "execution_count": 11,
   "metadata": {},
   "outputs": [
    {
     "data": {
      "text/plain": [
       "orient_path (generic function with 1 method)"
      ]
     },
     "execution_count": 11,
     "metadata": {},
     "output_type": "execute_result"
    }
   ],
   "source": [
    "function orient_path(path, orientations)\n",
    "#     @code_warntype orient_path(path, orientations)\n",
    "    oriented_path = [(index = i, orientation = o) for (i, o) in zip(path, orientations)] \n",
    "    return oriented_path\n",
    "end"
   ]
  },
  {
   "cell_type": "code",
   "execution_count": 12,
   "metadata": {},
   "outputs": [
    {
     "data": {
      "text/plain": [
       "assess_emission (generic function with 1 method)"
      ]
     },
     "execution_count": 12,
     "metadata": {},
     "output_type": "execute_result"
    }
   ],
   "source": [
    "function assess_emission(current_orientation, current_kmer_index, observed_kmer, kmers)\n",
    "#     @code_warntype assess_emission(current_orientation, current_kmer_index, observed_kmer, kmers)\n",
    "    \n",
    "    current_kmer_sequence = kmers[current_kmer_index]\n",
    "    observed_kmer_sequence = kmers[observed_kmer.index]\n",
    "    if !observed_kmer.orientation\n",
    "        observed_kmer_sequence = BioSequences.reverse_complement(observed_kmer_sequence)\n",
    "    end\n",
    "    \n",
    "    forward_emission_match = current_kmer_sequence[end] == observed_kmer_sequence[end]\n",
    "    reverse_emission_match = BioSequences.reverse_complement(current_kmer_sequence)[end] == observed_kmer_sequence[end]\n",
    "    \n",
    "    if !ismissing(current_orientation) && current_orientation\n",
    "        emission_match = forward_emission_match\n",
    "        evaluated_orientation = current_orientation\n",
    "    elseif !ismissing(current_orientation) && !current_orientation\n",
    "        emission_match = reverse_emission_match\n",
    "        evaluated_orientation = current_orientation\n",
    "    elseif ismissing(current_orientation)\n",
    "        # ambiguous orientation\n",
    "        if forward_emission_match && !reverse_emission_match\n",
    "            emission_match = forward_emission_match\n",
    "            evaluated_orientation = true\n",
    "        elseif !forward_emission_match && reverse_emission_match\n",
    "            emission_match = reverse_emission_match\n",
    "            evaluated_orientation = false\n",
    "        elseif forward_emission_match && reverse_emission_match\n",
    "            @warn \"is this possible?\"\n",
    "            @show current_kmer_sequence, observed_kmer_sequence\n",
    "            emission_match = true\n",
    "            evaluated_orientation = missing\n",
    "        elseif !forward_emission_match && !reverse_emission_match\n",
    "            emission_match = false\n",
    "            evaluated_orientation = missing\n",
    "        end\n",
    "    else\n",
    "        error(\"unreachable condition\")\n",
    "    end\n",
    "    return (emission_match = emission_match, evaluated_orientation = evaluated_orientation)\n",
    "end"
   ]
  },
  {
   "cell_type": "code",
   "execution_count": 13,
   "metadata": {},
   "outputs": [
    {
     "data": {
      "text/plain": [
       "assess_path (generic function with 1 method)"
      ]
     },
     "execution_count": 13,
     "metadata": {},
     "output_type": "execute_result"
    }
   ],
   "source": [
    "function assess_path(path,\n",
    "    observed_kmer,\n",
    "    kmers,\n",
    "    counts,\n",
    "    initial_orientation,\n",
    "    outgoing_edge_probabilities,\n",
    "    incoming_edge_probabilities,\n",
    "    error_rate)\n",
    "\n",
    "#     @code_warntype assess_path(path,\n",
    "#     observed_kmer,\n",
    "#     kmers,\n",
    "#     counts,\n",
    "#     initial_orientation,\n",
    "#     outgoing_edge_probabilities,\n",
    "#     incoming_edge_probabilities,\n",
    "#     error_rate)\n",
    "    \n",
    "    orientations = assess_path_orientations(path, kmers, initial_orientation)\n",
    "    emission_match, evaluated_orientation = assess_emission(last(orientations), last(path), observed_kmer, kmers)\n",
    "    # assert an orientation if we found one\n",
    "    if ismissing(last(orientations)) && !ismissing(evaluated_orientation)\n",
    "        orientations[end] = evaluated_orientation\n",
    "    end\n",
    "    oriented_path = orient_path(path, orientations)\n",
    "    path_likelihood = assess_path_likelihood(oriented_path, kmers, counts, outgoing_edge_probabilities, incoming_edge_probabilities)\n",
    "    path_likelihood *= emission_match ? (1.0 - error_rate) : error_rate\n",
    "    edit_distance = !emission_match + abs(length(path) - 2)\n",
    "    \n",
    "    return (oriented_path = oriented_path, path_likelihood = path_likelihood, edit_distance = edit_distance)    \n",
    "end"
   ]
  },
  {
   "cell_type": "code",
   "execution_count": 14,
   "metadata": {},
   "outputs": [
    {
     "data": {
      "text/plain": [
       "find_outneighbors (generic function with 1 method)"
      ]
     },
     "execution_count": 14,
     "metadata": {},
     "output_type": "execute_result"
    }
   ],
   "source": [
    "function find_outneighbors(orientation, kmer_index, outgoing_edge_probabilities, incoming_edge_probabilities)\n",
    "#     @code_warntype find_outneighbors(orientation, kmer_index, outgoing_edge_probabilities, incoming_edge_probabilities)\n",
    "    if ismissing(orientation)\n",
    "        outneighbors = vcat(\n",
    "            first(SparseArrays.findnz(outgoing_edge_probabilities[kmer_index, :])),\n",
    "            first(SparseArrays.findnz(incoming_edge_probabilities[kmer_index, :]))\n",
    "        )\n",
    "    elseif orientation\n",
    "        outneighbors = first(SparseArrays.findnz(outgoing_edge_probabilities[kmer_index, :]))\n",
    "    else\n",
    "        outneighbors = first(SparseArrays.findnz(incoming_edge_probabilities[kmer_index, :]))\n",
    "    end\n",
    "    return outneighbors\n",
    "end"
   ]
  },
  {
   "cell_type": "code",
   "execution_count": 15,
   "metadata": {},
   "outputs": [
    {
     "data": {
      "text/plain": [
       "assess_insertion (generic function with 1 method)"
      ]
     },
     "execution_count": 15,
     "metadata": {},
     "output_type": "execute_result"
    }
   ],
   "source": [
    "function assess_insertion(previous_orientation, current_kmer_index, observed_kmer, kmers, counts, error_rate)\n",
    "#     @code_warntype assess_insertion(previous_orientation, current_kmer_index, observed_kmer, kmers, counts, error_rate)\n",
    "    \n",
    "    transition_likelihood = error_rate\n",
    "    state_likelihood = counts[current_kmer_index] / sum(counts)\n",
    "    emission_match, evaluated_orientation = assess_emission(previous_orientation, current_kmer_index, observed_kmer, kmers)\n",
    "    \n",
    "    oriented_path = ORIENTED_KMER[(index = current_kmer_index, orientation = evaluated_orientation)]\n",
    "    \n",
    "    emission_likelihood = emission_match ? (1.0 - error_rate) : error_rate\n",
    "    path_likelihood = state_likelihood * transition_likelihood * emission_likelihood\n",
    "    \n",
    "    transition_edit_distance = 1\n",
    "    edit_distance = !emission_match + transition_edit_distance\n",
    "    \n",
    "    return (oriented_path = oriented_path, path_likelihood = path_likelihood, edit_distance = edit_distance)\n",
    "end"
   ]
  },
  {
   "cell_type": "code",
   "execution_count": 16,
   "metadata": {},
   "outputs": [
    {
     "data": {
      "text/plain": [
       "find_optimal_path (generic function with 1 method)"
      ]
     },
     "execution_count": 16,
     "metadata": {},
     "output_type": "execute_result"
    }
   ],
   "source": [
    "function find_optimal_path(observed_kmer,\n",
    "    previous_kmer_index,\n",
    "    previous_orientation,\n",
    "    current_kmer_index,\n",
    "    graph, \n",
    "    shortest_paths, \n",
    "    kmers, \n",
    "    counts, \n",
    "    outgoing_edge_probabilities, \n",
    "    incoming_edge_probabilities,\n",
    "    error_rate)\n",
    "    \n",
    "#     @code_warntype find_optimal_path(observed_kmer,\n",
    "#     previous_kmer_index,\n",
    "#     previous_orientation,\n",
    "#     current_kmer_index,\n",
    "#     graph, \n",
    "#     shortest_paths, \n",
    "#     kmers, \n",
    "#     counts, \n",
    "#     outgoing_edge_probabilities, \n",
    "#     incoming_edge_probabilities,\n",
    "#     error_rate)\n",
    "\n",
    "    path_likelihood = 0.0\n",
    "    oriented_path = Vector{ORIENTED_KMER}()\n",
    "    edit_distance = 0\n",
    "\n",
    "    if current_kmer_index == previous_kmer_index\n",
    "        # could be a self loop, check this first\n",
    "        if LightGraphs.has_edge(graph, LightGraphs.Edge(previous_kmer_index, current_kmer_index))\n",
    "            this_path = [previous_kmer_index, current_kmer_index]\n",
    "            this_oriented_path, this_likelihood, this_edit_distance = \n",
    "                assess_path(this_path,\n",
    "                            observed_kmer,\n",
    "                            kmers,\n",
    "                            counts,\n",
    "                            previous_orientation,\n",
    "                            outgoing_edge_probabilities,\n",
    "                            incoming_edge_probabilities,\n",
    "                            error_rate)\n",
    "            if this_likelihood > path_likelihood\n",
    "                path_likelihood = this_likelihood\n",
    "                oriented_path = this_oriented_path\n",
    "                edit_distance = this_edit_distance\n",
    "            end\n",
    "        end\n",
    "        \n",
    "        # consider an insertion in observed sequence relative to the reference graph\n",
    "        this_oriented_path, this_likelihood, this_edit_distance = assess_insertion(previous_orientation, current_kmer_index, observed_kmer, kmers, counts, error_rate)\n",
    "        if this_likelihood > path_likelihood\n",
    "            path_likelihood = this_likelihood\n",
    "            oriented_path = this_oriented_path\n",
    "            edit_distance = this_edit_distance\n",
    "        end\n",
    "        \n",
    "        # consider a deletion in observed sequene relative to the reference graph\n",
    "        # see if this has any neighbors that circle back, and evaluate the likelihood for each\n",
    "        outneighbors = find_outneighbors(previous_orientation, previous_kmer_index, outgoing_edge_probabilities, incoming_edge_probabilities)\n",
    "        for outneighbor in outneighbors\n",
    "            if LightGraphs.has_path(graph, outneighbor, current_kmer_index)\n",
    "                # manually build path\n",
    "                this_path = [previous_kmer_index, shortest_paths[previous_kmer_index][current_kmer_index]...]\n",
    "                this_oriented_path, this_likelihood, this_edit_distance = \n",
    "                    assess_path(this_path,\n",
    "                                observed_kmer,\n",
    "                                kmers,\n",
    "                                counts,\n",
    "                                previous_orientation,\n",
    "                                outgoing_edge_probabilities,\n",
    "                                incoming_edge_probabilities,\n",
    "                                error_rate)\n",
    "                if this_likelihood > path_likelihood\n",
    "                    path_likelihood = this_likelihood\n",
    "                    oriented_path = this_oriented_path\n",
    "                    edit_distance = this_edit_distance\n",
    "                end\n",
    "            end\n",
    "        end\n",
    "    elseif LightGraphs.has_path(graph, previous_kmer_index, current_kmer_index)   \n",
    "        this_path = shortest_paths[previous_kmer_index][current_kmer_index]\n",
    "        this_oriented_path, this_likelihood, this_edit_distance = \n",
    "            assess_path(this_path,\n",
    "                        observed_kmer,\n",
    "                        kmers,\n",
    "                        counts,\n",
    "                        previous_orientation,\n",
    "                        outgoing_edge_probabilities,\n",
    "                        incoming_edge_probabilities,\n",
    "                        error_rate)\n",
    "        if this_likelihood > path_likelihood\n",
    "            path_likelihood = this_likelihood\n",
    "            oriented_path = this_oriented_path\n",
    "            edit_distance = this_edit_distance\n",
    "        end\n",
    "    end\n",
    "    \n",
    "    return (oriented_path = oriented_path, path_likelihood = path_likelihood, edit_distance = edit_distance)\n",
    "end"
   ]
  },
  {
   "cell_type": "code",
   "execution_count": 17,
   "metadata": {},
   "outputs": [
    {
     "data": {
      "text/plain": [
       "assess_alignment_accuracy (generic function with 1 method)"
      ]
     },
     "execution_count": 17,
     "metadata": {},
     "output_type": "execute_result"
    }
   ],
   "source": [
    "function assess_alignment_accuracy(alignment_result)\n",
    "#     @code_warntype assess_alignment_accuracy(alignment_result)\n",
    "    return alignment_result.total_matches / (alignment_result.total_matches + alignment_result.total_edits)\n",
    "end"
   ]
  },
  {
   "cell_type": "code",
   "execution_count": 18,
   "metadata": {},
   "outputs": [
    {
     "data": {
      "text/plain": [
       "assess_optimal_alignment (generic function with 1 method)"
      ]
     },
     "execution_count": 18,
     "metadata": {},
     "output_type": "execute_result"
    }
   ],
   "source": [
    "function assess_optimal_alignment(kmer, observed_kmer)\n",
    "#     @code_warntype assess_optimal_alignment(kmer, observed_kmer)\n",
    "\n",
    "    forward_alignment_result = assess_alignment(kmer, observed_kmer)\n",
    "    forward_alignment_accuracy = assess_alignment_accuracy(forward_alignment_result)\n",
    "\n",
    "    reverse_alignment_result = assess_alignment(kmer, BioSequences.reverse_complement(observed_kmer))\n",
    "    reverse_alignment_accuracy = assess_alignment_accuracy(reverse_alignment_result)\n",
    "\n",
    "    if forward_alignment_accuracy > reverse_alignment_accuracy\n",
    "        alignment_result = forward_alignment_result\n",
    "        orientation = true\n",
    "    elseif forward_alignment_accuracy < reverse_alignment_accuracy\n",
    "        alignment_result = reverse_alignment_result\n",
    "        orientation = false\n",
    "    elseif forward_alignment_accuracy == reverse_alignment_accuracy\n",
    "        alignment_result, orientation = rand(((forward_alignment_result, missing), (reverse_alignment_result, missing)))\n",
    "    end\n",
    "\n",
    "    return (alignment_result = alignment_result, orientation = orientation)\n",
    "    \n",
    "end"
   ]
  },
  {
   "cell_type": "code",
   "execution_count": 19,
   "metadata": {},
   "outputs": [
    {
     "data": {
      "text/plain": [
       "backtrack_optimal_path (generic function with 1 method)"
      ]
     },
     "execution_count": 19,
     "metadata": {},
     "output_type": "execute_result"
    }
   ],
   "source": [
    "function backtrack_optimal_path(kmer_likelihoods, arrival_paths, edit_distances)\n",
    "#     @code_warntype backtrack_optimal_path(kmer_likelihoods, arrival_paths, edit_distances)\n",
    "    \n",
    "    maximum_likelihood = maximum(kmer_likelihoods[:, end])\n",
    "\n",
    "    maximum_likelihood_path_index = rand(findall(kmer_likelihoods[:, end] .== maximum_likelihood))\n",
    "\n",
    "    maximum_likelihood_edit_distance = edit_distances[maximum_likelihood_path_index, end]\n",
    "\n",
    "    maximum_likelihood_path = arrival_paths[maximum_likelihood_path_index, end]\n",
    "\n",
    "\n",
    "    for observed_path_index in size(kmer_likelihoods, 2)-1:-1:1\n",
    "        maximum_likelihood_arrival_path = arrival_paths[maximum_likelihood_path_index, observed_path_index][1:end-1]\n",
    "        maximum_likelihood_path = vcat(maximum_likelihood_arrival_path, maximum_likelihood_path)\n",
    "        maximum_likelihood_path_index = first(maximum_likelihood_path).index\n",
    "    end\n",
    "    \n",
    "    unlogged_maximum_likelihood = MathConstants.e^BigFloat(maximum_likelihood)\n",
    "    unlogged_total_likelihood = sum(likelihood -> MathConstants.e^BigFloat(likelihood), kmer_likelihoods[:, end])\n",
    "    relative_likelihood = unlogged_maximum_likelihood / unlogged_total_likelihood\n",
    "    \n",
    "    return (\n",
    "        maximum_likelihood_path = maximum_likelihood_path,\n",
    "        maximum_likelihood_edit_distance = maximum_likelihood_edit_distance,\n",
    "        relative_likelihood = relative_likelihood)\n",
    "    \n",
    "end"
   ]
  },
  {
   "cell_type": "code",
   "execution_count": 20,
   "metadata": {},
   "outputs": [
    {
     "data": {
      "text/plain": [
       "initialize_viterbi (generic function with 1 method)"
      ]
     },
     "execution_count": 20,
     "metadata": {},
     "output_type": "execute_result"
    }
   ],
   "source": [
    "function initialize_viterbi(graph, observed_path, kmers, counts, error_rate)\n",
    "#     @code_warntype initialize_viterbi(graph, observed_path, kmers, counts, error_rate)\n",
    "    edit_distances = Array{Union{Int, Missing}}(missing, LightGraphs.nv(graph.graph), length(observed_path))\n",
    "    arrival_paths = Array{Union{Vector{ORIENTED_KMER}, Missing}}(missing, LightGraphs.nv(graph.graph), length(observed_path))\n",
    "    kmer_likelihoods = Array{Float64}(undef, LightGraphs.nv(graph.graph), length(observed_path)) .= -Inf\n",
    "    kmer_likelihoods[:, 1] .= counts ./ sum(counts)\n",
    "\n",
    "    observed_kmer_sequence = orient_oriented_kmer(kmers, first(observed_path))\n",
    "    for (kmer_index, kmer) in enumerate(kmers)\n",
    "        \n",
    "        alignment_result, orientation = assess_optimal_alignment(kmer, observed_kmer_sequence)\n",
    "\n",
    "        for match in 1:alignment_result.total_matches\n",
    "            kmer_likelihoods[kmer_index, 1] *= (1.0 - error_rate)\n",
    "        end\n",
    "        for edit in 1:alignment_result.total_edits\n",
    "            kmer_likelihoods[kmer_index, 1] *= error_rate\n",
    "        end\n",
    "        if kmer_likelihoods[kmer_index, 1] > 0.0\n",
    "            arrival_paths[kmer_index, 1] = [(index = kmer_index, orientation = orientation)]\n",
    "            edit_distances[kmer_index, 1] = alignment_result.total_edits\n",
    "        end\n",
    "    end\n",
    "    kmer_likelihoods[:, 1] ./= sum(kmer_likelihoods[:, 1])\n",
    "    kmer_likelihoods[:, 1] .= log.(kmer_likelihoods[:, 1])\n",
    "    \n",
    "    return (kmer_likelihoods = kmer_likelihoods, arrival_paths = arrival_paths, edit_distances = edit_distances)\n",
    "end"
   ]
  },
  {
   "cell_type": "code",
   "execution_count": 21,
   "metadata": {},
   "outputs": [
    {
     "data": {
      "text/plain": [
       "viterbi_maximum_likelihood_path (generic function with 1 method)"
      ]
     },
     "execution_count": 21,
     "metadata": {},
     "output_type": "execute_result"
    }
   ],
   "source": [
    "function viterbi_maximum_likelihood_path(graph, observation, kmers, counts, error_rate; debug = false)\n",
    "#     @code_warntype viterbi_maximum_likelihood_path(graph, observation, kmers, counts, error_rate)\n",
    "\n",
    "    observed_path = sequence_to_oriented_path(observation, kmers)\n",
    "    \n",
    "    outgoing_edge_probabilities, incoming_edge_probabilities = determine_edge_probabilities(graph.graph, kmers, graph.edge_evidence)\n",
    "    \n",
    "    shortest_paths = LightGraphs.enumerate_paths(LightGraphs.floyd_warshall_shortest_paths(graph.graph))\n",
    "    \n",
    "    kmer_likelihoods, arrival_paths, edit_distances = initialize_viterbi(graph, observed_path, kmers, counts, error_rate)\n",
    "    \n",
    "    for current_observation_index in 2:length(observed_path)\n",
    "        observed_kmer = observed_path[current_observation_index]\n",
    "        if debug\n",
    "            println(\"current_observation_index = $(current_observation_index)\")\n",
    "            println(\"observed_kmer = $(observed_kmer)\")\n",
    "        end\n",
    "        for (current_kmer_index, current_kmer) in enumerate(kmers)\n",
    "            if debug\n",
    "                println(\"\\t\\tcurrent_kmer_index = $(current_kmer_index)\")\n",
    "                println(\"\\t\\tcurrent_kmer = $(current_kmer)\")\n",
    "            end\n",
    "            for (previous_kmer_index, previous_kmer) in enumerate(kmers)\n",
    "                if debug\n",
    "                    println(\"\\tprevious_kmer_index = $(previous_kmer_index)\")\n",
    "                    println(\"\\tprevious_kmer = $(previous_kmer)\")\n",
    "                end\n",
    "\n",
    "                previous_likelihood = kmer_likelihoods[previous_kmer_index, current_observation_index - 1]\n",
    "                current_likelihood = kmer_likelihoods[current_kmer_index, current_observation_index]\n",
    "                previous_arrival_path = arrival_paths[previous_kmer_index, current_observation_index - 1]\n",
    "                if current_likelihood > previous_likelihood && !ismissing(previous_arrival_path)\n",
    "                    # we've determined that there is no way to get to this kmer being evaluated\n",
    "                    continue\n",
    "                else\n",
    "                    if ismissing(previous_arrival_path)\n",
    "                        previous_orientation = missing\n",
    "                    else\n",
    "                        previous_orientation = last(arrival_paths[previous_kmer_index, current_observation_index - 1]).orientation\n",
    "                    end\n",
    "                    optimal_path_result =\n",
    "                        find_optimal_path(observed_kmer,\n",
    "                            previous_kmer_index,\n",
    "                            previous_orientation,\n",
    "                            current_kmer_index,\n",
    "                            graph.graph, \n",
    "                            shortest_paths, \n",
    "                            kmers, \n",
    "                            counts,\n",
    "                            outgoing_edge_probabilities, \n",
    "                            incoming_edge_probabilities,\n",
    "                            error_rate)\n",
    "                    if debug\n",
    "                        for propertyname in propertynames(optimal_path_result)\n",
    "                            println(\"\\t\\t\\t$propertyname = $(getproperty(optimal_path_result, propertyname))\")\n",
    "                        end\n",
    "                    end\n",
    "                    this_likelihood = previous_likelihood + log(optimal_path_result.path_likelihood)\n",
    "\n",
    "                    if this_likelihood > current_likelihood\n",
    "                        kmer_likelihoods[current_kmer_index, current_observation_index] = this_likelihood\n",
    "                        arrival_paths[current_kmer_index, current_observation_index] = optimal_path_result.oriented_path\n",
    "                        previous_edit_distance = edit_distances[previous_kmer_index, current_observation_index - 1]\n",
    "                        edit_distances[current_kmer_index, current_observation_index] = previous_edit_distance + optimal_path_result.edit_distance \n",
    "                    end\n",
    "                end\n",
    "            end\n",
    "        end\n",
    "    end\n",
    "    if debug\n",
    "        my_show(arrival_paths, kmers, title = \"Arrival Paths\")\n",
    "        my_show(kmer_likelihoods, kmers, title=\"Kmer Likelihoods\")\n",
    "        my_show(edit_distances, kmers, title=\"Edit Distances\")\n",
    "    end\n",
    "    return backtrack_optimal_path(kmer_likelihoods, arrival_paths, edit_distances)\n",
    "end"
   ]
  },
  {
   "cell_type": "code",
   "execution_count": 22,
   "metadata": {},
   "outputs": [
    {
     "data": {
      "text/plain": [
       "count_kmers (generic function with 1 method)"
      ]
     },
     "execution_count": 22,
     "metadata": {},
     "output_type": "execute_result"
    }
   ],
   "source": [
    "function count_kmers(::Type{KMER_TYPE}, sequence::BioSequences.LongSequence) where KMER_TYPE\n",
    "#     @code_warntype count_kmers(KMER_TYPE, sequence)\n",
    "    canonical_kmer_counts = DataStructures.OrderedDict{KMER_TYPE, Int}()\n",
    "    canonical_kmer_iterator = (BioSequences.canonical(kmer.fw) for kmer in BioSequences.each(KMER_TYPE, sequence))\n",
    "    for canonical_kmer in canonical_kmer_iterator\n",
    "        canonical_kmer_counts[canonical_kmer] = get(canonical_kmer_counts, canonical_kmer, 0) + 1\n",
    "    end\n",
    "    return canonical_kmer_counts\n",
    "end\n"
   ]
  },
  {
   "cell_type": "code",
   "execution_count": 23,
   "metadata": {},
   "outputs": [
    {
     "data": {
      "text/plain": [
       "count_kmers (generic function with 2 methods)"
      ]
     },
     "execution_count": 23,
     "metadata": {},
     "output_type": "execute_result"
    }
   ],
   "source": [
    "function count_kmers(::Type{KMER_TYPE}, sequences) where KMER_TYPE\n",
    "#     @code_warntype count_kmers(KMER_TYPE, sequences)\n",
    "    joint_kmer_counts = DataStructures.OrderedDict{KMER_TYPE, Int}()\n",
    "    for sequence in sequences\n",
    "        sequence_kmer_counts = count_kmers(KMER_TYPE, sequence)\n",
    "        merge!(+, joint_kmer_counts, sequence_kmer_counts)\n",
    "    end\n",
    "    sort!(joint_kmer_counts)\n",
    "end"
   ]
  },
  {
   "cell_type": "code",
   "execution_count": 24,
   "metadata": {},
   "outputs": [
    {
     "data": {
      "text/plain": [
       "oriented_path_to_sequence (generic function with 1 method)"
      ]
     },
     "execution_count": 24,
     "metadata": {},
     "output_type": "execute_result"
    }
   ],
   "source": [
    "function oriented_path_to_sequence(oriented_path, kmers)\n",
    "#     @code_warntype oriented_path_to_sequence(oriented_path, kmers)\n",
    "    initial_kmer = first(oriented_path)\n",
    "    initial_kmer_sequence = orient_oriented_kmer(kmers, initial_kmer)\n",
    "    \n",
    "    sequence = BioSequences.LongDNASeq(initial_kmer_sequence)\n",
    "    for i in 2:length(oriented_path)\n",
    "        this_kmer = oriented_path[i]\n",
    "        this_kmer_sequence = kmers[this_kmer.index]\n",
    "        if !this_kmer.orientation\n",
    "            this_kmer_sequence = BioSequences.reverse_complement(this_kmer_sequence)\n",
    "        end\n",
    "        push!(sequence, this_kmer_sequence[end])\n",
    "    end\n",
    "    return sequence\n",
    "end"
   ]
  },
  {
   "cell_type": "code",
   "execution_count": 25,
   "metadata": {},
   "outputs": [
    {
     "data": {
      "text/plain": [
       "orient_oriented_kmer (generic function with 1 method)"
      ]
     },
     "execution_count": 25,
     "metadata": {},
     "output_type": "execute_result"
    }
   ],
   "source": [
    "function orient_oriented_kmer(kmers, kmer)\n",
    "#     @code_warntype orient_oriented_kmer(kmers, kmer)\n",
    "    oriented_kmer_sequence = kmers[kmer.index]\n",
    "    if !kmer.orientation\n",
    "        oriented_kmer_sequence = BioSequences.reverse_complement(oriented_kmer_sequence)\n",
    "    end\n",
    "    return oriented_kmer_sequence\n",
    "end"
   ]
  },
  {
   "cell_type": "code",
   "execution_count": 26,
   "metadata": {},
   "outputs": [
    {
     "data": {
      "text/plain": [
       "sequence_to_oriented_path (generic function with 1 method)"
      ]
     },
     "execution_count": 26,
     "metadata": {},
     "output_type": "execute_result"
    }
   ],
   "source": [
    "function sequence_to_oriented_path(sequence, kmers::Vector{BioSequences.Mer{ALPHABET, K}}) where {ALPHABET, K}\n",
    "#     @code_warntype sequence_to_oriented_path(sequence, kmers)\n",
    "    observed_path = Vector{ORIENTED_KMER}(undef, length(sequence)-K+1)\n",
    "    for (i, kmer) in enumerate(BioSequences.each(BioSequences.Mer{ALPHABET, K}, observation))\n",
    "        canonical_kmer = BioSequences.canonical(kmer.fw)\n",
    "        index = get_kmer_index(kmers, canonical_kmer)\n",
    "        orientation = kmer.fw == canonical_kmer\n",
    "        observed_path[i] = (index = index, orientation = orientation)\n",
    "    end\n",
    "    return observed_path\n",
    "end"
   ]
  },
  {
   "cell_type": "code",
   "execution_count": 27,
   "metadata": {},
   "outputs": [
    {
     "data": {
      "text/plain": [
       "plot_kmer_frequency_spectra (generic function with 1 method)"
      ]
     },
     "execution_count": 27,
     "metadata": {},
     "output_type": "execute_result"
    }
   ],
   "source": [
    "function plot_kmer_frequency_spectra(counts)\n",
    "    kmer_counts_hist = StatsBase.countmap(c for c in counts)\n",
    "    xs = collect(keys(kmer_counts_hist))\n",
    "    ys = collect(values(kmer_counts_hist))\n",
    "\n",
    "    StatsPlots.plot(\n",
    "        xs,\n",
    "        ys,\n",
    "        xlims = (0, maximum(xs) + 1),\n",
    "        ylims = (0, maximum(ys) + 1),\n",
    "        seriestype = :scatter,\n",
    "        legend = false,\n",
    "        xlabel = \"observed frequency\",\n",
    "        ylabel = \"# of kmers\"\n",
    "    )\n",
    "end"
   ]
  },
  {
   "cell_type": "code",
   "execution_count": 28,
   "metadata": {},
   "outputs": [
    {
     "data": {
      "text/plain": [
       "my_show (generic function with 4 methods)"
      ]
     },
     "execution_count": 28,
     "metadata": {},
     "output_type": "execute_result"
    }
   ],
   "source": [
    "function my_show(x::Dict{LightGraphs.SimpleGraphs.SimpleEdge{Int64},Array{NamedTuple{(:observation_index, :edge_index),Tuple{Int64,Int64}},1}})\n",
    "    for (k, vs) in x\n",
    "        println(k)\n",
    "        for v in vs\n",
    "            println(\"\\t$v\")\n",
    "        end\n",
    "    end\n",
    "end\n",
    "\n",
    "function my_show(vector::AbstractVector{T}; kwargs...) where T <: ORIENTED_KMER\n",
    "    return PrettyTables.pretty_table(\n",
    "    vector,\n",
    "    tf = PrettyTables.tf_markdown;\n",
    "    kwargs...)\n",
    "end\n",
    "\n",
    "function my_show(array::AbstractMatrix, kmers; kwargs...)\n",
    "    return PrettyTables.pretty_table(\n",
    "    array,\n",
    "    [\"$i\" for i in 1:size(array, 2)],\n",
    "    row_names = kmers,\n",
    "    tf = PrettyTables.tf_markdown;\n",
    "    kwargs...)\n",
    "end\n",
    "\n",
    "function my_show(arrival_paths::AbstractMatrix{T}, kmers; kwargs...) where {T <: Union{Missing, Vector{ORIENTED_KMER}}}\n",
    "    string_arrival_paths = Array{Union{String, Missing}, 2}(missing, size(arrival_paths)...)\n",
    "    for index in eachindex(arrival_paths)\n",
    "        cell = arrival_paths[index]\n",
    "        if !ismissing(cell)\n",
    "            cell_strings = []\n",
    "            for node in cell\n",
    "                node_string = \"(\" * join([\"$(getfield(node, field))\" for field in propertynames(node)], \", \") * \")\"\n",
    "                push!(cell_strings, node_string)\n",
    "            end\n",
    "            cell_string = '[' * join(cell_strings, \", \") * ']'\n",
    "            string_arrival_paths[index] = cell_string\n",
    "        end\n",
    "    end\n",
    "    return my_show(string_arrival_paths, kmers; kwargs...)\n",
    "end"
   ]
  },
  {
   "cell_type": "code",
   "execution_count": 29,
   "metadata": {},
   "outputs": [
    {
     "data": {
      "text/plain": [
       "plot_graph (generic function with 1 method)"
      ]
     },
     "execution_count": 29,
     "metadata": {},
     "output_type": "execute_result"
    }
   ],
   "source": [
    "function plot_graph(graph, kmers, counts)\n",
    "    graph_hash = hash(sort(graph.graph.fadjlist), hash(graph.graph.ne))\n",
    "\n",
    "    p = GraphRecipes.graphplot(\n",
    "        graph.graph,\n",
    "        names = 1:length(kmers),\n",
    "        node_weights = counts,\n",
    "        markersize = 0.2,\n",
    "        hover=false,\n",
    "        fontsize=12)\n",
    "\n",
    "    filename = \"/assets/images/$(graph_hash).svg\"\n",
    "    Plots.savefig(p, dirname(pwd()) * filename)\n",
    "    display(p)\n",
    "    display(\"text/markdown\", \"![]($filename)\")\n",
    "end"
   ]
  },
  {
   "cell_type": "code",
   "execution_count": 30,
   "metadata": {},
   "outputs": [
    {
     "data": {
      "text/plain": [
       "BioSequences.Mer{BioSequences.DNAAlphabet{2},1}"
      ]
     },
     "execution_count": 30,
     "metadata": {},
     "output_type": "execute_result"
    }
   ],
   "source": [
    "k = 1\n",
    "KMER_TYPE = BioSequences.DNAMer{k}"
   ]
  },
  {
   "cell_type": "code",
   "execution_count": 31,
   "metadata": {},
   "outputs": [
    {
     "data": {
      "text/plain": [
       "1nt DNA Sequence:\n",
       "T"
      ]
     },
     "execution_count": 31,
     "metadata": {},
     "output_type": "execute_result"
    }
   ],
   "source": [
    "sequence = BioSequences.randdnaseq(Random.seed!(1), 1)"
   ]
  },
  {
   "cell_type": "code",
   "execution_count": 32,
   "metadata": {},
   "outputs": [
    {
     "data": {
      "text/plain": [
       "0.0"
      ]
     },
     "execution_count": 32,
     "metadata": {},
     "output_type": "execute_result"
    }
   ],
   "source": [
    "error_rate = 0.00"
   ]
  },
  {
   "cell_type": "code",
   "execution_count": 33,
   "metadata": {},
   "outputs": [
    {
     "data": {
      "text/plain": [
       "1-element Array{BioSequences.LongSequence{BioSequences.DNAAlphabet{4}},1}:\n",
       " T"
      ]
     },
     "execution_count": 33,
     "metadata": {},
     "output_type": "execute_result"
    }
   ],
   "source": [
    "observations = [sequence]"
   ]
  },
  {
   "cell_type": "code",
   "execution_count": 34,
   "metadata": {},
   "outputs": [
    {
     "data": {
      "text/plain": [
       "OrderedCollections.OrderedDict{BioSequences.Mer{BioSequences.DNAAlphabet{2},1},Int64} with 1 entry:\n",
       "  A => 1"
      ]
     },
     "execution_count": 34,
     "metadata": {},
     "output_type": "execute_result"
    }
   ],
   "source": [
    "kmer_counts = count_kmers(KMER_TYPE, observations)"
   ]
  },
  {
   "cell_type": "code",
   "execution_count": 35,
   "metadata": {},
   "outputs": [
    {
     "data": {
      "text/plain": [
       "1-element Array{Int64,1}:\n",
       " 1"
      ]
     },
     "execution_count": 35,
     "metadata": {},
     "output_type": "execute_result"
    }
   ],
   "source": [
    "kmers = collect(keys(kmer_counts))\n",
    "counts = collect(values(kmer_counts))"
   ]
  },
  {
   "cell_type": "code",
   "execution_count": 36,
   "metadata": {},
   "outputs": [
    {
     "data": {
      "image/svg+xml": [
       "<?xml version=\"1.0\" encoding=\"utf-8\"?>\n",
       "<svg xmlns=\"http://www.w3.org/2000/svg\" xmlns:xlink=\"http://www.w3.org/1999/xlink\" width=\"600\" height=\"400\" viewBox=\"0 0 2400 1600\">\n",
       "<defs>\n",
       "  <clipPath id=\"clip220\">\n",
       "    <rect x=\"0\" y=\"0\" width=\"2400\" height=\"1600\"/>\n",
       "  </clipPath>\n",
       "</defs>\n",
       "<path clip-path=\"url(#clip220)\" d=\"\n",
       "M0 1600 L2400 1600 L2400 0 L0 0  Z\n",
       "  \" fill=\"#ffffff\" fill-rule=\"evenodd\" fill-opacity=\"1\"/>\n",
       "<defs>\n",
       "  <clipPath id=\"clip221\">\n",
       "    <rect x=\"480\" y=\"0\" width=\"1681\" height=\"1600\"/>\n",
       "  </clipPath>\n",
       "</defs>\n",
       "<path clip-path=\"url(#clip220)\" d=\"\n",
       "M211.116 1423.18 L2352.76 1423.18 L2352.76 47.2441 L211.116 47.2441  Z\n",
       "  \" fill=\"#ffffff\" fill-rule=\"evenodd\" fill-opacity=\"1\"/>\n",
       "<defs>\n",
       "  <clipPath id=\"clip222\">\n",
       "    <rect x=\"211\" y=\"47\" width=\"2143\" height=\"1377\"/>\n",
       "  </clipPath>\n",
       "</defs>\n",
       "<polyline clip-path=\"url(#clip222)\" style=\"stroke:#000000; stroke-width:2; stroke-opacity:0.1; fill:none\" points=\"\n",
       "  211.116,1423.18 211.116,47.2441 \n",
       "  \"/>\n",
       "<polyline clip-path=\"url(#clip222)\" style=\"stroke:#000000; stroke-width:2; stroke-opacity:0.1; fill:none\" points=\"\n",
       "  746.526,1423.18 746.526,47.2441 \n",
       "  \"/>\n",
       "<polyline clip-path=\"url(#clip222)\" style=\"stroke:#000000; stroke-width:2; stroke-opacity:0.1; fill:none\" points=\"\n",
       "  1281.94,1423.18 1281.94,47.2441 \n",
       "  \"/>\n",
       "<polyline clip-path=\"url(#clip222)\" style=\"stroke:#000000; stroke-width:2; stroke-opacity:0.1; fill:none\" points=\"\n",
       "  1817.35,1423.18 1817.35,47.2441 \n",
       "  \"/>\n",
       "<polyline clip-path=\"url(#clip222)\" style=\"stroke:#000000; stroke-width:2; stroke-opacity:0.1; fill:none\" points=\"\n",
       "  2352.76,1423.18 2352.76,47.2441 \n",
       "  \"/>\n",
       "<polyline clip-path=\"url(#clip220)\" style=\"stroke:#000000; stroke-width:4; stroke-opacity:1; fill:none\" points=\"\n",
       "  211.116,1423.18 2352.76,1423.18 \n",
       "  \"/>\n",
       "<polyline clip-path=\"url(#clip220)\" style=\"stroke:#000000; stroke-width:4; stroke-opacity:1; fill:none\" points=\"\n",
       "  211.116,1423.18 211.116,1406.67 \n",
       "  \"/>\n",
       "<polyline clip-path=\"url(#clip220)\" style=\"stroke:#000000; stroke-width:4; stroke-opacity:1; fill:none\" points=\"\n",
       "  746.526,1423.18 746.526,1406.67 \n",
       "  \"/>\n",
       "<polyline clip-path=\"url(#clip220)\" style=\"stroke:#000000; stroke-width:4; stroke-opacity:1; fill:none\" points=\"\n",
       "  1281.94,1423.18 1281.94,1406.67 \n",
       "  \"/>\n",
       "<polyline clip-path=\"url(#clip220)\" style=\"stroke:#000000; stroke-width:4; stroke-opacity:1; fill:none\" points=\"\n",
       "  1817.35,1423.18 1817.35,1406.67 \n",
       "  \"/>\n",
       "<polyline clip-path=\"url(#clip220)\" style=\"stroke:#000000; stroke-width:4; stroke-opacity:1; fill:none\" points=\"\n",
       "  2352.76,1423.18 2352.76,1406.67 \n",
       "  \"/>\n",
       "<path clip-path=\"url(#clip220)\" d=\"M 0 0 M192.633 1452.37 Q189.022 1452.37 187.193 1455.94 Q185.387 1459.48 185.387 1466.61 Q185.387 1473.71 187.193 1477.28 Q189.022 1480.82 192.633 1480.82 Q196.267 1480.82 198.072 1477.28 Q199.901 1473.71 199.901 1466.61 Q199.901 1459.48 198.072 1455.94 Q196.267 1452.37 192.633 1452.37 M192.633 1448.67 Q198.443 1448.67 201.498 1453.27 Q204.577 1457.86 204.577 1466.61 Q204.577 1475.33 201.498 1479.94 Q198.443 1484.52 192.633 1484.52 Q186.822 1484.52 183.744 1479.94 Q180.688 1475.33 180.688 1466.61 Q180.688 1457.86 183.744 1453.27 Q186.822 1448.67 192.633 1448.67 Z\" fill=\"#000000\" fill-rule=\"evenodd\" fill-opacity=\"1\" /><path clip-path=\"url(#clip220)\" d=\"M 0 0 M209.646 1477.97 L214.531 1477.97 L214.531 1483.85 L209.646 1483.85 L209.646 1477.97 Z\" fill=\"#000000\" fill-rule=\"evenodd\" fill-opacity=\"1\" /><path clip-path=\"url(#clip220)\" d=\"M 0 0 M229.6 1452.37 Q225.989 1452.37 224.16 1455.94 Q222.355 1459.48 222.355 1466.61 Q222.355 1473.71 224.16 1477.28 Q225.989 1480.82 229.6 1480.82 Q233.234 1480.82 235.04 1477.28 Q236.868 1473.71 236.868 1466.61 Q236.868 1459.48 235.04 1455.94 Q233.234 1452.37 229.6 1452.37 M229.6 1448.67 Q235.41 1448.67 238.466 1453.27 Q241.544 1457.86 241.544 1466.61 Q241.544 1475.33 238.466 1479.94 Q235.41 1484.52 229.6 1484.52 Q223.79 1484.52 220.711 1479.94 Q217.656 1475.33 217.656 1466.61 Q217.656 1457.86 220.711 1453.27 Q223.79 1448.67 229.6 1448.67 Z\" fill=\"#000000\" fill-rule=\"evenodd\" fill-opacity=\"1\" /><path clip-path=\"url(#clip220)\" d=\"M 0 0 M728.54 1452.37 Q724.929 1452.37 723.1 1455.94 Q721.295 1459.48 721.295 1466.61 Q721.295 1473.71 723.1 1477.28 Q724.929 1480.82 728.54 1480.82 Q732.174 1480.82 733.98 1477.28 Q735.809 1473.71 735.809 1466.61 Q735.809 1459.48 733.98 1455.94 Q732.174 1452.37 728.54 1452.37 M728.54 1448.67 Q734.35 1448.67 737.406 1453.27 Q740.485 1457.86 740.485 1466.61 Q740.485 1475.33 737.406 1479.94 Q734.35 1484.52 728.54 1484.52 Q722.73 1484.52 719.651 1479.94 Q716.596 1475.33 716.596 1466.61 Q716.596 1457.86 719.651 1453.27 Q722.73 1448.67 728.54 1448.67 Z\" fill=\"#000000\" fill-rule=\"evenodd\" fill-opacity=\"1\" /><path clip-path=\"url(#clip220)\" d=\"M 0 0 M745.554 1477.97 L750.438 1477.97 L750.438 1483.85 L745.554 1483.85 L745.554 1477.97 Z\" fill=\"#000000\" fill-rule=\"evenodd\" fill-opacity=\"1\" /><path clip-path=\"url(#clip220)\" d=\"M 0 0 M755.554 1449.29 L773.91 1449.29 L773.91 1453.23 L759.836 1453.23 L759.836 1461.7 Q760.855 1461.35 761.873 1461.19 Q762.892 1461 763.91 1461 Q769.697 1461 773.077 1464.18 Q776.457 1467.35 776.457 1472.76 Q776.457 1478.34 772.984 1481.44 Q769.512 1484.52 763.193 1484.52 Q761.017 1484.52 758.748 1484.15 Q756.503 1483.78 754.096 1483.04 L754.096 1478.34 Q756.179 1479.48 758.401 1480.03 Q760.623 1480.59 763.1 1480.59 Q767.105 1480.59 769.443 1478.48 Q771.781 1476.38 771.781 1472.76 Q771.781 1469.15 769.443 1467.05 Q767.105 1464.94 763.1 1464.94 Q761.225 1464.94 759.35 1465.36 Q757.498 1465.77 755.554 1466.65 L755.554 1449.29 Z\" fill=\"#000000\" fill-rule=\"evenodd\" fill-opacity=\"1\" /><path clip-path=\"url(#clip220)\" d=\"M 0 0 M1253.83 1479.92 L1261.47 1479.92 L1261.47 1453.55 L1253.16 1455.22 L1253.16 1450.96 L1261.43 1449.29 L1266.1 1449.29 L1266.1 1479.92 L1273.74 1479.92 L1273.74 1483.85 L1253.83 1483.85 L1253.83 1479.92 Z\" fill=\"#000000\" fill-rule=\"evenodd\" fill-opacity=\"1\" /><path clip-path=\"url(#clip220)\" d=\"M 0 0 M1278.81 1477.97 L1283.7 1477.97 L1283.7 1483.85 L1278.81 1483.85 L1278.81 1477.97 Z\" fill=\"#000000\" fill-rule=\"evenodd\" fill-opacity=\"1\" /><path clip-path=\"url(#clip220)\" d=\"M 0 0 M1298.76 1452.37 Q1295.15 1452.37 1293.32 1455.94 Q1291.52 1459.48 1291.52 1466.61 Q1291.52 1473.71 1293.32 1477.28 Q1295.15 1480.82 1298.76 1480.82 Q1302.4 1480.82 1304.2 1477.28 Q1306.03 1473.71 1306.03 1466.61 Q1306.03 1459.48 1304.2 1455.94 Q1302.4 1452.37 1298.76 1452.37 M1298.76 1448.67 Q1304.57 1448.67 1307.63 1453.27 Q1310.71 1457.86 1310.71 1466.61 Q1310.71 1475.33 1307.63 1479.94 Q1304.57 1484.52 1298.76 1484.52 Q1292.95 1484.52 1289.88 1479.94 Q1286.82 1475.33 1286.82 1466.61 Q1286.82 1457.86 1289.88 1453.27 Q1292.95 1448.67 1298.76 1448.67 Z\" fill=\"#000000\" fill-rule=\"evenodd\" fill-opacity=\"1\" /><path clip-path=\"url(#clip220)\" d=\"M 0 0 M1789.74 1479.92 L1797.38 1479.92 L1797.38 1453.55 L1789.07 1455.22 L1789.07 1450.96 L1797.33 1449.29 L1802.01 1449.29 L1802.01 1479.92 L1809.65 1479.92 L1809.65 1483.85 L1789.74 1483.85 L1789.74 1479.92 Z\" fill=\"#000000\" fill-rule=\"evenodd\" fill-opacity=\"1\" /><path clip-path=\"url(#clip220)\" d=\"M 0 0 M1814.72 1477.97 L1819.6 1477.97 L1819.6 1483.85 L1814.72 1483.85 L1814.72 1477.97 Z\" fill=\"#000000\" fill-rule=\"evenodd\" fill-opacity=\"1\" /><path clip-path=\"url(#clip220)\" d=\"M 0 0 M1824.72 1449.29 L1843.08 1449.29 L1843.08 1453.23 L1829 1453.23 L1829 1461.7 Q1830.02 1461.35 1831.04 1461.19 Q1832.06 1461 1833.08 1461 Q1838.86 1461 1842.24 1464.18 Q1845.62 1467.35 1845.62 1472.76 Q1845.62 1478.34 1842.15 1481.44 Q1838.68 1484.52 1832.36 1484.52 Q1830.18 1484.52 1827.91 1484.15 Q1825.67 1483.78 1823.26 1483.04 L1823.26 1478.34 Q1825.34 1479.48 1827.57 1480.03 Q1829.79 1480.59 1832.26 1480.59 Q1836.27 1480.59 1838.61 1478.48 Q1840.95 1476.38 1840.95 1472.76 Q1840.95 1469.15 1838.61 1467.05 Q1836.27 1464.94 1832.26 1464.94 Q1830.39 1464.94 1828.51 1465.36 Q1826.66 1465.77 1824.72 1466.65 L1824.72 1449.29 Z\" fill=\"#000000\" fill-rule=\"evenodd\" fill-opacity=\"1\" /><path clip-path=\"url(#clip220)\" d=\"M 0 0 M2328.93 1479.92 L2345.24 1479.92 L2345.24 1483.85 L2323.3 1483.85 L2323.3 1479.92 Q2325.96 1477.16 2330.55 1472.53 Q2335.15 1467.88 2336.33 1466.54 Q2338.58 1464.01 2339.46 1462.28 Q2340.36 1460.52 2340.36 1458.83 Q2340.36 1456.07 2338.42 1454.34 Q2336.49 1452.6 2333.39 1452.6 Q2331.19 1452.6 2328.74 1453.37 Q2326.31 1454.13 2323.53 1455.68 L2323.53 1450.96 Q2326.36 1449.82 2328.81 1449.25 Q2331.26 1448.67 2333.3 1448.67 Q2338.67 1448.67 2341.86 1451.35 Q2345.06 1454.04 2345.06 1458.53 Q2345.06 1460.66 2344.25 1462.58 Q2343.46 1464.48 2341.36 1467.07 Q2340.78 1467.74 2337.67 1470.96 Q2334.57 1474.15 2328.93 1479.92 Z\" fill=\"#000000\" fill-rule=\"evenodd\" fill-opacity=\"1\" /><path clip-path=\"url(#clip220)\" d=\"M 0 0 M2350.31 1477.97 L2355.2 1477.97 L2355.2 1483.85 L2350.31 1483.85 L2350.31 1477.97 Z\" fill=\"#000000\" fill-rule=\"evenodd\" fill-opacity=\"1\" /><path clip-path=\"url(#clip220)\" d=\"M 0 0 M2370.27 1452.37 Q2366.66 1452.37 2364.83 1455.94 Q2363.02 1459.48 2363.02 1466.61 Q2363.02 1473.71 2364.83 1477.28 Q2366.66 1480.82 2370.27 1480.82 Q2373.9 1480.82 2375.71 1477.28 Q2377.54 1473.71 2377.54 1466.61 Q2377.54 1459.48 2375.71 1455.94 Q2373.9 1452.37 2370.27 1452.37 M2370.27 1448.67 Q2376.08 1448.67 2379.13 1453.27 Q2382.21 1457.86 2382.21 1466.61 Q2382.21 1475.33 2379.13 1479.94 Q2376.08 1484.52 2370.27 1484.52 Q2364.46 1484.52 2361.38 1479.94 Q2358.32 1475.33 2358.32 1466.61 Q2358.32 1457.86 2361.38 1453.27 Q2364.46 1448.67 2370.27 1448.67 Z\" fill=\"#000000\" fill-rule=\"evenodd\" fill-opacity=\"1\" /><path clip-path=\"url(#clip220)\" d=\"M 0 0 M1002.26 1524.5 Q997.548 1524.5 994.811 1528.19 Q992.074 1531.85 992.074 1538.25 Q992.074 1544.65 994.779 1548.34 Q997.516 1552 1002.26 1552 Q1006.94 1552 1009.67 1548.31 Q1012.41 1544.62 1012.41 1538.25 Q1012.41 1531.92 1009.67 1528.23 Q1006.94 1524.5 1002.26 1524.5 M1002.26 1519.54 Q1009.9 1519.54 1014.26 1524.5 Q1018.62 1529.47 1018.62 1538.25 Q1018.62 1547 1014.26 1552 Q1009.9 1556.97 1002.26 1556.97 Q994.588 1556.97 990.228 1552 Q985.899 1547 985.899 1538.25 Q985.899 1529.47 990.228 1524.5 Q994.588 1519.54 1002.26 1519.54 Z\" fill=\"#000000\" fill-rule=\"evenodd\" fill-opacity=\"1\" /><path clip-path=\"url(#clip220)\" d=\"M 0 0 M1050.35 1538.25 Q1050.35 1531.79 1047.68 1528.13 Q1045.04 1524.44 1040.39 1524.44 Q1035.74 1524.44 1033.07 1528.13 Q1030.43 1531.79 1030.43 1538.25 Q1030.43 1544.71 1033.07 1548.4 Q1035.74 1552.07 1040.39 1552.07 Q1045.04 1552.07 1047.68 1548.4 Q1050.35 1544.71 1050.35 1538.25 M1030.43 1525.81 Q1032.27 1522.62 1035.07 1521.1 Q1037.91 1519.54 1041.82 1519.54 Q1048.31 1519.54 1052.36 1524.69 Q1056.43 1529.85 1056.43 1538.25 Q1056.43 1546.65 1052.36 1551.81 Q1048.31 1556.97 1041.82 1556.97 Q1037.91 1556.97 1035.07 1555.44 Q1032.27 1553.88 1030.43 1550.7 L1030.43 1556.04 L1024.54 1556.04 L1024.54 1506.52 L1030.43 1506.52 L1030.43 1525.81 Z\" fill=\"#000000\" fill-rule=\"evenodd\" fill-opacity=\"1\" /><path clip-path=\"url(#clip220)\" d=\"M 0 0 M1085.3 1521.45 L1085.3 1526.98 Q1082.82 1525.71 1080.14 1525.07 Q1077.47 1524.44 1074.61 1524.44 Q1070.24 1524.44 1068.05 1525.77 Q1065.88 1527.11 1065.88 1529.79 Q1065.88 1531.82 1067.44 1533 Q1069 1534.15 1073.71 1535.2 L1075.72 1535.64 Q1081.96 1536.98 1084.57 1539.43 Q1087.21 1541.85 1087.21 1546.21 Q1087.21 1551.17 1083.26 1554.07 Q1079.35 1556.97 1072.47 1556.97 Q1069.61 1556.97 1066.49 1556.39 Q1063.4 1555.85 1059.96 1554.74 L1059.96 1548.69 Q1063.21 1550.38 1066.36 1551.24 Q1069.51 1552.07 1072.6 1552.07 Q1076.74 1552.07 1078.97 1550.66 Q1081.19 1549.23 1081.19 1546.65 Q1081.19 1544.27 1079.57 1542.99 Q1077.98 1541.72 1072.54 1540.54 L1070.5 1540.07 Q1065.06 1538.92 1062.64 1536.56 Q1060.22 1534.18 1060.22 1530.04 Q1060.22 1525.01 1063.78 1522.27 Q1067.35 1519.54 1073.9 1519.54 Q1077.15 1519.54 1080.02 1520.01 Q1082.88 1520.49 1085.3 1521.45 Z\" fill=\"#000000\" fill-rule=\"evenodd\" fill-opacity=\"1\" /><path clip-path=\"url(#clip220)\" d=\"M 0 0 M1123.84 1536.76 L1123.84 1539.62 L1096.92 1539.62 Q1097.3 1545.67 1100.55 1548.85 Q1103.82 1552 1109.65 1552 Q1113.02 1552 1116.17 1551.17 Q1119.36 1550.35 1122.48 1548.69 L1122.48 1554.23 Q1119.32 1555.57 1116.01 1556.27 Q1112.7 1556.97 1109.3 1556.97 Q1100.77 1556.97 1095.77 1552 Q1090.81 1547.04 1090.81 1538.57 Q1090.81 1529.82 1095.52 1524.69 Q1100.26 1519.54 1108.28 1519.54 Q1115.47 1519.54 1119.64 1524.18 Q1123.84 1528.8 1123.84 1536.76 M1117.99 1535.04 Q1117.92 1530.23 1115.28 1527.37 Q1112.67 1524.5 1108.34 1524.5 Q1103.44 1524.5 1100.48 1527.27 Q1097.55 1530.04 1097.11 1535.07 L1117.99 1535.04 Z\" fill=\"#000000\" fill-rule=\"evenodd\" fill-opacity=\"1\" /><path clip-path=\"url(#clip220)\" d=\"M 0 0 M1150.64 1525.87 Q1149.66 1525.3 1148.48 1525.04 Q1147.33 1524.76 1145.93 1524.76 Q1140.97 1524.76 1138.29 1528 Q1135.65 1531.22 1135.65 1537.27 L1135.65 1556.04 L1129.76 1556.04 L1129.76 1520.4 L1135.65 1520.4 L1135.65 1525.93 Q1137.5 1522.69 1140.46 1521.13 Q1143.42 1519.54 1147.65 1519.54 Q1148.26 1519.54 1148.99 1519.63 Q1149.72 1519.7 1150.61 1519.85 L1150.64 1525.87 Z\" fill=\"#000000\" fill-rule=\"evenodd\" fill-opacity=\"1\" /><path clip-path=\"url(#clip220)\" d=\"M 0 0 M1152.58 1520.4 L1158.79 1520.4 L1169.93 1550.31 L1181.07 1520.4 L1187.28 1520.4 L1173.91 1556.04 L1165.95 1556.04 L1152.58 1520.4 Z\" fill=\"#000000\" fill-rule=\"evenodd\" fill-opacity=\"1\" /><path clip-path=\"url(#clip220)\" d=\"M 0 0 M1223.91 1536.76 L1223.91 1539.62 L1196.99 1539.62 Q1197.37 1545.67 1200.61 1548.85 Q1203.89 1552 1209.72 1552 Q1213.09 1552 1216.24 1551.17 Q1219.42 1550.35 1222.54 1548.69 L1222.54 1554.23 Q1219.39 1555.57 1216.08 1556.27 Q1212.77 1556.97 1209.37 1556.97 Q1200.84 1556.97 1195.84 1552 Q1190.87 1547.04 1190.87 1538.57 Q1190.87 1529.82 1195.59 1524.69 Q1200.33 1519.54 1208.35 1519.54 Q1215.54 1519.54 1219.71 1524.18 Q1223.91 1528.8 1223.91 1536.76 M1218.06 1535.04 Q1217.99 1530.23 1215.35 1527.37 Q1212.74 1524.5 1208.41 1524.5 Q1203.51 1524.5 1200.55 1527.27 Q1197.62 1530.04 1197.18 1535.07 L1218.06 1535.04 Z\" fill=\"#000000\" fill-rule=\"evenodd\" fill-opacity=\"1\" /><path clip-path=\"url(#clip220)\" d=\"M 0 0 M1253.51 1525.81 L1253.51 1506.52 L1259.37 1506.52 L1259.37 1556.04 L1253.51 1556.04 L1253.51 1550.7 Q1251.67 1553.88 1248.83 1555.44 Q1246.03 1556.97 1242.09 1556.97 Q1235.63 1556.97 1231.55 1551.81 Q1227.51 1546.65 1227.51 1538.25 Q1227.51 1529.85 1231.55 1524.69 Q1235.63 1519.54 1242.09 1519.54 Q1246.03 1519.54 1248.83 1521.1 Q1251.67 1522.62 1253.51 1525.81 M1233.56 1538.25 Q1233.56 1544.71 1236.2 1548.4 Q1238.87 1552.07 1243.52 1552.07 Q1248.17 1552.07 1250.84 1548.4 Q1253.51 1544.71 1253.51 1538.25 Q1253.51 1531.79 1250.84 1528.13 Q1248.17 1524.44 1243.52 1524.44 Q1238.87 1524.44 1236.2 1528.13 Q1233.56 1531.79 1233.56 1538.25 Z\" fill=\"#000000\" fill-rule=\"evenodd\" fill-opacity=\"1\" /><path clip-path=\"url(#clip220)\" d=\"M 0 0 M1304.28 1506.52 L1304.28 1511.39 L1298.68 1511.39 Q1295.53 1511.39 1294.29 1512.66 Q1293.08 1513.93 1293.08 1517.24 L1293.08 1520.4 L1302.72 1520.4 L1302.72 1524.95 L1293.08 1524.95 L1293.08 1556.04 L1287.19 1556.04 L1287.19 1524.95 L1281.59 1524.95 L1281.59 1520.4 L1287.19 1520.4 L1287.19 1517.91 Q1287.19 1511.96 1289.96 1509.26 Q1292.73 1506.52 1298.74 1506.52 L1304.28 1506.52 Z\" fill=\"#000000\" fill-rule=\"evenodd\" fill-opacity=\"1\" /><path clip-path=\"url(#clip220)\" d=\"M 0 0 M1331.08 1525.87 Q1330.09 1525.3 1328.92 1525.04 Q1327.77 1524.76 1326.37 1524.76 Q1321.4 1524.76 1318.73 1528 Q1316.09 1531.22 1316.09 1537.27 L1316.09 1556.04 L1310.2 1556.04 L1310.2 1520.4 L1316.09 1520.4 L1316.09 1525.93 Q1317.93 1522.69 1320.89 1521.13 Q1323.85 1519.54 1328.09 1519.54 Q1328.69 1519.54 1329.42 1519.63 Q1330.16 1519.7 1331.05 1519.85 L1331.08 1525.87 Z\" fill=\"#000000\" fill-rule=\"evenodd\" fill-opacity=\"1\" /><path clip-path=\"url(#clip220)\" d=\"M 0 0 M1366.28 1536.76 L1366.28 1539.62 L1339.35 1539.62 Q1339.74 1545.67 1342.98 1548.85 Q1346.26 1552 1352.09 1552 Q1355.46 1552 1358.61 1551.17 Q1361.79 1550.35 1364.91 1548.69 L1364.91 1554.23 Q1361.76 1555.57 1358.45 1556.27 Q1355.14 1556.97 1351.74 1556.97 Q1343.21 1556.97 1338.21 1552 Q1333.24 1547.04 1333.24 1538.57 Q1333.24 1529.82 1337.95 1524.69 Q1342.7 1519.54 1350.72 1519.54 Q1357.91 1519.54 1362.08 1524.18 Q1366.28 1528.8 1366.28 1536.76 M1360.43 1535.04 Q1360.36 1530.23 1357.72 1527.37 Q1355.11 1524.5 1350.78 1524.5 Q1345.88 1524.5 1342.92 1527.27 Q1339.99 1530.04 1339.55 1535.07 L1360.43 1535.04 Z\" fill=\"#000000\" fill-rule=\"evenodd\" fill-opacity=\"1\" /><path clip-path=\"url(#clip220)\" d=\"M 0 0 M1375.93 1538.25 Q1375.93 1544.71 1378.57 1548.4 Q1381.24 1552.07 1385.89 1552.07 Q1390.54 1552.07 1393.21 1548.4 Q1395.88 1544.71 1395.88 1538.25 Q1395.88 1531.79 1393.21 1528.13 Q1390.54 1524.44 1385.89 1524.44 Q1381.24 1524.44 1378.57 1528.13 Q1375.93 1531.79 1375.93 1538.25 M1395.88 1550.7 Q1394.04 1553.88 1391.2 1555.44 Q1388.4 1556.97 1384.46 1556.97 Q1377.99 1556.97 1373.92 1551.81 Q1369.88 1546.65 1369.88 1538.25 Q1369.88 1529.85 1373.92 1524.69 Q1377.99 1519.54 1384.46 1519.54 Q1388.4 1519.54 1391.2 1521.1 Q1394.04 1522.62 1395.88 1525.81 L1395.88 1520.4 L1401.74 1520.4 L1401.74 1569.6 L1395.88 1569.6 L1395.88 1550.7 Z\" fill=\"#000000\" fill-rule=\"evenodd\" fill-opacity=\"1\" /><path clip-path=\"url(#clip220)\" d=\"M 0 0 M1407.28 1541.98 L1407.28 1520.4 L1413.13 1520.4 L1413.13 1541.75 Q1413.13 1546.81 1415.11 1549.36 Q1417.08 1551.87 1421.03 1551.87 Q1425.77 1551.87 1428.51 1548.85 Q1431.28 1545.83 1431.28 1540.61 L1431.28 1520.4 L1437.13 1520.4 L1437.13 1556.04 L1431.28 1556.04 L1431.28 1550.57 Q1429.14 1553.82 1426.31 1555.41 Q1423.51 1556.97 1419.79 1556.97 Q1413.64 1556.97 1410.46 1553.15 Q1407.28 1549.33 1407.28 1541.98 M1422.01 1519.54 L1422.01 1519.54 Z\" fill=\"#000000\" fill-rule=\"evenodd\" fill-opacity=\"1\" /><path clip-path=\"url(#clip220)\" d=\"M 0 0 M1473.77 1536.76 L1473.77 1539.62 L1446.84 1539.62 Q1447.22 1545.67 1450.47 1548.85 Q1453.75 1552 1459.57 1552 Q1462.94 1552 1466.1 1551.17 Q1469.28 1550.35 1472.4 1548.69 L1472.4 1554.23 Q1469.25 1555.57 1465.94 1556.27 Q1462.63 1556.97 1459.22 1556.97 Q1450.69 1556.97 1445.69 1552 Q1440.73 1547.04 1440.73 1538.57 Q1440.73 1529.82 1445.44 1524.69 Q1450.18 1519.54 1458.2 1519.54 Q1465.4 1519.54 1469.57 1524.18 Q1473.77 1528.8 1473.77 1536.76 M1467.91 1535.04 Q1467.85 1530.23 1465.2 1527.37 Q1462.59 1524.5 1458.27 1524.5 Q1453.36 1524.5 1450.4 1527.27 Q1447.48 1530.04 1447.03 1535.07 L1467.91 1535.04 Z\" fill=\"#000000\" fill-rule=\"evenodd\" fill-opacity=\"1\" /><path clip-path=\"url(#clip220)\" d=\"M 0 0 M1509.54 1534.53 L1509.54 1556.04 L1503.69 1556.04 L1503.69 1534.72 Q1503.69 1529.66 1501.71 1527.14 Q1499.74 1524.63 1495.79 1524.63 Q1491.05 1524.63 1488.31 1527.65 Q1485.58 1530.68 1485.58 1535.9 L1485.58 1556.04 L1479.69 1556.04 L1479.69 1520.4 L1485.58 1520.4 L1485.58 1525.93 Q1487.68 1522.72 1490.51 1521.13 Q1493.37 1519.54 1497.1 1519.54 Q1503.24 1519.54 1506.39 1523.36 Q1509.54 1527.14 1509.54 1534.53 Z\" fill=\"#000000\" fill-rule=\"evenodd\" fill-opacity=\"1\" /><path clip-path=\"url(#clip220)\" d=\"M 0 0 M1541.34 1521.76 L1541.34 1527.24 Q1538.86 1525.87 1536.34 1525.2 Q1533.86 1524.5 1531.31 1524.5 Q1525.62 1524.5 1522.46 1528.13 Q1519.31 1531.73 1519.31 1538.25 Q1519.31 1544.78 1522.46 1548.4 Q1525.62 1552 1531.31 1552 Q1533.86 1552 1536.34 1551.33 Q1538.86 1550.63 1541.34 1549.26 L1541.34 1554.68 Q1538.89 1555.82 1536.25 1556.39 Q1533.64 1556.97 1530.68 1556.97 Q1522.62 1556.97 1517.88 1551.91 Q1513.14 1546.85 1513.14 1538.25 Q1513.14 1529.53 1517.91 1524.53 Q1522.72 1519.54 1531.06 1519.54 Q1533.76 1519.54 1536.34 1520.11 Q1538.92 1520.65 1541.34 1521.76 Z\" fill=\"#000000\" fill-rule=\"evenodd\" fill-opacity=\"1\" /><path clip-path=\"url(#clip220)\" d=\"M 0 0 M1562.31 1559.35 Q1559.83 1565.72 1557.48 1567.66 Q1555.12 1569.6 1551.17 1569.6 L1546.49 1569.6 L1546.49 1564.7 L1549.93 1564.7 Q1552.35 1564.7 1553.69 1563.56 Q1555.02 1562.41 1556.65 1558.14 L1557.7 1555.47 L1543.28 1520.4 L1549.49 1520.4 L1560.63 1548.28 L1571.77 1520.4 L1577.97 1520.4 L1562.31 1559.35 Z\" fill=\"#000000\" fill-rule=\"evenodd\" fill-opacity=\"1\" /><polyline clip-path=\"url(#clip222)\" style=\"stroke:#000000; stroke-width:2; stroke-opacity:0.1; fill:none\" points=\"\n",
       "  211.116,1423.18 2352.76,1423.18 \n",
       "  \"/>\n",
       "<polyline clip-path=\"url(#clip222)\" style=\"stroke:#000000; stroke-width:2; stroke-opacity:0.1; fill:none\" points=\"\n",
       "  211.116,1079.2 2352.76,1079.2 \n",
       "  \"/>\n",
       "<polyline clip-path=\"url(#clip222)\" style=\"stroke:#000000; stroke-width:2; stroke-opacity:0.1; fill:none\" points=\"\n",
       "  211.116,735.212 2352.76,735.212 \n",
       "  \"/>\n",
       "<polyline clip-path=\"url(#clip222)\" style=\"stroke:#000000; stroke-width:2; stroke-opacity:0.1; fill:none\" points=\"\n",
       "  211.116,391.228 2352.76,391.228 \n",
       "  \"/>\n",
       "<polyline clip-path=\"url(#clip222)\" style=\"stroke:#000000; stroke-width:2; stroke-opacity:0.1; fill:none\" points=\"\n",
       "  211.116,47.2441 2352.76,47.2441 \n",
       "  \"/>\n",
       "<polyline clip-path=\"url(#clip220)\" style=\"stroke:#000000; stroke-width:4; stroke-opacity:1; fill:none\" points=\"\n",
       "  211.116,1423.18 211.116,47.2441 \n",
       "  \"/>\n",
       "<polyline clip-path=\"url(#clip220)\" style=\"stroke:#000000; stroke-width:4; stroke-opacity:1; fill:none\" points=\"\n",
       "  211.116,1423.18 236.816,1423.18 \n",
       "  \"/>\n",
       "<polyline clip-path=\"url(#clip220)\" style=\"stroke:#000000; stroke-width:4; stroke-opacity:1; fill:none\" points=\"\n",
       "  211.116,1079.2 236.816,1079.2 \n",
       "  \"/>\n",
       "<polyline clip-path=\"url(#clip220)\" style=\"stroke:#000000; stroke-width:4; stroke-opacity:1; fill:none\" points=\"\n",
       "  211.116,735.212 236.816,735.212 \n",
       "  \"/>\n",
       "<polyline clip-path=\"url(#clip220)\" style=\"stroke:#000000; stroke-width:4; stroke-opacity:1; fill:none\" points=\"\n",
       "  211.116,391.228 236.816,391.228 \n",
       "  \"/>\n",
       "<polyline clip-path=\"url(#clip220)\" style=\"stroke:#000000; stroke-width:4; stroke-opacity:1; fill:none\" points=\"\n",
       "  211.116,47.2441 236.816,47.2441 \n",
       "  \"/>\n",
       "<path clip-path=\"url(#clip220)\" d=\"M 0 0 M126.205 1408.98 Q122.593 1408.98 120.765 1412.54 Q118.959 1416.08 118.959 1423.21 Q118.959 1430.32 120.765 1433.89 Q122.593 1437.43 126.205 1437.43 Q129.839 1437.43 131.644 1433.89 Q133.473 1430.32 133.473 1423.21 Q133.473 1416.08 131.644 1412.54 Q129.839 1408.98 126.205 1408.98 M126.205 1405.27 Q132.015 1405.27 135.07 1409.88 Q138.149 1414.46 138.149 1423.21 Q138.149 1431.94 135.07 1436.55 Q132.015 1441.13 126.205 1441.13 Q120.394 1441.13 117.316 1436.55 Q114.26 1431.94 114.26 1423.21 Q114.26 1414.46 117.316 1409.88 Q120.394 1405.27 126.205 1405.27 Z\" fill=\"#000000\" fill-rule=\"evenodd\" fill-opacity=\"1\" /><path clip-path=\"url(#clip220)\" d=\"M 0 0 M143.218 1434.58 L148.103 1434.58 L148.103 1440.46 L143.218 1440.46 L143.218 1434.58 Z\" fill=\"#000000\" fill-rule=\"evenodd\" fill-opacity=\"1\" /><path clip-path=\"url(#clip220)\" d=\"M 0 0 M163.172 1408.98 Q159.561 1408.98 157.732 1412.54 Q155.927 1416.08 155.927 1423.21 Q155.927 1430.32 157.732 1433.89 Q159.561 1437.43 163.172 1437.43 Q166.806 1437.43 168.612 1433.89 Q170.44 1430.32 170.44 1423.21 Q170.44 1416.08 168.612 1412.54 Q166.806 1408.98 163.172 1408.98 M163.172 1405.27 Q168.982 1405.27 172.038 1409.88 Q175.116 1414.46 175.116 1423.21 Q175.116 1431.94 172.038 1436.55 Q168.982 1441.13 163.172 1441.13 Q157.362 1441.13 154.283 1436.55 Q151.228 1431.94 151.228 1423.21 Q151.228 1414.46 154.283 1409.88 Q157.362 1405.27 163.172 1405.27 Z\" fill=\"#000000\" fill-rule=\"evenodd\" fill-opacity=\"1\" /><path clip-path=\"url(#clip220)\" d=\"M 0 0 M127.2 1064.99 Q123.589 1064.99 121.76 1068.56 Q119.955 1072.1 119.955 1079.23 Q119.955 1086.34 121.76 1089.9 Q123.589 1093.44 127.2 1093.44 Q130.834 1093.44 132.64 1089.9 Q134.468 1086.34 134.468 1079.23 Q134.468 1072.1 132.64 1068.56 Q130.834 1064.99 127.2 1064.99 M127.2 1061.29 Q133.01 1061.29 136.066 1065.9 Q139.144 1070.48 139.144 1079.23 Q139.144 1087.96 136.066 1092.56 Q133.01 1097.15 127.2 1097.15 Q121.39 1097.15 118.311 1092.56 Q115.256 1087.96 115.256 1079.23 Q115.256 1070.48 118.311 1065.9 Q121.39 1061.29 127.2 1061.29 Z\" fill=\"#000000\" fill-rule=\"evenodd\" fill-opacity=\"1\" /><path clip-path=\"url(#clip220)\" d=\"M 0 0 M144.214 1090.6 L149.098 1090.6 L149.098 1096.48 L144.214 1096.48 L144.214 1090.6 Z\" fill=\"#000000\" fill-rule=\"evenodd\" fill-opacity=\"1\" /><path clip-path=\"url(#clip220)\" d=\"M 0 0 M154.214 1061.92 L172.57 1061.92 L172.57 1065.85 L158.496 1065.85 L158.496 1074.32 Q159.515 1073.98 160.533 1073.81 Q161.552 1073.63 162.57 1073.63 Q168.357 1073.63 171.737 1076.8 Q175.116 1079.97 175.116 1085.39 Q175.116 1090.97 171.644 1094.07 Q168.172 1097.15 161.852 1097.15 Q159.677 1097.15 157.408 1096.78 Q155.163 1096.41 152.755 1095.67 L152.755 1090.97 Q154.839 1092.1 157.061 1092.66 Q159.283 1093.21 161.76 1093.21 Q165.765 1093.21 168.102 1091.11 Q170.44 1089 170.44 1085.39 Q170.44 1081.78 168.102 1079.67 Q165.765 1077.56 161.76 1077.56 Q159.885 1077.56 158.01 1077.98 Q156.158 1078.4 154.214 1079.28 L154.214 1061.92 Z\" fill=\"#000000\" fill-rule=\"evenodd\" fill-opacity=\"1\" /><path clip-path=\"url(#clip220)\" d=\"M 0 0 M118.242 748.557 L125.88 748.557 L125.88 722.191 L117.57 723.858 L117.57 719.599 L125.834 717.932 L130.51 717.932 L130.51 748.557 L138.149 748.557 L138.149 752.492 L118.242 752.492 L118.242 748.557 Z\" fill=\"#000000\" fill-rule=\"evenodd\" fill-opacity=\"1\" /><path clip-path=\"url(#clip220)\" d=\"M 0 0 M143.218 746.612 L148.103 746.612 L148.103 752.492 L143.218 752.492 L143.218 746.612 Z\" fill=\"#000000\" fill-rule=\"evenodd\" fill-opacity=\"1\" /><path clip-path=\"url(#clip220)\" d=\"M 0 0 M163.172 721.011 Q159.561 721.011 157.732 724.575 Q155.927 728.117 155.927 735.247 Q155.927 742.353 157.732 745.918 Q159.561 749.46 163.172 749.46 Q166.806 749.46 168.612 745.918 Q170.44 742.353 170.44 735.247 Q170.44 728.117 168.612 724.575 Q166.806 721.011 163.172 721.011 M163.172 717.307 Q168.982 717.307 172.038 721.913 Q175.116 726.497 175.116 735.247 Q175.116 743.973 172.038 748.58 Q168.982 753.163 163.172 753.163 Q157.362 753.163 154.283 748.58 Q151.228 743.973 151.228 735.247 Q151.228 726.497 154.283 721.913 Q157.362 717.307 163.172 717.307 Z\" fill=\"#000000\" fill-rule=\"evenodd\" fill-opacity=\"1\" /><path clip-path=\"url(#clip220)\" d=\"M 0 0 M119.237 404.573 L126.876 404.573 L126.876 378.207 L118.566 379.874 L118.566 375.615 L126.83 373.948 L131.505 373.948 L131.505 404.573 L139.144 404.573 L139.144 408.508 L119.237 408.508 L119.237 404.573 Z\" fill=\"#000000\" fill-rule=\"evenodd\" fill-opacity=\"1\" /><path clip-path=\"url(#clip220)\" d=\"M 0 0 M144.214 402.628 L149.098 402.628 L149.098 408.508 L144.214 408.508 L144.214 402.628 Z\" fill=\"#000000\" fill-rule=\"evenodd\" fill-opacity=\"1\" /><path clip-path=\"url(#clip220)\" d=\"M 0 0 M154.214 373.948 L172.57 373.948 L172.57 377.883 L158.496 377.883 L158.496 386.355 Q159.515 386.008 160.533 385.846 Q161.552 385.661 162.57 385.661 Q168.357 385.661 171.737 388.832 Q175.116 392.003 175.116 397.42 Q175.116 402.999 171.644 406.101 Q168.172 409.179 161.852 409.179 Q159.677 409.179 157.408 408.809 Q155.163 408.439 152.755 407.698 L152.755 402.999 Q154.839 404.133 157.061 404.689 Q159.283 405.244 161.76 405.244 Q165.765 405.244 168.102 403.138 Q170.44 401.031 170.44 397.42 Q170.44 393.809 168.102 391.703 Q165.765 389.596 161.76 389.596 Q159.885 389.596 158.01 390.013 Q156.158 390.429 154.214 391.309 L154.214 373.948 Z\" fill=\"#000000\" fill-rule=\"evenodd\" fill-opacity=\"1\" /><path clip-path=\"url(#clip220)\" d=\"M 0 0 M121.83 60.5889 L138.149 60.5889 L138.149 64.5241 L116.205 64.5241 L116.205 60.5889 Q118.867 57.8343 123.45 53.2047 Q128.056 48.552 129.237 47.2094 Q131.482 44.6862 132.362 42.9501 Q133.265 41.1909 133.265 39.5011 Q133.265 36.7465 131.32 35.0104 Q129.399 33.2743 126.297 33.2743 Q124.098 33.2743 121.644 34.0381 Q119.214 34.802 116.436 36.3529 L116.436 31.6308 Q119.26 30.4965 121.714 29.9178 Q124.168 29.3391 126.205 29.3391 Q131.575 29.3391 134.769 32.0243 Q137.964 34.7094 137.964 39.2002 Q137.964 41.3298 137.154 43.2511 Q136.367 45.1492 134.26 47.7418 Q133.681 48.4131 130.58 51.6306 Q127.478 54.8251 121.83 60.5889 Z\" fill=\"#000000\" fill-rule=\"evenodd\" fill-opacity=\"1\" /><path clip-path=\"url(#clip220)\" d=\"M 0 0 M143.218 58.6445 L148.103 58.6445 L148.103 64.5241 L143.218 64.5241 L143.218 58.6445 Z\" fill=\"#000000\" fill-rule=\"evenodd\" fill-opacity=\"1\" /><path clip-path=\"url(#clip220)\" d=\"M 0 0 M163.172 33.0428 Q159.561 33.0428 157.732 36.6076 Q155.927 40.1492 155.927 47.2788 Q155.927 54.3853 157.732 57.9501 Q159.561 61.4917 163.172 61.4917 Q166.806 61.4917 168.612 57.9501 Q170.44 54.3853 170.44 47.2788 Q170.44 40.1492 168.612 36.6076 Q166.806 33.0428 163.172 33.0428 M163.172 29.3391 Q168.982 29.3391 172.038 33.9456 Q175.116 38.5289 175.116 47.2788 Q175.116 56.0056 172.038 60.6121 Q168.982 65.1954 163.172 65.1954 Q157.362 65.1954 154.283 60.6121 Q151.228 56.0056 151.228 47.2788 Q151.228 38.5289 154.283 33.9456 Q157.362 29.3391 163.172 29.3391 Z\" fill=\"#000000\" fill-rule=\"evenodd\" fill-opacity=\"1\" /><path clip-path=\"url(#clip220)\" d=\"M 0 0 M59.3266 875.051 L59.3266 884.313 L69.9574 886.986 L69.9574 877.661 L59.3266 875.051 M41.2162 879.825 L54.4251 883.135 L54.4251 873.841 L41.2162 870.499 L41.2162 865.407 L54.4251 868.685 L54.4251 858.754 L59.3266 858.754 L59.3266 869.926 L69.9574 872.536 L69.9574 862.415 L74.8271 862.415 L74.8271 873.777 L88.0042 877.088 L88.0042 882.18 L74.8271 878.902 L74.8271 888.228 L88.0042 891.506 L88.0042 896.63 L74.8271 893.32 L74.8271 903.346 L69.9574 903.346 L69.9574 892.143 L59.3266 889.469 L59.3266 899.718 L54.4251 899.718 L54.4251 888.228 L41.2162 884.981 L41.2162 879.825 Z\" fill=\"#000000\" fill-rule=\"evenodd\" fill-opacity=\"1\" /><path clip-path=\"url(#clip220)\" d=\"M 0 0 M56.4621 818.078 Q56.4621 822.788 60.1542 825.525 Q63.8145 828.263 70.212 828.263 Q76.6095 828.263 80.3017 825.557 Q83.9619 822.82 83.9619 818.078 Q83.9619 813.399 80.2698 810.662 Q76.5777 807.924 70.212 807.924 Q63.8781 807.924 60.186 810.662 Q56.4621 813.399 56.4621 818.078 M51.4968 818.078 Q51.4968 810.439 56.4621 806.078 Q61.4273 801.718 70.212 801.718 Q78.9649 801.718 83.9619 806.078 Q88.9272 810.439 88.9272 818.078 Q88.9272 825.748 83.9619 830.109 Q78.9649 834.437 70.212 834.437 Q61.4273 834.437 56.4621 830.109 Q51.4968 825.748 51.4968 818.078 Z\" fill=\"#000000\" fill-rule=\"evenodd\" fill-opacity=\"1\" /><path clip-path=\"url(#clip220)\" d=\"M 0 0 M38.479 777.528 L43.3487 777.528 L43.3487 783.13 Q43.3487 786.281 44.6219 787.522 Q45.895 788.732 49.2052 788.732 L52.3562 788.732 L52.3562 779.088 L56.9077 779.088 L56.9077 788.732 L88.0042 788.732 L88.0042 794.62 L56.9077 794.62 L56.9077 800.222 L52.3562 800.222 L52.3562 794.62 L49.8736 794.62 Q43.9216 794.62 41.2162 791.851 Q38.479 789.082 38.479 783.066 L38.479 777.528 Z\" fill=\"#000000\" fill-rule=\"evenodd\" fill-opacity=\"1\" /><path clip-path=\"url(#clip220)\" d=\"M 0 0 M38.479 750.888 L38.479 744.999 L67.7294 744.999 L52.3562 727.525 L52.3562 720.046 L69.0344 738.952 L88.0042 719.25 L88.0042 726.889 L70.5939 744.999 L88.0042 744.999 L88.0042 750.888 L38.479 750.888 Z\" fill=\"#000000\" fill-rule=\"evenodd\" fill-opacity=\"1\" /><path clip-path=\"url(#clip220)\" d=\"M 0 0 M59.1993 685.353 Q55.2526 683.156 53.3747 680.101 Q51.4968 677.045 51.4968 672.908 Q51.4968 667.338 55.4117 664.314 Q59.2948 661.29 66.4881 661.29 L88.0042 661.29 L88.0042 667.178 L66.679 667.178 Q61.5546 667.178 59.072 668.993 Q56.5894 670.807 56.5894 674.531 Q56.5894 679.082 59.6131 681.724 Q62.6368 684.366 67.8567 684.366 L88.0042 684.366 L88.0042 690.254 L66.679 690.254 Q61.5228 690.254 59.072 692.068 Q56.5894 693.883 56.5894 697.67 Q56.5894 702.158 59.6449 704.8 Q62.6686 707.442 67.8567 707.442 L88.0042 707.442 L88.0042 713.33 L52.3562 713.33 L52.3562 707.442 L57.8944 707.442 Q54.616 705.436 53.0564 702.635 Q51.4968 699.835 51.4968 695.983 Q51.4968 692.1 53.4702 689.395 Q55.4436 686.658 59.1993 685.353 Z\" fill=\"#000000\" fill-rule=\"evenodd\" fill-opacity=\"1\" /><path clip-path=\"url(#clip220)\" d=\"M 0 0 M68.7161 624.656 L71.5806 624.656 L71.5806 651.582 Q77.6281 651.201 80.8109 647.954 Q83.9619 644.676 83.9619 638.851 Q83.9619 635.477 83.1344 632.326 Q82.3069 629.143 80.6518 626.024 L86.1899 626.024 Q87.5267 629.175 88.227 632.485 Q88.9272 635.796 88.9272 639.201 Q88.9272 647.731 83.9619 652.728 Q78.9967 657.694 70.5303 657.694 Q61.7774 657.694 56.6531 652.983 Q51.4968 648.241 51.4968 640.22 Q51.4968 633.026 56.1438 628.857 Q60.7589 624.656 68.7161 624.656 M66.9973 630.512 Q62.1912 630.576 59.3266 633.217 Q56.4621 635.827 56.4621 640.156 Q56.4621 645.058 59.2312 648.018 Q62.0002 650.946 67.0292 651.392 L66.9973 630.512 Z\" fill=\"#000000\" fill-rule=\"evenodd\" fill-opacity=\"1\" /><path clip-path=\"url(#clip220)\" d=\"M 0 0 M57.8307 597.856 Q57.2578 598.843 57.0032 600.02 Q56.7167 601.166 56.7167 602.567 Q56.7167 607.532 59.9632 610.205 Q63.1779 612.847 69.2253 612.847 L88.0042 612.847 L88.0042 618.735 L52.3562 618.735 L52.3562 612.847 L57.8944 612.847 Q54.6479 611.001 53.0883 608.041 Q51.4968 605.081 51.4968 600.848 Q51.4968 600.243 51.5923 599.511 Q51.656 598.779 51.8151 597.888 L57.8307 597.856 Z\" fill=\"#000000\" fill-rule=\"evenodd\" fill-opacity=\"1\" /><path clip-path=\"url(#clip220)\" d=\"M 0 0 M53.4065 568.987 L58.9447 568.987 Q57.6716 571.47 57.035 574.144 Q56.3984 576.817 56.3984 579.682 Q56.3984 584.042 57.7352 586.239 Q59.072 588.403 61.7456 588.403 Q63.7826 588.403 64.9603 586.843 Q66.1061 585.284 67.1565 580.573 L67.6021 578.568 Q68.9389 572.329 71.3897 569.72 Q73.8086 567.078 78.1691 567.078 Q83.1344 567.078 86.0308 571.024 Q88.9272 574.939 88.9272 581.814 Q88.9272 584.679 88.3543 587.798 Q87.8132 590.885 86.6992 594.323 L80.6518 594.323 Q82.3387 591.076 83.198 587.925 Q84.0256 584.774 84.0256 581.687 Q84.0256 577.549 82.6251 575.321 Q81.1929 573.093 78.6147 573.093 Q76.2276 573.093 74.9545 574.717 Q73.6813 576.308 72.5037 581.751 L72.0262 583.788 Q70.8804 589.23 68.5251 591.649 Q66.138 594.068 62.0002 594.068 Q56.9713 594.068 54.2341 590.504 Q51.4968 586.939 51.4968 580.382 Q51.4968 577.136 51.9743 574.271 Q52.4517 571.406 53.4065 568.987 Z\" fill=\"#000000\" fill-rule=\"evenodd\" fill-opacity=\"1\" /><circle clip-path=\"url(#clip222)\" cx=\"1281.94\" cy=\"735.212\" r=\"14\" fill=\"#009af9\" fill-rule=\"evenodd\" fill-opacity=\"1\" stroke=\"#000000\" stroke-opacity=\"1\" stroke-width=\"3.2\"/>\n",
       "</svg>\n"
      ]
     },
     "execution_count": 36,
     "metadata": {},
     "output_type": "execute_result"
    }
   ],
   "source": [
    "plot_kmer_frequency_spectra(counts)"
   ]
  },
  {
   "cell_type": "code",
   "execution_count": 37,
   "metadata": {},
   "outputs": [
    {
     "data": {
      "text/plain": [
       "(graph = {1, 0} undirected simple Int64 graph, edge_evidence = Dict{LightGraphs.SimpleGraphs.SimpleEdge{Int64},Array{NamedTuple{(:observation_index, :edge_index),Tuple{Int64,Int64}},1}}())"
      ]
     },
     "execution_count": 37,
     "metadata": {},
     "output_type": "execute_result"
    }
   ],
   "source": [
    "graph = initialize_graph(observations, kmers, k)\n",
    "# my_show(graph.edge_evidence)\n",
    "# plot_graph(graph, kmers, counts)"
   ]
  },
  {
   "cell_type": "code",
   "execution_count": 38,
   "metadata": {},
   "outputs": [
    {
     "data": {
      "text/plain": [
       "1nt DNA Sequence:\n",
       "T"
      ]
     },
     "execution_count": 38,
     "metadata": {},
     "output_type": "execute_result"
    }
   ],
   "source": [
    "observation = first(observations)"
   ]
  },
  {
   "cell_type": "code",
   "execution_count": 39,
   "metadata": {},
   "outputs": [
    {
     "name": "stdout",
     "output_type": "stream",
     "text": [
      "|\u001b[1m index \u001b[0m|\u001b[1m orientation \u001b[0m|\n",
      "|\u001b[90m Int64 \u001b[0m|\u001b[90m       Bool? \u001b[0m|\n",
      "|-------|-------------|\n",
      "|     1 |       false |\n"
     ]
    }
   ],
   "source": [
    "my_show(sequence_to_oriented_path(observation, kmers))"
   ]
  },
  {
   "cell_type": "code",
   "execution_count": 59,
   "metadata": {},
   "outputs": [
    {
     "data": {
      "text/plain": [
       "(maximum_likelihood_path = NamedTuple{(:index, :orientation),Tuple{Int64,Union{Missing, Bool}}}[NamedTuple{(:index, :orientation),Tuple{Int64,Union{Missing, Bool}}}((1, false))], maximum_likelihood_edit_distance = 0, relative_likelihood = 1.0)"
      ]
     },
     "execution_count": 59,
     "metadata": {},
     "output_type": "execute_result"
    }
   ],
   "source": [
    "optimal_path = viterbi_maximum_likelihood_path(graph, observation, kmers, counts, error_rate)"
   ]
  },
  {
   "cell_type": "code",
   "execution_count": 60,
   "metadata": {},
   "outputs": [
    {
     "name": "stdout",
     "output_type": "stream",
     "text": [
      "\u001b[1mMaximum Likelihood Path\u001b[0m\n",
      "|\u001b[1m index \u001b[0m|\u001b[1m orientation \u001b[0m|\n",
      "|\u001b[90m Int64 \u001b[0m|\u001b[90m       Bool? \u001b[0m|\n",
      "|-------|-------------|\n",
      "|     1 |       false |\n"
     ]
    }
   ],
   "source": [
    "my_show(optimal_path.maximum_likelihood_path, title = \"Maximum Likelihood Path\")"
   ]
  },
  {
   "cell_type": "code",
   "execution_count": 63,
   "metadata": {},
   "outputs": [
    {
     "data": {
      "text/plain": [
       "1-element Array{NamedTuple{(:index, :orientation),Tuple{Int64,Union{Missing, Bool}}},1}:\n",
       " NamedTuple{(:index, :orientation),Tuple{Int64,Union{Missing, Bool}}}((1, false))"
      ]
     },
     "execution_count": 63,
     "metadata": {},
     "output_type": "execute_result"
    }
   ],
   "source": [
    "sequence_to_oriented_path(sequence, kmers)"
   ]
  },
  {
   "cell_type": "code",
   "execution_count": 64,
   "metadata": {},
   "outputs": [
    {
     "data": {
      "text/plain": [
       "1nt DNA Sequence:\n",
       "T"
      ]
     },
     "execution_count": 64,
     "metadata": {},
     "output_type": "execute_result"
    }
   ],
   "source": [
    "oriented_path_to_sequence(sequence_to_oriented_path(observation, kmers), kmers)"
   ]
  },
  {
   "cell_type": "code",
   "execution_count": null,
   "metadata": {},
   "outputs": [],
   "source": [
    "# @code_warntype get_kmer_index(kmers, BioSequences.DNAMer(BioSequences.randdnaseq(1)))\n",
    "\n",
    "# @code_warntype observe(BioSequences.randdnaseq(4))\n",
    "\n",
    "# @code_warntype ordered_edge(rand(Int), rand(Int))\n",
    "\n",
    "# @code_warntype initialize_graph(observations, kmers, k)\n",
    "\n",
    "# @code_warntype determine_edge_probabilities(graph.graph, kmers, graph.edge_evidence)\n",
    "\n",
    "# @code_warntype determine_edge_probabilities(graph.graph, kmers, graph.edge_evidence, false)\n",
    "\n",
    "# @code_warntype assess_alignment(BioSequences.DNAMer(BioSequences.randdnaseq(3)), BioSequences.DNAMer(BioSequences.randdnaseq(3)))\n",
    "\n",
    "# @code_warntype assess_path_orientations([1], kmers, true)\n",
    "\n",
    "# @code_warntype assess_path_likelihood([(index = 1, orientation = true), (index = 2, orientation = false)], [BioSequences.mer\"A\", BioSequences.mer\"C\"], [1,1], SparseArrays.spzeros(2, 2), SparseArrays.spzeros(2, 2))\n",
    "\n",
    "# @code_warntype orient_path([1], [true])\n",
    "\n",
    "# @code_warntype assess_emission(true, 1, (index = 1, orientation = true), [BioSequences.mer\"A\"])"
   ]
  }
 ],
 "metadata": {
  "kernelspec": {
   "display_name": "Julia 1.5.3",
   "language": "julia",
   "name": "julia-1.5"
  },
  "language_info": {
   "file_extension": ".jl",
   "mimetype": "application/julia",
   "name": "julia",
   "version": "1.5.3"
  }
 },
 "nbformat": 4,
 "nbformat_minor": 4
}
