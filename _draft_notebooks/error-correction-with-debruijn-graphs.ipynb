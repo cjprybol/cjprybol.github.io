{
 "cells": [
  {
   "cell_type": "markdown",
   "metadata": {},
   "source": [
    "---\n",
    "layout: post  \n",
    "---"
   ]
  },
  {
   "cell_type": "code",
   "execution_count": 1,
   "metadata": {},
   "outputs": [
    {
     "name": "stderr",
     "output_type": "stream",
     "text": [
      "\u001b[32m\u001b[1m   Updating\u001b[22m\u001b[39m registry at `~/.julia/registries/General`\n"
     ]
    },
    {
     "name": "stdout",
     "output_type": "stream",
     "text": [
      "\u001b[?25l\u001b[2K"
     ]
    },
    {
     "name": "stderr",
     "output_type": "stream",
     "text": [
      "\u001b[32m\u001b[1m   Updating\u001b[22m\u001b[39m git-repo `https://github.com/JuliaRegistries/General.git`\n"
     ]
    },
    {
     "name": "stdout",
     "output_type": "stream",
     "text": [
      "\u001b[?25h"
     ]
    },
    {
     "name": "stderr",
     "output_type": "stream",
     "text": [
      "\u001b[32m\u001b[1m  Resolving\u001b[22m\u001b[39m package versions...\n",
      "┌ Info: Precompiling Eisenia [453d265d-8292-4a7b-a57c-dce3f9ae6acd]\n",
      "└ @ Base loading.jl:1278\n",
      "\u001b[32m\u001b[1m  Resolving\u001b[22m\u001b[39m package versions...\n",
      "\u001b[32m\u001b[1mNo Changes\u001b[22m\u001b[39m to `~/.julia/environments/v1.5/Project.toml`\n",
      "\u001b[32m\u001b[1mNo Changes\u001b[22m\u001b[39m to `~/.julia/environments/v1.5/Manifest.toml`\n",
      "\u001b[32m\u001b[1m  Resolving\u001b[22m\u001b[39m package versions...\n",
      "\u001b[32m\u001b[1mNo Changes\u001b[22m\u001b[39m to `~/.julia/environments/v1.5/Project.toml`\n",
      "\u001b[32m\u001b[1mNo Changes\u001b[22m\u001b[39m to `~/.julia/environments/v1.5/Manifest.toml`\n",
      "\u001b[32m\u001b[1m  Resolving\u001b[22m\u001b[39m package versions...\n",
      "\u001b[32m\u001b[1mNo Changes\u001b[22m\u001b[39m to `~/.julia/environments/v1.5/Project.toml`\n",
      "\u001b[32m\u001b[1mNo Changes\u001b[22m\u001b[39m to `~/.julia/environments/v1.5/Manifest.toml`\n",
      "\u001b[32m\u001b[1m  Resolving\u001b[22m\u001b[39m package versions...\n",
      "\u001b[32m\u001b[1mNo Changes\u001b[22m\u001b[39m to `~/.julia/environments/v1.5/Project.toml`\n",
      "\u001b[32m\u001b[1mNo Changes\u001b[22m\u001b[39m to `~/.julia/environments/v1.5/Manifest.toml`\n",
      "\u001b[32m\u001b[1m  Resolving\u001b[22m\u001b[39m package versions...\n",
      "\u001b[32m\u001b[1mNo Changes\u001b[22m\u001b[39m to `~/.julia/environments/v1.5/Project.toml`\n",
      "\u001b[32m\u001b[1mNo Changes\u001b[22m\u001b[39m to `~/.julia/environments/v1.5/Manifest.toml`\n",
      "\u001b[32m\u001b[1m  Resolving\u001b[22m\u001b[39m package versions...\n",
      "\u001b[32m\u001b[1mNo Changes\u001b[22m\u001b[39m to `~/.julia/environments/v1.5/Project.toml`\n",
      "\u001b[32m\u001b[1mNo Changes\u001b[22m\u001b[39m to `~/.julia/environments/v1.5/Manifest.toml`\n",
      "\u001b[32m\u001b[1m  Resolving\u001b[22m\u001b[39m package versions...\n",
      "\u001b[32m\u001b[1mNo Changes\u001b[22m\u001b[39m to `~/.julia/environments/v1.5/Project.toml`\n",
      "\u001b[32m\u001b[1mNo Changes\u001b[22m\u001b[39m to `~/.julia/environments/v1.5/Manifest.toml`\n"
     ]
    }
   ],
   "source": [
    "import Pkg\n",
    "pkgs = [\n",
    "    \"Eisenia\",\n",
    "    \"Random\",\n",
    "    \"Revise\",\n",
    "    \"BioSequences\",\n",
    "    \"Test\",\n",
    "    \"LightGraphs\",\n",
    "    \"Primes\",\n",
    "    \"Statistics\"\n",
    "]\n",
    "\n",
    "for pkg in pkgs\n",
    "    try\n",
    "        Pkg.add(pkg)\n",
    "    catch\n",
    "        # tried to install an unregistered local package\n",
    "    end\n",
    "    eval(Meta.parse(\"import $pkg\"))\n",
    "end"
   ]
  },
  {
   "cell_type": "code",
   "execution_count": 13,
   "metadata": {},
   "outputs": [
    {
     "data": {
      "text/plain": [
       "1"
      ]
     },
     "execution_count": 13,
     "metadata": {},
     "output_type": "execute_result"
    }
   ],
   "source": [
    "n_sequences = 2^0"
   ]
  },
  {
   "cell_type": "code",
   "execution_count": 14,
   "metadata": {},
   "outputs": [
    {
     "data": {
      "text/plain": [
       "10"
      ]
     },
     "execution_count": 14,
     "metadata": {},
     "output_type": "execute_result"
    }
   ],
   "source": [
    "seqlen = 10^1"
   ]
  },
  {
   "cell_type": "code",
   "execution_count": 15,
   "metadata": {},
   "outputs": [
    {
     "data": {
      "text/plain": [
       "100"
      ]
     },
     "execution_count": 15,
     "metadata": {},
     "output_type": "execute_result"
    }
   ],
   "source": [
    "n_observations = 10^2"
   ]
  },
  {
   "cell_type": "code",
   "execution_count": 16,
   "metadata": {},
   "outputs": [
    {
     "data": {
      "text/plain": [
       "1-element Array{BioSequences.LongSequence{BioSequences.DNAAlphabet{4}},1}:\n",
       " TCGTCCCAGG"
      ]
     },
     "execution_count": 16,
     "metadata": {},
     "output_type": "execute_result"
    }
   ],
   "source": [
    "sequences = [BioSequences.randdnaseq(Random.seed!(i), seqlen) for i in 1:n_sequences]"
   ]
  },
  {
   "cell_type": "code",
   "execution_count": 17,
   "metadata": {},
   "outputs": [
    {
     "data": {
      "text/plain": [
       "0.05"
      ]
     },
     "execution_count": 17,
     "metadata": {},
     "output_type": "execute_result"
    }
   ],
   "source": [
    "error_rate = 0.05"
   ]
  },
  {
   "cell_type": "code",
   "execution_count": 18,
   "metadata": {},
   "outputs": [
    {
     "data": {
      "text/plain": [
       "100-element Array{BioSequences.LongSequence{BioSequences.DNAAlphabet{4}},1}:\n",
       " CCTGGGAGCGA\n",
       " CCTGGGACGA\n",
       " CCTGGGACGT\n",
       " TCGCCCAGG\n",
       " TCGTCCCAGG\n",
       " CCTGGGACGA\n",
       " CCTGGGACGA\n",
       " GCTGGGACGA\n",
       " CCTGGGACGA\n",
       " TCGTCCCAGA\n",
       " CCCGCGACGAA\n",
       " CCTGGGACGA\n",
       " TCGTCCCAGG\n",
       " ⋮\n",
       " TCGTCCCAGG\n",
       " CCTGGGACGA\n",
       " TCGTCCCAGG\n",
       " CCTGGGACGA\n",
       " TCTCCCAGG\n",
       " TCGTCCCAGG\n",
       " TCGTCCCAGG\n",
       " CGCCCAGGG\n",
       " CCTGGGACGA\n",
       " CCTGGACGA\n",
       " CCTGGCACGA\n",
       " TCAGTCCCACGG"
      ]
     },
     "execution_count": 18,
     "metadata": {},
     "output_type": "execute_result"
    }
   ],
   "source": [
    "observations = [\n",
    "    Eisenia.observe(rand(sequences), error_rate = error_rate) for i in 1:n_observations\n",
    "]\n",
    "maximum_likelihood_observations = observations"
   ]
  },
  {
   "cell_type": "code",
   "execution_count": 19,
   "metadata": {},
   "outputs": [
    {
     "data": {
      "text/plain": [
       "my_isequal (generic function with 1 method)"
      ]
     },
     "execution_count": 19,
     "metadata": {},
     "output_type": "execute_result"
    }
   ],
   "source": [
    "function my_isequal(a, b)\n",
    "    return (a == b) || (BioSequences.reverse_complement(a) == b)\n",
    "end"
   ]
  },
  {
   "cell_type": "code",
   "execution_count": null,
   "metadata": {},
   "outputs": [],
   "source": [
    "# for k in Primes.primes(3, min(seqlen, 31))\n",
    "#     counts = collect(values(Eisenia.count_kmers(BioSequences.DNAMer{k}, observations)))\n",
    "#     display(Eisenia.plot_kmer_frequency_spectra(counts, title = \"k = $k\", size = (500, 300)))\n",
    "# end"
   ]
  },
  {
   "cell_type": "markdown",
   "metadata": {},
   "source": [
    "These all seem fine, let's see what the graphs look like for each"
   ]
  },
  {
   "cell_type": "code",
   "execution_count": null,
   "metadata": {},
   "outputs": [],
   "source": [
    "# for k in Primes.primes(3, min(seqlen, 31))\n",
    "#     graph = Eisenia.KmerGraph(BioSequences.DNAMer{k}, observations)\n",
    "#     display(Eisenia.plot_graph(graph))\n",
    "# end"
   ]
  },
  {
   "cell_type": "markdown",
   "metadata": {},
   "source": [
    "Let's go with k = 3. k = 5 seems like it has lots of disjointed tips and k=7 fragments the graphs to the point that there are no overlaps. This suggests that the smallest possible k that can separate signal from noise is ideal"
   ]
  },
  {
   "cell_type": "code",
   "execution_count": null,
   "metadata": {},
   "outputs": [],
   "source": [
    "# k = 3\n",
    "# graph = Eisenia.KmerGraph(BioSequences.DNAMer{k}, observations)"
   ]
  },
  {
   "cell_type": "code",
   "execution_count": null,
   "metadata": {},
   "outputs": [],
   "source": [
    "# total_edits_accepted = 0\n",
    "# total_bases_evaluated = 0\n",
    "# maximum_likelihood_observations = BioSequences.LongDNASeq[]\n",
    "# for observation in observations\n",
    "#     if length(observation) >= k\n",
    "#         total_bases_evaluated += length(observation)\n",
    "#         optimal_path, edit_distance, relative_likelihood = Eisenia.viterbi_maximum_likelihood_path(graph, observation, error_rate)\n",
    "#         total_edits_accepted += edit_distance\n",
    "#         maximum_likelihood_observation = Eisenia.oriented_path_to_sequence(optimal_path, graph.kmers)\n",
    "#         was_equal_before = my_isequal(observation, first(sequences))\n",
    "#         if !was_equal_before\n",
    "#             @show my_isequal(maximum_likelihood_observation, first(sequences))\n",
    "#         end\n",
    "#         push!(maximum_likelihood_observations, maximum_likelihood_observation)\n",
    "#     end\n",
    "# end"
   ]
  },
  {
   "cell_type": "code",
   "execution_count": null,
   "metadata": {},
   "outputs": [],
   "source": [
    "# total_edits_accepted / total_bases_evaluated"
   ]
  },
  {
   "cell_type": "code",
   "execution_count": null,
   "metadata": {},
   "outputs": [],
   "source": [
    "# maximum_likelihood_observations"
   ]
  },
  {
   "cell_type": "code",
   "execution_count": null,
   "metadata": {},
   "outputs": [],
   "source": [
    "# observations = maximum_likelihood_observations\n",
    "# maximum_likelihood_observations = BioSequences.LongDNASeq[]"
   ]
  },
  {
   "cell_type": "code",
   "execution_count": null,
   "metadata": {},
   "outputs": [],
   "source": [
    "# for k in Primes.primes(3, min(seqlen, 31))\n",
    "#     counts = collect(values(Eisenia.count_kmers(BioSequences.DNAMer{k}, observations)))\n",
    "#     display(Eisenia.plot_kmer_frequency_spectra(counts, title = \"k = $k\", size = (500, 300)))\n",
    "# end"
   ]
  },
  {
   "cell_type": "markdown",
   "metadata": {},
   "source": [
    "These all seem fine, let's see what the graphs look like for each"
   ]
  },
  {
   "cell_type": "code",
   "execution_count": null,
   "metadata": {},
   "outputs": [],
   "source": [
    "# for k in Primes.primes(3, min(seqlen, 31))\n",
    "#     graph = Eisenia.KmerGraph(BioSequences.DNAMer{k}, observations)\n",
    "#     display(Eisenia.plot_graph(graph))\n",
    "# end"
   ]
  },
  {
   "cell_type": "markdown",
   "metadata": {},
   "source": [
    "Let's go with k = 3. k = 5 seems like it has lots of disjointed tips and k=7 fragments the graphs to the point that there are no overlaps. This suggests that the smallest possible k that can separate signal from noise is ideal"
   ]
  },
  {
   "cell_type": "code",
   "execution_count": null,
   "metadata": {},
   "outputs": [],
   "source": [
    "# k = 3\n",
    "# graph = Eisenia.KmerGraph(BioSequences.DNAMer{k}, observations)"
   ]
  },
  {
   "cell_type": "code",
   "execution_count": null,
   "metadata": {},
   "outputs": [],
   "source": [
    "# total_edits_accepted = 0\n",
    "# total_bases_evaluated = 0"
   ]
  },
  {
   "cell_type": "code",
   "execution_count": null,
   "metadata": {},
   "outputs": [],
   "source": [
    "# for observation in observations\n",
    "#     if length(observation) >= k\n",
    "#         total_bases_evaluated += length(observation)\n",
    "#         optimal_path, edit_distance, relative_likelihood = Eisenia.viterbi_maximum_likelihood_path(graph, observation, error_rate)\n",
    "#         total_edits_accepted += edit_distance\n",
    "#         maximum_likelihood_observation = Eisenia.oriented_path_to_sequence(optimal_path, graph.kmers)\n",
    "#         was_equal_before = my_isequal(observation, first(sequences))\n",
    "#         if !was_equal_before\n",
    "#             @show my_isequal(maximum_likelihood_observation, first(sequences))\n",
    "#         end\n",
    "#         push!(maximum_likelihood_observations, maximum_likelihood_observation)\n",
    "#     end\n",
    "# end"
   ]
  },
  {
   "cell_type": "code",
   "execution_count": null,
   "metadata": {},
   "outputs": [],
   "source": [
    "# total_edits_accepted / total_bases_evaluated"
   ]
  },
  {
   "cell_type": "code",
   "execution_count": null,
   "metadata": {},
   "outputs": [],
   "source": [
    "# observations = maximum_likelihood_observations\n",
    "# maximum_likelihood_observations = BioSequences.LongDNASeq[]"
   ]
  },
  {
   "cell_type": "code",
   "execution_count": null,
   "metadata": {},
   "outputs": [],
   "source": [
    "# for k in Primes.primes(3, min(seqlen, 31))\n",
    "#     counts = collect(values(Eisenia.count_kmers(BioSequences.DNAMer{k}, observations)))\n",
    "#     display(Eisenia.plot_kmer_frequency_spectra(counts, title = \"k = $k\", size = (500, 300)))\n",
    "# end"
   ]
  },
  {
   "cell_type": "markdown",
   "metadata": {},
   "source": [
    "These all seem fine, let's see what the graphs look like for each"
   ]
  },
  {
   "cell_type": "code",
   "execution_count": null,
   "metadata": {},
   "outputs": [],
   "source": [
    "# for k in Primes.primes(3, min(seqlen, 31))\n",
    "#     graph = Eisenia.KmerGraph(BioSequences.DNAMer{k}, observations)\n",
    "#     display(Eisenia.plot_graph(graph))\n",
    "# end"
   ]
  },
  {
   "cell_type": "markdown",
   "metadata": {},
   "source": [
    "Let's go with k = 3. k = 5 seems like it has lots of disjointed tips and k=7 fragments the graphs to the point that there are no overlaps. This suggests that the smallest possible k that can separate signal from noise is ideal"
   ]
  },
  {
   "cell_type": "code",
   "execution_count": null,
   "metadata": {},
   "outputs": [],
   "source": [
    "# k = 3\n",
    "# graph = Eisenia.KmerGraph(BioSequences.DNAMer{k}, observations)"
   ]
  },
  {
   "cell_type": "code",
   "execution_count": null,
   "metadata": {},
   "outputs": [],
   "source": [
    "# total_edits_accepted = 0\n",
    "# total_bases_evaluated = 0"
   ]
  },
  {
   "cell_type": "code",
   "execution_count": null,
   "metadata": {},
   "outputs": [],
   "source": [
    "# for observation in observations\n",
    "#     if length(observation) >= k\n",
    "#         total_bases_evaluated += length(observation)\n",
    "#         optimal_path, edit_distance, relative_likelihood = Eisenia.viterbi_maximum_likelihood_path(graph, observation, error_rate)\n",
    "#         total_edits_accepted += edit_distance\n",
    "#         maximum_likelihood_observation = Eisenia.oriented_path_to_sequence(optimal_path, graph.kmers)\n",
    "#         was_equal_before = my_isequal(observation, first(sequences))\n",
    "#         if !was_equal_before\n",
    "#             @show my_isequal(maximum_likelihood_observation, first(sequences))\n",
    "#         end\n",
    "#         push!(maximum_likelihood_observations, maximum_likelihood_observation)\n",
    "#     end\n",
    "# end"
   ]
  },
  {
   "cell_type": "code",
   "execution_count": null,
   "metadata": {},
   "outputs": [],
   "source": [
    "# total_edits_accepted / total_bases_evaluated"
   ]
  },
  {
   "cell_type": "code",
   "execution_count": null,
   "metadata": {},
   "outputs": [],
   "source": [
    "# observations = maximum_likelihood_observations\n",
    "# maximum_likelihood_observations = BioSequences.LongDNASeq[]"
   ]
  },
  {
   "cell_type": "code",
   "execution_count": null,
   "metadata": {},
   "outputs": [],
   "source": [
    "# for k in Primes.primes(3, min(seqlen, 31))\n",
    "#     counts = collect(values(Eisenia.count_kmers(BioSequences.DNAMer{k}, observations)))\n",
    "#     display(Eisenia.plot_kmer_frequency_spectra(counts, title = \"k = $k\", size = (500, 300)))\n",
    "# end"
   ]
  },
  {
   "cell_type": "markdown",
   "metadata": {},
   "source": [
    "These all seem fine, let's see what the graphs look like for each"
   ]
  },
  {
   "cell_type": "code",
   "execution_count": null,
   "metadata": {},
   "outputs": [],
   "source": [
    "# for k in Primes.primes(3, min(seqlen, 31))\n",
    "#     graph = Eisenia.KmerGraph(BioSequences.DNAMer{k}, observations)\n",
    "#     display(Eisenia.plot_graph(graph))\n",
    "# end"
   ]
  },
  {
   "cell_type": "markdown",
   "metadata": {},
   "source": [
    "Let's go with k = 3. k = 5 seems like it has lots of disjointed tips and k=7 fragments the graphs to the point that there are no overlaps. This suggests that the smallest possible k that can separate signal from noise is ideal"
   ]
  },
  {
   "cell_type": "code",
   "execution_count": null,
   "metadata": {},
   "outputs": [],
   "source": [
    "# k = 5\n",
    "# graph = Eisenia.KmerGraph(BioSequences.DNAMer{k}, observations)"
   ]
  },
  {
   "cell_type": "code",
   "execution_count": null,
   "metadata": {},
   "outputs": [],
   "source": [
    "# total_edits_accepted = 0\n",
    "# total_bases_evaluated = 0"
   ]
  },
  {
   "cell_type": "code",
   "execution_count": null,
   "metadata": {},
   "outputs": [],
   "source": [
    "# maximum_likelihood_observations = BioSequences.LongDNASeq[]\n",
    "# for observation in observations\n",
    "#     if length(observation) >= k\n",
    "#         total_bases_evaluated += length(observation)\n",
    "#         optimal_path, edit_distance, relative_likelihood = Eisenia.viterbi_maximum_likelihood_path(graph, observation, error_rate)\n",
    "#         total_edits_accepted += edit_distance\n",
    "#         maximum_likelihood_observation = Eisenia.oriented_path_to_sequence(optimal_path, graph.kmers)\n",
    "#         was_equal_before = my_isequal(observation, first(sequences))\n",
    "#         if !was_equal_before\n",
    "#             @show my_isequal(maximum_likelihood_observation, first(sequences))\n",
    "#         end\n",
    "#         push!(maximum_likelihood_observations, maximum_likelihood_observation)\n",
    "#     end\n",
    "# end"
   ]
  },
  {
   "cell_type": "code",
   "execution_count": null,
   "metadata": {},
   "outputs": [],
   "source": [
    "# total_edits_accepted / total_bases_evaluated"
   ]
  },
  {
   "cell_type": "code",
   "execution_count": null,
   "metadata": {},
   "outputs": [],
   "source": [
    "# observations = maximum_likelihood_observations"
   ]
  },
  {
   "cell_type": "code",
   "execution_count": null,
   "metadata": {},
   "outputs": [],
   "source": [
    "# for k in Primes.primes(3, min(seqlen, 31))\n",
    "#     counts = collect(values(Eisenia.count_kmers(BioSequences.DNAMer{k}, observations)))\n",
    "#     display(Eisenia.plot_kmer_frequency_spectra(counts, title = \"k = $k\", size = (500, 300)))\n",
    "# end"
   ]
  },
  {
   "cell_type": "markdown",
   "metadata": {},
   "source": [
    "These all seem fine, let's see what the graphs look like for each"
   ]
  },
  {
   "cell_type": "code",
   "execution_count": null,
   "metadata": {},
   "outputs": [],
   "source": [
    "# for k in Primes.primes(3, min(seqlen, 31))\n",
    "#     graph = Eisenia.KmerGraph(BioSequences.DNAMer{k}, observations)\n",
    "#     display(Eisenia.plot_graph(graph))\n",
    "# end"
   ]
  },
  {
   "cell_type": "markdown",
   "metadata": {},
   "source": [
    "Let's go with k = 3. k = 5 seems like it has lots of disjointed tips and k=7 fragments the graphs to the point that there are no overlaps. This suggests that the smallest possible k that can separate signal from noise is ideal"
   ]
  },
  {
   "cell_type": "code",
   "execution_count": null,
   "metadata": {},
   "outputs": [],
   "source": [
    "# k = 5\n",
    "# graph = Eisenia.KmerGraph(BioSequences.DNAMer{k}, observations)"
   ]
  },
  {
   "cell_type": "code",
   "execution_count": null,
   "metadata": {},
   "outputs": [],
   "source": [
    "# total_edits_accepted = 0\n",
    "# total_bases_evaluated = 0"
   ]
  },
  {
   "cell_type": "code",
   "execution_count": null,
   "metadata": {},
   "outputs": [],
   "source": [
    "# maximum_likelihood_observations = BioSequences.LongDNASeq[]\n",
    "# for observation in observations\n",
    "#     if length(observation) >= k\n",
    "#         total_bases_evaluated += length(observation)\n",
    "#         optimal_path, edit_distance, relative_likelihood = Eisenia.viterbi_maximum_likelihood_path(graph, observation, error_rate)\n",
    "#         total_edits_accepted += edit_distance\n",
    "#         maximum_likelihood_observation = Eisenia.oriented_path_to_sequence(optimal_path, graph.kmers)\n",
    "#         was_equal_before = my_isequal(observation, first(sequences))\n",
    "#         if !was_equal_before\n",
    "#             @show my_isequal(maximum_likelihood_observation, first(sequences))\n",
    "#         end\n",
    "#         push!(maximum_likelihood_observations, maximum_likelihood_observation)\n",
    "#     end\n",
    "# end"
   ]
  },
  {
   "cell_type": "code",
   "execution_count": null,
   "metadata": {},
   "outputs": [],
   "source": [
    "# total_edits_accepted / total_bases_evaluated"
   ]
  },
  {
   "cell_type": "code",
   "execution_count": null,
   "metadata": {},
   "outputs": [],
   "source": [
    "# observations = maximum_likelihood_observations\n",
    "# maximum_likelihood_observations = BioSequences.LongDNASeq[]"
   ]
  },
  {
   "cell_type": "code",
   "execution_count": null,
   "metadata": {},
   "outputs": [],
   "source": [
    "# for k in Primes.primes(3, min(seqlen, 31))\n",
    "#     counts = collect(values(Eisenia.count_kmers(BioSequences.DNAMer{k}, observations)))\n",
    "#     display(Eisenia.plot_kmer_frequency_spectra(counts, title = \"k = $k\", size = (500, 300)))\n",
    "# end"
   ]
  },
  {
   "cell_type": "markdown",
   "metadata": {},
   "source": [
    "These all seem fine, let's see what the graphs look like for each"
   ]
  },
  {
   "cell_type": "code",
   "execution_count": null,
   "metadata": {},
   "outputs": [],
   "source": [
    "# for k in Primes.primes(3, min(seqlen, 31))\n",
    "#     graph = Eisenia.KmerGraph(BioSequences.DNAMer{k}, observations)\n",
    "#     display(Eisenia.plot_graph(graph))\n",
    "# end"
   ]
  },
  {
   "cell_type": "markdown",
   "metadata": {},
   "source": [
    "Let's go with k = 3. k = 5 seems like it has lots of disjointed tips and k=7 fragments the graphs to the point that there are no overlaps. This suggests that the smallest possible k that can separate signal from noise is ideal"
   ]
  },
  {
   "cell_type": "code",
   "execution_count": 20,
   "metadata": {},
   "outputs": [
    {
     "data": {
      "text/plain": [
       "Eisenia.KmerGraph{BioSequences.Mer{BioSequences.DNAAlphabet{2},7}}({102, 91} undirected simple Int64 graph, Dict{LightGraphs.SimpleGraphs.SimpleEdge{Int64},Array{Eisenia.EdgeEvidence,1}}(Edge 1 => 75 => [Eisenia.EdgeEvidence(14, 1)],Edge 28 => 61 => [Eisenia.EdgeEvidence(17, 1)],Edge 11 => 64 => [Eisenia.EdgeEvidence(20, 4)],Edge 42 => 100 => [Eisenia.EdgeEvidence(21, 2), Eisenia.EdgeEvidence(39, 2), Eisenia.EdgeEvidence(74, 2), Eisenia.EdgeEvidence(98, 2)],Edge 22 => 33 => [Eisenia.EdgeEvidence(88, 2)],Edge 41 => 100 => [Eisenia.EdgeEvidence(20, 1)],Edge 30 => 67 => [Eisenia.EdgeEvidence(11, 4)],Edge 37 => 44 => [Eisenia.EdgeEvidence(41, 2)],Edge 43 => 68 => [Eisenia.EdgeEvidence(67, 1)],Edge 43 => 80 => [Eisenia.EdgeEvidence(2, 3), Eisenia.EdgeEvidence(5, 1), Eisenia.EdgeEvidence(6, 3), Eisenia.EdgeEvidence(7, 3), Eisenia.EdgeEvidence(8, 3), Eisenia.EdgeEvidence(9, 3), Eisenia.EdgeEvidence(10, 1), Eisenia.EdgeEvidence(12, 3), Eisenia.EdgeEvidence(13, 1), Eisenia.EdgeEvidence(16, 3)  …  Eisenia.EdgeEvidence(83, 1), Eisenia.EdgeEvidence(84, 3), Eisenia.EdgeEvidence(86, 1), Eisenia.EdgeEvidence(89, 1), Eisenia.EdgeEvidence(90, 3), Eisenia.EdgeEvidence(91, 1), Eisenia.EdgeEvidence(92, 3), Eisenia.EdgeEvidence(94, 1), Eisenia.EdgeEvidence(95, 1), Eisenia.EdgeEvidence(97, 3)]…), BioSequences.Mer{BioSequences.DNAAlphabet{2},7}[ACGTCCC, ACGTCCG, AGGACGA, AGTCCCA, ATCCCAG, ATCGTCC, ATGGGAC, CAGTCCC, CATCCCA, CATGGGA  …  GTCCGCA, GTCTCCA, GTTCCCA, TCCCAGA, TCGCCCA, TCGCCGA, TCGGTCA, TCGTCCA, TCTCCCA, TGGGACA], [2, 1, 1, 1, 1, 1, 1, 1, 1, 1  …  1, 2, 1, 1, 4, 1, 1, 5, 1, 4])"
      ]
     },
     "execution_count": 20,
     "metadata": {},
     "output_type": "execute_result"
    }
   ],
   "source": [
    "k = 7\n",
    "graph = Eisenia.KmerGraph(BioSequences.DNAMer{k}, observations)"
   ]
  },
  {
   "cell_type": "code",
   "execution_count": 21,
   "metadata": {},
   "outputs": [
    {
     "data": {
      "text/plain": [
       "0"
      ]
     },
     "execution_count": 21,
     "metadata": {},
     "output_type": "execute_result"
    }
   ],
   "source": [
    "total_edits_accepted = 0\n",
    "total_bases_evaluated = 0"
   ]
  },
  {
   "cell_type": "code",
   "execution_count": 22,
   "metadata": {},
   "outputs": [
    {
     "data": {
      "text/plain": [
       "100-element Array{BioSequences.LongSequence{BioSequences.DNAAlphabet{4}},1}:\n",
       " CCTGGGAGCGA\n",
       " CCTGGGACGA\n",
       " CCTGGGACGT\n",
       " TCGCCCAGG\n",
       " TCGTCCCAGG\n",
       " CCTGGGACGA\n",
       " CCTGGGACGA\n",
       " GCTGGGACGA\n",
       " CCTGGGACGA\n",
       " TCGTCCCAGA\n",
       " CCCGCGACGAA\n",
       " CCTGGGACGA\n",
       " TCGTCCCAGG\n",
       " ⋮\n",
       " TCGTCCCAGG\n",
       " CCTGGGACGA\n",
       " TCGTCCCAGG\n",
       " CCTGGGACGA\n",
       " TCTCCCAGG\n",
       " TCGTCCCAGG\n",
       " TCGTCCCAGG\n",
       " CGCCCAGGG\n",
       " CCTGGGACGA\n",
       " CCTGGACGA\n",
       " CCTGGCACGA\n",
       " TCAGTCCCACGG"
      ]
     },
     "execution_count": 22,
     "metadata": {},
     "output_type": "execute_result"
    }
   ],
   "source": [
    "observations"
   ]
  },
  {
   "cell_type": "code",
   "execution_count": 23,
   "metadata": {},
   "outputs": [
    {
     "name": "stdout",
     "output_type": "stream",
     "text": [
      "my_isequal(maximum_likelihood_observation, first(sequences)) = true\n",
      "my_isequal(maximum_likelihood_observation, first(sequences)) = true\n",
      "my_isequal(maximum_likelihood_observation, first(sequences)) = false\n",
      "my_isequal(maximum_likelihood_observation, first(sequences)) = true\n",
      "my_isequal(maximum_likelihood_observation, first(sequences)) = true\n",
      "my_isequal(maximum_likelihood_observation, first(sequences)) = true\n",
      "my_isequal(maximum_likelihood_observation, first(sequences)) = false\n",
      "my_isequal(maximum_likelihood_observation, first(sequences)) = false\n",
      "my_isequal(maximum_likelihood_observation, first(sequences)) = true\n",
      "my_isequal(maximum_likelihood_observation, first(sequences)) = true\n",
      "my_isequal(maximum_likelihood_observation, first(sequences)) = false\n",
      "my_isequal(maximum_likelihood_observation, first(sequences)) = true\n",
      "my_isequal(maximum_likelihood_observation, first(sequences)) = true\n",
      "my_isequal(maximum_likelihood_observation, first(sequences)) = false\n",
      "my_isequal(maximum_likelihood_observation, first(sequences)) = true\n",
      "my_isequal(maximum_likelihood_observation, first(sequences)) = true\n",
      "my_isequal(maximum_likelihood_observation, first(sequences)) = true\n",
      "my_isequal(maximum_likelihood_observation, first(sequences)) = true\n",
      "my_isequal(maximum_likelihood_observation, first(sequences)) = false\n",
      "my_isequal(maximum_likelihood_observation, first(sequences)) = true\n",
      "my_isequal(maximum_likelihood_observation, first(sequences)) = true\n",
      "my_isequal(maximum_likelihood_observation, first(sequences)) = false\n",
      "my_isequal(maximum_likelihood_observation, first(sequences)) = false\n",
      "my_isequal(maximum_likelihood_observation, first(sequences)) = true\n",
      "my_isequal(maximum_likelihood_observation, first(sequences)) = false\n",
      "my_isequal(maximum_likelihood_observation, first(sequences)) = false\n",
      "my_isequal(maximum_likelihood_observation, first(sequences)) = true\n",
      "my_isequal(maximum_likelihood_observation, first(sequences)) = true\n",
      "my_isequal(maximum_likelihood_observation, first(sequences)) = false\n",
      "my_isequal(maximum_likelihood_observation, first(sequences)) = true\n",
      "my_isequal(maximum_likelihood_observation, first(sequences)) = true\n",
      "my_isequal(maximum_likelihood_observation, first(sequences)) = true\n",
      "my_isequal(maximum_likelihood_observation, first(sequences)) = true\n",
      "my_isequal(maximum_likelihood_observation, first(sequences)) = true\n",
      "my_isequal(maximum_likelihood_observation, first(sequences)) = false\n",
      "my_isequal(maximum_likelihood_observation, first(sequences)) = false\n",
      "my_isequal(maximum_likelihood_observation, first(sequences)) = true\n",
      "my_isequal(maximum_likelihood_observation, first(sequences)) = false\n",
      "my_isequal(maximum_likelihood_observation, first(sequences)) = true\n",
      "my_isequal(maximum_likelihood_observation, first(sequences)) = true\n",
      "my_isequal(maximum_likelihood_observation, first(sequences)) = false\n",
      "my_isequal(maximum_likelihood_observation, first(sequences)) = false\n",
      "my_isequal(maximum_likelihood_observation, first(sequences)) = false\n",
      "my_isequal(maximum_likelihood_observation, first(sequences)) = false\n",
      "my_isequal(maximum_likelihood_observation, first(sequences)) = true\n",
      "my_isequal(maximum_likelihood_observation, first(sequences)) = false\n"
     ]
    }
   ],
   "source": [
    "maximum_likelihood_observations = BioSequences.LongDNASeq[]\n",
    "for observation in observations\n",
    "    if length(observation) >= k\n",
    "        total_bases_evaluated += length(observation)\n",
    "        optimal_path, edit_distance, relative_likelihood = Eisenia.viterbi_maximum_likelihood_path(graph, observation, error_rate)\n",
    "        total_edits_accepted += edit_distance\n",
    "        maximum_likelihood_observation = Eisenia.oriented_path_to_sequence(optimal_path, graph.kmers)\n",
    "        was_equal_before = my_isequal(observation, first(sequences))\n",
    "        if !was_equal_before\n",
    "            @show my_isequal(maximum_likelihood_observation, first(sequences))\n",
    "        end\n",
    "        push!(maximum_likelihood_observations, maximum_likelihood_observation)\n",
    "    end\n",
    "end"
   ]
  },
  {
   "cell_type": "code",
   "execution_count": 24,
   "metadata": {},
   "outputs": [
    {
     "data": {
      "text/plain": [
       "0.08449304174950298"
      ]
     },
     "execution_count": 24,
     "metadata": {},
     "output_type": "execute_result"
    }
   ],
   "source": [
    "total_edits_accepted / total_bases_evaluated"
   ]
  },
  {
   "cell_type": "code",
   "execution_count": 25,
   "metadata": {},
   "outputs": [
    {
     "data": {
      "text/plain": [
       "100-element Array{BioSequences.LongSequence{BioSequences.DNAAlphabet{4}},1}:\n",
       " CCTGGGACGA\n",
       " CCTGGGACGA\n",
       " CCTGGGACGA\n",
       " CGTCCCAGG\n",
       " TCGTCCCAGG\n",
       " CCTGGGACGA\n",
       " CCTGGGACGA\n",
       " CCTGGGACGA\n",
       " CCTGGGACGA\n",
       " TCGTCCCAGG\n",
       " CCTGGGACGA\n",
       " CCTGGGACGA\n",
       " TCGTCCCAGG\n",
       " ⋮\n",
       " TCGTCCCAGG\n",
       " CCTGGGACGA\n",
       " TCGTCCCAGG\n",
       " CCTGGGACGA\n",
       " CGTCCCAGG\n",
       " TCGTCCCAGG\n",
       " TCGTCCCAGG\n",
       " CGTCCCAGG\n",
       " CCTGGGACGA\n",
       " CTGGGACGA\n",
       " CCTGGGACGA\n",
       " TTCGTCCCAGG"
      ]
     },
     "execution_count": 25,
     "metadata": {},
     "output_type": "execute_result"
    }
   ],
   "source": [
    "observations = maximum_likelihood_observations"
   ]
  },
  {
   "cell_type": "code",
   "execution_count": 26,
   "metadata": {},
   "outputs": [
    {
     "data": {
      "image/svg+xml": [
       "<?xml version=\"1.0\" encoding=\"utf-8\"?>\n",
       "<svg xmlns=\"http://www.w3.org/2000/svg\" xmlns:xlink=\"http://www.w3.org/1999/xlink\" width=\"500\" height=\"300\" viewBox=\"0 0 2000 1200\">\n",
       "<defs>\n",
       "  <clipPath id=\"clip180\">\n",
       "    <rect x=\"0\" y=\"0\" width=\"2000\" height=\"1200\"/>\n",
       "  </clipPath>\n",
       "</defs>\n",
       "<path clip-path=\"url(#clip180)\" d=\"\n",
       "M0 1200 L2000 1200 L2000 0 L0 0  Z\n",
       "  \" fill=\"#ffffff\" fill-rule=\"evenodd\" fill-opacity=\"1\"/>\n",
       "<defs>\n",
       "  <clipPath id=\"clip181\">\n",
       "    <rect x=\"400\" y=\"0\" width=\"1401\" height=\"1200\"/>\n",
       "  </clipPath>\n",
       "</defs>\n",
       "<path clip-path=\"url(#clip180)\" d=\"\n",
       "M202.364 1035.39 L1952.76 1035.39 L1952.76 117.424 L202.364 117.424  Z\n",
       "  \" fill=\"#ffffff\" fill-rule=\"evenodd\" fill-opacity=\"1\"/>\n",
       "<defs>\n",
       "  <clipPath id=\"clip182\">\n",
       "    <rect x=\"202\" y=\"117\" width=\"1751\" height=\"919\"/>\n",
       "  </clipPath>\n",
       "</defs>\n",
       "<polyline clip-path=\"url(#clip182)\" style=\"stroke:#000000; stroke-width:2; stroke-opacity:0.1; fill:none\" points=\"\n",
       "  202.364,1035.39 202.364,117.424 \n",
       "  \"/>\n",
       "<polyline clip-path=\"url(#clip182)\" style=\"stroke:#000000; stroke-width:2; stroke-opacity:0.1; fill:none\" points=\"\n",
       "  514.646,1035.39 514.646,117.424 \n",
       "  \"/>\n",
       "<polyline clip-path=\"url(#clip182)\" style=\"stroke:#000000; stroke-width:2; stroke-opacity:0.1; fill:none\" points=\"\n",
       "  826.928,1035.39 826.928,117.424 \n",
       "  \"/>\n",
       "<polyline clip-path=\"url(#clip182)\" style=\"stroke:#000000; stroke-width:2; stroke-opacity:0.1; fill:none\" points=\"\n",
       "  1139.21,1035.39 1139.21,117.424 \n",
       "  \"/>\n",
       "<polyline clip-path=\"url(#clip182)\" style=\"stroke:#000000; stroke-width:2; stroke-opacity:0.1; fill:none\" points=\"\n",
       "  1451.49,1035.39 1451.49,117.424 \n",
       "  \"/>\n",
       "<polyline clip-path=\"url(#clip182)\" style=\"stroke:#000000; stroke-width:2; stroke-opacity:0.1; fill:none\" points=\"\n",
       "  1763.77,1035.39 1763.77,117.424 \n",
       "  \"/>\n",
       "<polyline clip-path=\"url(#clip180)\" style=\"stroke:#000000; stroke-width:4; stroke-opacity:1; fill:none\" points=\"\n",
       "  202.364,1035.39 1952.76,1035.39 \n",
       "  \"/>\n",
       "<polyline clip-path=\"url(#clip180)\" style=\"stroke:#000000; stroke-width:4; stroke-opacity:1; fill:none\" points=\"\n",
       "  202.364,1035.39 202.364,1024.37 \n",
       "  \"/>\n",
       "<polyline clip-path=\"url(#clip180)\" style=\"stroke:#000000; stroke-width:4; stroke-opacity:1; fill:none\" points=\"\n",
       "  514.646,1035.39 514.646,1024.37 \n",
       "  \"/>\n",
       "<polyline clip-path=\"url(#clip180)\" style=\"stroke:#000000; stroke-width:4; stroke-opacity:1; fill:none\" points=\"\n",
       "  826.928,1035.39 826.928,1024.37 \n",
       "  \"/>\n",
       "<polyline clip-path=\"url(#clip180)\" style=\"stroke:#000000; stroke-width:4; stroke-opacity:1; fill:none\" points=\"\n",
       "  1139.21,1035.39 1139.21,1024.37 \n",
       "  \"/>\n",
       "<polyline clip-path=\"url(#clip180)\" style=\"stroke:#000000; stroke-width:4; stroke-opacity:1; fill:none\" points=\"\n",
       "  1451.49,1035.39 1451.49,1024.37 \n",
       "  \"/>\n",
       "<polyline clip-path=\"url(#clip180)\" style=\"stroke:#000000; stroke-width:4; stroke-opacity:1; fill:none\" points=\"\n",
       "  1763.77,1035.39 1763.77,1024.37 \n",
       "  \"/>\n",
       "<path clip-path=\"url(#clip180)\" d=\"M 0 0 M202.364 1061.38 Q198.753 1061.38 196.925 1064.94 Q195.119 1068.48 195.119 1075.61 Q195.119 1082.72 196.925 1086.29 Q198.753 1089.83 202.364 1089.83 Q205.999 1089.83 207.804 1086.29 Q209.633 1082.72 209.633 1075.61 Q209.633 1068.48 207.804 1064.94 Q205.999 1061.38 202.364 1061.38 M202.364 1057.67 Q208.174 1057.67 211.23 1062.28 Q214.309 1066.86 214.309 1075.61 Q214.309 1084.34 211.23 1088.95 Q208.174 1093.53 202.364 1093.53 Q196.554 1093.53 193.475 1088.95 Q190.42 1084.34 190.42 1075.61 Q190.42 1066.86 193.475 1062.28 Q196.554 1057.67 202.364 1057.67 Z\" fill=\"#000000\" fill-rule=\"evenodd\" fill-opacity=\"1\" /><path clip-path=\"url(#clip180)\" d=\"M 0 0 M505.028 1088.92 L512.667 1088.92 L512.667 1062.56 L504.357 1064.23 L504.357 1059.97 L512.62 1058.3 L517.296 1058.3 L517.296 1088.92 L524.935 1088.92 L524.935 1092.86 L505.028 1092.86 L505.028 1088.92 Z\" fill=\"#000000\" fill-rule=\"evenodd\" fill-opacity=\"1\" /><path clip-path=\"url(#clip180)\" d=\"M 0 0 M821.58 1088.92 L837.9 1088.92 L837.9 1092.86 L815.955 1092.86 L815.955 1088.92 Q818.617 1086.17 823.201 1081.54 Q827.807 1076.89 828.988 1075.55 Q831.233 1073.02 832.113 1071.29 Q833.015 1069.53 833.015 1067.84 Q833.015 1065.08 831.071 1063.35 Q829.15 1061.61 826.048 1061.61 Q823.849 1061.61 821.395 1062.37 Q818.965 1063.14 816.187 1064.69 L816.187 1059.97 Q819.011 1058.83 821.465 1058.25 Q823.918 1057.67 825.955 1057.67 Q831.326 1057.67 834.52 1060.36 Q837.715 1063.05 837.715 1067.54 Q837.715 1069.67 836.904 1071.59 Q836.117 1073.48 834.011 1076.08 Q833.432 1076.75 830.33 1079.97 Q827.228 1083.16 821.58 1088.92 Z\" fill=\"#000000\" fill-rule=\"evenodd\" fill-opacity=\"1\" /><path clip-path=\"url(#clip180)\" d=\"M 0 0 M1143.46 1074.23 Q1146.81 1074.94 1148.69 1077.21 Q1150.59 1079.48 1150.59 1082.81 Q1150.59 1087.93 1147.07 1090.73 Q1143.55 1093.53 1137.07 1093.53 Q1134.89 1093.53 1132.58 1093.09 Q1130.29 1092.67 1127.83 1091.82 L1127.83 1087.3 Q1129.78 1088.44 1132.09 1089.02 Q1134.41 1089.6 1136.93 1089.6 Q1141.33 1089.6 1143.62 1087.86 Q1145.93 1086.12 1145.93 1082.81 Q1145.93 1079.76 1143.78 1078.05 Q1141.65 1076.31 1137.83 1076.31 L1133.8 1076.31 L1133.8 1072.47 L1138.02 1072.47 Q1141.47 1072.47 1143.29 1071.1 Q1145.12 1069.71 1145.12 1067.12 Q1145.12 1064.46 1143.23 1063.05 Q1141.35 1061.61 1137.83 1061.61 Q1135.91 1061.61 1133.71 1062.03 Q1131.51 1062.44 1128.87 1063.32 L1128.87 1059.16 Q1131.54 1058.42 1133.85 1058.05 Q1136.19 1057.67 1138.25 1057.67 Q1143.57 1057.67 1146.67 1060.11 Q1149.78 1062.51 1149.78 1066.63 Q1149.78 1069.5 1148.13 1071.49 Q1146.49 1073.46 1143.46 1074.23 Z\" fill=\"#000000\" fill-rule=\"evenodd\" fill-opacity=\"1\" /><path clip-path=\"url(#clip180)\" d=\"M 0 0 M1454.5 1062.37 L1442.69 1080.82 L1454.5 1080.82 L1454.5 1062.37 M1453.27 1058.3 L1459.15 1058.3 L1459.15 1080.82 L1464.08 1080.82 L1464.08 1084.71 L1459.15 1084.71 L1459.15 1092.86 L1454.5 1092.86 L1454.5 1084.71 L1438.9 1084.71 L1438.9 1080.2 L1453.27 1058.3 Z\" fill=\"#000000\" fill-rule=\"evenodd\" fill-opacity=\"1\" /><path clip-path=\"url(#clip180)\" d=\"M 0 0 M1754.05 1058.3 L1772.41 1058.3 L1772.41 1062.24 L1758.33 1062.24 L1758.33 1070.71 Q1759.35 1070.36 1760.37 1070.2 Q1761.39 1070.01 1762.41 1070.01 Q1768.19 1070.01 1771.57 1073.18 Q1774.95 1076.36 1774.95 1081.77 Q1774.95 1087.35 1771.48 1090.45 Q1768.01 1093.53 1761.69 1093.53 Q1759.51 1093.53 1757.24 1093.16 Q1755 1092.79 1752.59 1092.05 L1752.59 1087.35 Q1754.68 1088.48 1756.9 1089.04 Q1759.12 1089.6 1761.6 1089.6 Q1765.6 1089.6 1767.94 1087.49 Q1770.28 1085.38 1770.28 1081.77 Q1770.28 1078.16 1767.94 1076.05 Q1765.6 1073.95 1761.6 1073.95 Q1759.72 1073.95 1757.85 1074.36 Q1755.99 1074.78 1754.05 1075.66 L1754.05 1058.3 Z\" fill=\"#000000\" fill-rule=\"evenodd\" fill-opacity=\"1\" /><path clip-path=\"url(#clip180)\" d=\"M 0 0 M720.89 1114.73 L726.746 1114.73 L726.746 1164.25 L720.89 1164.25 L720.89 1114.73 Z\" fill=\"#000000\" fill-rule=\"evenodd\" fill-opacity=\"1\" /><path clip-path=\"url(#clip180)\" d=\"M 0 0 M746.703 1132.71 Q741.992 1132.71 739.255 1136.4 Q736.517 1140.06 736.517 1146.46 Q736.517 1152.86 739.223 1156.55 Q741.96 1160.21 746.703 1160.21 Q751.381 1160.21 754.119 1156.52 Q756.856 1152.83 756.856 1146.46 Q756.856 1140.13 754.119 1136.43 Q751.381 1132.71 746.703 1132.71 M746.703 1127.74 Q754.341 1127.74 758.702 1132.71 Q763.062 1137.68 763.062 1146.46 Q763.062 1155.21 758.702 1160.21 Q754.341 1165.17 746.703 1165.17 Q739.032 1165.17 734.671 1160.21 Q730.343 1155.21 730.343 1146.46 Q730.343 1137.68 734.671 1132.71 Q739.032 1127.74 746.703 1127.74 Z\" fill=\"#000000\" fill-rule=\"evenodd\" fill-opacity=\"1\" /><path clip-path=\"url(#clip180)\" d=\"M 0 0 M792.663 1146.01 Q792.663 1139.65 790.021 1136.15 Q787.411 1132.65 782.669 1132.65 Q777.958 1132.65 775.316 1136.15 Q772.706 1139.65 772.706 1146.01 Q772.706 1152.35 775.316 1155.85 Q777.958 1159.35 782.669 1159.35 Q787.411 1159.35 790.021 1155.85 Q792.663 1152.35 792.663 1146.01 M798.519 1159.83 Q798.519 1168.93 794.477 1173.35 Q790.435 1177.81 782.096 1177.81 Q779.008 1177.81 776.271 1177.33 Q773.534 1176.89 770.956 1175.93 L770.956 1170.24 Q773.534 1171.64 776.048 1172.3 Q778.563 1172.97 781.173 1172.97 Q786.934 1172.97 789.798 1169.95 Q792.663 1166.96 792.663 1160.88 L792.663 1157.98 Q790.849 1161.13 788.016 1162.69 Q785.183 1164.25 781.236 1164.25 Q774.68 1164.25 770.669 1159.25 Q766.659 1154.26 766.659 1146.01 Q766.659 1137.74 770.669 1132.74 Q774.68 1127.74 781.236 1127.74 Q785.183 1127.74 788.016 1129.3 Q790.849 1130.86 792.663 1134.01 L792.663 1128.6 L798.519 1128.6 L798.519 1159.83 Z\" fill=\"#000000\" fill-rule=\"evenodd\" fill-opacity=\"1\" /><path clip-path=\"url(#clip180)\" d=\"M 0 0 M818.73 1114.79 Q814.465 1122.11 812.397 1129.27 Q810.328 1136.43 810.328 1143.79 Q810.328 1151.14 812.397 1158.36 Q814.497 1165.56 818.73 1172.85 L813.638 1172.85 Q808.864 1165.37 806.476 1158.14 Q804.121 1150.92 804.121 1143.79 Q804.121 1136.69 806.476 1129.5 Q808.832 1122.3 813.638 1114.79 L818.73 1114.79 Z\" fill=\"#000000\" fill-rule=\"evenodd\" fill-opacity=\"1\" /><path clip-path=\"url(#clip180)\" d=\"M 0 0 M838.687 1132.71 Q833.976 1132.71 831.239 1136.4 Q828.502 1140.06 828.502 1146.46 Q828.502 1152.86 831.207 1156.55 Q833.945 1160.21 838.687 1160.21 Q843.366 1160.21 846.103 1156.52 Q848.84 1152.83 848.84 1146.46 Q848.84 1140.13 846.103 1136.43 Q843.366 1132.71 838.687 1132.71 M838.687 1127.74 Q846.326 1127.74 850.686 1132.71 Q855.047 1137.68 855.047 1146.46 Q855.047 1155.21 850.686 1160.21 Q846.326 1165.17 838.687 1165.17 Q831.016 1165.17 826.656 1160.21 Q822.327 1155.21 822.327 1146.46 Q822.327 1137.68 826.656 1132.71 Q831.016 1127.74 838.687 1127.74 Z\" fill=\"#000000\" fill-rule=\"evenodd\" fill-opacity=\"1\" /><path clip-path=\"url(#clip180)\" d=\"M 0 0 M886.78 1146.46 Q886.78 1140 884.106 1136.34 Q881.465 1132.65 876.818 1132.65 Q872.171 1132.65 869.497 1136.34 Q866.855 1140 866.855 1146.46 Q866.855 1152.92 869.497 1156.61 Q872.171 1160.27 876.818 1160.27 Q881.465 1160.27 884.106 1156.61 Q886.78 1152.92 886.78 1146.46 M866.855 1134.01 Q868.701 1130.83 871.502 1129.3 Q874.335 1127.74 878.25 1127.74 Q884.743 1127.74 888.785 1132.9 Q892.859 1138.06 892.859 1146.46 Q892.859 1154.86 888.785 1160.02 Q884.743 1165.17 878.25 1165.17 Q874.335 1165.17 871.502 1163.65 Q868.701 1162.09 866.855 1158.9 L866.855 1164.25 L860.967 1164.25 L860.967 1114.73 L866.855 1114.73 L866.855 1134.01 Z\" fill=\"#000000\" fill-rule=\"evenodd\" fill-opacity=\"1\" /><path clip-path=\"url(#clip180)\" d=\"M 0 0 M921.728 1129.65 L921.728 1135.19 Q919.245 1133.92 916.571 1133.28 Q913.898 1132.65 911.033 1132.65 Q906.673 1132.65 904.477 1133.98 Q902.312 1135.32 902.312 1137.99 Q902.312 1140.03 903.872 1141.21 Q905.431 1142.35 910.142 1143.4 L912.147 1143.85 Q918.386 1145.19 920.996 1147.64 Q923.637 1150.06 923.637 1154.42 Q923.637 1159.38 919.691 1162.28 Q915.776 1165.17 908.901 1165.17 Q906.036 1165.17 902.917 1164.6 Q899.83 1164.06 896.392 1162.95 L896.392 1156.9 Q899.639 1158.59 902.79 1159.45 Q905.941 1160.27 909.028 1160.27 Q913.166 1160.27 915.394 1158.87 Q917.622 1157.44 917.622 1154.86 Q917.622 1152.48 915.998 1151.2 Q914.407 1149.93 908.964 1148.75 L906.927 1148.27 Q901.485 1147.13 899.066 1144.77 Q896.647 1142.39 896.647 1138.25 Q896.647 1133.22 900.212 1130.48 Q903.776 1127.74 910.333 1127.74 Q913.58 1127.74 916.444 1128.22 Q919.309 1128.7 921.728 1129.65 Z\" fill=\"#000000\" fill-rule=\"evenodd\" fill-opacity=\"1\" /><path clip-path=\"url(#clip180)\" d=\"M 0 0 M960.272 1144.96 L960.272 1147.83 L933.345 1147.83 Q933.727 1153.88 936.973 1157.06 Q940.252 1160.21 946.076 1160.21 Q949.45 1160.21 952.601 1159.38 Q955.784 1158.55 958.903 1156.9 L958.903 1162.44 Q955.752 1163.77 952.442 1164.47 Q949.132 1165.17 945.726 1165.17 Q937.196 1165.17 932.199 1160.21 Q927.234 1155.24 927.234 1146.78 Q927.234 1138.03 931.945 1132.9 Q936.687 1127.74 944.708 1127.74 Q951.901 1127.74 956.071 1132.39 Q960.272 1137.01 960.272 1144.96 M954.416 1143.25 Q954.352 1138.44 951.71 1135.57 Q949.1 1132.71 944.771 1132.71 Q939.87 1132.71 936.91 1135.48 Q933.982 1138.25 933.536 1143.28 L954.416 1143.25 Z\" fill=\"#000000\" fill-rule=\"evenodd\" fill-opacity=\"1\" /><path clip-path=\"url(#clip180)\" d=\"M 0 0 M987.072 1134.08 Q986.085 1133.51 984.907 1133.25 Q983.761 1132.96 982.361 1132.96 Q977.396 1132.96 974.722 1136.21 Q972.08 1139.43 972.08 1145.47 L972.08 1164.25 L966.192 1164.25 L966.192 1128.6 L972.08 1128.6 L972.08 1134.14 Q973.926 1130.9 976.886 1129.34 Q979.847 1127.74 984.08 1127.74 Q984.684 1127.74 985.417 1127.84 Q986.149 1127.9 987.04 1128.06 L987.072 1134.08 Z\" fill=\"#000000\" fill-rule=\"evenodd\" fill-opacity=\"1\" /><path clip-path=\"url(#clip180)\" d=\"M 0 0 M989.013 1128.6 L995.22 1128.6 L1006.36 1158.52 L1017.5 1128.6 L1023.71 1128.6 L1010.34 1164.25 L1002.38 1164.25 L989.013 1128.6 Z\" fill=\"#000000\" fill-rule=\"evenodd\" fill-opacity=\"1\" /><path clip-path=\"url(#clip180)\" d=\"M 0 0 M1060.34 1144.96 L1060.34 1147.83 L1033.41 1147.83 Q1033.8 1153.88 1037.04 1157.06 Q1040.32 1160.21 1046.15 1160.21 Q1049.52 1160.21 1052.67 1159.38 Q1055.85 1158.55 1058.97 1156.9 L1058.97 1162.44 Q1055.82 1163.77 1052.51 1164.47 Q1049.2 1165.17 1045.8 1165.17 Q1037.27 1165.17 1032.27 1160.21 Q1027.3 1155.24 1027.3 1146.78 Q1027.3 1138.03 1032.01 1132.9 Q1036.76 1127.74 1044.78 1127.74 Q1051.97 1127.74 1056.14 1132.39 Q1060.34 1137.01 1060.34 1144.96 M1054.48 1143.25 Q1054.42 1138.44 1051.78 1135.57 Q1049.17 1132.71 1044.84 1132.71 Q1039.94 1132.71 1036.98 1135.48 Q1034.05 1138.25 1033.6 1143.28 L1054.48 1143.25 Z\" fill=\"#000000\" fill-rule=\"evenodd\" fill-opacity=\"1\" /><path clip-path=\"url(#clip180)\" d=\"M 0 0 M1089.94 1134.01 L1089.94 1114.73 L1095.8 1114.73 L1095.8 1164.25 L1089.94 1164.25 L1089.94 1158.9 Q1088.1 1162.09 1085.26 1163.65 Q1082.46 1165.17 1078.51 1165.17 Q1072.05 1165.17 1067.98 1160.02 Q1063.94 1154.86 1063.94 1146.46 Q1063.94 1138.06 1067.98 1132.9 Q1072.05 1127.74 1078.51 1127.74 Q1082.46 1127.74 1085.26 1129.3 Q1088.1 1130.83 1089.94 1134.01 M1069.98 1146.46 Q1069.98 1152.92 1072.63 1156.61 Q1075.3 1160.27 1079.95 1160.27 Q1084.59 1160.27 1087.27 1156.61 Q1089.94 1152.92 1089.94 1146.46 Q1089.94 1140 1087.27 1136.34 Q1084.59 1132.65 1079.95 1132.65 Q1075.3 1132.65 1072.63 1136.34 Q1069.98 1140 1069.98 1146.46 Z\" fill=\"#000000\" fill-rule=\"evenodd\" fill-opacity=\"1\" /><path clip-path=\"url(#clip180)\" d=\"M 0 0 M1140.71 1114.73 L1140.71 1119.6 L1135.11 1119.6 Q1131.96 1119.6 1130.71 1120.87 Q1129.5 1122.14 1129.5 1125.45 L1129.5 1128.6 L1139.15 1128.6 L1139.15 1133.16 L1129.5 1133.16 L1129.5 1164.25 L1123.62 1164.25 L1123.62 1133.16 L1118.01 1133.16 L1118.01 1128.6 L1123.62 1128.6 L1123.62 1126.12 Q1123.62 1120.17 1126.39 1117.46 Q1129.15 1114.73 1135.17 1114.73 L1140.71 1114.73 Z\" fill=\"#000000\" fill-rule=\"evenodd\" fill-opacity=\"1\" /><path clip-path=\"url(#clip180)\" d=\"M 0 0 M1167.51 1134.08 Q1166.52 1133.51 1165.34 1133.25 Q1164.2 1132.96 1162.8 1132.96 Q1157.83 1132.96 1155.16 1136.21 Q1152.52 1139.43 1152.52 1145.47 L1152.52 1164.25 L1146.63 1164.25 L1146.63 1128.6 L1152.52 1128.6 L1152.52 1134.14 Q1154.36 1130.9 1157.32 1129.34 Q1160.28 1127.74 1164.52 1127.74 Q1165.12 1127.74 1165.85 1127.84 Q1166.58 1127.9 1167.48 1128.06 L1167.51 1134.08 Z\" fill=\"#000000\" fill-rule=\"evenodd\" fill-opacity=\"1\" /><path clip-path=\"url(#clip180)\" d=\"M 0 0 M1202.71 1144.96 L1202.71 1147.83 L1175.78 1147.83 Q1176.16 1153.88 1179.41 1157.06 Q1182.69 1160.21 1188.51 1160.21 Q1191.89 1160.21 1195.04 1159.38 Q1198.22 1158.55 1201.34 1156.9 L1201.34 1162.44 Q1198.19 1163.77 1194.88 1164.47 Q1191.57 1165.17 1188.16 1165.17 Q1179.63 1165.17 1174.64 1160.21 Q1169.67 1155.24 1169.67 1146.78 Q1169.67 1138.03 1174.38 1132.9 Q1179.12 1127.74 1187.15 1127.74 Q1194.34 1127.74 1198.51 1132.39 Q1202.71 1137.01 1202.71 1144.96 M1196.85 1143.25 Q1196.79 1138.44 1194.15 1135.57 Q1191.54 1132.71 1187.21 1132.71 Q1182.31 1132.71 1179.35 1135.48 Q1176.42 1138.25 1175.97 1143.28 L1196.85 1143.25 Z\" fill=\"#000000\" fill-rule=\"evenodd\" fill-opacity=\"1\" /><path clip-path=\"url(#clip180)\" d=\"M 0 0 M1212.35 1146.46 Q1212.35 1152.92 1215 1156.61 Q1217.67 1160.27 1222.32 1160.27 Q1226.96 1160.27 1229.64 1156.61 Q1232.31 1152.92 1232.31 1146.46 Q1232.31 1140 1229.64 1136.34 Q1226.96 1132.65 1222.32 1132.65 Q1217.67 1132.65 1215 1136.34 Q1212.35 1140 1212.35 1146.46 M1232.31 1158.9 Q1230.46 1162.09 1227.63 1163.65 Q1224.83 1165.17 1220.88 1165.17 Q1214.42 1165.17 1210.35 1160.02 Q1206.31 1154.86 1206.31 1146.46 Q1206.31 1138.06 1210.35 1132.9 Q1214.42 1127.74 1220.88 1127.74 Q1224.83 1127.74 1227.63 1129.3 Q1230.46 1130.83 1232.31 1134.01 L1232.31 1128.6 L1238.17 1128.6 L1238.17 1177.81 L1232.31 1177.81 L1232.31 1158.9 Z\" fill=\"#000000\" fill-rule=\"evenodd\" fill-opacity=\"1\" /><path clip-path=\"url(#clip180)\" d=\"M 0 0 M1243.71 1150.18 L1243.71 1128.6 L1249.56 1128.6 L1249.56 1149.96 Q1249.56 1155.02 1251.53 1157.57 Q1253.51 1160.08 1257.45 1160.08 Q1262.2 1160.08 1264.93 1157.06 Q1267.7 1154.03 1267.7 1148.82 L1267.7 1128.6 L1273.56 1128.6 L1273.56 1164.25 L1267.7 1164.25 L1267.7 1158.78 Q1265.57 1162.02 1262.74 1163.62 Q1259.94 1165.17 1256.21 1165.17 Q1250.07 1165.17 1246.89 1161.36 Q1243.71 1157.54 1243.71 1150.18 M1258.44 1127.74 L1258.44 1127.74 Z\" fill=\"#000000\" fill-rule=\"evenodd\" fill-opacity=\"1\" /><path clip-path=\"url(#clip180)\" d=\"M 0 0 M1310.19 1144.96 L1310.19 1147.83 L1283.27 1147.83 Q1283.65 1153.88 1286.9 1157.06 Q1290.17 1160.21 1296 1160.21 Q1299.37 1160.21 1302.52 1159.38 Q1305.71 1158.55 1308.83 1156.9 L1308.83 1162.44 Q1305.68 1163.77 1302.37 1164.47 Q1299.05 1165.17 1295.65 1165.17 Q1287.12 1165.17 1282.12 1160.21 Q1277.16 1155.24 1277.16 1146.78 Q1277.16 1138.03 1281.87 1132.9 Q1286.61 1127.74 1294.63 1127.74 Q1301.82 1127.74 1305.99 1132.39 Q1310.19 1137.01 1310.19 1144.96 M1304.34 1143.25 Q1304.27 1138.44 1301.63 1135.57 Q1299.02 1132.71 1294.69 1132.71 Q1289.79 1132.71 1286.83 1135.48 Q1283.9 1138.25 1283.46 1143.28 L1304.34 1143.25 Z\" fill=\"#000000\" fill-rule=\"evenodd\" fill-opacity=\"1\" /><path clip-path=\"url(#clip180)\" d=\"M 0 0 M1345.97 1142.74 L1345.97 1164.25 L1340.11 1164.25 L1340.11 1142.93 Q1340.11 1137.87 1338.14 1135.35 Q1336.17 1132.84 1332.22 1132.84 Q1327.48 1132.84 1324.74 1135.86 Q1322 1138.88 1322 1144.1 L1322 1164.25 L1316.11 1164.25 L1316.11 1128.6 L1322 1128.6 L1322 1134.14 Q1324.1 1130.93 1326.94 1129.34 Q1329.8 1127.74 1333.53 1127.74 Q1339.67 1127.74 1342.82 1131.56 Q1345.97 1135.35 1345.97 1142.74 Z\" fill=\"#000000\" fill-rule=\"evenodd\" fill-opacity=\"1\" /><path clip-path=\"url(#clip180)\" d=\"M 0 0 M1377.77 1129.97 L1377.77 1135.45 Q1375.28 1134.08 1372.77 1133.41 Q1370.29 1132.71 1367.74 1132.71 Q1362.04 1132.71 1358.89 1136.34 Q1355.74 1139.93 1355.74 1146.46 Q1355.74 1152.98 1358.89 1156.61 Q1362.04 1160.21 1367.74 1160.21 Q1370.29 1160.21 1372.77 1159.54 Q1375.28 1158.84 1377.77 1157.47 L1377.77 1162.88 Q1375.32 1164.03 1372.67 1164.6 Q1370.06 1165.17 1367.1 1165.17 Q1359.05 1165.17 1354.31 1160.11 Q1349.57 1155.05 1349.57 1146.46 Q1349.57 1137.74 1354.34 1132.74 Q1359.15 1127.74 1367.49 1127.74 Q1370.19 1127.74 1372.77 1128.32 Q1375.35 1128.86 1377.77 1129.97 Z\" fill=\"#000000\" fill-rule=\"evenodd\" fill-opacity=\"1\" /><path clip-path=\"url(#clip180)\" d=\"M 0 0 M1398.74 1167.56 Q1396.26 1173.93 1393.9 1175.87 Q1391.55 1177.81 1387.6 1177.81 L1382.92 1177.81 L1382.92 1172.91 L1386.36 1172.91 Q1388.78 1172.91 1390.12 1171.76 Q1391.45 1170.62 1393.08 1166.35 L1394.13 1163.68 L1379.71 1128.6 L1385.91 1128.6 L1397.05 1156.49 L1408.19 1128.6 L1414.4 1128.6 L1398.74 1167.56 Z\" fill=\"#000000\" fill-rule=\"evenodd\" fill-opacity=\"1\" /><path clip-path=\"url(#clip180)\" d=\"M 0 0 M1419.62 1114.79 L1424.71 1114.79 Q1429.49 1122.3 1431.84 1129.5 Q1434.23 1136.69 1434.23 1143.79 Q1434.23 1150.92 1431.84 1158.14 Q1429.49 1165.37 1424.71 1172.85 L1419.62 1172.85 Q1423.85 1165.56 1425.92 1158.36 Q1428.02 1151.14 1428.02 1143.79 Q1428.02 1136.43 1425.92 1129.27 Q1423.85 1122.11 1419.62 1114.79 Z\" fill=\"#000000\" fill-rule=\"evenodd\" fill-opacity=\"1\" /><polyline clip-path=\"url(#clip182)\" style=\"stroke:#000000; stroke-width:2; stroke-opacity:0.1; fill:none\" points=\"\n",
       "  202.364,1035.39 1952.76,1035.39 \n",
       "  \"/>\n",
       "<polyline clip-path=\"url(#clip182)\" style=\"stroke:#000000; stroke-width:2; stroke-opacity:0.1; fill:none\" points=\"\n",
       "  202.364,870.982 1952.76,870.982 \n",
       "  \"/>\n",
       "<polyline clip-path=\"url(#clip182)\" style=\"stroke:#000000; stroke-width:2; stroke-opacity:0.1; fill:none\" points=\"\n",
       "  202.364,706.576 1952.76,706.576 \n",
       "  \"/>\n",
       "<polyline clip-path=\"url(#clip182)\" style=\"stroke:#000000; stroke-width:2; stroke-opacity:0.1; fill:none\" points=\"\n",
       "  202.364,542.17 1952.76,542.17 \n",
       "  \"/>\n",
       "<polyline clip-path=\"url(#clip182)\" style=\"stroke:#000000; stroke-width:2; stroke-opacity:0.1; fill:none\" points=\"\n",
       "  202.364,377.764 1952.76,377.764 \n",
       "  \"/>\n",
       "<polyline clip-path=\"url(#clip182)\" style=\"stroke:#000000; stroke-width:2; stroke-opacity:0.1; fill:none\" points=\"\n",
       "  202.364,213.358 1952.76,213.358 \n",
       "  \"/>\n",
       "<polyline clip-path=\"url(#clip180)\" style=\"stroke:#000000; stroke-width:4; stroke-opacity:1; fill:none\" points=\"\n",
       "  202.364,1035.39 202.364,117.424 \n",
       "  \"/>\n",
       "<polyline clip-path=\"url(#clip180)\" style=\"stroke:#000000; stroke-width:4; stroke-opacity:1; fill:none\" points=\"\n",
       "  202.364,1035.39 223.369,1035.39 \n",
       "  \"/>\n",
       "<polyline clip-path=\"url(#clip180)\" style=\"stroke:#000000; stroke-width:4; stroke-opacity:1; fill:none\" points=\"\n",
       "  202.364,870.982 223.369,870.982 \n",
       "  \"/>\n",
       "<polyline clip-path=\"url(#clip180)\" style=\"stroke:#000000; stroke-width:4; stroke-opacity:1; fill:none\" points=\"\n",
       "  202.364,706.576 223.369,706.576 \n",
       "  \"/>\n",
       "<polyline clip-path=\"url(#clip180)\" style=\"stroke:#000000; stroke-width:4; stroke-opacity:1; fill:none\" points=\"\n",
       "  202.364,542.17 223.369,542.17 \n",
       "  \"/>\n",
       "<polyline clip-path=\"url(#clip180)\" style=\"stroke:#000000; stroke-width:4; stroke-opacity:1; fill:none\" points=\"\n",
       "  202.364,377.764 223.369,377.764 \n",
       "  \"/>\n",
       "<polyline clip-path=\"url(#clip180)\" style=\"stroke:#000000; stroke-width:4; stroke-opacity:1; fill:none\" points=\"\n",
       "  202.364,213.358 223.369,213.358 \n",
       "  \"/>\n",
       "<path clip-path=\"url(#clip180)\" d=\"M 0 0 M123.453 1021.19 Q119.841 1021.19 118.013 1024.75 Q116.207 1028.29 116.207 1035.42 Q116.207 1042.53 118.013 1046.09 Q119.841 1049.64 123.453 1049.64 Q127.087 1049.64 128.892 1046.09 Q130.721 1042.53 130.721 1035.42 Q130.721 1028.29 128.892 1024.75 Q127.087 1021.19 123.453 1021.19 M123.453 1017.48 Q129.263 1017.48 132.318 1022.09 Q135.397 1026.67 135.397 1035.42 Q135.397 1044.15 132.318 1048.76 Q129.263 1053.34 123.453 1053.34 Q117.642 1053.34 114.564 1048.76 Q111.508 1044.15 111.508 1035.42 Q111.508 1026.67 114.564 1022.09 Q117.642 1017.48 123.453 1017.48 Z\" fill=\"#000000\" fill-rule=\"evenodd\" fill-opacity=\"1\" /><path clip-path=\"url(#clip180)\" d=\"M 0 0 M140.466 1046.79 L145.351 1046.79 L145.351 1052.67 L140.466 1052.67 L140.466 1046.79 Z\" fill=\"#000000\" fill-rule=\"evenodd\" fill-opacity=\"1\" /><path clip-path=\"url(#clip180)\" d=\"M 0 0 M160.42 1021.19 Q156.809 1021.19 154.98 1024.75 Q153.175 1028.29 153.175 1035.42 Q153.175 1042.53 154.98 1046.09 Q156.809 1049.64 160.42 1049.64 Q164.054 1049.64 165.86 1046.09 Q167.688 1042.53 167.688 1035.42 Q167.688 1028.29 165.86 1024.75 Q164.054 1021.19 160.42 1021.19 M160.42 1017.48 Q166.23 1017.48 169.286 1022.09 Q172.364 1026.67 172.364 1035.42 Q172.364 1044.15 169.286 1048.76 Q166.23 1053.34 160.42 1053.34 Q154.61 1053.34 151.531 1048.76 Q148.476 1044.15 148.476 1035.42 Q148.476 1026.67 151.531 1022.09 Q154.61 1017.48 160.42 1017.48 Z\" fill=\"#000000\" fill-rule=\"evenodd\" fill-opacity=\"1\" /><path clip-path=\"url(#clip180)\" d=\"M 0 0 M124.448 856.781 Q120.837 856.781 119.008 860.345 Q117.203 863.887 117.203 871.017 Q117.203 878.123 119.008 881.688 Q120.837 885.23 124.448 885.23 Q128.082 885.23 129.888 881.688 Q131.716 878.123 131.716 871.017 Q131.716 863.887 129.888 860.345 Q128.082 856.781 124.448 856.781 M124.448 853.077 Q130.258 853.077 133.314 857.683 Q136.392 862.267 136.392 871.017 Q136.392 879.743 133.314 884.35 Q130.258 888.933 124.448 888.933 Q118.638 888.933 115.559 884.35 Q112.504 879.743 112.504 871.017 Q112.504 862.267 115.559 857.683 Q118.638 853.077 124.448 853.077 Z\" fill=\"#000000\" fill-rule=\"evenodd\" fill-opacity=\"1\" /><path clip-path=\"url(#clip180)\" d=\"M 0 0 M141.462 882.382 L146.346 882.382 L146.346 888.262 L141.462 888.262 L141.462 882.382 Z\" fill=\"#000000\" fill-rule=\"evenodd\" fill-opacity=\"1\" /><path clip-path=\"url(#clip180)\" d=\"M 0 0 M151.462 853.702 L169.818 853.702 L169.818 857.637 L155.744 857.637 L155.744 866.109 Q156.763 865.762 157.781 865.6 Q158.8 865.415 159.818 865.415 Q165.605 865.415 168.985 868.586 Q172.364 871.757 172.364 877.174 Q172.364 882.753 168.892 885.855 Q165.42 888.933 159.1 888.933 Q156.925 888.933 154.656 888.563 Q152.411 888.192 150.003 887.452 L150.003 882.753 Q152.087 883.887 154.309 884.442 Q156.531 884.998 159.008 884.998 Q163.013 884.998 165.35 882.892 Q167.688 880.785 167.688 877.174 Q167.688 873.563 165.35 871.456 Q163.013 869.35 159.008 869.35 Q157.133 869.35 155.258 869.767 Q153.406 870.183 151.462 871.063 L151.462 853.702 Z\" fill=\"#000000\" fill-rule=\"evenodd\" fill-opacity=\"1\" /><path clip-path=\"url(#clip180)\" d=\"M 0 0 M115.49 719.921 L123.128 719.921 L123.128 693.555 L114.818 695.222 L114.818 690.963 L123.082 689.296 L127.758 689.296 L127.758 719.921 L135.397 719.921 L135.397 723.856 L115.49 723.856 L115.49 719.921 Z\" fill=\"#000000\" fill-rule=\"evenodd\" fill-opacity=\"1\" /><path clip-path=\"url(#clip180)\" d=\"M 0 0 M140.466 717.976 L145.351 717.976 L145.351 723.856 L140.466 723.856 L140.466 717.976 Z\" fill=\"#000000\" fill-rule=\"evenodd\" fill-opacity=\"1\" /><path clip-path=\"url(#clip180)\" d=\"M 0 0 M160.42 692.375 Q156.809 692.375 154.98 695.939 Q153.175 699.481 153.175 706.611 Q153.175 713.717 154.98 717.282 Q156.809 720.824 160.42 720.824 Q164.054 720.824 165.86 717.282 Q167.688 713.717 167.688 706.611 Q167.688 699.481 165.86 695.939 Q164.054 692.375 160.42 692.375 M160.42 688.671 Q166.23 688.671 169.286 693.277 Q172.364 697.861 172.364 706.611 Q172.364 715.337 169.286 719.944 Q166.23 724.527 160.42 724.527 Q154.61 724.527 151.531 719.944 Q148.476 715.337 148.476 706.611 Q148.476 697.861 151.531 693.277 Q154.61 688.671 160.42 688.671 Z\" fill=\"#000000\" fill-rule=\"evenodd\" fill-opacity=\"1\" /><path clip-path=\"url(#clip180)\" d=\"M 0 0 M116.485 555.515 L124.124 555.515 L124.124 529.149 L115.814 530.816 L115.814 526.557 L124.078 524.89 L128.753 524.89 L128.753 555.515 L136.392 555.515 L136.392 559.45 L116.485 559.45 L116.485 555.515 Z\" fill=\"#000000\" fill-rule=\"evenodd\" fill-opacity=\"1\" /><path clip-path=\"url(#clip180)\" d=\"M 0 0 M141.462 553.57 L146.346 553.57 L146.346 559.45 L141.462 559.45 L141.462 553.57 Z\" fill=\"#000000\" fill-rule=\"evenodd\" fill-opacity=\"1\" /><path clip-path=\"url(#clip180)\" d=\"M 0 0 M151.462 524.89 L169.818 524.89 L169.818 528.825 L155.744 528.825 L155.744 537.297 Q156.763 536.95 157.781 536.788 Q158.8 536.603 159.818 536.603 Q165.605 536.603 168.985 539.774 Q172.364 542.945 172.364 548.362 Q172.364 553.941 168.892 557.043 Q165.42 560.121 159.1 560.121 Q156.925 560.121 154.656 559.751 Q152.411 559.381 150.003 558.64 L150.003 553.941 Q152.087 555.075 154.309 555.631 Q156.531 556.186 159.008 556.186 Q163.013 556.186 165.35 554.08 Q167.688 551.973 167.688 548.362 Q167.688 544.751 165.35 542.645 Q163.013 540.538 159.008 540.538 Q157.133 540.538 155.258 540.955 Q153.406 541.371 151.462 542.251 L151.462 524.89 Z\" fill=\"#000000\" fill-rule=\"evenodd\" fill-opacity=\"1\" /><path clip-path=\"url(#clip180)\" d=\"M 0 0 M119.078 391.109 L135.397 391.109 L135.397 395.044 L113.453 395.044 L113.453 391.109 Q116.115 388.354 120.698 383.725 Q125.304 379.072 126.485 377.729 Q128.73 375.206 129.61 373.47 Q130.513 371.711 130.513 370.021 Q130.513 367.266 128.568 365.53 Q126.647 363.794 123.545 363.794 Q121.346 363.794 118.892 364.558 Q116.462 365.322 113.684 366.873 L113.684 362.151 Q116.508 361.016 118.962 360.438 Q121.416 359.859 123.453 359.859 Q128.823 359.859 132.017 362.544 Q135.212 365.229 135.212 369.72 Q135.212 371.85 134.402 373.771 Q133.615 375.669 131.508 378.262 Q130.929 378.933 127.828 382.151 Q124.726 385.345 119.078 391.109 Z\" fill=\"#000000\" fill-rule=\"evenodd\" fill-opacity=\"1\" /><path clip-path=\"url(#clip180)\" d=\"M 0 0 M140.466 389.164 L145.351 389.164 L145.351 395.044 L140.466 395.044 L140.466 389.164 Z\" fill=\"#000000\" fill-rule=\"evenodd\" fill-opacity=\"1\" /><path clip-path=\"url(#clip180)\" d=\"M 0 0 M160.42 363.563 Q156.809 363.563 154.98 367.128 Q153.175 370.669 153.175 377.799 Q153.175 384.905 154.98 388.47 Q156.809 392.012 160.42 392.012 Q164.054 392.012 165.86 388.47 Q167.688 384.905 167.688 377.799 Q167.688 370.669 165.86 367.128 Q164.054 363.563 160.42 363.563 M160.42 359.859 Q166.23 359.859 169.286 364.466 Q172.364 369.049 172.364 377.799 Q172.364 386.526 169.286 391.132 Q166.23 395.715 160.42 395.715 Q154.61 395.715 151.531 391.132 Q148.476 386.526 148.476 377.799 Q148.476 369.049 151.531 364.466 Q154.61 359.859 160.42 359.859 Z\" fill=\"#000000\" fill-rule=\"evenodd\" fill-opacity=\"1\" /><path clip-path=\"url(#clip180)\" d=\"M 0 0 M120.073 226.703 L136.392 226.703 L136.392 230.638 L114.448 230.638 L114.448 226.703 Q117.11 223.948 121.693 219.319 Q126.3 214.666 127.48 213.323 Q129.726 210.8 130.605 209.064 Q131.508 207.305 131.508 205.615 Q131.508 202.86 129.564 201.124 Q127.642 199.388 124.54 199.388 Q122.341 199.388 119.888 200.152 Q117.457 200.916 114.679 202.467 L114.679 197.745 Q117.503 196.611 119.957 196.032 Q122.411 195.453 124.448 195.453 Q129.818 195.453 133.013 198.138 Q136.207 200.823 136.207 205.314 Q136.207 207.444 135.397 209.365 Q134.61 211.263 132.503 213.856 Q131.925 214.527 128.823 217.745 Q125.721 220.939 120.073 226.703 Z\" fill=\"#000000\" fill-rule=\"evenodd\" fill-opacity=\"1\" /><path clip-path=\"url(#clip180)\" d=\"M 0 0 M141.462 224.759 L146.346 224.759 L146.346 230.638 L141.462 230.638 L141.462 224.759 Z\" fill=\"#000000\" fill-rule=\"evenodd\" fill-opacity=\"1\" /><path clip-path=\"url(#clip180)\" d=\"M 0 0 M151.462 196.078 L169.818 196.078 L169.818 200.013 L155.744 200.013 L155.744 208.485 Q156.763 208.138 157.781 207.976 Q158.8 207.791 159.818 207.791 Q165.605 207.791 168.985 210.962 Q172.364 214.134 172.364 219.55 Q172.364 225.129 168.892 228.231 Q165.42 231.309 159.1 231.309 Q156.925 231.309 154.656 230.939 Q152.411 230.569 150.003 229.828 L150.003 225.129 Q152.087 226.263 154.309 226.819 Q156.531 227.374 159.008 227.374 Q163.013 227.374 165.35 225.268 Q167.688 223.161 167.688 219.55 Q167.688 215.939 165.35 213.833 Q163.013 211.726 159.008 211.726 Q157.133 211.726 155.258 212.143 Q153.406 212.56 151.462 213.439 L151.462 196.078 Z\" fill=\"#000000\" fill-rule=\"evenodd\" fill-opacity=\"1\" /><path clip-path=\"url(#clip180)\" d=\"M 0 0 M37.727 805.89 L37.727 800.033 L87.2522 800.033 L87.2522 805.89 L37.727 805.89 Z\" fill=\"#000000\" fill-rule=\"evenodd\" fill-opacity=\"1\" /><path clip-path=\"url(#clip180)\" d=\"M 0 0 M55.7101 780.077 Q55.7101 784.787 59.4022 787.525 Q63.0625 790.262 69.46 790.262 Q75.8575 790.262 79.5497 787.556 Q83.2099 784.819 83.2099 780.077 Q83.2099 775.398 79.5178 772.661 Q75.8257 769.923 69.46 769.923 Q63.1261 769.923 59.434 772.661 Q55.7101 775.398 55.7101 780.077 M50.7448 780.077 Q50.7448 772.438 55.7101 768.077 Q60.6753 763.717 69.46 763.717 Q78.2129 763.717 83.2099 768.077 Q88.1752 772.438 88.1752 780.077 Q88.1752 787.747 83.2099 792.108 Q78.2129 796.437 69.46 796.437 Q60.6753 796.437 55.7101 792.108 Q50.7448 787.747 50.7448 780.077 Z\" fill=\"#000000\" fill-rule=\"evenodd\" fill-opacity=\"1\" /><path clip-path=\"url(#clip180)\" d=\"M 0 0 M69.0144 734.116 Q62.6487 734.116 59.1476 736.758 Q55.6464 739.368 55.6464 744.111 Q55.6464 748.821 59.1476 751.463 Q62.6487 754.073 69.0144 754.073 Q75.3483 754.073 78.8494 751.463 Q82.3506 748.821 82.3506 744.111 Q82.3506 739.368 78.8494 736.758 Q75.3483 734.116 69.0144 734.116 M82.828 728.26 Q91.931 728.26 96.3551 732.302 Q100.811 736.344 100.811 744.683 Q100.811 747.771 100.334 750.508 Q99.8881 753.245 98.9332 755.823 L93.2359 755.823 Q94.6364 753.245 95.3048 750.731 Q95.9732 748.216 95.9732 745.606 Q95.9732 739.846 92.9495 736.981 Q89.9576 734.116 83.8783 734.116 L80.9819 734.116 Q84.133 735.931 85.6926 738.763 Q87.2522 741.596 87.2522 745.543 Q87.2522 752.099 82.2551 756.11 Q77.258 760.12 69.0144 760.12 Q60.739 760.12 55.7419 756.11 Q50.7448 752.099 50.7448 745.543 Q50.7448 741.596 52.3044 738.763 Q53.864 735.931 57.0151 734.116 L51.6042 734.116 L51.6042 728.26 L82.828 728.26 Z\" fill=\"#000000\" fill-rule=\"evenodd\" fill-opacity=\"1\" /><path clip-path=\"url(#clip180)\" d=\"M 0 0 M37.7906 708.049 Q45.1112 712.314 52.2726 714.383 Q59.434 716.452 66.7864 716.452 Q74.1388 716.452 81.3639 714.383 Q88.5571 712.282 95.8459 708.049 L95.8459 713.141 Q88.3662 717.916 81.1411 720.303 Q73.916 722.658 66.7864 722.658 Q59.6886 722.658 52.4954 720.303 Q45.3022 717.947 37.7906 713.141 L37.7906 708.049 Z\" fill=\"#000000\" fill-rule=\"evenodd\" fill-opacity=\"1\" /><path clip-path=\"url(#clip180)\" d=\"M 0 0 M58.5746 674.724 L58.5746 683.986 L69.2054 686.66 L69.2054 677.334 L58.5746 674.724 M40.4642 679.499 L53.6731 682.809 L53.6731 673.515 L40.4642 670.173 L40.4642 665.08 L53.6731 668.359 L53.6731 658.428 L58.5746 658.428 L58.5746 669.6 L69.2054 672.21 L69.2054 662.088 L74.0751 662.088 L74.0751 673.451 L87.2522 676.761 L87.2522 681.854 L74.0751 678.576 L74.0751 687.901 L87.2522 691.18 L87.2522 696.304 L74.0751 692.994 L74.0751 703.02 L69.2054 703.02 L69.2054 691.816 L58.5746 689.143 L58.5746 699.391 L53.6731 699.391 L53.6731 687.901 L40.4642 684.655 L40.4642 679.499 Z\" fill=\"#000000\" fill-rule=\"evenodd\" fill-opacity=\"1\" /><path clip-path=\"url(#clip180)\" d=\"M 0 0 M55.7101 617.751 Q55.7101 622.462 59.4022 625.199 Q63.0625 627.936 69.46 627.936 Q75.8575 627.936 79.5497 625.231 Q83.2099 622.494 83.2099 617.751 Q83.2099 613.072 79.5178 610.335 Q75.8257 607.598 69.46 607.598 Q63.1261 607.598 59.434 610.335 Q55.7101 613.072 55.7101 617.751 M50.7448 617.751 Q50.7448 610.112 55.7101 605.752 Q60.6753 601.391 69.46 601.391 Q78.2129 601.391 83.2099 605.752 Q88.1752 610.112 88.1752 617.751 Q88.1752 625.422 83.2099 629.782 Q78.2129 634.111 69.46 634.111 Q60.6753 634.111 55.7101 629.782 Q50.7448 625.422 50.7448 617.751 Z\" fill=\"#000000\" fill-rule=\"evenodd\" fill-opacity=\"1\" /><path clip-path=\"url(#clip180)\" d=\"M 0 0 M37.727 577.202 L42.5967 577.202 L42.5967 582.804 Q42.5967 585.955 43.8699 587.196 Q45.143 588.405 48.4532 588.405 L51.6042 588.405 L51.6042 578.761 L56.1557 578.761 L56.1557 588.405 L87.2522 588.405 L87.2522 594.294 L56.1557 594.294 L56.1557 599.895 L51.6042 599.895 L51.6042 594.294 L49.1216 594.294 Q43.1696 594.294 40.4642 591.525 Q37.727 588.755 37.727 582.74 L37.727 577.202 Z\" fill=\"#000000\" fill-rule=\"evenodd\" fill-opacity=\"1\" /><path clip-path=\"url(#clip180)\" d=\"M 0 0 M37.727 550.561 L37.727 544.673 L66.9774 544.673 L51.6042 527.199 L51.6042 519.719 L68.2824 538.626 L87.2522 518.924 L87.2522 526.563 L69.8419 544.673 L87.2522 544.673 L87.2522 550.561 L37.727 550.561 Z\" fill=\"#000000\" fill-rule=\"evenodd\" fill-opacity=\"1\" /><path clip-path=\"url(#clip180)\" d=\"M 0 0 M58.4473 485.026 Q54.5006 482.83 52.6227 479.775 Q50.7448 476.719 50.7448 472.581 Q50.7448 467.011 54.6597 463.988 Q58.5428 460.964 65.7361 460.964 L87.2522 460.964 L87.2522 466.852 L65.927 466.852 Q60.8026 466.852 58.32 468.666 Q55.8374 470.481 55.8374 474.205 Q55.8374 478.756 58.8611 481.398 Q61.8848 484.04 67.1047 484.04 L87.2522 484.04 L87.2522 489.928 L65.927 489.928 Q60.7708 489.928 58.32 491.742 Q55.8374 493.556 55.8374 497.344 Q55.8374 501.832 58.8929 504.473 Q61.9166 507.115 67.1047 507.115 L87.2522 507.115 L87.2522 513.004 L51.6042 513.004 L51.6042 507.115 L57.1424 507.115 Q53.864 505.11 52.3044 502.309 Q50.7448 499.508 50.7448 495.657 Q50.7448 491.774 52.7182 489.068 Q54.6916 486.331 58.4473 485.026 Z\" fill=\"#000000\" fill-rule=\"evenodd\" fill-opacity=\"1\" /><path clip-path=\"url(#clip180)\" d=\"M 0 0 M67.9641 424.329 L70.8286 424.329 L70.8286 451.256 Q76.8761 450.874 80.0589 447.628 Q83.2099 444.349 83.2099 438.525 Q83.2099 435.151 82.3824 432 Q81.5549 428.817 79.8998 425.698 L85.4379 425.698 Q86.7747 428.849 87.475 432.159 Q88.1752 435.469 88.1752 438.875 Q88.1752 447.405 83.2099 452.402 Q78.2447 457.367 69.7783 457.367 Q61.0254 457.367 55.9011 452.657 Q50.7448 447.914 50.7448 439.893 Q50.7448 432.7 55.3918 428.531 Q60.0069 424.329 67.9641 424.329 M66.2453 430.186 Q61.4392 430.249 58.5746 432.891 Q55.7101 435.501 55.7101 439.83 Q55.7101 444.731 58.4792 447.691 Q61.2482 450.62 66.2772 451.065 L66.2453 430.186 Z\" fill=\"#000000\" fill-rule=\"evenodd\" fill-opacity=\"1\" /><path clip-path=\"url(#clip180)\" d=\"M 0 0 M57.0787 397.53 Q56.5058 398.516 56.2512 399.694 Q55.9647 400.84 55.9647 402.24 Q55.9647 407.206 59.2112 409.879 Q62.4259 412.521 68.4733 412.521 L87.2522 412.521 L87.2522 418.409 L51.6042 418.409 L51.6042 412.521 L57.1424 412.521 Q53.8959 410.675 52.3363 407.715 Q50.7448 404.755 50.7448 400.522 Q50.7448 399.917 50.8403 399.185 Q50.904 398.453 51.0631 397.561 L57.0787 397.53 Z\" fill=\"#000000\" fill-rule=\"evenodd\" fill-opacity=\"1\" /><path clip-path=\"url(#clip180)\" d=\"M 0 0 M52.6545 368.661 L58.1927 368.661 Q56.9196 371.144 56.283 373.817 Q55.6464 376.491 55.6464 379.356 Q55.6464 383.716 56.9832 385.912 Q58.32 388.077 60.9936 388.077 Q63.0306 388.077 64.2083 386.517 Q65.3541 384.957 66.4045 380.247 L66.8501 378.242 Q68.1869 372.003 70.6377 369.393 Q73.0566 366.751 77.4171 366.751 Q82.3824 366.751 85.2788 370.698 Q88.1752 374.613 88.1752 381.488 Q88.1752 384.353 87.6023 387.472 Q87.0612 390.559 85.9472 393.997 L79.8998 393.997 Q81.5867 390.75 82.446 387.599 Q83.2736 384.448 83.2736 381.361 Q83.2736 377.223 81.8731 374.995 Q80.4409 372.767 77.8627 372.767 Q75.4756 372.767 74.2025 374.39 Q72.9293 375.982 71.7517 381.424 L71.2742 383.461 Q70.1284 388.904 67.7731 391.323 Q65.386 393.742 61.2482 393.742 Q56.2193 393.742 53.4821 390.177 Q50.7448 386.612 50.7448 380.056 Q50.7448 376.809 51.2223 373.945 Q51.6997 371.08 52.6545 368.661 Z\" fill=\"#000000\" fill-rule=\"evenodd\" fill-opacity=\"1\" /><path clip-path=\"url(#clip180)\" d=\"M 0 0 M37.7906 361.532 L37.7906 356.439 Q45.3022 351.665 52.4954 349.309 Q59.6886 346.922 66.7864 346.922 Q73.916 346.922 81.1411 349.309 Q88.3662 351.665 95.8459 356.439 L95.8459 361.532 Q88.5571 357.298 81.3639 355.23 Q74.1388 353.129 66.7864 353.129 Q59.434 353.129 52.2726 355.23 Q45.1112 357.298 37.7906 361.532 Z\" fill=\"#000000\" fill-rule=\"evenodd\" fill-opacity=\"1\" /><path clip-path=\"url(#clip180)\" d=\"M 0 0 M977.624 9.54393 L985.118 9.54393 L985.118 46.7717 L1007.36 27.2059 L1016.88 27.2059 L992.815 48.4326 L1017.89 72.576 L1008.17 72.576 L985.118 50.4176 L985.118 72.576 L977.624 72.576 L977.624 9.54393 Z\" fill=\"#000000\" fill-rule=\"evenodd\" fill-opacity=\"1\" /><path clip-path=\"url(#clip180)\" d=\"M 0 0 M1053.05 34.9026 L1104.98 34.9026 L1104.98 41.7081 L1053.05 41.7081 L1053.05 34.9026 M1053.05 51.4303 L1104.98 51.4303 L1104.98 58.3168 L1053.05 58.3168 L1053.05 51.4303 Z\" fill=\"#000000\" fill-rule=\"evenodd\" fill-opacity=\"1\" /><path clip-path=\"url(#clip180)\" d=\"M 0 0 M1165.02 39.9662 Q1170.89 41.222 1174.17 45.1919 Q1177.5 49.1618 1177.5 54.9951 Q1177.5 63.9476 1171.34 68.8492 Q1165.18 73.7508 1153.84 73.7508 Q1150.03 73.7508 1145.98 72.9811 Q1141.97 72.2519 1137.68 70.7531 L1137.68 62.8538 Q1141.08 64.8388 1145.13 65.8515 Q1149.18 66.8642 1153.6 66.8642 Q1161.29 66.8642 1165.3 63.826 Q1169.35 60.7879 1169.35 54.9951 Q1169.35 49.6479 1165.59 46.6502 Q1161.86 43.612 1155.18 43.612 L1148.13 43.612 L1148.13 36.8875 L1155.5 36.8875 Q1161.54 36.8875 1164.74 34.4975 Q1167.94 32.067 1167.94 27.5299 Q1167.94 22.8714 1164.61 20.4004 Q1161.33 17.8888 1155.18 17.8888 Q1151.81 17.8888 1147.96 18.618 Q1144.12 19.3471 1139.5 20.8865 L1139.5 13.5948 Q1144.16 12.2985 1148.21 11.6504 Q1152.3 11.0023 1155.9 11.0023 Q1165.22 11.0023 1170.65 15.2557 Q1176.08 19.4686 1176.08 26.6793 Q1176.08 31.7024 1173.2 35.1862 Q1170.33 38.6294 1165.02 39.9662 Z\" fill=\"#000000\" fill-rule=\"evenodd\" fill-opacity=\"1\" /><circle clip-path=\"url(#clip182)\" cx=\"1640.47\" cy=\"446.236\" r=\"14\" fill=\"#009af9\" fill-rule=\"evenodd\" fill-opacity=\"1\" stroke=\"#000000\" stroke-opacity=\"1\" stroke-width=\"2.4\"/>\n",
       "<circle clip-path=\"url(#clip182)\" cx=\"418.821\" cy=\"1035.39\" r=\"14\" fill=\"#009af9\" fill-rule=\"evenodd\" fill-opacity=\"1\" stroke=\"#000000\" stroke-opacity=\"1\" stroke-width=\"2.4\"/>\n",
       "<circle clip-path=\"url(#clip182)\" cx=\"545.441\" cy=\"1035.39\" r=\"14\" fill=\"#009af9\" fill-rule=\"evenodd\" fill-opacity=\"1\" stroke=\"#000000\" stroke-opacity=\"1\" stroke-width=\"2.4\"/>\n",
       "<circle clip-path=\"url(#clip182)\" cx=\"1621.15\" cy=\"1035.39\" r=\"14\" fill=\"#009af9\" fill-rule=\"evenodd\" fill-opacity=\"1\" stroke=\"#000000\" stroke-opacity=\"1\" stroke-width=\"2.4\"/>\n",
       "<circle clip-path=\"url(#clip182)\" cx=\"1611.02\" cy=\"1035.39\" r=\"14\" fill=\"#009af9\" fill-rule=\"evenodd\" fill-opacity=\"1\" stroke=\"#000000\" stroke-opacity=\"1\" stroke-width=\"2.4\"/>\n",
       "</svg>\n"
      ]
     },
     "metadata": {},
     "output_type": "display_data"
    },
    {
     "data": {
      "image/svg+xml": [
       "<?xml version=\"1.0\" encoding=\"utf-8\"?>\n",
       "<svg xmlns=\"http://www.w3.org/2000/svg\" xmlns:xlink=\"http://www.w3.org/1999/xlink\" width=\"500\" height=\"300\" viewBox=\"0 0 2000 1200\">\n",
       "<defs>\n",
       "  <clipPath id=\"clip220\">\n",
       "    <rect x=\"0\" y=\"0\" width=\"2000\" height=\"1200\"/>\n",
       "  </clipPath>\n",
       "</defs>\n",
       "<path clip-path=\"url(#clip220)\" d=\"\n",
       "M0 1200 L2000 1200 L2000 0 L0 0  Z\n",
       "  \" fill=\"#ffffff\" fill-rule=\"evenodd\" fill-opacity=\"1\"/>\n",
       "<defs>\n",
       "  <clipPath id=\"clip221\">\n",
       "    <rect x=\"400\" y=\"0\" width=\"1401\" height=\"1200\"/>\n",
       "  </clipPath>\n",
       "</defs>\n",
       "<path clip-path=\"url(#clip220)\" d=\"\n",
       "M202.364 1035.39 L1952.76 1035.39 L1952.76 117.424 L202.364 117.424  Z\n",
       "  \" fill=\"#ffffff\" fill-rule=\"evenodd\" fill-opacity=\"1\"/>\n",
       "<defs>\n",
       "  <clipPath id=\"clip222\">\n",
       "    <rect x=\"202\" y=\"117\" width=\"1751\" height=\"919\"/>\n",
       "  </clipPath>\n",
       "</defs>\n",
       "<polyline clip-path=\"url(#clip222)\" style=\"stroke:#000000; stroke-width:2; stroke-opacity:0.1; fill:none\" points=\"\n",
       "  202.364,1035.39 202.364,117.424 \n",
       "  \"/>\n",
       "<polyline clip-path=\"url(#clip222)\" style=\"stroke:#000000; stroke-width:2; stroke-opacity:0.1; fill:none\" points=\"\n",
       "  514.646,1035.39 514.646,117.424 \n",
       "  \"/>\n",
       "<polyline clip-path=\"url(#clip222)\" style=\"stroke:#000000; stroke-width:2; stroke-opacity:0.1; fill:none\" points=\"\n",
       "  826.928,1035.39 826.928,117.424 \n",
       "  \"/>\n",
       "<polyline clip-path=\"url(#clip222)\" style=\"stroke:#000000; stroke-width:2; stroke-opacity:0.1; fill:none\" points=\"\n",
       "  1139.21,1035.39 1139.21,117.424 \n",
       "  \"/>\n",
       "<polyline clip-path=\"url(#clip222)\" style=\"stroke:#000000; stroke-width:2; stroke-opacity:0.1; fill:none\" points=\"\n",
       "  1451.49,1035.39 1451.49,117.424 \n",
       "  \"/>\n",
       "<polyline clip-path=\"url(#clip222)\" style=\"stroke:#000000; stroke-width:2; stroke-opacity:0.1; fill:none\" points=\"\n",
       "  1763.77,1035.39 1763.77,117.424 \n",
       "  \"/>\n",
       "<polyline clip-path=\"url(#clip220)\" style=\"stroke:#000000; stroke-width:4; stroke-opacity:1; fill:none\" points=\"\n",
       "  202.364,1035.39 1952.76,1035.39 \n",
       "  \"/>\n",
       "<polyline clip-path=\"url(#clip220)\" style=\"stroke:#000000; stroke-width:4; stroke-opacity:1; fill:none\" points=\"\n",
       "  202.364,1035.39 202.364,1024.37 \n",
       "  \"/>\n",
       "<polyline clip-path=\"url(#clip220)\" style=\"stroke:#000000; stroke-width:4; stroke-opacity:1; fill:none\" points=\"\n",
       "  514.646,1035.39 514.646,1024.37 \n",
       "  \"/>\n",
       "<polyline clip-path=\"url(#clip220)\" style=\"stroke:#000000; stroke-width:4; stroke-opacity:1; fill:none\" points=\"\n",
       "  826.928,1035.39 826.928,1024.37 \n",
       "  \"/>\n",
       "<polyline clip-path=\"url(#clip220)\" style=\"stroke:#000000; stroke-width:4; stroke-opacity:1; fill:none\" points=\"\n",
       "  1139.21,1035.39 1139.21,1024.37 \n",
       "  \"/>\n",
       "<polyline clip-path=\"url(#clip220)\" style=\"stroke:#000000; stroke-width:4; stroke-opacity:1; fill:none\" points=\"\n",
       "  1451.49,1035.39 1451.49,1024.37 \n",
       "  \"/>\n",
       "<polyline clip-path=\"url(#clip220)\" style=\"stroke:#000000; stroke-width:4; stroke-opacity:1; fill:none\" points=\"\n",
       "  1763.77,1035.39 1763.77,1024.37 \n",
       "  \"/>\n",
       "<path clip-path=\"url(#clip220)\" d=\"M 0 0 M202.364 1061.38 Q198.753 1061.38 196.925 1064.94 Q195.119 1068.48 195.119 1075.61 Q195.119 1082.72 196.925 1086.29 Q198.753 1089.83 202.364 1089.83 Q205.999 1089.83 207.804 1086.29 Q209.633 1082.72 209.633 1075.61 Q209.633 1068.48 207.804 1064.94 Q205.999 1061.38 202.364 1061.38 M202.364 1057.67 Q208.174 1057.67 211.23 1062.28 Q214.309 1066.86 214.309 1075.61 Q214.309 1084.34 211.23 1088.95 Q208.174 1093.53 202.364 1093.53 Q196.554 1093.53 193.475 1088.95 Q190.42 1084.34 190.42 1075.61 Q190.42 1066.86 193.475 1062.28 Q196.554 1057.67 202.364 1057.67 Z\" fill=\"#000000\" fill-rule=\"evenodd\" fill-opacity=\"1\" /><path clip-path=\"url(#clip220)\" d=\"M 0 0 M505.028 1088.92 L512.667 1088.92 L512.667 1062.56 L504.357 1064.23 L504.357 1059.97 L512.62 1058.3 L517.296 1058.3 L517.296 1088.92 L524.935 1088.92 L524.935 1092.86 L505.028 1092.86 L505.028 1088.92 Z\" fill=\"#000000\" fill-rule=\"evenodd\" fill-opacity=\"1\" /><path clip-path=\"url(#clip220)\" d=\"M 0 0 M821.58 1088.92 L837.9 1088.92 L837.9 1092.86 L815.955 1092.86 L815.955 1088.92 Q818.617 1086.17 823.201 1081.54 Q827.807 1076.89 828.988 1075.55 Q831.233 1073.02 832.113 1071.29 Q833.015 1069.53 833.015 1067.84 Q833.015 1065.08 831.071 1063.35 Q829.15 1061.61 826.048 1061.61 Q823.849 1061.61 821.395 1062.37 Q818.965 1063.14 816.187 1064.69 L816.187 1059.97 Q819.011 1058.83 821.465 1058.25 Q823.918 1057.67 825.955 1057.67 Q831.326 1057.67 834.52 1060.36 Q837.715 1063.05 837.715 1067.54 Q837.715 1069.67 836.904 1071.59 Q836.117 1073.48 834.011 1076.08 Q833.432 1076.75 830.33 1079.97 Q827.228 1083.16 821.58 1088.92 Z\" fill=\"#000000\" fill-rule=\"evenodd\" fill-opacity=\"1\" /><path clip-path=\"url(#clip220)\" d=\"M 0 0 M1143.46 1074.23 Q1146.81 1074.94 1148.69 1077.21 Q1150.59 1079.48 1150.59 1082.81 Q1150.59 1087.93 1147.07 1090.73 Q1143.55 1093.53 1137.07 1093.53 Q1134.89 1093.53 1132.58 1093.09 Q1130.29 1092.67 1127.83 1091.82 L1127.83 1087.3 Q1129.78 1088.44 1132.09 1089.02 Q1134.41 1089.6 1136.93 1089.6 Q1141.33 1089.6 1143.62 1087.86 Q1145.93 1086.12 1145.93 1082.81 Q1145.93 1079.76 1143.78 1078.05 Q1141.65 1076.31 1137.83 1076.31 L1133.8 1076.31 L1133.8 1072.47 L1138.02 1072.47 Q1141.47 1072.47 1143.29 1071.1 Q1145.12 1069.71 1145.12 1067.12 Q1145.12 1064.46 1143.23 1063.05 Q1141.35 1061.61 1137.83 1061.61 Q1135.91 1061.61 1133.71 1062.03 Q1131.51 1062.44 1128.87 1063.32 L1128.87 1059.16 Q1131.54 1058.42 1133.85 1058.05 Q1136.19 1057.67 1138.25 1057.67 Q1143.57 1057.67 1146.67 1060.11 Q1149.78 1062.51 1149.78 1066.63 Q1149.78 1069.5 1148.13 1071.49 Q1146.49 1073.46 1143.46 1074.23 Z\" fill=\"#000000\" fill-rule=\"evenodd\" fill-opacity=\"1\" /><path clip-path=\"url(#clip220)\" d=\"M 0 0 M1454.5 1062.37 L1442.69 1080.82 L1454.5 1080.82 L1454.5 1062.37 M1453.27 1058.3 L1459.15 1058.3 L1459.15 1080.82 L1464.08 1080.82 L1464.08 1084.71 L1459.15 1084.71 L1459.15 1092.86 L1454.5 1092.86 L1454.5 1084.71 L1438.9 1084.71 L1438.9 1080.2 L1453.27 1058.3 Z\" fill=\"#000000\" fill-rule=\"evenodd\" fill-opacity=\"1\" /><path clip-path=\"url(#clip220)\" d=\"M 0 0 M1754.05 1058.3 L1772.41 1058.3 L1772.41 1062.24 L1758.33 1062.24 L1758.33 1070.71 Q1759.35 1070.36 1760.37 1070.2 Q1761.39 1070.01 1762.41 1070.01 Q1768.19 1070.01 1771.57 1073.18 Q1774.95 1076.36 1774.95 1081.77 Q1774.95 1087.35 1771.48 1090.45 Q1768.01 1093.53 1761.69 1093.53 Q1759.51 1093.53 1757.24 1093.16 Q1755 1092.79 1752.59 1092.05 L1752.59 1087.35 Q1754.68 1088.48 1756.9 1089.04 Q1759.12 1089.6 1761.6 1089.6 Q1765.6 1089.6 1767.94 1087.49 Q1770.28 1085.38 1770.28 1081.77 Q1770.28 1078.16 1767.94 1076.05 Q1765.6 1073.95 1761.6 1073.95 Q1759.72 1073.95 1757.85 1074.36 Q1755.99 1074.78 1754.05 1075.66 L1754.05 1058.3 Z\" fill=\"#000000\" fill-rule=\"evenodd\" fill-opacity=\"1\" /><path clip-path=\"url(#clip220)\" d=\"M 0 0 M720.89 1114.73 L726.746 1114.73 L726.746 1164.25 L720.89 1164.25 L720.89 1114.73 Z\" fill=\"#000000\" fill-rule=\"evenodd\" fill-opacity=\"1\" /><path clip-path=\"url(#clip220)\" d=\"M 0 0 M746.703 1132.71 Q741.992 1132.71 739.255 1136.4 Q736.517 1140.06 736.517 1146.46 Q736.517 1152.86 739.223 1156.55 Q741.96 1160.21 746.703 1160.21 Q751.381 1160.21 754.119 1156.52 Q756.856 1152.83 756.856 1146.46 Q756.856 1140.13 754.119 1136.43 Q751.381 1132.71 746.703 1132.71 M746.703 1127.74 Q754.341 1127.74 758.702 1132.71 Q763.062 1137.68 763.062 1146.46 Q763.062 1155.21 758.702 1160.21 Q754.341 1165.17 746.703 1165.17 Q739.032 1165.17 734.671 1160.21 Q730.343 1155.21 730.343 1146.46 Q730.343 1137.68 734.671 1132.71 Q739.032 1127.74 746.703 1127.74 Z\" fill=\"#000000\" fill-rule=\"evenodd\" fill-opacity=\"1\" /><path clip-path=\"url(#clip220)\" d=\"M 0 0 M792.663 1146.01 Q792.663 1139.65 790.021 1136.15 Q787.411 1132.65 782.669 1132.65 Q777.958 1132.65 775.316 1136.15 Q772.706 1139.65 772.706 1146.01 Q772.706 1152.35 775.316 1155.85 Q777.958 1159.35 782.669 1159.35 Q787.411 1159.35 790.021 1155.85 Q792.663 1152.35 792.663 1146.01 M798.519 1159.83 Q798.519 1168.93 794.477 1173.35 Q790.435 1177.81 782.096 1177.81 Q779.008 1177.81 776.271 1177.33 Q773.534 1176.89 770.956 1175.93 L770.956 1170.24 Q773.534 1171.64 776.048 1172.3 Q778.563 1172.97 781.173 1172.97 Q786.934 1172.97 789.798 1169.95 Q792.663 1166.96 792.663 1160.88 L792.663 1157.98 Q790.849 1161.13 788.016 1162.69 Q785.183 1164.25 781.236 1164.25 Q774.68 1164.25 770.669 1159.25 Q766.659 1154.26 766.659 1146.01 Q766.659 1137.74 770.669 1132.74 Q774.68 1127.74 781.236 1127.74 Q785.183 1127.74 788.016 1129.3 Q790.849 1130.86 792.663 1134.01 L792.663 1128.6 L798.519 1128.6 L798.519 1159.83 Z\" fill=\"#000000\" fill-rule=\"evenodd\" fill-opacity=\"1\" /><path clip-path=\"url(#clip220)\" d=\"M 0 0 M818.73 1114.79 Q814.465 1122.11 812.397 1129.27 Q810.328 1136.43 810.328 1143.79 Q810.328 1151.14 812.397 1158.36 Q814.497 1165.56 818.73 1172.85 L813.638 1172.85 Q808.864 1165.37 806.476 1158.14 Q804.121 1150.92 804.121 1143.79 Q804.121 1136.69 806.476 1129.5 Q808.832 1122.3 813.638 1114.79 L818.73 1114.79 Z\" fill=\"#000000\" fill-rule=\"evenodd\" fill-opacity=\"1\" /><path clip-path=\"url(#clip220)\" d=\"M 0 0 M838.687 1132.71 Q833.976 1132.71 831.239 1136.4 Q828.502 1140.06 828.502 1146.46 Q828.502 1152.86 831.207 1156.55 Q833.945 1160.21 838.687 1160.21 Q843.366 1160.21 846.103 1156.52 Q848.84 1152.83 848.84 1146.46 Q848.84 1140.13 846.103 1136.43 Q843.366 1132.71 838.687 1132.71 M838.687 1127.74 Q846.326 1127.74 850.686 1132.71 Q855.047 1137.68 855.047 1146.46 Q855.047 1155.21 850.686 1160.21 Q846.326 1165.17 838.687 1165.17 Q831.016 1165.17 826.656 1160.21 Q822.327 1155.21 822.327 1146.46 Q822.327 1137.68 826.656 1132.71 Q831.016 1127.74 838.687 1127.74 Z\" fill=\"#000000\" fill-rule=\"evenodd\" fill-opacity=\"1\" /><path clip-path=\"url(#clip220)\" d=\"M 0 0 M886.78 1146.46 Q886.78 1140 884.106 1136.34 Q881.465 1132.65 876.818 1132.65 Q872.171 1132.65 869.497 1136.34 Q866.855 1140 866.855 1146.46 Q866.855 1152.92 869.497 1156.61 Q872.171 1160.27 876.818 1160.27 Q881.465 1160.27 884.106 1156.61 Q886.78 1152.92 886.78 1146.46 M866.855 1134.01 Q868.701 1130.83 871.502 1129.3 Q874.335 1127.74 878.25 1127.74 Q884.743 1127.74 888.785 1132.9 Q892.859 1138.06 892.859 1146.46 Q892.859 1154.86 888.785 1160.02 Q884.743 1165.17 878.25 1165.17 Q874.335 1165.17 871.502 1163.65 Q868.701 1162.09 866.855 1158.9 L866.855 1164.25 L860.967 1164.25 L860.967 1114.73 L866.855 1114.73 L866.855 1134.01 Z\" fill=\"#000000\" fill-rule=\"evenodd\" fill-opacity=\"1\" /><path clip-path=\"url(#clip220)\" d=\"M 0 0 M921.728 1129.65 L921.728 1135.19 Q919.245 1133.92 916.571 1133.28 Q913.898 1132.65 911.033 1132.65 Q906.673 1132.65 904.477 1133.98 Q902.312 1135.32 902.312 1137.99 Q902.312 1140.03 903.872 1141.21 Q905.431 1142.35 910.142 1143.4 L912.147 1143.85 Q918.386 1145.19 920.996 1147.64 Q923.637 1150.06 923.637 1154.42 Q923.637 1159.38 919.691 1162.28 Q915.776 1165.17 908.901 1165.17 Q906.036 1165.17 902.917 1164.6 Q899.83 1164.06 896.392 1162.95 L896.392 1156.9 Q899.639 1158.59 902.79 1159.45 Q905.941 1160.27 909.028 1160.27 Q913.166 1160.27 915.394 1158.87 Q917.622 1157.44 917.622 1154.86 Q917.622 1152.48 915.998 1151.2 Q914.407 1149.93 908.964 1148.75 L906.927 1148.27 Q901.485 1147.13 899.066 1144.77 Q896.647 1142.39 896.647 1138.25 Q896.647 1133.22 900.212 1130.48 Q903.776 1127.74 910.333 1127.74 Q913.58 1127.74 916.444 1128.22 Q919.309 1128.7 921.728 1129.65 Z\" fill=\"#000000\" fill-rule=\"evenodd\" fill-opacity=\"1\" /><path clip-path=\"url(#clip220)\" d=\"M 0 0 M960.272 1144.96 L960.272 1147.83 L933.345 1147.83 Q933.727 1153.88 936.973 1157.06 Q940.252 1160.21 946.076 1160.21 Q949.45 1160.21 952.601 1159.38 Q955.784 1158.55 958.903 1156.9 L958.903 1162.44 Q955.752 1163.77 952.442 1164.47 Q949.132 1165.17 945.726 1165.17 Q937.196 1165.17 932.199 1160.21 Q927.234 1155.24 927.234 1146.78 Q927.234 1138.03 931.945 1132.9 Q936.687 1127.74 944.708 1127.74 Q951.901 1127.74 956.071 1132.39 Q960.272 1137.01 960.272 1144.96 M954.416 1143.25 Q954.352 1138.44 951.71 1135.57 Q949.1 1132.71 944.771 1132.71 Q939.87 1132.71 936.91 1135.48 Q933.982 1138.25 933.536 1143.28 L954.416 1143.25 Z\" fill=\"#000000\" fill-rule=\"evenodd\" fill-opacity=\"1\" /><path clip-path=\"url(#clip220)\" d=\"M 0 0 M987.072 1134.08 Q986.085 1133.51 984.907 1133.25 Q983.761 1132.96 982.361 1132.96 Q977.396 1132.96 974.722 1136.21 Q972.08 1139.43 972.08 1145.47 L972.08 1164.25 L966.192 1164.25 L966.192 1128.6 L972.08 1128.6 L972.08 1134.14 Q973.926 1130.9 976.886 1129.34 Q979.847 1127.74 984.08 1127.74 Q984.684 1127.74 985.417 1127.84 Q986.149 1127.9 987.04 1128.06 L987.072 1134.08 Z\" fill=\"#000000\" fill-rule=\"evenodd\" fill-opacity=\"1\" /><path clip-path=\"url(#clip220)\" d=\"M 0 0 M989.013 1128.6 L995.22 1128.6 L1006.36 1158.52 L1017.5 1128.6 L1023.71 1128.6 L1010.34 1164.25 L1002.38 1164.25 L989.013 1128.6 Z\" fill=\"#000000\" fill-rule=\"evenodd\" fill-opacity=\"1\" /><path clip-path=\"url(#clip220)\" d=\"M 0 0 M1060.34 1144.96 L1060.34 1147.83 L1033.41 1147.83 Q1033.8 1153.88 1037.04 1157.06 Q1040.32 1160.21 1046.15 1160.21 Q1049.52 1160.21 1052.67 1159.38 Q1055.85 1158.55 1058.97 1156.9 L1058.97 1162.44 Q1055.82 1163.77 1052.51 1164.47 Q1049.2 1165.17 1045.8 1165.17 Q1037.27 1165.17 1032.27 1160.21 Q1027.3 1155.24 1027.3 1146.78 Q1027.3 1138.03 1032.01 1132.9 Q1036.76 1127.74 1044.78 1127.74 Q1051.97 1127.74 1056.14 1132.39 Q1060.34 1137.01 1060.34 1144.96 M1054.48 1143.25 Q1054.42 1138.44 1051.78 1135.57 Q1049.17 1132.71 1044.84 1132.71 Q1039.94 1132.71 1036.98 1135.48 Q1034.05 1138.25 1033.6 1143.28 L1054.48 1143.25 Z\" fill=\"#000000\" fill-rule=\"evenodd\" fill-opacity=\"1\" /><path clip-path=\"url(#clip220)\" d=\"M 0 0 M1089.94 1134.01 L1089.94 1114.73 L1095.8 1114.73 L1095.8 1164.25 L1089.94 1164.25 L1089.94 1158.9 Q1088.1 1162.09 1085.26 1163.65 Q1082.46 1165.17 1078.51 1165.17 Q1072.05 1165.17 1067.98 1160.02 Q1063.94 1154.86 1063.94 1146.46 Q1063.94 1138.06 1067.98 1132.9 Q1072.05 1127.74 1078.51 1127.74 Q1082.46 1127.74 1085.26 1129.3 Q1088.1 1130.83 1089.94 1134.01 M1069.98 1146.46 Q1069.98 1152.92 1072.63 1156.61 Q1075.3 1160.27 1079.95 1160.27 Q1084.59 1160.27 1087.27 1156.61 Q1089.94 1152.92 1089.94 1146.46 Q1089.94 1140 1087.27 1136.34 Q1084.59 1132.65 1079.95 1132.65 Q1075.3 1132.65 1072.63 1136.34 Q1069.98 1140 1069.98 1146.46 Z\" fill=\"#000000\" fill-rule=\"evenodd\" fill-opacity=\"1\" /><path clip-path=\"url(#clip220)\" d=\"M 0 0 M1140.71 1114.73 L1140.71 1119.6 L1135.11 1119.6 Q1131.96 1119.6 1130.71 1120.87 Q1129.5 1122.14 1129.5 1125.45 L1129.5 1128.6 L1139.15 1128.6 L1139.15 1133.16 L1129.5 1133.16 L1129.5 1164.25 L1123.62 1164.25 L1123.62 1133.16 L1118.01 1133.16 L1118.01 1128.6 L1123.62 1128.6 L1123.62 1126.12 Q1123.62 1120.17 1126.39 1117.46 Q1129.15 1114.73 1135.17 1114.73 L1140.71 1114.73 Z\" fill=\"#000000\" fill-rule=\"evenodd\" fill-opacity=\"1\" /><path clip-path=\"url(#clip220)\" d=\"M 0 0 M1167.51 1134.08 Q1166.52 1133.51 1165.34 1133.25 Q1164.2 1132.96 1162.8 1132.96 Q1157.83 1132.96 1155.16 1136.21 Q1152.52 1139.43 1152.52 1145.47 L1152.52 1164.25 L1146.63 1164.25 L1146.63 1128.6 L1152.52 1128.6 L1152.52 1134.14 Q1154.36 1130.9 1157.32 1129.34 Q1160.28 1127.74 1164.52 1127.74 Q1165.12 1127.74 1165.85 1127.84 Q1166.58 1127.9 1167.48 1128.06 L1167.51 1134.08 Z\" fill=\"#000000\" fill-rule=\"evenodd\" fill-opacity=\"1\" /><path clip-path=\"url(#clip220)\" d=\"M 0 0 M1202.71 1144.96 L1202.71 1147.83 L1175.78 1147.83 Q1176.16 1153.88 1179.41 1157.06 Q1182.69 1160.21 1188.51 1160.21 Q1191.89 1160.21 1195.04 1159.38 Q1198.22 1158.55 1201.34 1156.9 L1201.34 1162.44 Q1198.19 1163.77 1194.88 1164.47 Q1191.57 1165.17 1188.16 1165.17 Q1179.63 1165.17 1174.64 1160.21 Q1169.67 1155.24 1169.67 1146.78 Q1169.67 1138.03 1174.38 1132.9 Q1179.12 1127.74 1187.15 1127.74 Q1194.34 1127.74 1198.51 1132.39 Q1202.71 1137.01 1202.71 1144.96 M1196.85 1143.25 Q1196.79 1138.44 1194.15 1135.57 Q1191.54 1132.71 1187.21 1132.71 Q1182.31 1132.71 1179.35 1135.48 Q1176.42 1138.25 1175.97 1143.28 L1196.85 1143.25 Z\" fill=\"#000000\" fill-rule=\"evenodd\" fill-opacity=\"1\" /><path clip-path=\"url(#clip220)\" d=\"M 0 0 M1212.35 1146.46 Q1212.35 1152.92 1215 1156.61 Q1217.67 1160.27 1222.32 1160.27 Q1226.96 1160.27 1229.64 1156.61 Q1232.31 1152.92 1232.31 1146.46 Q1232.31 1140 1229.64 1136.34 Q1226.96 1132.65 1222.32 1132.65 Q1217.67 1132.65 1215 1136.34 Q1212.35 1140 1212.35 1146.46 M1232.31 1158.9 Q1230.46 1162.09 1227.63 1163.65 Q1224.83 1165.17 1220.88 1165.17 Q1214.42 1165.17 1210.35 1160.02 Q1206.31 1154.86 1206.31 1146.46 Q1206.31 1138.06 1210.35 1132.9 Q1214.42 1127.74 1220.88 1127.74 Q1224.83 1127.74 1227.63 1129.3 Q1230.46 1130.83 1232.31 1134.01 L1232.31 1128.6 L1238.17 1128.6 L1238.17 1177.81 L1232.31 1177.81 L1232.31 1158.9 Z\" fill=\"#000000\" fill-rule=\"evenodd\" fill-opacity=\"1\" /><path clip-path=\"url(#clip220)\" d=\"M 0 0 M1243.71 1150.18 L1243.71 1128.6 L1249.56 1128.6 L1249.56 1149.96 Q1249.56 1155.02 1251.53 1157.57 Q1253.51 1160.08 1257.45 1160.08 Q1262.2 1160.08 1264.93 1157.06 Q1267.7 1154.03 1267.7 1148.82 L1267.7 1128.6 L1273.56 1128.6 L1273.56 1164.25 L1267.7 1164.25 L1267.7 1158.78 Q1265.57 1162.02 1262.74 1163.62 Q1259.94 1165.17 1256.21 1165.17 Q1250.07 1165.17 1246.89 1161.36 Q1243.71 1157.54 1243.71 1150.18 M1258.44 1127.74 L1258.44 1127.74 Z\" fill=\"#000000\" fill-rule=\"evenodd\" fill-opacity=\"1\" /><path clip-path=\"url(#clip220)\" d=\"M 0 0 M1310.19 1144.96 L1310.19 1147.83 L1283.27 1147.83 Q1283.65 1153.88 1286.9 1157.06 Q1290.17 1160.21 1296 1160.21 Q1299.37 1160.21 1302.52 1159.38 Q1305.71 1158.55 1308.83 1156.9 L1308.83 1162.44 Q1305.68 1163.77 1302.37 1164.47 Q1299.05 1165.17 1295.65 1165.17 Q1287.12 1165.17 1282.12 1160.21 Q1277.16 1155.24 1277.16 1146.78 Q1277.16 1138.03 1281.87 1132.9 Q1286.61 1127.74 1294.63 1127.74 Q1301.82 1127.74 1305.99 1132.39 Q1310.19 1137.01 1310.19 1144.96 M1304.34 1143.25 Q1304.27 1138.44 1301.63 1135.57 Q1299.02 1132.71 1294.69 1132.71 Q1289.79 1132.71 1286.83 1135.48 Q1283.9 1138.25 1283.46 1143.28 L1304.34 1143.25 Z\" fill=\"#000000\" fill-rule=\"evenodd\" fill-opacity=\"1\" /><path clip-path=\"url(#clip220)\" d=\"M 0 0 M1345.97 1142.74 L1345.97 1164.25 L1340.11 1164.25 L1340.11 1142.93 Q1340.11 1137.87 1338.14 1135.35 Q1336.17 1132.84 1332.22 1132.84 Q1327.48 1132.84 1324.74 1135.86 Q1322 1138.88 1322 1144.1 L1322 1164.25 L1316.11 1164.25 L1316.11 1128.6 L1322 1128.6 L1322 1134.14 Q1324.1 1130.93 1326.94 1129.34 Q1329.8 1127.74 1333.53 1127.74 Q1339.67 1127.74 1342.82 1131.56 Q1345.97 1135.35 1345.97 1142.74 Z\" fill=\"#000000\" fill-rule=\"evenodd\" fill-opacity=\"1\" /><path clip-path=\"url(#clip220)\" d=\"M 0 0 M1377.77 1129.97 L1377.77 1135.45 Q1375.28 1134.08 1372.77 1133.41 Q1370.29 1132.71 1367.74 1132.71 Q1362.04 1132.71 1358.89 1136.34 Q1355.74 1139.93 1355.74 1146.46 Q1355.74 1152.98 1358.89 1156.61 Q1362.04 1160.21 1367.74 1160.21 Q1370.29 1160.21 1372.77 1159.54 Q1375.28 1158.84 1377.77 1157.47 L1377.77 1162.88 Q1375.32 1164.03 1372.67 1164.6 Q1370.06 1165.17 1367.1 1165.17 Q1359.05 1165.17 1354.31 1160.11 Q1349.57 1155.05 1349.57 1146.46 Q1349.57 1137.74 1354.34 1132.74 Q1359.15 1127.74 1367.49 1127.74 Q1370.19 1127.74 1372.77 1128.32 Q1375.35 1128.86 1377.77 1129.97 Z\" fill=\"#000000\" fill-rule=\"evenodd\" fill-opacity=\"1\" /><path clip-path=\"url(#clip220)\" d=\"M 0 0 M1398.74 1167.56 Q1396.26 1173.93 1393.9 1175.87 Q1391.55 1177.81 1387.6 1177.81 L1382.92 1177.81 L1382.92 1172.91 L1386.36 1172.91 Q1388.78 1172.91 1390.12 1171.76 Q1391.45 1170.62 1393.08 1166.35 L1394.13 1163.68 L1379.71 1128.6 L1385.91 1128.6 L1397.05 1156.49 L1408.19 1128.6 L1414.4 1128.6 L1398.74 1167.56 Z\" fill=\"#000000\" fill-rule=\"evenodd\" fill-opacity=\"1\" /><path clip-path=\"url(#clip220)\" d=\"M 0 0 M1419.62 1114.79 L1424.71 1114.79 Q1429.49 1122.3 1431.84 1129.5 Q1434.23 1136.69 1434.23 1143.79 Q1434.23 1150.92 1431.84 1158.14 Q1429.49 1165.37 1424.71 1172.85 L1419.62 1172.85 Q1423.85 1165.56 1425.92 1158.36 Q1428.02 1151.14 1428.02 1143.79 Q1428.02 1136.43 1425.92 1129.27 Q1423.85 1122.11 1419.62 1114.79 Z\" fill=\"#000000\" fill-rule=\"evenodd\" fill-opacity=\"1\" /><polyline clip-path=\"url(#clip222)\" style=\"stroke:#000000; stroke-width:2; stroke-opacity:0.1; fill:none\" points=\"\n",
       "  202.364,1035.39 1952.76,1035.39 \n",
       "  \"/>\n",
       "<polyline clip-path=\"url(#clip222)\" style=\"stroke:#000000; stroke-width:2; stroke-opacity:0.1; fill:none\" points=\"\n",
       "  202.364,843.047 1952.76,843.047 \n",
       "  \"/>\n",
       "<polyline clip-path=\"url(#clip222)\" style=\"stroke:#000000; stroke-width:2; stroke-opacity:0.1; fill:none\" points=\"\n",
       "  202.364,650.706 1952.76,650.706 \n",
       "  \"/>\n",
       "<polyline clip-path=\"url(#clip222)\" style=\"stroke:#000000; stroke-width:2; stroke-opacity:0.1; fill:none\" points=\"\n",
       "  202.364,458.365 1952.76,458.365 \n",
       "  \"/>\n",
       "<polyline clip-path=\"url(#clip222)\" style=\"stroke:#000000; stroke-width:2; stroke-opacity:0.1; fill:none\" points=\"\n",
       "  202.364,266.024 1952.76,266.024 \n",
       "  \"/>\n",
       "<polyline clip-path=\"url(#clip220)\" style=\"stroke:#000000; stroke-width:4; stroke-opacity:1; fill:none\" points=\"\n",
       "  202.364,1035.39 202.364,117.424 \n",
       "  \"/>\n",
       "<polyline clip-path=\"url(#clip220)\" style=\"stroke:#000000; stroke-width:4; stroke-opacity:1; fill:none\" points=\"\n",
       "  202.364,1035.39 223.369,1035.39 \n",
       "  \"/>\n",
       "<polyline clip-path=\"url(#clip220)\" style=\"stroke:#000000; stroke-width:4; stroke-opacity:1; fill:none\" points=\"\n",
       "  202.364,843.047 223.369,843.047 \n",
       "  \"/>\n",
       "<polyline clip-path=\"url(#clip220)\" style=\"stroke:#000000; stroke-width:4; stroke-opacity:1; fill:none\" points=\"\n",
       "  202.364,650.706 223.369,650.706 \n",
       "  \"/>\n",
       "<polyline clip-path=\"url(#clip220)\" style=\"stroke:#000000; stroke-width:4; stroke-opacity:1; fill:none\" points=\"\n",
       "  202.364,458.365 223.369,458.365 \n",
       "  \"/>\n",
       "<polyline clip-path=\"url(#clip220)\" style=\"stroke:#000000; stroke-width:4; stroke-opacity:1; fill:none\" points=\"\n",
       "  202.364,266.024 223.369,266.024 \n",
       "  \"/>\n",
       "<path clip-path=\"url(#clip220)\" d=\"M 0 0 M123.453 1021.19 Q119.841 1021.19 118.013 1024.75 Q116.207 1028.29 116.207 1035.42 Q116.207 1042.53 118.013 1046.09 Q119.841 1049.64 123.453 1049.64 Q127.087 1049.64 128.892 1046.09 Q130.721 1042.53 130.721 1035.42 Q130.721 1028.29 128.892 1024.75 Q127.087 1021.19 123.453 1021.19 M123.453 1017.48 Q129.263 1017.48 132.318 1022.09 Q135.397 1026.67 135.397 1035.42 Q135.397 1044.15 132.318 1048.76 Q129.263 1053.34 123.453 1053.34 Q117.642 1053.34 114.564 1048.76 Q111.508 1044.15 111.508 1035.42 Q111.508 1026.67 114.564 1022.09 Q117.642 1017.48 123.453 1017.48 Z\" fill=\"#000000\" fill-rule=\"evenodd\" fill-opacity=\"1\" /><path clip-path=\"url(#clip220)\" d=\"M 0 0 M140.466 1046.79 L145.351 1046.79 L145.351 1052.67 L140.466 1052.67 L140.466 1046.79 Z\" fill=\"#000000\" fill-rule=\"evenodd\" fill-opacity=\"1\" /><path clip-path=\"url(#clip220)\" d=\"M 0 0 M160.42 1021.19 Q156.809 1021.19 154.98 1024.75 Q153.175 1028.29 153.175 1035.42 Q153.175 1042.53 154.98 1046.09 Q156.809 1049.64 160.42 1049.64 Q164.054 1049.64 165.86 1046.09 Q167.688 1042.53 167.688 1035.42 Q167.688 1028.29 165.86 1024.75 Q164.054 1021.19 160.42 1021.19 M160.42 1017.48 Q166.23 1017.48 169.286 1022.09 Q172.364 1026.67 172.364 1035.42 Q172.364 1044.15 169.286 1048.76 Q166.23 1053.34 160.42 1053.34 Q154.61 1053.34 151.531 1048.76 Q148.476 1044.15 148.476 1035.42 Q148.476 1026.67 151.531 1022.09 Q154.61 1017.48 160.42 1017.48 Z\" fill=\"#000000\" fill-rule=\"evenodd\" fill-opacity=\"1\" /><path clip-path=\"url(#clip220)\" d=\"M 0 0 M124.448 828.846 Q120.837 828.846 119.008 832.41 Q117.203 835.952 117.203 843.082 Q117.203 850.188 119.008 853.753 Q120.837 857.295 124.448 857.295 Q128.082 857.295 129.888 853.753 Q131.716 850.188 131.716 843.082 Q131.716 835.952 129.888 832.41 Q128.082 828.846 124.448 828.846 M124.448 825.142 Q130.258 825.142 133.314 829.748 Q136.392 834.332 136.392 843.082 Q136.392 851.809 133.314 856.415 Q130.258 860.998 124.448 860.998 Q118.638 860.998 115.559 856.415 Q112.504 851.809 112.504 843.082 Q112.504 834.332 115.559 829.748 Q118.638 825.142 124.448 825.142 Z\" fill=\"#000000\" fill-rule=\"evenodd\" fill-opacity=\"1\" /><path clip-path=\"url(#clip220)\" d=\"M 0 0 M141.462 854.447 L146.346 854.447 L146.346 860.327 L141.462 860.327 L141.462 854.447 Z\" fill=\"#000000\" fill-rule=\"evenodd\" fill-opacity=\"1\" /><path clip-path=\"url(#clip220)\" d=\"M 0 0 M151.462 825.767 L169.818 825.767 L169.818 829.702 L155.744 829.702 L155.744 838.174 Q156.763 837.827 157.781 837.665 Q158.8 837.48 159.818 837.48 Q165.605 837.48 168.985 840.651 Q172.364 843.822 172.364 849.239 Q172.364 854.818 168.892 857.92 Q165.42 860.998 159.1 860.998 Q156.925 860.998 154.656 860.628 Q152.411 860.258 150.003 859.517 L150.003 854.818 Q152.087 855.952 154.309 856.508 Q156.531 857.063 159.008 857.063 Q163.013 857.063 165.35 854.957 Q167.688 852.85 167.688 849.239 Q167.688 845.628 165.35 843.522 Q163.013 841.415 159.008 841.415 Q157.133 841.415 155.258 841.832 Q153.406 842.248 151.462 843.128 L151.462 825.767 Z\" fill=\"#000000\" fill-rule=\"evenodd\" fill-opacity=\"1\" /><path clip-path=\"url(#clip220)\" d=\"M 0 0 M115.49 664.051 L123.128 664.051 L123.128 637.685 L114.818 639.352 L114.818 635.093 L123.082 633.426 L127.758 633.426 L127.758 664.051 L135.397 664.051 L135.397 667.986 L115.49 667.986 L115.49 664.051 Z\" fill=\"#000000\" fill-rule=\"evenodd\" fill-opacity=\"1\" /><path clip-path=\"url(#clip220)\" d=\"M 0 0 M140.466 662.107 L145.351 662.107 L145.351 667.986 L140.466 667.986 L140.466 662.107 Z\" fill=\"#000000\" fill-rule=\"evenodd\" fill-opacity=\"1\" /><path clip-path=\"url(#clip220)\" d=\"M 0 0 M160.42 636.505 Q156.809 636.505 154.98 640.07 Q153.175 643.611 153.175 650.741 Q153.175 657.847 154.98 661.412 Q156.809 664.954 160.42 664.954 Q164.054 664.954 165.86 661.412 Q167.688 657.847 167.688 650.741 Q167.688 643.611 165.86 640.07 Q164.054 636.505 160.42 636.505 M160.42 632.801 Q166.23 632.801 169.286 637.408 Q172.364 641.991 172.364 650.741 Q172.364 659.468 169.286 664.074 Q166.23 668.657 160.42 668.657 Q154.61 668.657 151.531 664.074 Q148.476 659.468 148.476 650.741 Q148.476 641.991 151.531 637.408 Q154.61 632.801 160.42 632.801 Z\" fill=\"#000000\" fill-rule=\"evenodd\" fill-opacity=\"1\" /><path clip-path=\"url(#clip220)\" d=\"M 0 0 M116.485 471.71 L124.124 471.71 L124.124 445.345 L115.814 447.011 L115.814 442.752 L124.078 441.085 L128.753 441.085 L128.753 471.71 L136.392 471.71 L136.392 475.645 L116.485 475.645 L116.485 471.71 Z\" fill=\"#000000\" fill-rule=\"evenodd\" fill-opacity=\"1\" /><path clip-path=\"url(#clip220)\" d=\"M 0 0 M141.462 469.766 L146.346 469.766 L146.346 475.645 L141.462 475.645 L141.462 469.766 Z\" fill=\"#000000\" fill-rule=\"evenodd\" fill-opacity=\"1\" /><path clip-path=\"url(#clip220)\" d=\"M 0 0 M151.462 441.085 L169.818 441.085 L169.818 445.02 L155.744 445.02 L155.744 453.493 Q156.763 453.145 157.781 452.983 Q158.8 452.798 159.818 452.798 Q165.605 452.798 168.985 455.97 Q172.364 459.141 172.364 464.557 Q172.364 470.136 168.892 473.238 Q165.42 476.317 159.1 476.317 Q156.925 476.317 154.656 475.946 Q152.411 475.576 150.003 474.835 L150.003 470.136 Q152.087 471.27 154.309 471.826 Q156.531 472.381 159.008 472.381 Q163.013 472.381 165.35 470.275 Q167.688 468.169 167.688 464.557 Q167.688 460.946 165.35 458.84 Q163.013 456.733 159.008 456.733 Q157.133 456.733 155.258 457.15 Q153.406 457.567 151.462 458.446 L151.462 441.085 Z\" fill=\"#000000\" fill-rule=\"evenodd\" fill-opacity=\"1\" /><path clip-path=\"url(#clip220)\" d=\"M 0 0 M119.078 279.369 L135.397 279.369 L135.397 283.304 L113.453 283.304 L113.453 279.369 Q116.115 276.615 120.698 271.985 Q125.304 267.332 126.485 265.99 Q128.73 263.467 129.61 261.731 Q130.513 259.971 130.513 258.281 Q130.513 255.527 128.568 253.791 Q126.647 252.055 123.545 252.055 Q121.346 252.055 118.892 252.819 Q116.462 253.582 113.684 255.133 L113.684 250.411 Q116.508 249.277 118.962 248.698 Q121.416 248.119 123.453 248.119 Q128.823 248.119 132.017 250.805 Q135.212 253.49 135.212 257.981 Q135.212 260.11 134.402 262.031 Q133.615 263.93 131.508 266.522 Q130.929 267.193 127.828 270.411 Q124.726 273.605 119.078 279.369 Z\" fill=\"#000000\" fill-rule=\"evenodd\" fill-opacity=\"1\" /><path clip-path=\"url(#clip220)\" d=\"M 0 0 M140.466 277.425 L145.351 277.425 L145.351 283.304 L140.466 283.304 L140.466 277.425 Z\" fill=\"#000000\" fill-rule=\"evenodd\" fill-opacity=\"1\" /><path clip-path=\"url(#clip220)\" d=\"M 0 0 M160.42 251.823 Q156.809 251.823 154.98 255.388 Q153.175 258.93 153.175 266.059 Q153.175 273.166 154.98 276.73 Q156.809 280.272 160.42 280.272 Q164.054 280.272 165.86 276.73 Q167.688 273.166 167.688 266.059 Q167.688 258.93 165.86 255.388 Q164.054 251.823 160.42 251.823 M160.42 248.119 Q166.23 248.119 169.286 252.726 Q172.364 257.309 172.364 266.059 Q172.364 274.786 169.286 279.392 Q166.23 283.976 160.42 283.976 Q154.61 283.976 151.531 279.392 Q148.476 274.786 148.476 266.059 Q148.476 257.309 151.531 252.726 Q154.61 248.119 160.42 248.119 Z\" fill=\"#000000\" fill-rule=\"evenodd\" fill-opacity=\"1\" /><path clip-path=\"url(#clip220)\" d=\"M 0 0 M37.727 805.89 L37.727 800.033 L87.2522 800.033 L87.2522 805.89 L37.727 805.89 Z\" fill=\"#000000\" fill-rule=\"evenodd\" fill-opacity=\"1\" /><path clip-path=\"url(#clip220)\" d=\"M 0 0 M55.7101 780.077 Q55.7101 784.787 59.4022 787.525 Q63.0625 790.262 69.46 790.262 Q75.8575 790.262 79.5497 787.556 Q83.2099 784.819 83.2099 780.077 Q83.2099 775.398 79.5178 772.661 Q75.8257 769.923 69.46 769.923 Q63.1261 769.923 59.434 772.661 Q55.7101 775.398 55.7101 780.077 M50.7448 780.077 Q50.7448 772.438 55.7101 768.077 Q60.6753 763.717 69.46 763.717 Q78.2129 763.717 83.2099 768.077 Q88.1752 772.438 88.1752 780.077 Q88.1752 787.747 83.2099 792.108 Q78.2129 796.437 69.46 796.437 Q60.6753 796.437 55.7101 792.108 Q50.7448 787.747 50.7448 780.077 Z\" fill=\"#000000\" fill-rule=\"evenodd\" fill-opacity=\"1\" /><path clip-path=\"url(#clip220)\" d=\"M 0 0 M69.0144 734.116 Q62.6487 734.116 59.1476 736.758 Q55.6464 739.368 55.6464 744.111 Q55.6464 748.821 59.1476 751.463 Q62.6487 754.073 69.0144 754.073 Q75.3483 754.073 78.8494 751.463 Q82.3506 748.821 82.3506 744.111 Q82.3506 739.368 78.8494 736.758 Q75.3483 734.116 69.0144 734.116 M82.828 728.26 Q91.931 728.26 96.3551 732.302 Q100.811 736.344 100.811 744.683 Q100.811 747.771 100.334 750.508 Q99.8881 753.245 98.9332 755.823 L93.2359 755.823 Q94.6364 753.245 95.3048 750.731 Q95.9732 748.216 95.9732 745.606 Q95.9732 739.846 92.9495 736.981 Q89.9576 734.116 83.8783 734.116 L80.9819 734.116 Q84.133 735.931 85.6926 738.763 Q87.2522 741.596 87.2522 745.543 Q87.2522 752.099 82.2551 756.11 Q77.258 760.12 69.0144 760.12 Q60.739 760.12 55.7419 756.11 Q50.7448 752.099 50.7448 745.543 Q50.7448 741.596 52.3044 738.763 Q53.864 735.931 57.0151 734.116 L51.6042 734.116 L51.6042 728.26 L82.828 728.26 Z\" fill=\"#000000\" fill-rule=\"evenodd\" fill-opacity=\"1\" /><path clip-path=\"url(#clip220)\" d=\"M 0 0 M37.7906 708.049 Q45.1112 712.314 52.2726 714.383 Q59.434 716.452 66.7864 716.452 Q74.1388 716.452 81.3639 714.383 Q88.5571 712.282 95.8459 708.049 L95.8459 713.141 Q88.3662 717.916 81.1411 720.303 Q73.916 722.658 66.7864 722.658 Q59.6886 722.658 52.4954 720.303 Q45.3022 717.947 37.7906 713.141 L37.7906 708.049 Z\" fill=\"#000000\" fill-rule=\"evenodd\" fill-opacity=\"1\" /><path clip-path=\"url(#clip220)\" d=\"M 0 0 M58.5746 674.724 L58.5746 683.986 L69.2054 686.66 L69.2054 677.334 L58.5746 674.724 M40.4642 679.499 L53.6731 682.809 L53.6731 673.515 L40.4642 670.173 L40.4642 665.08 L53.6731 668.359 L53.6731 658.428 L58.5746 658.428 L58.5746 669.6 L69.2054 672.21 L69.2054 662.088 L74.0751 662.088 L74.0751 673.451 L87.2522 676.761 L87.2522 681.854 L74.0751 678.576 L74.0751 687.901 L87.2522 691.18 L87.2522 696.304 L74.0751 692.994 L74.0751 703.02 L69.2054 703.02 L69.2054 691.816 L58.5746 689.143 L58.5746 699.391 L53.6731 699.391 L53.6731 687.901 L40.4642 684.655 L40.4642 679.499 Z\" fill=\"#000000\" fill-rule=\"evenodd\" fill-opacity=\"1\" /><path clip-path=\"url(#clip220)\" d=\"M 0 0 M55.7101 617.751 Q55.7101 622.462 59.4022 625.199 Q63.0625 627.936 69.46 627.936 Q75.8575 627.936 79.5497 625.231 Q83.2099 622.494 83.2099 617.751 Q83.2099 613.072 79.5178 610.335 Q75.8257 607.598 69.46 607.598 Q63.1261 607.598 59.434 610.335 Q55.7101 613.072 55.7101 617.751 M50.7448 617.751 Q50.7448 610.112 55.7101 605.752 Q60.6753 601.391 69.46 601.391 Q78.2129 601.391 83.2099 605.752 Q88.1752 610.112 88.1752 617.751 Q88.1752 625.422 83.2099 629.782 Q78.2129 634.111 69.46 634.111 Q60.6753 634.111 55.7101 629.782 Q50.7448 625.422 50.7448 617.751 Z\" fill=\"#000000\" fill-rule=\"evenodd\" fill-opacity=\"1\" /><path clip-path=\"url(#clip220)\" d=\"M 0 0 M37.727 577.202 L42.5967 577.202 L42.5967 582.804 Q42.5967 585.955 43.8699 587.196 Q45.143 588.405 48.4532 588.405 L51.6042 588.405 L51.6042 578.761 L56.1557 578.761 L56.1557 588.405 L87.2522 588.405 L87.2522 594.294 L56.1557 594.294 L56.1557 599.895 L51.6042 599.895 L51.6042 594.294 L49.1216 594.294 Q43.1696 594.294 40.4642 591.525 Q37.727 588.755 37.727 582.74 L37.727 577.202 Z\" fill=\"#000000\" fill-rule=\"evenodd\" fill-opacity=\"1\" /><path clip-path=\"url(#clip220)\" d=\"M 0 0 M37.727 550.561 L37.727 544.673 L66.9774 544.673 L51.6042 527.199 L51.6042 519.719 L68.2824 538.626 L87.2522 518.924 L87.2522 526.563 L69.8419 544.673 L87.2522 544.673 L87.2522 550.561 L37.727 550.561 Z\" fill=\"#000000\" fill-rule=\"evenodd\" fill-opacity=\"1\" /><path clip-path=\"url(#clip220)\" d=\"M 0 0 M58.4473 485.026 Q54.5006 482.83 52.6227 479.775 Q50.7448 476.719 50.7448 472.581 Q50.7448 467.011 54.6597 463.988 Q58.5428 460.964 65.7361 460.964 L87.2522 460.964 L87.2522 466.852 L65.927 466.852 Q60.8026 466.852 58.32 468.666 Q55.8374 470.481 55.8374 474.205 Q55.8374 478.756 58.8611 481.398 Q61.8848 484.04 67.1047 484.04 L87.2522 484.04 L87.2522 489.928 L65.927 489.928 Q60.7708 489.928 58.32 491.742 Q55.8374 493.556 55.8374 497.344 Q55.8374 501.832 58.8929 504.473 Q61.9166 507.115 67.1047 507.115 L87.2522 507.115 L87.2522 513.004 L51.6042 513.004 L51.6042 507.115 L57.1424 507.115 Q53.864 505.11 52.3044 502.309 Q50.7448 499.508 50.7448 495.657 Q50.7448 491.774 52.7182 489.068 Q54.6916 486.331 58.4473 485.026 Z\" fill=\"#000000\" fill-rule=\"evenodd\" fill-opacity=\"1\" /><path clip-path=\"url(#clip220)\" d=\"M 0 0 M67.9641 424.329 L70.8286 424.329 L70.8286 451.256 Q76.8761 450.874 80.0589 447.628 Q83.2099 444.349 83.2099 438.525 Q83.2099 435.151 82.3824 432 Q81.5549 428.817 79.8998 425.698 L85.4379 425.698 Q86.7747 428.849 87.475 432.159 Q88.1752 435.469 88.1752 438.875 Q88.1752 447.405 83.2099 452.402 Q78.2447 457.367 69.7783 457.367 Q61.0254 457.367 55.9011 452.657 Q50.7448 447.914 50.7448 439.893 Q50.7448 432.7 55.3918 428.531 Q60.0069 424.329 67.9641 424.329 M66.2453 430.186 Q61.4392 430.249 58.5746 432.891 Q55.7101 435.501 55.7101 439.83 Q55.7101 444.731 58.4792 447.691 Q61.2482 450.62 66.2772 451.065 L66.2453 430.186 Z\" fill=\"#000000\" fill-rule=\"evenodd\" fill-opacity=\"1\" /><path clip-path=\"url(#clip220)\" d=\"M 0 0 M57.0787 397.53 Q56.5058 398.516 56.2512 399.694 Q55.9647 400.84 55.9647 402.24 Q55.9647 407.206 59.2112 409.879 Q62.4259 412.521 68.4733 412.521 L87.2522 412.521 L87.2522 418.409 L51.6042 418.409 L51.6042 412.521 L57.1424 412.521 Q53.8959 410.675 52.3363 407.715 Q50.7448 404.755 50.7448 400.522 Q50.7448 399.917 50.8403 399.185 Q50.904 398.453 51.0631 397.561 L57.0787 397.53 Z\" fill=\"#000000\" fill-rule=\"evenodd\" fill-opacity=\"1\" /><path clip-path=\"url(#clip220)\" d=\"M 0 0 M52.6545 368.661 L58.1927 368.661 Q56.9196 371.144 56.283 373.817 Q55.6464 376.491 55.6464 379.356 Q55.6464 383.716 56.9832 385.912 Q58.32 388.077 60.9936 388.077 Q63.0306 388.077 64.2083 386.517 Q65.3541 384.957 66.4045 380.247 L66.8501 378.242 Q68.1869 372.003 70.6377 369.393 Q73.0566 366.751 77.4171 366.751 Q82.3824 366.751 85.2788 370.698 Q88.1752 374.613 88.1752 381.488 Q88.1752 384.353 87.6023 387.472 Q87.0612 390.559 85.9472 393.997 L79.8998 393.997 Q81.5867 390.75 82.446 387.599 Q83.2736 384.448 83.2736 381.361 Q83.2736 377.223 81.8731 374.995 Q80.4409 372.767 77.8627 372.767 Q75.4756 372.767 74.2025 374.39 Q72.9293 375.982 71.7517 381.424 L71.2742 383.461 Q70.1284 388.904 67.7731 391.323 Q65.386 393.742 61.2482 393.742 Q56.2193 393.742 53.4821 390.177 Q50.7448 386.612 50.7448 380.056 Q50.7448 376.809 51.2223 373.945 Q51.6997 371.08 52.6545 368.661 Z\" fill=\"#000000\" fill-rule=\"evenodd\" fill-opacity=\"1\" /><path clip-path=\"url(#clip220)\" d=\"M 0 0 M37.7906 361.532 L37.7906 356.439 Q45.3022 351.665 52.4954 349.309 Q59.6886 346.922 66.7864 346.922 Q73.916 346.922 81.1411 349.309 Q88.3662 351.665 95.8459 356.439 L95.8459 361.532 Q88.5571 357.298 81.3639 355.23 Q74.1388 353.129 66.7864 353.129 Q59.434 353.129 52.2726 355.23 Q45.1112 357.298 37.7906 361.532 Z\" fill=\"#000000\" fill-rule=\"evenodd\" fill-opacity=\"1\" /><path clip-path=\"url(#clip220)\" d=\"M 0 0 M977.928 9.54393 L985.422 9.54393 L985.422 46.7717 L1007.66 27.2059 L1017.18 27.2059 L993.119 48.4326 L1018.19 72.576 L1008.47 72.576 L985.422 50.4176 L985.422 72.576 L977.928 72.576 L977.928 9.54393 Z\" fill=\"#000000\" fill-rule=\"evenodd\" fill-opacity=\"1\" /><path clip-path=\"url(#clip220)\" d=\"M 0 0 M1053.36 34.9026 L1105.29 34.9026 L1105.29 41.7081 L1053.36 41.7081 L1053.36 34.9026 M1053.36 51.4303 L1105.29 51.4303 L1105.29 58.3168 L1053.36 58.3168 L1053.36 51.4303 Z\" fill=\"#000000\" fill-rule=\"evenodd\" fill-opacity=\"1\" /><path clip-path=\"url(#clip220)\" d=\"M 0 0 M1140.61 12.096 L1172.74 12.096 L1172.74 18.9825 L1148.11 18.9825 L1148.11 33.8088 Q1149.89 33.2012 1151.67 32.9176 Q1153.45 32.5936 1155.24 32.5936 Q1165.36 32.5936 1171.28 38.1433 Q1177.19 43.6931 1177.19 53.1722 Q1177.19 62.9348 1171.12 68.3631 Q1165.04 73.7508 1153.98 73.7508 Q1150.17 73.7508 1146.2 73.1026 Q1142.27 72.4545 1138.06 71.1582 L1138.06 62.9348 Q1141.71 64.9198 1145.6 65.892 Q1149.48 66.8642 1153.82 66.8642 Q1160.83 66.8642 1164.92 63.1779 Q1169.01 59.4916 1169.01 53.1722 Q1169.01 46.8528 1164.92 43.1664 Q1160.83 39.4801 1153.82 39.4801 Q1150.54 39.4801 1147.26 40.2093 Q1144.02 40.9384 1140.61 42.4778 L1140.61 12.096 Z\" fill=\"#000000\" fill-rule=\"evenodd\" fill-opacity=\"1\" /><circle clip-path=\"url(#clip222)\" cx=\"1640.47\" cy=\"502.106\" r=\"14\" fill=\"#009af9\" fill-rule=\"evenodd\" fill-opacity=\"1\" stroke=\"#000000\" stroke-opacity=\"1\" stroke-width=\"2.4\"/>\n",
       "<circle clip-path=\"url(#clip222)\" cx=\"418.821\" cy=\"1035.39\" r=\"14\" fill=\"#009af9\" fill-rule=\"evenodd\" fill-opacity=\"1\" stroke=\"#000000\" stroke-opacity=\"1\" stroke-width=\"2.4\"/>\n",
       "<circle clip-path=\"url(#clip222)\" cx=\"545.441\" cy=\"1035.39\" r=\"14\" fill=\"#009af9\" fill-rule=\"evenodd\" fill-opacity=\"1\" stroke=\"#000000\" stroke-opacity=\"1\" stroke-width=\"2.4\"/>\n",
       "<circle clip-path=\"url(#clip222)\" cx=\"1621.15\" cy=\"1035.39\" r=\"14\" fill=\"#009af9\" fill-rule=\"evenodd\" fill-opacity=\"1\" stroke=\"#000000\" stroke-opacity=\"1\" stroke-width=\"2.4\"/>\n",
       "<circle clip-path=\"url(#clip222)\" cx=\"1611.02\" cy=\"1035.39\" r=\"14\" fill=\"#009af9\" fill-rule=\"evenodd\" fill-opacity=\"1\" stroke=\"#000000\" stroke-opacity=\"1\" stroke-width=\"2.4\"/>\n",
       "</svg>\n"
      ]
     },
     "metadata": {},
     "output_type": "display_data"
    },
    {
     "data": {
      "image/svg+xml": [
       "<?xml version=\"1.0\" encoding=\"utf-8\"?>\n",
       "<svg xmlns=\"http://www.w3.org/2000/svg\" xmlns:xlink=\"http://www.w3.org/1999/xlink\" width=\"500\" height=\"300\" viewBox=\"0 0 2000 1200\">\n",
       "<defs>\n",
       "  <clipPath id=\"clip260\">\n",
       "    <rect x=\"0\" y=\"0\" width=\"2000\" height=\"1200\"/>\n",
       "  </clipPath>\n",
       "</defs>\n",
       "<path clip-path=\"url(#clip260)\" d=\"\n",
       "M0 1200 L2000 1200 L2000 0 L0 0  Z\n",
       "  \" fill=\"#ffffff\" fill-rule=\"evenodd\" fill-opacity=\"1\"/>\n",
       "<defs>\n",
       "  <clipPath id=\"clip261\">\n",
       "    <rect x=\"400\" y=\"0\" width=\"1401\" height=\"1200\"/>\n",
       "  </clipPath>\n",
       "</defs>\n",
       "<path clip-path=\"url(#clip260)\" d=\"\n",
       "M202.364 1035.39 L1952.76 1035.39 L1952.76 117.424 L202.364 117.424  Z\n",
       "  \" fill=\"#ffffff\" fill-rule=\"evenodd\" fill-opacity=\"1\"/>\n",
       "<defs>\n",
       "  <clipPath id=\"clip262\">\n",
       "    <rect x=\"202\" y=\"117\" width=\"1751\" height=\"919\"/>\n",
       "  </clipPath>\n",
       "</defs>\n",
       "<polyline clip-path=\"url(#clip262)\" style=\"stroke:#000000; stroke-width:2; stroke-opacity:0.1; fill:none\" points=\"\n",
       "  202.364,1035.39 202.364,117.424 \n",
       "  \"/>\n",
       "<polyline clip-path=\"url(#clip262)\" style=\"stroke:#000000; stroke-width:2; stroke-opacity:0.1; fill:none\" points=\"\n",
       "  514.646,1035.39 514.646,117.424 \n",
       "  \"/>\n",
       "<polyline clip-path=\"url(#clip262)\" style=\"stroke:#000000; stroke-width:2; stroke-opacity:0.1; fill:none\" points=\"\n",
       "  826.928,1035.39 826.928,117.424 \n",
       "  \"/>\n",
       "<polyline clip-path=\"url(#clip262)\" style=\"stroke:#000000; stroke-width:2; stroke-opacity:0.1; fill:none\" points=\"\n",
       "  1139.21,1035.39 1139.21,117.424 \n",
       "  \"/>\n",
       "<polyline clip-path=\"url(#clip262)\" style=\"stroke:#000000; stroke-width:2; stroke-opacity:0.1; fill:none\" points=\"\n",
       "  1451.49,1035.39 1451.49,117.424 \n",
       "  \"/>\n",
       "<polyline clip-path=\"url(#clip262)\" style=\"stroke:#000000; stroke-width:2; stroke-opacity:0.1; fill:none\" points=\"\n",
       "  1763.77,1035.39 1763.77,117.424 \n",
       "  \"/>\n",
       "<polyline clip-path=\"url(#clip260)\" style=\"stroke:#000000; stroke-width:4; stroke-opacity:1; fill:none\" points=\"\n",
       "  202.364,1035.39 1952.76,1035.39 \n",
       "  \"/>\n",
       "<polyline clip-path=\"url(#clip260)\" style=\"stroke:#000000; stroke-width:4; stroke-opacity:1; fill:none\" points=\"\n",
       "  202.364,1035.39 202.364,1024.37 \n",
       "  \"/>\n",
       "<polyline clip-path=\"url(#clip260)\" style=\"stroke:#000000; stroke-width:4; stroke-opacity:1; fill:none\" points=\"\n",
       "  514.646,1035.39 514.646,1024.37 \n",
       "  \"/>\n",
       "<polyline clip-path=\"url(#clip260)\" style=\"stroke:#000000; stroke-width:4; stroke-opacity:1; fill:none\" points=\"\n",
       "  826.928,1035.39 826.928,1024.37 \n",
       "  \"/>\n",
       "<polyline clip-path=\"url(#clip260)\" style=\"stroke:#000000; stroke-width:4; stroke-opacity:1; fill:none\" points=\"\n",
       "  1139.21,1035.39 1139.21,1024.37 \n",
       "  \"/>\n",
       "<polyline clip-path=\"url(#clip260)\" style=\"stroke:#000000; stroke-width:4; stroke-opacity:1; fill:none\" points=\"\n",
       "  1451.49,1035.39 1451.49,1024.37 \n",
       "  \"/>\n",
       "<polyline clip-path=\"url(#clip260)\" style=\"stroke:#000000; stroke-width:4; stroke-opacity:1; fill:none\" points=\"\n",
       "  1763.77,1035.39 1763.77,1024.37 \n",
       "  \"/>\n",
       "<path clip-path=\"url(#clip260)\" d=\"M 0 0 M202.364 1061.38 Q198.753 1061.38 196.925 1064.94 Q195.119 1068.48 195.119 1075.61 Q195.119 1082.72 196.925 1086.29 Q198.753 1089.83 202.364 1089.83 Q205.999 1089.83 207.804 1086.29 Q209.633 1082.72 209.633 1075.61 Q209.633 1068.48 207.804 1064.94 Q205.999 1061.38 202.364 1061.38 M202.364 1057.67 Q208.174 1057.67 211.23 1062.28 Q214.309 1066.86 214.309 1075.61 Q214.309 1084.34 211.23 1088.95 Q208.174 1093.53 202.364 1093.53 Q196.554 1093.53 193.475 1088.95 Q190.42 1084.34 190.42 1075.61 Q190.42 1066.86 193.475 1062.28 Q196.554 1057.67 202.364 1057.67 Z\" fill=\"#000000\" fill-rule=\"evenodd\" fill-opacity=\"1\" /><path clip-path=\"url(#clip260)\" d=\"M 0 0 M505.028 1088.92 L512.667 1088.92 L512.667 1062.56 L504.357 1064.23 L504.357 1059.97 L512.62 1058.3 L517.296 1058.3 L517.296 1088.92 L524.935 1088.92 L524.935 1092.86 L505.028 1092.86 L505.028 1088.92 Z\" fill=\"#000000\" fill-rule=\"evenodd\" fill-opacity=\"1\" /><path clip-path=\"url(#clip260)\" d=\"M 0 0 M821.58 1088.92 L837.9 1088.92 L837.9 1092.86 L815.955 1092.86 L815.955 1088.92 Q818.617 1086.17 823.201 1081.54 Q827.807 1076.89 828.988 1075.55 Q831.233 1073.02 832.113 1071.29 Q833.015 1069.53 833.015 1067.84 Q833.015 1065.08 831.071 1063.35 Q829.15 1061.61 826.048 1061.61 Q823.849 1061.61 821.395 1062.37 Q818.965 1063.14 816.187 1064.69 L816.187 1059.97 Q819.011 1058.83 821.465 1058.25 Q823.918 1057.67 825.955 1057.67 Q831.326 1057.67 834.52 1060.36 Q837.715 1063.05 837.715 1067.54 Q837.715 1069.67 836.904 1071.59 Q836.117 1073.48 834.011 1076.08 Q833.432 1076.75 830.33 1079.97 Q827.228 1083.16 821.58 1088.92 Z\" fill=\"#000000\" fill-rule=\"evenodd\" fill-opacity=\"1\" /><path clip-path=\"url(#clip260)\" d=\"M 0 0 M1143.46 1074.23 Q1146.81 1074.94 1148.69 1077.21 Q1150.59 1079.48 1150.59 1082.81 Q1150.59 1087.93 1147.07 1090.73 Q1143.55 1093.53 1137.07 1093.53 Q1134.89 1093.53 1132.58 1093.09 Q1130.29 1092.67 1127.83 1091.82 L1127.83 1087.3 Q1129.78 1088.44 1132.09 1089.02 Q1134.41 1089.6 1136.93 1089.6 Q1141.33 1089.6 1143.62 1087.86 Q1145.93 1086.12 1145.93 1082.81 Q1145.93 1079.76 1143.78 1078.05 Q1141.65 1076.31 1137.83 1076.31 L1133.8 1076.31 L1133.8 1072.47 L1138.02 1072.47 Q1141.47 1072.47 1143.29 1071.1 Q1145.12 1069.71 1145.12 1067.12 Q1145.12 1064.46 1143.23 1063.05 Q1141.35 1061.61 1137.83 1061.61 Q1135.91 1061.61 1133.71 1062.03 Q1131.51 1062.44 1128.87 1063.32 L1128.87 1059.16 Q1131.54 1058.42 1133.85 1058.05 Q1136.19 1057.67 1138.25 1057.67 Q1143.57 1057.67 1146.67 1060.11 Q1149.78 1062.51 1149.78 1066.63 Q1149.78 1069.5 1148.13 1071.49 Q1146.49 1073.46 1143.46 1074.23 Z\" fill=\"#000000\" fill-rule=\"evenodd\" fill-opacity=\"1\" /><path clip-path=\"url(#clip260)\" d=\"M 0 0 M1454.5 1062.37 L1442.69 1080.82 L1454.5 1080.82 L1454.5 1062.37 M1453.27 1058.3 L1459.15 1058.3 L1459.15 1080.82 L1464.08 1080.82 L1464.08 1084.71 L1459.15 1084.71 L1459.15 1092.86 L1454.5 1092.86 L1454.5 1084.71 L1438.9 1084.71 L1438.9 1080.2 L1453.27 1058.3 Z\" fill=\"#000000\" fill-rule=\"evenodd\" fill-opacity=\"1\" /><path clip-path=\"url(#clip260)\" d=\"M 0 0 M1754.05 1058.3 L1772.41 1058.3 L1772.41 1062.24 L1758.33 1062.24 L1758.33 1070.71 Q1759.35 1070.36 1760.37 1070.2 Q1761.39 1070.01 1762.41 1070.01 Q1768.19 1070.01 1771.57 1073.18 Q1774.95 1076.36 1774.95 1081.77 Q1774.95 1087.35 1771.48 1090.45 Q1768.01 1093.53 1761.69 1093.53 Q1759.51 1093.53 1757.24 1093.16 Q1755 1092.79 1752.59 1092.05 L1752.59 1087.35 Q1754.68 1088.48 1756.9 1089.04 Q1759.12 1089.6 1761.6 1089.6 Q1765.6 1089.6 1767.94 1087.49 Q1770.28 1085.38 1770.28 1081.77 Q1770.28 1078.16 1767.94 1076.05 Q1765.6 1073.95 1761.6 1073.95 Q1759.72 1073.95 1757.85 1074.36 Q1755.99 1074.78 1754.05 1075.66 L1754.05 1058.3 Z\" fill=\"#000000\" fill-rule=\"evenodd\" fill-opacity=\"1\" /><path clip-path=\"url(#clip260)\" d=\"M 0 0 M720.89 1114.73 L726.746 1114.73 L726.746 1164.25 L720.89 1164.25 L720.89 1114.73 Z\" fill=\"#000000\" fill-rule=\"evenodd\" fill-opacity=\"1\" /><path clip-path=\"url(#clip260)\" d=\"M 0 0 M746.703 1132.71 Q741.992 1132.71 739.255 1136.4 Q736.517 1140.06 736.517 1146.46 Q736.517 1152.86 739.223 1156.55 Q741.96 1160.21 746.703 1160.21 Q751.381 1160.21 754.119 1156.52 Q756.856 1152.83 756.856 1146.46 Q756.856 1140.13 754.119 1136.43 Q751.381 1132.71 746.703 1132.71 M746.703 1127.74 Q754.341 1127.74 758.702 1132.71 Q763.062 1137.68 763.062 1146.46 Q763.062 1155.21 758.702 1160.21 Q754.341 1165.17 746.703 1165.17 Q739.032 1165.17 734.671 1160.21 Q730.343 1155.21 730.343 1146.46 Q730.343 1137.68 734.671 1132.71 Q739.032 1127.74 746.703 1127.74 Z\" fill=\"#000000\" fill-rule=\"evenodd\" fill-opacity=\"1\" /><path clip-path=\"url(#clip260)\" d=\"M 0 0 M792.663 1146.01 Q792.663 1139.65 790.021 1136.15 Q787.411 1132.65 782.669 1132.65 Q777.958 1132.65 775.316 1136.15 Q772.706 1139.65 772.706 1146.01 Q772.706 1152.35 775.316 1155.85 Q777.958 1159.35 782.669 1159.35 Q787.411 1159.35 790.021 1155.85 Q792.663 1152.35 792.663 1146.01 M798.519 1159.83 Q798.519 1168.93 794.477 1173.35 Q790.435 1177.81 782.096 1177.81 Q779.008 1177.81 776.271 1177.33 Q773.534 1176.89 770.956 1175.93 L770.956 1170.24 Q773.534 1171.64 776.048 1172.3 Q778.563 1172.97 781.173 1172.97 Q786.934 1172.97 789.798 1169.95 Q792.663 1166.96 792.663 1160.88 L792.663 1157.98 Q790.849 1161.13 788.016 1162.69 Q785.183 1164.25 781.236 1164.25 Q774.68 1164.25 770.669 1159.25 Q766.659 1154.26 766.659 1146.01 Q766.659 1137.74 770.669 1132.74 Q774.68 1127.74 781.236 1127.74 Q785.183 1127.74 788.016 1129.3 Q790.849 1130.86 792.663 1134.01 L792.663 1128.6 L798.519 1128.6 L798.519 1159.83 Z\" fill=\"#000000\" fill-rule=\"evenodd\" fill-opacity=\"1\" /><path clip-path=\"url(#clip260)\" d=\"M 0 0 M818.73 1114.79 Q814.465 1122.11 812.397 1129.27 Q810.328 1136.43 810.328 1143.79 Q810.328 1151.14 812.397 1158.36 Q814.497 1165.56 818.73 1172.85 L813.638 1172.85 Q808.864 1165.37 806.476 1158.14 Q804.121 1150.92 804.121 1143.79 Q804.121 1136.69 806.476 1129.5 Q808.832 1122.3 813.638 1114.79 L818.73 1114.79 Z\" fill=\"#000000\" fill-rule=\"evenodd\" fill-opacity=\"1\" /><path clip-path=\"url(#clip260)\" d=\"M 0 0 M838.687 1132.71 Q833.976 1132.71 831.239 1136.4 Q828.502 1140.06 828.502 1146.46 Q828.502 1152.86 831.207 1156.55 Q833.945 1160.21 838.687 1160.21 Q843.366 1160.21 846.103 1156.52 Q848.84 1152.83 848.84 1146.46 Q848.84 1140.13 846.103 1136.43 Q843.366 1132.71 838.687 1132.71 M838.687 1127.74 Q846.326 1127.74 850.686 1132.71 Q855.047 1137.68 855.047 1146.46 Q855.047 1155.21 850.686 1160.21 Q846.326 1165.17 838.687 1165.17 Q831.016 1165.17 826.656 1160.21 Q822.327 1155.21 822.327 1146.46 Q822.327 1137.68 826.656 1132.71 Q831.016 1127.74 838.687 1127.74 Z\" fill=\"#000000\" fill-rule=\"evenodd\" fill-opacity=\"1\" /><path clip-path=\"url(#clip260)\" d=\"M 0 0 M886.78 1146.46 Q886.78 1140 884.106 1136.34 Q881.465 1132.65 876.818 1132.65 Q872.171 1132.65 869.497 1136.34 Q866.855 1140 866.855 1146.46 Q866.855 1152.92 869.497 1156.61 Q872.171 1160.27 876.818 1160.27 Q881.465 1160.27 884.106 1156.61 Q886.78 1152.92 886.78 1146.46 M866.855 1134.01 Q868.701 1130.83 871.502 1129.3 Q874.335 1127.74 878.25 1127.74 Q884.743 1127.74 888.785 1132.9 Q892.859 1138.06 892.859 1146.46 Q892.859 1154.86 888.785 1160.02 Q884.743 1165.17 878.25 1165.17 Q874.335 1165.17 871.502 1163.65 Q868.701 1162.09 866.855 1158.9 L866.855 1164.25 L860.967 1164.25 L860.967 1114.73 L866.855 1114.73 L866.855 1134.01 Z\" fill=\"#000000\" fill-rule=\"evenodd\" fill-opacity=\"1\" /><path clip-path=\"url(#clip260)\" d=\"M 0 0 M921.728 1129.65 L921.728 1135.19 Q919.245 1133.92 916.571 1133.28 Q913.898 1132.65 911.033 1132.65 Q906.673 1132.65 904.477 1133.98 Q902.312 1135.32 902.312 1137.99 Q902.312 1140.03 903.872 1141.21 Q905.431 1142.35 910.142 1143.4 L912.147 1143.85 Q918.386 1145.19 920.996 1147.64 Q923.637 1150.06 923.637 1154.42 Q923.637 1159.38 919.691 1162.28 Q915.776 1165.17 908.901 1165.17 Q906.036 1165.17 902.917 1164.6 Q899.83 1164.06 896.392 1162.95 L896.392 1156.9 Q899.639 1158.59 902.79 1159.45 Q905.941 1160.27 909.028 1160.27 Q913.166 1160.27 915.394 1158.87 Q917.622 1157.44 917.622 1154.86 Q917.622 1152.48 915.998 1151.2 Q914.407 1149.93 908.964 1148.75 L906.927 1148.27 Q901.485 1147.13 899.066 1144.77 Q896.647 1142.39 896.647 1138.25 Q896.647 1133.22 900.212 1130.48 Q903.776 1127.74 910.333 1127.74 Q913.58 1127.74 916.444 1128.22 Q919.309 1128.7 921.728 1129.65 Z\" fill=\"#000000\" fill-rule=\"evenodd\" fill-opacity=\"1\" /><path clip-path=\"url(#clip260)\" d=\"M 0 0 M960.272 1144.96 L960.272 1147.83 L933.345 1147.83 Q933.727 1153.88 936.973 1157.06 Q940.252 1160.21 946.076 1160.21 Q949.45 1160.21 952.601 1159.38 Q955.784 1158.55 958.903 1156.9 L958.903 1162.44 Q955.752 1163.77 952.442 1164.47 Q949.132 1165.17 945.726 1165.17 Q937.196 1165.17 932.199 1160.21 Q927.234 1155.24 927.234 1146.78 Q927.234 1138.03 931.945 1132.9 Q936.687 1127.74 944.708 1127.74 Q951.901 1127.74 956.071 1132.39 Q960.272 1137.01 960.272 1144.96 M954.416 1143.25 Q954.352 1138.44 951.71 1135.57 Q949.1 1132.71 944.771 1132.71 Q939.87 1132.71 936.91 1135.48 Q933.982 1138.25 933.536 1143.28 L954.416 1143.25 Z\" fill=\"#000000\" fill-rule=\"evenodd\" fill-opacity=\"1\" /><path clip-path=\"url(#clip260)\" d=\"M 0 0 M987.072 1134.08 Q986.085 1133.51 984.907 1133.25 Q983.761 1132.96 982.361 1132.96 Q977.396 1132.96 974.722 1136.21 Q972.08 1139.43 972.08 1145.47 L972.08 1164.25 L966.192 1164.25 L966.192 1128.6 L972.08 1128.6 L972.08 1134.14 Q973.926 1130.9 976.886 1129.34 Q979.847 1127.74 984.08 1127.74 Q984.684 1127.74 985.417 1127.84 Q986.149 1127.9 987.04 1128.06 L987.072 1134.08 Z\" fill=\"#000000\" fill-rule=\"evenodd\" fill-opacity=\"1\" /><path clip-path=\"url(#clip260)\" d=\"M 0 0 M989.013 1128.6 L995.22 1128.6 L1006.36 1158.52 L1017.5 1128.6 L1023.71 1128.6 L1010.34 1164.25 L1002.38 1164.25 L989.013 1128.6 Z\" fill=\"#000000\" fill-rule=\"evenodd\" fill-opacity=\"1\" /><path clip-path=\"url(#clip260)\" d=\"M 0 0 M1060.34 1144.96 L1060.34 1147.83 L1033.41 1147.83 Q1033.8 1153.88 1037.04 1157.06 Q1040.32 1160.21 1046.15 1160.21 Q1049.52 1160.21 1052.67 1159.38 Q1055.85 1158.55 1058.97 1156.9 L1058.97 1162.44 Q1055.82 1163.77 1052.51 1164.47 Q1049.2 1165.17 1045.8 1165.17 Q1037.27 1165.17 1032.27 1160.21 Q1027.3 1155.24 1027.3 1146.78 Q1027.3 1138.03 1032.01 1132.9 Q1036.76 1127.74 1044.78 1127.74 Q1051.97 1127.74 1056.14 1132.39 Q1060.34 1137.01 1060.34 1144.96 M1054.48 1143.25 Q1054.42 1138.44 1051.78 1135.57 Q1049.17 1132.71 1044.84 1132.71 Q1039.94 1132.71 1036.98 1135.48 Q1034.05 1138.25 1033.6 1143.28 L1054.48 1143.25 Z\" fill=\"#000000\" fill-rule=\"evenodd\" fill-opacity=\"1\" /><path clip-path=\"url(#clip260)\" d=\"M 0 0 M1089.94 1134.01 L1089.94 1114.73 L1095.8 1114.73 L1095.8 1164.25 L1089.94 1164.25 L1089.94 1158.9 Q1088.1 1162.09 1085.26 1163.65 Q1082.46 1165.17 1078.51 1165.17 Q1072.05 1165.17 1067.98 1160.02 Q1063.94 1154.86 1063.94 1146.46 Q1063.94 1138.06 1067.98 1132.9 Q1072.05 1127.74 1078.51 1127.74 Q1082.46 1127.74 1085.26 1129.3 Q1088.1 1130.83 1089.94 1134.01 M1069.98 1146.46 Q1069.98 1152.92 1072.63 1156.61 Q1075.3 1160.27 1079.95 1160.27 Q1084.59 1160.27 1087.27 1156.61 Q1089.94 1152.92 1089.94 1146.46 Q1089.94 1140 1087.27 1136.34 Q1084.59 1132.65 1079.95 1132.65 Q1075.3 1132.65 1072.63 1136.34 Q1069.98 1140 1069.98 1146.46 Z\" fill=\"#000000\" fill-rule=\"evenodd\" fill-opacity=\"1\" /><path clip-path=\"url(#clip260)\" d=\"M 0 0 M1140.71 1114.73 L1140.71 1119.6 L1135.11 1119.6 Q1131.96 1119.6 1130.71 1120.87 Q1129.5 1122.14 1129.5 1125.45 L1129.5 1128.6 L1139.15 1128.6 L1139.15 1133.16 L1129.5 1133.16 L1129.5 1164.25 L1123.62 1164.25 L1123.62 1133.16 L1118.01 1133.16 L1118.01 1128.6 L1123.62 1128.6 L1123.62 1126.12 Q1123.62 1120.17 1126.39 1117.46 Q1129.15 1114.73 1135.17 1114.73 L1140.71 1114.73 Z\" fill=\"#000000\" fill-rule=\"evenodd\" fill-opacity=\"1\" /><path clip-path=\"url(#clip260)\" d=\"M 0 0 M1167.51 1134.08 Q1166.52 1133.51 1165.34 1133.25 Q1164.2 1132.96 1162.8 1132.96 Q1157.83 1132.96 1155.16 1136.21 Q1152.52 1139.43 1152.52 1145.47 L1152.52 1164.25 L1146.63 1164.25 L1146.63 1128.6 L1152.52 1128.6 L1152.52 1134.14 Q1154.36 1130.9 1157.32 1129.34 Q1160.28 1127.74 1164.52 1127.74 Q1165.12 1127.74 1165.85 1127.84 Q1166.58 1127.9 1167.48 1128.06 L1167.51 1134.08 Z\" fill=\"#000000\" fill-rule=\"evenodd\" fill-opacity=\"1\" /><path clip-path=\"url(#clip260)\" d=\"M 0 0 M1202.71 1144.96 L1202.71 1147.83 L1175.78 1147.83 Q1176.16 1153.88 1179.41 1157.06 Q1182.69 1160.21 1188.51 1160.21 Q1191.89 1160.21 1195.04 1159.38 Q1198.22 1158.55 1201.34 1156.9 L1201.34 1162.44 Q1198.19 1163.77 1194.88 1164.47 Q1191.57 1165.17 1188.16 1165.17 Q1179.63 1165.17 1174.64 1160.21 Q1169.67 1155.24 1169.67 1146.78 Q1169.67 1138.03 1174.38 1132.9 Q1179.12 1127.74 1187.15 1127.74 Q1194.34 1127.74 1198.51 1132.39 Q1202.71 1137.01 1202.71 1144.96 M1196.85 1143.25 Q1196.79 1138.44 1194.15 1135.57 Q1191.54 1132.71 1187.21 1132.71 Q1182.31 1132.71 1179.35 1135.48 Q1176.42 1138.25 1175.97 1143.28 L1196.85 1143.25 Z\" fill=\"#000000\" fill-rule=\"evenodd\" fill-opacity=\"1\" /><path clip-path=\"url(#clip260)\" d=\"M 0 0 M1212.35 1146.46 Q1212.35 1152.92 1215 1156.61 Q1217.67 1160.27 1222.32 1160.27 Q1226.96 1160.27 1229.64 1156.61 Q1232.31 1152.92 1232.31 1146.46 Q1232.31 1140 1229.64 1136.34 Q1226.96 1132.65 1222.32 1132.65 Q1217.67 1132.65 1215 1136.34 Q1212.35 1140 1212.35 1146.46 M1232.31 1158.9 Q1230.46 1162.09 1227.63 1163.65 Q1224.83 1165.17 1220.88 1165.17 Q1214.42 1165.17 1210.35 1160.02 Q1206.31 1154.86 1206.31 1146.46 Q1206.31 1138.06 1210.35 1132.9 Q1214.42 1127.74 1220.88 1127.74 Q1224.83 1127.74 1227.63 1129.3 Q1230.46 1130.83 1232.31 1134.01 L1232.31 1128.6 L1238.17 1128.6 L1238.17 1177.81 L1232.31 1177.81 L1232.31 1158.9 Z\" fill=\"#000000\" fill-rule=\"evenodd\" fill-opacity=\"1\" /><path clip-path=\"url(#clip260)\" d=\"M 0 0 M1243.71 1150.18 L1243.71 1128.6 L1249.56 1128.6 L1249.56 1149.96 Q1249.56 1155.02 1251.53 1157.57 Q1253.51 1160.08 1257.45 1160.08 Q1262.2 1160.08 1264.93 1157.06 Q1267.7 1154.03 1267.7 1148.82 L1267.7 1128.6 L1273.56 1128.6 L1273.56 1164.25 L1267.7 1164.25 L1267.7 1158.78 Q1265.57 1162.02 1262.74 1163.62 Q1259.94 1165.17 1256.21 1165.17 Q1250.07 1165.17 1246.89 1161.36 Q1243.71 1157.54 1243.71 1150.18 M1258.44 1127.74 L1258.44 1127.74 Z\" fill=\"#000000\" fill-rule=\"evenodd\" fill-opacity=\"1\" /><path clip-path=\"url(#clip260)\" d=\"M 0 0 M1310.19 1144.96 L1310.19 1147.83 L1283.27 1147.83 Q1283.65 1153.88 1286.9 1157.06 Q1290.17 1160.21 1296 1160.21 Q1299.37 1160.21 1302.52 1159.38 Q1305.71 1158.55 1308.83 1156.9 L1308.83 1162.44 Q1305.68 1163.77 1302.37 1164.47 Q1299.05 1165.17 1295.65 1165.17 Q1287.12 1165.17 1282.12 1160.21 Q1277.16 1155.24 1277.16 1146.78 Q1277.16 1138.03 1281.87 1132.9 Q1286.61 1127.74 1294.63 1127.74 Q1301.82 1127.74 1305.99 1132.39 Q1310.19 1137.01 1310.19 1144.96 M1304.34 1143.25 Q1304.27 1138.44 1301.63 1135.57 Q1299.02 1132.71 1294.69 1132.71 Q1289.79 1132.71 1286.83 1135.48 Q1283.9 1138.25 1283.46 1143.28 L1304.34 1143.25 Z\" fill=\"#000000\" fill-rule=\"evenodd\" fill-opacity=\"1\" /><path clip-path=\"url(#clip260)\" d=\"M 0 0 M1345.97 1142.74 L1345.97 1164.25 L1340.11 1164.25 L1340.11 1142.93 Q1340.11 1137.87 1338.14 1135.35 Q1336.17 1132.84 1332.22 1132.84 Q1327.48 1132.84 1324.74 1135.86 Q1322 1138.88 1322 1144.1 L1322 1164.25 L1316.11 1164.25 L1316.11 1128.6 L1322 1128.6 L1322 1134.14 Q1324.1 1130.93 1326.94 1129.34 Q1329.8 1127.74 1333.53 1127.74 Q1339.67 1127.74 1342.82 1131.56 Q1345.97 1135.35 1345.97 1142.74 Z\" fill=\"#000000\" fill-rule=\"evenodd\" fill-opacity=\"1\" /><path clip-path=\"url(#clip260)\" d=\"M 0 0 M1377.77 1129.97 L1377.77 1135.45 Q1375.28 1134.08 1372.77 1133.41 Q1370.29 1132.71 1367.74 1132.71 Q1362.04 1132.71 1358.89 1136.34 Q1355.74 1139.93 1355.74 1146.46 Q1355.74 1152.98 1358.89 1156.61 Q1362.04 1160.21 1367.74 1160.21 Q1370.29 1160.21 1372.77 1159.54 Q1375.28 1158.84 1377.77 1157.47 L1377.77 1162.88 Q1375.32 1164.03 1372.67 1164.6 Q1370.06 1165.17 1367.1 1165.17 Q1359.05 1165.17 1354.31 1160.11 Q1349.57 1155.05 1349.57 1146.46 Q1349.57 1137.74 1354.34 1132.74 Q1359.15 1127.74 1367.49 1127.74 Q1370.19 1127.74 1372.77 1128.32 Q1375.35 1128.86 1377.77 1129.97 Z\" fill=\"#000000\" fill-rule=\"evenodd\" fill-opacity=\"1\" /><path clip-path=\"url(#clip260)\" d=\"M 0 0 M1398.74 1167.56 Q1396.26 1173.93 1393.9 1175.87 Q1391.55 1177.81 1387.6 1177.81 L1382.92 1177.81 L1382.92 1172.91 L1386.36 1172.91 Q1388.78 1172.91 1390.12 1171.76 Q1391.45 1170.62 1393.08 1166.35 L1394.13 1163.68 L1379.71 1128.6 L1385.91 1128.6 L1397.05 1156.49 L1408.19 1128.6 L1414.4 1128.6 L1398.74 1167.56 Z\" fill=\"#000000\" fill-rule=\"evenodd\" fill-opacity=\"1\" /><path clip-path=\"url(#clip260)\" d=\"M 0 0 M1419.62 1114.79 L1424.71 1114.79 Q1429.49 1122.3 1431.84 1129.5 Q1434.23 1136.69 1434.23 1143.79 Q1434.23 1150.92 1431.84 1158.14 Q1429.49 1165.37 1424.71 1172.85 L1419.62 1172.85 Q1423.85 1165.56 1425.92 1158.36 Q1428.02 1151.14 1428.02 1143.79 Q1428.02 1136.43 1425.92 1129.27 Q1423.85 1122.11 1419.62 1114.79 Z\" fill=\"#000000\" fill-rule=\"evenodd\" fill-opacity=\"1\" /><polyline clip-path=\"url(#clip262)\" style=\"stroke:#000000; stroke-width:2; stroke-opacity:0.1; fill:none\" points=\"\n",
       "  202.364,1035.39 1952.76,1035.39 \n",
       "  \"/>\n",
       "<polyline clip-path=\"url(#clip262)\" style=\"stroke:#000000; stroke-width:2; stroke-opacity:0.1; fill:none\" points=\"\n",
       "  202.364,764.306 1952.76,764.306 \n",
       "  \"/>\n",
       "<polyline clip-path=\"url(#clip262)\" style=\"stroke:#000000; stroke-width:2; stroke-opacity:0.1; fill:none\" points=\"\n",
       "  202.364,493.224 1952.76,493.224 \n",
       "  \"/>\n",
       "<polyline clip-path=\"url(#clip262)\" style=\"stroke:#000000; stroke-width:2; stroke-opacity:0.1; fill:none\" points=\"\n",
       "  202.364,222.142 1952.76,222.142 \n",
       "  \"/>\n",
       "<polyline clip-path=\"url(#clip260)\" style=\"stroke:#000000; stroke-width:4; stroke-opacity:1; fill:none\" points=\"\n",
       "  202.364,1035.39 202.364,117.424 \n",
       "  \"/>\n",
       "<polyline clip-path=\"url(#clip260)\" style=\"stroke:#000000; stroke-width:4; stroke-opacity:1; fill:none\" points=\"\n",
       "  202.364,1035.39 223.369,1035.39 \n",
       "  \"/>\n",
       "<polyline clip-path=\"url(#clip260)\" style=\"stroke:#000000; stroke-width:4; stroke-opacity:1; fill:none\" points=\"\n",
       "  202.364,764.306 223.369,764.306 \n",
       "  \"/>\n",
       "<polyline clip-path=\"url(#clip260)\" style=\"stroke:#000000; stroke-width:4; stroke-opacity:1; fill:none\" points=\"\n",
       "  202.364,493.224 223.369,493.224 \n",
       "  \"/>\n",
       "<polyline clip-path=\"url(#clip260)\" style=\"stroke:#000000; stroke-width:4; stroke-opacity:1; fill:none\" points=\"\n",
       "  202.364,222.142 223.369,222.142 \n",
       "  \"/>\n",
       "<path clip-path=\"url(#clip260)\" d=\"M 0 0 M123.453 1021.19 Q119.841 1021.19 118.013 1024.75 Q116.207 1028.29 116.207 1035.42 Q116.207 1042.53 118.013 1046.09 Q119.841 1049.64 123.453 1049.64 Q127.087 1049.64 128.892 1046.09 Q130.721 1042.53 130.721 1035.42 Q130.721 1028.29 128.892 1024.75 Q127.087 1021.19 123.453 1021.19 M123.453 1017.48 Q129.263 1017.48 132.318 1022.09 Q135.397 1026.67 135.397 1035.42 Q135.397 1044.15 132.318 1048.76 Q129.263 1053.34 123.453 1053.34 Q117.642 1053.34 114.564 1048.76 Q111.508 1044.15 111.508 1035.42 Q111.508 1026.67 114.564 1022.09 Q117.642 1017.48 123.453 1017.48 Z\" fill=\"#000000\" fill-rule=\"evenodd\" fill-opacity=\"1\" /><path clip-path=\"url(#clip260)\" d=\"M 0 0 M140.466 1046.79 L145.351 1046.79 L145.351 1052.67 L140.466 1052.67 L140.466 1046.79 Z\" fill=\"#000000\" fill-rule=\"evenodd\" fill-opacity=\"1\" /><path clip-path=\"url(#clip260)\" d=\"M 0 0 M160.42 1021.19 Q156.809 1021.19 154.98 1024.75 Q153.175 1028.29 153.175 1035.42 Q153.175 1042.53 154.98 1046.09 Q156.809 1049.64 160.42 1049.64 Q164.054 1049.64 165.86 1046.09 Q167.688 1042.53 167.688 1035.42 Q167.688 1028.29 165.86 1024.75 Q164.054 1021.19 160.42 1021.19 M160.42 1017.48 Q166.23 1017.48 169.286 1022.09 Q172.364 1026.67 172.364 1035.42 Q172.364 1044.15 169.286 1048.76 Q166.23 1053.34 160.42 1053.34 Q154.61 1053.34 151.531 1048.76 Q148.476 1044.15 148.476 1035.42 Q148.476 1026.67 151.531 1022.09 Q154.61 1017.48 160.42 1017.48 Z\" fill=\"#000000\" fill-rule=\"evenodd\" fill-opacity=\"1\" /><path clip-path=\"url(#clip260)\" d=\"M 0 0 M124.448 750.104 Q120.837 750.104 119.008 753.669 Q117.203 757.211 117.203 764.34 Q117.203 771.447 119.008 775.012 Q120.837 778.553 124.448 778.553 Q128.082 778.553 129.888 775.012 Q131.716 771.447 131.716 764.34 Q131.716 757.211 129.888 753.669 Q128.082 750.104 124.448 750.104 M124.448 746.401 Q130.258 746.401 133.314 751.007 Q136.392 755.591 136.392 764.34 Q136.392 773.067 133.314 777.674 Q130.258 782.257 124.448 782.257 Q118.638 782.257 115.559 777.674 Q112.504 773.067 112.504 764.34 Q112.504 755.591 115.559 751.007 Q118.638 746.401 124.448 746.401 Z\" fill=\"#000000\" fill-rule=\"evenodd\" fill-opacity=\"1\" /><path clip-path=\"url(#clip260)\" d=\"M 0 0 M141.462 775.706 L146.346 775.706 L146.346 781.586 L141.462 781.586 L141.462 775.706 Z\" fill=\"#000000\" fill-rule=\"evenodd\" fill-opacity=\"1\" /><path clip-path=\"url(#clip260)\" d=\"M 0 0 M151.462 747.026 L169.818 747.026 L169.818 750.961 L155.744 750.961 L155.744 759.433 Q156.763 759.086 157.781 758.924 Q158.8 758.739 159.818 758.739 Q165.605 758.739 168.985 761.91 Q172.364 765.081 172.364 770.498 Q172.364 776.077 168.892 779.178 Q165.42 782.257 159.1 782.257 Q156.925 782.257 154.656 781.887 Q152.411 781.516 150.003 780.776 L150.003 776.077 Q152.087 777.211 154.309 777.766 Q156.531 778.322 159.008 778.322 Q163.013 778.322 165.35 776.215 Q167.688 774.109 167.688 770.498 Q167.688 766.887 165.35 764.78 Q163.013 762.674 159.008 762.674 Q157.133 762.674 155.258 763.09 Q153.406 763.507 151.462 764.387 L151.462 747.026 Z\" fill=\"#000000\" fill-rule=\"evenodd\" fill-opacity=\"1\" /><path clip-path=\"url(#clip260)\" d=\"M 0 0 M115.49 506.569 L123.128 506.569 L123.128 480.203 L114.818 481.87 L114.818 477.61 L123.082 475.944 L127.758 475.944 L127.758 506.569 L135.397 506.569 L135.397 510.504 L115.49 510.504 L115.49 506.569 Z\" fill=\"#000000\" fill-rule=\"evenodd\" fill-opacity=\"1\" /><path clip-path=\"url(#clip260)\" d=\"M 0 0 M140.466 504.624 L145.351 504.624 L145.351 510.504 L140.466 510.504 L140.466 504.624 Z\" fill=\"#000000\" fill-rule=\"evenodd\" fill-opacity=\"1\" /><path clip-path=\"url(#clip260)\" d=\"M 0 0 M160.42 479.022 Q156.809 479.022 154.98 482.587 Q153.175 486.129 153.175 493.258 Q153.175 500.365 154.98 503.93 Q156.809 507.471 160.42 507.471 Q164.054 507.471 165.86 503.93 Q167.688 500.365 167.688 493.258 Q167.688 486.129 165.86 482.587 Q164.054 479.022 160.42 479.022 M160.42 475.319 Q166.23 475.319 169.286 479.925 Q172.364 484.508 172.364 493.258 Q172.364 501.985 169.286 506.592 Q166.23 511.175 160.42 511.175 Q154.61 511.175 151.531 506.592 Q148.476 501.985 148.476 493.258 Q148.476 484.508 151.531 479.925 Q154.61 475.319 160.42 475.319 Z\" fill=\"#000000\" fill-rule=\"evenodd\" fill-opacity=\"1\" /><path clip-path=\"url(#clip260)\" d=\"M 0 0 M116.485 235.486 L124.124 235.486 L124.124 209.121 L115.814 210.787 L115.814 206.528 L124.078 204.862 L128.753 204.862 L128.753 235.486 L136.392 235.486 L136.392 239.422 L116.485 239.422 L116.485 235.486 Z\" fill=\"#000000\" fill-rule=\"evenodd\" fill-opacity=\"1\" /><path clip-path=\"url(#clip260)\" d=\"M 0 0 M141.462 233.542 L146.346 233.542 L146.346 239.422 L141.462 239.422 L141.462 233.542 Z\" fill=\"#000000\" fill-rule=\"evenodd\" fill-opacity=\"1\" /><path clip-path=\"url(#clip260)\" d=\"M 0 0 M151.462 204.862 L169.818 204.862 L169.818 208.797 L155.744 208.797 L155.744 217.269 Q156.763 216.922 157.781 216.76 Q158.8 216.575 159.818 216.575 Q165.605 216.575 168.985 219.746 Q172.364 222.917 172.364 228.334 Q172.364 233.912 168.892 237.014 Q165.42 240.093 159.1 240.093 Q156.925 240.093 154.656 239.723 Q152.411 239.352 150.003 238.611 L150.003 233.912 Q152.087 235.047 154.309 235.602 Q156.531 236.158 159.008 236.158 Q163.013 236.158 165.35 234.051 Q167.688 231.945 167.688 228.334 Q167.688 224.723 165.35 222.616 Q163.013 220.51 159.008 220.51 Q157.133 220.51 155.258 220.926 Q153.406 221.343 151.462 222.223 L151.462 204.862 Z\" fill=\"#000000\" fill-rule=\"evenodd\" fill-opacity=\"1\" /><path clip-path=\"url(#clip260)\" d=\"M 0 0 M37.727 805.89 L37.727 800.033 L87.2522 800.033 L87.2522 805.89 L37.727 805.89 Z\" fill=\"#000000\" fill-rule=\"evenodd\" fill-opacity=\"1\" /><path clip-path=\"url(#clip260)\" d=\"M 0 0 M55.7101 780.077 Q55.7101 784.787 59.4022 787.525 Q63.0625 790.262 69.46 790.262 Q75.8575 790.262 79.5497 787.556 Q83.2099 784.819 83.2099 780.077 Q83.2099 775.398 79.5178 772.661 Q75.8257 769.923 69.46 769.923 Q63.1261 769.923 59.434 772.661 Q55.7101 775.398 55.7101 780.077 M50.7448 780.077 Q50.7448 772.438 55.7101 768.077 Q60.6753 763.717 69.46 763.717 Q78.2129 763.717 83.2099 768.077 Q88.1752 772.438 88.1752 780.077 Q88.1752 787.747 83.2099 792.108 Q78.2129 796.437 69.46 796.437 Q60.6753 796.437 55.7101 792.108 Q50.7448 787.747 50.7448 780.077 Z\" fill=\"#000000\" fill-rule=\"evenodd\" fill-opacity=\"1\" /><path clip-path=\"url(#clip260)\" d=\"M 0 0 M69.0144 734.116 Q62.6487 734.116 59.1476 736.758 Q55.6464 739.368 55.6464 744.111 Q55.6464 748.821 59.1476 751.463 Q62.6487 754.073 69.0144 754.073 Q75.3483 754.073 78.8494 751.463 Q82.3506 748.821 82.3506 744.111 Q82.3506 739.368 78.8494 736.758 Q75.3483 734.116 69.0144 734.116 M82.828 728.26 Q91.931 728.26 96.3551 732.302 Q100.811 736.344 100.811 744.683 Q100.811 747.771 100.334 750.508 Q99.8881 753.245 98.9332 755.823 L93.2359 755.823 Q94.6364 753.245 95.3048 750.731 Q95.9732 748.216 95.9732 745.606 Q95.9732 739.846 92.9495 736.981 Q89.9576 734.116 83.8783 734.116 L80.9819 734.116 Q84.133 735.931 85.6926 738.763 Q87.2522 741.596 87.2522 745.543 Q87.2522 752.099 82.2551 756.11 Q77.258 760.12 69.0144 760.12 Q60.739 760.12 55.7419 756.11 Q50.7448 752.099 50.7448 745.543 Q50.7448 741.596 52.3044 738.763 Q53.864 735.931 57.0151 734.116 L51.6042 734.116 L51.6042 728.26 L82.828 728.26 Z\" fill=\"#000000\" fill-rule=\"evenodd\" fill-opacity=\"1\" /><path clip-path=\"url(#clip260)\" d=\"M 0 0 M37.7906 708.049 Q45.1112 712.314 52.2726 714.383 Q59.434 716.452 66.7864 716.452 Q74.1388 716.452 81.3639 714.383 Q88.5571 712.282 95.8459 708.049 L95.8459 713.141 Q88.3662 717.916 81.1411 720.303 Q73.916 722.658 66.7864 722.658 Q59.6886 722.658 52.4954 720.303 Q45.3022 717.947 37.7906 713.141 L37.7906 708.049 Z\" fill=\"#000000\" fill-rule=\"evenodd\" fill-opacity=\"1\" /><path clip-path=\"url(#clip260)\" d=\"M 0 0 M58.5746 674.724 L58.5746 683.986 L69.2054 686.66 L69.2054 677.334 L58.5746 674.724 M40.4642 679.499 L53.6731 682.809 L53.6731 673.515 L40.4642 670.173 L40.4642 665.08 L53.6731 668.359 L53.6731 658.428 L58.5746 658.428 L58.5746 669.6 L69.2054 672.21 L69.2054 662.088 L74.0751 662.088 L74.0751 673.451 L87.2522 676.761 L87.2522 681.854 L74.0751 678.576 L74.0751 687.901 L87.2522 691.18 L87.2522 696.304 L74.0751 692.994 L74.0751 703.02 L69.2054 703.02 L69.2054 691.816 L58.5746 689.143 L58.5746 699.391 L53.6731 699.391 L53.6731 687.901 L40.4642 684.655 L40.4642 679.499 Z\" fill=\"#000000\" fill-rule=\"evenodd\" fill-opacity=\"1\" /><path clip-path=\"url(#clip260)\" d=\"M 0 0 M55.7101 617.751 Q55.7101 622.462 59.4022 625.199 Q63.0625 627.936 69.46 627.936 Q75.8575 627.936 79.5497 625.231 Q83.2099 622.494 83.2099 617.751 Q83.2099 613.072 79.5178 610.335 Q75.8257 607.598 69.46 607.598 Q63.1261 607.598 59.434 610.335 Q55.7101 613.072 55.7101 617.751 M50.7448 617.751 Q50.7448 610.112 55.7101 605.752 Q60.6753 601.391 69.46 601.391 Q78.2129 601.391 83.2099 605.752 Q88.1752 610.112 88.1752 617.751 Q88.1752 625.422 83.2099 629.782 Q78.2129 634.111 69.46 634.111 Q60.6753 634.111 55.7101 629.782 Q50.7448 625.422 50.7448 617.751 Z\" fill=\"#000000\" fill-rule=\"evenodd\" fill-opacity=\"1\" /><path clip-path=\"url(#clip260)\" d=\"M 0 0 M37.727 577.202 L42.5967 577.202 L42.5967 582.804 Q42.5967 585.955 43.8699 587.196 Q45.143 588.405 48.4532 588.405 L51.6042 588.405 L51.6042 578.761 L56.1557 578.761 L56.1557 588.405 L87.2522 588.405 L87.2522 594.294 L56.1557 594.294 L56.1557 599.895 L51.6042 599.895 L51.6042 594.294 L49.1216 594.294 Q43.1696 594.294 40.4642 591.525 Q37.727 588.755 37.727 582.74 L37.727 577.202 Z\" fill=\"#000000\" fill-rule=\"evenodd\" fill-opacity=\"1\" /><path clip-path=\"url(#clip260)\" d=\"M 0 0 M37.727 550.561 L37.727 544.673 L66.9774 544.673 L51.6042 527.199 L51.6042 519.719 L68.2824 538.626 L87.2522 518.924 L87.2522 526.563 L69.8419 544.673 L87.2522 544.673 L87.2522 550.561 L37.727 550.561 Z\" fill=\"#000000\" fill-rule=\"evenodd\" fill-opacity=\"1\" /><path clip-path=\"url(#clip260)\" d=\"M 0 0 M58.4473 485.026 Q54.5006 482.83 52.6227 479.775 Q50.7448 476.719 50.7448 472.581 Q50.7448 467.011 54.6597 463.988 Q58.5428 460.964 65.7361 460.964 L87.2522 460.964 L87.2522 466.852 L65.927 466.852 Q60.8026 466.852 58.32 468.666 Q55.8374 470.481 55.8374 474.205 Q55.8374 478.756 58.8611 481.398 Q61.8848 484.04 67.1047 484.04 L87.2522 484.04 L87.2522 489.928 L65.927 489.928 Q60.7708 489.928 58.32 491.742 Q55.8374 493.556 55.8374 497.344 Q55.8374 501.832 58.8929 504.473 Q61.9166 507.115 67.1047 507.115 L87.2522 507.115 L87.2522 513.004 L51.6042 513.004 L51.6042 507.115 L57.1424 507.115 Q53.864 505.11 52.3044 502.309 Q50.7448 499.508 50.7448 495.657 Q50.7448 491.774 52.7182 489.068 Q54.6916 486.331 58.4473 485.026 Z\" fill=\"#000000\" fill-rule=\"evenodd\" fill-opacity=\"1\" /><path clip-path=\"url(#clip260)\" d=\"M 0 0 M67.9641 424.329 L70.8286 424.329 L70.8286 451.256 Q76.8761 450.874 80.0589 447.628 Q83.2099 444.349 83.2099 438.525 Q83.2099 435.151 82.3824 432 Q81.5549 428.817 79.8998 425.698 L85.4379 425.698 Q86.7747 428.849 87.475 432.159 Q88.1752 435.469 88.1752 438.875 Q88.1752 447.405 83.2099 452.402 Q78.2447 457.367 69.7783 457.367 Q61.0254 457.367 55.9011 452.657 Q50.7448 447.914 50.7448 439.893 Q50.7448 432.7 55.3918 428.531 Q60.0069 424.329 67.9641 424.329 M66.2453 430.186 Q61.4392 430.249 58.5746 432.891 Q55.7101 435.501 55.7101 439.83 Q55.7101 444.731 58.4792 447.691 Q61.2482 450.62 66.2772 451.065 L66.2453 430.186 Z\" fill=\"#000000\" fill-rule=\"evenodd\" fill-opacity=\"1\" /><path clip-path=\"url(#clip260)\" d=\"M 0 0 M57.0787 397.53 Q56.5058 398.516 56.2512 399.694 Q55.9647 400.84 55.9647 402.24 Q55.9647 407.206 59.2112 409.879 Q62.4259 412.521 68.4733 412.521 L87.2522 412.521 L87.2522 418.409 L51.6042 418.409 L51.6042 412.521 L57.1424 412.521 Q53.8959 410.675 52.3363 407.715 Q50.7448 404.755 50.7448 400.522 Q50.7448 399.917 50.8403 399.185 Q50.904 398.453 51.0631 397.561 L57.0787 397.53 Z\" fill=\"#000000\" fill-rule=\"evenodd\" fill-opacity=\"1\" /><path clip-path=\"url(#clip260)\" d=\"M 0 0 M52.6545 368.661 L58.1927 368.661 Q56.9196 371.144 56.283 373.817 Q55.6464 376.491 55.6464 379.356 Q55.6464 383.716 56.9832 385.912 Q58.32 388.077 60.9936 388.077 Q63.0306 388.077 64.2083 386.517 Q65.3541 384.957 66.4045 380.247 L66.8501 378.242 Q68.1869 372.003 70.6377 369.393 Q73.0566 366.751 77.4171 366.751 Q82.3824 366.751 85.2788 370.698 Q88.1752 374.613 88.1752 381.488 Q88.1752 384.353 87.6023 387.472 Q87.0612 390.559 85.9472 393.997 L79.8998 393.997 Q81.5867 390.75 82.446 387.599 Q83.2736 384.448 83.2736 381.361 Q83.2736 377.223 81.8731 374.995 Q80.4409 372.767 77.8627 372.767 Q75.4756 372.767 74.2025 374.39 Q72.9293 375.982 71.7517 381.424 L71.2742 383.461 Q70.1284 388.904 67.7731 391.323 Q65.386 393.742 61.2482 393.742 Q56.2193 393.742 53.4821 390.177 Q50.7448 386.612 50.7448 380.056 Q50.7448 376.809 51.2223 373.945 Q51.6997 371.08 52.6545 368.661 Z\" fill=\"#000000\" fill-rule=\"evenodd\" fill-opacity=\"1\" /><path clip-path=\"url(#clip260)\" d=\"M 0 0 M37.7906 361.532 L37.7906 356.439 Q45.3022 351.665 52.4954 349.309 Q59.6886 346.922 66.7864 346.922 Q73.916 346.922 81.1411 349.309 Q88.3662 351.665 95.8459 356.439 L95.8459 361.532 Q88.5571 357.298 81.3639 355.23 Q74.1388 353.129 66.7864 353.129 Q59.434 353.129 52.2726 355.23 Q45.1112 357.298 37.7906 361.532 Z\" fill=\"#000000\" fill-rule=\"evenodd\" fill-opacity=\"1\" /><path clip-path=\"url(#clip260)\" d=\"M 0 0 M977.847 9.54393 L985.341 9.54393 L985.341 46.7717 L1007.58 27.2059 L1017.1 27.2059 L993.038 48.4326 L1018.11 72.576 L1008.39 72.576 L985.341 50.4176 L985.341 72.576 L977.847 72.576 L977.847 9.54393 Z\" fill=\"#000000\" fill-rule=\"evenodd\" fill-opacity=\"1\" /><path clip-path=\"url(#clip260)\" d=\"M 0 0 M1053.27 34.9026 L1105.21 34.9026 L1105.21 41.7081 L1053.27 41.7081 L1053.27 34.9026 M1053.27 51.4303 L1105.21 51.4303 L1105.21 58.3168 L1053.27 58.3168 L1053.27 51.4303 Z\" fill=\"#000000\" fill-rule=\"evenodd\" fill-opacity=\"1\" /><path clip-path=\"url(#clip260)\" d=\"M 0 0 M1138.38 12.096 L1177.27 12.096 L1177.27 15.5798 L1155.32 72.576 L1146.77 72.576 L1167.43 18.9825 L1138.38 18.9825 L1138.38 12.096 Z\" fill=\"#000000\" fill-rule=\"evenodd\" fill-opacity=\"1\" /><circle clip-path=\"url(#clip262)\" cx=\"1640.47\" cy=\"659.588\" r=\"14\" fill=\"#009af9\" fill-rule=\"evenodd\" fill-opacity=\"1\" stroke=\"#000000\" stroke-opacity=\"1\" stroke-width=\"2.4\"/>\n",
       "<circle clip-path=\"url(#clip262)\" cx=\"418.821\" cy=\"1035.39\" r=\"14\" fill=\"#009af9\" fill-rule=\"evenodd\" fill-opacity=\"1\" stroke=\"#000000\" stroke-opacity=\"1\" stroke-width=\"2.4\"/>\n",
       "<circle clip-path=\"url(#clip262)\" cx=\"545.441\" cy=\"1035.39\" r=\"14\" fill=\"#009af9\" fill-rule=\"evenodd\" fill-opacity=\"1\" stroke=\"#000000\" stroke-opacity=\"1\" stroke-width=\"2.4\"/>\n",
       "<circle clip-path=\"url(#clip262)\" cx=\"1621.15\" cy=\"1035.39\" r=\"14\" fill=\"#009af9\" fill-rule=\"evenodd\" fill-opacity=\"1\" stroke=\"#000000\" stroke-opacity=\"1\" stroke-width=\"2.4\"/>\n",
       "<circle clip-path=\"url(#clip262)\" cx=\"1611.02\" cy=\"1035.39\" r=\"14\" fill=\"#009af9\" fill-rule=\"evenodd\" fill-opacity=\"1\" stroke=\"#000000\" stroke-opacity=\"1\" stroke-width=\"2.4\"/>\n",
       "</svg>\n"
      ]
     },
     "metadata": {},
     "output_type": "display_data"
    }
   ],
   "source": [
    "for k in Primes.primes(3, min(seqlen, 31))\n",
    "    counts = collect(values(Eisenia.count_kmers(BioSequences.DNAMer{k}, observations)))\n",
    "    display(Eisenia.plot_kmer_frequency_spectra(counts, title = \"k = $k\", size = (500, 300)))\n",
    "end"
   ]
  },
  {
   "cell_type": "markdown",
   "metadata": {},
   "source": [
    "These all seem fine, let's see what the graphs look like for each"
   ]
  },
  {
   "cell_type": "code",
   "execution_count": 27,
   "metadata": {},
   "outputs": [
    {
     "data": {
      "image/svg+xml": [
       "<?xml version=\"1.0\" encoding=\"utf-8\"?>\n",
       "<svg xmlns=\"http://www.w3.org/2000/svg\" xmlns:xlink=\"http://www.w3.org/1999/xlink\" width=\"600\" height=\"400\" viewBox=\"0 0 2400 1600\">\n",
       "<defs>\n",
       "  <clipPath id=\"clip300\">\n",
       "    <rect x=\"0\" y=\"0\" width=\"2400\" height=\"1600\"/>\n",
       "  </clipPath>\n",
       "</defs>\n",
       "<path clip-path=\"url(#clip300)\" d=\"\n",
       "M0 1600 L2400 1600 L2400 0 L0 0  Z\n",
       "  \" fill=\"#ffffff\" fill-rule=\"evenodd\" fill-opacity=\"1\"/>\n",
       "<defs>\n",
       "  <clipPath id=\"clip301\">\n",
       "    <rect x=\"480\" y=\"0\" width=\"1681\" height=\"1600\"/>\n",
       "  </clipPath>\n",
       "</defs>\n",
       "<path clip-path=\"url(#clip300)\" d=\"\n",
       "M482.992 1521.01 L1956.76 1521.01 L1956.76 47.2441 L482.992 47.2441  Z\n",
       "  \" fill=\"#ffffff\" fill-rule=\"evenodd\" fill-opacity=\"1\"/>\n",
       "<defs>\n",
       "  <clipPath id=\"clip302\">\n",
       "    <rect x=\"482\" y=\"47\" width=\"1475\" height=\"1475\"/>\n",
       "  </clipPath>\n",
       "</defs>\n",
       "<polyline clip-path=\"url(#clip302)\" style=\"stroke:#000000; stroke-width:4; stroke-opacity:1; fill:none\" points=\"\n",
       "  1070.08,539.153 1065.18,538.587 1060.29,538.014 1055.41,537.427 1050.56,536.818 1045.73,536.18 1040.95,535.506 1036.22,534.787 1031.54,534.018 1026.92,533.191 \n",
       "  1022.38,532.298 1017.91,531.332 1013.53,530.287 1009.24,529.154 1005.06,527.926 1000.99,526.597 997.038,525.158 993.211,523.603 989.518,521.925 985.968,520.115 \n",
       "  982.567,518.167 979.325,516.074 976.248,513.828 973.345,511.422 970.624,508.848 968.091,506.1 965.748,503.178 963.587,500.088 961.599,496.838 959.777,493.436 \n",
       "  958.113,489.888 956.599,486.202 955.227,482.384 953.99,478.444 952.878,474.386 951.886,470.22 951.003,465.951 950.224,461.588 949.539,457.138 948.941,452.608 \n",
       "  948.421,448.005 947.973,443.336 947.589,438.61 947.259,433.832 946.977,429.011 946.734,424.153 946.523,419.266 946.335,414.357 946.164,409.434 946,404.504 \n",
       "  \n",
       "  \"/>\n",
       "<polyline clip-path=\"url(#clip302)\" style=\"stroke:#000000; stroke-width:4; stroke-opacity:1; fill:none\" points=\"\n",
       "  1070.08,539.153 1070.14,543.965 1070.21,548.77 1070.3,553.561 1070.41,558.33 1070.55,563.07 1070.74,567.773 1070.97,572.432 1071.25,577.041 1071.6,581.591 \n",
       "  1072.02,586.076 1072.51,590.487 1073.1,594.819 1073.77,599.063 1074.56,603.212 1075.45,607.259 1076.46,611.197 1077.59,615.018 1078.86,618.715 1080.27,622.281 \n",
       "  1081.83,625.709 1083.55,628.991 1085.44,632.119 1087.5,635.088 1089.74,637.888 1092.16,640.514 1094.78,642.966 1097.58,645.249 1100.55,647.372 1103.69,649.343 \n",
       "  1106.98,651.167 1110.43,652.853 1114.02,654.408 1117.74,655.838 1121.58,657.153 1125.55,658.357 1129.62,659.46 1133.8,660.468 1138.07,661.388 1142.43,662.229 \n",
       "  1146.87,662.996 1151.38,663.698 1155.95,664.341 1160.58,664.934 1165.25,665.483 1169.97,665.995 1174.71,666.478 1179.48,666.939 1184.27,667.386 1189.06,667.825 \n",
       "  \n",
       "  \"/>\n",
       "<polyline clip-path=\"url(#clip302)\" style=\"stroke:#000000; stroke-width:4; stroke-opacity:1; fill:none\" points=\"\n",
       "  1746.22,1310.47 1741.62,1309.7 1737.03,1308.92 1732.46,1308.13 1727.92,1307.31 1723.41,1306.48 1718.94,1305.61 1714.53,1304.7 1710.17,1303.75 1705.89,1302.74 \n",
       "  1701.68,1301.68 1697.56,1300.55 1693.53,1299.36 1689.6,1298.08 1685.79,1296.73 1682.1,1295.28 1678.53,1293.73 1675.11,1292.09 1671.83,1290.33 1668.7,1288.46 \n",
       "  1665.74,1286.47 1662.95,1284.35 1660.34,1282.09 1657.93,1279.69 1655.7,1277.15 1653.69,1274.45 1651.88,1271.59 1650.27,1268.59 1648.85,1265.45 1647.61,1262.17 \n",
       "  1646.54,1258.77 1645.63,1255.24 1644.88,1251.59 1644.28,1247.84 1643.81,1243.99 1643.47,1240.03 1643.26,1235.99 1643.15,1231.87 1643.15,1227.67 1643.24,1223.39 \n",
       "  1643.42,1219.06 1643.68,1214.66 1644,1210.21 1644.39,1205.72 1644.83,1201.19 1645.31,1196.63 1645.82,1192.04 1646.36,1187.44 1646.92,1182.82 1647.48,1178.19 \n",
       "  \n",
       "  \"/>\n",
       "<polyline clip-path=\"url(#clip302)\" style=\"stroke:#000000; stroke-width:4; stroke-opacity:1; fill:none\" points=\"\n",
       "  693.53,386.847 698.458,390.42 703.386,393.983 708.316,397.524 713.248,401.033 718.184,404.499 723.123,407.912 728.066,411.26 733.015,414.533 737.97,417.721 \n",
       "  742.931,420.812 747.9,423.796 752.877,426.662 757.863,429.4 762.859,431.999 767.866,434.447 772.883,436.735 777.913,438.852 782.955,440.786 788.011,442.528 \n",
       "  793.081,444.066 798.166,445.39 803.267,446.489 808.384,447.352 813.519,447.969 818.671,448.329 823.842,448.433 829.029,448.29 834.234,447.912 839.453,447.309 \n",
       "  844.688,446.491 849.937,445.47 855.2,444.257 860.475,442.861 865.762,441.294 871.061,439.566 876.37,437.688 881.688,435.671 887.016,433.525 892.352,431.262 \n",
       "  897.696,428.891 903.046,426.424 908.402,423.872 913.763,421.244 919.129,418.552 924.499,415.807 929.872,413.018 935.246,410.198 940.623,407.356 946,404.504 \n",
       "  \n",
       "  \"/>\n",
       "<polyline clip-path=\"url(#clip302)\" style=\"stroke:#000000; stroke-width:4; stroke-opacity:1; fill:none\" points=\"\n",
       "  1647.48,1178.19 1642.82,1177.58 1638.17,1176.95 1633.53,1176.32 1628.92,1175.66 1624.34,1174.97 1619.8,1174.26 1615.31,1173.5 1610.88,1172.69 1606.52,1171.83 \n",
       "  1602.23,1170.91 1598.03,1169.92 1593.91,1168.85 1589.9,1167.71 1585.99,1166.47 1582.2,1165.14 1578.54,1163.71 1575.01,1162.17 1571.62,1160.51 1568.37,1158.74 \n",
       "  1565.29,1156.83 1562.38,1154.79 1559.63,1152.6 1557.08,1150.27 1554.71,1147.77 1552.54,1145.12 1550.57,1142.3 1548.79,1139.33 1547.2,1136.21 1545.78,1132.94 \n",
       "  1544.52,1129.54 1543.43,1126.01 1542.48,1122.36 1541.68,1118.59 1541,1114.71 1540.46,1110.74 1540.03,1106.66 1539.7,1102.5 1539.48,1098.26 1539.35,1093.94 \n",
       "  1539.3,1089.55 1539.33,1085.11 1539.42,1080.6 1539.57,1076.06 1539.77,1071.47 1540.01,1066.84 1540.29,1062.19 1540.59,1057.52 1540.91,1052.83 1541.23,1048.14 \n",
       "  \n",
       "  \"/>\n",
       "<polyline clip-path=\"url(#clip302)\" style=\"stroke:#000000; stroke-width:4; stroke-opacity:1; fill:none\" points=\"\n",
       "  1541.23,1048.14 1536.5,1047.71 1531.76,1047.28 1527.05,1046.83 1522.36,1046.35 1517.7,1045.85 1513.08,1045.32 1508.51,1044.74 1503.99,1044.11 1499.54,1043.42 \n",
       "  1495.16,1042.66 1490.85,1041.84 1486.64,1040.93 1482.52,1039.94 1478.5,1038.85 1474.6,1037.67 1470.82,1036.37 1467.16,1034.96 1463.64,1033.43 1460.26,1031.77 \n",
       "  1457.03,1029.97 1453.96,1028.02 1451.05,1025.93 1448.33,1023.67 1445.78,1021.25 1443.43,1018.66 1441.26,1015.89 1439.28,1012.96 1437.48,1009.87 1435.84,1006.62 \n",
       "  1434.36,1003.24 1433.03,999.713 1431.84,996.059 1430.79,992.282 1429.87,988.39 1429.06,984.389 1428.37,980.287 1427.78,976.092 1427.29,971.81 1426.88,967.448 \n",
       "  1426.55,963.015 1426.3,958.516 1426.1,953.96 1425.97,949.353 1425.88,944.703 1425.83,940.017 1425.81,935.302 1425.82,930.565 1425.84,925.814 1425.87,921.056 \n",
       "  \n",
       "  \"/>\n",
       "<polyline clip-path=\"url(#clip302)\" style=\"stroke:#000000; stroke-width:4; stroke-opacity:1; fill:none\" points=\"\n",
       "  1425.87,921.056 1421.11,920.686 1416.35,920.309 1411.6,919.917 1406.88,919.503 1402.19,919.06 1397.54,918.58 1392.94,918.056 1388.39,917.481 1383.9,916.846 \n",
       "  1379.49,916.145 1375.15,915.371 1370.9,914.516 1366.74,913.573 1362.69,912.534 1358.74,911.392 1354.91,910.14 1351.21,908.77 1347.64,907.276 1344.21,905.648 \n",
       "  1340.93,903.882 1337.81,901.968 1334.85,899.899 1332.06,897.669 1329.45,895.27 1327.03,892.694 1324.8,889.943 1322.74,887.022 1320.86,883.94 1319.14,880.703 \n",
       "  1317.58,877.319 1316.17,873.795 1314.9,870.139 1313.76,866.358 1312.75,862.459 1311.86,858.45 1311.07,854.338 1310.39,850.13 1309.8,845.834 1309.29,841.458 \n",
       "  1308.87,837.007 1308.51,832.491 1308.22,827.916 1307.98,823.289 1307.79,818.618 1307.64,813.91 1307.52,809.173 1307.42,804.414 1307.34,799.64 1307.26,794.859 \n",
       "  \n",
       "  \"/>\n",
       "<polyline clip-path=\"url(#clip302)\" style=\"stroke:#000000; stroke-width:4; stroke-opacity:1; fill:none\" points=\"\n",
       "  946,404.504 950.715,403.336 955.421,402.163 960.11,400.977 964.771,399.774 969.398,398.546 973.98,397.287 978.51,395.992 982.977,394.654 987.374,393.267 \n",
       "  991.691,391.826 995.919,390.324 1000.05,388.754 1004.08,387.112 1007.99,385.391 1011.77,383.584 1015.43,381.686 1018.94,379.69 1022.3,377.591 1025.5,375.382 \n",
       "  1028.54,373.057 1031.4,370.611 1034.07,368.037 1036.55,365.328 1038.82,362.48 1040.88,359.486 1042.74,356.345 1044.38,353.065 1045.84,349.651 1047.1,346.108 \n",
       "  1048.19,342.444 1049.12,338.665 1049.88,334.775 1050.49,330.782 1050.96,326.692 1051.3,322.51 1051.52,318.243 1051.62,313.896 1051.61,309.477 1051.51,304.991 \n",
       "  1051.32,300.443 1051.04,295.841 1050.7,291.19 1050.3,286.497 1049.84,281.767 1049.34,277.006 1048.8,272.222 1048.24,267.418 1047.66,262.603 1047.07,257.782 \n",
       "  \n",
       "  \"/>\n",
       "<polyline clip-path=\"url(#clip302)\" style=\"stroke:#000000; stroke-width:4; stroke-opacity:1; fill:none\" points=\"\n",
       "  1189.06,667.825 1189.12,672.612 1189.18,677.391 1189.26,682.155 1189.36,686.898 1189.49,691.611 1189.66,696.288 1189.88,700.921 1190.16,705.503 1190.49,710.026 \n",
       "  1190.9,714.483 1191.39,718.867 1191.96,723.171 1192.63,727.387 1193.4,731.508 1194.28,735.527 1195.28,739.435 1196.4,743.227 1197.66,746.895 1199.06,750.43 \n",
       "  1200.61,753.827 1202.31,757.078 1204.18,760.175 1206.22,763.111 1208.45,765.878 1210.86,768.471 1213.46,770.888 1216.24,773.137 1219.2,775.225 1222.32,777.16 \n",
       "  1225.59,778.948 1229.02,780.597 1232.59,782.115 1236.29,783.508 1240.11,784.785 1244.06,785.951 1248.11,787.015 1252.27,787.984 1256.52,788.866 1260.86,789.667 \n",
       "  1265.28,790.394 1269.76,791.056 1274.31,791.66 1278.92,792.212 1283.57,792.72 1288.26,793.192 1292.99,793.634 1297.73,794.055 1302.49,794.461 1307.26,794.859 \n",
       "  \n",
       "  \"/>\n",
       "<path clip-path=\"url(#clip302)\" d=\"\n",
       "M1138.77 539.153 L1104.43 479.662 L1035.73 479.662 L1001.39 539.153 L1035.73 598.643 L1104.43 598.643 L1138.77 539.153 L1138.77 539.153  Z\n",
       "  \" fill=\"#009af9\" fill-rule=\"evenodd\" fill-opacity=\"1\"/>\n",
       "<polyline clip-path=\"url(#clip302)\" style=\"stroke:#000000; stroke-width:4; stroke-opacity:1; fill:none\" points=\"\n",
       "  1138.77,539.153 1104.43,479.662 1035.73,479.662 1001.39,539.153 1035.73,598.643 1104.43,598.643 1138.77,539.153 \n",
       "  \"/>\n",
       "<path clip-path=\"url(#clip302)\" d=\"\n",
       "M1812.61 1310.47 L1779.41 1252.97 L1713.02 1252.97 L1679.83 1310.47 L1713.02 1367.97 L1779.41 1367.97 L1812.61 1310.47 L1812.61 1310.47  Z\n",
       "  \" fill=\"#009af9\" fill-rule=\"evenodd\" fill-opacity=\"1\"/>\n",
       "<polyline clip-path=\"url(#clip302)\" style=\"stroke:#000000; stroke-width:4; stroke-opacity:1; fill:none\" points=\"\n",
       "  1812.61,1310.47 1779.41,1252.97 1713.02,1252.97 1679.83,1310.47 1713.02,1367.97 1779.41,1367.97 1812.61,1310.47 \n",
       "  \"/>\n",
       "<path clip-path=\"url(#clip302)\" d=\"\n",
       "M724.615 386.847 L709.072 359.927 L677.987 359.927 L662.445 386.847 L677.987 413.768 L709.072 413.768 L724.615 386.847 L724.615 386.847  Z\n",
       "  \" fill=\"#009af9\" fill-rule=\"evenodd\" fill-opacity=\"1\"/>\n",
       "<polyline clip-path=\"url(#clip302)\" style=\"stroke:#000000; stroke-width:4; stroke-opacity:1; fill:none\" points=\"\n",
       "  724.615,386.847 709.072,359.927 677.987,359.927 662.445,386.847 677.987,413.768 709.072,413.768 724.615,386.847 \n",
       "  \"/>\n",
       "<path clip-path=\"url(#clip302)\" d=\"\n",
       "M1716.18 1178.19 L1681.83 1118.7 L1613.14 1118.7 L1578.79 1178.19 L1613.14 1237.68 L1681.83 1237.68 L1716.18 1178.19 L1716.18 1178.19  Z\n",
       "  \" fill=\"#009af9\" fill-rule=\"evenodd\" fill-opacity=\"1\"/>\n",
       "<polyline clip-path=\"url(#clip302)\" style=\"stroke:#000000; stroke-width:4; stroke-opacity:1; fill:none\" points=\"\n",
       "  1716.18,1178.19 1681.83,1118.7 1613.14,1118.7 1578.79,1178.19 1613.14,1237.68 1681.83,1237.68 1716.18,1178.19 \n",
       "  \"/>\n",
       "<path clip-path=\"url(#clip302)\" d=\"\n",
       "M1609.93 1048.14 L1575.58 988.652 L1506.89 988.652 L1472.54 1048.14 L1506.89 1107.63 L1575.58 1107.63 L1609.93 1048.14 L1609.93 1048.14  Z\n",
       "  \" fill=\"#009af9\" fill-rule=\"evenodd\" fill-opacity=\"1\"/>\n",
       "<polyline clip-path=\"url(#clip302)\" style=\"stroke:#000000; stroke-width:4; stroke-opacity:1; fill:none\" points=\"\n",
       "  1609.93,1048.14 1575.58,988.652 1506.89,988.652 1472.54,1048.14 1506.89,1107.63 1575.58,1107.63 1609.93,1048.14 \n",
       "  \"/>\n",
       "<path clip-path=\"url(#clip302)\" d=\"\n",
       "M1494.57 921.056 L1460.22 861.565 L1391.53 861.565 L1357.18 921.056 L1391.53 980.546 L1460.22 980.546 L1494.57 921.056 L1494.57 921.056  Z\n",
       "  \" fill=\"#009af9\" fill-rule=\"evenodd\" fill-opacity=\"1\"/>\n",
       "<polyline clip-path=\"url(#clip302)\" style=\"stroke:#000000; stroke-width:4; stroke-opacity:1; fill:none\" points=\"\n",
       "  1494.57,921.056 1460.22,861.565 1391.53,861.565 1357.18,921.056 1391.53,980.546 1460.22,980.546 1494.57,921.056 \n",
       "  \"/>\n",
       "<path clip-path=\"url(#clip302)\" d=\"\n",
       "M1011.24 404.504 L978.62 348.004 L913.38 348.004 L880.76 404.504 L913.38 461.003 L978.62 461.003 L1011.24 404.504 L1011.24 404.504  Z\n",
       "  \" fill=\"#009af9\" fill-rule=\"evenodd\" fill-opacity=\"1\"/>\n",
       "<polyline clip-path=\"url(#clip302)\" style=\"stroke:#000000; stroke-width:4; stroke-opacity:1; fill:none\" points=\"\n",
       "  1011.24,404.504 978.62,348.004 913.38,348.004 880.76,404.504 913.38,461.003 978.62,461.003 1011.24,404.504 \n",
       "  \"/>\n",
       "<path clip-path=\"url(#clip302)\" d=\"\n",
       "M1078.54 257.782 L1062.8 230.529 L1031.33 230.529 L1015.6 257.782 L1031.33 285.034 L1062.8 285.034 L1078.54 257.782 L1078.54 257.782  Z\n",
       "  \" fill=\"#009af9\" fill-rule=\"evenodd\" fill-opacity=\"1\"/>\n",
       "<polyline clip-path=\"url(#clip302)\" style=\"stroke:#000000; stroke-width:4; stroke-opacity:1; fill:none\" points=\"\n",
       "  1078.54,257.782 1062.8,230.529 1031.33,230.529 1015.6,257.782 1031.33,285.034 1062.8,285.034 1078.54,257.782 \n",
       "  \"/>\n",
       "<path clip-path=\"url(#clip302)\" d=\"\n",
       "M1257.76 667.825 L1223.41 608.334 L1154.71 608.334 L1120.37 667.825 L1154.71 727.316 L1223.41 727.316 L1257.76 667.825 L1257.76 667.825  Z\n",
       "  \" fill=\"#009af9\" fill-rule=\"evenodd\" fill-opacity=\"1\"/>\n",
       "<polyline clip-path=\"url(#clip302)\" style=\"stroke:#000000; stroke-width:4; stroke-opacity:1; fill:none\" points=\"\n",
       "  1257.76,667.825 1223.41,608.334 1154.71,608.334 1120.37,667.825 1154.71,727.316 1223.41,727.316 1257.76,667.825 \n",
       "  \"/>\n",
       "<path clip-path=\"url(#clip302)\" d=\"\n",
       "M1426.87 794.859 L1367.07 691.28 L1247.46 691.28 L1187.66 794.859 L1247.46 898.438 L1367.07 898.438 L1426.87 794.859 L1426.87 794.859  Z\n",
       "  \" fill=\"#009af9\" fill-rule=\"evenodd\" fill-opacity=\"1\"/>\n",
       "<polyline clip-path=\"url(#clip302)\" style=\"stroke:#000000; stroke-width:4; stroke-opacity:1; fill:none\" points=\"\n",
       "  1426.87,794.859 1367.07,691.28 1247.46,691.28 1187.66,794.859 1247.46,898.438 1367.07,898.438 1426.87,794.859 \n",
       "  \"/>\n",
       "<circle clip-path=\"url(#clip302)\" style=\"fill:#009af9; stroke:none; fill-opacity:1\" cx=\"1070.08\" cy=\"539.153\" r=\"2\"/>\n",
       "<circle clip-path=\"url(#clip302)\" style=\"fill:#009af9; stroke:none; fill-opacity:1\" cx=\"1746.22\" cy=\"1310.47\" r=\"2\"/>\n",
       "<circle clip-path=\"url(#clip302)\" style=\"fill:#009af9; stroke:none; fill-opacity:1\" cx=\"693.53\" cy=\"386.847\" r=\"2\"/>\n",
       "<circle clip-path=\"url(#clip302)\" style=\"fill:#009af9; stroke:none; fill-opacity:1\" cx=\"1647.48\" cy=\"1178.19\" r=\"2\"/>\n",
       "<circle clip-path=\"url(#clip302)\" style=\"fill:#009af9; stroke:none; fill-opacity:1\" cx=\"1541.23\" cy=\"1048.14\" r=\"2\"/>\n",
       "<circle clip-path=\"url(#clip302)\" style=\"fill:#009af9; stroke:none; fill-opacity:1\" cx=\"1425.87\" cy=\"921.056\" r=\"2\"/>\n",
       "<circle clip-path=\"url(#clip302)\" style=\"fill:#009af9; stroke:none; fill-opacity:1\" cx=\"946\" cy=\"404.504\" r=\"2\"/>\n",
       "<circle clip-path=\"url(#clip302)\" style=\"fill:#009af9; stroke:none; fill-opacity:1\" cx=\"1047.07\" cy=\"257.782\" r=\"2\"/>\n",
       "<circle clip-path=\"url(#clip302)\" style=\"fill:#009af9; stroke:none; fill-opacity:1\" cx=\"1189.06\" cy=\"667.825\" r=\"2\"/>\n",
       "<circle clip-path=\"url(#clip302)\" style=\"fill:#009af9; stroke:none; fill-opacity:1\" cx=\"1307.26\" cy=\"794.859\" r=\"2\"/>\n",
       "<path clip-path=\"url(#clip300)\" d=\"M 0 0 M1055.65 559.17 L1067.11 559.17 L1067.11 519.621 L1054.65 522.121 L1054.65 515.733 L1067.04 513.233 L1074.06 513.233 L1074.06 559.17 L1085.51 559.17 L1085.51 565.073 L1055.65 565.073 L1055.65 559.17 Z\" fill=\"#000000\" fill-rule=\"evenodd\" fill-opacity=\"1\" /><path clip-path=\"url(#clip300)\" d=\"M 0 0 M1738.2 1330.49 L1762.68 1330.49 L1762.68 1336.39 L1729.76 1336.39 L1729.76 1330.49 Q1733.75 1326.36 1740.63 1319.41 Q1747.54 1312.43 1749.31 1310.42 Q1752.68 1306.63 1754 1304.03 Q1755.35 1301.39 1755.35 1298.86 Q1755.35 1294.72 1752.43 1292.12 Q1749.55 1289.52 1744.9 1289.52 Q1741.6 1289.52 1737.92 1290.66 Q1734.27 1291.81 1730.11 1294.13 L1730.11 1287.05 Q1734.34 1285.35 1738.02 1284.48 Q1741.7 1283.61 1744.76 1283.61 Q1752.82 1283.61 1757.61 1287.64 Q1762.4 1291.67 1762.4 1298.4 Q1762.4 1301.6 1761.18 1304.48 Q1760 1307.33 1756.84 1311.22 Q1755.98 1312.22 1751.32 1317.05 Q1746.67 1321.84 1738.2 1330.49 Z\" fill=\"#000000\" fill-rule=\"evenodd\" fill-opacity=\"1\" /><path clip-path=\"url(#clip300)\" d=\"M 0 0 M699.901 384.816 Q704.936 385.892 707.748 389.295 Q710.596 392.698 710.596 397.698 Q710.596 405.371 705.318 409.573 Q700.04 413.774 690.318 413.774 Q687.054 413.774 683.582 413.114 Q680.144 412.489 676.464 411.205 L676.464 404.434 Q679.381 406.135 682.853 407.003 Q686.325 407.871 690.11 407.871 Q696.707 407.871 700.144 405.267 Q703.617 402.663 703.617 397.698 Q703.617 393.115 700.387 390.545 Q697.193 387.941 691.464 387.941 L685.422 387.941 L685.422 382.177 L691.742 382.177 Q696.915 382.177 699.658 380.128 Q702.401 378.045 702.401 374.156 Q702.401 370.163 699.554 368.045 Q696.742 365.892 691.464 365.892 Q688.582 365.892 685.283 366.517 Q681.985 367.142 678.026 368.462 L678.026 362.212 Q682.019 361.101 685.492 360.545 Q688.999 359.99 692.089 359.99 Q700.075 359.99 704.728 363.636 Q709.38 367.247 709.38 373.427 Q709.38 377.733 706.915 380.719 Q704.45 383.67 699.901 384.816 Z\" fill=\"#000000\" fill-rule=\"evenodd\" fill-opacity=\"1\" /><path clip-path=\"url(#clip300)\" d=\"M 0 0 M1652 1158.38 L1634.29 1186.06 L1652 1186.06 L1652 1158.38 M1650.16 1152.27 L1658.98 1152.27 L1658.98 1186.06 L1666.37 1186.06 L1666.37 1191.89 L1658.98 1191.89 L1658.98 1204.11 L1652 1204.11 L1652 1191.89 L1628.59 1191.89 L1628.59 1185.12 L1650.16 1152.27 Z\" fill=\"#000000\" fill-rule=\"evenodd\" fill-opacity=\"1\" /><path clip-path=\"url(#clip300)\" d=\"M 0 0 M1526.65 1022.22 L1554.19 1022.22 L1554.19 1028.13 L1533.07 1028.13 L1533.07 1040.83 Q1534.6 1040.31 1536.13 1040.07 Q1537.66 1039.79 1539.19 1039.79 Q1547.87 1039.79 1552.94 1044.55 Q1558.01 1049.31 1558.01 1057.43 Q1558.01 1065.8 1552.8 1070.45 Q1547.59 1075.07 1538.11 1075.07 Q1534.85 1075.07 1531.44 1074.51 Q1528.07 1073.96 1524.46 1072.85 L1524.46 1065.8 Q1527.59 1067.5 1530.92 1068.33 Q1534.26 1069.17 1537.97 1069.17 Q1543.98 1069.17 1547.48 1066.01 Q1550.99 1062.85 1550.99 1057.43 Q1550.99 1052.01 1547.48 1048.85 Q1543.98 1045.69 1537.97 1045.69 Q1535.16 1045.69 1532.35 1046.32 Q1529.57 1046.94 1526.65 1048.26 L1526.65 1022.22 Z\" fill=\"#000000\" fill-rule=\"evenodd\" fill-opacity=\"1\" /><path clip-path=\"url(#clip300)\" d=\"M 0 0 M1426.48 918.261 Q1421.76 918.261 1418.98 921.49 Q1416.24 924.719 1416.24 930.344 Q1416.24 935.934 1418.98 939.198 Q1421.76 942.427 1426.48 942.427 Q1431.2 942.427 1433.95 939.198 Q1436.72 935.934 1436.72 930.344 Q1436.72 924.719 1433.95 921.49 Q1431.2 918.261 1426.48 918.261 M1440.4 896.282 L1440.4 902.671 Q1437.76 901.421 1435.06 900.761 Q1432.38 900.101 1429.74 900.101 Q1422.8 900.101 1419.12 904.789 Q1415.47 909.476 1414.95 918.955 Q1417 915.934 1420.09 914.337 Q1423.18 912.705 1426.9 912.705 Q1434.71 912.705 1439.22 917.462 Q1443.77 922.184 1443.77 930.344 Q1443.77 938.33 1439.05 943.156 Q1434.33 947.983 1426.48 947.983 Q1417.49 947.983 1412.73 941.108 Q1407.97 934.198 1407.97 921.108 Q1407.97 908.816 1413.81 901.525 Q1419.64 894.198 1429.47 894.198 Q1432.11 894.198 1434.78 894.719 Q1437.49 895.24 1440.4 896.282 Z\" fill=\"#000000\" fill-rule=\"evenodd\" fill-opacity=\"1\" /><path clip-path=\"url(#clip300)\" d=\"M 0 0 M929.333 378.584 L962.667 378.584 L962.667 381.57 L943.847 430.424 L936.521 430.424 L954.229 384.486 L929.333 384.486 L929.333 378.584 Z\" fill=\"#000000\" fill-rule=\"evenodd\" fill-opacity=\"1\" /><path clip-path=\"url(#clip300)\" d=\"M 0 0 M1047.07 259.084 Q1042.07 259.084 1039.19 261.757 Q1036.34 264.431 1036.34 269.119 Q1036.34 273.806 1039.19 276.48 Q1042.07 279.153 1047.07 279.153 Q1052.07 279.153 1054.95 276.48 Q1057.83 273.771 1057.83 269.119 Q1057.83 264.431 1054.95 261.757 Q1052.1 259.084 1047.07 259.084 M1040.06 256.098 Q1035.54 254.987 1033.01 251.896 Q1030.51 248.806 1030.51 244.362 Q1030.51 238.146 1034.92 234.535 Q1039.36 230.924 1047.07 230.924 Q1054.81 230.924 1059.22 234.535 Q1063.63 238.146 1063.63 244.362 Q1063.63 248.806 1061.1 251.896 Q1058.6 254.987 1054.12 256.098 Q1059.19 257.278 1062 260.716 Q1064.85 264.153 1064.85 269.119 Q1064.85 276.653 1060.23 280.681 Q1055.65 284.709 1047.07 284.709 Q1038.49 284.709 1033.87 280.681 Q1029.29 276.653 1029.29 269.119 Q1029.29 264.153 1032.14 260.716 Q1034.99 257.278 1040.06 256.098 M1037.49 245.021 Q1037.49 249.049 1039.99 251.306 Q1042.52 253.563 1047.07 253.563 Q1051.58 253.563 1054.12 251.306 Q1056.69 249.049 1056.69 245.021 Q1056.69 240.994 1054.12 238.737 Q1051.58 236.48 1047.07 236.48 Q1042.52 236.48 1039.99 238.737 Q1037.49 240.994 1037.49 245.021 Z\" fill=\"#000000\" fill-rule=\"evenodd\" fill-opacity=\"1\" /><path clip-path=\"url(#clip300)\" d=\"M 0 0 M1174.51 692.669 L1174.51 686.28 Q1177.15 687.53 1179.86 688.19 Q1182.57 688.849 1185.17 688.849 Q1192.12 688.849 1195.76 684.197 Q1199.44 679.509 1199.96 669.995 Q1197.95 672.981 1194.86 674.579 Q1191.77 676.176 1188.02 676.176 Q1180.24 676.176 1175.69 671.488 Q1171.18 666.766 1171.18 658.606 Q1171.18 650.62 1175.9 645.794 Q1180.62 640.968 1188.47 640.968 Q1197.46 640.968 1202.19 647.877 Q1206.94 654.752 1206.94 667.877 Q1206.94 680.134 1201.11 687.46 Q1195.31 694.752 1185.49 694.752 Q1182.85 694.752 1180.14 694.231 Q1177.43 693.71 1174.51 692.669 M1188.47 670.69 Q1193.19 670.69 1195.94 667.461 Q1198.71 664.231 1198.71 658.606 Q1198.71 653.016 1195.94 649.787 Q1193.19 646.523 1188.47 646.523 Q1183.75 646.523 1180.97 649.787 Q1178.23 653.016 1178.23 658.606 Q1178.23 664.231 1180.97 667.461 Q1183.75 670.69 1188.47 670.69 Z\" fill=\"#000000\" fill-rule=\"evenodd\" fill-opacity=\"1\" /><path clip-path=\"url(#clip300)\" d=\"M 0 0 M1272.58 814.876 L1284.04 814.876 L1284.04 775.328 L1271.57 777.828 L1271.57 771.439 L1283.97 768.939 L1290.98 768.939 L1290.98 814.876 L1302.44 814.876 L1302.44 820.779 L1272.58 820.779 L1272.58 814.876 Z\" fill=\"#000000\" fill-rule=\"evenodd\" fill-opacity=\"1\" /><path clip-path=\"url(#clip300)\" d=\"M 0 0 M1325.04 773.557 Q1319.63 773.557 1316.88 778.904 Q1314.17 784.217 1314.17 794.911 Q1314.17 805.571 1316.88 810.918 Q1319.63 816.231 1325.04 816.231 Q1330.49 816.231 1333.2 810.918 Q1335.95 805.571 1335.95 794.911 Q1335.95 784.217 1333.2 778.904 Q1330.49 773.557 1325.04 773.557 M1325.04 768.002 Q1333.76 768.002 1338.34 774.911 Q1342.96 781.786 1342.96 794.911 Q1342.96 808.001 1338.34 814.911 Q1333.76 821.786 1325.04 821.786 Q1316.33 821.786 1311.71 814.911 Q1307.13 808.001 1307.13 794.911 Q1307.13 781.786 1311.71 774.911 Q1316.33 768.002 1325.04 768.002 Z\" fill=\"#000000\" fill-rule=\"evenodd\" fill-opacity=\"1\" /></svg>\n"
      ]
     },
     "metadata": {},
     "output_type": "display_data"
    },
    {
     "data": {
      "image/svg+xml": [
       "<?xml version=\"1.0\" encoding=\"utf-8\"?>\n",
       "<svg xmlns=\"http://www.w3.org/2000/svg\" xmlns:xlink=\"http://www.w3.org/1999/xlink\" width=\"600\" height=\"400\" viewBox=\"0 0 2400 1600\">\n",
       "<defs>\n",
       "  <clipPath id=\"clip340\">\n",
       "    <rect x=\"0\" y=\"0\" width=\"2400\" height=\"1600\"/>\n",
       "  </clipPath>\n",
       "</defs>\n",
       "<path clip-path=\"url(#clip340)\" d=\"\n",
       "M0 1600 L2400 1600 L2400 0 L0 0  Z\n",
       "  \" fill=\"#ffffff\" fill-rule=\"evenodd\" fill-opacity=\"1\"/>\n",
       "<defs>\n",
       "  <clipPath id=\"clip341\">\n",
       "    <rect x=\"480\" y=\"0\" width=\"1681\" height=\"1600\"/>\n",
       "  </clipPath>\n",
       "</defs>\n",
       "<path clip-path=\"url(#clip340)\" d=\"\n",
       "M482.992 1521.01 L1956.76 1521.01 L1956.76 47.2441 L482.992 47.2441  Z\n",
       "  \" fill=\"#ffffff\" fill-rule=\"evenodd\" fill-opacity=\"1\"/>\n",
       "<defs>\n",
       "  <clipPath id=\"clip342\">\n",
       "    <rect x=\"482\" y=\"47\" width=\"1475\" height=\"1475\"/>\n",
       "  </clipPath>\n",
       "</defs>\n",
       "<polyline clip-path=\"url(#clip342)\" style=\"stroke:#000000; stroke-width:4; stroke-opacity:1; fill:none\" points=\"\n",
       "  1047.14,257.782 1048.52,263.324 1049.88,268.863 1051.22,274.394 1052.53,279.914 1053.8,285.419 1055.02,290.905 1056.18,296.369 1057.27,301.806 1058.28,307.214 \n",
       "  1059.2,312.587 1060.02,317.924 1060.73,323.219 1061.31,328.468 1061.77,333.67 1062.08,338.818 1062.25,343.911 1062.25,348.943 1062.08,353.912 1061.73,358.813 \n",
       "  1061.19,363.643 1060.45,368.398 1059.5,373.074 1058.33,377.668 1056.92,382.176 1055.27,386.593 1053.39,390.921 1051.27,395.163 1048.93,399.322 1046.38,403.402 \n",
       "  1043.62,407.408 1040.68,411.342 1037.55,415.208 1034.26,419.011 1030.8,422.754 1027.19,426.441 1023.44,430.075 1019.56,433.66 1015.56,437.201 1011.45,440.7 \n",
       "  1007.24,444.161 1002.94,447.589 998.557,450.987 994.104,454.359 989.59,457.708 985.027,461.038 980.423,464.354 975.788,467.658 971.134,470.954 966.47,474.247 \n",
       "  \n",
       "  \"/>\n",
       "<polyline clip-path=\"url(#clip342)\" style=\"stroke:#000000; stroke-width:4; stroke-opacity:1; fill:none\" points=\"\n",
       "  693.53,479.188 699.158,482.307 704.787,485.416 710.414,488.503 716.042,491.558 721.668,494.57 727.294,497.528 732.918,500.422 738.541,503.241 744.163,505.974 \n",
       "  749.783,508.61 755.4,511.139 761.016,513.55 766.629,515.832 772.24,517.974 777.848,519.966 783.453,521.797 789.056,523.457 794.654,524.934 800.25,526.217 \n",
       "  805.841,527.297 811.429,528.162 817.012,528.801 822.592,529.205 828.167,529.361 833.737,529.26 839.302,528.902 844.863,528.297 850.42,527.456 855.973,526.39 \n",
       "  861.522,525.108 867.067,523.623 872.609,521.945 878.147,520.084 883.682,518.051 889.215,515.857 894.744,513.513 900.271,511.029 905.796,508.417 911.319,505.686 \n",
       "  916.839,502.848 922.358,499.914 927.875,496.893 933.391,493.798 938.906,490.638 944.42,487.424 949.933,484.167 955.446,480.879 960.958,477.568 966.47,474.247 \n",
       "  \n",
       "  \"/>\n",
       "<polyline clip-path=\"url(#clip342)\" style=\"stroke:#000000; stroke-width:4; stroke-opacity:1; fill:none\" points=\"\n",
       "  1746.22,1310.47 1740.68,1309.48 1735.14,1308.49 1729.63,1307.48 1724.13,1306.45 1718.67,1305.39 1713.24,1304.29 1707.86,1303.14 1702.53,1301.95 1697.26,1300.69 \n",
       "  1692.06,1299.36 1686.94,1297.96 1681.9,1296.47 1676.95,1294.89 1672.1,1293.21 1667.36,1291.43 1662.73,1289.53 1658.22,1287.52 1653.84,1285.37 1649.6,1283.08 \n",
       "  1645.5,1280.66 1641.56,1278.08 1637.77,1275.34 1634.15,1272.43 1630.7,1269.35 1627.44,1266.08 1624.36,1262.64 1621.45,1259.02 1618.71,1255.23 1616.13,1251.29 \n",
       "  1613.7,1247.19 1611.42,1242.95 1609.27,1238.57 1607.25,1234.06 1605.36,1229.43 1603.57,1224.69 1601.9,1219.84 1600.32,1214.89 1598.83,1209.85 1597.43,1204.73 \n",
       "  1596.1,1199.53 1594.84,1194.26 1593.64,1188.93 1592.5,1183.55 1591.4,1178.12 1590.34,1172.66 1589.3,1167.16 1588.3,1161.65 1587.3,1156.11 1586.32,1150.57 \n",
       "  \n",
       "  \"/>\n",
       "<polyline clip-path=\"url(#clip342)\" style=\"stroke:#000000; stroke-width:4; stroke-opacity:1; fill:none\" points=\"\n",
       "  1586.32,1150.57 1580.8,1149.47 1575.3,1148.36 1569.81,1147.24 1564.35,1146.1 1558.92,1144.92 1553.52,1143.71 1548.17,1142.45 1542.88,1141.15 1537.65,1139.78 \n",
       "  1532.49,1138.34 1527.4,1136.84 1522.4,1135.24 1517.5,1133.57 1512.69,1131.79 1507.99,1129.91 1503.41,1127.92 1498.96,1125.81 1494.63,1123.57 1490.45,1121.2 \n",
       "  1486.41,1118.69 1482.53,1116.03 1478.81,1113.22 1475.26,1110.24 1471.89,1107.09 1468.71,1103.76 1465.71,1100.26 1462.89,1096.58 1460.24,1092.74 1457.75,1088.75 \n",
       "  1455.42,1084.6 1453.24,1080.32 1451.19,1075.9 1449.28,1071.36 1447.49,1066.69 1445.82,1061.92 1444.26,1057.04 1442.79,1052.07 1441.42,1047 1440.14,1041.86 \n",
       "  1438.93,1036.64 1437.8,1031.35 1436.72,1026 1435.7,1020.61 1434.73,1015.16 1433.79,1009.68 1432.89,1004.17 1432.01,998.642 1431.14,993.095 1430.29,987.541 \n",
       "  \n",
       "  \"/>\n",
       "<polyline clip-path=\"url(#clip342)\" style=\"stroke:#000000; stroke-width:4; stroke-opacity:1; fill:none\" points=\"\n",
       "  1126.81,650.882 1121.16,649.442 1115.51,647.995 1109.87,646.533 1104.26,645.05 1098.69,643.538 1093.15,641.99 1087.66,640.398 1082.22,638.756 1076.85,637.056 \n",
       "  1071.55,635.291 1066.34,633.454 1061.2,631.538 1056.17,629.535 1051.23,627.438 1046.41,625.24 1041.71,622.934 1037.13,620.513 1032.69,617.969 1028.39,615.295 \n",
       "  1024.25,612.483 1020.26,609.528 1016.44,606.421 1012.79,603.155 1009.33,599.723 1006.06,596.118 1002.98,592.34 1000.08,588.397 997.353,584.294 994.796,580.04 \n",
       "  992.397,575.642 990.15,571.106 988.046,566.441 986.078,561.653 984.236,556.749 982.514,551.738 980.902,546.625 979.395,541.418 977.982,536.125 976.658,530.752 \n",
       "  975.412,525.307 974.238,519.798 973.128,514.23 972.074,508.612 971.067,502.951 970.1,497.253 969.164,491.527 968.253,485.779 967.357,480.017 966.47,474.247 \n",
       "  \n",
       "  \"/>\n",
       "<polyline clip-path=\"url(#clip342)\" style=\"stroke:#000000; stroke-width:4; stroke-opacity:1; fill:none\" points=\"\n",
       "  1126.81,650.882 1127.54,656.493 1128.27,662.097 1129.02,667.687 1129.79,673.255 1130.59,678.794 1131.43,684.297 1132.33,689.757 1133.27,695.167 1134.28,700.519 \n",
       "  1135.37,705.806 1136.53,711.022 1137.78,716.158 1139.12,721.208 1140.57,726.165 1142.13,731.021 1143.81,735.769 1145.62,740.402 1147.56,744.913 1149.65,749.294 \n",
       "  1151.89,753.539 1154.29,757.64 1156.85,761.59 1159.59,765.381 1162.52,769.008 1165.63,772.461 1168.94,775.743 1172.43,778.859 1176.09,781.817 1179.93,784.624 \n",
       "  1183.92,787.288 1188.06,789.814 1192.35,792.211 1196.77,794.486 1201.32,796.646 1205.99,798.698 1210.77,800.649 1215.66,802.507 1220.64,804.278 1225.71,805.971 \n",
       "  1230.86,807.591 1236.08,809.147 1241.36,810.645 1246.7,812.093 1252.09,813.498 1257.51,814.866 1262.97,816.206 1268.45,817.525 1273.95,818.829 1279.46,820.126 \n",
       "  \n",
       "  \"/>\n",
       "<polyline clip-path=\"url(#clip342)\" style=\"stroke:#000000; stroke-width:4; stroke-opacity:1; fill:none\" points=\"\n",
       "  1279.46,820.126 1280.15,825.698 1280.84,831.263 1281.55,836.814 1282.28,842.343 1283.05,847.844 1283.85,853.308 1284.7,858.73 1285.61,864.101 1286.58,869.415 \n",
       "  1287.63,874.664 1288.75,879.841 1289.96,884.939 1291.27,889.951 1292.68,894.869 1294.21,899.687 1295.85,904.397 1297.62,908.992 1299.52,913.465 1301.57,917.808 \n",
       "  1303.77,922.015 1306.13,926.078 1308.66,929.99 1311.37,933.744 1314.25,937.333 1317.33,940.75 1320.6,943.994 1324.05,947.074 1327.68,949.995 1331.48,952.765 \n",
       "  1335.43,955.391 1339.54,957.881 1343.79,960.241 1348.18,962.48 1352.69,964.603 1357.32,966.619 1362.07,968.533 1366.92,970.355 1371.86,972.09 1376.89,973.746 \n",
       "  1382,975.331 1387.19,976.85 1392.44,978.312 1397.74,979.724 1403.09,981.093 1408.48,982.426 1413.91,983.73 1419.35,985.012 1424.82,986.28 1430.29,987.541 \n",
       "  \n",
       "  \"/>\n",
       "<path clip-path=\"url(#clip342)\" d=\"\n",
       "M1079 257.782 L1063.07 230.191 L1031.22 230.191 L1015.29 257.782 L1031.22 285.372 L1063.07 285.372 L1079 257.782 L1079 257.782  Z\n",
       "  \" fill=\"#009af9\" fill-rule=\"evenodd\" fill-opacity=\"1\"/>\n",
       "<polyline clip-path=\"url(#clip342)\" style=\"stroke:#000000; stroke-width:4; stroke-opacity:1; fill:none\" points=\"\n",
       "  1079,257.782 1063.07,230.191 1031.22,230.191 1015.29,257.782 1031.22,285.372 1063.07,285.372 1079,257.782 \n",
       "  \"/>\n",
       "<path clip-path=\"url(#clip342)\" d=\"\n",
       "M724.875 479.188 L709.202 452.042 L677.857 452.042 L662.185 479.188 L677.857 506.333 L709.202 506.333 L724.875 479.188 L724.875 479.188  Z\n",
       "  \" fill=\"#009af9\" fill-rule=\"evenodd\" fill-opacity=\"1\"/>\n",
       "<polyline clip-path=\"url(#clip342)\" style=\"stroke:#000000; stroke-width:4; stroke-opacity:1; fill:none\" points=\"\n",
       "  724.875,479.188 709.202,452.042 677.857,452.042 662.185,479.188 677.857,506.333 709.202,506.333 724.875,479.188 \n",
       "  \"/>\n",
       "<path clip-path=\"url(#clip342)\" d=\"\n",
       "M1824.84 1310.47 L1785.53 1242.38 L1706.91 1242.38 L1667.6 1310.47 L1706.91 1378.56 L1785.53 1378.56 L1824.84 1310.47 L1824.84 1310.47  Z\n",
       "  \" fill=\"#009af9\" fill-rule=\"evenodd\" fill-opacity=\"1\"/>\n",
       "<polyline clip-path=\"url(#clip342)\" style=\"stroke:#000000; stroke-width:4; stroke-opacity:1; fill:none\" points=\"\n",
       "  1824.84,1310.47 1785.53,1242.38 1706.91,1242.38 1667.6,1310.47 1706.91,1378.56 1785.53,1378.56 1824.84,1310.47 \n",
       "  \"/>\n",
       "<path clip-path=\"url(#clip342)\" d=\"\n",
       "M1668.02 1150.57 L1627.17 1079.81 L1545.46 1079.81 L1504.61 1150.57 L1545.46 1221.33 L1627.17 1221.33 L1668.02 1150.57 L1668.02 1150.57  Z\n",
       "  \" fill=\"#009af9\" fill-rule=\"evenodd\" fill-opacity=\"1\"/>\n",
       "<polyline clip-path=\"url(#clip342)\" style=\"stroke:#000000; stroke-width:4; stroke-opacity:1; fill:none\" points=\"\n",
       "  1668.02,1150.57 1627.17,1079.81 1545.46,1079.81 1504.61,1150.57 1545.46,1221.33 1627.17,1221.33 1668.02,1150.57 \n",
       "  \"/>\n",
       "<path clip-path=\"url(#clip342)\" d=\"\n",
       "M1208.52 650.882 L1167.66 580.125 L1085.96 580.125 L1045.11 650.882 L1085.96 721.639 L1167.66 721.639 L1208.52 650.882 L1208.52 650.882  Z\n",
       "  \" fill=\"#009af9\" fill-rule=\"evenodd\" fill-opacity=\"1\"/>\n",
       "<polyline clip-path=\"url(#clip342)\" style=\"stroke:#000000; stroke-width:4; stroke-opacity:1; fill:none\" points=\"\n",
       "  1208.52,650.882 1167.66,580.125 1085.96,580.125 1045.11,650.882 1085.96,721.639 1167.66,721.639 1208.52,650.882 \n",
       "  \"/>\n",
       "<path clip-path=\"url(#clip342)\" d=\"\n",
       "M1043.55 474.247 L1005.01 407.496 L927.931 407.496 L889.392 474.247 L927.931 540.999 L1005.01 540.999 L1043.55 474.247 L1043.55 474.247  Z\n",
       "  \" fill=\"#009af9\" fill-rule=\"evenodd\" fill-opacity=\"1\"/>\n",
       "<polyline clip-path=\"url(#clip342)\" style=\"stroke:#000000; stroke-width:4; stroke-opacity:1; fill:none\" points=\"\n",
       "  1043.55,474.247 1005.01,407.496 927.931,407.496 889.392,474.247 927.931,540.999 1005.01,540.999 1043.55,474.247 \n",
       "  \"/>\n",
       "<path clip-path=\"url(#clip342)\" d=\"\n",
       "M1361.16 820.126 L1320.31 749.369 L1238.61 749.369 L1197.76 820.126 L1238.61 890.882 L1320.31 890.882 L1361.16 820.126 L1361.16 820.126  Z\n",
       "  \" fill=\"#009af9\" fill-rule=\"evenodd\" fill-opacity=\"1\"/>\n",
       "<polyline clip-path=\"url(#clip342)\" style=\"stroke:#000000; stroke-width:4; stroke-opacity:1; fill:none\" points=\"\n",
       "  1361.16,820.126 1320.31,749.369 1238.61,749.369 1197.76,820.126 1238.61,890.882 1320.31,890.882 1361.16,820.126 \n",
       "  \"/>\n",
       "<path clip-path=\"url(#clip342)\" d=\"\n",
       "M1511.99 987.541 L1471.14 916.784 L1389.43 916.784 L1348.58 987.541 L1389.43 1058.3 L1471.14 1058.3 L1511.99 987.541 L1511.99 987.541  Z\n",
       "  \" fill=\"#009af9\" fill-rule=\"evenodd\" fill-opacity=\"1\"/>\n",
       "<polyline clip-path=\"url(#clip342)\" style=\"stroke:#000000; stroke-width:4; stroke-opacity:1; fill:none\" points=\"\n",
       "  1511.99,987.541 1471.14,916.784 1389.43,916.784 1348.58,987.541 1389.43,1058.3 1471.14,1058.3 1511.99,987.541 \n",
       "  \"/>\n",
       "<circle clip-path=\"url(#clip342)\" style=\"fill:#009af9; stroke:none; fill-opacity:1\" cx=\"1047.14\" cy=\"257.782\" r=\"2\"/>\n",
       "<circle clip-path=\"url(#clip342)\" style=\"fill:#009af9; stroke:none; fill-opacity:1\" cx=\"693.53\" cy=\"479.188\" r=\"2\"/>\n",
       "<circle clip-path=\"url(#clip342)\" style=\"fill:#009af9; stroke:none; fill-opacity:1\" cx=\"1746.22\" cy=\"1310.47\" r=\"2\"/>\n",
       "<circle clip-path=\"url(#clip342)\" style=\"fill:#009af9; stroke:none; fill-opacity:1\" cx=\"1586.32\" cy=\"1150.57\" r=\"2\"/>\n",
       "<circle clip-path=\"url(#clip342)\" style=\"fill:#009af9; stroke:none; fill-opacity:1\" cx=\"1126.81\" cy=\"650.882\" r=\"2\"/>\n",
       "<circle clip-path=\"url(#clip342)\" style=\"fill:#009af9; stroke:none; fill-opacity:1\" cx=\"966.47\" cy=\"474.247\" r=\"2\"/>\n",
       "<circle clip-path=\"url(#clip342)\" style=\"fill:#009af9; stroke:none; fill-opacity:1\" cx=\"1279.46\" cy=\"820.126\" r=\"2\"/>\n",
       "<circle clip-path=\"url(#clip342)\" style=\"fill:#009af9; stroke:none; fill-opacity:1\" cx=\"1430.29\" cy=\"987.541\" r=\"2\"/>\n",
       "<path clip-path=\"url(#clip340)\" d=\"M 0 0 M1032.72 277.799 L1044.18 277.799 L1044.18 238.251 L1031.71 240.751 L1031.71 234.362 L1044.11 231.862 L1051.12 231.862 L1051.12 277.799 L1062.58 277.799 L1062.58 283.702 L1032.72 283.702 L1032.72 277.799 Z\" fill=\"#000000\" fill-rule=\"evenodd\" fill-opacity=\"1\" /><path clip-path=\"url(#clip340)\" d=\"M 0 0 M685.509 499.205 L709.988 499.205 L709.988 505.108 L677.072 505.108 L677.072 499.205 Q681.065 495.073 687.94 488.129 Q694.849 481.149 696.62 479.136 Q699.988 475.351 701.308 472.747 Q702.662 470.108 702.662 467.573 Q702.662 463.441 699.745 460.837 Q696.863 458.233 692.21 458.233 Q688.912 458.233 685.231 459.379 Q681.585 460.524 677.419 462.851 L677.419 455.768 Q681.655 454.066 685.335 453.198 Q689.016 452.33 692.071 452.33 Q700.127 452.33 704.919 456.358 Q709.71 460.386 709.71 467.122 Q709.71 470.316 708.495 473.198 Q707.314 476.045 704.155 479.934 Q703.287 480.941 698.634 485.767 Q693.981 490.559 685.509 499.205 Z\" fill=\"#000000\" fill-rule=\"evenodd\" fill-opacity=\"1\" /><path clip-path=\"url(#clip340)\" d=\"M 0 0 M1752.59 1308.44 Q1757.62 1309.52 1760.44 1312.92 Q1763.28 1316.32 1763.28 1321.32 Q1763.28 1328.99 1758.01 1333.2 Q1752.73 1337.4 1743.01 1337.4 Q1739.74 1337.4 1736.27 1336.74 Q1732.83 1336.11 1729.15 1334.83 L1729.15 1328.06 Q1732.07 1329.76 1735.54 1330.63 Q1739.01 1331.49 1742.8 1331.49 Q1749.4 1331.49 1752.83 1328.89 Q1756.3 1326.29 1756.3 1321.32 Q1756.3 1316.74 1753.08 1314.17 Q1749.88 1311.56 1744.15 1311.56 L1738.11 1311.56 L1738.11 1305.8 L1744.43 1305.8 Q1749.6 1305.8 1752.35 1303.75 Q1755.09 1301.67 1755.09 1297.78 Q1755.09 1293.79 1752.24 1291.67 Q1749.43 1289.52 1744.15 1289.52 Q1741.27 1289.52 1737.97 1290.14 Q1734.67 1290.77 1730.71 1292.08 L1730.71 1285.83 Q1734.71 1284.72 1738.18 1284.17 Q1741.69 1283.61 1744.78 1283.61 Q1752.76 1283.61 1757.42 1287.26 Q1762.07 1290.87 1762.07 1297.05 Q1762.07 1301.36 1759.6 1304.34 Q1757.14 1307.29 1752.59 1308.44 Z\" fill=\"#000000\" fill-rule=\"evenodd\" fill-opacity=\"1\" /><path clip-path=\"url(#clip340)\" d=\"M 0 0 M1590.83 1130.76 L1573.12 1158.44 L1590.83 1158.44 L1590.83 1130.76 M1588.99 1124.65 L1597.81 1124.65 L1597.81 1158.44 L1605.2 1158.44 L1605.2 1164.27 L1597.81 1164.27 L1597.81 1176.49 L1590.83 1176.49 L1590.83 1164.27 L1567.43 1164.27 L1567.43 1157.5 L1588.99 1124.65 Z\" fill=\"#000000\" fill-rule=\"evenodd\" fill-opacity=\"1\" /><path clip-path=\"url(#clip340)\" d=\"M 0 0 M1112.23 624.962 L1139.76 624.962 L1139.76 630.865 L1118.65 630.865 L1118.65 643.573 Q1120.18 643.052 1121.71 642.809 Q1123.24 642.532 1124.76 642.532 Q1133.45 642.532 1138.51 647.289 Q1143.58 652.045 1143.58 660.17 Q1143.58 668.538 1138.38 673.191 Q1133.17 677.809 1123.69 677.809 Q1120.42 677.809 1117.02 677.254 Q1113.65 676.698 1110.04 675.587 L1110.04 668.538 Q1113.17 670.24 1116.5 671.073 Q1119.83 671.906 1123.55 671.906 Q1129.56 671.906 1133.06 668.747 Q1136.57 665.587 1136.57 660.17 Q1136.57 654.754 1133.06 651.594 Q1129.56 648.434 1123.55 648.434 Q1120.74 648.434 1117.92 649.059 Q1115.15 649.684 1112.23 651.004 L1112.23 624.962 Z\" fill=\"#000000\" fill-rule=\"evenodd\" fill-opacity=\"1\" /><path clip-path=\"url(#clip340)\" d=\"M 0 0 M967.077 471.452 Q962.355 471.452 959.577 474.681 Q956.834 477.911 956.834 483.536 Q956.834 489.126 959.577 492.39 Q962.355 495.619 967.077 495.619 Q971.8 495.619 974.543 492.39 Q977.32 489.126 977.32 483.536 Q977.32 477.911 974.543 474.681 Q971.8 471.452 967.077 471.452 M981.001 449.473 L981.001 455.862 Q978.362 454.612 975.654 453.952 Q972.98 453.293 970.341 453.293 Q963.397 453.293 959.716 457.98 Q956.071 462.668 955.55 472.147 Q957.598 469.126 960.689 467.529 Q963.779 465.897 967.494 465.897 Q975.307 465.897 979.82 470.654 Q984.369 475.376 984.369 483.536 Q984.369 491.522 979.647 496.348 Q974.925 501.174 967.077 501.174 Q958.084 501.174 953.327 494.299 Q948.571 487.39 948.571 474.299 Q948.571 462.008 954.404 454.716 Q960.237 447.39 970.063 447.39 Q972.702 447.39 975.376 447.911 Q978.084 448.432 981.001 449.473 Z\" fill=\"#000000\" fill-rule=\"evenodd\" fill-opacity=\"1\" /><path clip-path=\"url(#clip340)\" d=\"M 0 0 M1262.79 794.206 L1296.13 794.206 L1296.13 797.192 L1277.31 846.046 L1269.98 846.046 L1287.69 800.108 L1262.79 800.108 L1262.79 794.206 Z\" fill=\"#000000\" fill-rule=\"evenodd\" fill-opacity=\"1\" /><path clip-path=\"url(#clip340)\" d=\"M 0 0 M1430.29 988.843 Q1425.29 988.843 1422.4 991.517 Q1419.56 994.19 1419.56 998.878 Q1419.56 1003.57 1422.4 1006.24 Q1425.29 1008.91 1430.29 1008.91 Q1435.29 1008.91 1438.17 1006.24 Q1441.05 1003.53 1441.05 998.878 Q1441.05 994.19 1438.17 991.517 Q1435.32 988.843 1430.29 988.843 M1423.27 985.857 Q1418.76 984.746 1416.22 981.656 Q1413.72 978.565 1413.72 974.121 Q1413.72 967.906 1418.13 964.295 Q1422.58 960.683 1430.29 960.683 Q1438.03 960.683 1442.44 964.295 Q1446.85 967.906 1446.85 974.121 Q1446.85 978.565 1444.31 981.656 Q1441.81 984.746 1437.33 985.857 Q1442.4 987.038 1445.22 990.475 Q1448.06 993.912 1448.06 998.878 Q1448.06 1006.41 1443.45 1010.44 Q1438.86 1014.47 1430.29 1014.47 Q1421.71 1014.47 1417.09 1010.44 Q1412.51 1006.41 1412.51 998.878 Q1412.51 993.912 1415.36 990.475 Q1418.2 987.038 1423.27 985.857 M1420.7 974.781 Q1420.7 978.808 1423.2 981.065 Q1425.74 983.322 1430.29 983.322 Q1434.8 983.322 1437.33 981.065 Q1439.9 978.808 1439.9 974.781 Q1439.9 970.753 1437.33 968.496 Q1434.8 966.239 1430.29 966.239 Q1425.74 966.239 1423.2 968.496 Q1420.7 970.753 1420.7 974.781 Z\" fill=\"#000000\" fill-rule=\"evenodd\" fill-opacity=\"1\" /></svg>\n"
      ]
     },
     "metadata": {},
     "output_type": "display_data"
    },
    {
     "data": {
      "image/svg+xml": [
       "<?xml version=\"1.0\" encoding=\"utf-8\"?>\n",
       "<svg xmlns=\"http://www.w3.org/2000/svg\" xmlns:xlink=\"http://www.w3.org/1999/xlink\" width=\"600\" height=\"400\" viewBox=\"0 0 2400 1600\">\n",
       "<defs>\n",
       "  <clipPath id=\"clip380\">\n",
       "    <rect x=\"0\" y=\"0\" width=\"2400\" height=\"1600\"/>\n",
       "  </clipPath>\n",
       "</defs>\n",
       "<path clip-path=\"url(#clip380)\" d=\"\n",
       "M0 1600 L2400 1600 L2400 0 L0 0  Z\n",
       "  \" fill=\"#ffffff\" fill-rule=\"evenodd\" fill-opacity=\"1\"/>\n",
       "<defs>\n",
       "  <clipPath id=\"clip381\">\n",
       "    <rect x=\"480\" y=\"0\" width=\"1681\" height=\"1600\"/>\n",
       "  </clipPath>\n",
       "</defs>\n",
       "<path clip-path=\"url(#clip380)\" d=\"\n",
       "M482.992 1521.01 L1956.76 1521.01 L1956.76 47.2441 L482.992 47.2441  Z\n",
       "  \" fill=\"#ffffff\" fill-rule=\"evenodd\" fill-opacity=\"1\"/>\n",
       "<defs>\n",
       "  <clipPath id=\"clip382\">\n",
       "    <rect x=\"482\" y=\"47\" width=\"1475\" height=\"1475\"/>\n",
       "  </clipPath>\n",
       "</defs>\n",
       "<polyline clip-path=\"url(#clip382)\" style=\"stroke:#000000; stroke-width:4; stroke-opacity:1; fill:none\" points=\"\n",
       "  1223.28,257.782 1222.97,265.298 1222.68,272.811 1222.4,280.314 1222.16,287.806 1221.95,295.28 1221.8,302.734 1221.7,310.162 1221.67,317.561 1221.72,324.926 \n",
       "  1221.86,332.254 1222.1,339.539 1222.45,346.778 1222.92,353.967 1223.51,361.101 1224.24,368.177 1225.12,375.189 1226.16,382.134 1227.37,389.008 1228.76,395.806 \n",
       "  1230.33,402.525 1232.1,409.159 1234.08,415.705 1236.27,422.159 1238.7,428.516 1241.36,434.773 1244.25,440.929 1247.38,446.988 1250.72,452.955 1254.26,458.834 \n",
       "  1258.01,464.628 1261.94,470.343 1266.06,475.982 1270.34,481.55 1274.77,487.051 1279.36,492.488 1284.08,497.867 1288.94,503.191 1293.91,508.465 1298.99,513.693 \n",
       "  1304.17,518.878 1309.43,524.026 1314.78,529.14 1320.2,534.225 1325.67,539.285 1331.2,544.323 1336.76,549.345 1342.36,554.354 1347.97,559.355 1353.59,564.352 \n",
       "  \n",
       "  \"/>\n",
       "<polyline clip-path=\"url(#clip382)\" style=\"stroke:#000000; stroke-width:4; stroke-opacity:1; fill:none\" points=\"\n",
       "  693.53,1310.47 700.328,1307.65 707.118,1304.82 713.893,1301.97 720.643,1299.1 727.361,1296.21 734.038,1293.28 740.668,1290.31 747.241,1287.28 753.75,1284.2 \n",
       "  760.186,1281.06 766.543,1277.84 772.81,1274.55 778.981,1271.17 785.048,1267.7 791.002,1264.13 796.835,1260.45 802.54,1256.66 808.108,1252.75 813.531,1248.71 \n",
       "  818.801,1244.53 823.911,1240.22 828.852,1235.75 833.615,1231.13 838.194,1226.34 842.58,1221.38 846.774,1216.25 850.782,1210.96 854.614,1205.51 858.277,1199.91 \n",
       "  861.778,1194.17 865.128,1188.3 868.332,1182.29 871.399,1176.17 874.338,1169.93 877.157,1163.59 879.862,1157.14 882.464,1150.61 884.968,1143.98 887.385,1137.28 \n",
       "  889.72,1130.51 891.984,1123.68 894.183,1116.78 896.326,1109.84 898.42,1102.86 900.475,1095.84 902.497,1088.79 904.495,1081.72 906.477,1074.63 908.451,1067.54 \n",
       "  \n",
       "  \"/>\n",
       "<polyline clip-path=\"url(#clip382)\" style=\"stroke:#000000; stroke-width:4; stroke-opacity:1; fill:none\" points=\"\n",
       "  1125.87,821.765 1123.85,828.915 1121.81,836.058 1119.77,843.186 1117.69,850.293 1115.59,857.372 1113.44,864.415 1111.25,871.415 1109,878.366 1106.68,885.26 \n",
       "  1104.3,892.089 1101.83,898.848 1099.27,905.528 1096.62,912.123 1093.87,918.625 1091,925.028 1088.01,931.324 1084.89,937.506 1081.63,943.568 1078.23,949.501 \n",
       "  1074.68,955.299 1070.97,960.955 1067.08,966.461 1063.02,971.811 1058.78,976.997 1054.34,982.013 1049.71,986.858 1044.9,991.54 1039.9,996.065 1034.74,1000.44 \n",
       "  1029.42,1004.67 1023.95,1008.77 1018.33,1012.74 1012.57,1016.59 1006.69,1020.33 1000.68,1023.96 994.567,1027.49 988.344,1030.92 982.026,1034.27 975.619,1037.55 \n",
       "  969.131,1040.75 962.571,1043.89 955.947,1046.97 949.266,1050 942.537,1052.99 935.768,1055.94 928.967,1058.86 922.142,1061.77 915.3,1064.66 908.451,1067.54 \n",
       "  \n",
       "  \"/>\n",
       "<polyline clip-path=\"url(#clip382)\" style=\"stroke:#000000; stroke-width:4; stroke-opacity:1; fill:none\" points=\"\n",
       "  1125.87,821.765 1132.93,818.646 1139.98,815.519 1147.02,812.379 1154.03,809.217 1161.01,806.026 1167.95,802.8 1174.84,799.531 1181.67,796.213 1188.44,792.838 \n",
       "  1195.14,789.398 1201.76,785.887 1208.29,782.299 1214.72,778.624 1221.05,774.858 1227.26,770.991 1233.36,767.018 1239.32,762.931 1245.15,758.724 1250.84,754.388 \n",
       "  1256.37,749.917 1261.74,745.303 1266.94,740.541 1271.97,735.621 1276.81,730.538 1281.45,725.285 1285.91,719.861 1290.18,714.274 1294.27,708.53 1298.2,702.637 \n",
       "  1301.96,696.601 1305.57,690.43 1309.03,684.131 1312.36,677.712 1315.56,671.178 1318.64,664.538 1321.61,657.798 1324.47,650.965 1327.24,644.047 1329.92,637.051 \n",
       "  1332.51,629.984 1335.04,622.853 1337.5,615.665 1339.9,608.427 1342.26,601.146 1344.57,593.83 1346.86,586.485 1349.12,579.119 1351.36,571.739 1353.59,564.352 \n",
       "  \n",
       "  \"/>\n",
       "<polyline clip-path=\"url(#clip382)\" style=\"stroke:#000000; stroke-width:4; stroke-opacity:1; fill:none\" points=\"\n",
       "  1746.22,574.411 1738.12,577.425 1730.03,580.429 1721.93,583.411 1713.84,586.361 1705.75,589.268 1697.66,592.121 1689.57,594.91 1681.48,597.624 1673.39,600.252 \n",
       "  1665.31,602.783 1657.23,605.207 1649.15,607.513 1641.08,609.691 1633.01,611.728 1624.94,613.616 1616.88,615.342 1608.82,616.896 1600.77,618.269 1592.72,619.447 \n",
       "  1584.68,620.422 1576.64,621.183 1568.61,621.718 1560.58,622.016 1552.56,622.068 1544.55,621.863 1536.55,621.401 1528.55,620.691 1520.55,619.746 1512.56,618.575 \n",
       "  1504.58,617.189 1496.6,615.6 1488.63,613.817 1480.66,611.852 1472.7,609.715 1464.74,607.417 1456.79,604.969 1448.84,602.381 1440.89,599.665 1432.94,596.83 \n",
       "  1425,593.888 1417.06,590.85 1409.12,587.725 1401.18,584.526 1393.25,581.262 1385.32,577.944 1377.39,574.584 1369.45,571.191 1361.52,567.777 1353.59,564.352 \n",
       "  \n",
       "  \"/>\n",
       "<path clip-path=\"url(#clip382)\" d=\"\n",
       "M1255.15 257.782 L1239.21 230.18 L1207.34 230.18 L1191.4 257.782 L1207.34 285.384 L1239.21 285.384 L1255.15 257.782 L1255.15 257.782  Z\n",
       "  \" fill=\"#009af9\" fill-rule=\"evenodd\" fill-opacity=\"1\"/>\n",
       "<polyline clip-path=\"url(#clip382)\" style=\"stroke:#000000; stroke-width:4; stroke-opacity:1; fill:none\" points=\"\n",
       "  1255.15,257.782 1239.21,230.18 1207.34,230.18 1191.4,257.782 1207.34,285.384 1239.21,285.384 1255.15,257.782 \n",
       "  \"/>\n",
       "<path clip-path=\"url(#clip382)\" d=\"\n",
       "M796.92 1310.47 L745.225 1220.93 L641.835 1220.93 L590.14 1310.47 L641.835 1400.01 L745.225 1400.01 L796.92 1310.47 L796.92 1310.47  Z\n",
       "  \" fill=\"#009af9\" fill-rule=\"evenodd\" fill-opacity=\"1\"/>\n",
       "<polyline clip-path=\"url(#clip382)\" style=\"stroke:#000000; stroke-width:4; stroke-opacity:1; fill:none\" points=\"\n",
       "  796.92,1310.47 745.225,1220.93 641.835,1220.93 590.14,1310.47 641.835,1400.01 745.225,1400.01 796.92,1310.47 \n",
       "  \"/>\n",
       "<path clip-path=\"url(#clip382)\" d=\"\n",
       "M1233.93 821.765 L1179.9 728.187 L1071.85 728.187 L1017.82 821.765 L1071.85 915.343 L1179.9 915.343 L1233.93 821.765 L1233.93 821.765  Z\n",
       "  \" fill=\"#009af9\" fill-rule=\"evenodd\" fill-opacity=\"1\"/>\n",
       "<polyline clip-path=\"url(#clip382)\" style=\"stroke:#000000; stroke-width:4; stroke-opacity:1; fill:none\" points=\"\n",
       "  1233.93,821.765 1179.9,728.187 1071.85,728.187 1017.82,821.765 1071.85,915.343 1179.9,915.343 1233.93,821.765 1233.93,821.765 \n",
       "  \"/>\n",
       "<path clip-path=\"url(#clip382)\" d=\"\n",
       "M1016.51 1067.54 L962.478 973.961 L854.424 973.961 L800.396 1067.54 L854.424 1161.12 L962.478 1161.12 L1016.51 1067.54 L1016.51 1067.54  Z\n",
       "  \" fill=\"#009af9\" fill-rule=\"evenodd\" fill-opacity=\"1\"/>\n",
       "<polyline clip-path=\"url(#clip382)\" style=\"stroke:#000000; stroke-width:4; stroke-opacity:1; fill:none\" points=\"\n",
       "  1016.51,1067.54 962.478,973.961 854.424,973.961 800.396,1067.54 854.424,1161.12 962.478,1161.12 1016.51,1067.54 \n",
       "  \"/>\n",
       "<path clip-path=\"url(#clip382)\" d=\"\n",
       "M1778.87 574.411 L1762.54 546.135 L1729.89 546.135 L1713.57 574.411 L1729.89 602.686 L1762.54 602.686 L1778.87 574.411 L1778.87 574.411  Z\n",
       "  \" fill=\"#009af9\" fill-rule=\"evenodd\" fill-opacity=\"1\"/>\n",
       "<polyline clip-path=\"url(#clip382)\" style=\"stroke:#000000; stroke-width:4; stroke-opacity:1; fill:none\" points=\"\n",
       "  1778.87,574.411 1762.54,546.135 1729.89,546.135 1713.57,574.411 1729.89,602.686 1762.54,602.686 1778.87,574.411 \n",
       "  \"/>\n",
       "<path clip-path=\"url(#clip382)\" d=\"\n",
       "M1454.65 564.352 L1404.12 476.833 L1303.06 476.833 L1252.54 564.352 L1303.06 651.871 L1404.12 651.871 L1454.65 564.352 L1454.65 564.352  Z\n",
       "  \" fill=\"#009af9\" fill-rule=\"evenodd\" fill-opacity=\"1\"/>\n",
       "<polyline clip-path=\"url(#clip382)\" style=\"stroke:#000000; stroke-width:4; stroke-opacity:1; fill:none\" points=\"\n",
       "  1454.65,564.352 1404.12,476.833 1303.06,476.833 1252.54,564.352 1303.06,651.871 1404.12,651.871 1454.65,564.352 \n",
       "  \"/>\n",
       "<circle clip-path=\"url(#clip382)\" style=\"fill:#009af9; stroke:none; fill-opacity:1\" cx=\"1223.28\" cy=\"257.782\" r=\"2\"/>\n",
       "<circle clip-path=\"url(#clip382)\" style=\"fill:#009af9; stroke:none; fill-opacity:1\" cx=\"693.53\" cy=\"1310.47\" r=\"2\"/>\n",
       "<circle clip-path=\"url(#clip382)\" style=\"fill:#009af9; stroke:none; fill-opacity:1\" cx=\"1125.87\" cy=\"821.765\" r=\"2\"/>\n",
       "<circle clip-path=\"url(#clip382)\" style=\"fill:#009af9; stroke:none; fill-opacity:1\" cx=\"908.451\" cy=\"1067.54\" r=\"2\"/>\n",
       "<circle clip-path=\"url(#clip382)\" style=\"fill:#009af9; stroke:none; fill-opacity:1\" cx=\"1746.22\" cy=\"574.411\" r=\"2\"/>\n",
       "<circle clip-path=\"url(#clip382)\" style=\"fill:#009af9; stroke:none; fill-opacity:1\" cx=\"1353.59\" cy=\"564.352\" r=\"2\"/>\n",
       "<path clip-path=\"url(#clip380)\" d=\"M 0 0 M1208.85 277.799 L1220.31 277.799 L1220.31 238.251 L1207.84 240.751 L1207.84 234.362 L1220.24 231.862 L1227.25 231.862 L1227.25 277.799 L1238.71 277.799 L1238.71 283.702 L1208.85 283.702 L1208.85 277.799 Z\" fill=\"#000000\" fill-rule=\"evenodd\" fill-opacity=\"1\" /><path clip-path=\"url(#clip380)\" d=\"M 0 0 M685.509 1330.49 L709.988 1330.49 L709.988 1336.39 L677.072 1336.39 L677.072 1330.49 Q681.065 1326.36 687.94 1319.41 Q694.849 1312.43 696.62 1310.42 Q699.988 1306.63 701.308 1304.03 Q702.662 1301.39 702.662 1298.86 Q702.662 1294.72 699.745 1292.12 Q696.863 1289.52 692.21 1289.52 Q688.912 1289.52 685.231 1290.66 Q681.585 1291.81 677.419 1294.13 L677.419 1287.05 Q681.655 1285.35 685.335 1284.48 Q689.016 1283.61 692.071 1283.61 Q700.127 1283.61 704.919 1287.64 Q709.71 1291.67 709.71 1298.4 Q709.71 1301.6 708.495 1304.48 Q707.314 1307.33 704.155 1311.22 Q703.287 1312.22 698.634 1317.05 Q693.981 1321.84 685.509 1330.49 Z\" fill=\"#000000\" fill-rule=\"evenodd\" fill-opacity=\"1\" /><path clip-path=\"url(#clip380)\" d=\"M 0 0 M1132.24 819.734 Q1137.28 820.81 1140.09 824.213 Q1142.94 827.616 1142.94 832.616 Q1142.94 840.289 1137.66 844.491 Q1132.38 848.692 1122.66 848.692 Q1119.4 848.692 1115.92 848.032 Q1112.49 847.407 1108.81 846.123 L1108.81 839.352 Q1111.72 841.053 1115.2 841.921 Q1118.67 842.789 1122.45 842.789 Q1129.05 842.789 1132.49 840.185 Q1135.96 837.581 1135.96 832.616 Q1135.96 828.032 1132.73 825.463 Q1129.54 822.859 1123.81 822.859 L1117.77 822.859 L1117.77 817.095 L1124.08 817.095 Q1129.26 817.095 1132 815.046 Q1134.74 812.963 1134.74 809.074 Q1134.74 805.081 1131.9 802.963 Q1129.08 800.81 1123.81 800.81 Q1120.92 800.81 1117.63 801.435 Q1114.33 802.06 1110.37 803.38 L1110.37 797.13 Q1114.36 796.019 1117.83 795.463 Q1121.34 794.908 1124.43 794.908 Q1132.42 794.908 1137.07 798.553 Q1141.72 802.165 1141.72 808.345 Q1141.72 812.651 1139.26 815.637 Q1136.79 818.588 1132.24 819.734 Z\" fill=\"#000000\" fill-rule=\"evenodd\" fill-opacity=\"1\" /><path clip-path=\"url(#clip380)\" d=\"M 0 0 M912.965 1047.73 L895.256 1075.4 L912.965 1075.4 L912.965 1047.73 M911.124 1041.62 L919.944 1041.62 L919.944 1075.4 L927.34 1075.4 L927.34 1081.24 L919.944 1081.24 L919.944 1093.46 L912.965 1093.46 L912.965 1081.24 L889.562 1081.24 L889.562 1074.47 L911.124 1041.62 Z\" fill=\"#000000\" fill-rule=\"evenodd\" fill-opacity=\"1\" /><path clip-path=\"url(#clip380)\" d=\"M 0 0 M1731.63 548.491 L1759.17 548.491 L1759.17 554.393 L1738.06 554.393 L1738.06 567.102 Q1739.59 566.581 1741.11 566.338 Q1742.64 566.06 1744.17 566.06 Q1752.85 566.06 1757.92 570.817 Q1762.99 575.574 1762.99 583.699 Q1762.99 592.067 1757.78 596.72 Q1752.57 601.338 1743.09 601.338 Q1739.83 601.338 1736.43 600.782 Q1733.06 600.226 1729.45 599.115 L1729.45 592.067 Q1732.57 593.768 1735.91 594.601 Q1739.24 595.435 1742.95 595.435 Q1748.96 595.435 1752.47 592.275 Q1755.98 589.115 1755.98 583.699 Q1755.98 578.282 1752.47 575.122 Q1748.96 571.963 1742.95 571.963 Q1740.14 571.963 1737.33 572.588 Q1734.55 573.213 1731.63 574.532 L1731.63 548.491 Z\" fill=\"#000000\" fill-rule=\"evenodd\" fill-opacity=\"1\" /><path clip-path=\"url(#clip380)\" d=\"M 0 0 M1354.2 561.557 Q1349.48 561.557 1346.7 564.786 Q1343.96 568.015 1343.96 573.64 Q1343.96 579.23 1346.7 582.494 Q1349.48 585.723 1354.2 585.723 Q1358.92 585.723 1361.67 582.494 Q1364.44 579.23 1364.44 573.64 Q1364.44 568.015 1361.67 564.786 Q1358.92 561.557 1354.2 561.557 M1368.12 539.578 L1368.12 545.966 Q1365.49 544.716 1362.78 544.057 Q1360.1 543.397 1357.46 543.397 Q1350.52 543.397 1346.84 548.084 Q1343.19 552.772 1342.67 562.251 Q1344.72 559.23 1347.81 557.633 Q1350.9 556.001 1354.62 556.001 Q1362.43 556.001 1366.94 560.758 Q1371.49 565.48 1371.49 573.64 Q1371.49 581.626 1366.77 586.452 Q1362.05 591.279 1354.2 591.279 Q1345.21 591.279 1340.45 584.404 Q1335.69 577.494 1335.69 564.404 Q1335.69 552.112 1341.53 544.821 Q1347.36 537.494 1357.19 537.494 Q1359.83 537.494 1362.5 538.015 Q1365.21 538.536 1368.12 539.578 Z\" fill=\"#000000\" fill-rule=\"evenodd\" fill-opacity=\"1\" /></svg>\n"
      ]
     },
     "metadata": {},
     "output_type": "display_data"
    }
   ],
   "source": [
    "for k in Primes.primes(3, min(seqlen, 31))\n",
    "    graph = Eisenia.KmerGraph(BioSequences.DNAMer{k}, observations)\n",
    "    display(Eisenia.plot_graph(graph))\n",
    "end"
   ]
  },
  {
   "cell_type": "markdown",
   "metadata": {},
   "source": [
    "Let's go with k = 3. k = 5 seems like it has lots of disjointed tips and k=7 fragments the graphs to the point that there are no overlaps. This suggests that the smallest possible k that can separate signal from noise is ideal"
   ]
  },
  {
   "cell_type": "code",
   "execution_count": 28,
   "metadata": {},
   "outputs": [
    {
     "data": {
      "text/plain": [
       "Eisenia.KmerGraph{BioSequences.Mer{BioSequences.DNAAlphabet{2},7}}({6, 5} undirected simple Int64 graph, Dict{LightGraphs.SimpleGraphs.SimpleEdge{Int64},Array{Eisenia.EdgeEvidence,1}}(Edge 1 => 6 => [Eisenia.EdgeEvidence(48, 1), Eisenia.EdgeEvidence(61, 1)],Edge 3 => 4 => [Eisenia.EdgeEvidence(1, 2), Eisenia.EdgeEvidence(2, 2), Eisenia.EdgeEvidence(3, 2), Eisenia.EdgeEvidence(4, 1), Eisenia.EdgeEvidence(5, 2), Eisenia.EdgeEvidence(6, 2), Eisenia.EdgeEvidence(7, 2), Eisenia.EdgeEvidence(8, 2), Eisenia.EdgeEvidence(9, 2), Eisenia.EdgeEvidence(10, 2)  …  Eisenia.EdgeEvidence(91, 2), Eisenia.EdgeEvidence(92, 2), Eisenia.EdgeEvidence(93, 1), Eisenia.EdgeEvidence(94, 2), Eisenia.EdgeEvidence(95, 2), Eisenia.EdgeEvidence(96, 1), Eisenia.EdgeEvidence(97, 2), Eisenia.EdgeEvidence(98, 1), Eisenia.EdgeEvidence(99, 2), Eisenia.EdgeEvidence(100, 3)],Edge 3 => 6 => [Eisenia.EdgeEvidence(1, 3), Eisenia.EdgeEvidence(2, 3), Eisenia.EdgeEvidence(3, 3), Eisenia.EdgeEvidence(5, 1), Eisenia.EdgeEvidence(6, 3), Eisenia.EdgeEvidence(7, 3), Eisenia.EdgeEvidence(8, 3), Eisenia.EdgeEvidence(9, 3), Eisenia.EdgeEvidence(10, 1), Eisenia.EdgeEvidence(11, 3)  …  Eisenia.EdgeEvidence(89, 1), Eisenia.EdgeEvidence(90, 3), Eisenia.EdgeEvidence(91, 1), Eisenia.EdgeEvidence(92, 3), Eisenia.EdgeEvidence(94, 1), Eisenia.EdgeEvidence(95, 1), Eisenia.EdgeEvidence(97, 3), Eisenia.EdgeEvidence(98, 2), Eisenia.EdgeEvidence(99, 3), Eisenia.EdgeEvidence(100, 2)],Edge 2 => 4 => [Eisenia.EdgeEvidence(1, 1), Eisenia.EdgeEvidence(2, 1), Eisenia.EdgeEvidence(3, 1), Eisenia.EdgeEvidence(4, 2), Eisenia.EdgeEvidence(5, 3), Eisenia.EdgeEvidence(6, 1), Eisenia.EdgeEvidence(7, 1), Eisenia.EdgeEvidence(8, 1), Eisenia.EdgeEvidence(9, 1), Eisenia.EdgeEvidence(10, 3)  …  Eisenia.EdgeEvidence(90, 1), Eisenia.EdgeEvidence(91, 3), Eisenia.EdgeEvidence(92, 1), Eisenia.EdgeEvidence(93, 2), Eisenia.EdgeEvidence(94, 3), Eisenia.EdgeEvidence(95, 3), Eisenia.EdgeEvidence(96, 2), Eisenia.EdgeEvidence(97, 1), Eisenia.EdgeEvidence(99, 1), Eisenia.EdgeEvidence(100, 4)],Edge 5 => 6 => [Eisenia.EdgeEvidence(14, 1), Eisenia.EdgeEvidence(54, 1), Eisenia.EdgeEvidence(100, 1)]), BioSequences.Mer{BioSequences.DNAAlphabet{2},7}[ATCGTCC, CCTGGGA, CGTCCCA, CTGGGAC, GGACGAA, GGGACGA], [2, 94, 100, 100, 3, 91])"
      ]
     },
     "execution_count": 28,
     "metadata": {},
     "output_type": "execute_result"
    }
   ],
   "source": [
    "k = 7\n",
    "graph = Eisenia.KmerGraph(BioSequences.DNAMer{k}, observations)"
   ]
  },
  {
   "cell_type": "code",
   "execution_count": 29,
   "metadata": {},
   "outputs": [
    {
     "data": {
      "text/plain": [
       "0"
      ]
     },
     "execution_count": 29,
     "metadata": {},
     "output_type": "execute_result"
    }
   ],
   "source": [
    "total_edits_accepted = 0\n",
    "total_bases_evaluated = 0"
   ]
  },
  {
   "cell_type": "code",
   "execution_count": 30,
   "metadata": {},
   "outputs": [
    {
     "name": "stdout",
     "output_type": "stream",
     "text": [
      "my_isequal(maximum_likelihood_observation, first(sequences)) = false\n",
      "my_isequal(maximum_likelihood_observation, first(sequences)) = false\n",
      "my_isequal(maximum_likelihood_observation, first(sequences)) = false\n",
      "my_isequal(maximum_likelihood_observation, first(sequences)) = false\n",
      "my_isequal(maximum_likelihood_observation, first(sequences)) = false\n",
      "my_isequal(maximum_likelihood_observation, first(sequences)) = false\n",
      "my_isequal(maximum_likelihood_observation, first(sequences)) = false\n",
      "my_isequal(maximum_likelihood_observation, first(sequences)) = false\n",
      "my_isequal(maximum_likelihood_observation, first(sequences)) = false\n",
      "my_isequal(maximum_likelihood_observation, first(sequences)) = false\n",
      "my_isequal(maximum_likelihood_observation, first(sequences)) = false\n",
      "my_isequal(maximum_likelihood_observation, first(sequences)) = false\n",
      "my_isequal(maximum_likelihood_observation, first(sequences)) = false\n",
      "my_isequal(maximum_likelihood_observation, first(sequences)) = false\n",
      "my_isequal(maximum_likelihood_observation, first(sequences)) = false\n",
      "my_isequal(maximum_likelihood_observation, first(sequences)) = false\n",
      "my_isequal(maximum_likelihood_observation, first(sequences)) = false\n",
      "my_isequal(maximum_likelihood_observation, first(sequences)) = false\n",
      "my_isequal(maximum_likelihood_observation, first(sequences)) = false\n"
     ]
    }
   ],
   "source": [
    "maximum_likelihood_observations = BioSequences.LongDNASeq[]\n",
    "for observation in observations\n",
    "    if length(observation) >= k\n",
    "        total_bases_evaluated += length(observation)\n",
    "        optimal_path, edit_distance, relative_likelihood = Eisenia.viterbi_maximum_likelihood_path(graph, observation, error_rate)\n",
    "        total_edits_accepted += edit_distance\n",
    "        maximum_likelihood_observation = Eisenia.oriented_path_to_sequence(optimal_path, graph.kmers)\n",
    "        was_equal_before = my_isequal(observation, first(sequences))\n",
    "        if !was_equal_before\n",
    "            @show my_isequal(maximum_likelihood_observation, first(sequences))\n",
    "        end\n",
    "        push!(maximum_likelihood_observations, maximum_likelihood_observation)\n",
    "    end\n",
    "end"
   ]
  },
  {
   "cell_type": "code",
   "execution_count": 31,
   "metadata": {},
   "outputs": [
    {
     "data": {
      "text/plain": [
       "0.0"
      ]
     },
     "execution_count": 31,
     "metadata": {},
     "output_type": "execute_result"
    }
   ],
   "source": [
    "total_edits_accepted / total_bases_evaluated"
   ]
  },
  {
   "cell_type": "code",
   "execution_count": null,
   "metadata": {},
   "outputs": [],
   "source": [
    "observations = maximum_likelihood_observations\n",
    "maximum_likelihood_observations = BioSequences.LongDNASeq[]"
   ]
  },
  {
   "cell_type": "code",
   "execution_count": null,
   "metadata": {},
   "outputs": [],
   "source": [
    "for k in Primes.primes(3, min(seqlen, 31))\n",
    "    counts = collect(values(Eisenia.count_kmers(BioSequences.DNAMer{k}, observations)))\n",
    "    display(Eisenia.plot_kmer_frequency_spectra(counts, title = \"k = $k\", size = (500, 300)))\n",
    "end"
   ]
  },
  {
   "cell_type": "markdown",
   "metadata": {},
   "source": [
    "These all seem fine, let's see what the graphs look like for each"
   ]
  },
  {
   "cell_type": "code",
   "execution_count": null,
   "metadata": {},
   "outputs": [],
   "source": [
    "for k in Primes.primes(3, min(seqlen, 31))\n",
    "    graph = Eisenia.KmerGraph(BioSequences.DNAMer{k}, observations)\n",
    "    display(Eisenia.plot_graph(graph))\n",
    "end"
   ]
  },
  {
   "cell_type": "markdown",
   "metadata": {},
   "source": [
    "Let's go with k = 3. k = 5 seems like it has lots of disjointed tips and k=7 fragments the graphs to the point that there are no overlaps. This suggests that the smallest possible k that can separate signal from noise is ideal"
   ]
  }
 ],
 "metadata": {
  "kernelspec": {
   "display_name": "Julia 1.5.3",
   "language": "julia",
   "name": "julia-1.5"
  },
  "language_info": {
   "file_extension": ".jl",
   "mimetype": "application/julia",
   "name": "julia",
   "version": "1.5.3"
  }
 },
 "nbformat": 4,
 "nbformat_minor": 4
}
