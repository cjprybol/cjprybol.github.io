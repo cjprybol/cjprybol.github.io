{
 "cells": [
  {
   "cell_type": "markdown",
   "metadata": {},
   "source": [
    "---\n",
    "layout: post  \n",
    "---"
   ]
  },
  {
   "cell_type": "code",
   "execution_count": null,
   "metadata": {},
   "outputs": [],
   "source": [
    "# TODO: test all of the code warntypes!!"
   ]
  },
  {
   "cell_type": "code",
   "execution_count": null,
   "metadata": {},
   "outputs": [],
   "source": [
    "import Pkg\n",
    "pkgs = [\n",
    "    \"BioSequences\",\n",
    "    \"Random\",\n",
    "    \"BenchmarkTools\",\n",
    "    \"Primes\",\n",
    "    \"LightGraphs\",\n",
    "    \"StatsBase\",\n",
    "    \"DataStructures\",\n",
    "    \"GraphRecipes\",\n",
    "    \"Plots\",\n",
    "    \"BioSymbols\",\n",
    "    \"StatsPlots\",\n",
    "    \"BioAlignments\",\n",
    "    \"SparseArrays\",\n",
    "    \"PrettyTables\",\n",
    "    \"ProfileView\"\n",
    "]\n",
    "\n",
    "Pkg.add(pkgs)\n",
    "for pkg in pkgs\n",
    "    eval(Meta.parse(\"import $pkg\"))\n",
    "end"
   ]
  },
  {
   "cell_type": "code",
   "execution_count": null,
   "metadata": {},
   "outputs": [],
   "source": [
    "const ORIENTED_KMER = NamedTuple{(:index, :orientation),Tuple{Int,Union{Bool, Missing}}}"
   ]
  },
  {
   "cell_type": "code",
   "execution_count": null,
   "metadata": {},
   "outputs": [],
   "source": [
    "function observe(sequence; error_rate = 0.0, alphabet = BioSymbols.ACGT)\n",
    "    @code_warntype observe(sequence)\n",
    "    new_seq = Vector{eltype(sequence)}()\n",
    "    for character in sequence\n",
    "        if rand() > error_rate\n",
    "            # match\n",
    "            push!(new_seq, character)\n",
    "        else\n",
    "            error_type = rand(1:3)\n",
    "            if error_type == 1\n",
    "                # mismatch\n",
    "                push!(new_seq, rand(setdiff(alphabet, character)))\n",
    "            elseif error_type == 2\n",
    "                # insertion\n",
    "                push!(new_seq, rand(alphabet))\n",
    "                push!(new_seq, character)\n",
    "            else\n",
    "                # deletion\n",
    "                continue\n",
    "            end\n",
    "        end\n",
    "    end\n",
    "    return_seq = BioSequences.LongDNASeq(new_seq)\n",
    "    if rand(Bool)\n",
    "        return_seq = BioSequences.reverse_complement!(return_seq)\n",
    "    end\n",
    "    return return_seq\n",
    "end"
   ]
  },
  {
   "cell_type": "code",
   "execution_count": null,
   "metadata": {},
   "outputs": [],
   "source": [
    "# @code_warntype observe(BioSequences.randdnaseq(4))"
   ]
  },
  {
   "cell_type": "code",
   "execution_count": null,
   "metadata": {},
   "outputs": [],
   "source": [
    "function get_kmer_index(kmers, kmer)\n",
    "    # clear!\n",
    "#     @code_warntype get_kmer_index(kmers, kmer)\n",
    "    index_range = searchsorted(kmers, kmer)\n",
    "    if !isempty(index_range)\n",
    "        return first(index_range)\n",
    "    else\n",
    "        return nothing\n",
    "    end\n",
    "end"
   ]
  },
  {
   "cell_type": "code",
   "execution_count": null,
   "metadata": {},
   "outputs": [],
   "source": [
    "# @code_warntype get_kmer_index(kmers, BioSequences.DNAMer(BioSequences.randdnaseq(1)))"
   ]
  },
  {
   "cell_type": "code",
   "execution_count": null,
   "metadata": {},
   "outputs": [],
   "source": [
    "function ordered_edge(a, b)\n",
    "#     @code_warntype ordered_edge(a, b)\n",
    "    if a <= b\n",
    "        return LightGraphs.Edge(a, b)\n",
    "    else\n",
    "        return LightGraphs.Edge(b, a)\n",
    "    end\n",
    "end"
   ]
  },
  {
   "cell_type": "code",
   "execution_count": null,
   "metadata": {},
   "outputs": [],
   "source": [
    "# @code_warntype ordered_edge(rand(Int), rand(Int))"
   ]
  },
  {
   "cell_type": "code",
   "execution_count": null,
   "metadata": {},
   "outputs": [],
   "source": [
    "function initialize_graph(observations, kmers::Vector{T}) where {T <: BioSequences.AbstractMer{A, K}} where {A, K}\n",
    "#     @code_warntype initialize_graph(observations, kmers, k)\n",
    "    # initalize graph\n",
    "    graph = LightGraphs.SimpleGraph(length(kmers))\n",
    "    \n",
    "    EDGE_TYPE = LightGraphs.SimpleGraphs.SimpleEdge{Int}\n",
    "\n",
    "    # an individual piece of evidence takes the form of\n",
    "    # (observation_index = observation #, edge_index = edge # starting from beginning of the observation)\n",
    "\n",
    "    EVIDENCE_TYPE = NamedTuple{(:observation_index, :edge_index),Tuple{Int,Int}}\n",
    "    \n",
    "    # evidence takes the form of Edge => [(evidence_1), (evidence_2), ..., (evidence_N)]    \n",
    "    edge_evidence = Dict{EDGE_TYPE, Vector{EVIDENCE_TYPE}}()\n",
    "    for (observation_index, observation) in enumerate(observations)\n",
    "        for edge_index in 1:length(observation)-K\n",
    "            a_to_b_connection = observation[edge_index:edge_index+K]\n",
    "            a = BioSequences.canonical(T{A,K}(a_to_b_connection[1:end-1]))\n",
    "            b = BioSequences.canonical(T{A,K}(a_to_b_connection[2:end]))\n",
    "            a_index = get_kmer_index(kmers, a)\n",
    "            b_index = get_kmer_index(kmers, b)\n",
    "            edge = ordered_edge(a_index, b_index)\n",
    "            LightGraphs.add_edge!(graph, edge)\n",
    "            evidence = (;observation_index, edge_index)\n",
    "            edge_evidence[edge] = push!(get(edge_evidence, edge, EVIDENCE_TYPE[]), evidence)\n",
    "        end\n",
    "    end\n",
    "    return (graph = graph, edge_evidence = edge_evidence)\n",
    "end"
   ]
  },
  {
   "cell_type": "code",
   "execution_count": null,
   "metadata": {},
   "outputs": [],
   "source": [
    "observations = [BioSequences.randdnaseq(Random.seed!(0), 1)]\n",
    "kmers = collect(keys(count_kmers(BioSequences.DNAMer{1}, observations)))\n",
    "initialize_graph([observations], kmers)"
   ]
  },
  {
   "cell_type": "code",
   "execution_count": null,
   "metadata": {},
   "outputs": [],
   "source": [
    "function determine_edge_probabilities(graph, kmers, edge_evidence)\n",
    "#     @code_warntype determine_edge_probabilities(graph, kmers, edge_evidence)\n",
    "    outgoing_edge_probabilities = determine_edge_probabilities(graph, kmers, edge_evidence, true)\n",
    "    incoming_edge_probabilities = determine_edge_probabilities(graph, kmers, edge_evidence, false)\n",
    "    return outgoing_edge_probabilities, incoming_edge_probabilities\n",
    "end\n",
    "\n",
    "function determine_edge_probabilities(graph, kmers, edge_evidence, strand)\n",
    "#     @code_warntype determine_edge_probabilities(graph, kmers, edge_evidence, strand)\n",
    "    outgoing_edge_probabilities = SparseArrays.spzeros(length(kmers), length(kmers))\n",
    "    \n",
    "    for (kmer_index, kmer) in enumerate(kmers)\n",
    "        if !strand\n",
    "            kmer = BioSequences.reverse_complement(kmer)\n",
    "        end\n",
    "        \n",
    "        downstream_neighbor_indices = Int[]\n",
    "        for neighbor in BioSequences.neighbors(kmer)\n",
    "            index = get_kmer_index(kmers, BioSequences.canonical(neighbor))\n",
    "            if !isnothing(index)\n",
    "                push!(downstream_neighbor_indices, index)\n",
    "            end\n",
    "        end\n",
    "        \n",
    "        # kmer must be in our dataset\n",
    "        filter!(neighbor_index -> neighbor_index != nothing, downstream_neighbor_indices)\n",
    "        # must have edge between kmers\n",
    "        filter!(neighbor_index -> LightGraphs.has_edge(graph, ordered_edge(kmer_index, neighbor_index)), downstream_neighbor_indices)\n",
    "        sort!(downstream_neighbor_indices)\n",
    "        \n",
    "        EDGE_EVIDENCE_TYPE = eltype(values(edge_evidence))\n",
    "        \n",
    "        downstream_edge_weights = Int[\n",
    "            length(get(edge_evidence, ordered_edge(kmer_index, neighbor_index), EDGE_EVIDENCE_TYPE())) for neighbor_index in downstream_neighbor_indices\n",
    "        ]\n",
    "        \n",
    "        non_zero_indices = downstream_edge_weights .> 0\n",
    "        downstream_neighbor_indices = downstream_neighbor_indices[non_zero_indices]\n",
    "        downstream_edge_weights = downstream_edge_weights[non_zero_indices]\n",
    "        \n",
    "        downstream_edge_likelihoods = downstream_edge_weights ./ sum(downstream_edge_weights)\n",
    "        for (neighbor_index, likelihood) in zip(downstream_neighbor_indices, downstream_edge_likelihoods)\n",
    "            outgoing_edge_probabilities[kmer_index, neighbor_index] = likelihood\n",
    "        end\n",
    "    end\n",
    "    return outgoing_edge_probabilities\n",
    "end"
   ]
  },
  {
   "cell_type": "code",
   "execution_count": null,
   "metadata": {},
   "outputs": [],
   "source": [
    "# observations = [BioSequences.randdnaseq(Random.seed!(0), 1)]\n",
    "# kmers = collect(keys(count_kmers(BioSequences.DNAMer{1}, observations)))\n",
    "# graph = initialize_graph([observations], kmers)"
   ]
  },
  {
   "cell_type": "code",
   "execution_count": null,
   "metadata": {},
   "outputs": [],
   "source": [
    "# @code_warntype determine_edge_probabilities(graph.graph, kmers, graph.edge_evidence)"
   ]
  },
  {
   "cell_type": "code",
   "execution_count": null,
   "metadata": {},
   "outputs": [],
   "source": [
    "# @code_warntype determine_edge_probabilities(graph.graph, kmers, graph.edge_evidence, false)"
   ]
  },
  {
   "cell_type": "code",
   "execution_count": null,
   "metadata": {},
   "outputs": [],
   "source": [
    "function assess_alignment(a, b)\n",
    "#     @code_warntype assess_alignment(a, b)\n",
    "    pairwise_alignment = BioAlignments.pairalign(BioAlignments.LevenshteinDistance(), a, b)\n",
    "    alignment_result = BioAlignments.alignment(pairwise_alignment)\n",
    "    total_aligned_bases = BioAlignments.count_aligned(alignment_result)\n",
    "    total_matches = Int(BioAlignments.count_matches(alignment_result))\n",
    "    total_edits = Int(total_aligned_bases - total_matches)\n",
    "    return (total_matches = total_matches, total_edits = total_edits)\n",
    "end"
   ]
  },
  {
   "cell_type": "code",
   "execution_count": null,
   "metadata": {},
   "outputs": [],
   "source": [
    "# @code_warntype assess_alignment(BioSequences.DNAMer(BioSequences.randdnaseq(3)), BioSequences.DNAMer(BioSequences.randdnaseq(3)))"
   ]
  },
  {
   "cell_type": "code",
   "execution_count": null,
   "metadata": {},
   "outputs": [],
   "source": [
    "function assess_path_orientations(path, kmers, initial_orientation)\n",
    "#     @code_warntype assess_path_orientations(path, kmers, initial_orientation)\n",
    "    \n",
    "    orientations = Vector{Union{Bool, Missing}}(missing, length(path))\n",
    "    orientations[1] = true\n",
    "    \n",
    "    # I THINK THIS IS WRONG\n",
    "    # I THINK THIS ORIENTATION SHOULD BE DEPENDANT ON PREVIOUS ORIENTATION!!\n",
    "    \n",
    "    for (i, (a, b)) in enumerate(zip(path[1:end-1], path[2:end]))\n",
    "        kmer_a = kmers[a]\n",
    "        kmer_b = kmers[b]\n",
    "        forward_match = all(kmer_a[a_index] == kmer_b[b_index] for (a_index, b_index) in zip(2:length(kmer_a), 1:length(kmer_b)-1))\n",
    "        reverse_match = all(kmer_a[a_index] == BioSequences.reverse_complement(kmer_b)[b_index] for (a_index, b_index) in zip(2:length(kmer_a), 1:length(kmer_b)-1))\n",
    "        if forward_match && reverse_match\n",
    "            # ambiguous orientation\n",
    "            this_orientation = missing\n",
    "        elseif forward_match && !reverse_match\n",
    "            this_orientation = true\n",
    "        elseif !forward_match && reverse_match\n",
    "            this_orientation = false\n",
    "        else\n",
    "            error(\"neither orientation matches $kmer_a, $kmer_b\")\n",
    "        end\n",
    "        orientations[i+1] = this_orientation\n",
    "    end\n",
    "    if !ismissing(initial_orientation) && !initial_orientation\n",
    "        for i in eachindex(orientations)\n",
    "            orientations[i] = !orientations[i]\n",
    "        end\n",
    "    end\n",
    "    return orientations\n",
    "end"
   ]
  },
  {
   "cell_type": "code",
   "execution_count": null,
   "metadata": {},
   "outputs": [],
   "source": [
    "# @code_warntype assess_path_orientations([1], kmers, true)"
   ]
  },
  {
   "cell_type": "code",
   "execution_count": null,
   "metadata": {},
   "outputs": [],
   "source": [
    "function assess_path_likelihood(oriented_path, kmers, counts, outgoing_edge_probabilities, incoming_edge_probabilities)\n",
    "#     @code_warntype assess_path_likelihood(oriented_path, kmers, counts, outgoing_edge_probabilities, incoming_edge_probabilities)\n",
    "    # we take it as a given that we are at the current node, so initialize with p=1 and then update with other node likelihoods\n",
    "    likelihood = 1.0\n",
    "    total_kmer_count = sum(counts)\n",
    "    for node in oriented_path[2:end]\n",
    "        likelihood *= counts[node.index] / total_kmer_count\n",
    "    end\n",
    "    for (a, b) in zip(oriented_path[1:end-1], oriented_path[2:end])\n",
    "        if ismissing(a.orientation)\n",
    "            # ambiguous orientation\n",
    "            likelihood *= max(incoming_edge_probabilities[a.index, b.index], incoming_edge_probabilities[a.index, b.index])\n",
    "        elseif a.orientation\n",
    "            likelihood *= outgoing_edge_probabilities[a.index, b.index]\n",
    "        elseif !a.orientation\n",
    "            likelihood *= incoming_edge_probabilities[a.index, b.index]\n",
    "        else\n",
    "            error(\"unreachable condition\")\n",
    "        end\n",
    "    end\n",
    "    return likelihood\n",
    "end"
   ]
  },
  {
   "cell_type": "code",
   "execution_count": null,
   "metadata": {},
   "outputs": [],
   "source": [
    "# @code_warntype assess_path_likelihood([(index = 1, orientation = true), (index = 2, orientation = false)], [BioSequences.mer\"A\", BioSequences.mer\"C\"], [1,1], SparseArrays.spzeros(2, 2), SparseArrays.spzeros(2, 2))"
   ]
  },
  {
   "cell_type": "code",
   "execution_count": null,
   "metadata": {},
   "outputs": [],
   "source": [
    "function orient_path(path, orientations)\n",
    "#     @code_warntype orient_path(path, orientations)\n",
    "    oriented_path = ORIENTED_KMER[(index = i, orientation = o) for (i, o) in zip(path, orientations)] \n",
    "    return oriented_path\n",
    "end"
   ]
  },
  {
   "cell_type": "code",
   "execution_count": null,
   "metadata": {},
   "outputs": [],
   "source": [
    "# @code_warntype orient_path([1], [true])"
   ]
  },
  {
   "cell_type": "code",
   "execution_count": null,
   "metadata": {},
   "outputs": [],
   "source": [
    "function assess_emission_match(a, b, orientation)\n",
    "    if !orientation\n",
    "        a = BioSequences.reverse_complement(a)\n",
    "    end\n",
    "    return a[end] == b[end]\n",
    "end"
   ]
  },
  {
   "cell_type": "code",
   "execution_count": null,
   "metadata": {},
   "outputs": [],
   "source": [
    "function assess_emission(current_orientation, current_kmer_index, observed_kmer, kmers)\n",
    "#     @code_warntype assess_emission(current_orientation, current_kmer_index, observed_kmer, kmers)\n",
    "    \n",
    "    current_kmer_sequence = kmers[current_kmer_index]\n",
    "    if observed_kmer.orientation\n",
    "        observed_kmer_sequence = kmers[observed_kmer.index]\n",
    "    else\n",
    "        observed_kmer_sequence = BioSequences.reverse_complement(kmers[observed_kmer.index])\n",
    "    end\n",
    "    \n",
    "    if !ismissing(current_orientation)\n",
    "        emission_match = assess_emission_match(current_kmer_sequence, observed_kmer_sequence, current_orientation)\n",
    "        evaluated_orientation = current_orientation\n",
    "    else\n",
    "        forward_emission_match = assess_emission_match(current_kmer_sequence, observed_kmer_sequence, true)\n",
    "        reverse_emission_match = assess_emission_match(current_kmer_sequence, observed_kmer_sequence, false)\n",
    "        emission_match = forward_emission_match || reverse_emission_match\n",
    "        if forward_emission_match && !reverse_emission_match\n",
    "            evaluated_orientation = true\n",
    "        elseif !forward_emission_match && reverse_emission_match\n",
    "            evaluated_orientation = false\n",
    "        else\n",
    "            evaluated_orientation = missing\n",
    "        end\n",
    "    end\n",
    "    return (emission_match, evaluated_orientation)\n",
    "end"
   ]
  },
  {
   "cell_type": "code",
   "execution_count": null,
   "metadata": {},
   "outputs": [],
   "source": [
    "# @code_warntype assess_emission(true, 1, (index = 1, orientation = true), [BioSequences.mer\"A\"])"
   ]
  },
  {
   "cell_type": "code",
   "execution_count": null,
   "metadata": {},
   "outputs": [],
   "source": [
    "function assess_path(path,\n",
    "    observed_kmer,\n",
    "    kmers,\n",
    "    counts,\n",
    "    initial_orientation,\n",
    "    outgoing_edge_probabilities,\n",
    "    incoming_edge_probabilities,\n",
    "    error_rate)\n",
    "    \n",
    "    orientations = assess_path_orientations(path, kmers, initial_orientation)\n",
    "    emission_match, evaluated_orientation = assess_emission(last(orientations), last(path), observed_kmer, kmers)\n",
    "    # assert an orientation if we found one\n",
    "    if ismissing(last(orientations)) && !ismissing(evaluated_orientation)\n",
    "        orientations[end] = evaluated_orientation\n",
    "    end\n",
    "    oriented_path = orient_path(path, orientations)\n",
    "    path_likelihood = assess_path_likelihood(oriented_path, kmers, counts, outgoing_edge_probabilities, incoming_edge_probabilities)\n",
    "    path_likelihood *= emission_match ? (1.0 - error_rate) : error_rate\n",
    "    edit_distance = !emission_match + abs(length(path) - 2)\n",
    "    \n",
    "    return (oriented_path = oriented_path, path_likelihood = path_likelihood, edit_distance = edit_distance)    \n",
    "end"
   ]
  },
  {
   "cell_type": "code",
   "execution_count": null,
   "metadata": {},
   "outputs": [],
   "source": [
    "# @code_warntype assess_path(\n",
    "#     [1],\n",
    "#     (index = 1, orientation = true),\n",
    "#     [BioSequences.DNAMer(\"A\")],\n",
    "#     [1],\n",
    "#     true,\n",
    "#     SparseArrays.spzeros(1, 1),\n",
    "#     SparseArrays.spzeros(1, 1),\n",
    "#     0.0)"
   ]
  },
  {
   "cell_type": "code",
   "execution_count": null,
   "metadata": {},
   "outputs": [],
   "source": [
    "function find_outneighbors(orientation, kmer_index, outgoing_edge_probabilities, incoming_edge_probabilities)\n",
    "#     @code_warntype find_outneighbors(orientation, kmer_index, outgoing_edge_probabilities, incoming_edge_probabilities)\n",
    "    if ismissing(orientation)\n",
    "        outneighbors = vcat(\n",
    "            first(SparseArrays.findnz(outgoing_edge_probabilities[kmer_index, :])),\n",
    "            first(SparseArrays.findnz(incoming_edge_probabilities[kmer_index, :]))\n",
    "        )\n",
    "    elseif orientation\n",
    "        outneighbors = first(SparseArrays.findnz(outgoing_edge_probabilities[kmer_index, :]))\n",
    "    else\n",
    "        outneighbors = first(SparseArrays.findnz(incoming_edge_probabilities[kmer_index, :]))\n",
    "    end\n",
    "    return outneighbors\n",
    "end"
   ]
  },
  {
   "cell_type": "code",
   "execution_count": null,
   "metadata": {},
   "outputs": [],
   "source": [
    "# @code_warntype find_outneighbors(true, 1, SparseArrays.spzeros(1, 1), SparseArrays.spzeros(1, 1))"
   ]
  },
  {
   "cell_type": "code",
   "execution_count": null,
   "metadata": {},
   "outputs": [],
   "source": [
    "function assess_insertion(previous_orientation, current_kmer_index, observed_kmer, kmers, counts, error_rate)\n",
    "#     @code_warntype assess_insertion(previous_orientation, current_kmer_index, observed_kmer, kmers, counts, error_rate)\n",
    "    \n",
    "    transition_likelihood = error_rate\n",
    "    state_likelihood = counts[current_kmer_index] / sum(counts)\n",
    "    emission_match, evaluated_orientation = assess_emission(previous_orientation, current_kmer_index, observed_kmer, kmers)\n",
    "    \n",
    "    oriented_path = ORIENTED_KMER[(index = current_kmer_index, orientation = evaluated_orientation)]\n",
    "    \n",
    "    emission_likelihood = emission_match ? (1.0 - error_rate) : error_rate\n",
    "    path_likelihood = state_likelihood * transition_likelihood * emission_likelihood\n",
    "    \n",
    "    transition_edit_distance = 1\n",
    "    edit_distance = !emission_match + transition_edit_distance\n",
    "    \n",
    "    return (oriented_path = oriented_path, path_likelihood = path_likelihood, edit_distance = edit_distance)\n",
    "end"
   ]
  },
  {
   "cell_type": "code",
   "execution_count": null,
   "metadata": {},
   "outputs": [],
   "source": [
    "# @code_warntype assess_insertion(true, 1, (index = 1, orientation = true), [BioSequences.DNAMer(\"A\")], [1], 0.0)"
   ]
  },
  {
   "cell_type": "code",
   "execution_count": null,
   "metadata": {},
   "outputs": [],
   "source": [
    "function assess_alignment_accuracy(alignment_result)\n",
    "#     @code_warntype assess_alignment_accuracy(alignment_result)\n",
    "    return alignment_result.total_matches / (alignment_result.total_matches + alignment_result.total_edits)\n",
    "end"
   ]
  },
  {
   "cell_type": "code",
   "execution_count": null,
   "metadata": {},
   "outputs": [],
   "source": [
    "# @code_warntype assess_alignment_accuracy((total_matches = 1, total_edits = 0))"
   ]
  },
  {
   "cell_type": "code",
   "execution_count": null,
   "metadata": {},
   "outputs": [],
   "source": [
    "function assess_optimal_alignment(kmer, observed_kmer)\n",
    "#     @code_warntype assess_optimal_alignment(kmer, observed_kmer)\n",
    "\n",
    "    forward_alignment_result = assess_alignment(kmer, observed_kmer)\n",
    "    forward_alignment_accuracy = assess_alignment_accuracy(forward_alignment_result)\n",
    "\n",
    "    reverse_alignment_result = assess_alignment(kmer, BioSequences.reverse_complement(observed_kmer))\n",
    "    reverse_alignment_accuracy = assess_alignment_accuracy(reverse_alignment_result)\n",
    "\n",
    "    if forward_alignment_accuracy > reverse_alignment_accuracy\n",
    "        alignment_result = forward_alignment_result\n",
    "        orientation = true\n",
    "    elseif forward_alignment_accuracy < reverse_alignment_accuracy\n",
    "        alignment_result = reverse_alignment_result\n",
    "        orientation = false\n",
    "    elseif forward_alignment_accuracy == reverse_alignment_accuracy\n",
    "        alignment_result, orientation = rand(((forward_alignment_result, missing), (reverse_alignment_result, missing)))\n",
    "    end\n",
    "\n",
    "    return (alignment_result, orientation)\n",
    "end"
   ]
  },
  {
   "cell_type": "code",
   "execution_count": null,
   "metadata": {},
   "outputs": [],
   "source": [
    "# this gives me a red warning for the alignment result return even though it's a concrete type\n",
    "\n",
    "# Tuple{NamedTuple{(:total_matches, :total_edits),Tuple{Int64,Int64}},Union{Missing, Bool}}\n",
    "\n",
    "# @code_warntype assess_optimal_alignment(BioSequences.DNAMer(\"A\"), BioSequences.DNAMer(\"C\"))"
   ]
  },
  {
   "cell_type": "code",
   "execution_count": null,
   "metadata": {},
   "outputs": [],
   "source": [
    "function count_kmers(::Type{KMER_TYPE}, sequence::BioSequences.LongSequence) where KMER_TYPE\n",
    "#     @code_warntype count_kmers(KMER_TYPE, sequence)\n",
    "    canonical_kmer_counts = DataStructures.OrderedDict{KMER_TYPE, Int}()\n",
    "    canonical_kmer_iterator = (BioSequences.canonical(kmer.fw) for kmer in BioSequences.each(KMER_TYPE, sequence))\n",
    "    for canonical_kmer in canonical_kmer_iterator\n",
    "        canonical_kmer_counts[canonical_kmer] = get(canonical_kmer_counts, canonical_kmer, 0) + 1\n",
    "    end\n",
    "    return canonical_kmer_counts\n",
    "end"
   ]
  },
  {
   "cell_type": "code",
   "execution_count": null,
   "metadata": {},
   "outputs": [],
   "source": [
    "# @code_warntype count_kmers(BioSequences.DNAMer{1}, BioSequences.randdnaseq(1))"
   ]
  },
  {
   "cell_type": "code",
   "execution_count": null,
   "metadata": {},
   "outputs": [],
   "source": [
    "function count_kmers(::Type{KMER_TYPE}, sequences) where KMER_TYPE\n",
    "#     @code_warntype count_kmers(KMER_TYPE, sequences)\n",
    "    joint_kmer_counts = DataStructures.OrderedDict{KMER_TYPE, Int}()\n",
    "    for sequence in sequences\n",
    "        sequence_kmer_counts = count_kmers(KMER_TYPE, sequence)\n",
    "        merge!(+, joint_kmer_counts, sequence_kmer_counts)\n",
    "    end\n",
    "    sort!(joint_kmer_counts)\n",
    "end"
   ]
  },
  {
   "cell_type": "code",
   "execution_count": null,
   "metadata": {},
   "outputs": [],
   "source": [
    "# @code_warntype count_kmers(BioSequences.DNAMer{1}, [BioSequences.randdnaseq(1)])"
   ]
  },
  {
   "cell_type": "code",
   "execution_count": null,
   "metadata": {},
   "outputs": [],
   "source": [
    "function orient_oriented_kmer(kmers, kmer)\n",
    "#     @code_warntype orient_oriented_kmer(kmers, kmer)\n",
    "    oriented_kmer_sequence = kmers[kmer.index]\n",
    "    if !kmer.orientation\n",
    "        oriented_kmer_sequence = BioSequences.reverse_complement(oriented_kmer_sequence)\n",
    "    end\n",
    "    return oriented_kmer_sequence\n",
    "end"
   ]
  },
  {
   "cell_type": "code",
   "execution_count": null,
   "metadata": {},
   "outputs": [],
   "source": [
    "# @code_warntype orient_oriented_kmer([BioSequences.DNAMer(\"A\")], (index = 1, orientation = true))"
   ]
  },
  {
   "cell_type": "code",
   "execution_count": null,
   "metadata": {},
   "outputs": [],
   "source": [
    "function oriented_path_to_sequence(oriented_path, kmers)\n",
    "#     @code_warntype oriented_path_to_sequence(oriented_path, kmers)\n",
    "    initial_kmer = first(oriented_path)\n",
    "    initial_kmer_sequence = orient_oriented_kmer(kmers, initial_kmer)\n",
    "    \n",
    "    sequence = BioSequences.LongDNASeq(initial_kmer_sequence)\n",
    "    for i in 2:length(oriented_path)\n",
    "        this_kmer = oriented_path[i]\n",
    "        this_kmer_sequence = kmers[this_kmer.index]\n",
    "        if !this_kmer.orientation\n",
    "            this_kmer_sequence = BioSequences.reverse_complement(this_kmer_sequence)\n",
    "        end\n",
    "        push!(sequence, this_kmer_sequence[end])\n",
    "    end\n",
    "    return sequence\n",
    "end"
   ]
  },
  {
   "cell_type": "code",
   "execution_count": null,
   "metadata": {},
   "outputs": [],
   "source": [
    "# @code_warntype oriented_path_to_sequence([(index = 1, orientation = true)], [BioSequences.DNAMer(\"A\")])"
   ]
  },
  {
   "cell_type": "code",
   "execution_count": null,
   "metadata": {},
   "outputs": [],
   "source": [
    "function sequence_to_oriented_path(sequence, kmers::Vector{T}) where {T <: BioSequences.AbstractMer{A, K}} where {A, K}\n",
    "    observed_path = Vector{ORIENTED_KMER}(undef, length(sequence)-K+1)\n",
    "    for (i, kmer) in enumerate(BioSequences.each(T, sequence))\n",
    "        canonical_kmer = BioSequences.canonical(kmer.fw)\n",
    "        index = get_kmer_index(kmers, canonical_kmer)\n",
    "        orientation = kmer.fw == canonical_kmer\n",
    "        observed_path[i] = (index = index, orientation = orientation)\n",
    "    end\n",
    "    return observed_path\n",
    "end"
   ]
  },
  {
   "cell_type": "code",
   "execution_count": null,
   "metadata": {},
   "outputs": [],
   "source": [
    "# @code_warntype sequence_to_oriented_path(BioSequences.LongDNASeq(\"AAA\"), [BioSequences.DNAMer(\"A\")])"
   ]
  },
  {
   "cell_type": "code",
   "execution_count": null,
   "metadata": {},
   "outputs": [],
   "source": [
    "function find_optimal_path(observed_kmer,\n",
    "    previous_kmer_index,\n",
    "    previous_orientation,\n",
    "    current_kmer_index,\n",
    "    graph, \n",
    "    shortest_paths, \n",
    "    kmers, \n",
    "    counts, \n",
    "    outgoing_edge_probabilities, \n",
    "    incoming_edge_probabilities,\n",
    "    error_rate)\n",
    "\n",
    "    path_likelihood = 0.0\n",
    "    oriented_path = Vector{ORIENTED_KMER}()\n",
    "    edit_distance = 0\n",
    "\n",
    "    if current_kmer_index == previous_kmer_index\n",
    "        # could be a self loop, check this first\n",
    "        if LightGraphs.has_edge(graph, LightGraphs.Edge(previous_kmer_index, current_kmer_index))\n",
    "            this_path = [previous_kmer_index, current_kmer_index]\n",
    "            this_oriented_path, this_likelihood, this_edit_distance = \n",
    "                assess_path(this_path,\n",
    "                            observed_kmer,\n",
    "                            kmers,\n",
    "                            counts,\n",
    "                            previous_orientation,\n",
    "                            outgoing_edge_probabilities,\n",
    "                            incoming_edge_probabilities,\n",
    "                            error_rate)\n",
    "            if this_likelihood > path_likelihood\n",
    "                path_likelihood = this_likelihood\n",
    "                oriented_path = this_oriented_path\n",
    "                edit_distance = this_edit_distance\n",
    "            end\n",
    "        end\n",
    "        \n",
    "        # consider an insertion in observed sequence relative to the reference graph\n",
    "        this_oriented_path, this_likelihood, this_edit_distance = assess_insertion(previous_orientation, current_kmer_index, observed_kmer, kmers, counts, error_rate)\n",
    "        if this_likelihood > path_likelihood\n",
    "            path_likelihood = this_likelihood\n",
    "            oriented_path = this_oriented_path\n",
    "            edit_distance = this_edit_distance\n",
    "        end\n",
    "        \n",
    "        # consider a deletion in observed sequene relative to the reference graph\n",
    "        # see if this has any neighbors that circle back, and evaluate the likelihood for each\n",
    "        outneighbors = find_outneighbors(previous_orientation, previous_kmer_index, outgoing_edge_probabilities, incoming_edge_probabilities)\n",
    "        for outneighbor in outneighbors\n",
    "            if LightGraphs.has_path(graph, outneighbor, current_kmer_index)\n",
    "                # manually build path\n",
    "                this_path = [previous_kmer_index, shortest_paths[previous_kmer_index][current_kmer_index]...]\n",
    "                this_oriented_path, this_likelihood, this_edit_distance = \n",
    "                    assess_path(this_path,\n",
    "                                observed_kmer,\n",
    "                                kmers,\n",
    "                                counts,\n",
    "                                previous_orientation,\n",
    "                                outgoing_edge_probabilities,\n",
    "                                incoming_edge_probabilities,\n",
    "                                error_rate)\n",
    "                if this_likelihood > path_likelihood\n",
    "                    path_likelihood = this_likelihood\n",
    "                    oriented_path = this_oriented_path\n",
    "                    edit_distance = this_edit_distance\n",
    "                end\n",
    "            end\n",
    "        end\n",
    "    elseif LightGraphs.has_path(graph, previous_kmer_index, current_kmer_index)   \n",
    "        this_path = shortest_paths[previous_kmer_index][current_kmer_index]\n",
    "        this_oriented_path, this_likelihood, this_edit_distance = \n",
    "            assess_path(this_path,\n",
    "                        observed_kmer,\n",
    "                        kmers,\n",
    "                        counts,\n",
    "                        previous_orientation,\n",
    "                        outgoing_edge_probabilities,\n",
    "                        incoming_edge_probabilities,\n",
    "                        error_rate)\n",
    "        if this_likelihood > path_likelihood\n",
    "            path_likelihood = this_likelihood\n",
    "            oriented_path = this_oriented_path\n",
    "            edit_distance = this_edit_distance\n",
    "        end\n",
    "    end\n",
    "    \n",
    "    return (oriented_path = oriented_path, path_likelihood = path_likelihood, edit_distance = edit_distance)\n",
    "end"
   ]
  },
  {
   "cell_type": "code",
   "execution_count": null,
   "metadata": {},
   "outputs": [],
   "source": [
    "# returns concrete type marked red\n",
    "\n",
    "function backtrack_optimal_path(kmer_likelihoods, arrival_paths, edit_distances)\n",
    "    \n",
    "    maximum_likelihood = maximum(kmer_likelihoods[:, end])\n",
    "\n",
    "    maximum_likelihood_path_index = Int(rand(findall(x -> x == maximum_likelihood, kmer_likelihoods[:, end])))::Int\n",
    "\n",
    "    maximum_likelihood_edit_distance = edit_distances[maximum_likelihood_path_index, end]\n",
    "\n",
    "    maximum_likelihood_path = arrival_paths[maximum_likelihood_path_index, end]::Vector{ORIENTED_KMER}\n",
    "\n",
    "\n",
    "    for observed_path_index in size(kmer_likelihoods, 2)-1:-1:1\n",
    "        maximum_likelihood_arrival_path = arrival_paths[maximum_likelihood_path_index, observed_path_index][1:end-1]\n",
    "        maximum_likelihood_path = vcat(maximum_likelihood_arrival_path, maximum_likelihood_path)::Vector{ORIENTED_KMER}\n",
    "        maximum_likelihood_path_index = Int(first(maximum_likelihood_path).index)::Int\n",
    "    end\n",
    "    \n",
    "    unlogged_maximum_likelihood = MathConstants.e^BigFloat(maximum_likelihood)\n",
    "    unlogged_total_likelihood = sum(likelihood -> MathConstants.e^BigFloat(likelihood), kmer_likelihoods[:, end])\n",
    "    relative_likelihood = unlogged_maximum_likelihood / unlogged_total_likelihood\n",
    "    \n",
    "    return (\n",
    "        maximum_likelihood_path,\n",
    "        maximum_likelihood_edit_distance,\n",
    "        relative_likelihood)\n",
    "    \n",
    "end"
   ]
  },
  {
   "cell_type": "code",
   "execution_count": null,
   "metadata": {},
   "outputs": [],
   "source": [
    "function initialize_viterbi(graph, observed_path, kmers, counts, error_rate)\n",
    "\n",
    "    edit_distances = Array{Union{Int, Missing}}(missing, LightGraphs.nv(graph.graph), length(observed_path))\n",
    "    arrival_paths = Array{Union{Vector{ORIENTED_KMER}, Missing}}(missing, LightGraphs.nv(graph.graph), length(observed_path))\n",
    "    kmer_likelihoods = Array{Float64}(undef, LightGraphs.nv(graph.graph), length(observed_path)) .= -Inf\n",
    "    kmer_likelihoods[:, 1] .= counts ./ sum(counts)\n",
    "\n",
    "    observed_kmer_sequence = orient_oriented_kmer(kmers, first(observed_path))\n",
    "    for (kmer_index, kmer) in enumerate(kmers)\n",
    "        \n",
    "        alignment_result, orientation = assess_optimal_alignment(kmer, observed_kmer_sequence)\n",
    "\n",
    "        for match in 1:alignment_result.total_matches\n",
    "            kmer_likelihoods[kmer_index, 1] *= (1.0 - error_rate)\n",
    "        end\n",
    "        for edit in 1:alignment_result.total_edits\n",
    "            kmer_likelihoods[kmer_index, 1] *= error_rate\n",
    "        end\n",
    "        if kmer_likelihoods[kmer_index, 1] > 0.0\n",
    "            arrival_paths[kmer_index, 1] = [(index = kmer_index, orientation = orientation)]\n",
    "            edit_distances[kmer_index, 1] = alignment_result.total_edits\n",
    "        end\n",
    "    end\n",
    "    kmer_likelihoods[:, 1] ./= sum(kmer_likelihoods[:, 1])\n",
    "    kmer_likelihoods[:, 1] .= log.(kmer_likelihoods[:, 1])\n",
    "    \n",
    "    return (kmer_likelihoods = kmer_likelihoods, arrival_paths = arrival_paths, edit_distances = edit_distances)\n",
    "end"
   ]
  },
  {
   "cell_type": "code",
   "execution_count": null,
   "metadata": {},
   "outputs": [],
   "source": [
    "function viterbi_maximum_likelihood_path(graph, observation, kmers, counts, error_rate; debug = false)\n",
    "\n",
    "    observed_path = sequence_to_oriented_path(observation, kmers)\n",
    "    \n",
    "    outgoing_edge_probabilities, incoming_edge_probabilities = determine_edge_probabilities(graph.graph, kmers, graph.edge_evidence)\n",
    "    \n",
    "    shortest_paths = LightGraphs.enumerate_paths(LightGraphs.floyd_warshall_shortest_paths(graph.graph))\n",
    "    \n",
    "    kmer_likelihoods, arrival_paths, edit_distances = initialize_viterbi(graph, observed_path, kmers, counts, error_rate)\n",
    "    \n",
    "    for current_observation_index in 2:length(observed_path)\n",
    "        observed_kmer = observed_path[current_observation_index]\n",
    "        if debug\n",
    "            println(\"current_observation_index = $(current_observation_index)\")\n",
    "            println(\"observed_kmer = $(observed_kmer)\")\n",
    "        end\n",
    "        for (current_kmer_index, current_kmer) in enumerate(kmers)\n",
    "            if debug\n",
    "                println(\"\\t\\tcurrent_kmer_index = $(current_kmer_index)\")\n",
    "                println(\"\\t\\tcurrent_kmer = $(current_kmer)\")\n",
    "            end\n",
    "            for (previous_kmer_index, previous_kmer) in enumerate(kmers)\n",
    "                if debug\n",
    "                    println(\"\\tprevious_kmer_index = $(previous_kmer_index)\")\n",
    "                    println(\"\\tprevious_kmer = $(previous_kmer)\")\n",
    "                end\n",
    "\n",
    "                previous_likelihood = kmer_likelihoods[previous_kmer_index, current_observation_index - 1]\n",
    "                current_likelihood = kmer_likelihoods[current_kmer_index, current_observation_index]\n",
    "                previous_arrival_path = arrival_paths[previous_kmer_index, current_observation_index - 1]\n",
    "                if current_likelihood > previous_likelihood && !ismissing(previous_arrival_path)\n",
    "                    # we've determined that there is no way to get to this kmer being evaluated\n",
    "                    continue\n",
    "                else\n",
    "                    if ismissing(previous_arrival_path)\n",
    "                        previous_orientation = missing\n",
    "                    else\n",
    "                        previous_orientation = last(arrival_paths[previous_kmer_index, current_observation_index - 1]).orientation\n",
    "                    end\n",
    "                    optimal_path_result =\n",
    "                        find_optimal_path(observed_kmer,\n",
    "                            previous_kmer_index,\n",
    "                            previous_orientation,\n",
    "                            current_kmer_index,\n",
    "                            graph.graph, \n",
    "                            shortest_paths, \n",
    "                            kmers, \n",
    "                            counts,\n",
    "                            outgoing_edge_probabilities, \n",
    "                            incoming_edge_probabilities,\n",
    "                            error_rate)\n",
    "                    if debug\n",
    "                        for propertyname in propertynames(optimal_path_result)\n",
    "                            println(\"\\t\\t\\t$propertyname = $(getproperty(optimal_path_result, propertyname))\")\n",
    "                        end\n",
    "                    end\n",
    "                    this_likelihood = previous_likelihood + log(optimal_path_result.path_likelihood)\n",
    "\n",
    "                    if this_likelihood > current_likelihood\n",
    "                        kmer_likelihoods[current_kmer_index, current_observation_index] = this_likelihood\n",
    "                        arrival_paths[current_kmer_index, current_observation_index] = optimal_path_result.oriented_path\n",
    "                        previous_edit_distance = edit_distances[previous_kmer_index, current_observation_index - 1]\n",
    "                        edit_distances[current_kmer_index, current_observation_index] = previous_edit_distance + optimal_path_result.edit_distance \n",
    "                    end\n",
    "                end\n",
    "            end\n",
    "        end\n",
    "    end\n",
    "    if debug\n",
    "        my_show(arrival_paths, kmers, title = \"Arrival Paths\")\n",
    "        my_show(kmer_likelihoods, kmers, title=\"Kmer Likelihoods\")\n",
    "        my_show(edit_distances, kmers, title=\"Edit Distances\")\n",
    "    end\n",
    "#     @code_warntype backtrack_optimal_path(kmer_likelihoods, arrival_paths, edit_distances)\n",
    "    return backtrack_optimal_path(kmer_likelihoods, arrival_paths, edit_distances)\n",
    "end"
   ]
  },
  {
   "cell_type": "code",
   "execution_count": null,
   "metadata": {},
   "outputs": [],
   "source": [
    "function plot_kmer_frequency_spectra(counts)\n",
    "    kmer_counts_hist = StatsBase.countmap(c for c in counts)\n",
    "    xs = collect(keys(kmer_counts_hist))\n",
    "    ys = collect(values(kmer_counts_hist))\n",
    "\n",
    "    StatsPlots.plot(\n",
    "        xs,\n",
    "        ys,\n",
    "        xlims = (0, maximum(xs) + 1),\n",
    "        ylims = (0, maximum(ys) + 1),\n",
    "        seriestype = :scatter,\n",
    "        legend = false,\n",
    "        xlabel = \"observed frequency\",\n",
    "        ylabel = \"# of kmers\"\n",
    "    )\n",
    "end"
   ]
  },
  {
   "cell_type": "code",
   "execution_count": null,
   "metadata": {},
   "outputs": [],
   "source": [
    "function my_show(x::Dict{LightGraphs.SimpleGraphs.SimpleEdge{Int64},Array{NamedTuple{(:observation_index, :edge_index),Tuple{Int64,Int64}},1}})\n",
    "    for (k, vs) in x\n",
    "        println(k)\n",
    "        for v in vs\n",
    "            println(\"\\t$v\")\n",
    "        end\n",
    "    end\n",
    "end\n",
    "\n",
    "function my_show(vector::AbstractVector{T}; kwargs...) where T <: ORIENTED_KMER\n",
    "    return PrettyTables.pretty_table(\n",
    "    vector,\n",
    "    tf = PrettyTables.tf_markdown;\n",
    "    kwargs...)\n",
    "end\n",
    "\n",
    "function my_show(array::AbstractMatrix, kmers; kwargs...)\n",
    "    return PrettyTables.pretty_table(\n",
    "    array,\n",
    "    [\"$i\" for i in 1:size(array, 2)],\n",
    "    row_names = kmers,\n",
    "    tf = PrettyTables.tf_markdown;\n",
    "    kwargs...)\n",
    "end\n",
    "\n",
    "function my_show(arrival_paths::AbstractMatrix{T}, kmers; kwargs...) where {T <: Union{Missing, Vector{ORIENTED_KMER}}}\n",
    "    string_arrival_paths = Array{Union{String, Missing}, 2}(missing, size(arrival_paths)...)\n",
    "    for index in eachindex(arrival_paths)\n",
    "        cell = arrival_paths[index]\n",
    "        if !ismissing(cell)\n",
    "            cell_strings = []\n",
    "            for node in cell\n",
    "                node_string = \"(\" * join([\"$(getfield(node, field))\" for field in propertynames(node)], \", \") * \")\"\n",
    "                push!(cell_strings, node_string)\n",
    "            end\n",
    "            cell_string = '[' * join(cell_strings, \", \") * ']'\n",
    "            string_arrival_paths[index] = cell_string\n",
    "        end\n",
    "    end\n",
    "    return my_show(string_arrival_paths, kmers; kwargs...)\n",
    "end"
   ]
  },
  {
   "cell_type": "code",
   "execution_count": null,
   "metadata": {},
   "outputs": [],
   "source": [
    "function plot_graph(graph, kmers, counts)\n",
    "    graph_hash = hash(sort(graph.graph.fadjlist), hash(graph.graph.ne))\n",
    "\n",
    "    p = GraphRecipes.graphplot(\n",
    "        graph.graph,\n",
    "        names = 1:length(kmers),\n",
    "        node_weights = counts,\n",
    "        markersize = 0.2,\n",
    "        hover=false,\n",
    "        fontsize=12)\n",
    "\n",
    "    filename = \"/assets/images/$(graph_hash).svg\"\n",
    "    Plots.savefig(p, dirname(pwd()) * filename)\n",
    "    display(p)\n",
    "    display(\"text/markdown\", \"![]($filename)\")\n",
    "end"
   ]
  },
  {
   "cell_type": "code",
   "execution_count": null,
   "metadata": {},
   "outputs": [],
   "source": [
    "k = 1\n",
    "KMER_TYPE = BioSequences.DNAMer{k}"
   ]
  },
  {
   "cell_type": "code",
   "execution_count": null,
   "metadata": {},
   "outputs": [],
   "source": [
    "sequence = BioSequences.randdnaseq(Random.seed!(1), 1)"
   ]
  },
  {
   "cell_type": "code",
   "execution_count": null,
   "metadata": {},
   "outputs": [],
   "source": [
    "error_rate = 0.00"
   ]
  },
  {
   "cell_type": "code",
   "execution_count": null,
   "metadata": {},
   "outputs": [],
   "source": [
    "observations = [sequence]"
   ]
  },
  {
   "cell_type": "code",
   "execution_count": null,
   "metadata": {},
   "outputs": [],
   "source": [
    "kmer_counts = count_kmers(KMER_TYPE, observations)"
   ]
  },
  {
   "cell_type": "code",
   "execution_count": null,
   "metadata": {},
   "outputs": [],
   "source": [
    "kmers = collect(keys(kmer_counts))\n",
    "counts = collect(values(kmer_counts))"
   ]
  },
  {
   "cell_type": "code",
   "execution_count": null,
   "metadata": {},
   "outputs": [],
   "source": [
    "plot_kmer_frequency_spectra(counts)"
   ]
  },
  {
   "cell_type": "code",
   "execution_count": null,
   "metadata": {},
   "outputs": [],
   "source": [
    "graph = initialize_graph(observations, kmers)\n",
    "# my_show(graph.edge_evidence)\n",
    "# plot_graph(graph, kmers, counts)"
   ]
  },
  {
   "cell_type": "code",
   "execution_count": null,
   "metadata": {},
   "outputs": [],
   "source": [
    "observation = first(observations)"
   ]
  },
  {
   "cell_type": "code",
   "execution_count": null,
   "metadata": {},
   "outputs": [],
   "source": [
    "1 == UInt8(1)"
   ]
  },
  {
   "cell_type": "code",
   "execution_count": null,
   "metadata": {},
   "outputs": [],
   "source": [
    "struct OrientedKmer\n",
    "    index::Int\n",
    "    orientation::Int8\n",
    "    function OrientedKmer(;index, orientation)\n",
    "        if -1 <= orientation <= 1\n",
    "            return new(index, UInt8(orientation))\n",
    "        else\n",
    "            error(\"orientation must be 1, 0, or -1\")\n",
    "        end\n",
    "    end\n",
    "end"
   ]
  },
  {
   "cell_type": "code",
   "execution_count": null,
   "metadata": {},
   "outputs": [],
   "source": [
    "OrientedKmer(index = 1, orientation = 0)"
   ]
  },
  {
   "cell_type": "code",
   "execution_count": null,
   "metadata": {},
   "outputs": [],
   "source": [
    "@code_warntype viterbi_maximum_likelihood_path(graph, observation, kmers, counts, error_rate)"
   ]
  },
  {
   "cell_type": "code",
   "execution_count": null,
   "metadata": {},
   "outputs": [],
   "source": [
    "optimal_path = viterbi_maximum_likelihood_path(graph, observation, kmers, counts, error_rate)"
   ]
  },
  {
   "cell_type": "code",
   "execution_count": null,
   "metadata": {},
   "outputs": [],
   "source": [
    "# ProfileView.@profview viterbi_maximum_likelihood_path(graph, observation, kmers, counts, error_rate)"
   ]
  },
  {
   "cell_type": "code",
   "execution_count": null,
   "metadata": {},
   "outputs": [],
   "source": [
    "my_show(sequence_to_oriented_path(observation, kmers))"
   ]
  },
  {
   "cell_type": "code",
   "execution_count": null,
   "metadata": {},
   "outputs": [],
   "source": [
    "my_show(optimal_path.maximum_likelihood_path, title = \"Maximum Likelihood Path\")"
   ]
  },
  {
   "cell_type": "code",
   "execution_count": null,
   "metadata": {},
   "outputs": [],
   "source": [
    "sequence_to_oriented_path(sequence, kmers)"
   ]
  },
  {
   "cell_type": "code",
   "execution_count": null,
   "metadata": {},
   "outputs": [],
   "source": [
    "oriented_path_to_sequence(sequence_to_oriented_path(observation, kmers), kmers)"
   ]
  }
 ],
 "metadata": {
  "kernelspec": {
   "display_name": "Julia 1.5.3",
   "language": "julia",
   "name": "julia-1.5"
  },
  "language_info": {
   "file_extension": ".jl",
   "mimetype": "application/julia",
   "name": "julia",
   "version": "1.5.3"
  }
 },
 "nbformat": 4,
 "nbformat_minor": 4
}
