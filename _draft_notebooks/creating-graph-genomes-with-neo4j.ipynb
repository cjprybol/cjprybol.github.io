{
 "cells": [
  {
   "cell_type": "code",
   "execution_count": 1,
   "metadata": {},
   "outputs": [
    {
     "name": "stderr",
     "output_type": "stream",
     "text": [
      "\u001b[32m\u001b[1m   Updating\u001b[22m\u001b[39m registry at `~/.julia/registries/General`\n"
     ]
    },
    {
     "name": "stdout",
     "output_type": "stream",
     "text": [
      "\u001b[?25l\u001b[2K"
     ]
    },
    {
     "name": "stderr",
     "output_type": "stream",
     "text": [
      "\u001b[32m\u001b[1m   Updating\u001b[22m\u001b[39m git-repo `https://github.com/JuliaRegistries/General.git`\n"
     ]
    },
    {
     "name": "stdout",
     "output_type": "stream",
     "text": [
      "\u001b[?25h"
     ]
    },
    {
     "name": "stderr",
     "output_type": "stream",
     "text": [
      "\u001b[32m\u001b[1m  Resolving\u001b[22m\u001b[39m package versions...\n",
      "\u001b[32m\u001b[1m  Resolving\u001b[22m\u001b[39m package versions...\n",
      "\u001b[32m\u001b[1mNo Changes\u001b[22m\u001b[39m to `~/.julia/environments/v1.5/Project.toml`\n",
      "\u001b[32m\u001b[1mNo Changes\u001b[22m\u001b[39m to `~/.julia/environments/v1.5/Manifest.toml`\n",
      "\u001b[32m\u001b[1m  Resolving\u001b[22m\u001b[39m package versions...\n",
      "\u001b[32m\u001b[1mNo Changes\u001b[22m\u001b[39m to `~/.julia/environments/v1.5/Project.toml`\n",
      "\u001b[32m\u001b[1mNo Changes\u001b[22m\u001b[39m to `~/.julia/environments/v1.5/Manifest.toml`\n",
      "\u001b[32m\u001b[1m  Resolving\u001b[22m\u001b[39m package versions...\n",
      "\u001b[32m\u001b[1mNo Changes\u001b[22m\u001b[39m to `~/.julia/environments/v1.5/Project.toml`\n",
      "\u001b[32m\u001b[1mNo Changes\u001b[22m\u001b[39m to `~/.julia/environments/v1.5/Manifest.toml`\n",
      "\u001b[32m\u001b[1m  Resolving\u001b[22m\u001b[39m package versions...\n",
      "\u001b[32m\u001b[1mNo Changes\u001b[22m\u001b[39m to `~/.julia/environments/v1.5/Project.toml`\n",
      "\u001b[32m\u001b[1mNo Changes\u001b[22m\u001b[39m to `~/.julia/environments/v1.5/Manifest.toml`\n",
      "\u001b[32m\u001b[1m  Resolving\u001b[22m\u001b[39m package versions...\n",
      "\u001b[32m\u001b[1mNo Changes\u001b[22m\u001b[39m to `~/.julia/environments/v1.5/Project.toml`\n",
      "\u001b[32m\u001b[1mNo Changes\u001b[22m\u001b[39m to `~/.julia/environments/v1.5/Manifest.toml`\n",
      "\u001b[32m\u001b[1m  Resolving\u001b[22m\u001b[39m package versions...\n",
      "\u001b[32m\u001b[1mNo Changes\u001b[22m\u001b[39m to `~/.julia/environments/v1.5/Project.toml`\n",
      "\u001b[32m\u001b[1mNo Changes\u001b[22m\u001b[39m to `~/.julia/environments/v1.5/Manifest.toml`\n",
      "\u001b[32m\u001b[1m  Resolving\u001b[22m\u001b[39m package versions...\n",
      "\u001b[32m\u001b[1mNo Changes\u001b[22m\u001b[39m to `~/.julia/environments/v1.5/Project.toml`\n",
      "\u001b[32m\u001b[1mNo Changes\u001b[22m\u001b[39m to `~/.julia/environments/v1.5/Manifest.toml`\n",
      "\u001b[32m\u001b[1m  Resolving\u001b[22m\u001b[39m package versions...\n",
      "\u001b[32m\u001b[1mNo Changes\u001b[22m\u001b[39m to `~/.julia/environments/v1.5/Project.toml`\n",
      "\u001b[32m\u001b[1mNo Changes\u001b[22m\u001b[39m to `~/.julia/environments/v1.5/Manifest.toml`\n",
      "\u001b[32m\u001b[1m  Resolving\u001b[22m\u001b[39m package versions...\n",
      "\u001b[32m\u001b[1mNo Changes\u001b[22m\u001b[39m to `~/.julia/environments/v1.5/Project.toml`\n",
      "\u001b[32m\u001b[1mNo Changes\u001b[22m\u001b[39m to `~/.julia/environments/v1.5/Manifest.toml`\n",
      "\u001b[32m\u001b[1m  Resolving\u001b[22m\u001b[39m package versions...\n",
      "\u001b[32m\u001b[1mNo Changes\u001b[22m\u001b[39m to `~/.julia/environments/v1.5/Project.toml`\n",
      "\u001b[32m\u001b[1mNo Changes\u001b[22m\u001b[39m to `~/.julia/environments/v1.5/Manifest.toml`\n",
      "\u001b[32m\u001b[1m  Resolving\u001b[22m\u001b[39m package versions...\n",
      "\u001b[32m\u001b[1mNo Changes\u001b[22m\u001b[39m to `~/.julia/environments/v1.5/Project.toml`\n",
      "\u001b[32m\u001b[1mNo Changes\u001b[22m\u001b[39m to `~/.julia/environments/v1.5/Manifest.toml`\n",
      "\u001b[32m\u001b[1m  Resolving\u001b[22m\u001b[39m package versions...\n",
      "\u001b[32m\u001b[1mNo Changes\u001b[22m\u001b[39m to `~/.julia/environments/v1.5/Project.toml`\n",
      "\u001b[32m\u001b[1mNo Changes\u001b[22m\u001b[39m to `~/.julia/environments/v1.5/Manifest.toml`\n",
      "\u001b[32m\u001b[1m  Resolving\u001b[22m\u001b[39m package versions...\n",
      "\u001b[32m\u001b[1mNo Changes\u001b[22m\u001b[39m to `~/.julia/environments/v1.5/Project.toml`\n",
      "\u001b[32m\u001b[1mNo Changes\u001b[22m\u001b[39m to `~/.julia/environments/v1.5/Manifest.toml`\n",
      "\u001b[32m\u001b[1m  Resolving\u001b[22m\u001b[39m package versions...\n",
      "\u001b[32m\u001b[1mNo Changes\u001b[22m\u001b[39m to `~/.julia/environments/v1.5/Project.toml`\n",
      "\u001b[32m\u001b[1mNo Changes\u001b[22m\u001b[39m to `~/.julia/environments/v1.5/Manifest.toml`\n"
     ]
    }
   ],
   "source": [
    "import Pkg\n",
    "pkgs = [\n",
    "    \"Eisenia\",\n",
    "    \"Random\",\n",
    "    \"Revise\",\n",
    "    \"BioSequences\",\n",
    "    \"Test\",\n",
    "    \"LightGraphs\",\n",
    "    \"Primes\",\n",
    "    \"Statistics\",\n",
    "    \"Plots\",\n",
    "    \"uCSV\",\n",
    "    \"DataFrames\",\n",
    "    \"HTTP\",\n",
    "    \"CodecZlib\",\n",
    "    \"FASTX\",\n",
    "    \"ProgressMeter\"\n",
    "]\n",
    "\n",
    "for pkg in pkgs\n",
    "    try\n",
    "        Pkg.add(pkg)\n",
    "    catch\n",
    "#         # tried to install an unregistered local package\n",
    "    end\n",
    "    eval(Meta.parse(\"import $pkg\"))\n",
    "end"
   ]
  },
  {
   "cell_type": "code",
   "execution_count": 2,
   "metadata": {},
   "outputs": [],
   "source": [
    "TASK = \"making-neo4j-graphs\"\n",
    "DATE = \"2021-03-18\"\n",
    "DIR = \"$(homedir())/$(DATE)-$(TASK)\"\n",
    "if !isdir(DIR)\n",
    "    mkdir(DIR)\n",
    "end\n",
    "cd(DIR)"
   ]
  },
  {
   "cell_type": "code",
   "execution_count": 3,
   "metadata": {},
   "outputs": [
    {
     "data": {
      "text/plain": [
       "\"/Users/cameronprybol/Software/cypher-shell:/Applications/Julia-1.5.app/Contents/Resources/julia/bin:/Applications/Julia-1.5.app/Contents/Resources/julia/bin:/Users/cameronprybol/miniconda/bin:/Users/cameronprybol/.gem/ruby/2.6.0/bin:/usr/local/bin:/usr/bin:/bin:/usr/sbin:/sbin\""
      ]
     },
     "execution_count": 3,
     "metadata": {},
     "output_type": "execute_result"
    }
   ],
   "source": [
    "if !occursin(\"cypher-shell\", ENV[\"PATH\"])\n",
    "    ENV[\"PATH\"] = \"/Users/cameronprybol/Software/cypher-shell:$(ENV[\"PATH\"])\"\n",
    "end"
   ]
  },
  {
   "cell_type": "code",
   "execution_count": 4,
   "metadata": {},
   "outputs": [
    {
     "data": {
      "text/plain": [
       "get_genome_from_ftp_directory (generic function with 1 method)"
      ]
     },
     "execution_count": 4,
     "metadata": {},
     "output_type": "execute_result"
    }
   ],
   "source": [
    "function get_genome_from_ftp_directory(ftp_path)\n",
    "    fasta_url = \"$(ftp_path)/$(basename(ftp_path))_genomic.fna.gz\"\n",
    "    fasta_buffer = CodecZlib.GzipDecompressorStream(IOBuffer(HTTP.get(fasta_url).body))\n",
    "    return collect(FASTX.FASTA.Reader(fasta_buffer))\n",
    "end"
   ]
  },
  {
   "cell_type": "code",
   "execution_count": 18,
   "metadata": {},
   "outputs": [
    {
     "data": {
      "text/plain": [
       "list_databases (generic function with 1 method)"
      ]
     },
     "execution_count": 18,
     "metadata": {},
     "output_type": "execute_result"
    }
   ],
   "source": [
    "function list_databases(;address=\"neo4j://localhost:7687\", username=\"neo4j\", password=\"password\")\n",
    "    io = open(`cypher-shell --address $(address) --username $(username) --password $(password) --database system --format auto \"show databases\"`)\n",
    "    return DataFrames.DataFrame(uCSV.read(io, header=1, quotes='\"', encodings=Dict(\"FALSE\" => false, \"TRUE\" => true))...)\n",
    "end"
   ]
  },
  {
   "cell_type": "code",
   "execution_count": 19,
   "metadata": {},
   "outputs": [
    {
     "data": {
      "text/plain": [
       "create_database (generic function with 1 method)"
      ]
     },
     "execution_count": 19,
     "metadata": {},
     "output_type": "execute_result"
    }
   ],
   "source": [
    "function create_database(database_id; address=\"neo4j://localhost:7687\", username=\"neo4j\", password=\"password\")\n",
    "    current_databases = list_databases(;address, username, password)\n",
    "    if database_id in current_databases[!, \"name\"]\n",
    "        return true\n",
    "    else\n",
    "        run(`cypher-shell --address $(address) --username $(username) --password $(password) --database system --format auto \"create database $(database_id)\"`)\n",
    "    end\n",
    "end"
   ]
  },
  {
   "cell_type": "code",
   "execution_count": 20,
   "metadata": {},
   "outputs": [
    {
     "data": {
      "text/plain": [
       "cypher (generic function with 1 method)"
      ]
     },
     "execution_count": 20,
     "metadata": {},
     "output_type": "execute_result"
    }
   ],
   "source": [
    "function cypher(database_id, cmd; address=\"neo4j://localhost:7687\", username=\"neo4j\", password=\"password\")\n",
    "    run(`cypher-shell --address $(address) --username $(username) --password $(password) --database $(database_id) --format auto $(cmd)`)\n",
    "end"
   ]
  },
  {
   "cell_type": "code",
   "execution_count": null,
   "metadata": {},
   "outputs": [],
   "source": []
  },
  {
   "cell_type": "code",
   "execution_count": 8,
   "metadata": {},
   "outputs": [
    {
     "data": {
      "text/html": [
       "<table class=\"data-frame\"><thead><tr><th></th><th># assembly_accession</th><th>bioproject</th><th>biosample</th><th>wgs_master</th><th>refseq_category</th></tr><tr><th></th><th>String</th><th>String</th><th>String</th><th>String</th><th>String</th></tr></thead><tbody><p>969,109 rows × 22 columns (omitted printing of 17 columns)</p><tr><th>1</th><td>GCA_000001215.4</td><td>PRJNA13812</td><td>SAMN02803731</td><td></td><td>reference genome</td></tr><tr><th>2</th><td>GCA_000001405.28</td><td>PRJNA31257</td><td></td><td></td><td>reference genome</td></tr><tr><th>3</th><td>GCA_000001515.5</td><td>PRJNA13184</td><td>SAMN02981217</td><td>AACZ00000000.4</td><td>na</td></tr><tr><th>4</th><td>GCA_000001545.3</td><td>PRJNA20869</td><td>SAMN02981238</td><td>ABGA00000000.1</td><td>na</td></tr><tr><th>5</th><td>GCA_000001635.9</td><td>PRJNA20689</td><td></td><td></td><td>reference genome</td></tr><tr><th>6</th><td>GCA_000001735.2</td><td>PRJNA10719</td><td>SAMN03081427</td><td></td><td>reference genome</td></tr><tr><th>7</th><td>GCA_000001765.3</td><td>PRJNA10626</td><td>SAMN00779672</td><td>AADE00000000.2</td><td>na</td></tr><tr><th>8</th><td>GCA_000001895.4</td><td>PRJNA10629</td><td>SAMN02808228</td><td>AABR00000000.7</td><td>na</td></tr><tr><th>9</th><td>GCA_000001905.1</td><td>PRJNA12569</td><td>SAMN02953622</td><td>AAGU00000000.3</td><td>representative genome</td></tr><tr><th>10</th><td>GCA_000001985.1</td><td>PRJNA19555</td><td>SAMN02953685</td><td>ABAR00000000.1</td><td>representative genome</td></tr><tr><th>11</th><td>GCA_000002035.4</td><td>PRJNA11776</td><td>SAMN06930106</td><td></td><td>reference genome</td></tr><tr><th>12</th><td>GCA_000002075.2</td><td>PRJNA13635</td><td>SAMN02953658</td><td>AASC00000000.3</td><td>representative genome</td></tr><tr><th>13</th><td>GCA_000002115.2</td><td>PRJNA1431</td><td>SAMN02981219</td><td>AADD00000000.1</td><td>na</td></tr><tr><th>14</th><td>GCA_000002125.2</td><td>PRJNA19621</td><td>SAMN02981236</td><td>ABBA00000000.1</td><td>na</td></tr><tr><th>15</th><td>GCA_000002135.3</td><td>PRJNA10793</td><td></td><td></td><td>na</td></tr><tr><th>16</th><td>GCA_000002165.1</td><td>PRJNA11785</td><td>SAMN03004379</td><td>AAHY00000000.1</td><td>na</td></tr><tr><th>17</th><td>GCA_000002175.2</td><td>PRJNA16847</td><td>SAMD00067074</td><td></td><td>na</td></tr><tr><th>18</th><td>GCA_000002195.1</td><td>PRJNA10625</td><td>SAMN00002455</td><td>AADG00000000.6</td><td>na</td></tr><tr><th>19</th><td>GCA_000002235.4</td><td>PRJNA10736</td><td>SAMN00829422</td><td>AAGJ00000000.6</td><td>representative genome</td></tr><tr><th>20</th><td>GCA_000002255.2</td><td>PRJNA12537</td><td>SAMN02981228</td><td>AANU00000000.1</td><td>na</td></tr><tr><th>21</th><td>GCA_000002265.1</td><td>PRJNA13999</td><td>SAMN03000701</td><td>AAHX00000000.1</td><td>na</td></tr><tr><th>22</th><td>GCA_000002275.2</td><td>PRJNA12885</td><td>SAMN02953646</td><td>AAPN00000000.1</td><td>na</td></tr><tr><th>23</th><td>GCA_000002285.4</td><td>PRJNA13179</td><td>SAMN02953603</td><td>AAEX00000000.4</td><td>na</td></tr><tr><th>24</th><td>GCA_000002295.1</td><td>PRJNA12561</td><td>SAMN02953611</td><td>AAFR00000000.3</td><td>representative genome</td></tr><tr><th>25</th><td>GCA_000002305.1</td><td>PRJNA18661</td><td>SAMN02953672</td><td>AAWR00000000.2</td><td>na</td></tr><tr><th>26</th><td>GCA_000002315.5</td><td>PRJNA13342</td><td>SAMN02981218</td><td>AADN00000000.5</td><td>representative genome</td></tr><tr><th>27</th><td>GCA_000002325.2</td><td>PRJNA13660</td><td>SAMN02902141</td><td>AAZX00000000.1</td><td>na</td></tr><tr><th>28</th><td>GCA_000002335.3</td><td>PRJNA12540</td><td>SAMN02953634</td><td>AAJJ00000000.2</td><td>representative genome</td></tr><tr><th>29</th><td>GCA_000002415.2</td><td>PRJNA150</td><td>SAMN02953638</td><td>AAKM00000000.1</td><td>representative genome</td></tr><tr><th>30</th><td>GCA_000002425.2</td><td>PRJNA13064</td><td>SAMN00120126</td><td>ABEU00000000.2</td><td>representative genome</td></tr><tr><th>&vellip;</th><td>&vellip;</td><td>&vellip;</td><td>&vellip;</td><td>&vellip;</td><td>&vellip;</td></tr></tbody></table>"
      ],
      "text/latex": [
       "\\begin{tabular}{r|cccccc}\n",
       "\t& \\# assembly\\_accession & bioproject & biosample & wgs\\_master & refseq\\_category & \\\\\n",
       "\t\\hline\n",
       "\t& String & String & String & String & String & \\\\\n",
       "\t\\hline\n",
       "\t1 & GCA\\_000001215.4 & PRJNA13812 & SAMN02803731 &  & reference genome & $\\dots$ \\\\\n",
       "\t2 & GCA\\_000001405.28 & PRJNA31257 &  &  & reference genome & $\\dots$ \\\\\n",
       "\t3 & GCA\\_000001515.5 & PRJNA13184 & SAMN02981217 & AACZ00000000.4 & na & $\\dots$ \\\\\n",
       "\t4 & GCA\\_000001545.3 & PRJNA20869 & SAMN02981238 & ABGA00000000.1 & na & $\\dots$ \\\\\n",
       "\t5 & GCA\\_000001635.9 & PRJNA20689 &  &  & reference genome & $\\dots$ \\\\\n",
       "\t6 & GCA\\_000001735.2 & PRJNA10719 & SAMN03081427 &  & reference genome & $\\dots$ \\\\\n",
       "\t7 & GCA\\_000001765.3 & PRJNA10626 & SAMN00779672 & AADE00000000.2 & na & $\\dots$ \\\\\n",
       "\t8 & GCA\\_000001895.4 & PRJNA10629 & SAMN02808228 & AABR00000000.7 & na & $\\dots$ \\\\\n",
       "\t9 & GCA\\_000001905.1 & PRJNA12569 & SAMN02953622 & AAGU00000000.3 & representative genome & $\\dots$ \\\\\n",
       "\t10 & GCA\\_000001985.1 & PRJNA19555 & SAMN02953685 & ABAR00000000.1 & representative genome & $\\dots$ \\\\\n",
       "\t11 & GCA\\_000002035.4 & PRJNA11776 & SAMN06930106 &  & reference genome & $\\dots$ \\\\\n",
       "\t12 & GCA\\_000002075.2 & PRJNA13635 & SAMN02953658 & AASC00000000.3 & representative genome & $\\dots$ \\\\\n",
       "\t13 & GCA\\_000002115.2 & PRJNA1431 & SAMN02981219 & AADD00000000.1 & na & $\\dots$ \\\\\n",
       "\t14 & GCA\\_000002125.2 & PRJNA19621 & SAMN02981236 & ABBA00000000.1 & na & $\\dots$ \\\\\n",
       "\t15 & GCA\\_000002135.3 & PRJNA10793 &  &  & na & $\\dots$ \\\\\n",
       "\t16 & GCA\\_000002165.1 & PRJNA11785 & SAMN03004379 & AAHY00000000.1 & na & $\\dots$ \\\\\n",
       "\t17 & GCA\\_000002175.2 & PRJNA16847 & SAMD00067074 &  & na & $\\dots$ \\\\\n",
       "\t18 & GCA\\_000002195.1 & PRJNA10625 & SAMN00002455 & AADG00000000.6 & na & $\\dots$ \\\\\n",
       "\t19 & GCA\\_000002235.4 & PRJNA10736 & SAMN00829422 & AAGJ00000000.6 & representative genome & $\\dots$ \\\\\n",
       "\t20 & GCA\\_000002255.2 & PRJNA12537 & SAMN02981228 & AANU00000000.1 & na & $\\dots$ \\\\\n",
       "\t21 & GCA\\_000002265.1 & PRJNA13999 & SAMN03000701 & AAHX00000000.1 & na & $\\dots$ \\\\\n",
       "\t22 & GCA\\_000002275.2 & PRJNA12885 & SAMN02953646 & AAPN00000000.1 & na & $\\dots$ \\\\\n",
       "\t23 & GCA\\_000002285.4 & PRJNA13179 & SAMN02953603 & AAEX00000000.4 & na & $\\dots$ \\\\\n",
       "\t24 & GCA\\_000002295.1 & PRJNA12561 & SAMN02953611 & AAFR00000000.3 & representative genome & $\\dots$ \\\\\n",
       "\t25 & GCA\\_000002305.1 & PRJNA18661 & SAMN02953672 & AAWR00000000.2 & na & $\\dots$ \\\\\n",
       "\t26 & GCA\\_000002315.5 & PRJNA13342 & SAMN02981218 & AADN00000000.5 & representative genome & $\\dots$ \\\\\n",
       "\t27 & GCA\\_000002325.2 & PRJNA13660 & SAMN02902141 & AAZX00000000.1 & na & $\\dots$ \\\\\n",
       "\t28 & GCA\\_000002335.3 & PRJNA12540 & SAMN02953634 & AAJJ00000000.2 & representative genome & $\\dots$ \\\\\n",
       "\t29 & GCA\\_000002415.2 & PRJNA150 & SAMN02953638 & AAKM00000000.1 & representative genome & $\\dots$ \\\\\n",
       "\t30 & GCA\\_000002425.2 & PRJNA13064 & SAMN00120126 & ABEU00000000.2 & representative genome & $\\dots$ \\\\\n",
       "\t$\\dots$ & $\\dots$ & $\\dots$ & $\\dots$ & $\\dots$ & $\\dots$ &  \\\\\n",
       "\\end{tabular}\n"
      ],
      "text/plain": [
       "969109×22 DataFrame. Omitted printing of 19 columns\n",
       "│ Row    │ # assembly_accession │ bioproject │ biosample    │\n",
       "│        │ \u001b[90mString\u001b[39m               │ \u001b[90mString\u001b[39m     │ \u001b[90mString\u001b[39m       │\n",
       "├────────┼──────────────────────┼────────────┼──────────────┤\n",
       "│ 1      │ GCA_000001215.4      │ PRJNA13812 │ SAMN02803731 │\n",
       "│ 2      │ GCA_000001405.28     │ PRJNA31257 │              │\n",
       "│ 3      │ GCA_000001515.5      │ PRJNA13184 │ SAMN02981217 │\n",
       "│ 4      │ GCA_000001545.3      │ PRJNA20869 │ SAMN02981238 │\n",
       "│ 5      │ GCA_000001635.9      │ PRJNA20689 │              │\n",
       "│ 6      │ GCA_000001735.2      │ PRJNA10719 │ SAMN03081427 │\n",
       "│ 7      │ GCA_000001765.3      │ PRJNA10626 │ SAMN00779672 │\n",
       "│ 8      │ GCA_000001895.4      │ PRJNA10629 │ SAMN02808228 │\n",
       "│ 9      │ GCA_000001905.1      │ PRJNA12569 │ SAMN02953622 │\n",
       "│ 10     │ GCA_000001985.1      │ PRJNA19555 │ SAMN02953685 │\n",
       "⋮\n",
       "│ 969099 │ GCA_905232355.1      │ PRJEB42964 │ SAMEA7998005 │\n",
       "│ 969100 │ GCA_905232365.1      │ PRJEB42964 │ SAMEA7998006 │\n",
       "│ 969101 │ GCA_905236995.1      │ PRJEB28470 │ SAMEA7833113 │\n",
       "│ 969102 │ GCA_905237015.1      │ PRJEB28470 │ SAMEA7833114 │\n",
       "│ 969103 │ GCA_905237025.1      │ PRJEB28470 │ SAMEA7833116 │\n",
       "│ 969104 │ GCA_905237035.1      │ PRJEB28470 │ SAMEA7833115 │\n",
       "│ 969105 │ GCA_905237045.1      │ PRJEB28470 │ SAMEA7833117 │\n",
       "│ 969106 │ GCA_905237085.1      │ PRJEB33539 │ SAMEA5987284 │\n",
       "│ 969107 │ GCA_905237095.1      │ PRJEB33539 │ SAMEA5987285 │\n",
       "│ 969108 │ GCA_905332985.1      │ PRJEB43491 │ SAMEA7520521 │\n",
       "│ 969109 │ GCA_905333005.1      │ PRJEB43473 │ SAMEA7523293 │"
      ]
     },
     "execution_count": 8,
     "metadata": {},
     "output_type": "execute_result"
    }
   ],
   "source": [
    "db = \"genbank\"\n",
    "assembly_summary_url = \"https://ftp.ncbi.nlm.nih.gov/genomes/$(db)/assembly_summary_$(db).txt\"\n",
    "assembly_summary_file = \"$(DIR)/$(basename(assembly_summary_url))\"\n",
    "if !isfile(assembly_summary_file)\n",
    "    open(assembly_summary_file, \"w\") do io\n",
    "        assembly_summary_response = HTTP.get(assembly_summary_url)\n",
    "        write(io, assembly_summary_response.body)\n",
    "    end\n",
    "end\n",
    "assembly_summary_table = DataFrames.DataFrame(uCSV.read(assembly_summary_file, delim='\\t', header=2, skipmalformed=true)...)"
   ]
  },
  {
   "cell_type": "code",
   "execution_count": 9,
   "metadata": {},
   "outputs": [
    {
     "data": {
      "text/html": [
       "<table class=\"data-frame\"><thead><tr><th></th><th>#species_taxid</th><th>min_ungapped_length</th><th>max_ungapped_length</th><th>expected_ungapped_length</th></tr><tr><th></th><th>Int64</th><th>Int64</th><th>Int64</th><th>Int64</th></tr></thead><tbody><p>2,812 rows × 5 columns (omitted printing of 1 columns)</p><tr><th>1</th><td>9</td><td>318000</td><td>956000</td><td>636876</td></tr><tr><th>2</th><td>24</td><td>2950000</td><td>6050000</td><td>4500062</td></tr><tr><th>3</th><td>34</td><td>7405000</td><td>11109000</td><td>9257167</td></tr><tr><th>4</th><td>56</td><td>5994000</td><td>15000000</td><td>11989871</td></tr><tr><th>5</th><td>69</td><td>4891000</td><td>7337000</td><td>6113769</td></tr><tr><th>6</th><td>114</td><td>7212000</td><td>10820000</td><td>9015893</td></tr><tr><th>7</th><td>122</td><td>6222000</td><td>9334000</td><td>7777997</td></tr><tr><th>8</th><td>124</td><td>5461000</td><td>9315000</td><td>7387897</td></tr><tr><th>9</th><td>139</td><td>813000</td><td>1786000</td><td>1299537</td></tr><tr><th>10</th><td>140</td><td>688000</td><td>2067000</td><td>1377933</td></tr><tr><th>11</th><td>158</td><td>2253000</td><td>3380000</td><td>2816290</td></tr><tr><th>12</th><td>159</td><td>2436000</td><td>3655000</td><td>3045648</td></tr><tr><th>13</th><td>160</td><td>911000</td><td>1367000</td><td>1139090</td></tr><tr><th>14</th><td>162</td><td>2117000</td><td>4384000</td><td>3250767</td></tr><tr><th>15</th><td>164</td><td>1779000</td><td>2669000</td><td>2224027</td></tr><tr><th>16</th><td>172</td><td>3103000</td><td>4655000</td><td>3879078</td></tr><tr><th>17</th><td>173</td><td>3700000</td><td>5552000</td><td>4626069</td></tr><tr><th>18</th><td>174</td><td>3138000</td><td>4708000</td><td>3922817</td></tr><tr><th>19</th><td>192</td><td>5672000</td><td>8563000</td><td>7117205</td></tr><tr><th>20</th><td>193</td><td>5968000</td><td>9403000</td><td>7685216</td></tr><tr><th>21</th><td>195</td><td>1408000</td><td>2114000</td><td>1760935</td></tr><tr><th>22</th><td>196</td><td>1600000</td><td>2200000</td><td>1900000</td></tr><tr><th>23</th><td>197</td><td>1376000</td><td>2065000</td><td>1720192</td></tr><tr><th>24</th><td>198</td><td>1427000</td><td>2141000</td><td>1783989</td></tr><tr><th>25</th><td>199</td><td>1340000</td><td>2534000</td><td>1937433</td></tr><tr><th>26</th><td>200</td><td>1577000</td><td>2366000</td><td>1971264</td></tr><tr><th>27</th><td>201</td><td>1207000</td><td>1856000</td><td>1531213</td></tr><tr><th>28</th><td>202</td><td>1425000</td><td>2182000</td><td>1803524</td></tr><tr><th>29</th><td>204</td><td>1566000</td><td>2781000</td><td>2173965</td></tr><tr><th>30</th><td>206</td><td>1402000</td><td>2105000</td><td>1753386</td></tr><tr><th>&vellip;</th><td>&vellip;</td><td>&vellip;</td><td>&vellip;</td><td>&vellip;</td></tr></tbody></table>"
      ],
      "text/latex": [
       "\\begin{tabular}{r|ccccc}\n",
       "\t& \\#species\\_taxid & min\\_ungapped\\_length & max\\_ungapped\\_length & expected\\_ungapped\\_length & \\\\\n",
       "\t\\hline\n",
       "\t& Int64 & Int64 & Int64 & Int64 & \\\\\n",
       "\t\\hline\n",
       "\t1 & 9 & 318000 & 956000 & 636876 & $\\dots$ \\\\\n",
       "\t2 & 24 & 2950000 & 6050000 & 4500062 & $\\dots$ \\\\\n",
       "\t3 & 34 & 7405000 & 11109000 & 9257167 & $\\dots$ \\\\\n",
       "\t4 & 56 & 5994000 & 15000000 & 11989871 & $\\dots$ \\\\\n",
       "\t5 & 69 & 4891000 & 7337000 & 6113769 & $\\dots$ \\\\\n",
       "\t6 & 114 & 7212000 & 10820000 & 9015893 & $\\dots$ \\\\\n",
       "\t7 & 122 & 6222000 & 9334000 & 7777997 & $\\dots$ \\\\\n",
       "\t8 & 124 & 5461000 & 9315000 & 7387897 & $\\dots$ \\\\\n",
       "\t9 & 139 & 813000 & 1786000 & 1299537 & $\\dots$ \\\\\n",
       "\t10 & 140 & 688000 & 2067000 & 1377933 & $\\dots$ \\\\\n",
       "\t11 & 158 & 2253000 & 3380000 & 2816290 & $\\dots$ \\\\\n",
       "\t12 & 159 & 2436000 & 3655000 & 3045648 & $\\dots$ \\\\\n",
       "\t13 & 160 & 911000 & 1367000 & 1139090 & $\\dots$ \\\\\n",
       "\t14 & 162 & 2117000 & 4384000 & 3250767 & $\\dots$ \\\\\n",
       "\t15 & 164 & 1779000 & 2669000 & 2224027 & $\\dots$ \\\\\n",
       "\t16 & 172 & 3103000 & 4655000 & 3879078 & $\\dots$ \\\\\n",
       "\t17 & 173 & 3700000 & 5552000 & 4626069 & $\\dots$ \\\\\n",
       "\t18 & 174 & 3138000 & 4708000 & 3922817 & $\\dots$ \\\\\n",
       "\t19 & 192 & 5672000 & 8563000 & 7117205 & $\\dots$ \\\\\n",
       "\t20 & 193 & 5968000 & 9403000 & 7685216 & $\\dots$ \\\\\n",
       "\t21 & 195 & 1408000 & 2114000 & 1760935 & $\\dots$ \\\\\n",
       "\t22 & 196 & 1600000 & 2200000 & 1900000 & $\\dots$ \\\\\n",
       "\t23 & 197 & 1376000 & 2065000 & 1720192 & $\\dots$ \\\\\n",
       "\t24 & 198 & 1427000 & 2141000 & 1783989 & $\\dots$ \\\\\n",
       "\t25 & 199 & 1340000 & 2534000 & 1937433 & $\\dots$ \\\\\n",
       "\t26 & 200 & 1577000 & 2366000 & 1971264 & $\\dots$ \\\\\n",
       "\t27 & 201 & 1207000 & 1856000 & 1531213 & $\\dots$ \\\\\n",
       "\t28 & 202 & 1425000 & 2182000 & 1803524 & $\\dots$ \\\\\n",
       "\t29 & 204 & 1566000 & 2781000 & 2173965 & $\\dots$ \\\\\n",
       "\t30 & 206 & 1402000 & 2105000 & 1753386 & $\\dots$ \\\\\n",
       "\t$\\dots$ & $\\dots$ & $\\dots$ & $\\dots$ & $\\dots$ &  \\\\\n",
       "\\end{tabular}\n"
      ],
      "text/plain": [
       "2812×5 DataFrame. Omitted printing of 2 columns\n",
       "│ Row  │ #species_taxid │ min_ungapped_length │ max_ungapped_length │\n",
       "│      │ \u001b[90mInt64\u001b[39m          │ \u001b[90mInt64\u001b[39m               │ \u001b[90mInt64\u001b[39m               │\n",
       "├──────┼────────────────┼─────────────────────┼─────────────────────┤\n",
       "│ 1    │ 9              │ 318000              │ 956000              │\n",
       "│ 2    │ 24             │ 2950000             │ 6050000             │\n",
       "│ 3    │ 34             │ 7405000             │ 11109000            │\n",
       "│ 4    │ 56             │ 5994000             │ 15000000            │\n",
       "│ 5    │ 69             │ 4891000             │ 7337000             │\n",
       "│ 6    │ 114            │ 7212000             │ 10820000            │\n",
       "│ 7    │ 122            │ 6222000             │ 9334000             │\n",
       "│ 8    │ 124            │ 5461000             │ 9315000             │\n",
       "│ 9    │ 139            │ 813000              │ 1786000             │\n",
       "│ 10   │ 140            │ 688000              │ 2067000             │\n",
       "⋮\n",
       "│ 2802 │ 2723674        │ 17496000            │ 37645000            │\n",
       "│ 2803 │ 2741499        │ 4138000             │ 6209000             │\n",
       "│ 2804 │ 2742203        │ 2103000             │ 3156000             │\n",
       "│ 2805 │ 2754717        │ 850000              │ 2552000             │\n",
       "│ 2806 │ 2763006        │ 6549000             │ 10029000            │\n",
       "│ 2807 │ 2766470        │ 1325000             │ 2578000             │\n",
       "│ 2808 │ 2778550        │ 3291000             │ 5889000             │\n",
       "│ 2809 │ 2781243        │ 2321000             │ 3483000             │\n",
       "│ 2810 │ 2782701        │ 7171000             │ 10758000            │\n",
       "│ 2811 │ 2801451        │ 1594000             │ 4518000             │\n",
       "│ 2812 │ 2813651        │ 31916000            │ 47875000            │"
      ]
     },
     "execution_count": 9,
     "metadata": {},
     "output_type": "execute_result"
    }
   ],
   "source": [
    "genome_size_table_url = \"ftp://ftp.ncbi.nlm.nih.gov/genomes/ASSEMBLY_REPORTS/species_genome_size.txt.gz\"\n",
    "genome_size_table_file = \"$(DIR)/$(basename(genome_size_table_url))\"\n",
    "if !isfile(genome_size_table_file)\n",
    "    open(genome_size_table_file, \"w\") do io\n",
    "        genome_size_table_response = HTTP.get(genome_size_table_url)\n",
    "        write(io, genome_size_table_response.body)\n",
    "    end\n",
    "end\n",
    "genome_size_table_buffer = CodecZlib.GzipDecompressorStream(open(genome_size_table_file))\n",
    "genome_size_table = DataFrames.DataFrame(uCSV.read(genome_size_table_buffer, header=1, delim='\\t')...)"
   ]
  },
  {
   "cell_type": "code",
   "execution_count": 10,
   "metadata": {},
   "outputs": [
    {
     "data": {
      "text/html": [
       "<table class=\"data-frame\"><thead><tr><th></th><th># assembly_accession</th><th>bioproject</th><th>biosample</th><th>wgs_master</th><th>refseq_category</th><th>taxid</th></tr><tr><th></th><th>String</th><th>String</th><th>String</th><th>String</th><th>String</th><th>Int64</th></tr></thead><tbody><p>776,772 rows × 26 columns (omitted printing of 20 columns)</p><tr><th>1</th><td>GCA_002829805.1</td><td></td><td></td><td></td><td>na</td><td>230604</td></tr><tr><th>2</th><td>GCA_003972145.1</td><td></td><td></td><td></td><td>na</td><td>230604</td></tr><tr><th>3</th><td>GCA_003972165.1</td><td></td><td></td><td></td><td>na</td><td>230604</td></tr><tr><th>4</th><td>GCA_003972185.1</td><td></td><td></td><td></td><td>na</td><td>230604</td></tr><tr><th>5</th><td>GCA_003972205.1</td><td></td><td></td><td></td><td>na</td><td>230604</td></tr><tr><th>6</th><td>GCA_003972225.1</td><td></td><td></td><td></td><td>na</td><td>230604</td></tr><tr><th>7</th><td>GCA_003972245.1</td><td></td><td></td><td></td><td>na</td><td>230604</td></tr><tr><th>8</th><td>GCA_003972265.1</td><td></td><td></td><td></td><td>na</td><td>230604</td></tr><tr><th>9</th><td>GCA_000851485.1</td><td></td><td></td><td></td><td>reference genome</td><td>154834</td></tr><tr><th>10</th><td>GCA_000856565.1</td><td></td><td></td><td></td><td>na</td><td>12475</td></tr><tr><th>11</th><td>GCA_003033635.1</td><td></td><td></td><td></td><td>na</td><td>12475</td></tr><tr><th>12</th><td>GCA_003033645.1</td><td></td><td></td><td></td><td>na</td><td>12475</td></tr><tr><th>13</th><td>GCA_003047595.1</td><td></td><td></td><td></td><td>na</td><td>12475</td></tr><tr><th>14</th><td>GCA_003047615.1</td><td></td><td></td><td></td><td>na</td><td>12475</td></tr><tr><th>15</th><td>GCA_003047635.1</td><td></td><td></td><td></td><td>na</td><td>12475</td></tr><tr><th>16</th><td>GCA_003047655.1</td><td></td><td></td><td></td><td>na</td><td>12475</td></tr><tr><th>17</th><td>GCA_003047915.1</td><td></td><td></td><td></td><td>na</td><td>12475</td></tr><tr><th>18</th><td>GCA_003971865.1</td><td></td><td></td><td></td><td>na</td><td>12475</td></tr><tr><th>19</th><td>GCA_000919655.1</td><td></td><td></td><td></td><td>na</td><td>1234882</td></tr><tr><th>20</th><td>GCA_002819965.1</td><td></td><td></td><td></td><td>na</td><td>1234882</td></tr><tr><th>21</th><td>GCA_003985465.1</td><td></td><td></td><td></td><td>na</td><td>1072162</td></tr><tr><th>22</th><td>GCA_004369285.1</td><td></td><td></td><td></td><td>na</td><td>1072162</td></tr><tr><th>23</th><td>GCA_000918015.1</td><td></td><td></td><td></td><td>na</td><td>1475143</td></tr><tr><th>24</th><td>GCA_004046075.1</td><td></td><td></td><td></td><td>na</td><td>1475143</td></tr><tr><th>25</th><td>GCA_004046095.1</td><td></td><td></td><td></td><td>na</td><td>1475143</td></tr><tr><th>26</th><td>GCA_004046115.1</td><td></td><td></td><td></td><td>na</td><td>1475143</td></tr><tr><th>27</th><td>GCA_004046135.1</td><td></td><td></td><td></td><td>na</td><td>1475143</td></tr><tr><th>28</th><td>GCA_004046155.1</td><td></td><td></td><td></td><td>na</td><td>1475143</td></tr><tr><th>29</th><td>GCA_004046175.1</td><td></td><td></td><td></td><td>na</td><td>1475143</td></tr><tr><th>30</th><td>GCA_004051695.1</td><td></td><td></td><td></td><td>na</td><td>1475143</td></tr><tr><th>&vellip;</th><td>&vellip;</td><td>&vellip;</td><td>&vellip;</td><td>&vellip;</td><td>&vellip;</td><td>&vellip;</td></tr></tbody></table>"
      ],
      "text/latex": [
       "\\begin{tabular}{r|ccccccc}\n",
       "\t& \\# assembly\\_accession & bioproject & biosample & wgs\\_master & refseq\\_category & taxid & \\\\\n",
       "\t\\hline\n",
       "\t& String & String & String & String & String & Int64 & \\\\\n",
       "\t\\hline\n",
       "\t1 & GCA\\_002829805.1 &  &  &  & na & 230604 & $\\dots$ \\\\\n",
       "\t2 & GCA\\_003972145.1 &  &  &  & na & 230604 & $\\dots$ \\\\\n",
       "\t3 & GCA\\_003972165.1 &  &  &  & na & 230604 & $\\dots$ \\\\\n",
       "\t4 & GCA\\_003972185.1 &  &  &  & na & 230604 & $\\dots$ \\\\\n",
       "\t5 & GCA\\_003972205.1 &  &  &  & na & 230604 & $\\dots$ \\\\\n",
       "\t6 & GCA\\_003972225.1 &  &  &  & na & 230604 & $\\dots$ \\\\\n",
       "\t7 & GCA\\_003972245.1 &  &  &  & na & 230604 & $\\dots$ \\\\\n",
       "\t8 & GCA\\_003972265.1 &  &  &  & na & 230604 & $\\dots$ \\\\\n",
       "\t9 & GCA\\_000851485.1 &  &  &  & reference genome & 154834 & $\\dots$ \\\\\n",
       "\t10 & GCA\\_000856565.1 &  &  &  & na & 12475 & $\\dots$ \\\\\n",
       "\t11 & GCA\\_003033635.1 &  &  &  & na & 12475 & $\\dots$ \\\\\n",
       "\t12 & GCA\\_003033645.1 &  &  &  & na & 12475 & $\\dots$ \\\\\n",
       "\t13 & GCA\\_003047595.1 &  &  &  & na & 12475 & $\\dots$ \\\\\n",
       "\t14 & GCA\\_003047615.1 &  &  &  & na & 12475 & $\\dots$ \\\\\n",
       "\t15 & GCA\\_003047635.1 &  &  &  & na & 12475 & $\\dots$ \\\\\n",
       "\t16 & GCA\\_003047655.1 &  &  &  & na & 12475 & $\\dots$ \\\\\n",
       "\t17 & GCA\\_003047915.1 &  &  &  & na & 12475 & $\\dots$ \\\\\n",
       "\t18 & GCA\\_003971865.1 &  &  &  & na & 12475 & $\\dots$ \\\\\n",
       "\t19 & GCA\\_000919655.1 &  &  &  & na & 1234882 & $\\dots$ \\\\\n",
       "\t20 & GCA\\_002819965.1 &  &  &  & na & 1234882 & $\\dots$ \\\\\n",
       "\t21 & GCA\\_003985465.1 &  &  &  & na & 1072162 & $\\dots$ \\\\\n",
       "\t22 & GCA\\_004369285.1 &  &  &  & na & 1072162 & $\\dots$ \\\\\n",
       "\t23 & GCA\\_000918015.1 &  &  &  & na & 1475143 & $\\dots$ \\\\\n",
       "\t24 & GCA\\_004046075.1 &  &  &  & na & 1475143 & $\\dots$ \\\\\n",
       "\t25 & GCA\\_004046095.1 &  &  &  & na & 1475143 & $\\dots$ \\\\\n",
       "\t26 & GCA\\_004046115.1 &  &  &  & na & 1475143 & $\\dots$ \\\\\n",
       "\t27 & GCA\\_004046135.1 &  &  &  & na & 1475143 & $\\dots$ \\\\\n",
       "\t28 & GCA\\_004046155.1 &  &  &  & na & 1475143 & $\\dots$ \\\\\n",
       "\t29 & GCA\\_004046175.1 &  &  &  & na & 1475143 & $\\dots$ \\\\\n",
       "\t30 & GCA\\_004051695.1 &  &  &  & na & 1475143 & $\\dots$ \\\\\n",
       "\t$\\dots$ & $\\dots$ & $\\dots$ & $\\dots$ & $\\dots$ & $\\dots$ & $\\dots$ &  \\\\\n",
       "\\end{tabular}\n"
      ],
      "text/plain": [
       "776772×26 DataFrame. Omitted printing of 23 columns\n",
       "│ Row    │ # assembly_accession │ bioproject │ biosample    │\n",
       "│        │ \u001b[90mString\u001b[39m               │ \u001b[90mString\u001b[39m     │ \u001b[90mString\u001b[39m       │\n",
       "├────────┼──────────────────────┼────────────┼──────────────┤\n",
       "│ 1      │ GCA_002829805.1      │            │              │\n",
       "│ 2      │ GCA_003972145.1      │            │              │\n",
       "│ 3      │ GCA_003972165.1      │            │              │\n",
       "│ 4      │ GCA_003972185.1      │            │              │\n",
       "│ 5      │ GCA_003972205.1      │            │              │\n",
       "│ 6      │ GCA_003972225.1      │            │              │\n",
       "│ 7      │ GCA_003972245.1      │            │              │\n",
       "│ 8      │ GCA_003972265.1      │            │              │\n",
       "│ 9      │ GCA_000851485.1      │            │              │\n",
       "│ 10     │ GCA_000856565.1      │            │              │\n",
       "⋮\n",
       "│ 776762 │ GCA_902810675.1      │ PRJEB35709 │ SAMEA6374024 │\n",
       "│ 776763 │ GCA_902810685.1      │ PRJEB35709 │ SAMEA6374021 │\n",
       "│ 776764 │ GCA_903993795.1      │ PRJEB39553 │ SAMEA7089055 │\n",
       "│ 776765 │ GCA_903993975.1      │ PRJEB39555 │ SAMEA7089057 │\n",
       "│ 776766 │ GCA_903993985.1      │ PRJEB39552 │ SAMEA7089054 │\n",
       "│ 776767 │ GCA_903994155.1      │ PRJEB39560 │ SAMEA7089062 │\n",
       "│ 776768 │ GCA_903994175.1      │ PRJEB39557 │ SAMEA7089059 │\n",
       "│ 776769 │ GCA_903994185.1      │ PRJEB39558 │ SAMEA7089060 │\n",
       "│ 776770 │ GCA_903994195.1      │ PRJEB39554 │ SAMEA7089056 │\n",
       "│ 776771 │ GCA_903995565.1      │ PRJEB39556 │ SAMEA7089058 │\n",
       "│ 776772 │ GCA_904066035.1      │ PRJEB39982 │ SAMEA7202579 │"
      ]
     },
     "execution_count": 10,
     "metadata": {},
     "output_type": "execute_result"
    }
   ],
   "source": [
    "joint_table = DataFrames.innerjoin(assembly_summary_table, genome_size_table, on=[\"species_taxid\" => \"#species_taxid\"])\n",
    "sort!(joint_table, \"expected_ungapped_length\")"
   ]
  },
  {
   "cell_type": "code",
   "execution_count": 11,
   "metadata": {},
   "outputs": [],
   "source": [
    "# 112903 on refseq\n",
    "# 795 on genbank!"
   ]
  },
  {
   "cell_type": "code",
   "execution_count": 12,
   "metadata": {},
   "outputs": [
    {
     "data": {
      "text/html": [
       "<table class=\"data-frame\"><thead><tr><th></th><th># assembly_accession</th><th>bioproject</th><th>biosample</th><th>wgs_master</th><th>refseq_category</th><th>taxid</th></tr><tr><th></th><th>String</th><th>String</th><th>String</th><th>String</th><th>String</th><th>Int64</th></tr></thead><tbody><p>8 rows × 26 columns (omitted printing of 20 columns)</p><tr><th>1</th><td>GCA_002829805.1</td><td></td><td></td><td></td><td>na</td><td>230604</td></tr><tr><th>2</th><td>GCA_003972145.1</td><td></td><td></td><td></td><td>na</td><td>230604</td></tr><tr><th>3</th><td>GCA_003972165.1</td><td></td><td></td><td></td><td>na</td><td>230604</td></tr><tr><th>4</th><td>GCA_003972185.1</td><td></td><td></td><td></td><td>na</td><td>230604</td></tr><tr><th>5</th><td>GCA_003972205.1</td><td></td><td></td><td></td><td>na</td><td>230604</td></tr><tr><th>6</th><td>GCA_003972225.1</td><td></td><td></td><td></td><td>na</td><td>230604</td></tr><tr><th>7</th><td>GCA_003972245.1</td><td></td><td></td><td></td><td>na</td><td>230604</td></tr><tr><th>8</th><td>GCA_003972265.1</td><td></td><td></td><td></td><td>na</td><td>230604</td></tr></tbody></table>"
      ],
      "text/latex": [
       "\\begin{tabular}{r|ccccccc}\n",
       "\t& \\# assembly\\_accession & bioproject & biosample & wgs\\_master & refseq\\_category & taxid & \\\\\n",
       "\t\\hline\n",
       "\t& String & String & String & String & String & Int64 & \\\\\n",
       "\t\\hline\n",
       "\t1 & GCA\\_002829805.1 &  &  &  & na & 230604 & $\\dots$ \\\\\n",
       "\t2 & GCA\\_003972145.1 &  &  &  & na & 230604 & $\\dots$ \\\\\n",
       "\t3 & GCA\\_003972165.1 &  &  &  & na & 230604 & $\\dots$ \\\\\n",
       "\t4 & GCA\\_003972185.1 &  &  &  & na & 230604 & $\\dots$ \\\\\n",
       "\t5 & GCA\\_003972205.1 &  &  &  & na & 230604 & $\\dots$ \\\\\n",
       "\t6 & GCA\\_003972225.1 &  &  &  & na & 230604 & $\\dots$ \\\\\n",
       "\t7 & GCA\\_003972245.1 &  &  &  & na & 230604 & $\\dots$ \\\\\n",
       "\t8 & GCA\\_003972265.1 &  &  &  & na & 230604 & $\\dots$ \\\\\n",
       "\\end{tabular}\n"
      ],
      "text/plain": [
       "8×26 SubDataFrame. Omitted printing of 22 columns\n",
       "│ Row │ # assembly_accession │ bioproject │ biosample │ wgs_master │\n",
       "│     │ \u001b[90mString\u001b[39m               │ \u001b[90mString\u001b[39m     │ \u001b[90mString\u001b[39m    │ \u001b[90mString\u001b[39m     │\n",
       "├─────┼──────────────────────┼────────────┼───────────┼────────────┤\n",
       "│ 1   │ GCA_002829805.1      │            │           │            │\n",
       "│ 2   │ GCA_003972145.1      │            │           │            │\n",
       "│ 3   │ GCA_003972165.1      │            │           │            │\n",
       "│ 4   │ GCA_003972185.1      │            │           │            │\n",
       "│ 5   │ GCA_003972205.1      │            │           │            │\n",
       "│ 6   │ GCA_003972225.1      │            │           │            │\n",
       "│ 7   │ GCA_003972245.1      │            │           │            │\n",
       "│ 8   │ GCA_003972265.1      │            │           │            │"
      ]
     },
     "execution_count": 12,
     "metadata": {},
     "output_type": "execute_result"
    }
   ],
   "source": [
    "group = first(DataFrames.groupby(joint_table, \"taxid\"))"
   ]
  },
  {
   "cell_type": "code",
   "execution_count": 13,
   "metadata": {},
   "outputs": [],
   "source": [
    "# how many groups are there?"
   ]
  },
  {
   "cell_type": "code",
   "execution_count": 14,
   "metadata": {},
   "outputs": [
    {
     "name": "stdout",
     "output_type": "stream",
     "text": [
      "8×26 SubDataFrame\n",
      "│ Row │ # assembly_accession │ bioproject │ biosample │ wgs_master │\n",
      "│     │ \u001b[90mString\u001b[39m               │ \u001b[90mString\u001b[39m     │ \u001b[90mString\u001b[39m    │ \u001b[90mString\u001b[39m     │\n",
      "├─────┼──────────────────────┼────────────┼───────────┼────────────┤\n",
      "│ 1   │ GCA_002829805.1      │            │           │            │\n",
      "│ 2   │ GCA_003972145.1      │            │           │            │\n",
      "│ 3   │ GCA_003972165.1      │            │           │            │\n",
      "│ 4   │ GCA_003972185.1      │            │           │            │\n",
      "│ 5   │ GCA_003972205.1      │            │           │            │\n",
      "│ 6   │ GCA_003972225.1      │            │           │            │\n",
      "│ 7   │ GCA_003972245.1      │            │           │            │\n",
      "│ 8   │ GCA_003972265.1      │            │           │            │\n",
      "\n",
      "│ Row │ refseq_category │ taxid  │ species_taxid │ organism_name     │\n",
      "│     │ \u001b[90mString\u001b[39m          │ \u001b[90mInt64\u001b[39m  │ \u001b[90mInt64\u001b[39m         │ \u001b[90mString\u001b[39m            │\n",
      "├─────┼─────────────────┼────────┼───────────────┼───────────────────┤\n",
      "│ 1   │ na              │ 230604 │ 1922242       │ Extra small virus │\n",
      "│ 2   │ na              │ 230604 │ 1922242       │ Extra small virus │\n",
      "│ 3   │ na              │ 230604 │ 1922242       │ Extra small virus │\n",
      "│ 4   │ na              │ 230604 │ 1922242       │ Extra small virus │\n",
      "│ 5   │ na              │ 230604 │ 1922242       │ Extra small virus │\n",
      "│ 6   │ na              │ 230604 │ 1922242       │ Extra small virus │\n",
      "│ 7   │ na              │ 230604 │ 1922242       │ Extra small virus │\n",
      "│ 8   │ na              │ 230604 │ 1922242       │ Extra small virus │\n",
      "\n",
      "│ Row │ infraspecific_name │ isolate │ version_status │ assembly_level  │\n",
      "│     │ \u001b[90mString\u001b[39m             │ \u001b[90mString\u001b[39m  │ \u001b[90mString\u001b[39m         │ \u001b[90mString\u001b[39m          │\n",
      "├─────┼────────────────────┼─────────┼────────────────┼─────────────────┤\n",
      "│ 1   │                    │         │ latest         │ Chromosome      │\n",
      "│ 2   │                    │         │ latest         │ Complete Genome │\n",
      "│ 3   │                    │         │ latest         │ Complete Genome │\n",
      "│ 4   │                    │         │ latest         │ Chromosome      │\n",
      "│ 5   │                    │ M298    │ latest         │ Complete Genome │\n",
      "│ 6   │                    │ M299    │ latest         │ Complete Genome │\n",
      "│ 7   │                    │ M308    │ latest         │ Complete Genome │\n",
      "│ 8   │                    │ M23     │ latest         │ Complete Genome │\n",
      "\n",
      "│ Row │ release_type │ genome_rep │ seq_rel_date │ asm_name    │ submitter │\n",
      "│     │ \u001b[90mString\u001b[39m       │ \u001b[90mString\u001b[39m     │ \u001b[90mString\u001b[39m       │ \u001b[90mString\u001b[39m      │ \u001b[90mString\u001b[39m    │\n",
      "├─────┼──────────────┼────────────┼──────────────┼─────────────┼───────────┤\n",
      "│ 1   │ Major        │ Partial    │ 2004/03/01   │ ASM282980v1 │           │\n",
      "│ 2   │ Major        │ Full       │ 2005/09/11   │ ASM397214v1 │           │\n",
      "│ 3   │ Major        │ Full       │ 2006/06/20   │ ASM397216v1 │           │\n",
      "│ 4   │ Major        │ Partial    │ 2007/01/10   │ ASM397218v1 │           │\n",
      "│ 5   │ Major        │ Full       │ 2007/11/01   │ ASM397220v1 │           │\n",
      "│ 6   │ Major        │ Full       │ 2007/11/01   │ ASM397222v1 │           │\n",
      "│ 7   │ Major        │ Full       │ 2007/11/01   │ ASM397224v1 │           │\n",
      "│ 8   │ Major        │ Full       │ 2007/11/01   │ ASM397226v1 │           │\n",
      "\n",
      "│ Row │ gbrs_paired_asm │ paired_asm_comp │\n",
      "│     │ \u001b[90mString\u001b[39m          │ \u001b[90mString\u001b[39m          │\n",
      "├─────┼─────────────────┼─────────────────┤\n",
      "│ 1   │ GCF_002829805.1 │ identical       │\n",
      "│ 2   │ GCF_003972145.1 │ identical       │\n",
      "│ 3   │ GCF_003972165.1 │ identical       │\n",
      "│ 4   │ GCF_003972185.1 │ identical       │\n",
      "│ 5   │ GCF_003972205.1 │ identical       │\n",
      "│ 6   │ GCF_003972225.1 │ identical       │\n",
      "│ 7   │ GCF_003972245.1 │ identical       │\n",
      "│ 8   │ GCF_003972265.1 │ identical       │\n",
      "\n",
      "│ Row │ ftp_path                                                                           │\n",
      "│     │ \u001b[90mString\u001b[39m                                                                             │\n",
      "├─────┼────────────────────────────────────────────────────────────────────────────────────┤\n",
      "│ 1   │ ftp://ftp.ncbi.nlm.nih.gov/genomes/all/GCA/002/829/805/GCA_002829805.1_ASM282980v1 │\n",
      "│ 2   │ ftp://ftp.ncbi.nlm.nih.gov/genomes/all/GCA/003/972/145/GCA_003972145.1_ASM397214v1 │\n",
      "│ 3   │ ftp://ftp.ncbi.nlm.nih.gov/genomes/all/GCA/003/972/165/GCA_003972165.1_ASM397216v1 │\n",
      "│ 4   │ ftp://ftp.ncbi.nlm.nih.gov/genomes/all/GCA/003/972/185/GCA_003972185.1_ASM397218v1 │\n",
      "│ 5   │ ftp://ftp.ncbi.nlm.nih.gov/genomes/all/GCA/003/972/205/GCA_003972205.1_ASM397220v1 │\n",
      "│ 6   │ ftp://ftp.ncbi.nlm.nih.gov/genomes/all/GCA/003/972/225/GCA_003972225.1_ASM397222v1 │\n",
      "│ 7   │ ftp://ftp.ncbi.nlm.nih.gov/genomes/all/GCA/003/972/245/GCA_003972245.1_ASM397224v1 │\n",
      "│ 8   │ ftp://ftp.ncbi.nlm.nih.gov/genomes/all/GCA/003/972/265/GCA_003972265.1_ASM397226v1 │\n",
      "\n",
      "│ Row │ excluded_from_refseq │ relation_to_type_material │ min_ungapped_length │\n",
      "│     │ \u001b[90mString\u001b[39m               │ \u001b[90mString\u001b[39m                    │ \u001b[90mInt64\u001b[39m               │\n",
      "├─────┼──────────────────────┼───────────────────────────┼─────────────────────┤\n",
      "│ 1   │ partial              │ ICTV species exemplar     │ 636                 │\n",
      "│ 2   │                      │ ICTV additional isolate   │ 636                 │\n",
      "│ 3   │                      │ ICTV additional isolate   │ 636                 │\n",
      "│ 4   │ partial              │ ICTV additional isolate   │ 636                 │\n",
      "│ 5   │                      │ ICTV additional isolate   │ 636                 │\n",
      "│ 6   │                      │ ICTV additional isolate   │ 636                 │\n",
      "│ 7   │                      │ ICTV additional isolate   │ 636                 │\n",
      "│ 8   │                      │ ICTV additional isolate   │ 636                 │\n",
      "\n",
      "│ Row │ max_ungapped_length │ expected_ungapped_length │ number_of_genomes │\n",
      "│     │ \u001b[90mInt64\u001b[39m               │ \u001b[90mInt64\u001b[39m                    │ \u001b[90mInt64\u001b[39m             │\n",
      "├─────┼─────────────────────┼──────────────────────────┼───────────────────┤\n",
      "│ 1   │ 954                 │ 795                      │ 6                 │\n",
      "│ 2   │ 954                 │ 795                      │ 6                 │\n",
      "│ 3   │ 954                 │ 795                      │ 6                 │\n",
      "│ 4   │ 954                 │ 795                      │ 6                 │\n",
      "│ 5   │ 954                 │ 795                      │ 6                 │\n",
      "│ 6   │ 954                 │ 795                      │ 6                 │\n",
      "│ 7   │ 954                 │ 795                      │ 6                 │\n",
      "│ 8   │ 954                 │ 795                      │ 6                 │"
     ]
    }
   ],
   "source": [
    "show(group, allcols=true)"
   ]
  },
  {
   "cell_type": "code",
   "execution_count": 15,
   "metadata": {},
   "outputs": [
    {
     "data": {
      "text/plain": [
       "230604"
      ]
     },
     "execution_count": 15,
     "metadata": {},
     "output_type": "execute_result"
    }
   ],
   "source": [
    "taxid = group[1, \"taxid\"]"
   ]
  },
  {
   "cell_type": "code",
   "execution_count": 16,
   "metadata": {},
   "outputs": [
    {
     "data": {
      "text/plain": [
       "\"taxid230604\""
      ]
     },
     "execution_count": 16,
     "metadata": {},
     "output_type": "execute_result"
    }
   ],
   "source": [
    "database_id = \"taxid$(taxid)\""
   ]
  },
  {
   "cell_type": "code",
   "execution_count": 21,
   "metadata": {},
   "outputs": [
    {
     "data": {
      "text/plain": [
       "Process(`\u001b[4mcypher-shell\u001b[24m \u001b[4m--address\u001b[24m \u001b[4mneo4j://localhost:7687\u001b[24m \u001b[4m--username\u001b[24m \u001b[4mneo4j\u001b[24m \u001b[4m--password\u001b[24m \u001b[4mpassword\u001b[24m \u001b[4m--database\u001b[24m \u001b[4msystem\u001b[24m \u001b[4m--format\u001b[24m \u001b[4mauto\u001b[24m \u001b[4m'create database taxid230604'\u001b[24m`, ProcessExited(0))"
      ]
     },
     "execution_count": 21,
     "metadata": {},
     "output_type": "execute_result"
    }
   ],
   "source": [
    "# delete the database if it exists\n",
    "cypher(\"system\", \"DROP DATABASE $(database_id)\")\n",
    "# build it again\n",
    "create_database(database_id)"
   ]
  },
  {
   "cell_type": "code",
   "execution_count": 22,
   "metadata": {},
   "outputs": [
    {
     "data": {
      "text/plain": [
       "\"ftp://ftp.ncbi.nlm.nih.gov/genomes/all/GCA/002/829/805/GCA_002829805.1_ASM282980v1\""
      ]
     },
     "execution_count": 22,
     "metadata": {},
     "output_type": "execute_result"
    }
   ],
   "source": [
    "ftp_path = group[1, \"ftp_path\"]"
   ]
  },
  {
   "cell_type": "code",
   "execution_count": 23,
   "metadata": {},
   "outputs": [
    {
     "data": {
      "text/plain": [
       "\"GCA_002829805.1\""
      ]
     },
     "execution_count": 23,
     "metadata": {},
     "output_type": "execute_result"
    }
   ],
   "source": [
    "accession = group[1, \"# assembly_accession\"]"
   ]
  },
  {
   "cell_type": "code",
   "execution_count": 24,
   "metadata": {},
   "outputs": [
    {
     "name": "stdout",
     "output_type": "stream",
     "text": [
      "f, g, s\n",
      "(:FASTA {identifier: \"AY247793.1\", sequence: \"CCACGTCTAGCTGCTGACGTTAAATGCAGCCGGGTGGTAATGCGTATTAATATTTCAACAACATGAATAAGCGCATTAATAATAATCGGAGAACCATGAGATCACGTAGGGGACGCGGTAGGACAATGGGATCTAATCTCATTCCTTACGCCAATTCACCAGTCCCTATACCATATACACCACCCGTTACCCCAGTCACCGTCATTAGTAATCCTCGGAAAACTACTTGGATTGACATTGATCTTTCAAGTGAAGAGTCCGGGATTTACACATTGGCGGTTGGGTCATACCGTAATAGGATTACTAAACTTGGTCCATCTAAACCTAACTTTATTATTGAGAAGGTTGCAGCATACGCTGCACCAGGAGATTATAAGGTTGTTCTCAATGACTTTAAAACTGGCATACAAGTCGTTGATGAAGGCTCTTATGCTCATAGAGCCGCAGTAGGTATTCTTTATCCACCTGCTGCACAAATATTTTACGGTATTTCAGCAACAGGCACACTCAATACTATCACTACCACTGCTAAAGATCCAGTTCCAGTGGTTCGTGCCTTGGTAACATATTGGGACTCCGAACAGTAATGAGCAGGTTCTATGCTTCGAACTAAAACAAGCAATGAGTTCTAGCTCCGAACTAAAACGAGCCAAACTCTCGCATCTGAGTATAAATCATGCCCCATGATCCTCGCATCGTATCGCACTTTGCTGGAGAAAACCCTTATGGCCAATTGTGGCAAGGGGAGACGTATTGGTTAGGCATTATTCCGGGTGCGTCGATAAATAAAGACCTT\", description: \"Macrobrachium rosenbergii XSV virus capsid protein gene, complete cds\"}), (:GENOME {accession: \"GCA_002829805.1\"}), [:SOURCE]\n",
      "f, g, s\n",
      "(:FASTA {identifier: \"DQ174318.1\", sequence: \"TTGTAAAACAAGCTTCGGCTTGTTTTACACGTCTAGCTGCTGACGTTAAATGCAGCCGGGTGGTAATGCGTATTAATATTTCAACAACATGAATAAGCGCATTAATAATAATCGGAGAACCATGAGATCACGTAGGGGACGTGGTAGGACAATGGGATCTAATCTCATTCCTTATGCCAACTCACCAGTCCCTATACCATATACACCACCCGTTACCCCAGTCACCGTCATTGGTAATCCTCGGAAAACTACTTGGATTGACATTGATCTTTCAAGTGAAGAGTCCGGGATTTACACATTGACGGTTGGGTCATACCGTAATAGGATCACTAAACTTGGTCCATCTAAACCTAACTTTATTATTGAGAAGGTCGCAGCATATGCTGCACCAGGAGATTATAAGGTTGTTCTCAATGACTTTAAAACTGGTATACAAGTCGTTGATGAAGGCTCTTATGCTCATAGAGCCGCAGCAGGTATTCTTTATCCACCAGCTGCACAAATATTTTACGGTATTTCAGCAACAGGCACACTCAACACTATCACTACCACTGCTAAAGATCCAGTTCCAGTGGTTCGTGCTTTGGTAACATATTGGGACTCCGAACAGTAATGAGCAGGTTCTATGCTTCGAACTAAAACAAGCAATGAGTTCTAGCTCCGAACTAAAACGAGCCACACTCTCGCATCTGAGTATAAATCATGCCCCATGATCCTCGCATCGTATCGCACTTTGCTGGAGAAAACCCTTACGGCCAATTGTGGCAAGGGGAGACGTATTGGTTAGGCATTATTCCGGGTGCGTCGATAAATAAAGACCTTAAAATATCCAAACAATTAGTTCTCATGGTGGATTTACACATTGACGGTTG\", description: \"Macrobrachium rosenbergii XSV virus nucleocapsid protein CP17 (cp17) and CP16 (cp16) genes, complete cds\"}), (:GENOME {accession: \"GCA_003972145.1\"}), [:SOURCE]\n",
      "f, g, s\n",
      "(:FASTA {identifier: \"DQ521573.1\", sequence: \"CCACGTCTAGCTGCTGACGTTAAATGCAGCCGGGTGGAAATGCGTATTAATATTTTAACAACATGAATAAGCGCATTAATAATAATCGGAGAACCATGAGATCACGTAGGGGACGTGGTAGGACAATGGGATCTAATCTCATTCCTTATGCCAACTCACCAGTCCCTATACCATATACACCACCCGTTACCCCAGTTACCGTCATTGGTAATCCTCGGAAAACTACTTGGATTGACATTGATCTTTCAAGTGAAGAGTCCGGGATTTACACTTTGACGGTTGGGTCATACCGTAATAGGATTACTAAACTTGGTCCATCTAAACCTAACTTTATTATTGAGAAGGTCGCAGCATATGCTGCACCAGGAGATTATAAGGTTGTTCTCAATGACTTTAAAACTGGTATACAAGTCGTTGATGAAGGCTCTTATGCTCATAGAGCCGCAGCAGGTATTCTTTATCCACCTGCTGCACAAATGTTTTACGGTATTTCAGCAACAGGCACACTCAACACTATTACTACCACTGCTAAAGATCCAGTTCCAGTGGTTCGTGCTTTGGTAACATATTGGGACTCCGAACAGTAATGAGCAGGTTCTATGCTTCGAACTAAAACAAGCAATGAGTTCTAGCTCCGAACTAAAACGAGCCAAACTCTCGCATCTGAGTATAAATCATGCCCCATGATCCTCGCATCGTATCGTACTTTGCTGGAGAAAACCCTTATGGCCAATTGTGGCAAGGGGAGACGTATTGGTTAGGCATTATTCCG\", description: \"Macrobrachium rosenbergii XSV virus nucleocapsid protein CP17 gene, complete cds\"}), (:GENOME {accession: \"GCA_003972165.1\"}), [:SOURCE]\n",
      "f, g, s\n",
      "(:FASTA {identifier: \"EF159731.1\", sequence: \"ATGAATAAGCGCATTAATAATAATCGGAGAACCATGAGATCACGTAGGGGACGTGGTAGGACAATGGGATCTAATCTCATTCCTTATGCCAACTCACCAGTCCCTATACCATATACACCACCCGTTACCCCAATTACCGTCATTGGTAATCCTCGGAAAACTACTTGGATTGACATTGATCTTTCAAGTGAAGAGTCCGGGATTTACACTTTGACGGTTGGGTCATACCGTAATAGGATTACTAAACTTGGTCCATCTAAACCTAACTTTATTATTGAGAAGGTCGCAGCATACGCTGCACCAGGAGATTATAAGGTTGTTCTCAATGACTTTAAAACTGGTATACAAGTCGTTGATGAAGGCTCTTATGCTCATAGAGCCGCAGCACGTATTCTTTATCCACCTGCTGCACAAATATTTTACGGTATTTCAGCAACAGGCACACTCAACACTATTACTACCACTGCTAAAGATCCAGTTCCAGTGGTTCGTGCTTTGGTAA\", description: \"Macrobrachium rosenbergii XSV virus capsid protein gene, partial cds\"}), (:GENOME {accession: \"GCA_003972185.1\"}), [:SOURCE]\n",
      "f, g, s\n",
      "(:FASTA {identifier: \"EU150130.1\", sequence: \"TACACGTCTAGCTGCTGACGTTAAATGCAGCCGGGTGGTAATGCGTATTAATATTTCAACAACATGAATAAGCGCATTAATAATAATCGGAGAACCATGAGATCACGTAGGGGACGTGGTAGGACAATGGGATCTAATCTCATTCCTTATGCCAACTCACCAGTCCCTATACCATATACACCACCCGTTACCCCAGTCACCGTCATTGGTAATCCTCGGAAAACTACTTGGATTGACATTGATCTTTCAAGTGAAGAGTCCGGGATTTACACATTGACGGTTGGGTCATACCGTAATAGGATCACTAAACTTGGTCCATCTAAACCTAACTTTATTATTGAGAAGGTCGCAGCATATGCTGCACCAGGAGATTATAAGGTTGTTCTCAATGACTTTAAAACTGGTATACAAGTCGTTGATGAAGGCTCTTATGCTCATAGAGCCGCAGCAGGTATTCTTTATCCACCAGCTGCACAAATATTTTACGGTATTTCAGCAACAGGCACACTCAACACTATCACTACCACTGCTAAAGATCCAGTTCCAGTGGTTCGTGCTTTGGTAACATATTGGGACTCCGAACAGTAATGAGCAGGTTCTATGCTTCGAACTAAAACAAGCAATGAGTTCTAGCTCCGAACTAAAACGAGCCACACTCTCGCATCTGAGTATAAATCATGCCCCATGATCCTCGCATCGTATCGCACTTTGCTGGAGAAAACCCTTACGGCCAATTGTAGCAAGGGGAGACGTATTGGTTAGGCATTATTCCGGGTGCGTCGATAAATAAAGACA\", description: \"Macrobrachium rosenbergii XSV virus isolate M298 capsid protein gene, complete cds\"}), (:GENOME {accession: \"GCA_003972205.1\"}), [:SOURCE]\n",
      "f, g, s\n",
      "(:FASTA {identifier: \"EU150131.1\", sequence: \"CGCGGAATTTGGTTACACGTCTAGCTGCTGACGTTAAATGCAGCCGGGTGGTAATGCGTATTAATATTTCAACAACATGAATAAGCGCATTAATAATAATCGGAGAACCATGAGATCACGTAGGGGACGTGGCAGGACAATGGGATCTAATCTCATTCCTTATGCCAACTCACCAGTCCCTATACCATATACACCACCCGTTACCCCAGTCACCGTCATTGGTAATCCTCGGAAAACTACTTGGATTGACATTGATCTTTCAAGTGAAGAGTCCGGGATTTACACATTGACGGTTGGGTCATACCGTAATAGGATCACTAAACTTGGTCCATCTAAACCTAACTTTATTATTGAGAAGGTCGCAGCATATGCTGCACCAGGAGATTATAAGGTTGTTCTCAATGACTTTAAAACTGGTATACAAGTCGTTGATGAAGGCTCTTATGCTCATAGAGCCGCAGCAGGTATTCTTTATCCACCAGCTGCACAAATATTTTACGGTATTTCAGCAACAGGCACACTCAACACTATCACTACCACTGCTAAAGATCCAGTTCCAGTGGTTCGTGCTTTGGTAACATATTGGGACTCCGAACAGTAATGAGCAGGTTCTATGCTTCGAACTAAAACAAGCAATGAGTTCTAGCTCCGAACTAAAACGAGCCACACTCTCGCATCTGAGTATAAATCATGCCCCATGATCCTCGCATCGTATCGCACTTTGCTGGAGAAAACCCTTACGGCCAATTGTGGCAAGGGGAGACGTATTGGTTAGGCATTATTCCGGGTGCGTCGATAAATAAAGACA\", description: \"Macrobrachium rosenbergii XSV virus isolate M299 capsid protein gene, complete cds\"}), (:GENOME {accession: \"GCA_003972225.1\"}), [:SOURCE]\n",
      "f, g, s\n",
      "(:FASTA {identifier: \"EU150132.1\", sequence: \"TACACGTCTAGCTGCTGACGTTAAATGCAGCCGGGTGGTAATGCGTATTAATATTTCAACAACATGAATAAGCGCATTAATAATAATCGGAGAACCATGAGATCACGTAGGGGACGTGGTAGGACAATGGGATCTAATCTCATTCCTTATGCCAACTCACCAGTCCCTATACCATATACACCACCCGTTACCCCAGTTACCGTCATTGGTAATCCTCGGAAAACTACTTGGATTGACATTGATCTTTCAAGTGAAGAGTCCGGGATTTACACATTGACGGTTGGGTCATACCGTAATAGGATCACTAAACTTGGTCCATCTAAACCTAACTTTATTATTGAGAAGGTTGCAGCATATGCTGCACCAGGAGATTATAAGGTTGTTCTCAATGACTTTAAAACTGGTATACAAGTCGTTGATGAAGGCTCTTATGCTCATAGAGCCGCAGCAGGTATTCTTTATCCACCAGCTGCACAAATATTTTACGGTATTTCAGCAACAGGCACACTCAACACTATCACTACCACTGCTAAAGATCCAGTTCCAGTGGTTCGTGCTTTGGTAACATATTGGGACTCCGAACAGTAATGAGCAGGTTCTATGCTTCGAACTAAAACAAGCAATGAGTTCTAGCTCCGAACTAAAACGAGCCACACTCTCGCATCTGAGTATAAATCATGCCCCATGATCCTCGCATCGTATCGCACTTTGCTGGAGAAAACCCTTACGGCCAATCGTGGCAAGGGGAGACGTATTGGTTAGGCATTATTCCGGGTGCGTCGATAAATAAAGACA\", description: \"Macrobrachium rosenbergii XSV virus isolate M308 capsid protein gene, complete cds\"}), (:GENOME {accession: \"GCA_003972245.1\"}), [:SOURCE]\n",
      "f, g, s\n",
      "(:FASTA {identifier: \"EU150133.1\", sequence: \"TACACGTCTAGCTGCTGACGTTAAATGCAGCCGGGTGGTAATGCGTATTAATATTTCAACAATATGAATAAGCGCATTAATAATAATCGGAGAACCATGAGATCACGTAGGGGACGTGGTAGGACAATGGGATCTAATCTCATTCCTTATGCCAACTCACCAGTCCCTATACCATATACACCACCCGTTACCCCAGTCACCGTCATTGGTAATCCTCGGAAAACTACTTGGATTGACATTGATCTTTCAAGTGAAGAGTCCGGGATTTACACATTGACGGTTGGGTCATACCGTAATAGGATCACTAAACTTGGTCCATCTAAACCTAACTTTATTATTGAGAAGGTCGCAGCATATGCTGCACCAGGAGATTATAAGGTTGTTCTCAATGACTTTAAAACTGGTATACAAGTCGTTGATGAAGGCTCTTATGCTCATAGAGCCGCAGCAGGTATTCTTTATCCACCAGCTGCACAAATATTTTACGGTATTTCAGCAACAGGCACACTCAACACTATCACTACCACTGCTAAAGATCCAGTTCCAGTGGTTCGTGCTTTGGTAACATATTGGGACTCCGAACAGTAATGAGCAGGTTCTATGCTTCGAACTAAAACAAGCAATGAGTTCTAGCTCCGAACTAAAACGAGCCACACTCTCGCATCTGAGTATAAATCATGCCCCATGATCCTCGCATTGTATCGCACTTTGCTGGAGAAAACCCTTACGGCCAATTGTGGCAAGGGGAGACGTATTGGTTAGGCATTATTCCGGGTGCGTCGATAAATAAAGACA\", description: \"Macrobrachium rosenbergii XSV virus isolate M23 capsid protein gene, complete cds\"}), (:GENOME {accession: \"GCA_003972265.1\"}), [:SOURCE]\n"
     ]
    }
   ],
   "source": [
    "for (accession, ftp_path) in DataFrames.eachrow(group[!, [\"# assembly_accession\", \"ftp_path\"]])\n",
    "    for fasta in get_genome_from_ftp_directory(ftp_path)\n",
    "        identifier = FASTX.identifier(fasta)\n",
    "        description = FASTX.description(fasta)\n",
    "        sequence = FASTX.sequence(fasta)\n",
    "        cypher_call = \"MERGE (g:GENOME {accession: '$(accession)'})<-[s:SOURCE]-(f:FASTA {identifier: '$(identifier)', description: '$(description)', sequence: '$(sequence)'}) RETURN *\"\n",
    "        cypher(database_id, cypher_call)\n",
    "    end\n",
    "end"
   ]
  },
  {
   "cell_type": "code",
   "execution_count": null,
   "metadata": {},
   "outputs": [],
   "source": [
    "for"
   ]
  },
  {
   "cell_type": "code",
   "execution_count": null,
   "metadata": {},
   "outputs": [],
   "source": [
    "# graphs = []\n",
    "# for record in get_genome_from_ftp_directory(group[1, \"ftp_path\"])\n",
    "#     graph = Eisenia.KmerGraph(BioSequences.DNAMer{7}, record)\n",
    "#     push!(graphs, graph)\n",
    "# end\n",
    "# graphs"
   ]
  },
  {
   "cell_type": "code",
   "execution_count": 52,
   "metadata": {},
   "outputs": [
    {
     "data": {
      "text/plain": [
       "1-element Array{FASTX.FASTA.Record,1}:\n",
       " FASTX.FASTA.Record:\n",
       "   identifier: AY247793.1\n",
       "  description: Macrobrachium rosenbergii XSV virus capsid protein gene, complete cds\n",
       "     sequence: CCACGTCTAGCTGCTGACGTTAAATGCAGCCGGGTGGTA…"
      ]
     },
     "execution_count": 52,
     "metadata": {},
     "output_type": "execute_result"
    }
   ],
   "source": [
    "genome_accession = group[1, \"# assembly_accession\"]\n",
    "genome = get_genome_from_ftp_directory(group[1, \"ftp_path\"])"
   ]
  },
  {
   "cell_type": "code",
   "execution_count": 38,
   "metadata": {},
   "outputs": [
    {
     "data": {
      "text/plain": [
       "BioSequences.Mer{BioSequences.DNAAlphabet{2},7}"
      ]
     },
     "execution_count": 38,
     "metadata": {},
     "output_type": "execute_result"
    }
   ],
   "source": [
    "k = 7\n",
    "node_type = BioSequences.DNAMer{k}"
   ]
  },
  {
   "cell_type": "code",
   "execution_count": 40,
   "metadata": {},
   "outputs": [
    {
     "data": {
      "text/plain": [
       "NamedTuple{(:src, :dst),Tuple{NamedTuple{(:node, :orientation),Tuple{BioSequences.Mer{BioSequences.DNAAlphabet{2},7},Bool}},NamedTuple{(:node, :orientation),Tuple{BioSequences.Mer{BioSequences.DNAAlphabet{2},7},Bool}}}}"
      ]
     },
     "execution_count": 40,
     "metadata": {},
     "output_type": "execute_result"
    }
   ],
   "source": [
    "edge_type = typeof(\n",
    "    (src = (node = node_type(BioSequences.randdnaseq(k)), orientation = true),\n",
    "    dst = (node = node_type(BioSequences.randdnaseq(k)), orientation = true)))"
   ]
  },
  {
   "cell_type": "code",
   "execution_count": 41,
   "metadata": {},
   "outputs": [
    {
     "data": {
      "text/plain": [
       "NamedTuple{(:accession, :identifier, :index, :orientation),Tuple{String,String,Int64,Bool}}"
      ]
     },
     "execution_count": 41,
     "metadata": {},
     "output_type": "execute_result"
    }
   ],
   "source": [
    "# edge_type = Pair{Pair{node_type, Bool}, Pair{node_type, Bool}}\n",
    "evidence_type = typeof((accession = \"\", identifier = \"\", index = 1, orientation = true))"
   ]
  },
  {
   "cell_type": "code",
   "execution_count": 54,
   "metadata": {},
   "outputs": [
    {
     "data": {
      "text/plain": [
       "Dict{BioSequences.Mer{BioSequences.DNAAlphabet{2},7},Set{NamedTuple{(:accession, :identifier, :index, :orientation),Tuple{String,String,Int64,Bool}}}}()"
      ]
     },
     "execution_count": 54,
     "metadata": {},
     "output_type": "execute_result"
    }
   ],
   "source": [
    "nodes = Dict{node_type, Set{evidence_type}}()"
   ]
  },
  {
   "cell_type": "code",
   "execution_count": 55,
   "metadata": {},
   "outputs": [
    {
     "data": {
      "text/plain": [
       "Dict{NamedTuple{(:src, :dst),Tuple{NamedTuple{(:node, :orientation),Tuple{BioSequences.Mer{BioSequences.DNAAlphabet{2},7},Bool}},NamedTuple{(:node, :orientation),Tuple{BioSequences.Mer{BioSequences.DNAAlphabet{2},7},Bool}}}},Set{NamedTuple{(:accession, :identifier, :index, :orientation),Tuple{String,String,Int64,Bool}}}}()"
      ]
     },
     "execution_count": 55,
     "metadata": {},
     "output_type": "execute_result"
    }
   ],
   "source": [
    "edges = Dict{edge_type, Set{evidence_type}}()"
   ]
  },
  {
   "cell_type": "code",
   "execution_count": 56,
   "metadata": {},
   "outputs": [
    {
     "data": {
      "text/plain": [
       "Dict{Symbol,Dict{K,Set{NamedTuple{(:accession, :identifier, :index, :orientation),Tuple{String,String,Int64,Bool}}}} where K} with 2 entries:\n",
       "  :nodes => Dict{BioSequences.Mer{BioSequences.DNAAlphabet{2},7},Set{NamedTuple…\n",
       "  :edges => Dict{NamedTuple{(:src, :dst),Tuple{NamedTuple{(:node, :orientation)…"
      ]
     },
     "execution_count": 56,
     "metadata": {},
     "output_type": "execute_result"
    }
   ],
   "source": [
    "graph = Dict(:nodes => nodes, :edges => edges)"
   ]
  },
  {
   "cell_type": "code",
   "execution_count": 57,
   "metadata": {},
   "outputs": [
    {
     "data": {
      "text/plain": [
       "FASTX.FASTA.Record:\n",
       "   identifier: AY247793.1\n",
       "  description: Macrobrachium rosenbergii XSV virus capsid protein gene, complete cds\n",
       "     sequence: CCACGTCTAGCTGCTGACGTTAAATGCAGCCGGGTGGTA…"
      ]
     },
     "metadata": {},
     "output_type": "display_data"
    },
    {
     "data": {
      "text/plain": [
       "8nt DNA Sequence:\n",
       "CCACGTCT"
      ]
     },
     "metadata": {},
     "output_type": "display_data"
    },
    {
     "data": {
      "text/plain": [
       "Set{NamedTuple{(:accession, :identifier, :index, :orientation),Tuple{String,String,Int64,Bool}}} with 1 element:\n",
       "  (accession = \"GCA_002829805.1\", identifier = \"AY247793.1\", index = 2, orienta…"
      ]
     },
     "execution_count": 57,
     "metadata": {},
     "output_type": "execute_result"
    }
   ],
   "source": [
    "record = first(genome)\n",
    "# for record in genome\n",
    "display(record)\n",
    "n = k+1\n",
    "# for i in 1:1\n",
    "i = 1\n",
    "#     for i in 1:length(FASTX.sequence(record))-n+1\n",
    "slice = view(FASTX.sequence(record),i:i+n-1)\n",
    "display(slice)\n",
    "\n",
    "raw_src = node_type(slice[1:end-1])\n",
    "canonical_src = BioSequences.canonical(raw_src)\n",
    "src_orientation = canonical_src == raw_src\n",
    "src_evidence = (\n",
    "    accession = genome_accession,\n",
    "    identifier = FASTX.identifier(record),\n",
    "    index = i,\n",
    "    orientation = src_orientation)\n",
    "nodes[canonical_src] = push!(get(nodes, canonical_src, Set{evidence_type}()), src_evidence)\n",
    "\n",
    "raw_dst = node_type(slice[2:end])\n",
    "canonical_dst = BioSequences.canonical(raw_dst)\n",
    "dst_orientation = canonical_dst == raw_dst\n",
    "dst_evidence = (\n",
    "    accession = genome_accession,\n",
    "    identifier = FASTX.identifier(record),\n",
    "    index = i+1,\n",
    "    orientation = dst_orientation)\n",
    "nodes[canonical_dst] = push!(get(nodes, canonical_dst, Set{evidence_type}()), dst_evidence)\n",
    "\n",
    "#     end\n",
    "# end"
   ]
  },
  {
   "cell_type": "code",
   "execution_count": null,
   "metadata": {},
   "outputs": [],
   "source": [
    "edge_type = typeof(\n",
    "    (src = (node = node_type(BioSequences.randdnaseq(k)), orientation = true),\n",
    "    dst = (node = node_type(BioSequences.randdnaseq(k)), orientation = true)))"
   ]
  },
  {
   "cell_type": "code",
   "execution_count": 58,
   "metadata": {},
   "outputs": [
    {
     "data": {
      "text/plain": [
       "(src = (node = CCACGTC, orientation = true), dst = (node = AGACGTG, orientation = false))"
      ]
     },
     "execution_count": 58,
     "metadata": {},
     "output_type": "execute_result"
    }
   ],
   "source": [
    "edge = (src = (node = canonical_src, orientation = src_orientation),\n",
    "        dst = (node = canonical_dst, orientation = dst_orientation))"
   ]
  },
  {
   "cell_type": "code",
   "execution_count": 63,
   "metadata": {},
   "outputs": [
    {
     "data": {
      "text/plain": [
       "canonical (generic function with 1 method)"
      ]
     },
     "execution_count": 63,
     "metadata": {},
     "output_type": "execute_result"
    }
   ],
   "source": [
    "function canonical(edge)\n",
    "    if edge.src.node < edge.dst.node\n",
    "        return edge\n",
    "    else\n",
    "        new_src = edge.dst.node\n",
    "        @assert new_src == BioSequences.canonical(new_src)\n",
    "        new_dst = edge.src.node\n",
    "        @assert new_dst == BioSequences.canonical(new_dst)\n",
    "        new_src_orientation = !edge.dst.orientation\n",
    "        new_dst_orientaion = edge.dst.orientation ? !dge.src.orientation : !edge.src.orientation\n",
    "        new_edge = (src = (node = new_src, orientation = new_src_orientation),\n",
    "                    dst = (node = new_dst, orientation = new_dst_orientaion))\n",
    "        return new_edge\n",
    "    end\n",
    "end"
   ]
  },
  {
   "cell_type": "code",
   "execution_count": 65,
   "metadata": {},
   "outputs": [
    {
     "data": {
      "text/plain": [
       "(src = (node = AGACGTG, orientation = true), dst = (node = CCACGTC, orientation = false))"
      ]
     },
     "execution_count": 65,
     "metadata": {},
     "output_type": "execute_result"
    }
   ],
   "source": [
    "canonical_edge = canonical(edge)"
   ]
  },
  {
   "cell_type": "code",
   "execution_count": 67,
   "metadata": {},
   "outputs": [
    {
     "data": {
      "text/plain": [
       "DNA 7-mer:\n",
       "AGACGTG"
      ]
     },
     "execution_count": 67,
     "metadata": {},
     "output_type": "execute_result"
    }
   ],
   "source": [
    "src_node = canonical_edge.src.orientation ? canonical_edge.src.node : BioSequences.reverse_complement(canonical_edge.src.node)"
   ]
  },
  {
   "cell_type": "code",
   "execution_count": 68,
   "metadata": {},
   "outputs": [
    {
     "data": {
      "text/plain": [
       "DNA 7-mer:\n",
       "GACGTGG"
      ]
     },
     "execution_count": 68,
     "metadata": {},
     "output_type": "execute_result"
    }
   ],
   "source": [
    "dst_node = canonical_edge.dst.orientation ? canonical_edge.dst.node : BioSequences.reverse_complement(canonical_edge.dst.node)"
   ]
  },
  {
   "cell_type": "code",
   "execution_count": 69,
   "metadata": {},
   "outputs": [],
   "source": [
    "@assert BioSequences.LongSequence(src_node)[2:end] == BioSequences.LongSequence(dst_node)[1:end-1]"
   ]
  },
  {
   "cell_type": "code",
   "execution_count": 71,
   "metadata": {},
   "outputs": [
    {
     "data": {
      "text/plain": [
       "8nt DNA Sequence:\n",
       "AGACGTGG"
      ]
     },
     "execution_count": 71,
     "metadata": {},
     "output_type": "execute_result"
    }
   ],
   "source": [
    "seq = push!(BioSequences.LongSequence(src_node), last(dst_node))"
   ]
  },
  {
   "cell_type": "code",
   "execution_count": 74,
   "metadata": {},
   "outputs": [
    {
     "data": {
      "text/plain": [
       "true"
      ]
     },
     "execution_count": 74,
     "metadata": {},
     "output_type": "execute_result"
    }
   ],
   "source": [
    "slice == seq || slice == BioSequences.reverse_complement(seq)"
   ]
  },
  {
   "cell_type": "code",
   "execution_count": null,
   "metadata": {},
   "outputs": [],
   "source": []
  },
  {
   "cell_type": "code",
   "execution_count": null,
   "metadata": {},
   "outputs": [],
   "source": []
  },
  {
   "cell_type": "code",
   "execution_count": null,
   "metadata": {},
   "outputs": [],
   "source": []
  },
  {
   "cell_type": "code",
   "execution_count": null,
   "metadata": {},
   "outputs": [],
   "source": [
    "graph = first(graphs)"
   ]
  },
  {
   "cell_type": "code",
   "execution_count": null,
   "metadata": {},
   "outputs": [],
   "source": [
    "cypher_command = join([\"MERGE (:DNAMer {sequence: \\\"$(kmer)\\\"})\" for kmer in graph.kmers], '\\n')\n",
    "cypher(database_id, cypher_command)"
   ]
  },
  {
   "cell_type": "code",
   "execution_count": null,
   "metadata": {},
   "outputs": [],
   "source": [
    "# edge = {orientation: [true, true], evidence: [\"source-identifier_sequence-identifier_index_orientation\"]}\n",
    "# node = {sequence: \"\", evidence: [\"source-identifier_sequence-identifier_index_orientation\"]}"
   ]
  },
  {
   "cell_type": "code",
   "execution_count": null,
   "metadata": {},
   "outputs": [],
   "source": [
    "# cyper_commands = []\n",
    "ProgressMeter.@showprogress for edge_evidence in collect(graph.edge_evidence)\n",
    "    edge = first(edge_evidence)\n",
    "    evidence = last(edge_evidence)\n",
    "    src_kmer = graph.kmers[edge.src]\n",
    "    dst_kmer = graph.kmers[edge.dst]\n",
    "    possible_orientations = map(bool -> Eisenia.assess_path_orientations([edge.src, edge.dst], graph.kmers, bool), [true, false])\n",
    "    possible_orientations = filter!(x -> x != nothing, possible_orientations)\n",
    "    orientations = first(possible_orientations)\n",
    "    string_orienations = string(Int.(orientations))\n",
    "    cypher_command = \n",
    "    \"\"\"\n",
    "    MATCH (src:DNAMer {sequence: \"$(src_kmer)\"})\n",
    "    MATCH (dst:DNAMer {sequence: \"$(dst_kmer)\"})\n",
    "    MERGE (src)-[edge:EDGE {orientations: $(string_orienations)}]->(dst)\n",
    "    RETURN *\n",
    "    \"\"\"\n",
    "#     push!(cyper_commands, cypher_command)\n",
    "    cypher(database_id, cypher_command)\n",
    "end"
   ]
  },
  {
   "cell_type": "code",
   "execution_count": null,
   "metadata": {},
   "outputs": [],
   "source": [
    "# cyper_commands = []\n",
    "ProgressMeter.@showprogress for edge_evidence in collect(graph.edge_evidence)\n",
    "    edge = first(edge_evidence)\n",
    "    evidence = last(edge_evidence)\n",
    "    src_kmer = graph.kmers[edge.src]\n",
    "    dst_kmer = graph.kmers[edge.dst]\n",
    "    unique_sources = unique(map(e -> e.record_identifier, evidence))\n",
    "    for unique_source in unique_sources\n",
    "        cypher_command = \n",
    "        \"\"\"\n",
    "        MATCH (src:DNAMer {sequence: \"$(src_kmer)\"})\n",
    "        MATCH (dst:DNAMer {sequence: \"$(dst_kmer)\"})\n",
    "        MATCH (f:FASTA) WHERE f.identifier = \"$(unique_source)\"\n",
    "        MERGE (src)-[src_f:CONTAINED_IN]->(f)\n",
    "        MERGE (dst)-[dst_f:CONTAINED_IN]->(f)\n",
    "        RETURN *\n",
    "        \"\"\"\n",
    "        cypher(database_id, cypher_command)\n",
    "    end\n",
    "end"
   ]
  },
  {
   "cell_type": "code",
   "execution_count": null,
   "metadata": {},
   "outputs": [],
   "source": []
  }
 ],
 "metadata": {
  "kernelspec": {
   "display_name": "Julia 1.5.3",
   "language": "julia",
   "name": "julia-1.5"
  },
  "language_info": {
   "file_extension": ".jl",
   "mimetype": "application/julia",
   "name": "julia",
   "version": "1.5.3"
  }
 },
 "nbformat": 4,
 "nbformat_minor": 4
}
