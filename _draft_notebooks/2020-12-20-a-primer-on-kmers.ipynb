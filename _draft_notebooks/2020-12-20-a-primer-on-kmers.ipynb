{
 "cells": [
  {
   "cell_type": "markdown",
   "metadata": {},
   "source": [
    "---\n",
    "layout: post  \n",
    "---"
   ]
  },
  {
   "cell_type": "markdown",
   "metadata": {},
   "source": [
    "I'm a big believer in using kmers for genomics.\n",
    "I'd like to be able to make an all-encompassing post about why kmers are so useful and all of the different scenarios for which they can be helpful.\n",
    "That said, it would take a non-trivial amount of effort to produce and I'm not sure I could convey anything more clearly than what has been written in this [post](https://bioinfologics.github.io/post/2018/09/17/k-mer-counting-part-i-introduction/).\n",
    "Go check it out, I highly recommend it!"
   ]
  }
 ],
 "metadata": {
  "kernelspec": {
   "display_name": "Julia 1.5.3",
   "language": "julia",
   "name": "julia-1.5"
  },
  "language_info": {
   "file_extension": ".jl",
   "mimetype": "application/julia",
   "name": "julia",
   "version": "1.5.3"
  }
 },
 "nbformat": 4,
 "nbformat_minor": 4
}
