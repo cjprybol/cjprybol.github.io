{
 "cells": [
  {
   "cell_type": "markdown",
   "metadata": {},
   "source": [
    "---\n",
    "layout: post  \n",
    "---"
   ]
  },
  {
   "cell_type": "code",
   "execution_count": null,
   "metadata": {},
   "outputs": [],
   "source": [
    "import Pkg\n",
    "pkgs = [\n",
    "    \"DataStructures\",\n",
    "    \"BioSequences\",\n",
    "    \"LightGraphs\",\n",
    "    \"PlotlyJS\",\n",
    "    \"StatsBase\",\n",
    "    \"GraphRecipes\",\n",
    "    \"Plots\"\n",
    "]\n",
    "\n",
    "Pkg.add(pkgs)\n",
    "for pkg in pkgs\n",
    "    eval(Meta.parse(\"import $pkg\"))\n",
    "end\n",
    "\n",
    "Plots.plotlyjs()"
   ]
  },
  {
   "cell_type": "markdown",
   "metadata": {},
   "source": [
    "TODO:\n",
    "\n",
    "Plot the scaling of how to how to add edges to the graph based solely on the kmers present\n",
    "Show graph if we assume all edges could exist\n",
    "Show graph if we only list observed edges\n",
    "Talk about trade-off of not being able to make connections unless they exist, which I think is the conservative and correct methodology"
   ]
  },
  {
   "cell_type": "code",
   "execution_count": null,
   "metadata": {},
   "outputs": [],
   "source": [
    "genome = BioSequences.randdnaseq(10)"
   ]
  },
  {
   "cell_type": "code",
   "execution_count": null,
   "metadata": {},
   "outputs": [],
   "source": [
    "k = 3"
   ]
  },
  {
   "cell_type": "code",
   "execution_count": null,
   "metadata": {},
   "outputs": [],
   "source": [
    "kmer_counts = StatsBase.countmap(BioSequences.canonical(kmer.fw) for kmer in BioSequences.each(BioSequences.DNAMer{k}, genome))"
   ]
  },
  {
   "cell_type": "code",
   "execution_count": null,
   "metadata": {},
   "outputs": [],
   "source": [
    "kmers = DataStructures.OrderedDict(\n",
    "    kmer => (index = index, count = count) for (index, (kmer, count)) in enumerate(sort(kmer_counts))\n",
    ")"
   ]
  },
  {
   "cell_type": "code",
   "execution_count": null,
   "metadata": {},
   "outputs": [],
   "source": [
    "K = length(kmers)"
   ]
  },
  {
   "cell_type": "code",
   "execution_count": null,
   "metadata": {},
   "outputs": [],
   "source": [
    "graph = LightGraphs.SimpleGraph(K)"
   ]
  },
  {
   "cell_type": "code",
   "execution_count": null,
   "metadata": {},
   "outputs": [],
   "source": [
    "# # The scaling properties of looking at each kmer and seeing if any of it's neighbors are in\n",
    "# # the graph is linear whilst doing a combinatorial pairwise comparison is grows exponentially\n",
    "# for i in 0:31\n",
    "#     n = 2^i\n",
    "#     @show n\n",
    "#     # if we compare each kmer to all other kmers in the list\n",
    "#     @show (n-1)*(n)/2\n",
    "#     # if we evaluate each kmer to see if it's neighbors are in the graph\n",
    "#     @show 4*n\n",
    "#     println(\"\\n\")\n",
    "# end"
   ]
  },
  {
   "cell_type": "code",
   "execution_count": null,
   "metadata": {},
   "outputs": [],
   "source": [
    "graph = LightGraphs.SimpleGraph(K)\n",
    "# This may be wrong too. We shouldn't necessarily add edges just becuase they COULD exist\n",
    "# Maybe we want to only add edges when they DO exist\n",
    "for (index_a, kmer) in enumerate(kmers.keys)\n",
    "    for neighbor in BioSequences.neighbors(kmer)\n",
    "        canonical_neighbor = BioSequences.canonical(neighbor)\n",
    "        index_b = get(kmers, canonical_neighbor, (index = 0, count = 0)).index\n",
    "        if index_b != 0\n",
    "            LightGraphs.add_edge!(graph, LightGraphs.Edge(index_a, index_b))\n",
    "        end\n",
    "    end\n",
    "end\n",
    "GraphRecipes.graphplot(graph)"
   ]
  },
  {
   "cell_type": "code",
   "execution_count": null,
   "metadata": {},
   "outputs": [],
   "source": [
    "graph = LightGraphs.SimpleGraph(K)\n",
    "for i in 1:length(genome)-k\n",
    "    a_to_b_connection = genome[i:i+k]\n",
    "    a = BioSequences.canonical(BioSequences.DNAMer(a_to_b_connection[1:end-1]))\n",
    "    b = BioSequences.canonical(BioSequences.DNAMer(a_to_b_connection[2:end]))\n",
    "    a_index = kmers[a].index\n",
    "    b_index = kmers[b].index\n",
    "    edge = LightGraphs.Edge(a_index, b_index)\n",
    "    LightGraphs.add_edge!(graph, edge)\n",
    "end\n",
    "GraphRecipes.graphplot(graph)"
   ]
  }
 ],
 "metadata": {
  "kernelspec": {
   "display_name": "Julia 1.5.3",
   "language": "julia",
   "name": "julia-1.5"
  },
  "language_info": {
   "file_extension": ".jl",
   "mimetype": "application/julia",
   "name": "julia",
   "version": "1.5.3"
  }
 },
 "nbformat": 4,
 "nbformat_minor": 4
}
