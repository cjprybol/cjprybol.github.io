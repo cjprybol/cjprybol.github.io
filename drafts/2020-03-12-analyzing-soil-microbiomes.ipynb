{
 "cells": [
  {
   "cell_type": "markdown",
   "metadata": {},
   "source": [
    "---\n",
    "layout: post  \n",
    "title:  Analyzing Soil Microbiomes  \n",
    "date: 2020-03-12  \n",
    "author: Cameron Prybol  \n",
    "\n",
    "---"
   ]
  },
  {
   "cell_type": "code",
   "execution_count": null,
   "metadata": {},
   "outputs": [],
   "source": [
    "# Soil-Microbiome\n",
    "\n",
    "[Comparing unamended soil with soil enriched with fresh organic matter and pyrogenic organic matter](https://www.ncbi.nlm.nih.gov/biosample?term=%22geo_loc_name=USA:%20Mt.%20Pleasant%20research%20farm,%20Cornell%20University,%20New%20York%22[attr])\n",
    "\n",
    "Click link\n",
    "\n",
    "1. On page, click \"Send to:\"\n",
    "2. Under \"Choose Destintation\", select \"File\"\n",
    "3. Under \"Format\", choose \"Accessions List\"\n",
    "4. Click \"Create File\"\n",
    "\n",
    "5. Under \"Find related data\", next to \"Database:\", select \"SRA\"\n",
    "6. Click \"Find items\"\n",
    "\n",
    "1. On page, click \"Send to:\"\n",
    "2. Under \"Choose Destintation\", select \"File\"\n",
    "3. Under \"Format\", choose \"Summary\"\n",
    "4. repeat, but Under \"Format\", choose \"Accessions List\"\n",
    "\n",
    "- we should have three files now, `biosample_result.txt`, `SraAccList.txt`, and `sra_result.csv`\n",
    "- We will make a folder with a descriptive sample set ID `usa_mt-pleasant-research-farm_cornell-university_new-york`\n",
    "- Then place the downloaded files into this folder\n",
    "- `SraAccList.txt` has a blank line at end of file that I manually deleted with vi, but could also be handled programmatically in the future\n",
    "\n",
    "\n",
    "most software I need is already available pre-installed on SCG4. Add the following to ~/.bashrc\n",
    "```bash\n",
    "module load htslib\n",
    "module load samtools\n",
    "module load sratoolkit\n",
    "module load fastqc\n",
    "module load jellyfish\n",
    "module load spades\n",
    "```\n",
    "\n",
    "prefect downloads to ~/ncbi, and I only have 10Gb of storage there. So make an ncbi directory in $PI_HOME and then ln -s to that directly from within ~ to redirect ~/ncbi to $PI_HOME/ncbi\n",
    "\n",
    "```bash\n",
    "parallel prefetch {} :::: SraAccList.txt\n",
    "```\n",
    "\n",
    "```\n",
    "mkdir 1.FASTQ\n",
    "parallel fastq-dump --skip-technical --clip --read-filter pass --dumpbase --gzip --split-3 --outdir 1.FASTQ {} :::: SraAccList.txt\n",
    "```\n",
    "\n",
    "fastqc [-o output dir] -d -t seqfile1 seqfile2 .. seqfileN\n",
    "\n",
    "cutadapt?\n",
    "https://github.com/FelixKrueger/TrimGalore\n",
    "\n",
    "fastqc\n",
    "\n",
    "merge with multiqc?\n",
    "\n",
    "gunzip -c file.fastq.gz | jellyfish count -o file.jf -m ...\n",
    "jellyfish histo -o file_jf.hist -f file.jf"
   ]
  },
  {
   "cell_type": "markdown",
   "metadata": {},
   "source": [
    "```\n",
    "SRR6476469\n",
    "SRR6476619\n",
    "SRR6476620\n",
    "SRR6476646\n",
    "SRR6476659\n",
    "SRR6476660\n",
    "SRR6476661\n",
    "SRR6478609\n",
    "SRR6478672\n",
    "SRR6478735\n",
    "SRR6478736\n",
    "SRR6478752\n",
    "```"
   ]
  },
  {
   "cell_type": "code",
   "execution_count": 5,
   "metadata": {},
   "outputs": [
    {
     "data": {
      "text/plain": [
       "\"/home/jupyter-cjprybol/projects/2020-03-12-soil-microbiome\""
      ]
     },
     "execution_count": 5,
     "metadata": {},
     "output_type": "execute_result"
    }
   ],
   "source": [
    "BASE=\"$(homedir())/projects/2020-03-12-soil-microbiome\"\n",
    "if !isdir(BASE)\n",
    "    mkdir(BASE)\n",
    "end"
   ]
  }
 ],
 "metadata": {
  "kernelspec": {
   "display_name": "Julia 1.0.5",
   "language": "julia",
   "name": "julia-1.0"
  },
  "language_info": {
   "file_extension": ".jl",
   "mimetype": "application/julia",
   "name": "julia",
   "version": "1.0.5"
  }
 },
 "nbformat": 4,
 "nbformat_minor": 4
}
