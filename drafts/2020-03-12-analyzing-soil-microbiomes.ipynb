{
 "cells": [
  {
   "cell_type": "markdown",
   "metadata": {},
   "source": [
    "---\n",
    "layout: post  \n",
    "title:  Analyzing Soil Microbiomes  \n",
    "date: 2020-03-12  \n",
    "author: Cameron Prybol  \n",
    "\n",
    "---"
   ]
  },
  {
   "cell_type": "code",
   "execution_count": 1,
   "metadata": {},
   "outputs": [],
   "source": [
    "import Dates"
   ]
  },
  {
   "cell_type": "code",
   "execution_count": 2,
   "metadata": {},
   "outputs": [],
   "source": [
    "projects_dir = \"$(homedir())/projects\"\n",
    "if !isdir(projects_dir)\n",
    "    mkdir(projects_dir)\n",
    "end\n",
    "project_dir = \"$(projects_dir)/$(Dates.today())-soil-compost-analysis\"\n",
    "if !isdir(project_dir)\n",
    "    mkdir(project_dir)\n",
    "end\n",
    "cd(project_dir)"
   ]
  },
  {
   "cell_type": "markdown",
   "metadata": {},
   "source": [
    "# Soil-Microbiome\n",
    "\n",
    "[Comparing unamended soil with soil enriched with fresh organic matter and pyrogenic organic matter](https://www.ncbi.nlm.nih.gov/biosample?term=%22geo_loc_name=USA:%20Mt.%20Pleasant%20research%20farm,%20Cornell%20University,%20New%20York%22[attr])\n",
    "\n",
    "Click link\n",
    "\n",
    "1. On page, click \"Send to:\"\n",
    "2. Under \"Choose Destintation\", select \"File\"\n",
    "3. Under \"Format\", choose \"Accessions List\"\n",
    "4. Click \"Create File\"\n",
    "\n",
    "5. Under \"Find related data\", next to \"Database:\", select \"SRA\"\n",
    "6. Click \"Find items\"\n",
    "\n",
    "1. On page, click \"Send to:\"\n",
    "2. Under \"Choose Destintation\", select \"File\"\n",
    "3. Under \"Format\", choose \"Summary\"\n",
    "4. repeat, but Under \"Format\", choose \"Accessions List\"\n",
    "\n",
    "- we should have three files now, `biosample_result.txt`, `SraAccList.txt`, and `sra_result.csv`\n",
    "- We will make a folder with a descriptive sample set ID `usa_mt-pleasant-research-farm_cornell-university_new-york`\n",
    "- Then place the downloaded files into this folder\n",
    "- `SraAccList.txt` has a blank line at end of file that I manually deleted with vi, but could also be handled programmatically in the future"
   ]
  },
  {
   "cell_type": "markdown",
   "metadata": {},
   "source": [
    "```bash\n",
    "parallel prefetch {} :::: SraAccList.txt\n",
    "```"
   ]
  },
  {
   "cell_type": "markdown",
   "metadata": {},
   "source": [
    "```bash\n",
    "parallel fastq-dump --dumpbase --gzip --split-files --outdir {} {} :::: SraAccList.txt\n",
    "```"
   ]
  },
  {
   "cell_type": "code",
   "execution_count": null,
   "metadata": {},
   "outputs": [],
   "source": [
    "# grab first sample\n",
    "ID=$(ls -1 | perl -pe 's/_pass_[12]\\.fastq\\.gz//g' | sort -u | head -n1)\n",
    "OUT_DIR=$BASE/$ID\n",
    "mkdir -p $OUT_DIR\n",
    "echo $OUT_DIR"
   ]
  },
  {
   "cell_type": "code",
   "execution_count": null,
   "metadata": {},
   "outputs": [],
   "source": [
    "FORWARD=\"$ID\"_pass_1.fastq.gz\n",
    "REVERSE=\"$ID\"_pass_2.fastq.gz"
   ]
  },
  {
   "cell_type": "code",
   "execution_count": null,
   "metadata": {},
   "outputs": [],
   "source": [
    "# initialize a directory that will house all assembly related information, qc, and reports\n",
    "mkdir $OUT_DIR/fastqc_pre_filtering\n",
    "# run fastqc quality report on raw, pre-filtered reads\n",
    "fastqc --outdir $OUT_DIR/fastqc_pre_filtering $FORWARD $REVERSE"
   ]
  },
  {
   "cell_type": "code",
   "execution_count": null,
   "metadata": {},
   "outputs": [],
   "source": [
    "# perform quality and adapter trimming\n",
    "trim_galore --output_dir $OUT_DIR/trim_galore --paired $FORWARD $REVERSE"
   ]
  },
  {
   "cell_type": "code",
   "execution_count": null,
   "metadata": {},
   "outputs": [],
   "source": [
    "# re-evaluate the data quality post trimming\n",
    "TRIMMED_FORWARD=$OUT_DIR/trim_galore/$(basename $FORWARD | perl -pe 's/(.*?)\\.(fastq|fq).*$/$1/')_val_1.fq.gz\n",
    "TRIMMED_REVERSE=$OUT_DIR/trim_galore/$(basename $REVERSE | perl -pe 's/(.*?)\\.(fastq|fq).*$/$1/')_val_2.fq.gz\n",
    "mkdir $OUT_DIR/fastqc_post_filtering\n",
    "fastqc --outdir $OUT_DIR/fastqc_post_filtering $TRIMMED_FORWARD $TRIMMED_REVERSE"
   ]
  },
  {
   "cell_type": "code",
   "execution_count": null,
   "metadata": {},
   "outputs": [],
   "source": [
    "# perform metaspades assembly as well, so we can compare which one assembles better\n",
    "metaspades.py -t $(nproc) -o $OUT_DIR/metaspades -1 $TRIMMED_FORWARD -2 $TRIMMED_REVERSE"
   ]
  },
  {
   "cell_type": "code",
   "execution_count": null,
   "metadata": {},
   "outputs": [],
   "source": [
    "# use quast to generate assembly statistic reports\n",
    "quast.py --output-dir $OUT_DIR/metaspades/quast --min-contig 1 $OUT_DIR/metaspades/scaffolds.fasta"
   ]
  },
  {
   "cell_type": "code",
   "execution_count": null,
   "metadata": {},
   "outputs": [],
   "source": [
    "# run bwa on the raw reads to assess how well the assembly agrees with the raw data\n",
    "bwa index $OUT_DIR/metaspades/scaffolds.fasta\n",
    "mkdir $OUT_DIR/metaspades/alignments\n",
    "bwa mem -t $(nproc) $OUT_DIR/metaspades/scaffolds.fasta $FORWARD $REVERSE | samtools view -buh - | samtools sort - > $OUT_DIR/metaspades/alignments/scaffolds.fasta.bam"
   ]
  },
  {
   "cell_type": "code",
   "execution_count": null,
   "metadata": {},
   "outputs": [],
   "source": [
    "# run qualimap to generate reports on read-mapping quality\n",
    "qualimap bamqc -nt $(nproc) -bam $OUT_DIR/metaspades/alignments/scaffolds.fasta.bam -outdir $OUT_DIR/metaspades/qualimap"
   ]
  },
  {
   "cell_type": "code",
   "execution_count": null,
   "metadata": {},
   "outputs": [],
   "source": [
    "# run multiqc to compile a meta-report, which some people may prefer over the individual reports\n",
    "multiqc --outdir $OUT_DIR/metaspades/multiqc $OUT_DIR/metaspades"
   ]
  },
  {
   "cell_type": "code",
   "execution_count": null,
   "metadata": {},
   "outputs": [],
   "source": [
    "# generate a bandage plot of the assembly graph\n",
    "mkdir $OUT_DIR/metaspades/bandage\n",
    "/home/jovyan/Bandage image $OUT_DIR/metaspades/assembly_graph_with_scaffolds.gfa $OUT_DIR/metaspades/bandage/bandage.jpg"
   ]
  },
  {
   "cell_type": "code",
   "execution_count": null,
   "metadata": {},
   "outputs": [],
   "source": [
    "##PRODIGAL\n",
    "mkdir -p $OUT_DIR/prodigal\n",
    "prodigal -i $OUT_DIR/metaspades/scaffolds.fasta -f gff -o $OUT_DIR/prodigal/prodigal.gff &> /dev/null\n",
    "\n",
    "grep -v \"#\" $OUT_DIR/prodigal/prodigal.gff \\\n",
    "    | awk '{OFS=\"\\t\"}{print $1, $4-1, $5, \".\", \".\", $7}' \\\n",
    "    > $OUT_DIR/prodigal/prodigal.gff.bed"
   ]
  },
  {
   "cell_type": "code",
   "execution_count": null,
   "metadata": {},
   "outputs": [],
   "source": [
    "BED=$OUT_DIR/prodigal/prodigal.gff.bed"
   ]
  },
  {
   "cell_type": "code",
   "execution_count": null,
   "metadata": {},
   "outputs": [],
   "source": [
    "bedtools getfasta -s -fi $OUT_DIR/metaspades/scaffolds.fasta -bed $BED \\\n",
    "    > $BED.fna"
   ]
  },
  {
   "cell_type": "code",
   "execution_count": null,
   "metadata": {},
   "outputs": [],
   "source": [
    "translate6frames.sh \\\n",
    "    -Xmx2g \\\n",
    "    in=$BED.fna \\\n",
    "    out=stdout.fa 'frames=1' \\\n",
    "    | awk '{if ($1 ~ /^>/) {gsub(\" +\",\"|\"); print $0} else {print $0}}' \\\n",
    "    > $BED.fna.faa"
   ]
  },
  {
   "cell_type": "code",
   "execution_count": null,
   "metadata": {},
   "outputs": [],
   "source": [
    "time diamond blastp --threads $(nproc) --db ~/databases/refseq-protein-diamond --query prodigal.gff.bed.fna.faa --out prodigal.gff.bed.fna.faa.diamond --evalue 0.001"
   ]
  },
  {
   "cell_type": "code",
   "execution_count": null,
   "metadata": {},
   "outputs": [],
   "source": [
    "while IFS= read -r line\n",
    "do\n",
    "    CONTIG=$(echo $line | awk '{print $1}')\n",
    "    CONTIG_SIZE=$(bioawk -c fastx '{ print $name, length($seq) }' $OUT_DIR/metaspades/scaffolds.fasta | grep -m 1 \"$CONTIG\" | awk '{print $2}')\n",
    "    START=$(echo $line | awk '{print $2}')\n",
    "    STOP=$(echo $line | awk '{print $3}')\n",
    "    STRAND=$(echo $line | awk '{print $6}')\n",
    "    NAME=$(grep -m 1 \"^$CONTIG:$START-$STOP\" $BED.fna.faa.blastp | awk '{print $2}')\n",
    "    SCORE=$(grep -m 1 \"^$CONTIG:$START-$STOP\" $BED.fna.faa.blastp | awk '{print $12}')\n",
    "    # Filter out any wrap-around calls made by glimmer\n",
    "    if [ $STOP -le $CONTIG_SIZE ];\n",
    "    then\n",
    "        echo -e \"$CONTIG\\t$START\\t$STOP\\t$NAME\\t$SCORE\\t$STRAND\"\n",
    "    fi\n",
    "done <$BED.filtered.bed | sort -k 1,1 -k2,2n > $BED.filtered.bed.fna.faa.blastp.bed"
   ]
  },
  {
   "cell_type": "code",
   "execution_count": null,
   "metadata": {},
   "outputs": [],
   "source": [
    "```\n",
    "mkdir 1.FASTQ\n",
    "parallel fastq-dump --skip-technical --clip --read-filter pass --dumpbase --gzip --split-3 --outdir 1.FASTQ {} :::: SraAccList.txt\n",
    "```\n",
    "\n",
    "fastqc [-o output dir] -d -t seqfile1 seqfile2 .. seqfileN\n",
    "\n",
    "\n",
    "https://github.com/FelixKrueger/TrimGalore\n",
    "\n",
    "fastqc\n",
    "\n",
    "gunzip -c file.fastq.gz | jellyfish count -o file.jf -m ...\n",
    "jellyfish histo -o file_jf.hist -f file.jf"
   ]
  },
  {
   "cell_type": "markdown",
   "metadata": {},
   "source": []
  },
  {
   "cell_type": "code",
   "execution_count": null,
   "metadata": {},
   "outputs": [],
   "source": [
    "BASE=\"$(homedir())/projects/2020-03-12-soil-microbiome\"\n",
    "if !isdir(BASE)\n",
    "    mkdir(BASE)\n",
    "end"
   ]
  }
 ],
 "metadata": {
  "kernelspec": {
   "display_name": "Julia 1.0.5",
   "language": "julia",
   "name": "julia-1.0"
  },
  "language_info": {
   "file_extension": ".jl",
   "mimetype": "application/julia",
   "name": "julia",
   "version": "1.0.5"
  }
 },
 "nbformat": 4,
 "nbformat_minor": 4
}
