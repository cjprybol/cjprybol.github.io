{
 "cells": [
  {
   "cell_type": "markdown",
   "metadata": {},
   "source": [
    "---\n",
    "layout: post  \n",
    "title:  Analyzing Soil Microbiomes  \n",
    "date: 2020-03-12  \n",
    "author: Cameron Prybol  \n",
    "\n",
    "---"
   ]
  },
  {
   "cell_type": "markdown",
   "metadata": {},
   "source": [
    "```\n",
    "SRR6476469\n",
    "SRR6476619\n",
    "SRR6476620\n",
    "SRR6476646\n",
    "SRR6476659\n",
    "SRR6476660\n",
    "SRR6476661\n",
    "SRR6478609\n",
    "SRR6478672\n",
    "SRR6478735\n",
    "SRR6478736\n",
    "SRR6478752\n",
    "```"
   ]
  },
  {
   "cell_type": "code",
   "execution_count": 5,
   "metadata": {},
   "outputs": [
    {
     "data": {
      "text/plain": [
       "\"/home/jupyter-cjprybol/projects/2020-03-12-soil-microbiome\""
      ]
     },
     "execution_count": 5,
     "metadata": {},
     "output_type": "execute_result"
    }
   ],
   "source": [
    "BASE=\"$(homedir())/projects/2020-03-12-soil-microbiome\"\n",
    "if !isdir(BASE)\n",
    "    mkdir(BASE)\n",
    "end"
   ]
  }
 ],
 "metadata": {
  "kernelspec": {
   "display_name": "Julia 1.0.5",
   "language": "julia",
   "name": "julia-1.0"
  },
  "language_info": {
   "file_extension": ".jl",
   "mimetype": "application/julia",
   "name": "julia",
   "version": "1.0.5"
  }
 },
 "nbformat": 4,
 "nbformat_minor": 4
}
