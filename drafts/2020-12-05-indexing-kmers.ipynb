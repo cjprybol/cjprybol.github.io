{
 "cells": [
  {
   "cell_type": "markdown",
   "metadata": {},
   "source": [
    "---\n",
    "layout: post  \n",
    "title: Indexing Kmers  \n",
    "date: 2020-12-05\n",
    "author: Cameron Prybol  \n",
    "\n",
    "---"
   ]
  },
  {
   "cell_type": "markdown",
   "metadata": {},
   "source": [
    "- Assume that you have a known kmer length, k, and a known alphabet (either DNA nucleotides ACGT or Amino Acids)\n",
    "- Can store kmers as:\n",
    "    - their actual kmer, which will be a\n",
    "        - tuple of characters\n",
    "        - static vector of characters\n",
    "    - their integer index\n",
    "    - sparse bit-vector\n",
    "\n",
    "objective:\n",
    "- given a random kmer see if:\n",
    "    - kmer is in list\n",
    "        - which has fastest search time?"
   ]
  },
  {
   "cell_type": "code",
   "execution_count": 1,
   "metadata": {},
   "outputs": [
    {
     "name": "stdout",
     "output_type": "stream",
     "text": [
      "\u001b[32m\u001b[1m  Updating\u001b[22m\u001b[39m registry at `~/.julia/registries/General`\n",
      "\u001b[32m\u001b[1m  Updating\u001b[22m\u001b[39m git-repo `https://github.com/JuliaRegistries/General.git`\n",
      "\u001b[?25l\u001b[2K\u001b[?25h\u001b[32m\u001b[1m Resolving\u001b[22m\u001b[39m package versions...\n",
      "\u001b[32m\u001b[1m  Updating\u001b[22m\u001b[39m `~/.julia/environments/v1.0/Project.toml`\n",
      "\u001b[90m [no changes]\u001b[39m\n",
      "\u001b[32m\u001b[1m  Updating\u001b[22m\u001b[39m `~/.julia/environments/v1.0/Manifest.toml`\n",
      "\u001b[90m [no changes]\u001b[39m\n"
     ]
    },
    {
     "name": "stderr",
     "output_type": "stream",
     "text": [
      "┌ Info: Recompiling stale cache file /home/jupyter-cjprybol/.julia/compiled/v1.0/BenchmarkTools/ZXPQo.ji for BenchmarkTools [6e4b80f9-dd63-53aa-95a3-0cdb28fa8baf]\n",
      "└ @ Base loading.jl:1190\n"
     ]
    }
   ],
   "source": [
    "import Pkg\n",
    "pkgs = [\n",
    "    \"BenchmarkTools\",\n",
    "    \"BioSequences\"\n",
    "]\n",
    "Pkg.add(pkgs)\n",
    "for pkg in pkgs\n",
    "    eval(Meta.parse(\"import $pkg\"))\n",
    "end"
   ]
  },
  {
   "cell_type": "code",
   "execution_count": null,
   "metadata": {
    "jupyter": {
     "source_hidden": true
    }
   },
   "outputs": [],
   "source": [
    "# # these aren't in the order that I'd like\n",
    "# kmers = Iterators.product([ALPHABET for i in 1:k]...)\n",
    "# vec(collect(kmers))"
   ]
  },
  {
   "cell_type": "code",
   "execution_count": 176,
   "metadata": {},
   "outputs": [
    {
     "data": {
      "text/plain": [
       "4-element Array{Char,1}:\n",
       " 'A'\n",
       " 'C'\n",
       " 'G'\n",
       " 'T'"
      ]
     },
     "execution_count": 176,
     "metadata": {},
     "output_type": "execute_result"
    }
   ],
   "source": [
    "ALPHABET = ['A', 'C', 'G', 'T']"
   ]
  },
  {
   "cell_type": "code",
   "execution_count": 172,
   "metadata": {},
   "outputs": [
    {
     "data": {
      "text/plain": [
       "3"
      ]
     },
     "execution_count": 172,
     "metadata": {},
     "output_type": "execute_result"
    }
   ],
   "source": [
    "k = 3"
   ]
  },
  {
   "cell_type": "code",
   "execution_count": 246,
   "metadata": {},
   "outputs": [
    {
     "data": {
      "text/plain": [
       "index_to_kmer (generic function with 2 methods)"
      ]
     },
     "execution_count": 246,
     "metadata": {},
     "output_type": "execute_result"
    }
   ],
   "source": [
    "function index_to_kmer(index::Int, k::Int, alphabet::Vector{Char})\n",
    "    @assert k > 0 \"invalid k: $k\"\n",
    "    alphabet_size = length(alphabet)\n",
    "    max_index = alphabet_size^k\n",
    "    @assert 0 < index <= max_index \"invalid index: $index not within 1:$(max_index)\"\n",
    "    kmer = Vector{eltype(alphabet)}(undef, k)\n",
    "    for i in k:-1:1\n",
    "        divisor = alphabet_size^(i-1)\n",
    "        alphabet_index = Int(ceil(index/divisor))\n",
    "        index = index % divisor\n",
    "        if alphabet_index == 0\n",
    "            alphabet_index = alphabet_size\n",
    "        end\n",
    "        kmer[length(kmer)-i+1] = alphabet[alphabet_index]\n",
    "    end\n",
    "    return kmer\n",
    "end"
   ]
  },
  {
   "cell_type": "code",
   "execution_count": 248,
   "metadata": {},
   "outputs": [
    {
     "name": "stdout",
     "output_type": "stream",
     "text": [
      "1\tAAAtrue\n",
      "2\tAACtrue\n",
      "3\tAAGtrue\n",
      "4\tAATtrue\n",
      "5\tACAtrue\n",
      "6\tACCtrue\n",
      "7\tACGtrue\n",
      "8\tACTtrue\n",
      "9\tAGAtrue\n",
      "10\tAGCtrue\n",
      "11\tAGGtrue\n",
      "12\tAGTtrue\n",
      "13\tATAtrue\n",
      "14\tATCtrue\n",
      "15\tATGtrue\n",
      "16\tATTtrue\n",
      "17\tCAAtrue\n",
      "18\tCACtrue\n",
      "19\tCAGtrue\n",
      "20\tCATtrue\n",
      "21\tCCAtrue\n",
      "22\tCCCtrue\n",
      "23\tCCGtrue\n",
      "24\tCCTtrue\n",
      "25\tCGAtrue\n",
      "26\tCGCtrue\n",
      "27\tCGGtrue\n",
      "28\tCGTtrue\n",
      "29\tCTAtrue\n",
      "30\tCTCtrue\n",
      "31\tCTGtrue\n",
      "32\tCTTtrue\n",
      "33\tGAAtrue\n",
      "34\tGACtrue\n",
      "35\tGAGtrue\n",
      "36\tGATtrue\n",
      "37\tGCAtrue\n",
      "38\tGCCtrue\n",
      "39\tGCGtrue\n",
      "40\tGCTtrue\n",
      "41\tGGAtrue\n",
      "42\tGGCtrue\n",
      "43\tGGGtrue\n",
      "44\tGGTtrue\n",
      "45\tGTAtrue\n",
      "46\tGTCtrue\n",
      "47\tGTGtrue\n",
      "48\tGTTtrue\n",
      "49\tTAAtrue\n",
      "50\tTACtrue\n",
      "51\tTAGtrue\n",
      "52\tTATtrue\n",
      "53\tTCAtrue\n",
      "54\tTCCtrue\n",
      "55\tTCGtrue\n",
      "56\tTCTtrue\n",
      "57\tTGAtrue\n",
      "58\tTGCtrue\n",
      "59\tTGGtrue\n",
      "60\tTGTtrue\n",
      "61\tTTAtrue\n",
      "62\tTTCtrue\n",
      "63\tTTGtrue\n",
      "64\tTTTtrue\n"
     ]
    }
   ],
   "source": [
    "i = 0\n",
    "for c1 in ALPHABET\n",
    "    for c2 in ALPHABET\n",
    "        for c3 in ALPHABET\n",
    "            i += 1\n",
    "            is_match = [c1, c2, c3] == index_to_kmer(i, k, ALPHABET)\n",
    "            println(i, \"\\t\", c1, c2, c3, is_match)\n",
    "        end\n",
    "    end\n",
    "end"
   ]
  }
 ],
 "metadata": {
  "kernelspec": {
   "display_name": "Julia 1.0.5",
   "language": "julia",
   "name": "julia-1.0"
  },
  "language_info": {
   "file_extension": ".jl",
   "mimetype": "application/julia",
   "name": "julia",
   "version": "1.0.5"
  }
 },
 "nbformat": 4,
 "nbformat_minor": 4
}
