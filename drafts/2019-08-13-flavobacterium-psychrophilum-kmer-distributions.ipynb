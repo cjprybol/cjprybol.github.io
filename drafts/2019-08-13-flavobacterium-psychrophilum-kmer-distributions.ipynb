{
 "cells": [
  {
   "cell_type": "markdown",
   "metadata": {},
   "source": [
    "---\n",
    "layout: post  \n",
    "title: Flavobacterium psychrophilum Kmer Distributions  \n",
    "date: 2019-08-13  \n",
    "author: Cameron Prybol  \n",
    "\n",
    "---"
   ]
  },
  {
   "cell_type": "markdown",
   "metadata": {},
   "source": [
    "Having looked at the kmer distributions of a randomly selected [virus](/norwalk-virus-kmer-distributions.html) and [phage](/chlamydia-phage-chp2-kmer-distributions.html) from RefSeq in previous posts, we'll now look at a bacterium: Flavobacterium psychrophilum\n",
    "\n",
    "```bash\n",
    "FASTA=GCF_000064305.2_ASM6430v2_genomic.fna\n",
    "K_RANGE=\"7 11 13 17 19 23 29 31\"\n",
    "parallel Eisenia\\ stream-kmers\\ --k\\ \\{1\\}\\ --fasta\\ $FASTA.gz\\ \\|\\ LC_ALL=C\\ sort\\ --temporary-directory\\ \\.\\ --compress-program\\ gzip \\|\\ uniq\\ --count\\ \\| gzip\\ \\>\\ $FASTA.K\\{1\\}.counts.gz ::: $K_RANGE\n",
    "parallel gzip\\ --decompress\\ --stdout\\ $FASTA.K\\{1\\}.counts.gz\\ \\|\\ awk\\ \\'\\{print\\ \\$1\\}\\'\\ \\|\\ LC_ALL=C\\ sort\\ --numeric\\ \\|\\ uniq\\ --count\\ \\>\\ $FASTA.K\\{1\\}.counts.histogram ::: $K_RANGE\n",
    "parallel Eisenia\\ plot\\ histogram\\ --histogram\\ $FASTA.K\\{1\\}.counts.histogram ::: $K_RANGE\n",
    "mv $FASTA.K*.counts.histogram.svg ../../assets/images/\n",
    "```\n",
    "\n",
    "![](../assets/images/GCF_000064305.2_ASM6430v2_genomic.fna.K7.counts.histogram.svg)\n",
    "![](../assets/images/GCF_000064305.2_ASM6430v2_genomic.fna.K11.counts.histogram.svg)\n",
    "![](../assets/images/GCF_000064305.2_ASM6430v2_genomic.fna.K13.counts.histogram.svg)\n",
    "![](../assets/images/GCF_000064305.2_ASM6430v2_genomic.fna.K17.counts.histogram.svg)\n",
    "![](../assets/images/GCF_000064305.2_ASM6430v2_genomic.fna.K19.counts.histogram.svg)\n",
    "![](../assets/images/GCF_000064305.2_ASM6430v2_genomic.fna.K23.counts.histogram.svg)\n",
    "![](../assets/images/GCF_000064305.2_ASM6430v2_genomic.fna.K29.counts.histogram.svg)\n",
    "![](../assets/images/GCF_000064305.2_ASM6430v2_genomic.fna.K31.counts.histogram.svg)\n",
    "\n",
    "Again, we can see a convergence to a log-log linear relationship, this time starting at k-lengths >= 11"
   ]
  }
 ],
 "metadata": {
  "kernelspec": {
   "display_name": "Julia 1.1.0",
   "language": "julia",
   "name": "julia-1.1"
  },
  "language_info": {
   "file_extension": ".jl",
   "mimetype": "application/julia",
   "name": "julia",
   "version": "1.1.0"
  }
 },
 "nbformat": 4,
 "nbformat_minor": 2
}
