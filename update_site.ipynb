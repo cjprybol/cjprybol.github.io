{
 "cells": [
  {
   "cell_type": "code",
   "execution_count": null,
   "metadata": {},
   "outputs": [],
   "source": [
    "begin_codeblock_regex = r\"^```(.+)$\"\n",
    "end_codeblock_regex = r\"^```$\"\n",
    "\n",
    "problem_lines = [\n",
    "#     \"Unable to load WebIO. Please make sure WebIO works for your Jupyter client.\",\n",
    "#     \"<!DOCTYPE html>\",\n",
    "#     \"For troubleshooting, please see <a href=\\\"https://juliagizmos.github.io/WebIO.jl/latest/providers/ijulia/\\\">\",\n",
    "#     \"the WebIO/IJulia documentation</a>.\"\n",
    "#     \"display(p)\"\n",
    "]\n",
    "\n",
    "target_directory = \"_posts\"\n",
    "# clear out any existing content\n",
    "rm(target_directory, recursive=true)\n",
    "mkpath(target_directory)\n",
    "\n",
    "notebooks_directory = target_directory[1:end-1] * \"_notebooks\"\n",
    "\n",
    "notebooks = filter(x -> occursin(r\".+\\.ipynb$\", x), readdir(notebooks_directory))\n",
    "for notebook in notebooks\n",
    "    target_file = \"$target_directory/\" * replace(notebook, r\"\\.ipynb$\" => \".md\")\n",
    "    open(target_file, \"w\") do io\n",
    "        for line in eachline(`jupyter nbconvert --to markdown $notebooks_directory/$notebook --stdout`)\n",
    "            if !any(x -> occursin(x, line), problem_lines)\n",
    "                println(io, line)                \n",
    "            end\n",
    "        end  \n",
    "    end\n",
    "end\n",
    "if isinteractive()\n",
    "    run(`jupyter nbconvert --to script update_site.ipynb`)\n",
    "end"
   ]
  }
 ],
 "metadata": {
  "kernelspec": {
   "display_name": "Julia 1.5.3",
   "language": "julia",
   "name": "julia-1.5"
  },
  "language_info": {
   "file_extension": ".jl",
   "mimetype": "application/julia",
   "name": "julia",
   "version": "1.5.3"
  }
 },
 "nbformat": 4,
 "nbformat_minor": 4
}
