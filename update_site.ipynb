{
 "cells": [
  {
   "cell_type": "code",
   "execution_count": null,
   "metadata": {},
   "outputs": [],
   "source": [
    "begin_codeblock_regex = r\"^```(.+)$\"\n",
    "end_codeblock_regex = r\"^```$\""
   ]
  },
  {
   "cell_type": "code",
   "execution_count": null,
   "metadata": {},
   "outputs": [],
   "source": [
    "for target_directory in (\"_posts\", \"_drafts\")\n",
    "    notebooks_directory = target_directory[1:end-1] * \"_notebooks\"\n",
    "    notebooks = filter(x -> occursin(r\".+\\.ipynb$\", x), readdir(notebooks_directory))\n",
    "    for notebook in notebooks\n",
    "        target_file = \"$target_directory/\" * replace(notebook, r\"\\.ipynb$\" => \".md\")\n",
    "        open(target_file, \"w\") do io\n",
    "            for line in eachline(`jupyter nbconvert --to markdown $notebooks_directory/$notebook --stdout`)\n",
    "                if occursin(begin_codeblock_regex, line)\n",
    "                    line = \"{% highlight \" * match(begin_codeblock_regex, line).captures[1] * \" %}\"\n",
    "                elseif occursin(end_codeblock_regex, line)\n",
    "                    line = \"{% endhighlight %}\"\n",
    "                end\n",
    "                println(io, line)\n",
    "            end  \n",
    "        end\n",
    "    end\n",
    "end"
   ]
  },
  {
   "cell_type": "code",
   "execution_count": null,
   "metadata": {},
   "outputs": [],
   "source": [
    "run(`jupyter nbconvert --to script update_site.ipynb`)"
   ]
  }
 ],
 "metadata": {
  "kernelspec": {
   "display_name": "Julia 1.5.3",
   "language": "julia",
   "name": "julia-1.5"
  },
  "language_info": {
   "file_extension": ".jl",
   "mimetype": "application/julia",
   "name": "julia",
   "version": "1.5.3"
  }
 },
 "nbformat": 4,
 "nbformat_minor": 4
}
