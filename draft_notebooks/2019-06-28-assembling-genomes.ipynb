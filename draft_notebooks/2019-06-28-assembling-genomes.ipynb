{
 "cells": [
  {
   "cell_type": "markdown",
   "metadata": {},
   "source": [
    "---\n",
    "layout: post  \n",
    "title:  Assembling Genomes  \n",
    "date:   2019-06-28  \n",
    "\n",
    "---\n",
    "\n",
    "If we want to use DNA to identify microbial species and their relative quantities, we need to be be able to read their genomes and count how many of each genome we find in the sample. Ideally, we would have the technology to read entire genomes from beginning to end without making any errors. While our technology is rapidly approaching this level of capability, we are not there yet.\n",
    "\n",
    "If we can't read genomes from beginning to end, then we need to be able to take the short fragments that we can read and stitch them together into the original, full length genome. We do this by looking for sequences of DNA that are the same or nearly the same and join them together via the overlap."
   ]
  },
  {
   "cell_type": "code",
   "execution_count": 11,
   "metadata": {},
   "outputs": [],
   "source": [
    "using BioSequences\n",
    "using BioAlignments\n",
    "using Random\n",
    "Random.seed!(3);"
   ]
  },
  {
   "cell_type": "markdown",
   "metadata": {},
   "source": [
    "Let's simulate a genome of 10 DNA base-pairs"
   ]
  },
  {
   "cell_type": "code",
   "execution_count": 12,
   "metadata": {},
   "outputs": [
    {
     "data": {
      "text/plain": [
       "10nt DNA Sequence:\n",
       "TTTTAGAATG"
      ]
     },
     "execution_count": 12,
     "metadata": {},
     "output_type": "execute_result"
    }
   ],
   "source": [
    "genome = randdnaseq(10)"
   ]
  },
  {
   "cell_type": "markdown",
   "metadata": {},
   "source": [
    "Now, let's pretend that we can only read DNA sequences 7 nucleotides at a time. And to keep the example super simple, we'll pretend we first read from the beginning to the 7th base, and from the 4rd base until the end."
   ]
  },
  {
   "cell_type": "code",
   "execution_count": 13,
   "metadata": {},
   "outputs": [
    {
     "data": {
      "text/plain": [
       "7nt DNA Sequence:\n",
       "TTTTAGA"
      ]
     },
     "execution_count": 13,
     "metadata": {},
     "output_type": "execute_result"
    }
   ],
   "source": [
    "fragment_1 = genome[1:7]"
   ]
  },
  {
   "cell_type": "code",
   "execution_count": 15,
   "metadata": {},
   "outputs": [
    {
     "data": {
      "text/plain": [
       "7nt DNA Sequence:\n",
       "TAGAATG"
      ]
     },
     "execution_count": 15,
     "metadata": {},
     "output_type": "execute_result"
    }
   ],
   "source": [
    "fragment_2 = genome[4:end]"
   ]
  },
  {
   "cell_type": "markdown",
   "metadata": {},
   "source": [
    "We can see that these fragments overlap at the end of fragment_1 and the beginning of fragment_2 with the nucleotides 'TAGA'"
   ]
  },
  {
   "cell_type": "code",
   "execution_count": 33,
   "metadata": {},
   "outputs": [
    {
     "name": "stdout",
     "output_type": "stream",
     "text": [
      "TTTTAGA---\n",
      "---TAGAATG\n"
     ]
    }
   ],
   "source": [
    "println(fragment_1, repeat('-', 3))\n",
    "println(repeat('-', 3), fragment_2)"
   ]
  },
  {
   "cell_type": "code",
   "execution_count": 65,
   "metadata": {},
   "outputs": [
    {
     "data": {
      "text/plain": [
       "PairwiseAlignmentResult{Int64,BioSequence{DNAAlphabet{4}},BioSequence{DNAAlphabet{4}}}:\n",
       "  score: 4\n",
       "  seq: 1 TTTTAGA--- 7\n",
       "            ||||   \n",
       "  ref: 0 ---TAGAATG 7\n"
      ]
     },
     "execution_count": 65,
     "metadata": {},
     "output_type": "execute_result"
    }
   ],
   "source": [
    "pairalign(OverlapAlignment(), fragment_1, fragment_2, AffineGapScoreModel(match=1, mismatch=-1, gap_open=-1, gap_extend=-1))"
   ]
  },
  {
   "cell_type": "markdown",
   "metadata": {},
   "source": [
    "If we are confident in the overlap, we can merge the two fragments into one via the overlap"
   ]
  },
  {
   "cell_type": "code",
   "execution_count": 36,
   "metadata": {},
   "outputs": [
    {
     "data": {
      "text/plain": [
       "true"
      ]
     },
     "execution_count": 36,
     "metadata": {},
     "output_type": "execute_result"
    }
   ],
   "source": [
    "fragment_1 * fragment_2[end-2:end] == genome"
   ]
  },
  {
   "cell_type": "markdown",
   "metadata": {},
   "source": [
    "This overly simplistic example shows the key idea of assembling shorter fragments into longer genomes. Another key question is to decide how long of a fragment we need to have before we feel confident that the overlap is not due to random chance."
   ]
  },
  {
   "cell_type": "markdown",
   "metadata": {},
   "source": [
    "If we are sequencing a single organism, the minimum length $l$ of an overlap that would be desired before being confident enough to merge overlapping fragments would be $l = log_4(\\text{genome length})$. The idea is that if there are 4 nucleotides, A C G & T, then the combinatorial likelihood that two fragments of unrelated DNA overlap by chance is inversely proportional to $4^l$. If $4^l$ is greater than the length of the genome, then the fragments wouldn't be expected to be the same by chance. Unfortunately this doesn't work out for many eukaryotic genomes that have been found to contain long repeats up to thousands of DNA nucleotide in length, but it's a good starting point nonetheless. The genome length of a single organism can be estimated by pairing copy number information from a [karyotype](https://en.wikipedia.org/wiki/Karyotype) with the mass of DNA obtained per cell.\n",
    "\n",
    "So for example, if we have a genome of 1,000 DNA nucleotides and we don't expect long repeats, then the minimum DNA overlap length that we would want would be"
   ]
  },
  {
   "cell_type": "code",
   "execution_count": 53,
   "metadata": {},
   "outputs": [
    {
     "data": {
      "text/plain": [
       "5"
      ]
     },
     "execution_count": 53,
     "metadata": {},
     "output_type": "execute_result"
    }
   ],
   "source": [
    "genome_length = 1000\n",
    "minimum_overlap = Int(ceil(log(4, genome_length)))"
   ]
  },
  {
   "cell_type": "code",
   "execution_count": 54,
   "metadata": {},
   "outputs": [
    {
     "name": "stdout",
     "output_type": "stream",
     "text": [
      "1024\n",
      "true\n"
     ]
    }
   ],
   "source": [
    "println(4^minimum_overlap)\n",
    "println(4^minimum_overlap > genome_length)"
   ]
  },
  {
   "cell_type": "markdown",
   "metadata": {},
   "source": [
    "[Earth may have up to one trillion species](https://www.pnas.org/content/113/21/5970). If we are sequencing and trying to assemble genomes in mixed communities of organisms, then we should ideally have unique DNA segments long enough to both uniquely identify them to species and to a unique location within the genome of that species. If we assume an average genome size of 1Gb (one billion DNA basepairs) we would want overlaps of"
   ]
  },
  {
   "cell_type": "code",
   "execution_count": 56,
   "metadata": {},
   "outputs": [
    {
     "data": {
      "text/plain": [
       "31"
      ]
     },
     "execution_count": 56,
     "metadata": {},
     "output_type": "execute_result"
    }
   ],
   "source": [
    "genome_size = 1_000_000_000\n",
    "number_of_species = 1_000_000_000_000\n",
    "minimum_overlap = Int(ceil(log(4, genome_size * number_of_species)))"
   ]
  },
  {
   "cell_type": "markdown",
   "metadata": {},
   "source": [
    "Repeats within genomes can be several thousand DNA bases in length making a length of 31 insufficient to uniquely identify every segment of DNA without having reads that span the full length of the repeat to provide unique anchor points at each end of the repeat."
   ]
  }
 ],
 "metadata": {
  "kernelspec": {
   "display_name": "Julia 1.1.0",
   "language": "julia",
   "name": "julia-1.1"
  },
  "language_info": {
   "file_extension": ".jl",
   "mimetype": "application/julia",
   "name": "julia",
   "version": "1.1.0"
  }
 },
 "nbformat": 4,
 "nbformat_minor": 2
}
