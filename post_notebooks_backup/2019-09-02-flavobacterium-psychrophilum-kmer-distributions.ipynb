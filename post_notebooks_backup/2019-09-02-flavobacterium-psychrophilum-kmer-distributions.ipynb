{
 "cells": [
  {
   "cell_type": "markdown",
   "metadata": {},
   "source": [
    "---\n",
    "layout: post  \n",
    "title: Flavobacterium psychrophilum Kmer Distributions  \n",
    "date: 2019-09-02\n",
    "author: Cameron Prybol  \n",
    "\n",
    "---"
   ]
  },
  {
   "cell_type": "markdown",
   "metadata": {},
   "source": [
    "Having looked at the kmer distributions of a randomly selected [virus](/norwalk-virus-kmer-distributions.html) and [phage](/chlamydia-phage-chp2-kmer-distributions.html) from RefSeq in previous posts, we'll now look at a bacterium: Flavobacterium psychrophilum\n",
    "\n",
    "```bash\n",
    "FASTA=GCF_000064305.2_ASM6430v2_genomic.fna\n",
    "K_RANGE=\"3 5 7 11 13 17 19 23\"\n",
    "parallel jellyfish\\ count\\ --canonical\\ --mer-len\\ \\{\\}\\ --threads\\ 1\\ --size\\ 100M\\ --output\\ $FASTA.K\\{\\}.jf\\ \\<\\(gzip\\ -dc\\ $FASTA.gz\\) ::: $K_RANGE\n",
    "parallel jellyfish\\ histo\\ --high\\ \\$\\(jellyfish\\ dump\\ $FASTA.K\\{\\}.jf\\ \\|\\ grep\\ \\\"\\^\\>\\\"\\ \\|\\ sed\\ \\'s/\\>//\\'\\ \\|\\ sort\\ --numeric-sort\\ --reverse\\ \\|\\ head\\ -n1\\)\\ $FASTA.K\\{\\}.jf\\ \\>\\ $FASTA.K\\{1\\}.jf.histogram ::: $K_RANGE\n",
    "parallel Eisenia\\ plot\\ histogram\\ --histogram\\ $FASTA.K\\{1\\}.jf.histogram ::: $K_RANGE\n",
    "mv $FASTA.K*.jf.histogram.svg ../../assets/images/\n",
    "```\n",
    "\n",
    "![](../assets/images/GCF_000064305.2_ASM6430v2_genomic.fna.K3.jf.histogram.svg)\n",
    "![](../assets/images/GCF_000064305.2_ASM6430v2_genomic.fna.K5.jf.histogram.svg)\n",
    "![](../assets/images/GCF_000064305.2_ASM6430v2_genomic.fna.K7.jf.histogram.svg)\n",
    "![](../assets/images/GCF_000064305.2_ASM6430v2_genomic.fna.K11.jf.histogram.svg)\n",
    "![](../assets/images/GCF_000064305.2_ASM6430v2_genomic.fna.K13.jf.histogram.svg)\n",
    "![](../assets/images/GCF_000064305.2_ASM6430v2_genomic.fna.K17.jf.histogram.svg)\n",
    "![](../assets/images/GCF_000064305.2_ASM6430v2_genomic.fna.K19.jf.histogram.svg)\n",
    "![](../assets/images/GCF_000064305.2_ASM6430v2_genomic.fna.K23.jf.histogram.svg)\n",
    "\n",
    "Again, we can see a convergence to a log-log linear relationship, this time starting at k-lengths >= 11"
   ]
  }
 ],
 "metadata": {
  "kernelspec": {
   "display_name": "Julia 1.1.0",
   "language": "julia",
   "name": "julia-1.1"
  },
  "language_info": {
   "file_extension": ".jl",
   "mimetype": "application/julia",
   "name": "julia",
   "version": "1.1.0"
  }
 },
 "nbformat": 4,
 "nbformat_minor": 2
}
