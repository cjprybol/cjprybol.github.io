{
 "cells": [
  {
   "cell_type": "markdown",
   "metadata": {},
   "source": [
    "---\n",
    "layout: post  \n",
    "title: Chlamydia Phage Chp2 Kmer Distributions  \n",
    "date: 2019-08-30  \n",
    "author: Cameron Prybol  \n",
    "\n",
    "---"
   ]
  },
  {
   "cell_type": "markdown",
   "metadata": {},
   "source": [
    "Following up with the second post in the kmer distributions series (see the [Selecting Genomes by Taxonomy](/selecting-genomes-by-taxonomy.html) and [Norwalk Virus Kmer Distributions](norwalk-virus-kmer-distributions.html) posts), we will now look at the Chlamydia Phage Chp2 kmer distributions using the same process as before"
   ]
  },
  {
   "cell_type": "markdown",
   "metadata": {},
   "source": [
    "```bash\n",
    "FASTA=GCF_000849665.1_ViralProj14593_genomic.fna\n",
    "K_RANGE=\"3 5 7 11 13 17\"\n",
    "parallel jellyfish\\ count\\ --canonical\\ --mer-len\\ \\{\\}\\ --threads\\ 1\\ --size\\ 100M\\ --output\\ $FASTA.K\\{\\}.jf\\ \\<\\(gzip\\ -dc\\ $FASTA.gz\\) ::: $K_RANGE\n",
    "parallel jellyfish\\ histo\\ --high\\ \\$\\(jellyfish\\ dump\\ $FASTA.K\\{\\}.jf\\ \\|\\ grep\\ \\\"\\^\\>\\\"\\ \\|\\ sed\\ \\'s/\\>//\\'\\ \\|\\ sort\\ --numeric-sort\\ --reverse\\ \\|\\ head\\ -n1\\)\\ $FASTA.K\\{\\}.jf\\ \\>\\ $FASTA.K\\{1\\}.jf.histogram ::: $K_RANGE\n",
    "parallel Eisenia\\ plot\\ histogram\\ --histogram\\ $FASTA.K\\{1\\}.jf.histogram ::: $K_RANGE\n",
    "mv $FASTA.K*.jf.histogram.svg ../../assets/images/\n",
    "```"
   ]
  },
  {
   "cell_type": "markdown",
   "metadata": {},
   "source": [
    "![](../assets/images/GCF_000849665.1_ViralProj14593_genomic.fna.K3.jf.histogram.svg)\n",
    "![](../assets/images/GCF_000849665.1_ViralProj14593_genomic.fna.K5.jf.histogram.svg)\n",
    "![](../assets/images/GCF_000849665.1_ViralProj14593_genomic.fna.K7.jf.histogram.svg)\n",
    "![](../assets/images/GCF_000849665.1_ViralProj14593_genomic.fna.K11.jf.histogram.svg)\n",
    "![](../assets/images/GCF_000849665.1_ViralProj14593_genomic.fna.K13.jf.histogram.svg)\n",
    "![](../assets/images/GCF_000849665.1_ViralProj14593_genomic.fna.K17.jf.histogram.svg)"
   ]
  },
  {
   "cell_type": "markdown",
   "metadata": {},
   "source": [
    "Similar to the patterns observed with the [Norwalk Virus](/norwalk-virus-kmer-distributions.html), k-lengths >= 7 result in a monotonically decreasing and nearly linear relationship between the logarithm of the kmer coverage and number of kmers with those coverages"
   ]
  }
 ],
 "metadata": {
  "kernelspec": {
   "display_name": "Julia 1.1.0",
   "language": "julia",
   "name": "julia-1.1"
  },
  "language_info": {
   "file_extension": ".jl",
   "mimetype": "application/julia",
   "name": "julia",
   "version": "1.1.0"
  }
 },
 "nbformat": 4,
 "nbformat_minor": 2
}
