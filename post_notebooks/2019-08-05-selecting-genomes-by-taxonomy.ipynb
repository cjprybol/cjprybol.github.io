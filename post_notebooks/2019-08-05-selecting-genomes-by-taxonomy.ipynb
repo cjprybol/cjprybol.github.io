{
 "cells": [
  {
   "cell_type": "markdown",
   "metadata": {},
   "source": [
    "---\n",
    "layout: post  \n",
    "title: Selecting Genomes by Taxonomy  \n",
    "date: 2019-08-05  \n",
    "author: Cameron Prybol  \n",
    "\n",
    "---"
   ]
  },
  {
   "cell_type": "markdown",
   "metadata": {},
   "source": [
    "In the [previous post](/downloading-refseq-genomes.html) I showed how to download reference genomes from the RefSeq database. The next step is to layer taxonomy information onto the genome information. This will allow us survey the taxonomic breakdown of organisms represented within the RefSeq reference genomes. It will also allow us to randomly sample genomes of interest uniformly from each branch of the taxonomy tree. Specifically, I would like to sample uniformly across the kingdoms of life (e.g. Animalia, Plantae, Fungi, Protista, Archaea, Bacteria, and Viruses)(different authorities utilize different kingdoms of life so your preferred breakdown may be different!)"
   ]
  },
  {
   "cell_type": "markdown",
   "metadata": {},
   "source": [
    "We first need reference taxonomy information from NCBI available [here](ftp://ftp.ncbi.nih.gov/pub/taxonomy/). In the associated [README](ftp://ftp.ncbi.nih.gov/pub/taxonomy/taxdump_readme.txt), we can see that the taxonomy information is available as a compressed archive (in .zip, .tar.gz, and .tar.Z formats) and descriptions of what is contained in each file within the taxonomy archive. I'll download the .tar.gz archive and decompress it."
   ]
  },
  {
   "cell_type": "code",
   "execution_count": 1,
   "metadata": {},
   "outputs": [],
   "source": [
    "if !isdir(\"../datasets/taxonomy\")\n",
    "    mkdir(\"../datasets/taxonomy\")\n",
    "end\n",
    "if !isfile(\"../datasets/taxonomy/taxdump.tar.gz\")\n",
    "    download(\"ftp://ftp.ncbi.nih.gov/pub/taxonomy/taxdump.tar.gz\", \"../datasets/taxonomy/taxdump.tar.gz\")\n",
    "    run(`tar -xzf ../datasets/taxonomy/taxdump.tar.gz -C ../datasets/taxonomy`)\n",
    "end"
   ]
  },
  {
   "cell_type": "markdown",
   "metadata": {},
   "source": [
    "Next, we can import the [uCSV](https://github.com/cjprybol/uCSV.jl) library to read in the relevant delimited text files and [DataFrames](https://github.com/JuliaData/DataFrames.jl) to handle the datasets in memory"
   ]
  },
  {
   "cell_type": "code",
   "execution_count": 2,
   "metadata": {},
   "outputs": [],
   "source": [
    "using uCSV\n",
    "using DataFrames"
   ]
  },
  {
   "cell_type": "markdown",
   "metadata": {},
   "source": [
    "Now we can import the RefSeq genome table and appropriately subset the table using the same selection criteria as used [previously](/downloading-refseq-genomes.html)"
   ]
  },
  {
   "cell_type": "code",
   "execution_count": 3,
   "metadata": {},
   "outputs": [
    {
     "data": {
      "text/html": [
       "<table class=\"data-frame\"><thead><tr><th></th><th># assembly_accession</th><th>bioproject</th><th>biosample</th><th>wgs_master</th><th>refseq_category</th><th>taxid</th><th>species_taxid</th><th>organism_name</th><th>infraspecific_name</th><th>isolate</th><th>version_status</th><th>assembly_level</th><th>release_type</th><th>genome_rep</th><th>seq_rel_date</th><th>asm_name</th><th>submitter</th><th>gbrs_paired_asm</th><th>paired_asm_comp</th><th>ftp_path</th><th>excluded_from_refseq</th><th>relation_to_type_material</th></tr><tr><th></th><th>String</th><th>String</th><th>String</th><th>String</th><th>String</th><th>Int64</th><th>Int64</th><th>String</th><th>String</th><th>String</th><th>String</th><th>String</th><th>String</th><th>String</th><th>String</th><th>String</th><th>String</th><th>String</th><th>String</th><th>String</th><th>String</th><th>String</th></tr></thead><tbody><p>173 rows × 22 columns</p><tr><th>1</th><td>GCF_000001215.4</td><td>PRJNA164</td><td>SAMN02803731</td><td></td><td>reference genome</td><td>7227</td><td>7227</td><td>Drosophila melanogaster</td><td></td><td></td><td>latest</td><td>Chromosome</td><td>Major</td><td>Full</td><td>2014/08/01</td><td>Release 6 plus ISO1 MT</td><td>The FlyBase Consortium/Berkeley Drosophila Genome Project/Celera Genomics</td><td>GCA_000001215.4</td><td>identical</td><td>ftp://ftp.ncbi.nlm.nih.gov/genomes/all/GCF/000/001/215/GCF_000001215.4_Release_6_plus_ISO1_MT</td><td></td><td></td></tr><tr><th>2</th><td>GCF_000001405.39</td><td>PRJNA168</td><td></td><td></td><td>reference genome</td><td>9606</td><td>9606</td><td>Homo sapiens</td><td></td><td></td><td>latest</td><td>Chromosome</td><td>Patch</td><td>Full</td><td>2019/02/28</td><td>GRCh38.p13</td><td>Genome Reference Consortium</td><td>GCA_000001405.28</td><td>different</td><td>ftp://ftp.ncbi.nlm.nih.gov/genomes/all/GCF/000/001/405/GCF_000001405.39_GRCh38.p13</td><td></td><td></td></tr><tr><th>3</th><td>GCF_000001635.26</td><td>PRJNA169</td><td></td><td></td><td>reference genome</td><td>10090</td><td>10090</td><td>Mus musculus</td><td></td><td></td><td>latest</td><td>Chromosome</td><td>Patch</td><td>Full</td><td>2017/09/15</td><td>GRCm38.p6</td><td>Genome Reference Consortium</td><td>GCA_000001635.8</td><td>identical</td><td>ftp://ftp.ncbi.nlm.nih.gov/genomes/all/GCF/000/001/635/GCF_000001635.26_GRCm38.p6</td><td></td><td></td></tr><tr><th>4</th><td>GCF_000001735.4</td><td>PRJNA116</td><td>SAMN03081427</td><td></td><td>reference genome</td><td>3702</td><td>3702</td><td>Arabidopsis thaliana</td><td>ecotype=Columbia</td><td></td><td>latest</td><td>Chromosome</td><td>Minor</td><td>Full</td><td>2018/03/15</td><td>TAIR10.1</td><td>The Arabidopsis Information Resource (TAIR)</td><td>GCA_000001735.2</td><td>identical</td><td>ftp://ftp.ncbi.nlm.nih.gov/genomes/all/GCF/000/001/735/GCF_000001735.4_TAIR10.1</td><td></td><td></td></tr><tr><th>5</th><td>GCF_000002035.6</td><td>PRJNA13922</td><td>SAMN06930106</td><td></td><td>reference genome</td><td>7955</td><td>7955</td><td>Danio rerio</td><td></td><td></td><td>latest</td><td>Chromosome</td><td>Major</td><td>Full</td><td>2017/05/09</td><td>GRCz11</td><td>Genome Reference Consortium</td><td>GCA_000002035.4</td><td>different</td><td>ftp://ftp.ncbi.nlm.nih.gov/genomes/all/GCF/000/002/035/GCF_000002035.6_GRCz11</td><td></td><td></td></tr><tr><th>6</th><td>GCF_000002985.6</td><td>PRJNA158</td><td>SAMEA3138177</td><td></td><td>reference genome</td><td>6239</td><td>6239</td><td>Caenorhabditis elegans</td><td>strain=Bristol N2</td><td></td><td>latest</td><td>Complete Genome</td><td>Major</td><td>Full</td><td>2013/02/07</td><td>WBcel235</td><td>C. elegans Sequencing Consortium</td><td>GCA_000002985.3</td><td>different</td><td>ftp://ftp.ncbi.nlm.nih.gov/genomes/all/GCF/000/002/985/GCF_000002985.6_WBcel235</td><td></td><td></td></tr><tr><th>7</th><td>GCF_000005845.2</td><td>PRJNA57779</td><td>SAMN02604091</td><td></td><td>reference genome</td><td>511145</td><td>562</td><td>Escherichia coli str. K-12 substr. MG1655</td><td>strain=K-12 substr. MG1655</td><td></td><td>latest</td><td>Complete Genome</td><td>Major</td><td>Full</td><td>2013/09/26</td><td>ASM584v2</td><td>Univ. Wisconsin</td><td>GCA_000005845.2</td><td>identical</td><td>ftp://ftp.ncbi.nlm.nih.gov/genomes/all/GCF/000/005/845/GCF_000005845.2_ASM584v2</td><td></td><td></td></tr><tr><th>8</th><td>GCF_000006745.1</td><td>PRJNA57623</td><td>SAMN02603969</td><td></td><td>reference genome</td><td>243277</td><td>666</td><td>Vibrio cholerae O1 biovar El Tor str. N16961</td><td>strain=N16961</td><td></td><td>latest</td><td>Complete Genome</td><td>Major</td><td>Full</td><td>2001/01/09</td><td>ASM674v1</td><td>TIGR</td><td>GCA_000006745.1</td><td>identical</td><td>ftp://ftp.ncbi.nlm.nih.gov/genomes/all/GCF/000/006/745/GCF_000006745.1_ASM674v1</td><td></td><td></td></tr><tr><th>9</th><td>GCF_000006765.1</td><td>PRJNA57945</td><td>SAMN02603714</td><td></td><td>reference genome</td><td>208964</td><td>287</td><td>Pseudomonas aeruginosa PAO1</td><td>strain=PAO1</td><td></td><td>latest</td><td>Complete Genome</td><td>Major</td><td>Full</td><td>2006/07/07</td><td>ASM676v1</td><td>PathoGenesis Corporation</td><td>GCA_000006765.1</td><td>identical</td><td>ftp://ftp.ncbi.nlm.nih.gov/genomes/all/GCF/000/006/765/GCF_000006765.1_ASM676v1</td><td></td><td></td></tr><tr><th>10</th><td>GCF_000006785.2</td><td>PRJNA57845</td><td>SAMN02604089</td><td></td><td>reference genome</td><td>160490</td><td>1314</td><td>Streptococcus pyogenes M1 GAS</td><td>strain=SF370</td><td></td><td>latest</td><td>Complete Genome</td><td>Major</td><td>Full</td><td>2014/04/01</td><td>ASM678v2</td><td>Univ. Oklahoma</td><td>GCA_000006785.2</td><td>identical</td><td>ftp://ftp.ncbi.nlm.nih.gov/genomes/all/GCF/000/006/785/GCF_000006785.2_ASM678v2</td><td></td><td></td></tr><tr><th>11</th><td>GCF_000006845.1</td><td>PRJNA57611</td><td>SAMN02604088</td><td></td><td>reference genome</td><td>242231</td><td>485</td><td>Neisseria gonorrhoeae FA 1090</td><td>strain=FA 1090</td><td></td><td>latest</td><td>Complete Genome</td><td>Major</td><td>Full</td><td>2005/02/14</td><td>ASM684v1</td><td>Univ. Oklahoma</td><td>GCA_000006845.1</td><td>identical</td><td>ftp://ftp.ncbi.nlm.nih.gov/genomes/all/GCF/000/006/845/GCF_000006845.1_ASM684v1</td><td></td><td></td></tr><tr><th>12</th><td>GCF_000006865.1</td><td>PRJNA57671</td><td>SAMN02603339</td><td></td><td>reference genome</td><td>272623</td><td>1358</td><td>Lactococcus lactis subsp. lactis Il1403</td><td>strain=IL1403</td><td></td><td>latest</td><td>Complete Genome</td><td>Major</td><td>Full</td><td>2001/03/21</td><td>ASM686v1</td><td>INRA</td><td>GCA_000006865.1</td><td>identical</td><td>ftp://ftp.ncbi.nlm.nih.gov/genomes/all/GCF/000/006/865/GCF_000006865.1_ASM686v1</td><td></td><td></td></tr><tr><th>13</th><td>GCF_000006905.1</td><td>PRJNA57891</td><td>SAMN02604005</td><td></td><td>reference genome</td><td>190650</td><td>155892</td><td>Caulobacter vibrioides CB15</td><td>strain=CB15</td><td></td><td>latest</td><td>Complete Genome</td><td>Major</td><td>Full</td><td>2002/03/06</td><td>ASM690v1</td><td>TIGR</td><td>GCA_000006905.1</td><td>identical</td><td>ftp://ftp.ncbi.nlm.nih.gov/genomes/all/GCF/000/006/905/GCF_000006905.1_ASM690v1</td><td></td><td></td></tr><tr><th>14</th><td>GCF_000006925.2</td><td>PRJNA62907</td><td>SAMN02603599</td><td></td><td>reference genome</td><td>198214</td><td>623</td><td>Shigella flexneri 2a str. 301</td><td>strain=301</td><td></td><td>latest</td><td>Complete Genome</td><td>Major</td><td>Full</td><td>2011/08/03</td><td>ASM692v2</td><td>Microbial Genome Center of ChMPH</td><td>GCA_000006925.2</td><td>identical</td><td>ftp://ftp.ncbi.nlm.nih.gov/genomes/all/GCF/000/006/925/GCF_000006925.2_ASM692v2</td><td></td><td></td></tr><tr><th>15</th><td>GCF_000006945.2</td><td>PRJNA57799</td><td>SAMN02604315</td><td></td><td>reference genome</td><td>99287</td><td>28901</td><td>Salmonella enterica subsp. enterica serovar Typhimurium str. LT2</td><td></td><td></td><td>latest</td><td>Complete Genome</td><td>Major</td><td>Full</td><td>2016/01/13</td><td>ASM694v2</td><td>Washington University Genome Sequencing Center</td><td>GCA_000006945.2</td><td>identical</td><td>ftp://ftp.ncbi.nlm.nih.gov/genomes/all/GCF/000/006/945/GCF_000006945.2_ASM694v2</td><td></td><td>assembly from type material</td></tr><tr><th>16</th><td>GCF_000006965.1</td><td>PRJNA57603</td><td>SAMEA3283068</td><td></td><td>reference genome</td><td>266834</td><td>382</td><td>Sinorhizobium meliloti 1021</td><td>strain=1021</td><td></td><td>latest</td><td>Complete Genome</td><td>Major</td><td>Full</td><td>2003/05/06</td><td>ASM696v1</td><td>MELILO</td><td>GCA_000006965.1</td><td>identical</td><td>ftp://ftp.ncbi.nlm.nih.gov/genomes/all/GCF/000/006/965/GCF_000006965.1_ASM696v1</td><td></td><td></td></tr><tr><th>17</th><td>GCF_000006985.1</td><td>PRJNA57897</td><td>SAMN02604006</td><td></td><td>reference genome</td><td>194439</td><td>1097</td><td>Chlorobaculum tepidum TLS</td><td>strain=TLS</td><td></td><td>latest</td><td>Complete Genome</td><td>Major</td><td>Full</td><td>2002/07/02</td><td>ASM698v1</td><td>TIGR</td><td>GCA_000006985.1</td><td>identical</td><td>ftp://ftp.ncbi.nlm.nih.gov/genomes/all/GCF/000/006/985/GCF_000006985.1_ASM698v1</td><td></td><td>assembly from type material</td></tr><tr><th>18</th><td>GCF_000007045.1</td><td>PRJNA57859</td><td>SAMN02603218</td><td></td><td>reference genome</td><td>171101</td><td>1313</td><td>Streptococcus pneumoniae R6</td><td>strain=R6</td><td></td><td>latest</td><td>Complete Genome</td><td>Major</td><td>Full</td><td>2002/11/25</td><td>ASM704v1</td><td>Eli Lilly and Company</td><td>GCA_000007045.1</td><td>identical</td><td>ftp://ftp.ncbi.nlm.nih.gov/genomes/all/GCF/000/007/045/GCF_000007045.1_ASM704v1</td><td></td><td></td></tr><tr><th>19</th><td>GCF_000007145.1</td><td>PRJNA57887</td><td>SAMN02603845</td><td></td><td>reference genome</td><td>190485</td><td>339</td><td>Xanthomonas campestris pv. campestris str. ATCC 33913</td><td>strain=ATCC 33913</td><td></td><td>latest</td><td>Complete Genome</td><td>Major</td><td>Full</td><td>2002/05/24</td><td>ASM714v1</td><td>Sao Paulo state (Brazil) Consortium</td><td>GCA_000007145.1</td><td>identical</td><td>ftp://ftp.ncbi.nlm.nih.gov/genomes/all/GCF/000/007/145/GCF_000007145.1_ASM714v1</td><td></td><td>assembly from type material</td></tr><tr><th>20</th><td>GCF_000007265.1</td><td>PRJNA57943</td><td>SAMN02604013</td><td></td><td>reference genome</td><td>208435</td><td>1311</td><td>Streptococcus agalactiae 2603V/R</td><td>strain=2603V/R</td><td></td><td>latest</td><td>Complete Genome</td><td>Major</td><td>Full</td><td>2002/08/28</td><td>ASM726v1</td><td>TIGR</td><td>GCA_000007265.1</td><td>identical</td><td>ftp://ftp.ncbi.nlm.nih.gov/genomes/all/GCF/000/007/265/GCF_000007265.1_ASM726v1</td><td></td><td></td></tr><tr><th>21</th><td>GCF_000007325.1</td><td>PRJNA57885</td><td>SAMN02603417</td><td></td><td>reference genome</td><td>190304</td><td>851</td><td>Fusobacterium nucleatum subsp. nucleatum ATCC 25586</td><td>strain=ATCC 25586</td><td></td><td>latest</td><td>Complete Genome</td><td>Major</td><td>Full</td><td>2002/04/09</td><td>ASM732v1</td><td>Integrated Genomics</td><td>GCA_000007325.1</td><td>identical</td><td>ftp://ftp.ncbi.nlm.nih.gov/genomes/all/GCF/000/007/325/GCF_000007325.1_ASM732v1</td><td>untrustworthy as type</td><td>assembly from type material</td></tr><tr><th>22</th><td>GCF_000007465.2</td><td>PRJNA57947</td><td>SAMN02604090</td><td></td><td>reference genome</td><td>210007</td><td>1309</td><td>Streptococcus mutans UA159</td><td>strain=UA159</td><td></td><td>latest</td><td>Complete Genome</td><td>Major</td><td>Full</td><td>2011/09/01</td><td>ASM746v2</td><td>Univ. Oklahoma</td><td>GCA_000007465.2</td><td>identical</td><td>ftp://ftp.ncbi.nlm.nih.gov/genomes/all/GCF/000/007/465/GCF_000007465.2_ASM746v2</td><td></td><td></td></tr><tr><th>23</th><td>GCF_000007525.1</td><td>PRJNA57939</td><td>SAMN02603675</td><td></td><td>reference genome</td><td>206672</td><td>216816</td><td>Bifidobacterium longum NCC2705</td><td>strain=NCC2705</td><td></td><td>latest</td><td>Complete Genome</td><td>Major</td><td>Full</td><td>2005/01/21</td><td>ASM752v1</td><td>Nestle Research Center, Switzerland</td><td>GCA_000007525.1</td><td>identical</td><td>ftp://ftp.ncbi.nlm.nih.gov/genomes/all/GCF/000/007/525/GCF_000007525.1_ASM752v1</td><td></td><td></td></tr><tr><th>24</th><td>GCF_000007565.2</td><td>PRJNA57843</td><td>SAMN02603999</td><td></td><td>reference genome</td><td>160488</td><td>303</td><td>Pseudomonas putida KT2440</td><td>strain=KT2440</td><td></td><td>latest</td><td>Complete Genome</td><td>Major</td><td>Full</td><td>2016/02/26</td><td>ASM756v2</td><td>TIGR</td><td>GCA_000007565.2</td><td>identical</td><td>ftp://ftp.ncbi.nlm.nih.gov/genomes/all/GCF/000/007/565/GCF_000007565.2_ASM756v2</td><td></td><td></td></tr><tr><th>25</th><td>GCF_000007645.1</td><td>PRJNA57861</td><td>SAMN02603126</td><td></td><td>reference genome</td><td>176280</td><td>1282</td><td>Staphylococcus epidermidis ATCC 12228</td><td>strain=ATCC 12228</td><td></td><td>latest</td><td>Complete Genome</td><td>Major</td><td>Full</td><td>2002/12/20</td><td>ASM764v1</td><td>Chinese National HGC, Shanghai</td><td>GCA_000007645.1</td><td>identical</td><td>ftp://ftp.ncbi.nlm.nih.gov/genomes/all/GCF/000/007/645/GCF_000007645.1_ASM764v1</td><td></td><td></td></tr><tr><th>26</th><td>GCF_000007765.2</td><td>PRJNA57631</td><td>SAMN02603970</td><td></td><td>reference genome</td><td>227377</td><td>777</td><td>Coxiella burnetii RSA 493</td><td>strain=RSA 493</td><td></td><td>latest</td><td>Complete Genome</td><td>Major</td><td>Full</td><td>2016/11/10</td><td>ASM776v2</td><td>TIGR</td><td>GCA_000007765.2</td><td>identical</td><td>ftp://ftp.ncbi.nlm.nih.gov/genomes/all/GCF/000/007/765/GCF_000007765.2_ASM776v2</td><td></td><td></td></tr><tr><th>27</th><td>GCF_000007785.1</td><td>PRJNA57669</td><td>SAMN02603978</td><td></td><td>reference genome</td><td>226185</td><td>1351</td><td>Enterococcus faecalis V583</td><td>strain=V583</td><td></td><td>latest</td><td>Complete Genome</td><td>Major</td><td>Full</td><td>2003/03/28</td><td>ASM778v1</td><td>TIGR</td><td>GCA_000007785.1</td><td>identical</td><td>ftp://ftp.ncbi.nlm.nih.gov/genomes/all/GCF/000/007/785/GCF_000007785.1_ASM778v1</td><td></td><td></td></tr><tr><th>28</th><td>GCF_000007805.1</td><td>PRJNA57967</td><td>SAMN02604017</td><td></td><td>reference genome</td><td>223283</td><td>251701</td><td>Pseudomonas syringae pv. tomato str. DC3000</td><td>strain=DC3000</td><td></td><td>latest</td><td>Complete Genome</td><td>Major</td><td>Full</td><td>2003/03/05</td><td>ASM780v1</td><td>TIGR</td><td>GCA_000007805.1</td><td>identical</td><td>ftp://ftp.ncbi.nlm.nih.gov/genomes/all/GCF/000/007/805/GCF_000007805.1_ASM780v1</td><td></td><td>assembly from type material</td></tr><tr><th>29</th><td>GCF_000007825.1</td><td>PRJNA57975</td><td>SAMN02603340</td><td></td><td>reference genome</td><td>226900</td><td>1396</td><td>Bacillus cereus ATCC 14579</td><td>strain=ATCC 14579</td><td></td><td>latest</td><td>Complete Genome</td><td>Major</td><td>Full</td><td>2004/07/06</td><td>ASM782v1</td><td>INRA</td><td>GCA_000007825.1</td><td>identical</td><td>ftp://ftp.ncbi.nlm.nih.gov/genomes/all/GCF/000/007/825/GCF_000007825.1_ASM782v1</td><td></td><td>assembly from type material</td></tr><tr><th>30</th><td>GCF_000007845.1</td><td>PRJNA57909</td><td>SAMN02603432</td><td></td><td>reference genome</td><td>198094</td><td>1392</td><td>Bacillus anthracis str. Ames</td><td>strain=Ames</td><td></td><td>latest</td><td>Complete Genome</td><td>Major</td><td>Full</td><td>2003/04/30</td><td>ASM784v1</td><td>J. Craig Venter Institute</td><td>GCA_000007845.1</td><td>identical</td><td>ftp://ftp.ncbi.nlm.nih.gov/genomes/all/GCF/000/007/845/GCF_000007845.1_ASM784v1</td><td></td><td></td></tr><tr><th>&vellip;</th><td>&vellip;</td><td>&vellip;</td><td>&vellip;</td><td>&vellip;</td><td>&vellip;</td><td>&vellip;</td><td>&vellip;</td><td>&vellip;</td><td>&vellip;</td><td>&vellip;</td><td>&vellip;</td><td>&vellip;</td><td>&vellip;</td><td>&vellip;</td><td>&vellip;</td><td>&vellip;</td><td>&vellip;</td><td>&vellip;</td><td>&vellip;</td><td>&vellip;</td><td>&vellip;</td><td>&vellip;</td></tr></tbody></table>"
      ],
      "text/latex": [
       "\\begin{tabular}{r|cccccccccccccccccccccc}\n",
       "\t& \\# assembly\\_accession & bioproject & biosample & wgs\\_master & refseq\\_category & taxid & species\\_taxid & organism\\_name & infraspecific\\_name & isolate & version\\_status & assembly\\_level & release\\_type & genome\\_rep & seq\\_rel\\_date & asm\\_name & submitter & gbrs\\_paired\\_asm & paired\\_asm\\_comp & ftp\\_path & excluded\\_from\\_refseq & relation\\_to\\_type\\_material\\\\\n",
       "\t\\hline\n",
       "\t& String & String & String & String & String & Int64 & Int64 & String & String & String & String & String & String & String & String & String & String & String & String & String & String & String\\\\\n",
       "\t\\hline\n",
       "\t1 & GCF\\_000001215.4 & PRJNA164 & SAMN02803731 &  & reference genome & 7227 & 7227 & Drosophila melanogaster &  &  & latest & Chromosome & Major & Full & 2014/08/01 & Release 6 plus ISO1 MT & The FlyBase Consortium/Berkeley Drosophila Genome Project/Celera Genomics & GCA\\_000001215.4 & identical & ftp://ftp.ncbi.nlm.nih.gov/genomes/all/GCF/000/001/215/GCF\\_000001215.4\\_Release\\_6\\_plus\\_ISO1\\_MT &  &  \\\\\n",
       "\t2 & GCF\\_000001405.39 & PRJNA168 &  &  & reference genome & 9606 & 9606 & Homo sapiens &  &  & latest & Chromosome & Patch & Full & 2019/02/28 & GRCh38.p13 & Genome Reference Consortium & GCA\\_000001405.28 & different & ftp://ftp.ncbi.nlm.nih.gov/genomes/all/GCF/000/001/405/GCF\\_000001405.39\\_GRCh38.p13 &  &  \\\\\n",
       "\t3 & GCF\\_000001635.26 & PRJNA169 &  &  & reference genome & 10090 & 10090 & Mus musculus &  &  & latest & Chromosome & Patch & Full & 2017/09/15 & GRCm38.p6 & Genome Reference Consortium & GCA\\_000001635.8 & identical & ftp://ftp.ncbi.nlm.nih.gov/genomes/all/GCF/000/001/635/GCF\\_000001635.26\\_GRCm38.p6 &  &  \\\\\n",
       "\t4 & GCF\\_000001735.4 & PRJNA116 & SAMN03081427 &  & reference genome & 3702 & 3702 & Arabidopsis thaliana & ecotype=Columbia &  & latest & Chromosome & Minor & Full & 2018/03/15 & TAIR10.1 & The Arabidopsis Information Resource (TAIR) & GCA\\_000001735.2 & identical & ftp://ftp.ncbi.nlm.nih.gov/genomes/all/GCF/000/001/735/GCF\\_000001735.4\\_TAIR10.1 &  &  \\\\\n",
       "\t5 & GCF\\_000002035.6 & PRJNA13922 & SAMN06930106 &  & reference genome & 7955 & 7955 & Danio rerio &  &  & latest & Chromosome & Major & Full & 2017/05/09 & GRCz11 & Genome Reference Consortium & GCA\\_000002035.4 & different & ftp://ftp.ncbi.nlm.nih.gov/genomes/all/GCF/000/002/035/GCF\\_000002035.6\\_GRCz11 &  &  \\\\\n",
       "\t6 & GCF\\_000002985.6 & PRJNA158 & SAMEA3138177 &  & reference genome & 6239 & 6239 & Caenorhabditis elegans & strain=Bristol N2 &  & latest & Complete Genome & Major & Full & 2013/02/07 & WBcel235 & C. elegans Sequencing Consortium & GCA\\_000002985.3 & different & ftp://ftp.ncbi.nlm.nih.gov/genomes/all/GCF/000/002/985/GCF\\_000002985.6\\_WBcel235 &  &  \\\\\n",
       "\t7 & GCF\\_000005845.2 & PRJNA57779 & SAMN02604091 &  & reference genome & 511145 & 562 & Escherichia coli str. K-12 substr. MG1655 & strain=K-12 substr. MG1655 &  & latest & Complete Genome & Major & Full & 2013/09/26 & ASM584v2 & Univ. Wisconsin & GCA\\_000005845.2 & identical & ftp://ftp.ncbi.nlm.nih.gov/genomes/all/GCF/000/005/845/GCF\\_000005845.2\\_ASM584v2 &  &  \\\\\n",
       "\t8 & GCF\\_000006745.1 & PRJNA57623 & SAMN02603969 &  & reference genome & 243277 & 666 & Vibrio cholerae O1 biovar El Tor str. N16961 & strain=N16961 &  & latest & Complete Genome & Major & Full & 2001/01/09 & ASM674v1 & TIGR & GCA\\_000006745.1 & identical & ftp://ftp.ncbi.nlm.nih.gov/genomes/all/GCF/000/006/745/GCF\\_000006745.1\\_ASM674v1 &  &  \\\\\n",
       "\t9 & GCF\\_000006765.1 & PRJNA57945 & SAMN02603714 &  & reference genome & 208964 & 287 & Pseudomonas aeruginosa PAO1 & strain=PAO1 &  & latest & Complete Genome & Major & Full & 2006/07/07 & ASM676v1 & PathoGenesis Corporation & GCA\\_000006765.1 & identical & ftp://ftp.ncbi.nlm.nih.gov/genomes/all/GCF/000/006/765/GCF\\_000006765.1\\_ASM676v1 &  &  \\\\\n",
       "\t10 & GCF\\_000006785.2 & PRJNA57845 & SAMN02604089 &  & reference genome & 160490 & 1314 & Streptococcus pyogenes M1 GAS & strain=SF370 &  & latest & Complete Genome & Major & Full & 2014/04/01 & ASM678v2 & Univ. Oklahoma & GCA\\_000006785.2 & identical & ftp://ftp.ncbi.nlm.nih.gov/genomes/all/GCF/000/006/785/GCF\\_000006785.2\\_ASM678v2 &  &  \\\\\n",
       "\t11 & GCF\\_000006845.1 & PRJNA57611 & SAMN02604088 &  & reference genome & 242231 & 485 & Neisseria gonorrhoeae FA 1090 & strain=FA 1090 &  & latest & Complete Genome & Major & Full & 2005/02/14 & ASM684v1 & Univ. Oklahoma & GCA\\_000006845.1 & identical & ftp://ftp.ncbi.nlm.nih.gov/genomes/all/GCF/000/006/845/GCF\\_000006845.1\\_ASM684v1 &  &  \\\\\n",
       "\t12 & GCF\\_000006865.1 & PRJNA57671 & SAMN02603339 &  & reference genome & 272623 & 1358 & Lactococcus lactis subsp. lactis Il1403 & strain=IL1403 &  & latest & Complete Genome & Major & Full & 2001/03/21 & ASM686v1 & INRA & GCA\\_000006865.1 & identical & ftp://ftp.ncbi.nlm.nih.gov/genomes/all/GCF/000/006/865/GCF\\_000006865.1\\_ASM686v1 &  &  \\\\\n",
       "\t13 & GCF\\_000006905.1 & PRJNA57891 & SAMN02604005 &  & reference genome & 190650 & 155892 & Caulobacter vibrioides CB15 & strain=CB15 &  & latest & Complete Genome & Major & Full & 2002/03/06 & ASM690v1 & TIGR & GCA\\_000006905.1 & identical & ftp://ftp.ncbi.nlm.nih.gov/genomes/all/GCF/000/006/905/GCF\\_000006905.1\\_ASM690v1 &  &  \\\\\n",
       "\t14 & GCF\\_000006925.2 & PRJNA62907 & SAMN02603599 &  & reference genome & 198214 & 623 & Shigella flexneri 2a str. 301 & strain=301 &  & latest & Complete Genome & Major & Full & 2011/08/03 & ASM692v2 & Microbial Genome Center of ChMPH & GCA\\_000006925.2 & identical & ftp://ftp.ncbi.nlm.nih.gov/genomes/all/GCF/000/006/925/GCF\\_000006925.2\\_ASM692v2 &  &  \\\\\n",
       "\t15 & GCF\\_000006945.2 & PRJNA57799 & SAMN02604315 &  & reference genome & 99287 & 28901 & Salmonella enterica subsp. enterica serovar Typhimurium str. LT2 &  &  & latest & Complete Genome & Major & Full & 2016/01/13 & ASM694v2 & Washington University Genome Sequencing Center & GCA\\_000006945.2 & identical & ftp://ftp.ncbi.nlm.nih.gov/genomes/all/GCF/000/006/945/GCF\\_000006945.2\\_ASM694v2 &  & assembly from type material \\\\\n",
       "\t16 & GCF\\_000006965.1 & PRJNA57603 & SAMEA3283068 &  & reference genome & 266834 & 382 & Sinorhizobium meliloti 1021 & strain=1021 &  & latest & Complete Genome & Major & Full & 2003/05/06 & ASM696v1 & MELILO & GCA\\_000006965.1 & identical & ftp://ftp.ncbi.nlm.nih.gov/genomes/all/GCF/000/006/965/GCF\\_000006965.1\\_ASM696v1 &  &  \\\\\n",
       "\t17 & GCF\\_000006985.1 & PRJNA57897 & SAMN02604006 &  & reference genome & 194439 & 1097 & Chlorobaculum tepidum TLS & strain=TLS &  & latest & Complete Genome & Major & Full & 2002/07/02 & ASM698v1 & TIGR & GCA\\_000006985.1 & identical & ftp://ftp.ncbi.nlm.nih.gov/genomes/all/GCF/000/006/985/GCF\\_000006985.1\\_ASM698v1 &  & assembly from type material \\\\\n",
       "\t18 & GCF\\_000007045.1 & PRJNA57859 & SAMN02603218 &  & reference genome & 171101 & 1313 & Streptococcus pneumoniae R6 & strain=R6 &  & latest & Complete Genome & Major & Full & 2002/11/25 & ASM704v1 & Eli Lilly and Company & GCA\\_000007045.1 & identical & ftp://ftp.ncbi.nlm.nih.gov/genomes/all/GCF/000/007/045/GCF\\_000007045.1\\_ASM704v1 &  &  \\\\\n",
       "\t19 & GCF\\_000007145.1 & PRJNA57887 & SAMN02603845 &  & reference genome & 190485 & 339 & Xanthomonas campestris pv. campestris str. ATCC 33913 & strain=ATCC 33913 &  & latest & Complete Genome & Major & Full & 2002/05/24 & ASM714v1 & Sao Paulo state (Brazil) Consortium & GCA\\_000007145.1 & identical & ftp://ftp.ncbi.nlm.nih.gov/genomes/all/GCF/000/007/145/GCF\\_000007145.1\\_ASM714v1 &  & assembly from type material \\\\\n",
       "\t20 & GCF\\_000007265.1 & PRJNA57943 & SAMN02604013 &  & reference genome & 208435 & 1311 & Streptococcus agalactiae 2603V/R & strain=2603V/R &  & latest & Complete Genome & Major & Full & 2002/08/28 & ASM726v1 & TIGR & GCA\\_000007265.1 & identical & ftp://ftp.ncbi.nlm.nih.gov/genomes/all/GCF/000/007/265/GCF\\_000007265.1\\_ASM726v1 &  &  \\\\\n",
       "\t21 & GCF\\_000007325.1 & PRJNA57885 & SAMN02603417 &  & reference genome & 190304 & 851 & Fusobacterium nucleatum subsp. nucleatum ATCC 25586 & strain=ATCC 25586 &  & latest & Complete Genome & Major & Full & 2002/04/09 & ASM732v1 & Integrated Genomics & GCA\\_000007325.1 & identical & ftp://ftp.ncbi.nlm.nih.gov/genomes/all/GCF/000/007/325/GCF\\_000007325.1\\_ASM732v1 & untrustworthy as type & assembly from type material \\\\\n",
       "\t22 & GCF\\_000007465.2 & PRJNA57947 & SAMN02604090 &  & reference genome & 210007 & 1309 & Streptococcus mutans UA159 & strain=UA159 &  & latest & Complete Genome & Major & Full & 2011/09/01 & ASM746v2 & Univ. Oklahoma & GCA\\_000007465.2 & identical & ftp://ftp.ncbi.nlm.nih.gov/genomes/all/GCF/000/007/465/GCF\\_000007465.2\\_ASM746v2 &  &  \\\\\n",
       "\t23 & GCF\\_000007525.1 & PRJNA57939 & SAMN02603675 &  & reference genome & 206672 & 216816 & Bifidobacterium longum NCC2705 & strain=NCC2705 &  & latest & Complete Genome & Major & Full & 2005/01/21 & ASM752v1 & Nestle Research Center, Switzerland & GCA\\_000007525.1 & identical & ftp://ftp.ncbi.nlm.nih.gov/genomes/all/GCF/000/007/525/GCF\\_000007525.1\\_ASM752v1 &  &  \\\\\n",
       "\t24 & GCF\\_000007565.2 & PRJNA57843 & SAMN02603999 &  & reference genome & 160488 & 303 & Pseudomonas putida KT2440 & strain=KT2440 &  & latest & Complete Genome & Major & Full & 2016/02/26 & ASM756v2 & TIGR & GCA\\_000007565.2 & identical & ftp://ftp.ncbi.nlm.nih.gov/genomes/all/GCF/000/007/565/GCF\\_000007565.2\\_ASM756v2 &  &  \\\\\n",
       "\t25 & GCF\\_000007645.1 & PRJNA57861 & SAMN02603126 &  & reference genome & 176280 & 1282 & Staphylococcus epidermidis ATCC 12228 & strain=ATCC 12228 &  & latest & Complete Genome & Major & Full & 2002/12/20 & ASM764v1 & Chinese National HGC, Shanghai & GCA\\_000007645.1 & identical & ftp://ftp.ncbi.nlm.nih.gov/genomes/all/GCF/000/007/645/GCF\\_000007645.1\\_ASM764v1 &  &  \\\\\n",
       "\t26 & GCF\\_000007765.2 & PRJNA57631 & SAMN02603970 &  & reference genome & 227377 & 777 & Coxiella burnetii RSA 493 & strain=RSA 493 &  & latest & Complete Genome & Major & Full & 2016/11/10 & ASM776v2 & TIGR & GCA\\_000007765.2 & identical & ftp://ftp.ncbi.nlm.nih.gov/genomes/all/GCF/000/007/765/GCF\\_000007765.2\\_ASM776v2 &  &  \\\\\n",
       "\t27 & GCF\\_000007785.1 & PRJNA57669 & SAMN02603978 &  & reference genome & 226185 & 1351 & Enterococcus faecalis V583 & strain=V583 &  & latest & Complete Genome & Major & Full & 2003/03/28 & ASM778v1 & TIGR & GCA\\_000007785.1 & identical & ftp://ftp.ncbi.nlm.nih.gov/genomes/all/GCF/000/007/785/GCF\\_000007785.1\\_ASM778v1 &  &  \\\\\n",
       "\t28 & GCF\\_000007805.1 & PRJNA57967 & SAMN02604017 &  & reference genome & 223283 & 251701 & Pseudomonas syringae pv. tomato str. DC3000 & strain=DC3000 &  & latest & Complete Genome & Major & Full & 2003/03/05 & ASM780v1 & TIGR & GCA\\_000007805.1 & identical & ftp://ftp.ncbi.nlm.nih.gov/genomes/all/GCF/000/007/805/GCF\\_000007805.1\\_ASM780v1 &  & assembly from type material \\\\\n",
       "\t29 & GCF\\_000007825.1 & PRJNA57975 & SAMN02603340 &  & reference genome & 226900 & 1396 & Bacillus cereus ATCC 14579 & strain=ATCC 14579 &  & latest & Complete Genome & Major & Full & 2004/07/06 & ASM782v1 & INRA & GCA\\_000007825.1 & identical & ftp://ftp.ncbi.nlm.nih.gov/genomes/all/GCF/000/007/825/GCF\\_000007825.1\\_ASM782v1 &  & assembly from type material \\\\\n",
       "\t30 & GCF\\_000007845.1 & PRJNA57909 & SAMN02603432 &  & reference genome & 198094 & 1392 & Bacillus anthracis str. Ames & strain=Ames &  & latest & Complete Genome & Major & Full & 2003/04/30 & ASM784v1 & J. Craig Venter Institute & GCA\\_000007845.1 & identical & ftp://ftp.ncbi.nlm.nih.gov/genomes/all/GCF/000/007/845/GCF\\_000007845.1\\_ASM784v1 &  &  \\\\\n",
       "\t$\\dots$ & $\\dots$ & $\\dots$ & $\\dots$ & $\\dots$ & $\\dots$ & $\\dots$ & $\\dots$ & $\\dots$ & $\\dots$ & $\\dots$ & $\\dots$ & $\\dots$ & $\\dots$ & $\\dots$ & $\\dots$ & $\\dots$ & $\\dots$ & $\\dots$ & $\\dots$ & $\\dots$ & $\\dots$ & $\\dots$ \\\\\n",
       "\\end{tabular}\n"
      ],
      "text/plain": [
       "173×22 DataFrame. Omitted printing of 18 columns\n",
       "│ Row │ # assembly_accession │ bioproject  │ biosample    │ wgs_master │\n",
       "│     │ \u001b[90mString\u001b[39m               │ \u001b[90mString\u001b[39m      │ \u001b[90mString\u001b[39m       │ \u001b[90mString\u001b[39m     │\n",
       "├─────┼──────────────────────┼─────────────┼──────────────┼────────────┤\n",
       "│ 1   │ GCF_000001215.4      │ PRJNA164    │ SAMN02803731 │            │\n",
       "│ 2   │ GCF_000001405.39     │ PRJNA168    │              │            │\n",
       "│ 3   │ GCF_000001635.26     │ PRJNA169    │              │            │\n",
       "│ 4   │ GCF_000001735.4      │ PRJNA116    │ SAMN03081427 │            │\n",
       "│ 5   │ GCF_000002035.6      │ PRJNA13922  │ SAMN06930106 │            │\n",
       "│ 6   │ GCF_000002985.6      │ PRJNA158    │ SAMEA3138177 │            │\n",
       "│ 7   │ GCF_000005845.2      │ PRJNA57779  │ SAMN02604091 │            │\n",
       "│ 8   │ GCF_000006745.1      │ PRJNA57623  │ SAMN02603969 │            │\n",
       "│ 9   │ GCF_000006765.1      │ PRJNA57945  │ SAMN02603714 │            │\n",
       "│ 10  │ GCF_000006785.2      │ PRJNA57845  │ SAMN02604089 │            │\n",
       "⋮\n",
       "│ 163 │ GCF_000882815.3      │ PRJNA485481 │              │            │\n",
       "│ 164 │ GCF_000888475.1      │ PRJNA485481 │              │            │\n",
       "│ 165 │ GCF_000894695.1      │ PRJNA485481 │              │            │\n",
       "│ 166 │ GCF_000896295.1      │ PRJNA485481 │              │            │\n",
       "│ 167 │ GCF_000898155.1      │ PRJNA485481 │              │            │\n",
       "│ 168 │ GCF_000901155.1      │ PRJNA485481 │              │            │\n",
       "│ 169 │ GCF_000907255.1      │ PRJNA485481 │              │            │\n",
       "│ 170 │ GCF_000928555.1      │ PRJNA485481 │              │            │\n",
       "│ 171 │ GCF_001343785.1      │ PRJNA485481 │              │            │\n",
       "│ 172 │ GCF_001610725.1      │ PRJNA485481 │              │            │\n",
       "│ 173 │ GCF_001712785.1      │ PRJNA485481 │              │            │"
      ]
     },
     "execution_count": 3,
     "metadata": {},
     "output_type": "execute_result"
    }
   ],
   "source": [
    "refseq_metadata = DataFrame(uCSV.read(\"../datasets/assembly_summary_refseq.txt\", delim=\"\\t\", header=2))\n",
    "refseq_metadata = \n",
    "    refseq_metadata[\n",
    "        (refseq_metadata[:version_status] .== \"latest\") .&\n",
    "        (refseq_metadata[:genome_rep] .== \"Full\") .&\n",
    "        (refseq_metadata[:refseq_category] .== \"reference genome\")\n",
    "        , :]"
   ]
  },
  {
   "cell_type": "markdown",
   "metadata": {},
   "source": [
    "In the taxonomy [README](ftp://ftp.ncbi.nih.gov/pub/taxonomy/) we can see that the file `nodes.txt` contains a table mapping the taxonomy id (`tax_id` in `nodes.txt`, and `species_taxid` in `assembly_summary_refseq.txt`) to taxonomic rank and taxonomic division (among other fields that we'll ignore for now), so let's read that table in next"
   ]
  },
  {
   "cell_type": "code",
   "execution_count": 4,
   "metadata": {},
   "outputs": [
    {
     "data": {
      "text/html": [
       "<table class=\"data-frame\"><thead><tr><th></th><th>tax_id</th><th>rank</th><th>division_id</th></tr><tr><th></th><th>Int64</th><th>String</th><th>Int64</th></tr></thead><tbody><p>2,127,238 rows × 3 columns</p><tr><th>1</th><td>1</td><td>no rank</td><td>8</td></tr><tr><th>2</th><td>2</td><td>superkingdom</td><td>0</td></tr><tr><th>3</th><td>6</td><td>genus</td><td>0</td></tr><tr><th>4</th><td>7</td><td>species</td><td>0</td></tr><tr><th>5</th><td>9</td><td>species</td><td>0</td></tr><tr><th>6</th><td>10</td><td>genus</td><td>0</td></tr><tr><th>7</th><td>11</td><td>species</td><td>0</td></tr><tr><th>8</th><td>13</td><td>genus</td><td>0</td></tr><tr><th>9</th><td>14</td><td>species</td><td>0</td></tr><tr><th>10</th><td>16</td><td>genus</td><td>0</td></tr><tr><th>11</th><td>17</td><td>species</td><td>0</td></tr><tr><th>12</th><td>18</td><td>genus</td><td>0</td></tr><tr><th>13</th><td>19</td><td>species</td><td>0</td></tr><tr><th>14</th><td>20</td><td>genus</td><td>0</td></tr><tr><th>15</th><td>21</td><td>species</td><td>0</td></tr><tr><th>16</th><td>22</td><td>genus</td><td>0</td></tr><tr><th>17</th><td>23</td><td>species</td><td>0</td></tr><tr><th>18</th><td>24</td><td>species</td><td>0</td></tr><tr><th>19</th><td>25</td><td>species</td><td>0</td></tr><tr><th>20</th><td>27</td><td>species</td><td>0</td></tr><tr><th>21</th><td>28</td><td>species</td><td>0</td></tr><tr><th>22</th><td>29</td><td>order</td><td>0</td></tr><tr><th>23</th><td>31</td><td>family</td><td>0</td></tr><tr><th>24</th><td>32</td><td>genus</td><td>0</td></tr><tr><th>25</th><td>33</td><td>species</td><td>0</td></tr><tr><th>26</th><td>34</td><td>species</td><td>0</td></tr><tr><th>27</th><td>35</td><td>species</td><td>0</td></tr><tr><th>28</th><td>38</td><td>species</td><td>0</td></tr><tr><th>29</th><td>39</td><td>family</td><td>0</td></tr><tr><th>30</th><td>40</td><td>genus</td><td>0</td></tr><tr><th>&vellip;</th><td>&vellip;</td><td>&vellip;</td><td>&vellip;</td></tr></tbody></table>"
      ],
      "text/latex": [
       "\\begin{tabular}{r|ccc}\n",
       "\t& tax\\_id & rank & division\\_id\\\\\n",
       "\t\\hline\n",
       "\t& Int64 & String & Int64\\\\\n",
       "\t\\hline\n",
       "\t1 & 1 & no rank & 8 \\\\\n",
       "\t2 & 2 & superkingdom & 0 \\\\\n",
       "\t3 & 6 & genus & 0 \\\\\n",
       "\t4 & 7 & species & 0 \\\\\n",
       "\t5 & 9 & species & 0 \\\\\n",
       "\t6 & 10 & genus & 0 \\\\\n",
       "\t7 & 11 & species & 0 \\\\\n",
       "\t8 & 13 & genus & 0 \\\\\n",
       "\t9 & 14 & species & 0 \\\\\n",
       "\t10 & 16 & genus & 0 \\\\\n",
       "\t11 & 17 & species & 0 \\\\\n",
       "\t12 & 18 & genus & 0 \\\\\n",
       "\t13 & 19 & species & 0 \\\\\n",
       "\t14 & 20 & genus & 0 \\\\\n",
       "\t15 & 21 & species & 0 \\\\\n",
       "\t16 & 22 & genus & 0 \\\\\n",
       "\t17 & 23 & species & 0 \\\\\n",
       "\t18 & 24 & species & 0 \\\\\n",
       "\t19 & 25 & species & 0 \\\\\n",
       "\t20 & 27 & species & 0 \\\\\n",
       "\t21 & 28 & species & 0 \\\\\n",
       "\t22 & 29 & order & 0 \\\\\n",
       "\t23 & 31 & family & 0 \\\\\n",
       "\t24 & 32 & genus & 0 \\\\\n",
       "\t25 & 33 & species & 0 \\\\\n",
       "\t26 & 34 & species & 0 \\\\\n",
       "\t27 & 35 & species & 0 \\\\\n",
       "\t28 & 38 & species & 0 \\\\\n",
       "\t29 & 39 & family & 0 \\\\\n",
       "\t30 & 40 & genus & 0 \\\\\n",
       "\t$\\dots$ & $\\dots$ & $\\dots$ & $\\dots$ \\\\\n",
       "\\end{tabular}\n"
      ],
      "text/plain": [
       "2127238×3 DataFrame\n",
       "│ Row     │ tax_id  │ rank         │ division_id │\n",
       "│         │ \u001b[90mInt64\u001b[39m   │ \u001b[90mString\u001b[39m       │ \u001b[90mInt64\u001b[39m       │\n",
       "├─────────┼─────────┼──────────────┼─────────────┤\n",
       "│ 1       │ 1       │ no rank      │ 8           │\n",
       "│ 2       │ 2       │ superkingdom │ 0           │\n",
       "│ 3       │ 6       │ genus        │ 0           │\n",
       "│ 4       │ 7       │ species      │ 0           │\n",
       "│ 5       │ 9       │ species      │ 0           │\n",
       "│ 6       │ 10      │ genus        │ 0           │\n",
       "│ 7       │ 11      │ species      │ 0           │\n",
       "│ 8       │ 13      │ genus        │ 0           │\n",
       "│ 9       │ 14      │ species      │ 0           │\n",
       "│ 10      │ 16      │ genus        │ 0           │\n",
       "⋮\n",
       "│ 2127228 │ 2594891 │ no rank      │ 3           │\n",
       "│ 2127229 │ 2594900 │ no rank      │ 3           │\n",
       "│ 2127230 │ 2594903 │ no rank      │ 3           │\n",
       "│ 2127231 │ 2595110 │ genus        │ 1           │\n",
       "│ 2127232 │ 2596653 │ species      │ 1           │\n",
       "│ 2127233 │ 2596658 │ genus        │ 4           │\n",
       "│ 2127234 │ 2596659 │ genus        │ 4           │\n",
       "│ 2127235 │ 2596665 │ no rank      │ 4           │\n",
       "│ 2127236 │ 2596678 │ no rank      │ 4           │\n",
       "│ 2127237 │ 2596703 │ no rank      │ 4           │\n",
       "│ 2127238 │ 2596711 │ no rank      │ 4           │"
      ]
     },
     "execution_count": 4,
     "metadata": {},
     "output_type": "execute_result"
    }
   ],
   "source": [
    "columns = first(uCSV.read(\"../datasets/taxonomy/nodes.dmp\", delim=\"|\", trimwhitespace=true))[[1, 3, 5]]\n",
    "column_names = [:tax_id, :rank, :division_id]\n",
    "nodes = DataFrame(columns, column_names)"
   ]
  },
  {
   "cell_type": "markdown",
   "metadata": {},
   "source": [
    "The nodes table does not have species name. We don't necessarily need the species name because we have it available in the refseq table. However, it would be nice to have a second field of data to verify that the taxonomic ids from refseq and the taxonomic database are indeed referring to the same species. Thus, we will read in the names table and use it to verify species accuracy later. Note there are multiple fields associated for each taxonomic id in the names table (synonyms used by different authorities and references to the publications identifying/reclassifying the species), so we will drop those by subsetting to only include the rows with `\"scientific name\"`."
   ]
  },
  {
   "cell_type": "code",
   "execution_count": 5,
   "metadata": {},
   "outputs": [
    {
     "data": {
      "text/html": [
       "<table class=\"data-frame\"><thead><tr><th></th><th>tax_id</th><th>name</th><th>name_class</th></tr><tr><th></th><th>Int64</th><th>String</th><th>String</th></tr></thead><tbody><p>2,127,238 rows × 3 columns</p><tr><th>1</th><td>1</td><td>root</td><td>scientific name</td></tr><tr><th>2</th><td>2</td><td>Bacteria</td><td>scientific name</td></tr><tr><th>3</th><td>6</td><td>Azorhizobium</td><td>scientific name</td></tr><tr><th>4</th><td>7</td><td>Azorhizobium caulinodans</td><td>scientific name</td></tr><tr><th>5</th><td>9</td><td>Buchnera aphidicola</td><td>scientific name</td></tr><tr><th>6</th><td>10</td><td>Cellvibrio</td><td>scientific name</td></tr><tr><th>7</th><td>11</td><td>Cellulomonas gilvus</td><td>scientific name</td></tr><tr><th>8</th><td>13</td><td>Dictyoglomus</td><td>scientific name</td></tr><tr><th>9</th><td>14</td><td>Dictyoglomus thermophilum</td><td>scientific name</td></tr><tr><th>10</th><td>16</td><td>Methylophilus</td><td>scientific name</td></tr><tr><th>11</th><td>17</td><td>Methylophilus methylotrophus</td><td>scientific name</td></tr><tr><th>12</th><td>18</td><td>Pelobacter</td><td>scientific name</td></tr><tr><th>13</th><td>19</td><td>Pelobacter carbinolicus</td><td>scientific name</td></tr><tr><th>14</th><td>20</td><td>Phenylobacterium</td><td>scientific name</td></tr><tr><th>15</th><td>21</td><td>Phenylobacterium immobile</td><td>scientific name</td></tr><tr><th>16</th><td>22</td><td>Shewanella</td><td>scientific name</td></tr><tr><th>17</th><td>23</td><td>Shewanella colwelliana</td><td>scientific name</td></tr><tr><th>18</th><td>24</td><td>Shewanella putrefaciens</td><td>scientific name</td></tr><tr><th>19</th><td>25</td><td>Shewanella hanedai</td><td>scientific name</td></tr><tr><th>20</th><td>27</td><td>halophilic eubacterium NRCC 41227</td><td>scientific name</td></tr><tr><th>21</th><td>28</td><td>halophilic eubacterium</td><td>scientific name</td></tr><tr><th>22</th><td>29</td><td>Myxococcales</td><td>scientific name</td></tr><tr><th>23</th><td>31</td><td>Myxococcaceae</td><td>scientific name</td></tr><tr><th>24</th><td>32</td><td>Myxococcus</td><td>scientific name</td></tr><tr><th>25</th><td>33</td><td>Myxococcus fulvus</td><td>scientific name</td></tr><tr><th>26</th><td>34</td><td>Myxococcus xanthus</td><td>scientific name</td></tr><tr><th>27</th><td>35</td><td>Myxococcus macrosporus</td><td>scientific name</td></tr><tr><th>28</th><td>38</td><td>Archangium disciforme</td><td>scientific name</td></tr><tr><th>29</th><td>39</td><td>Archangiaceae</td><td>scientific name</td></tr><tr><th>30</th><td>40</td><td>Stigmatella</td><td>scientific name</td></tr><tr><th>&vellip;</th><td>&vellip;</td><td>&vellip;</td><td>&vellip;</td></tr></tbody></table>"
      ],
      "text/latex": [
       "\\begin{tabular}{r|ccc}\n",
       "\t& tax\\_id & name & name\\_class\\\\\n",
       "\t\\hline\n",
       "\t& Int64 & String & String\\\\\n",
       "\t\\hline\n",
       "\t1 & 1 & root & scientific name \\\\\n",
       "\t2 & 2 & Bacteria & scientific name \\\\\n",
       "\t3 & 6 & Azorhizobium & scientific name \\\\\n",
       "\t4 & 7 & Azorhizobium caulinodans & scientific name \\\\\n",
       "\t5 & 9 & Buchnera aphidicola & scientific name \\\\\n",
       "\t6 & 10 & Cellvibrio & scientific name \\\\\n",
       "\t7 & 11 & Cellulomonas gilvus & scientific name \\\\\n",
       "\t8 & 13 & Dictyoglomus & scientific name \\\\\n",
       "\t9 & 14 & Dictyoglomus thermophilum & scientific name \\\\\n",
       "\t10 & 16 & Methylophilus & scientific name \\\\\n",
       "\t11 & 17 & Methylophilus methylotrophus & scientific name \\\\\n",
       "\t12 & 18 & Pelobacter & scientific name \\\\\n",
       "\t13 & 19 & Pelobacter carbinolicus & scientific name \\\\\n",
       "\t14 & 20 & Phenylobacterium & scientific name \\\\\n",
       "\t15 & 21 & Phenylobacterium immobile & scientific name \\\\\n",
       "\t16 & 22 & Shewanella & scientific name \\\\\n",
       "\t17 & 23 & Shewanella colwelliana & scientific name \\\\\n",
       "\t18 & 24 & Shewanella putrefaciens & scientific name \\\\\n",
       "\t19 & 25 & Shewanella hanedai & scientific name \\\\\n",
       "\t20 & 27 & halophilic eubacterium NRCC 41227 & scientific name \\\\\n",
       "\t21 & 28 & halophilic eubacterium & scientific name \\\\\n",
       "\t22 & 29 & Myxococcales & scientific name \\\\\n",
       "\t23 & 31 & Myxococcaceae & scientific name \\\\\n",
       "\t24 & 32 & Myxococcus & scientific name \\\\\n",
       "\t25 & 33 & Myxococcus fulvus & scientific name \\\\\n",
       "\t26 & 34 & Myxococcus xanthus & scientific name \\\\\n",
       "\t27 & 35 & Myxococcus macrosporus & scientific name \\\\\n",
       "\t28 & 38 & Archangium disciforme & scientific name \\\\\n",
       "\t29 & 39 & Archangiaceae & scientific name \\\\\n",
       "\t30 & 40 & Stigmatella & scientific name \\\\\n",
       "\t$\\dots$ & $\\dots$ & $\\dots$ & $\\dots$ \\\\\n",
       "\\end{tabular}\n"
      ],
      "text/plain": [
       "2127238×3 DataFrame\n",
       "│ Row     │ tax_id  │ name                         │ name_class      │\n",
       "│         │ \u001b[90mInt64\u001b[39m   │ \u001b[90mString\u001b[39m                       │ \u001b[90mString\u001b[39m          │\n",
       "├─────────┼─────────┼──────────────────────────────┼─────────────────┤\n",
       "│ 1       │ 1       │ root                         │ scientific name │\n",
       "│ 2       │ 2       │ Bacteria                     │ scientific name │\n",
       "│ 3       │ 6       │ Azorhizobium                 │ scientific name │\n",
       "│ 4       │ 7       │ Azorhizobium caulinodans     │ scientific name │\n",
       "│ 5       │ 9       │ Buchnera aphidicola          │ scientific name │\n",
       "│ 6       │ 10      │ Cellvibrio                   │ scientific name │\n",
       "│ 7       │ 11      │ Cellulomonas gilvus          │ scientific name │\n",
       "│ 8       │ 13      │ Dictyoglomus                 │ scientific name │\n",
       "│ 9       │ 14      │ Dictyoglomus thermophilum    │ scientific name │\n",
       "│ 10      │ 16      │ Methylophilus                │ scientific name │\n",
       "⋮\n",
       "│ 2127228 │ 2594891 │ unclassified Aphroditevirus  │ scientific name │\n",
       "│ 2127229 │ 2594900 │ unclassified Mieseafarmvirus │ scientific name │\n",
       "│ 2127230 │ 2594903 │ unclassified Steinhofvirus   │ scientific name │\n",
       "│ 2127231 │ 2595110 │ Ortmanniana                  │ scientific name │\n",
       "│ 2127232 │ 2596653 │ Haloa cymbalum               │ scientific name │\n",
       "│ 2127233 │ 2596658 │ Plenogemma                   │ scientific name │\n",
       "│ 2127234 │ 2596659 │ Pulvigera                    │ scientific name │\n",
       "│ 2127235 │ 2596665 │ unclassified Portulaca       │ scientific name │\n",
       "│ 2127236 │ 2596678 │ unclassified Petrocodon      │ scientific name │\n",
       "│ 2127237 │ 2596703 │ unclassified Saussurea       │ scientific name │\n",
       "│ 2127238 │ 2596711 │ unclassified Stellaria       │ scientific name │"
      ]
     },
     "execution_count": 5,
     "metadata": {},
     "output_type": "execute_result"
    }
   ],
   "source": [
    "columns = first(uCSV.read(\"../datasets/taxonomy/names.dmp\", delim='|', trimwhitespace=true))[[1, 2, 4]]\n",
    "column_names = [:tax_id, :name, :name_class]\n",
    "names = DataFrame(columns, column_names)\n",
    "names = names[names[:name_class] .== \"scientific name\", :]"
   ]
  },
  {
   "cell_type": "markdown",
   "metadata": {},
   "source": [
    "Currently we have division_id as a field that will allow us to group by, approximately, taxonomic kingdom (the groups aren't all separated by kingdom). However, we don't have any names associated with the divisions yet. We can import division name information via the `division.dmp` file and join the tables on the `division_id` (1st) and `division_name` (3rd) fields"
   ]
  },
  {
   "cell_type": "code",
   "execution_count": 6,
   "metadata": {},
   "outputs": [
    {
     "data": {
      "text/html": [
       "<table class=\"data-frame\"><thead><tr><th></th><th>division_id</th><th>division_name</th></tr><tr><th></th><th>Int64</th><th>String</th></tr></thead><tbody><p>12 rows × 2 columns</p><tr><th>1</th><td>0</td><td>Bacteria</td></tr><tr><th>2</th><td>1</td><td>Invertebrates</td></tr><tr><th>3</th><td>2</td><td>Mammals</td></tr><tr><th>4</th><td>3</td><td>Phages</td></tr><tr><th>5</th><td>4</td><td>Plants and Fungi</td></tr><tr><th>6</th><td>5</td><td>Primates</td></tr><tr><th>7</th><td>6</td><td>Rodents</td></tr><tr><th>8</th><td>7</td><td>Synthetic and Chimeric</td></tr><tr><th>9</th><td>8</td><td>Unassigned</td></tr><tr><th>10</th><td>9</td><td>Viruses</td></tr><tr><th>11</th><td>10</td><td>Vertebrates</td></tr><tr><th>12</th><td>11</td><td>Environmental samples</td></tr></tbody></table>"
      ],
      "text/latex": [
       "\\begin{tabular}{r|cc}\n",
       "\t& division\\_id & division\\_name\\\\\n",
       "\t\\hline\n",
       "\t& Int64 & String\\\\\n",
       "\t\\hline\n",
       "\t1 & 0 & Bacteria \\\\\n",
       "\t2 & 1 & Invertebrates \\\\\n",
       "\t3 & 2 & Mammals \\\\\n",
       "\t4 & 3 & Phages \\\\\n",
       "\t5 & 4 & Plants and Fungi \\\\\n",
       "\t6 & 5 & Primates \\\\\n",
       "\t7 & 6 & Rodents \\\\\n",
       "\t8 & 7 & Synthetic and Chimeric \\\\\n",
       "\t9 & 8 & Unassigned \\\\\n",
       "\t10 & 9 & Viruses \\\\\n",
       "\t11 & 10 & Vertebrates \\\\\n",
       "\t12 & 11 & Environmental samples \\\\\n",
       "\\end{tabular}\n"
      ],
      "text/plain": [
       "12×2 DataFrame\n",
       "│ Row │ division_id │ division_name          │\n",
       "│     │ \u001b[90mInt64\u001b[39m       │ \u001b[90mString\u001b[39m                 │\n",
       "├─────┼─────────────┼────────────────────────┤\n",
       "│ 1   │ 0           │ Bacteria               │\n",
       "│ 2   │ 1           │ Invertebrates          │\n",
       "│ 3   │ 2           │ Mammals                │\n",
       "│ 4   │ 3           │ Phages                 │\n",
       "│ 5   │ 4           │ Plants and Fungi       │\n",
       "│ 6   │ 5           │ Primates               │\n",
       "│ 7   │ 6           │ Rodents                │\n",
       "│ 8   │ 7           │ Synthetic and Chimeric │\n",
       "│ 9   │ 8           │ Unassigned             │\n",
       "│ 10  │ 9           │ Viruses                │\n",
       "│ 11  │ 10          │ Vertebrates            │\n",
       "│ 12  │ 11          │ Environmental samples  │"
      ]
     },
     "execution_count": 6,
     "metadata": {},
     "output_type": "execute_result"
    }
   ],
   "source": [
    "columns = first(uCSV.read(\"../datasets/taxonomy/division.dmp\", delim='|', trimwhitespace=true))[[1, 3]]\n",
    "column_names = [:division_id, :division_name]\n",
    "divisions = DataFrame(columns, column_names)"
   ]
  },
  {
   "cell_type": "markdown",
   "metadata": {},
   "source": [
    "We can now join the nodes table with the names table, and the resulting table with the divisions table to associate taxonomy id & rank with species names and division names"
   ]
  },
  {
   "cell_type": "code",
   "execution_count": 7,
   "metadata": {},
   "outputs": [
    {
     "data": {
      "text/html": [
       "<table class=\"data-frame\"><thead><tr><th></th><th>tax_id</th><th>rank</th><th>division_id</th><th>name</th><th>name_class</th><th>division_name</th></tr><tr><th></th><th>Int64</th><th>String</th><th>Int64</th><th>String</th><th>String</th><th>String</th></tr></thead><tbody><p>2,127,238 rows × 6 columns</p><tr><th>1</th><td>1</td><td>no rank</td><td>8</td><td>root</td><td>scientific name</td><td>Unassigned</td></tr><tr><th>2</th><td>2</td><td>superkingdom</td><td>0</td><td>Bacteria</td><td>scientific name</td><td>Bacteria</td></tr><tr><th>3</th><td>6</td><td>genus</td><td>0</td><td>Azorhizobium</td><td>scientific name</td><td>Bacteria</td></tr><tr><th>4</th><td>7</td><td>species</td><td>0</td><td>Azorhizobium caulinodans</td><td>scientific name</td><td>Bacteria</td></tr><tr><th>5</th><td>9</td><td>species</td><td>0</td><td>Buchnera aphidicola</td><td>scientific name</td><td>Bacteria</td></tr><tr><th>6</th><td>10</td><td>genus</td><td>0</td><td>Cellvibrio</td><td>scientific name</td><td>Bacteria</td></tr><tr><th>7</th><td>11</td><td>species</td><td>0</td><td>Cellulomonas gilvus</td><td>scientific name</td><td>Bacteria</td></tr><tr><th>8</th><td>13</td><td>genus</td><td>0</td><td>Dictyoglomus</td><td>scientific name</td><td>Bacteria</td></tr><tr><th>9</th><td>14</td><td>species</td><td>0</td><td>Dictyoglomus thermophilum</td><td>scientific name</td><td>Bacteria</td></tr><tr><th>10</th><td>16</td><td>genus</td><td>0</td><td>Methylophilus</td><td>scientific name</td><td>Bacteria</td></tr><tr><th>11</th><td>17</td><td>species</td><td>0</td><td>Methylophilus methylotrophus</td><td>scientific name</td><td>Bacteria</td></tr><tr><th>12</th><td>18</td><td>genus</td><td>0</td><td>Pelobacter</td><td>scientific name</td><td>Bacteria</td></tr><tr><th>13</th><td>19</td><td>species</td><td>0</td><td>Pelobacter carbinolicus</td><td>scientific name</td><td>Bacteria</td></tr><tr><th>14</th><td>20</td><td>genus</td><td>0</td><td>Phenylobacterium</td><td>scientific name</td><td>Bacteria</td></tr><tr><th>15</th><td>21</td><td>species</td><td>0</td><td>Phenylobacterium immobile</td><td>scientific name</td><td>Bacteria</td></tr><tr><th>16</th><td>22</td><td>genus</td><td>0</td><td>Shewanella</td><td>scientific name</td><td>Bacteria</td></tr><tr><th>17</th><td>23</td><td>species</td><td>0</td><td>Shewanella colwelliana</td><td>scientific name</td><td>Bacteria</td></tr><tr><th>18</th><td>24</td><td>species</td><td>0</td><td>Shewanella putrefaciens</td><td>scientific name</td><td>Bacteria</td></tr><tr><th>19</th><td>25</td><td>species</td><td>0</td><td>Shewanella hanedai</td><td>scientific name</td><td>Bacteria</td></tr><tr><th>20</th><td>27</td><td>species</td><td>0</td><td>halophilic eubacterium NRCC 41227</td><td>scientific name</td><td>Bacteria</td></tr><tr><th>21</th><td>28</td><td>species</td><td>0</td><td>halophilic eubacterium</td><td>scientific name</td><td>Bacteria</td></tr><tr><th>22</th><td>29</td><td>order</td><td>0</td><td>Myxococcales</td><td>scientific name</td><td>Bacteria</td></tr><tr><th>23</th><td>31</td><td>family</td><td>0</td><td>Myxococcaceae</td><td>scientific name</td><td>Bacteria</td></tr><tr><th>24</th><td>32</td><td>genus</td><td>0</td><td>Myxococcus</td><td>scientific name</td><td>Bacteria</td></tr><tr><th>25</th><td>33</td><td>species</td><td>0</td><td>Myxococcus fulvus</td><td>scientific name</td><td>Bacteria</td></tr><tr><th>26</th><td>34</td><td>species</td><td>0</td><td>Myxococcus xanthus</td><td>scientific name</td><td>Bacteria</td></tr><tr><th>27</th><td>35</td><td>species</td><td>0</td><td>Myxococcus macrosporus</td><td>scientific name</td><td>Bacteria</td></tr><tr><th>28</th><td>38</td><td>species</td><td>0</td><td>Archangium disciforme</td><td>scientific name</td><td>Bacteria</td></tr><tr><th>29</th><td>39</td><td>family</td><td>0</td><td>Archangiaceae</td><td>scientific name</td><td>Bacteria</td></tr><tr><th>30</th><td>40</td><td>genus</td><td>0</td><td>Stigmatella</td><td>scientific name</td><td>Bacteria</td></tr><tr><th>&vellip;</th><td>&vellip;</td><td>&vellip;</td><td>&vellip;</td><td>&vellip;</td><td>&vellip;</td><td>&vellip;</td></tr></tbody></table>"
      ],
      "text/latex": [
       "\\begin{tabular}{r|cccccc}\n",
       "\t& tax\\_id & rank & division\\_id & name & name\\_class & division\\_name\\\\\n",
       "\t\\hline\n",
       "\t& Int64 & String & Int64 & String & String & String\\\\\n",
       "\t\\hline\n",
       "\t1 & 1 & no rank & 8 & root & scientific name & Unassigned \\\\\n",
       "\t2 & 2 & superkingdom & 0 & Bacteria & scientific name & Bacteria \\\\\n",
       "\t3 & 6 & genus & 0 & Azorhizobium & scientific name & Bacteria \\\\\n",
       "\t4 & 7 & species & 0 & Azorhizobium caulinodans & scientific name & Bacteria \\\\\n",
       "\t5 & 9 & species & 0 & Buchnera aphidicola & scientific name & Bacteria \\\\\n",
       "\t6 & 10 & genus & 0 & Cellvibrio & scientific name & Bacteria \\\\\n",
       "\t7 & 11 & species & 0 & Cellulomonas gilvus & scientific name & Bacteria \\\\\n",
       "\t8 & 13 & genus & 0 & Dictyoglomus & scientific name & Bacteria \\\\\n",
       "\t9 & 14 & species & 0 & Dictyoglomus thermophilum & scientific name & Bacteria \\\\\n",
       "\t10 & 16 & genus & 0 & Methylophilus & scientific name & Bacteria \\\\\n",
       "\t11 & 17 & species & 0 & Methylophilus methylotrophus & scientific name & Bacteria \\\\\n",
       "\t12 & 18 & genus & 0 & Pelobacter & scientific name & Bacteria \\\\\n",
       "\t13 & 19 & species & 0 & Pelobacter carbinolicus & scientific name & Bacteria \\\\\n",
       "\t14 & 20 & genus & 0 & Phenylobacterium & scientific name & Bacteria \\\\\n",
       "\t15 & 21 & species & 0 & Phenylobacterium immobile & scientific name & Bacteria \\\\\n",
       "\t16 & 22 & genus & 0 & Shewanella & scientific name & Bacteria \\\\\n",
       "\t17 & 23 & species & 0 & Shewanella colwelliana & scientific name & Bacteria \\\\\n",
       "\t18 & 24 & species & 0 & Shewanella putrefaciens & scientific name & Bacteria \\\\\n",
       "\t19 & 25 & species & 0 & Shewanella hanedai & scientific name & Bacteria \\\\\n",
       "\t20 & 27 & species & 0 & halophilic eubacterium NRCC 41227 & scientific name & Bacteria \\\\\n",
       "\t21 & 28 & species & 0 & halophilic eubacterium & scientific name & Bacteria \\\\\n",
       "\t22 & 29 & order & 0 & Myxococcales & scientific name & Bacteria \\\\\n",
       "\t23 & 31 & family & 0 & Myxococcaceae & scientific name & Bacteria \\\\\n",
       "\t24 & 32 & genus & 0 & Myxococcus & scientific name & Bacteria \\\\\n",
       "\t25 & 33 & species & 0 & Myxococcus fulvus & scientific name & Bacteria \\\\\n",
       "\t26 & 34 & species & 0 & Myxococcus xanthus & scientific name & Bacteria \\\\\n",
       "\t27 & 35 & species & 0 & Myxococcus macrosporus & scientific name & Bacteria \\\\\n",
       "\t28 & 38 & species & 0 & Archangium disciforme & scientific name & Bacteria \\\\\n",
       "\t29 & 39 & family & 0 & Archangiaceae & scientific name & Bacteria \\\\\n",
       "\t30 & 40 & genus & 0 & Stigmatella & scientific name & Bacteria \\\\\n",
       "\t$\\dots$ & $\\dots$ & $\\dots$ & $\\dots$ & $\\dots$ & $\\dots$ & $\\dots$ \\\\\n",
       "\\end{tabular}\n"
      ],
      "text/plain": [
       "2127238×6 DataFrame. Omitted printing of 3 columns\n",
       "│ Row     │ tax_id  │ rank         │ division_id │\n",
       "│         │ \u001b[90mInt64\u001b[39m   │ \u001b[90mString\u001b[39m       │ \u001b[90mInt64\u001b[39m       │\n",
       "├─────────┼─────────┼──────────────┼─────────────┤\n",
       "│ 1       │ 1       │ no rank      │ 8           │\n",
       "│ 2       │ 2       │ superkingdom │ 0           │\n",
       "│ 3       │ 6       │ genus        │ 0           │\n",
       "│ 4       │ 7       │ species      │ 0           │\n",
       "│ 5       │ 9       │ species      │ 0           │\n",
       "│ 6       │ 10      │ genus        │ 0           │\n",
       "│ 7       │ 11      │ species      │ 0           │\n",
       "│ 8       │ 13      │ genus        │ 0           │\n",
       "│ 9       │ 14      │ species      │ 0           │\n",
       "│ 10      │ 16      │ genus        │ 0           │\n",
       "⋮\n",
       "│ 2127228 │ 2594891 │ no rank      │ 3           │\n",
       "│ 2127229 │ 2594900 │ no rank      │ 3           │\n",
       "│ 2127230 │ 2594903 │ no rank      │ 3           │\n",
       "│ 2127231 │ 2595110 │ genus        │ 1           │\n",
       "│ 2127232 │ 2596653 │ species      │ 1           │\n",
       "│ 2127233 │ 2596658 │ genus        │ 4           │\n",
       "│ 2127234 │ 2596659 │ genus        │ 4           │\n",
       "│ 2127235 │ 2596665 │ no rank      │ 4           │\n",
       "│ 2127236 │ 2596678 │ no rank      │ 4           │\n",
       "│ 2127237 │ 2596703 │ no rank      │ 4           │\n",
       "│ 2127238 │ 2596711 │ no rank      │ 4           │"
      ]
     },
     "execution_count": 7,
     "metadata": {},
     "output_type": "execute_result"
    }
   ],
   "source": [
    "taxonomy_info = join(join(nodes, names; on = :tax_id, kind = :inner), divisions, on = :division_id, kind = :inner)"
   ]
  },
  {
   "cell_type": "markdown",
   "metadata": {},
   "source": [
    "And for the final join, we can merge our taxonomy information with the refseq assembly summary table to associate taxonomic division information with the reference genomes we have available"
   ]
  },
  {
   "cell_type": "code",
   "execution_count": 8,
   "metadata": {},
   "outputs": [
    {
     "data": {
      "text/html": [
       "<table class=\"data-frame\"><thead><tr><th></th><th>tax_id</th><th>rank</th><th>division_id</th><th>name</th><th>name_class</th><th>division_name</th><th># assembly_accession</th><th>bioproject</th><th>biosample</th><th>wgs_master</th><th>refseq_category</th><th>taxid</th><th>organism_name</th><th>infraspecific_name</th><th>isolate</th><th>version_status</th><th>assembly_level</th><th>release_type</th><th>genome_rep</th><th>seq_rel_date</th><th>asm_name</th><th>submitter</th><th>gbrs_paired_asm</th><th>paired_asm_comp</th><th>ftp_path</th><th>excluded_from_refseq</th><th>relation_to_type_material</th></tr><tr><th></th><th>Int64</th><th>String</th><th>Int64</th><th>String</th><th>String</th><th>String</th><th>String</th><th>String</th><th>String</th><th>String</th><th>String</th><th>Int64</th><th>String</th><th>String</th><th>String</th><th>String</th><th>String</th><th>String</th><th>String</th><th>String</th><th>String</th><th>String</th><th>String</th><th>String</th><th>String</th><th>String</th><th>String</th></tr></thead><tbody><p>173 rows × 27 columns</p><tr><th>1</th><td>9</td><td>species</td><td>0</td><td>Buchnera aphidicola</td><td>scientific name</td><td>Bacteria</td><td>GCF_000009605.1</td><td>PRJNA57805</td><td>SAMD00061095</td><td></td><td>reference genome</td><td>107806</td><td>Buchnera aphidicola str. APS (Acyrthosiphon pisum)</td><td>strain=APS</td><td>Tokyo1998</td><td>latest</td><td>Complete Genome</td><td>Major</td><td>Full</td><td>2004/05/11</td><td>ASM960v1</td><td>Rikken GSC</td><td>GCA_000009605.1</td><td>identical</td><td>ftp://ftp.ncbi.nlm.nih.gov/genomes/all/GCF/000/009/605/GCF_000009605.1_ASM960v1</td><td></td><td></td></tr><tr><th>2</th><td>139</td><td>species</td><td>0</td><td>Borreliella burgdorferi</td><td>scientific name</td><td>Bacteria</td><td>GCF_000008685.2</td><td>PRJNA57581</td><td>SAMN02603966</td><td></td><td>reference genome</td><td>224326</td><td>Borreliella burgdorferi B31</td><td>strain=B31</td><td></td><td>latest</td><td>Complete Genome</td><td>Major</td><td>Full</td><td>2011/11/09</td><td>ASM868v2</td><td>TIGR</td><td>GCA_000008685.2</td><td>identical</td><td>ftp://ftp.ncbi.nlm.nih.gov/genomes/all/GCF/000/008/685/GCF_000008685.2_ASM868v2</td><td></td><td>assembly from type material</td></tr><tr><th>3</th><td>158</td><td>species</td><td>0</td><td>Treponema denticola</td><td>scientific name</td><td>Bacteria</td><td>GCF_000008185.1</td><td>PRJNA57583</td><td>SAMN02603967</td><td></td><td>reference genome</td><td>243275</td><td>Treponema denticola ATCC 35405</td><td>strain=ATCC 35405</td><td></td><td>latest</td><td>Complete Genome</td><td>Major</td><td>Full</td><td>2004/02/03</td><td>ASM818v1</td><td>TIGR</td><td>GCA_000008185.1</td><td>identical</td><td>ftp://ftp.ncbi.nlm.nih.gov/genomes/all/GCF/000/008/185/GCF_000008185.1_ASM818v1</td><td></td><td>assembly from type material</td></tr><tr><th>4</th><td>173</td><td>species</td><td>0</td><td>Leptospira interrogans</td><td>scientific name</td><td>Bacteria</td><td>GCF_000092565.1</td><td>PRJNA57881</td><td>SAMN02603127</td><td></td><td>reference genome</td><td>189518</td><td>Leptospira interrogans serovar Lai str. 56601</td><td>strain=56601</td><td></td><td>latest</td><td>Complete Genome</td><td>Major</td><td>Full</td><td>2010/04/06</td><td>ASM9256v1</td><td>Chinese National HGC, Shanghai</td><td>GCA_000092565.1</td><td>identical</td><td>ftp://ftp.ncbi.nlm.nih.gov/genomes/all/GCF/000/092/565/GCF_000092565.1_ASM9256v1</td><td></td><td></td></tr><tr><th>5</th><td>197</td><td>species</td><td>0</td><td>Campylobacter jejuni</td><td>scientific name</td><td>Bacteria</td><td>GCF_000009085.1</td><td>PRJNA57587</td><td>SAMEA1705929</td><td></td><td>reference genome</td><td>192222</td><td>Campylobacter jejuni subsp. jejuni NCTC 11168 = ATCC 700819</td><td>strain=NCTC 11168</td><td></td><td>latest</td><td>Complete Genome</td><td>Major</td><td>Full</td><td>2003/05/06</td><td>ASM908v1</td><td>Sanger Institute</td><td>GCA_000009085.1</td><td>identical</td><td>ftp://ftp.ncbi.nlm.nih.gov/genomes/all/GCF/000/009/085/GCF_000009085.1_ASM908v1</td><td></td><td></td></tr><tr><th>6</th><td>210</td><td>species</td><td>0</td><td>Helicobacter pylori</td><td>scientific name</td><td>Bacteria</td><td>GCF_000008525.1</td><td>PRJNA57787</td><td>SAMN02603995</td><td></td><td>reference genome</td><td>85962</td><td>Helicobacter pylori 26695</td><td>strain=26695</td><td></td><td>latest</td><td>Complete Genome</td><td>Major</td><td>Full</td><td>1999/12/22</td><td>ASM852v1</td><td>TIGR</td><td>GCA_000008525.1</td><td>identical</td><td>ftp://ftp.ncbi.nlm.nih.gov/genomes/all/GCF/000/008/525/GCF_000008525.1_ASM852v1</td><td></td><td></td></tr><tr><th>7</th><td>263</td><td>species</td><td>0</td><td>Francisella tularensis</td><td>scientific name</td><td>Bacteria</td><td>GCF_000008985.1</td><td>PRJNA57589</td><td>SAMEA3138185</td><td></td><td>reference genome</td><td>177416</td><td>Francisella tularensis subsp. tularensis SCHU S4</td><td>strain=SCHU S4</td><td></td><td>latest</td><td>Complete Genome</td><td>Major</td><td>Full</td><td>2009/06/18</td><td>ASM898v1</td><td>Swedish Defence Research Agency</td><td>GCA_000008985.1</td><td>identical</td><td>ftp://ftp.ncbi.nlm.nih.gov/genomes/all/GCF/000/008/985/GCF_000008985.1_ASM898v1</td><td></td><td></td></tr><tr><th>8</th><td>274</td><td>species</td><td>0</td><td>Thermus thermophilus</td><td>scientific name</td><td>Bacteria</td><td>GCF_000091545.1</td><td>PRJNA58223</td><td>SAMD00061070</td><td></td><td>reference genome</td><td>300852</td><td>Thermus thermophilus HB8</td><td>strain=HB8</td><td></td><td>latest</td><td>Complete Genome</td><td>Major</td><td>Full</td><td>2004/11/15</td><td>ASM9154v1</td><td>National Institute of Advanced Industrial Science and Technology, Japan</td><td>GCA_000091545.1</td><td>identical</td><td>ftp://ftp.ncbi.nlm.nih.gov/genomes/all/GCF/000/091/545/GCF_000091545.1_ASM9154v1</td><td></td><td>assembly from type material</td></tr><tr><th>9</th><td>287</td><td>species</td><td>0</td><td>Pseudomonas aeruginosa</td><td>scientific name</td><td>Bacteria</td><td>GCF_000006765.1</td><td>PRJNA57945</td><td>SAMN02603714</td><td></td><td>reference genome</td><td>208964</td><td>Pseudomonas aeruginosa PAO1</td><td>strain=PAO1</td><td></td><td>latest</td><td>Complete Genome</td><td>Major</td><td>Full</td><td>2006/07/07</td><td>ASM676v1</td><td>PathoGenesis Corporation</td><td>GCA_000006765.1</td><td>identical</td><td>ftp://ftp.ncbi.nlm.nih.gov/genomes/all/GCF/000/006/765/GCF_000006765.1_ASM676v1</td><td></td><td></td></tr><tr><th>10</th><td>303</td><td>species</td><td>0</td><td>Pseudomonas putida</td><td>scientific name</td><td>Bacteria</td><td>GCF_000007565.2</td><td>PRJNA57843</td><td>SAMN02603999</td><td></td><td>reference genome</td><td>160488</td><td>Pseudomonas putida KT2440</td><td>strain=KT2440</td><td></td><td>latest</td><td>Complete Genome</td><td>Major</td><td>Full</td><td>2016/02/26</td><td>ASM756v2</td><td>TIGR</td><td>GCA_000007565.2</td><td>identical</td><td>ftp://ftp.ncbi.nlm.nih.gov/genomes/all/GCF/000/007/565/GCF_000007565.2_ASM756v2</td><td></td><td></td></tr><tr><th>11</th><td>317</td><td>species</td><td>0</td><td>Pseudomonas syringae</td><td>scientific name</td><td>Bacteria</td><td>GCF_000012245.1</td><td>PRJNA57931</td><td>SAMN02604347</td><td></td><td>reference genome</td><td>205918</td><td>Pseudomonas syringae pv. syringae B728a</td><td>strain=B728a</td><td></td><td>latest</td><td>Complete Genome</td><td>Major</td><td>Full</td><td>2005/05/12</td><td>ASM1224v1</td><td>DOE Joint Genome Institute</td><td>GCA_000012245.1</td><td>identical</td><td>ftp://ftp.ncbi.nlm.nih.gov/genomes/all/GCF/000/012/245/GCF_000012245.1_ASM1224v1</td><td></td><td></td></tr><tr><th>12</th><td>339</td><td>species</td><td>0</td><td>Xanthomonas campestris</td><td>scientific name</td><td>Bacteria</td><td>GCF_000007145.1</td><td>PRJNA57887</td><td>SAMN02603845</td><td></td><td>reference genome</td><td>190485</td><td>Xanthomonas campestris pv. campestris str. ATCC 33913</td><td>strain=ATCC 33913</td><td></td><td>latest</td><td>Complete Genome</td><td>Major</td><td>Full</td><td>2002/05/24</td><td>ASM714v1</td><td>Sao Paulo state (Brazil) Consortium</td><td>GCA_000007145.1</td><td>identical</td><td>ftp://ftp.ncbi.nlm.nih.gov/genomes/all/GCF/000/007/145/GCF_000007145.1_ASM714v1</td><td></td><td>assembly from type material</td></tr><tr><th>13</th><td>380</td><td>species</td><td>0</td><td>Sinorhizobium fredii</td><td>scientific name</td><td>Bacteria</td><td>GCF_000018545.1</td><td>PRJNA59081</td><td>SAMN02603283</td><td></td><td>reference genome</td><td>394</td><td>Sinorhizobium fredii NGR234</td><td>strain=NGR234</td><td></td><td>latest</td><td>Complete Genome</td><td>Major</td><td>Full</td><td>2009/04/22</td><td>ASM1854v1</td><td>Goettingen Genomics Laboratory</td><td>GCA_000018545.1</td><td>identical</td><td>ftp://ftp.ncbi.nlm.nih.gov/genomes/all/GCF/000/018/545/GCF_000018545.1_ASM1854v1</td><td></td><td></td></tr><tr><th>14</th><td>382</td><td>species</td><td>0</td><td>Sinorhizobium meliloti</td><td>scientific name</td><td>Bacteria</td><td>GCF_000006965.1</td><td>PRJNA57603</td><td>SAMEA3283068</td><td></td><td>reference genome</td><td>266834</td><td>Sinorhizobium meliloti 1021</td><td>strain=1021</td><td></td><td>latest</td><td>Complete Genome</td><td>Major</td><td>Full</td><td>2003/05/06</td><td>ASM696v1</td><td>MELILO</td><td>GCA_000006965.1</td><td>identical</td><td>ftp://ftp.ncbi.nlm.nih.gov/genomes/all/GCF/000/006/965/GCF_000006965.1_ASM696v1</td><td></td><td></td></tr><tr><th>15</th><td>446</td><td>species</td><td>0</td><td>Legionella pneumophila</td><td>scientific name</td><td>Bacteria</td><td>GCF_000008485.1</td><td>PRJNA57609</td><td>SAMN02603156</td><td></td><td>reference genome</td><td>272624</td><td>Legionella pneumophila subsp. pneumophila str. Philadelphia 1</td><td>strain=Philadelphia 1</td><td></td><td>latest</td><td>Complete Genome</td><td>Major</td><td>Full</td><td>2004/09/24</td><td>ASM848v1</td><td>Columbia Genome Center</td><td>GCA_000008485.1</td><td>identical</td><td>ftp://ftp.ncbi.nlm.nih.gov/genomes/all/GCF/000/008/485/GCF_000008485.1_ASM848v1</td><td></td><td>assembly from type material</td></tr><tr><th>16</th><td>485</td><td>species</td><td>0</td><td>Neisseria gonorrhoeae</td><td>scientific name</td><td>Bacteria</td><td>GCF_000006845.1</td><td>PRJNA57611</td><td>SAMN02604088</td><td></td><td>reference genome</td><td>242231</td><td>Neisseria gonorrhoeae FA 1090</td><td>strain=FA 1090</td><td></td><td>latest</td><td>Complete Genome</td><td>Major</td><td>Full</td><td>2005/02/14</td><td>ASM684v1</td><td>Univ. Oklahoma</td><td>GCA_000006845.1</td><td>identical</td><td>ftp://ftp.ncbi.nlm.nih.gov/genomes/all/GCF/000/006/845/GCF_000006845.1_ASM684v1</td><td></td><td></td></tr><tr><th>17</th><td>487</td><td>species</td><td>0</td><td>Neisseria meningitidis</td><td>scientific name</td><td>Bacteria</td><td>GCF_000008805.1</td><td>PRJNA57817</td><td>SAMN02603997</td><td></td><td>reference genome</td><td>122586</td><td>Neisseria meningitidis MC58</td><td>strain=MC58</td><td></td><td>latest</td><td>Complete Genome</td><td>Major</td><td>Full</td><td>2005/05/26</td><td>ASM880v1</td><td>TIGR</td><td>GCA_000008805.1</td><td>identical</td><td>ftp://ftp.ncbi.nlm.nih.gov/genomes/all/GCF/000/008/805/GCF_000008805.1_ASM880v1</td><td></td><td></td></tr><tr><th>18</th><td>518</td><td>species</td><td>0</td><td>Bordetella bronchiseptica</td><td>scientific name</td><td>Bacteria</td><td>GCF_000318015.1</td><td>PRJNA178913</td><td>SAMEA2272388</td><td></td><td>reference genome</td><td>568707</td><td>Bordetella bronchiseptica 253</td><td>strain=253</td><td></td><td>latest</td><td>Complete Genome</td><td>Major</td><td>Full</td><td>2012/10/11</td><td>ASM31801v1</td><td>WTSI</td><td>GCA_000318015.1</td><td>identical</td><td>ftp://ftp.ncbi.nlm.nih.gov/genomes/all/GCF/000/318/015/GCF_000318015.1_ASM31801v1</td><td></td><td></td></tr><tr><th>19</th><td>519</td><td>species</td><td>0</td><td>Bordetella parapertussis</td><td>scientific name</td><td>Bacteria</td><td>GCF_000317935.1</td><td>PRJEA177516</td><td>SAMEA2272448</td><td></td><td>reference genome</td><td>1208660</td><td>Bordetella parapertussis Bpp5</td><td>strain=Bpp5</td><td></td><td>latest</td><td>Complete Genome</td><td>Major</td><td>Full</td><td>2012/10/08</td><td>ASM31793v1</td><td>WTSI</td><td>GCA_000317935.1</td><td>identical</td><td>ftp://ftp.ncbi.nlm.nih.gov/genomes/all/GCF/000/317/935/GCF_000317935.1_ASM31793v1</td><td></td><td></td></tr><tr><th>20</th><td>520</td><td>species</td><td>0</td><td>Bordetella pertussis</td><td>scientific name</td><td>Bacteria</td><td>GCF_000195715.1</td><td>PRJNA57617</td><td>SAMEA1705933</td><td></td><td>reference genome</td><td>257313</td><td>Bordetella pertussis Tohama I</td><td>strain=Tohama I</td><td></td><td>latest</td><td>Complete Genome</td><td>Major</td><td>Full</td><td>2003/08/12</td><td>ASM19571v1</td><td>Sanger Institute</td><td>GCA_000195715.1</td><td>identical</td><td>ftp://ftp.ncbi.nlm.nih.gov/genomes/all/GCF/000/195/715/GCF_000195715.1_ASM19571v1</td><td></td><td></td></tr><tr><th>21</th><td>548</td><td>species</td><td>0</td><td>Klebsiella aerogenes</td><td>scientific name</td><td>Bacteria</td><td>GCF_000215745.1</td><td>PRJNA68103</td><td>SAMN02603581</td><td></td><td>reference genome</td><td>1028307</td><td>Klebsiella aerogenes KCTC 2190</td><td>strain=KCTC 2190</td><td></td><td>latest</td><td>Complete Genome</td><td>Major</td><td>Full</td><td>2011/06/03</td><td>ASM21574v1</td><td>Macrogen Inc.</td><td>GCA_000215745.1</td><td>identical</td><td>ftp://ftp.ncbi.nlm.nih.gov/genomes/all/GCF/000/215/745/GCF_000215745.1_ASM21574v1</td><td></td><td>assembly from type material</td></tr><tr><th>22</th><td>550</td><td>species</td><td>0</td><td>Enterobacter cloacae</td><td>scientific name</td><td>Bacteria</td><td>GCF_000025565.1</td><td>PRJNA48363</td><td>SAMN02603901</td><td></td><td>reference genome</td><td>716541</td><td>Enterobacter cloacae subsp. cloacae ATCC 13047</td><td>strain=ATCC 13047</td><td></td><td>latest</td><td>Complete Genome</td><td>Major</td><td>Full</td><td>2010/04/23</td><td>ASM2556v1</td><td>TEDA School of Biological Sciences and Biotechnology, Nankai University</td><td>GCA_000025565.1</td><td>identical</td><td>ftp://ftp.ncbi.nlm.nih.gov/genomes/all/GCF/000/025/565/GCF_000025565.1_ASM2556v1</td><td></td><td>assembly from type material</td></tr><tr><th>23</th><td>562</td><td>species</td><td>0</td><td>Escherichia coli</td><td>scientific name</td><td>Bacteria</td><td>GCF_000005845.2</td><td>PRJNA57779</td><td>SAMN02604091</td><td></td><td>reference genome</td><td>511145</td><td>Escherichia coli str. K-12 substr. MG1655</td><td>strain=K-12 substr. MG1655</td><td></td><td>latest</td><td>Complete Genome</td><td>Major</td><td>Full</td><td>2013/09/26</td><td>ASM584v2</td><td>Univ. Wisconsin</td><td>GCA_000005845.2</td><td>identical</td><td>ftp://ftp.ncbi.nlm.nih.gov/genomes/all/GCF/000/005/845/GCF_000005845.2_ASM584v2</td><td></td><td></td></tr><tr><th>24</th><td>562</td><td>species</td><td>0</td><td>Escherichia coli</td><td>scientific name</td><td>Bacteria</td><td>GCF_000008865.2</td><td>PRJNA57781</td><td>SAMN01911278</td><td></td><td>reference genome</td><td>386585</td><td>Escherichia coli O157:H7 str. Sakai</td><td>strain=Sakai substr. RIMD 0509952</td><td></td><td>latest</td><td>Complete Genome</td><td>Major</td><td>Full</td><td>2018/06/08</td><td>ASM886v2</td><td>GIRC</td><td>GCA_000008865.2</td><td>identical</td><td>ftp://ftp.ncbi.nlm.nih.gov/genomes/all/GCF/000/008/865/GCF_000008865.2_ASM886v2</td><td></td><td></td></tr><tr><th>25</th><td>562</td><td>species</td><td>0</td><td>Escherichia coli</td><td>scientific name</td><td>Bacteria</td><td>GCF_000026325.1</td><td>PRJNA62981</td><td>SAMEA3138233</td><td></td><td>reference genome</td><td>585056</td><td>Escherichia coli UMN026</td><td>strain=UMN026</td><td></td><td>latest</td><td>Chromosome</td><td>Major</td><td>Full</td><td>2008/12/18</td><td>ASM2632v2</td><td>Genoscope</td><td>GCA_000026325.2</td><td>identical</td><td>ftp://ftp.ncbi.nlm.nih.gov/genomes/all/GCF/000/026/325/GCF_000026325.1_ASM2632v1</td><td></td><td></td></tr><tr><th>26</th><td>562</td><td>species</td><td>0</td><td>Escherichia coli</td><td>scientific name</td><td>Bacteria</td><td>GCF_000026345.1</td><td>PRJNA59381</td><td>SAMEA3138234</td><td></td><td>reference genome</td><td>585057</td><td>Escherichia coli IAI39</td><td>strain=IAI39</td><td></td><td>latest</td><td>Complete Genome</td><td>Major</td><td>Full</td><td>2008/12/18</td><td>ASM2634v1</td><td>Genoscope</td><td>GCA_000026345.1</td><td>identical</td><td>ftp://ftp.ncbi.nlm.nih.gov/genomes/all/GCF/000/026/345/GCF_000026345.1_ASM2634v1</td><td></td><td></td></tr><tr><th>27</th><td>562</td><td>species</td><td>0</td><td>Escherichia coli</td><td>scientific name</td><td>Bacteria</td><td>GCF_000183345.1</td><td>PRJNA161987</td><td>SAMN02603727</td><td></td><td>reference genome</td><td>685038</td><td>Escherichia coli O83:H1 str. NRG 857C</td><td>strain=NRG 857C</td><td></td><td>latest</td><td>Complete Genome</td><td>Major</td><td>Full</td><td>2010/11/30</td><td>ASM18334v1</td><td>Public Health Agency of Canada Laboratory for Foodborne Zoonoses</td><td>GCA_000183345.1</td><td>identical</td><td>ftp://ftp.ncbi.nlm.nih.gov/genomes/all/GCF/000/183/345/GCF_000183345.1_ASM18334v1</td><td></td><td></td></tr><tr><th>28</th><td>562</td><td>species</td><td>0</td><td>Escherichia coli</td><td>scientific name</td><td>Bacteria</td><td>GCF_000299455.1</td><td>PRJNA176127</td><td>SAMN01831188</td><td></td><td>reference genome</td><td>1133852</td><td>Escherichia coli O104:H4 str. 2011C-3493</td><td>strain=2011C-3493</td><td></td><td>latest</td><td>Complete Genome</td><td>Major</td><td>Full</td><td>2012/09/27</td><td>ASM29945v1</td><td>Los Alamos National Laboratory</td><td>GCA_000299455.1</td><td>identical</td><td>ftp://ftp.ncbi.nlm.nih.gov/genomes/all/GCF/000/299/455/GCF_000299455.1_ASM29945v1</td><td></td><td></td></tr><tr><th>29</th><td>573</td><td>species</td><td>0</td><td>Klebsiella pneumoniae</td><td>scientific name</td><td>Bacteria</td><td>GCF_000240185.1</td><td>PRJNA84387</td><td>SAMN02602959</td><td></td><td>reference genome</td><td>1125630</td><td>Klebsiella pneumoniae subsp. pneumoniae HS11286</td><td>strain=HS11286</td><td></td><td>latest</td><td>Complete Genome</td><td>Major</td><td>Full</td><td>2011/12/27</td><td>ASM24018v2</td><td> Bioinformatics &amp; Microbial Genomics, State Key Laboratory of Microbial Metabolism, Shanghai Jiaotong University</td><td>GCA_000240185.2</td><td>identical</td><td>ftp://ftp.ncbi.nlm.nih.gov/genomes/all/GCF/000/240/185/GCF_000240185.1_ASM24018v2</td><td></td><td></td></tr><tr><th>30</th><td>622</td><td>species</td><td>0</td><td>Shigella dysenteriae</td><td>scientific name</td><td>Bacteria</td><td>GCF_000012005.1</td><td>PRJNA58213</td><td>SAMN02603600</td><td></td><td>reference genome</td><td>300267</td><td>Shigella dysenteriae Sd197</td><td>strain=Sd197</td><td></td><td>latest</td><td>Complete Genome</td><td>Major</td><td>Full</td><td>2007/04/05</td><td>ASM1200v1</td><td>Microbial Genome Center of ChMPH</td><td>GCA_000012005.1</td><td>identical</td><td>ftp://ftp.ncbi.nlm.nih.gov/genomes/all/GCF/000/012/005/GCF_000012005.1_ASM1200v1</td><td></td><td></td></tr><tr><th>&vellip;</th><td>&vellip;</td><td>&vellip;</td><td>&vellip;</td><td>&vellip;</td><td>&vellip;</td><td>&vellip;</td><td>&vellip;</td><td>&vellip;</td><td>&vellip;</td><td>&vellip;</td><td>&vellip;</td><td>&vellip;</td><td>&vellip;</td><td>&vellip;</td><td>&vellip;</td><td>&vellip;</td><td>&vellip;</td><td>&vellip;</td><td>&vellip;</td><td>&vellip;</td><td>&vellip;</td><td>&vellip;</td><td>&vellip;</td><td>&vellip;</td><td>&vellip;</td><td>&vellip;</td><td>&vellip;</td></tr></tbody></table>"
      ],
      "text/latex": [
       "\\begin{tabular}{r|ccccccccccccccccccccccccccc}\n",
       "\t& tax\\_id & rank & division\\_id & name & name\\_class & division\\_name & \\# assembly\\_accession & bioproject & biosample & wgs\\_master & refseq\\_category & taxid & organism\\_name & infraspecific\\_name & isolate & version\\_status & assembly\\_level & release\\_type & genome\\_rep & seq\\_rel\\_date & asm\\_name & submitter & gbrs\\_paired\\_asm & paired\\_asm\\_comp & ftp\\_path & excluded\\_from\\_refseq & relation\\_to\\_type\\_material\\\\\n",
       "\t\\hline\n",
       "\t& Int64 & String & Int64 & String & String & String & String & String & String & String & String & Int64 & String & String & String & String & String & String & String & String & String & String & String & String & String & String & String\\\\\n",
       "\t\\hline\n",
       "\t1 & 9 & species & 0 & Buchnera aphidicola & scientific name & Bacteria & GCF\\_000009605.1 & PRJNA57805 & SAMD00061095 &  & reference genome & 107806 & Buchnera aphidicola str. APS (Acyrthosiphon pisum) & strain=APS & Tokyo1998 & latest & Complete Genome & Major & Full & 2004/05/11 & ASM960v1 & Rikken GSC & GCA\\_000009605.1 & identical & ftp://ftp.ncbi.nlm.nih.gov/genomes/all/GCF/000/009/605/GCF\\_000009605.1\\_ASM960v1 &  &  \\\\\n",
       "\t2 & 139 & species & 0 & Borreliella burgdorferi & scientific name & Bacteria & GCF\\_000008685.2 & PRJNA57581 & SAMN02603966 &  & reference genome & 224326 & Borreliella burgdorferi B31 & strain=B31 &  & latest & Complete Genome & Major & Full & 2011/11/09 & ASM868v2 & TIGR & GCA\\_000008685.2 & identical & ftp://ftp.ncbi.nlm.nih.gov/genomes/all/GCF/000/008/685/GCF\\_000008685.2\\_ASM868v2 &  & assembly from type material \\\\\n",
       "\t3 & 158 & species & 0 & Treponema denticola & scientific name & Bacteria & GCF\\_000008185.1 & PRJNA57583 & SAMN02603967 &  & reference genome & 243275 & Treponema denticola ATCC 35405 & strain=ATCC 35405 &  & latest & Complete Genome & Major & Full & 2004/02/03 & ASM818v1 & TIGR & GCA\\_000008185.1 & identical & ftp://ftp.ncbi.nlm.nih.gov/genomes/all/GCF/000/008/185/GCF\\_000008185.1\\_ASM818v1 &  & assembly from type material \\\\\n",
       "\t4 & 173 & species & 0 & Leptospira interrogans & scientific name & Bacteria & GCF\\_000092565.1 & PRJNA57881 & SAMN02603127 &  & reference genome & 189518 & Leptospira interrogans serovar Lai str. 56601 & strain=56601 &  & latest & Complete Genome & Major & Full & 2010/04/06 & ASM9256v1 & Chinese National HGC, Shanghai & GCA\\_000092565.1 & identical & ftp://ftp.ncbi.nlm.nih.gov/genomes/all/GCF/000/092/565/GCF\\_000092565.1\\_ASM9256v1 &  &  \\\\\n",
       "\t5 & 197 & species & 0 & Campylobacter jejuni & scientific name & Bacteria & GCF\\_000009085.1 & PRJNA57587 & SAMEA1705929 &  & reference genome & 192222 & Campylobacter jejuni subsp. jejuni NCTC 11168 = ATCC 700819 & strain=NCTC 11168 &  & latest & Complete Genome & Major & Full & 2003/05/06 & ASM908v1 & Sanger Institute & GCA\\_000009085.1 & identical & ftp://ftp.ncbi.nlm.nih.gov/genomes/all/GCF/000/009/085/GCF\\_000009085.1\\_ASM908v1 &  &  \\\\\n",
       "\t6 & 210 & species & 0 & Helicobacter pylori & scientific name & Bacteria & GCF\\_000008525.1 & PRJNA57787 & SAMN02603995 &  & reference genome & 85962 & Helicobacter pylori 26695 & strain=26695 &  & latest & Complete Genome & Major & Full & 1999/12/22 & ASM852v1 & TIGR & GCA\\_000008525.1 & identical & ftp://ftp.ncbi.nlm.nih.gov/genomes/all/GCF/000/008/525/GCF\\_000008525.1\\_ASM852v1 &  &  \\\\\n",
       "\t7 & 263 & species & 0 & Francisella tularensis & scientific name & Bacteria & GCF\\_000008985.1 & PRJNA57589 & SAMEA3138185 &  & reference genome & 177416 & Francisella tularensis subsp. tularensis SCHU S4 & strain=SCHU S4 &  & latest & Complete Genome & Major & Full & 2009/06/18 & ASM898v1 & Swedish Defence Research Agency & GCA\\_000008985.1 & identical & ftp://ftp.ncbi.nlm.nih.gov/genomes/all/GCF/000/008/985/GCF\\_000008985.1\\_ASM898v1 &  &  \\\\\n",
       "\t8 & 274 & species & 0 & Thermus thermophilus & scientific name & Bacteria & GCF\\_000091545.1 & PRJNA58223 & SAMD00061070 &  & reference genome & 300852 & Thermus thermophilus HB8 & strain=HB8 &  & latest & Complete Genome & Major & Full & 2004/11/15 & ASM9154v1 & National Institute of Advanced Industrial Science and Technology, Japan & GCA\\_000091545.1 & identical & ftp://ftp.ncbi.nlm.nih.gov/genomes/all/GCF/000/091/545/GCF\\_000091545.1\\_ASM9154v1 &  & assembly from type material \\\\\n",
       "\t9 & 287 & species & 0 & Pseudomonas aeruginosa & scientific name & Bacteria & GCF\\_000006765.1 & PRJNA57945 & SAMN02603714 &  & reference genome & 208964 & Pseudomonas aeruginosa PAO1 & strain=PAO1 &  & latest & Complete Genome & Major & Full & 2006/07/07 & ASM676v1 & PathoGenesis Corporation & GCA\\_000006765.1 & identical & ftp://ftp.ncbi.nlm.nih.gov/genomes/all/GCF/000/006/765/GCF\\_000006765.1\\_ASM676v1 &  &  \\\\\n",
       "\t10 & 303 & species & 0 & Pseudomonas putida & scientific name & Bacteria & GCF\\_000007565.2 & PRJNA57843 & SAMN02603999 &  & reference genome & 160488 & Pseudomonas putida KT2440 & strain=KT2440 &  & latest & Complete Genome & Major & Full & 2016/02/26 & ASM756v2 & TIGR & GCA\\_000007565.2 & identical & ftp://ftp.ncbi.nlm.nih.gov/genomes/all/GCF/000/007/565/GCF\\_000007565.2\\_ASM756v2 &  &  \\\\\n",
       "\t11 & 317 & species & 0 & Pseudomonas syringae & scientific name & Bacteria & GCF\\_000012245.1 & PRJNA57931 & SAMN02604347 &  & reference genome & 205918 & Pseudomonas syringae pv. syringae B728a & strain=B728a &  & latest & Complete Genome & Major & Full & 2005/05/12 & ASM1224v1 & DOE Joint Genome Institute & GCA\\_000012245.1 & identical & ftp://ftp.ncbi.nlm.nih.gov/genomes/all/GCF/000/012/245/GCF\\_000012245.1\\_ASM1224v1 &  &  \\\\\n",
       "\t12 & 339 & species & 0 & Xanthomonas campestris & scientific name & Bacteria & GCF\\_000007145.1 & PRJNA57887 & SAMN02603845 &  & reference genome & 190485 & Xanthomonas campestris pv. campestris str. ATCC 33913 & strain=ATCC 33913 &  & latest & Complete Genome & Major & Full & 2002/05/24 & ASM714v1 & Sao Paulo state (Brazil) Consortium & GCA\\_000007145.1 & identical & ftp://ftp.ncbi.nlm.nih.gov/genomes/all/GCF/000/007/145/GCF\\_000007145.1\\_ASM714v1 &  & assembly from type material \\\\\n",
       "\t13 & 380 & species & 0 & Sinorhizobium fredii & scientific name & Bacteria & GCF\\_000018545.1 & PRJNA59081 & SAMN02603283 &  & reference genome & 394 & Sinorhizobium fredii NGR234 & strain=NGR234 &  & latest & Complete Genome & Major & Full & 2009/04/22 & ASM1854v1 & Goettingen Genomics Laboratory & GCA\\_000018545.1 & identical & ftp://ftp.ncbi.nlm.nih.gov/genomes/all/GCF/000/018/545/GCF\\_000018545.1\\_ASM1854v1 &  &  \\\\\n",
       "\t14 & 382 & species & 0 & Sinorhizobium meliloti & scientific name & Bacteria & GCF\\_000006965.1 & PRJNA57603 & SAMEA3283068 &  & reference genome & 266834 & Sinorhizobium meliloti 1021 & strain=1021 &  & latest & Complete Genome & Major & Full & 2003/05/06 & ASM696v1 & MELILO & GCA\\_000006965.1 & identical & ftp://ftp.ncbi.nlm.nih.gov/genomes/all/GCF/000/006/965/GCF\\_000006965.1\\_ASM696v1 &  &  \\\\\n",
       "\t15 & 446 & species & 0 & Legionella pneumophila & scientific name & Bacteria & GCF\\_000008485.1 & PRJNA57609 & SAMN02603156 &  & reference genome & 272624 & Legionella pneumophila subsp. pneumophila str. Philadelphia 1 & strain=Philadelphia 1 &  & latest & Complete Genome & Major & Full & 2004/09/24 & ASM848v1 & Columbia Genome Center & GCA\\_000008485.1 & identical & ftp://ftp.ncbi.nlm.nih.gov/genomes/all/GCF/000/008/485/GCF\\_000008485.1\\_ASM848v1 &  & assembly from type material \\\\\n",
       "\t16 & 485 & species & 0 & Neisseria gonorrhoeae & scientific name & Bacteria & GCF\\_000006845.1 & PRJNA57611 & SAMN02604088 &  & reference genome & 242231 & Neisseria gonorrhoeae FA 1090 & strain=FA 1090 &  & latest & Complete Genome & Major & Full & 2005/02/14 & ASM684v1 & Univ. Oklahoma & GCA\\_000006845.1 & identical & ftp://ftp.ncbi.nlm.nih.gov/genomes/all/GCF/000/006/845/GCF\\_000006845.1\\_ASM684v1 &  &  \\\\\n",
       "\t17 & 487 & species & 0 & Neisseria meningitidis & scientific name & Bacteria & GCF\\_000008805.1 & PRJNA57817 & SAMN02603997 &  & reference genome & 122586 & Neisseria meningitidis MC58 & strain=MC58 &  & latest & Complete Genome & Major & Full & 2005/05/26 & ASM880v1 & TIGR & GCA\\_000008805.1 & identical & ftp://ftp.ncbi.nlm.nih.gov/genomes/all/GCF/000/008/805/GCF\\_000008805.1\\_ASM880v1 &  &  \\\\\n",
       "\t18 & 518 & species & 0 & Bordetella bronchiseptica & scientific name & Bacteria & GCF\\_000318015.1 & PRJNA178913 & SAMEA2272388 &  & reference genome & 568707 & Bordetella bronchiseptica 253 & strain=253 &  & latest & Complete Genome & Major & Full & 2012/10/11 & ASM31801v1 & WTSI & GCA\\_000318015.1 & identical & ftp://ftp.ncbi.nlm.nih.gov/genomes/all/GCF/000/318/015/GCF\\_000318015.1\\_ASM31801v1 &  &  \\\\\n",
       "\t19 & 519 & species & 0 & Bordetella parapertussis & scientific name & Bacteria & GCF\\_000317935.1 & PRJEA177516 & SAMEA2272448 &  & reference genome & 1208660 & Bordetella parapertussis Bpp5 & strain=Bpp5 &  & latest & Complete Genome & Major & Full & 2012/10/08 & ASM31793v1 & WTSI & GCA\\_000317935.1 & identical & ftp://ftp.ncbi.nlm.nih.gov/genomes/all/GCF/000/317/935/GCF\\_000317935.1\\_ASM31793v1 &  &  \\\\\n",
       "\t20 & 520 & species & 0 & Bordetella pertussis & scientific name & Bacteria & GCF\\_000195715.1 & PRJNA57617 & SAMEA1705933 &  & reference genome & 257313 & Bordetella pertussis Tohama I & strain=Tohama I &  & latest & Complete Genome & Major & Full & 2003/08/12 & ASM19571v1 & Sanger Institute & GCA\\_000195715.1 & identical & ftp://ftp.ncbi.nlm.nih.gov/genomes/all/GCF/000/195/715/GCF\\_000195715.1\\_ASM19571v1 &  &  \\\\\n",
       "\t21 & 548 & species & 0 & Klebsiella aerogenes & scientific name & Bacteria & GCF\\_000215745.1 & PRJNA68103 & SAMN02603581 &  & reference genome & 1028307 & Klebsiella aerogenes KCTC 2190 & strain=KCTC 2190 &  & latest & Complete Genome & Major & Full & 2011/06/03 & ASM21574v1 & Macrogen Inc. & GCA\\_000215745.1 & identical & ftp://ftp.ncbi.nlm.nih.gov/genomes/all/GCF/000/215/745/GCF\\_000215745.1\\_ASM21574v1 &  & assembly from type material \\\\\n",
       "\t22 & 550 & species & 0 & Enterobacter cloacae & scientific name & Bacteria & GCF\\_000025565.1 & PRJNA48363 & SAMN02603901 &  & reference genome & 716541 & Enterobacter cloacae subsp. cloacae ATCC 13047 & strain=ATCC 13047 &  & latest & Complete Genome & Major & Full & 2010/04/23 & ASM2556v1 & TEDA School of Biological Sciences and Biotechnology, Nankai University & GCA\\_000025565.1 & identical & ftp://ftp.ncbi.nlm.nih.gov/genomes/all/GCF/000/025/565/GCF\\_000025565.1\\_ASM2556v1 &  & assembly from type material \\\\\n",
       "\t23 & 562 & species & 0 & Escherichia coli & scientific name & Bacteria & GCF\\_000005845.2 & PRJNA57779 & SAMN02604091 &  & reference genome & 511145 & Escherichia coli str. K-12 substr. MG1655 & strain=K-12 substr. MG1655 &  & latest & Complete Genome & Major & Full & 2013/09/26 & ASM584v2 & Univ. Wisconsin & GCA\\_000005845.2 & identical & ftp://ftp.ncbi.nlm.nih.gov/genomes/all/GCF/000/005/845/GCF\\_000005845.2\\_ASM584v2 &  &  \\\\\n",
       "\t24 & 562 & species & 0 & Escherichia coli & scientific name & Bacteria & GCF\\_000008865.2 & PRJNA57781 & SAMN01911278 &  & reference genome & 386585 & Escherichia coli O157:H7 str. Sakai & strain=Sakai substr. RIMD 0509952 &  & latest & Complete Genome & Major & Full & 2018/06/08 & ASM886v2 & GIRC & GCA\\_000008865.2 & identical & ftp://ftp.ncbi.nlm.nih.gov/genomes/all/GCF/000/008/865/GCF\\_000008865.2\\_ASM886v2 &  &  \\\\\n",
       "\t25 & 562 & species & 0 & Escherichia coli & scientific name & Bacteria & GCF\\_000026325.1 & PRJNA62981 & SAMEA3138233 &  & reference genome & 585056 & Escherichia coli UMN026 & strain=UMN026 &  & latest & Chromosome & Major & Full & 2008/12/18 & ASM2632v2 & Genoscope & GCA\\_000026325.2 & identical & ftp://ftp.ncbi.nlm.nih.gov/genomes/all/GCF/000/026/325/GCF\\_000026325.1\\_ASM2632v1 &  &  \\\\\n",
       "\t26 & 562 & species & 0 & Escherichia coli & scientific name & Bacteria & GCF\\_000026345.1 & PRJNA59381 & SAMEA3138234 &  & reference genome & 585057 & Escherichia coli IAI39 & strain=IAI39 &  & latest & Complete Genome & Major & Full & 2008/12/18 & ASM2634v1 & Genoscope & GCA\\_000026345.1 & identical & ftp://ftp.ncbi.nlm.nih.gov/genomes/all/GCF/000/026/345/GCF\\_000026345.1\\_ASM2634v1 &  &  \\\\\n",
       "\t27 & 562 & species & 0 & Escherichia coli & scientific name & Bacteria & GCF\\_000183345.1 & PRJNA161987 & SAMN02603727 &  & reference genome & 685038 & Escherichia coli O83:H1 str. NRG 857C & strain=NRG 857C &  & latest & Complete Genome & Major & Full & 2010/11/30 & ASM18334v1 & Public Health Agency of Canada Laboratory for Foodborne Zoonoses & GCA\\_000183345.1 & identical & ftp://ftp.ncbi.nlm.nih.gov/genomes/all/GCF/000/183/345/GCF\\_000183345.1\\_ASM18334v1 &  &  \\\\\n",
       "\t28 & 562 & species & 0 & Escherichia coli & scientific name & Bacteria & GCF\\_000299455.1 & PRJNA176127 & SAMN01831188 &  & reference genome & 1133852 & Escherichia coli O104:H4 str. 2011C-3493 & strain=2011C-3493 &  & latest & Complete Genome & Major & Full & 2012/09/27 & ASM29945v1 & Los Alamos National Laboratory & GCA\\_000299455.1 & identical & ftp://ftp.ncbi.nlm.nih.gov/genomes/all/GCF/000/299/455/GCF\\_000299455.1\\_ASM29945v1 &  &  \\\\\n",
       "\t29 & 573 & species & 0 & Klebsiella pneumoniae & scientific name & Bacteria & GCF\\_000240185.1 & PRJNA84387 & SAMN02602959 &  & reference genome & 1125630 & Klebsiella pneumoniae subsp. pneumoniae HS11286 & strain=HS11286 &  & latest & Complete Genome & Major & Full & 2011/12/27 & ASM24018v2 &  Bioinformatics \\& Microbial Genomics, State Key Laboratory of Microbial Metabolism, Shanghai Jiaotong University & GCA\\_000240185.2 & identical & ftp://ftp.ncbi.nlm.nih.gov/genomes/all/GCF/000/240/185/GCF\\_000240185.1\\_ASM24018v2 &  &  \\\\\n",
       "\t30 & 622 & species & 0 & Shigella dysenteriae & scientific name & Bacteria & GCF\\_000012005.1 & PRJNA58213 & SAMN02603600 &  & reference genome & 300267 & Shigella dysenteriae Sd197 & strain=Sd197 &  & latest & Complete Genome & Major & Full & 2007/04/05 & ASM1200v1 & Microbial Genome Center of ChMPH & GCA\\_000012005.1 & identical & ftp://ftp.ncbi.nlm.nih.gov/genomes/all/GCF/000/012/005/GCF\\_000012005.1\\_ASM1200v1 &  &  \\\\\n",
       "\t$\\dots$ & $\\dots$ & $\\dots$ & $\\dots$ & $\\dots$ & $\\dots$ & $\\dots$ & $\\dots$ & $\\dots$ & $\\dots$ & $\\dots$ & $\\dots$ & $\\dots$ & $\\dots$ & $\\dots$ & $\\dots$ & $\\dots$ & $\\dots$ & $\\dots$ & $\\dots$ & $\\dots$ & $\\dots$ & $\\dots$ & $\\dots$ & $\\dots$ & $\\dots$ & $\\dots$ & $\\dots$ \\\\\n",
       "\\end{tabular}\n"
      ],
      "text/plain": [
       "173×27 DataFrame. Omitted printing of 24 columns\n",
       "│ Row │ tax_id  │ rank    │ division_id │\n",
       "│     │ \u001b[90mInt64\u001b[39m   │ \u001b[90mString\u001b[39m  │ \u001b[90mInt64\u001b[39m       │\n",
       "├─────┼─────────┼─────────┼─────────────┤\n",
       "│ 1   │ 9       │ species │ 0           │\n",
       "│ 2   │ 139     │ species │ 0           │\n",
       "│ 3   │ 158     │ species │ 0           │\n",
       "│ 4   │ 173     │ species │ 0           │\n",
       "│ 5   │ 197     │ species │ 0           │\n",
       "│ 6   │ 210     │ species │ 0           │\n",
       "│ 7   │ 263     │ species │ 0           │\n",
       "│ 8   │ 274     │ species │ 0           │\n",
       "│ 9   │ 287     │ species │ 0           │\n",
       "│ 10  │ 303     │ species │ 0           │\n",
       "⋮\n",
       "│ 163 │ 861561  │ species │ 9           │\n",
       "│ 164 │ 1176649 │ species │ 0           │\n",
       "│ 165 │ 1307800 │ species │ 9           │\n",
       "│ 166 │ 1321391 │ species │ 9           │\n",
       "│ 167 │ 1335626 │ species │ 9           │\n",
       "│ 168 │ 1355477 │ species │ 0           │\n",
       "│ 169 │ 1921432 │ species │ 9           │\n",
       "│ 170 │ 1945589 │ species │ 3           │\n",
       "│ 171 │ 2003328 │ species │ 3           │\n",
       "│ 172 │ 2003329 │ species │ 3           │\n",
       "│ 173 │ 2499620 │ species │ 9           │"
      ]
     },
     "execution_count": 8,
     "metadata": {},
     "output_type": "execute_result"
    }
   ],
   "source": [
    "genome_info = join(taxonomy_info, refseq_metadata, on = (:tax_id => :species_taxid), kind=:inner)"
   ]
  },
  {
   "cell_type": "markdown",
   "metadata": {},
   "source": [
    "Visually, we can see that the `name` field from the taxonomy information only refers to the species name and the `organism_name` field from the refseq database contains species name as well as strain-level information (if available). Therefor, the quickest way to check to see if all of the names match is to see if all of the `organism_name` fields contain the `name` field as a prefix"
   ]
  },
  {
   "cell_type": "code",
   "execution_count": 9,
   "metadata": {},
   "outputs": [
    {
     "data": {
      "text/plain": [
       "173-element BitArray{1}:\n",
       "  true\n",
       "  true\n",
       "  true\n",
       "  true\n",
       "  true\n",
       "  true\n",
       "  true\n",
       "  true\n",
       "  true\n",
       "  true\n",
       "  true\n",
       "  true\n",
       "  true\n",
       "     ⋮\n",
       "  true\n",
       "  true\n",
       "  true\n",
       "  true\n",
       " false\n",
       " false\n",
       "  true\n",
       " false\n",
       " false\n",
       " false\n",
       " false\n",
       " false"
      ]
     },
     "execution_count": 9,
     "metadata": {},
     "output_type": "execute_result"
    }
   ],
   "source": [
    "startswith.(genome_info[:organism_name], genome_info[:name])"
   ]
  },
  {
   "cell_type": "markdown",
   "metadata": {},
   "source": [
    "Not every organism name is prefixed with the species name, but it looks like most organism names are prefixed by the species name. Investigating to see how many names follow the expected behavior pattern, we can simply count the number of `true`s from the previous query"
   ]
  },
  {
   "cell_type": "code",
   "execution_count": 10,
   "metadata": {},
   "outputs": [
    {
     "data": {
      "text/plain": [
       "159"
      ]
     },
     "execution_count": 10,
     "metadata": {},
     "output_type": "execute_result"
    }
   ],
   "source": [
    "count(startswith.(genome_info[:organism_name], genome_info[:name]))"
   ]
  },
  {
   "cell_type": "markdown",
   "metadata": {},
   "source": [
    "That's almost all of the rows in the table, so it should be easy to manually review the rows that don't follow the expected behavior. We can do this by finding the rows that don't follow the expected pattern and then subsetting the table to these rows"
   ]
  },
  {
   "cell_type": "code",
   "execution_count": 11,
   "metadata": {},
   "outputs": [
    {
     "data": {
      "text/html": [
       "<table class=\"data-frame\"><thead><tr><th></th><th>name</th><th>organism_name</th></tr><tr><th></th><th>String</th><th>String</th></tr></thead><tbody><p>14 rows × 2 columns</p><tr><th>1</th><td>Bacillus thuringiensis</td><td>[Bacillus thuringiensis] serovar konkukian str. 97-27</td></tr><tr><th>2</th><td>Hepacivirus C</td><td>Hepatitis C virus subtype 1a</td></tr><tr><th>3</th><td>Hepacivirus C</td><td>Hepatitis C virus QC69</td></tr><tr><th>4</th><td>Marburg marburgvirus</td><td>Marburg virus - Musoke, Kenya, 1980</td></tr><tr><th>5</th><td>Norwalk virus</td><td>Norovirus GI</td></tr><tr><th>6</th><td>Norwalk virus</td><td>Norovirus GV</td></tr><tr><th>7</th><td>Pseudomonas syringae group genomosp. 3</td><td>Pseudomonas syringae pv. tomato str. DC3000</td></tr><tr><th>8</th><td>Rodent pegivirus</td><td>Pegivirus J</td></tr><tr><th>9</th><td>Middle East respiratory syndrome-related coronavirus</td><td>Human betacoronavirus 2c EMC/2012</td></tr><tr><th>10</th><td>Panicum papanivirus 1</td><td>Panicum mosaic satellite virus</td></tr><tr><th>11</th><td>Escherichia virus alpha3</td><td>Enterobacteria phage alpha3</td></tr><tr><th>12</th><td>Chlamydia virus Chp2</td><td>Chlamydia phage 2</td></tr><tr><th>13</th><td>Chlamydia virus CPG1</td><td>Guinea pig Chlamydia phage</td></tr><tr><th>14</th><td>Alphaarterivirus equid</td><td>Equine arteritis virus</td></tr></tbody></table>"
      ],
      "text/latex": [
       "\\begin{tabular}{r|cc}\n",
       "\t& name & organism\\_name\\\\\n",
       "\t\\hline\n",
       "\t& String & String\\\\\n",
       "\t\\hline\n",
       "\t1 & Bacillus thuringiensis & [Bacillus thuringiensis] serovar konkukian str. 97-27 \\\\\n",
       "\t2 & Hepacivirus C & Hepatitis C virus subtype 1a \\\\\n",
       "\t3 & Hepacivirus C & Hepatitis C virus QC69 \\\\\n",
       "\t4 & Marburg marburgvirus & Marburg virus - Musoke, Kenya, 1980 \\\\\n",
       "\t5 & Norwalk virus & Norovirus GI \\\\\n",
       "\t6 & Norwalk virus & Norovirus GV \\\\\n",
       "\t7 & Pseudomonas syringae group genomosp. 3 & Pseudomonas syringae pv. tomato str. DC3000 \\\\\n",
       "\t8 & Rodent pegivirus & Pegivirus J \\\\\n",
       "\t9 & Middle East respiratory syndrome-related coronavirus & Human betacoronavirus 2c EMC/2012 \\\\\n",
       "\t10 & Panicum papanivirus 1 & Panicum mosaic satellite virus \\\\\n",
       "\t11 & Escherichia virus alpha3 & Enterobacteria phage alpha3 \\\\\n",
       "\t12 & Chlamydia virus Chp2 & Chlamydia phage 2 \\\\\n",
       "\t13 & Chlamydia virus CPG1 & Guinea pig Chlamydia phage \\\\\n",
       "\t14 & Alphaarterivirus equid & Equine arteritis virus \\\\\n",
       "\\end{tabular}\n"
      ],
      "text/plain": [
       "14×2 DataFrame. Omitted printing of 1 columns\n",
       "│ Row │ name                                                 │\n",
       "│     │ \u001b[90mString\u001b[39m                                               │\n",
       "├─────┼──────────────────────────────────────────────────────┤\n",
       "│ 1   │ Bacillus thuringiensis                               │\n",
       "│ 2   │ Hepacivirus C                                        │\n",
       "│ 3   │ Hepacivirus C                                        │\n",
       "│ 4   │ Marburg marburgvirus                                 │\n",
       "│ 5   │ Norwalk virus                                        │\n",
       "│ 6   │ Norwalk virus                                        │\n",
       "│ 7   │ Pseudomonas syringae group genomosp. 3               │\n",
       "│ 8   │ Rodent pegivirus                                     │\n",
       "│ 9   │ Middle East respiratory syndrome-related coronavirus │\n",
       "│ 10  │ Panicum papanivirus 1                                │\n",
       "│ 11  │ Escherichia virus alpha3                             │\n",
       "│ 12  │ Chlamydia virus Chp2                                 │\n",
       "│ 13  │ Chlamydia virus CPG1                                 │\n",
       "│ 14  │ Alphaarterivirus equid                               │"
      ]
     },
     "execution_count": 11,
     "metadata": {},
     "output_type": "execute_result"
    }
   ],
   "source": [
    "indices = findall(startswith.(genome_info[:organism_name], genome_info[:name]) .== false)\n",
    "genome_info[indices, [:name, :organism_name]]"
   ]
  },
  {
   "cell_type": "markdown",
   "metadata": {},
   "source": [
    "These naming inconsistencies seem minor and inconsequential and appear to all be synonyms, so we can continue with what we have"
   ]
  },
  {
   "cell_type": "markdown",
   "metadata": {},
   "source": [
    "The next question I am interested in is how many organisms from each taxonomic division are represented within the RefSeq reference genomes. The easiest way to ask this is to utilize the `countmap` function from the [StatsBase](https://github.com/JuliaStats/StatsBase.jl) library. We can see that the reference genome database is primarily composed of bacterial and viral genomes, with a few phages and then just 1-2 of all remaining groups."
   ]
  },
  {
   "cell_type": "code",
   "execution_count": 12,
   "metadata": {},
   "outputs": [
    {
     "data": {
      "text/plain": [
       "Dict{String,Int64} with 8 entries:\n",
       "  \"Bacteria\"         => 120\n",
       "  \"Rodents\"          => 1\n",
       "  \"Vertebrates\"      => 1\n",
       "  \"Primates\"         => 1\n",
       "  \"Invertebrates\"    => 2\n",
       "  \"Phages\"           => 5\n",
       "  \"Plants and Fungi\" => 2\n",
       "  \"Viruses\"          => 41"
      ]
     },
     "execution_count": 12,
     "metadata": {},
     "output_type": "execute_result"
    }
   ],
   "source": [
    "using StatsBase\n",
    "countmap(genome_info[:division_name])"
   ]
  },
  {
   "cell_type": "markdown",
   "metadata": {},
   "source": [
    "Finally, let's randomly sample a representative genome from each category. I'll implement a special case for `Invertebrates` and `Plants and Fungi`, where I would prefer to evaluate both organisms within each group (Invertebrates ~ C. elegans & D. melanogaster, Plants and Fungi ~ A. thaliana & S. cerevisiae)"
   ]
  },
  {
   "cell_type": "code",
   "execution_count": 13,
   "metadata": {},
   "outputs": [
    {
     "name": "stdout",
     "output_type": "stream",
     "text": [
      "Bacteria \t\tFlavobacterium psychrophilum \t\tGCF_000064305.2_ASM6430v2_genomic.fna.gz\n",
      "Plants and Fungi\t\tArabidopsis thaliana\t\tGCF_000001735.4_TAIR10.1_genomic.fna.gz\n",
      "Plants and Fungi\t\tSaccharomyces cerevisiae\t\tGCF_000146045.2_R64_genomic.fna.gz\n",
      "Invertebrates\t\tCaenorhabditis elegans\t\tGCF_000002985.6_WBcel235_genomic.fna.gz\n",
      "Invertebrates\t\tDrosophila melanogaster\t\tGCF_000001215.4_Release_6_plus_ISO1_MT_genomic.fna.gz\n",
      "Vertebrates \t\tDanio rerio \t\tGCF_000002035.6_GRCz11_genomic.fna.gz\n",
      "Primates \t\tHomo sapiens \t\tGCF_000001405.39_GRCh38.p13_genomic.fna.gz\n",
      "Rodents \t\tMus musculus \t\tGCF_000001635.26_GRCm38.p6_genomic.fna.gz\n",
      "Phages \t\tChlamydia virus Chp2 \t\tGCF_000849665.1_ViralProj14593_genomic.fna.gz\n",
      "Viruses \t\tNorwalk virus \t\tGCF_000868425.1_ViralProj17577_genomic.fna.gz\n"
     ]
    }
   ],
   "source": [
    "using Random\n",
    "Random.seed!(3)\n",
    "for division in unique(genome_info[:division_name])\n",
    "    if division == \"Plants and Fungi\" || division == \"Invertebrates\"\n",
    "        subset = genome_info[findall(genome_info[:division_name] .== division), :]\n",
    "        for row in eachrow(subset)\n",
    "            println(join([division, row[:name], basename(row[:ftp_path]) * \"_genomic.fna.gz\"], \"\\t\\t\"))\n",
    "        end\n",
    "    else\n",
    "        subset = genome_info[rand(findall(genome_info[:division_name] .== division)), :]\n",
    "        println(join([division, subset[:name], basename(subset[:ftp_path]) * \"_genomic.fna.gz\"], \" \\t\\t\"))\n",
    "    end\n",
    "end"
   ]
  },
  {
   "cell_type": "markdown",
   "metadata": {},
   "source": [
    "That's it for this post, but these genomes will be utilized in future posts!"
   ]
  }
 ],
 "metadata": {
  "kernelspec": {
   "display_name": "Julia 1.1.0",
   "language": "julia",
   "name": "julia-1.1"
  },
  "language_info": {
   "file_extension": ".jl",
   "mimetype": "application/julia",
   "name": "julia",
   "version": "1.1.0"
  }
 },
 "nbformat": 4,
 "nbformat_minor": 2
}
