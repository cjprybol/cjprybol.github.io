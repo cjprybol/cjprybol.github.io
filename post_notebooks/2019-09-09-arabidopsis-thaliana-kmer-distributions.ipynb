{
 "cells": [
  {
   "cell_type": "markdown",
   "metadata": {},
   "source": [
    "---\n",
    "layout: post  \n",
    "title: Arabidopsis thaliana Kmer Distributions  \n",
    "date: 2019-09-09  \n",
    "author: Cameron Prybol  \n",
    "\n",
    "---"
   ]
  },
  {
   "cell_type": "markdown",
   "metadata": {},
   "source": [
    "- part 1: [Selecting Genomes by Taxonomy](/selecting-genomes-by-taxonomy.html)\n",
    "- part 2: [Norwalk Virus Kmer Distributions](/norwalk-virus-kmer-distributions.html)\n",
    "- part 3: [Chlamydia Phage Chp2 Kmer Distributions](/chlamydia-phage-chp2-kmer-distributions.html)\n",
    "- part 4: [Flavobacterium psychrophilum Kmer Distributions](/flavobacterium-psychrophilum-kmer-distributions.html)\n",
    "- part 5: [Saccharomyces cerevisiae Kmer Distributions](/saccharomyces-cerevisiae-kmer-distributions.html)"
   ]
  },
  {
   "cell_type": "markdown",
   "metadata": {},
   "source": [
    "```bash\n",
    "FASTA=GCF_000001735.4_TAIR10.1_genomic.fna\n",
    "K_RANGE=\"3 5 7 11 13 17 19 23 29 31\"\n",
    "parallel jellyfish\\ count\\ --disk --canonical\\ --mer-len\\ \\{\\}\\ --threads\\ 1\\ --size\\ 100M\\ --output\\ $FASTA.K\\{\\}.jf\\ \\<\\(gzip\\ -dc\\ $FASTA.gz\\) ::: $K_RANGE\n",
    "parallel jellyfish\\ histo\\ --high\\ \\$\\(jellyfish\\ dump\\ $FASTA.K\\{\\}.jf\\ \\|\\ grep\\ \\\"\\^\\>\\\"\\ \\|\\ sed\\ \\'s/\\>//\\'\\ \\|\\ awk\\ \\'BEGIN\\{max\\=0\\}\\;\\{if\\(\\$1\\>max\\)\\ max\\=\\$1\\}\\;END\\{print\\ max\\}\\'\\)\\ $FASTA.K\\{\\}.jf\\ \\>\\ $FASTA.K\\{1\\}.jf.histogram ::: $K_RANGE\n",
    "parallel Eisenia\\ plot\\ histogram\\ --histogram\\ $FASTA.K\\{1\\}.jf.histogram ::: $K_RANGE\n",
    "mv $FASTA.K*.jf.histogram.svg ../../assets/images/\n",
    "```"
   ]
  },
  {
   "cell_type": "markdown",
   "metadata": {},
   "source": [
    "![](../assets/images/GCF_000001735.4_TAIR10.1_genomic.fna.K3.jf.histogram.svg)\n",
    "![](../assets/images/GCF_000001735.4_TAIR10.1_genomic.fna.K5.jf.histogram.svg)\n",
    "![](../assets/images/GCF_000001735.4_TAIR10.1_genomic.fna.K7.jf.histogram.svg)\n",
    "![](../assets/images/GCF_000001735.4_TAIR10.1_genomic.fna.K11.jf.histogram.svg)\n",
    "![](../assets/images/GCF_000001735.4_TAIR10.1_genomic.fna.K13.jf.histogram.svg)\n",
    "![](../assets/images/GCF_000001735.4_TAIR10.1_genomic.fna.K17.jf.histogram.svg)\n",
    "![](../assets/images/GCF_000001735.4_TAIR10.1_genomic.fna.K19.jf.histogram.svg)\n",
    "![](../assets/images/GCF_000001735.4_TAIR10.1_genomic.fna.K23.jf.histogram.svg)\n",
    "![](../assets/images/GCF_000001735.4_TAIR10.1_genomic.fna.K29.jf.histogram.svg)\n",
    "![](../assets/images/GCF_000001735.4_TAIR10.1_genomic.fna.K31.jf.histogram.svg)"
   ]
  },
  {
   "cell_type": "markdown",
   "metadata": {},
   "source": [
    "For the commonly studied model mustard plant, Arabidopsis, it appears that k >= 17 results in a stable kmer frequency relationship"
   ]
  }
 ],
 "metadata": {
  "kernelspec": {
   "display_name": "Julia 1.1.0",
   "language": "julia",
   "name": "julia-1.1"
  },
  "language_info": {
   "file_extension": ".jl",
   "mimetype": "application/julia",
   "name": "julia",
   "version": "1.1.0"
  }
 },
 "nbformat": 4,
 "nbformat_minor": 2
}
